{
 "cells": [
  {
   "cell_type": "markdown",
   "id": "1a3f3fbc",
   "metadata": {},
   "source": [
    "# PANDAS - A 'must know' library\n",
    "Pandas is a Python library that makes handling tabular data easier. Since we're doing data science - this is something we'll use from time to time!\n",
    "\n",
    "It's one of three libraries you'll encounter repeatedly in the field of data science.\n",
    "- Pandas will help you to explore, clean, and process your data. In pandas, a data table is called a DataFrame.\n",
    "\n",
    "Let us import PANDAS,"
   ]
  },
  {
   "cell_type": "markdown",
   "id": "f72e7174",
   "metadata": {},
   "source": [
    "### Operating on DATAFRAMES\n",
    "\n",
    "Let us load a different data set to carryout operations:"
   ]
  },
  {
   "cell_type": "code",
   "execution_count": 1,
   "id": "e757dff3",
   "metadata": {},
   "outputs": [],
   "source": [
    "import pandas as pd\n",
    "import matplotlib.pyplot as plt\n",
    "import seaborn as sns\n",
    "import numpy as np\n",
    "import numpy as np"
   ]
  },
  {
   "cell_type": "code",
   "execution_count": 4,
   "id": "3baffbe2",
   "metadata": {},
   "outputs": [],
   "source": [
    "df = pd.read_csv(r\"D:\\Python\\7.Pandas\\IIT-NIT\\iit.csv\")"
   ]
  },
  {
   "cell_type": "code",
   "execution_count": 5,
   "id": "5360ffca",
   "metadata": {},
   "outputs": [
    {
     "data": {
      "text/html": [
       "<div>\n",
       "<style scoped>\n",
       "    .dataframe tbody tr th:only-of-type {\n",
       "        vertical-align: middle;\n",
       "    }\n",
       "\n",
       "    .dataframe tbody tr th {\n",
       "        vertical-align: top;\n",
       "    }\n",
       "\n",
       "    .dataframe thead th {\n",
       "        text-align: right;\n",
       "    }\n",
       "</style>\n",
       "<table border=\"1\" class=\"dataframe\">\n",
       "  <thead>\n",
       "    <tr style=\"text-align: right;\">\n",
       "      <th></th>\n",
       "      <th>id</th>\n",
       "      <th>year</th>\n",
       "      <th>institute_type</th>\n",
       "      <th>round_no</th>\n",
       "      <th>quota</th>\n",
       "      <th>pool</th>\n",
       "      <th>institute_short</th>\n",
       "      <th>program_name</th>\n",
       "      <th>program_duration</th>\n",
       "      <th>degree_short</th>\n",
       "      <th>category</th>\n",
       "      <th>opening_rank</th>\n",
       "      <th>closing_rank</th>\n",
       "      <th>is_preparatory</th>\n",
       "    </tr>\n",
       "  </thead>\n",
       "  <tbody>\n",
       "    <tr>\n",
       "      <th>0</th>\n",
       "      <td>1</td>\n",
       "      <td>2016</td>\n",
       "      <td>IIT</td>\n",
       "      <td>6</td>\n",
       "      <td>AI</td>\n",
       "      <td>Gender-Neutral</td>\n",
       "      <td>IIT-Bombay</td>\n",
       "      <td>Aerospace Engineering</td>\n",
       "      <td>4 Years</td>\n",
       "      <td>B.Tech</td>\n",
       "      <td>GEN</td>\n",
       "      <td>838</td>\n",
       "      <td>1841</td>\n",
       "      <td>0</td>\n",
       "    </tr>\n",
       "    <tr>\n",
       "      <th>1</th>\n",
       "      <td>2</td>\n",
       "      <td>2016</td>\n",
       "      <td>IIT</td>\n",
       "      <td>6</td>\n",
       "      <td>AI</td>\n",
       "      <td>Gender-Neutral</td>\n",
       "      <td>IIT-Bombay</td>\n",
       "      <td>Aerospace Engineering</td>\n",
       "      <td>4 Years</td>\n",
       "      <td>B.Tech</td>\n",
       "      <td>OBC-NCL</td>\n",
       "      <td>408</td>\n",
       "      <td>1098</td>\n",
       "      <td>0</td>\n",
       "    </tr>\n",
       "    <tr>\n",
       "      <th>2</th>\n",
       "      <td>3</td>\n",
       "      <td>2016</td>\n",
       "      <td>IIT</td>\n",
       "      <td>6</td>\n",
       "      <td>AI</td>\n",
       "      <td>Gender-Neutral</td>\n",
       "      <td>IIT-Bombay</td>\n",
       "      <td>Aerospace Engineering</td>\n",
       "      <td>4 Years</td>\n",
       "      <td>B.Tech</td>\n",
       "      <td>SC</td>\n",
       "      <td>297</td>\n",
       "      <td>468</td>\n",
       "      <td>0</td>\n",
       "    </tr>\n",
       "    <tr>\n",
       "      <th>3</th>\n",
       "      <td>4</td>\n",
       "      <td>2016</td>\n",
       "      <td>IIT</td>\n",
       "      <td>6</td>\n",
       "      <td>AI</td>\n",
       "      <td>Gender-Neutral</td>\n",
       "      <td>IIT-Bombay</td>\n",
       "      <td>Aerospace Engineering</td>\n",
       "      <td>4 Years</td>\n",
       "      <td>B.Tech</td>\n",
       "      <td>ST</td>\n",
       "      <td>79</td>\n",
       "      <td>145</td>\n",
       "      <td>0</td>\n",
       "    </tr>\n",
       "    <tr>\n",
       "      <th>4</th>\n",
       "      <td>5</td>\n",
       "      <td>2016</td>\n",
       "      <td>IIT</td>\n",
       "      <td>6</td>\n",
       "      <td>AI</td>\n",
       "      <td>Gender-Neutral</td>\n",
       "      <td>IIT-Bombay</td>\n",
       "      <td>Aerospace Engineering</td>\n",
       "      <td>4 Years</td>\n",
       "      <td>B.Tech</td>\n",
       "      <td>GEN-PWD</td>\n",
       "      <td>94</td>\n",
       "      <td>94</td>\n",
       "      <td>0</td>\n",
       "    </tr>\n",
       "    <tr>\n",
       "      <th>...</th>\n",
       "      <td>...</td>\n",
       "      <td>...</td>\n",
       "      <td>...</td>\n",
       "      <td>...</td>\n",
       "      <td>...</td>\n",
       "      <td>...</td>\n",
       "      <td>...</td>\n",
       "      <td>...</td>\n",
       "      <td>...</td>\n",
       "      <td>...</td>\n",
       "      <td>...</td>\n",
       "      <td>...</td>\n",
       "      <td>...</td>\n",
       "      <td>...</td>\n",
       "    </tr>\n",
       "    <tr>\n",
       "      <th>64953</th>\n",
       "      <td>31136</td>\n",
       "      <td>2021</td>\n",
       "      <td>NIT</td>\n",
       "      <td>1</td>\n",
       "      <td>JK</td>\n",
       "      <td>Female-Only</td>\n",
       "      <td>NIT-Srinagar</td>\n",
       "      <td>Electronics and Communication Engineering</td>\n",
       "      <td>4 Years</td>\n",
       "      <td>B.Tech</td>\n",
       "      <td>SC</td>\n",
       "      <td>14185</td>\n",
       "      <td>24048</td>\n",
       "      <td>0</td>\n",
       "    </tr>\n",
       "    <tr>\n",
       "      <th>64954</th>\n",
       "      <td>31137</td>\n",
       "      <td>2021</td>\n",
       "      <td>NIT</td>\n",
       "      <td>1</td>\n",
       "      <td>JK</td>\n",
       "      <td>Gender-Neutral</td>\n",
       "      <td>NIT-Srinagar</td>\n",
       "      <td>Electronics and Communication Engineering</td>\n",
       "      <td>4 Years</td>\n",
       "      <td>B.Tech</td>\n",
       "      <td>ST</td>\n",
       "      <td>2736</td>\n",
       "      <td>4171</td>\n",
       "      <td>0</td>\n",
       "    </tr>\n",
       "    <tr>\n",
       "      <th>64955</th>\n",
       "      <td>31138</td>\n",
       "      <td>2021</td>\n",
       "      <td>NIT</td>\n",
       "      <td>1</td>\n",
       "      <td>JK</td>\n",
       "      <td>Female-Only</td>\n",
       "      <td>NIT-Srinagar</td>\n",
       "      <td>Electronics and Communication Engineering</td>\n",
       "      <td>4 Years</td>\n",
       "      <td>B.Tech</td>\n",
       "      <td>ST</td>\n",
       "      <td>10870</td>\n",
       "      <td>10870</td>\n",
       "      <td>0</td>\n",
       "    </tr>\n",
       "    <tr>\n",
       "      <th>64956</th>\n",
       "      <td>31139</td>\n",
       "      <td>2021</td>\n",
       "      <td>NIT</td>\n",
       "      <td>1</td>\n",
       "      <td>LA</td>\n",
       "      <td>Gender-Neutral</td>\n",
       "      <td>NIT-Srinagar</td>\n",
       "      <td>Electronics and Communication Engineering</td>\n",
       "      <td>4 Years</td>\n",
       "      <td>B.Tech</td>\n",
       "      <td>GEN</td>\n",
       "      <td>166453</td>\n",
       "      <td>265454</td>\n",
       "      <td>0</td>\n",
       "    </tr>\n",
       "    <tr>\n",
       "      <th>64957</th>\n",
       "      <td>31140</td>\n",
       "      <td>2021</td>\n",
       "      <td>NIT</td>\n",
       "      <td>1</td>\n",
       "      <td>LA</td>\n",
       "      <td>Female-Only</td>\n",
       "      <td>NIT-Srinagar</td>\n",
       "      <td>Electronics and Communication Engineering</td>\n",
       "      <td>4 Years</td>\n",
       "      <td>B.Tech</td>\n",
       "      <td>GEN</td>\n",
       "      <td>215054</td>\n",
       "      <td>215054</td>\n",
       "      <td>0</td>\n",
       "    </tr>\n",
       "  </tbody>\n",
       "</table>\n",
       "<p>64958 rows × 14 columns</p>\n",
       "</div>"
      ],
      "text/plain": [
       "          id  year institute_type  round_no quota            pool  \\\n",
       "0          1  2016            IIT         6    AI  Gender-Neutral   \n",
       "1          2  2016            IIT         6    AI  Gender-Neutral   \n",
       "2          3  2016            IIT         6    AI  Gender-Neutral   \n",
       "3          4  2016            IIT         6    AI  Gender-Neutral   \n",
       "4          5  2016            IIT         6    AI  Gender-Neutral   \n",
       "...      ...   ...            ...       ...   ...             ...   \n",
       "64953  31136  2021            NIT         1    JK     Female-Only   \n",
       "64954  31137  2021            NIT         1    JK  Gender-Neutral   \n",
       "64955  31138  2021            NIT         1    JK     Female-Only   \n",
       "64956  31139  2021            NIT         1    LA  Gender-Neutral   \n",
       "64957  31140  2021            NIT         1    LA     Female-Only   \n",
       "\n",
       "      institute_short                               program_name  \\\n",
       "0          IIT-Bombay                      Aerospace Engineering   \n",
       "1          IIT-Bombay                      Aerospace Engineering   \n",
       "2          IIT-Bombay                      Aerospace Engineering   \n",
       "3          IIT-Bombay                      Aerospace Engineering   \n",
       "4          IIT-Bombay                      Aerospace Engineering   \n",
       "...               ...                                        ...   \n",
       "64953    NIT-Srinagar  Electronics and Communication Engineering   \n",
       "64954    NIT-Srinagar  Electronics and Communication Engineering   \n",
       "64955    NIT-Srinagar  Electronics and Communication Engineering   \n",
       "64956    NIT-Srinagar  Electronics and Communication Engineering   \n",
       "64957    NIT-Srinagar  Electronics and Communication Engineering   \n",
       "\n",
       "      program_duration degree_short category  opening_rank  closing_rank  \\\n",
       "0              4 Years       B.Tech      GEN           838          1841   \n",
       "1              4 Years       B.Tech  OBC-NCL           408          1098   \n",
       "2              4 Years       B.Tech       SC           297           468   \n",
       "3              4 Years       B.Tech       ST            79           145   \n",
       "4              4 Years       B.Tech  GEN-PWD            94            94   \n",
       "...                ...          ...      ...           ...           ...   \n",
       "64953          4 Years       B.Tech       SC         14185         24048   \n",
       "64954          4 Years       B.Tech       ST          2736          4171   \n",
       "64955          4 Years       B.Tech       ST         10870         10870   \n",
       "64956          4 Years       B.Tech      GEN        166453        265454   \n",
       "64957          4 Years       B.Tech      GEN        215054        215054   \n",
       "\n",
       "       is_preparatory  \n",
       "0                   0  \n",
       "1                   0  \n",
       "2                   0  \n",
       "3                   0  \n",
       "4                   0  \n",
       "...               ...  \n",
       "64953               0  \n",
       "64954               0  \n",
       "64955               0  \n",
       "64956               0  \n",
       "64957               0  \n",
       "\n",
       "[64958 rows x 14 columns]"
      ]
     },
     "execution_count": 5,
     "metadata": {},
     "output_type": "execute_result"
    }
   ],
   "source": [
    "# Set display options to show all rows and columns\n",
    "#pd.set_option('display.max_rows', None)\n",
    "#pd.set_option('display.max_columns', None)\n",
    "df"
   ]
  },
  {
   "cell_type": "code",
   "execution_count": 6,
   "id": "b0a53667",
   "metadata": {
    "scrolled": true
   },
   "outputs": [
    {
     "data": {
      "text/html": [
       "<div>\n",
       "<style scoped>\n",
       "    .dataframe tbody tr th:only-of-type {\n",
       "        vertical-align: middle;\n",
       "    }\n",
       "\n",
       "    .dataframe tbody tr th {\n",
       "        vertical-align: top;\n",
       "    }\n",
       "\n",
       "    .dataframe thead th {\n",
       "        text-align: right;\n",
       "    }\n",
       "</style>\n",
       "<table border=\"1\" class=\"dataframe\">\n",
       "  <thead>\n",
       "    <tr style=\"text-align: right;\">\n",
       "      <th></th>\n",
       "      <th>id</th>\n",
       "      <th>year</th>\n",
       "      <th>institute_type</th>\n",
       "      <th>round_no</th>\n",
       "      <th>quota</th>\n",
       "      <th>pool</th>\n",
       "      <th>institute_short</th>\n",
       "      <th>program_name</th>\n",
       "      <th>program_duration</th>\n",
       "      <th>degree_short</th>\n",
       "      <th>category</th>\n",
       "      <th>opening_rank</th>\n",
       "      <th>closing_rank</th>\n",
       "      <th>is_preparatory</th>\n",
       "    </tr>\n",
       "  </thead>\n",
       "  <tbody>\n",
       "    <tr>\n",
       "      <th>0</th>\n",
       "      <td>1</td>\n",
       "      <td>2016</td>\n",
       "      <td>IIT</td>\n",
       "      <td>6</td>\n",
       "      <td>AI</td>\n",
       "      <td>Gender-Neutral</td>\n",
       "      <td>IIT-Bombay</td>\n",
       "      <td>Aerospace Engineering</td>\n",
       "      <td>4 Years</td>\n",
       "      <td>B.Tech</td>\n",
       "      <td>GEN</td>\n",
       "      <td>838</td>\n",
       "      <td>1841</td>\n",
       "      <td>0</td>\n",
       "    </tr>\n",
       "    <tr>\n",
       "      <th>1</th>\n",
       "      <td>2</td>\n",
       "      <td>2016</td>\n",
       "      <td>IIT</td>\n",
       "      <td>6</td>\n",
       "      <td>AI</td>\n",
       "      <td>Gender-Neutral</td>\n",
       "      <td>IIT-Bombay</td>\n",
       "      <td>Aerospace Engineering</td>\n",
       "      <td>4 Years</td>\n",
       "      <td>B.Tech</td>\n",
       "      <td>OBC-NCL</td>\n",
       "      <td>408</td>\n",
       "      <td>1098</td>\n",
       "      <td>0</td>\n",
       "    </tr>\n",
       "    <tr>\n",
       "      <th>2</th>\n",
       "      <td>3</td>\n",
       "      <td>2016</td>\n",
       "      <td>IIT</td>\n",
       "      <td>6</td>\n",
       "      <td>AI</td>\n",
       "      <td>Gender-Neutral</td>\n",
       "      <td>IIT-Bombay</td>\n",
       "      <td>Aerospace Engineering</td>\n",
       "      <td>4 Years</td>\n",
       "      <td>B.Tech</td>\n",
       "      <td>SC</td>\n",
       "      <td>297</td>\n",
       "      <td>468</td>\n",
       "      <td>0</td>\n",
       "    </tr>\n",
       "    <tr>\n",
       "      <th>3</th>\n",
       "      <td>4</td>\n",
       "      <td>2016</td>\n",
       "      <td>IIT</td>\n",
       "      <td>6</td>\n",
       "      <td>AI</td>\n",
       "      <td>Gender-Neutral</td>\n",
       "      <td>IIT-Bombay</td>\n",
       "      <td>Aerospace Engineering</td>\n",
       "      <td>4 Years</td>\n",
       "      <td>B.Tech</td>\n",
       "      <td>ST</td>\n",
       "      <td>79</td>\n",
       "      <td>145</td>\n",
       "      <td>0</td>\n",
       "    </tr>\n",
       "    <tr>\n",
       "      <th>4</th>\n",
       "      <td>5</td>\n",
       "      <td>2016</td>\n",
       "      <td>IIT</td>\n",
       "      <td>6</td>\n",
       "      <td>AI</td>\n",
       "      <td>Gender-Neutral</td>\n",
       "      <td>IIT-Bombay</td>\n",
       "      <td>Aerospace Engineering</td>\n",
       "      <td>4 Years</td>\n",
       "      <td>B.Tech</td>\n",
       "      <td>GEN-PWD</td>\n",
       "      <td>94</td>\n",
       "      <td>94</td>\n",
       "      <td>0</td>\n",
       "    </tr>\n",
       "  </tbody>\n",
       "</table>\n",
       "</div>"
      ],
      "text/plain": [
       "   id  year institute_type  round_no quota            pool institute_short  \\\n",
       "0   1  2016            IIT         6    AI  Gender-Neutral      IIT-Bombay   \n",
       "1   2  2016            IIT         6    AI  Gender-Neutral      IIT-Bombay   \n",
       "2   3  2016            IIT         6    AI  Gender-Neutral      IIT-Bombay   \n",
       "3   4  2016            IIT         6    AI  Gender-Neutral      IIT-Bombay   \n",
       "4   5  2016            IIT         6    AI  Gender-Neutral      IIT-Bombay   \n",
       "\n",
       "            program_name program_duration degree_short category  opening_rank  \\\n",
       "0  Aerospace Engineering          4 Years       B.Tech      GEN           838   \n",
       "1  Aerospace Engineering          4 Years       B.Tech  OBC-NCL           408   \n",
       "2  Aerospace Engineering          4 Years       B.Tech       SC           297   \n",
       "3  Aerospace Engineering          4 Years       B.Tech       ST            79   \n",
       "4  Aerospace Engineering          4 Years       B.Tech  GEN-PWD            94   \n",
       "\n",
       "   closing_rank  is_preparatory  \n",
       "0          1841               0  \n",
       "1          1098               0  \n",
       "2           468               0  \n",
       "3           145               0  \n",
       "4            94               0  "
      ]
     },
     "execution_count": 6,
     "metadata": {},
     "output_type": "execute_result"
    }
   ],
   "source": [
    "# 'pandas.DataFrame.head' to look at the top rows of the data\n",
    "df.head(n=5)\n",
    "#df.tail(n=5)"
   ]
  },
  {
   "cell_type": "code",
   "execution_count": 7,
   "id": "306a67b1",
   "metadata": {},
   "outputs": [
    {
     "name": "stdout",
     "output_type": "stream",
     "text": [
      "(64958, 14)\n",
      "The number of rows :  64958\n"
     ]
    }
   ],
   "source": [
    "# 'pandas.DataFrame.shape' to Return a tuple representing the dimensionality of the DataFrame.\n",
    "print(df.shape)\n",
    "\n",
    "#print('The total \"size\" of the data frame is the rows * columns i.e., ', df.size)\n",
    "print('The number of rows : ', len(df))"
   ]
  },
  {
   "cell_type": "code",
   "execution_count": 8,
   "id": "b3273c94",
   "metadata": {},
   "outputs": [
    {
     "data": {
      "text/plain": [
       "Index(['id', 'year', 'institute_type', 'round_no', 'quota', 'pool',\n",
       "       'institute_short', 'program_name', 'program_duration', 'degree_short',\n",
       "       'category', 'opening_rank', 'closing_rank', 'is_preparatory'],\n",
       "      dtype='object')"
      ]
     },
     "execution_count": 8,
     "metadata": {},
     "output_type": "execute_result"
    }
   ],
   "source": [
    "df.columns"
   ]
  },
  {
   "cell_type": "code",
   "execution_count": 24,
   "id": "20e7c9d2",
   "metadata": {},
   "outputs": [
    {
     "data": {
      "text/plain": [
       "Index(['id', 'year', 'institute_type'], dtype='object')"
      ]
     },
     "execution_count": 24,
     "metadata": {},
     "output_type": "execute_result"
    }
   ],
   "source": [
    "df.columns[:3]"
   ]
  },
  {
   "cell_type": "code",
   "execution_count": 9,
   "id": "37f328cf",
   "metadata": {},
   "outputs": [
    {
     "data": {
      "text/plain": [
       "id                   int64\n",
       "year                 int64\n",
       "institute_type      object\n",
       "round_no             int64\n",
       "quota               object\n",
       "pool                object\n",
       "institute_short     object\n",
       "program_name        object\n",
       "program_duration    object\n",
       "degree_short        object\n",
       "category            object\n",
       "opening_rank         int64\n",
       "closing_rank         int64\n",
       "is_preparatory       int64\n",
       "dtype: object"
      ]
     },
     "execution_count": 9,
     "metadata": {},
     "output_type": "execute_result"
    }
   ],
   "source": [
    "df.dtypes"
   ]
  },
  {
   "cell_type": "code",
   "execution_count": 21,
   "id": "444e62e9",
   "metadata": {},
   "outputs": [
    {
     "data": {
      "text/html": [
       "<div>\n",
       "<style scoped>\n",
       "    .dataframe tbody tr th:only-of-type {\n",
       "        vertical-align: middle;\n",
       "    }\n",
       "\n",
       "    .dataframe tbody tr th {\n",
       "        vertical-align: top;\n",
       "    }\n",
       "\n",
       "    .dataframe thead th {\n",
       "        text-align: right;\n",
       "    }\n",
       "</style>\n",
       "<table border=\"1\" class=\"dataframe\">\n",
       "  <thead>\n",
       "    <tr style=\"text-align: right;\">\n",
       "      <th></th>\n",
       "      <th>id</th>\n",
       "      <th>year</th>\n",
       "      <th>round_no</th>\n",
       "      <th>opening_rank</th>\n",
       "      <th>closing_rank</th>\n",
       "      <th>is_preparatory</th>\n",
       "    </tr>\n",
       "  </thead>\n",
       "  <tbody>\n",
       "    <tr>\n",
       "      <th>count</th>\n",
       "      <td>64958.000000</td>\n",
       "      <td>64958.000000</td>\n",
       "      <td>64958.000000</td>\n",
       "      <td>6.495800e+04</td>\n",
       "      <td>6.495800e+04</td>\n",
       "      <td>64958.000000</td>\n",
       "    </tr>\n",
       "    <tr>\n",
       "      <th>mean</th>\n",
       "      <td>18171.173389</td>\n",
       "      <td>2020.421580</td>\n",
       "      <td>2.609348</td>\n",
       "      <td>8.259642e+03</td>\n",
       "      <td>1.070497e+04</td>\n",
       "      <td>0.047631</td>\n",
       "    </tr>\n",
       "    <tr>\n",
       "      <th>std</th>\n",
       "      <td>9619.123659</td>\n",
       "      <td>1.149762</td>\n",
       "      <td>2.422558</td>\n",
       "      <td>2.679448e+04</td>\n",
       "      <td>3.788101e+04</td>\n",
       "      <td>0.212985</td>\n",
       "    </tr>\n",
       "    <tr>\n",
       "      <th>min</th>\n",
       "      <td>1.000000</td>\n",
       "      <td>2016.000000</td>\n",
       "      <td>1.000000</td>\n",
       "      <td>0.000000e+00</td>\n",
       "      <td>0.000000e+00</td>\n",
       "      <td>0.000000</td>\n",
       "    </tr>\n",
       "    <tr>\n",
       "      <th>25%</th>\n",
       "      <td>10378.000000</td>\n",
       "      <td>2020.000000</td>\n",
       "      <td>1.000000</td>\n",
       "      <td>6.710000e+02</td>\n",
       "      <td>8.320000e+02</td>\n",
       "      <td>0.000000</td>\n",
       "    </tr>\n",
       "    <tr>\n",
       "      <th>50%</th>\n",
       "      <td>13084.500000</td>\n",
       "      <td>2021.000000</td>\n",
       "      <td>1.000000</td>\n",
       "      <td>2.309000e+03</td>\n",
       "      <td>2.764500e+03</td>\n",
       "      <td>0.000000</td>\n",
       "    </tr>\n",
       "    <tr>\n",
       "      <th>75%</th>\n",
       "      <td>28434.000000</td>\n",
       "      <td>2021.000000</td>\n",
       "      <td>6.000000</td>\n",
       "      <td>6.932000e+03</td>\n",
       "      <td>8.190000e+03</td>\n",
       "      <td>0.000000</td>\n",
       "    </tr>\n",
       "    <tr>\n",
       "      <th>max</th>\n",
       "      <td>31140.000000</td>\n",
       "      <td>2021.000000</td>\n",
       "      <td>7.000000</td>\n",
       "      <td>1.082601e+06</td>\n",
       "      <td>1.144790e+06</td>\n",
       "      <td>1.000000</td>\n",
       "    </tr>\n",
       "  </tbody>\n",
       "</table>\n",
       "</div>"
      ],
      "text/plain": [
       "                 id          year      round_no  opening_rank  closing_rank  \\\n",
       "count  64958.000000  64958.000000  64958.000000  6.495800e+04  6.495800e+04   \n",
       "mean   18171.173389   2020.421580      2.609348  8.259642e+03  1.070497e+04   \n",
       "std     9619.123659      1.149762      2.422558  2.679448e+04  3.788101e+04   \n",
       "min        1.000000   2016.000000      1.000000  0.000000e+00  0.000000e+00   \n",
       "25%    10378.000000   2020.000000      1.000000  6.710000e+02  8.320000e+02   \n",
       "50%    13084.500000   2021.000000      1.000000  2.309000e+03  2.764500e+03   \n",
       "75%    28434.000000   2021.000000      6.000000  6.932000e+03  8.190000e+03   \n",
       "max    31140.000000   2021.000000      7.000000  1.082601e+06  1.144790e+06   \n",
       "\n",
       "       is_preparatory  \n",
       "count    64958.000000  \n",
       "mean         0.047631  \n",
       "std          0.212985  \n",
       "min          0.000000  \n",
       "25%          0.000000  \n",
       "50%          0.000000  \n",
       "75%          0.000000  \n",
       "max          1.000000  "
      ]
     },
     "execution_count": 21,
     "metadata": {},
     "output_type": "execute_result"
    }
   ],
   "source": [
    "#Generate descriptive statistics.\n",
    "df.describe()"
   ]
  },
  {
   "cell_type": "code",
   "execution_count": 22,
   "metadata": {},
   "outputs": [
    {
     "name": "stdout",
     "output_type": "stream",
     "text": [
      "<class 'pandas.core.frame.DataFrame'>\n",
      "RangeIndex: 64958 entries, 0 to 64957\n",
      "Data columns (total 14 columns):\n",
      " #   Column            Non-Null Count  Dtype \n",
      "---  ------            --------------  ----- \n",
      " 0   id                64958 non-null  int64 \n",
      " 1   year              64958 non-null  int64 \n",
      " 2   institute_type    64958 non-null  object\n",
      " 3   round_no          64958 non-null  int64 \n",
      " 4   quota             64958 non-null  object\n",
      " 5   pool              64958 non-null  object\n",
      " 6   institute_short   64958 non-null  object\n",
      " 7   program_name      64958 non-null  object\n",
      " 8   program_duration  64958 non-null  object\n",
      " 9   degree_short      64958 non-null  object\n",
      " 10  category          64958 non-null  object\n",
      " 11  opening_rank      64958 non-null  int64 \n",
      " 12  closing_rank      64958 non-null  int64 \n",
      " 13  is_preparatory    64958 non-null  int64 \n",
      "dtypes: int64(6), object(8)\n",
      "memory usage: 6.9+ MB\n"
     ]
    }
   ],
   "source": [
    "df.info()"
   ]
  },
  {
   "cell_type": "markdown",
   "id": "b6fe6113",
   "metadata": {},
   "source": [
    "### **Data Cleaning**"
   ]
  },
  {
   "cell_type": "code",
   "execution_count": 12,
   "id": "f7a85802",
   "metadata": {},
   "outputs": [
    {
     "data": {
      "text/plain": [
       "ID                  0\n",
       "year                0\n",
       "institute_type      0\n",
       "round_no            0\n",
       "quota               0\n",
       "pool                0\n",
       "institute_short     0\n",
       "program_name        0\n",
       "program_duration    0\n",
       "degree_short        0\n",
       "category            0\n",
       "opening_rank        0\n",
       "closing_rank        0\n",
       "is_preparatory      0\n",
       "dtype: int64"
      ]
     },
     "execution_count": 12,
     "metadata": {},
     "output_type": "execute_result"
    }
   ],
   "source": [
    "df.isnull().sum()"
   ]
  },
  {
   "cell_type": "code",
   "execution_count": 13,
   "id": "e6f22084",
   "metadata": {},
   "outputs": [
    {
     "data": {
      "text/plain": [
       "39500"
      ]
     },
     "execution_count": 13,
     "metadata": {},
     "output_type": "execute_result"
    }
   ],
   "source": [
    "df.duplicated().sum()"
   ]
  },
  {
   "cell_type": "code",
   "execution_count": 14,
   "id": "1d65b96c",
   "metadata": {},
   "outputs": [],
   "source": [
    "df = df.drop_duplicates()"
   ]
  },
  {
   "cell_type": "markdown",
   "id": "ee31edb9",
   "metadata": {},
   "source": [
    "### **Data Exploration**"
   ]
  },
  {
   "cell_type": "code",
   "execution_count": 15,
   "metadata": {},
   "outputs": [
    {
     "name": "stdout",
     "output_type": "stream",
     "text": [
      "Unique values in ID: [    1     2     3 ... 31138 31139 31140]\n",
      "Unique values in year: [2016 2017 2018 2019 2020 2021]\n",
      "Unique values in institute_type: ['IIT' 'NIT']\n",
      "Unique values in round_no: [6 7 1 2]\n",
      "Unique values in quota: ['AI' 'HS' 'OS' 'AP' 'GO' 'JK' 'LA']\n",
      "Unique values in pool: ['Gender-Neutral' 'Female-Only']\n",
      "Unique values in institute_short: ['IIT-Bombay' 'IIT-Delhi' 'IIT-Kharagpur' 'IIT-Kanpur' 'IIT-Madras'\n",
      " 'IIT-Roorkee' 'IIT-Guwahati' 'IIT-Indore' 'IIT-Hyderabad'\n",
      " 'IIT-(BHU) Varanasi' 'IIT-Patna' 'IIT-(ISM) Dhanbad' 'IIT-Bhubaneswar'\n",
      " 'IIT-Mandi' 'IIT-Gandhinagar' 'IIT-Ropar' 'IIT-Jodhpur' 'IIT-Tirupati'\n",
      " 'IIT-Bhilai' 'IIT-Dharwad' 'IIT-Goa' 'IIT-Jammu' 'IIT-Palakkad'\n",
      " 'NIT-Warangal' 'NIT-Tiruchirappalli' 'NIT-Uttarakhand' 'NIT-Surat'\n",
      " 'NIT-Nagpur' 'NIT-Andhra-Pradesh' 'NIT-Jalandhar' 'NIT-Jaipur'\n",
      " 'NIT-Bhopal' 'NIT-Allahabad' 'NIT-Calicut' 'NIT-Agartala' 'NIT-Delhi'\n",
      " 'NIT-Durgapur' 'NIT-Goa' 'NIT-Hamirpur' 'NIT-Meghalaya'\n",
      " 'NIT-Karnataka-Surathkal' 'NIT-Patna' 'NIT-Nagaland' 'NIT-Puducherry'\n",
      " 'NIT-Raipur' 'NIT-Sikkim' 'NIT-Arunachal-Pradesh' 'NIT-Jamshedpur'\n",
      " 'NIT-Kurukshetra' 'NIT-Manipur' 'NIT-Mizoram' 'NIT-Rourkela'\n",
      " 'NIT-Silchar' 'NIT-Srinagar']\n",
      "Unique values in program_name: ['Aerospace Engineering' 'Chemical Engineering' 'Chemistry'\n",
      " 'Civil Engineering' 'Computer Science and Engineering'\n",
      " 'Electrical Engineering'\n",
      " 'Electrical Engineering with M.Tech. in Communications and Signal Processing'\n",
      " 'Electrical Engineering with M.Tech. in Microelectronics'\n",
      " 'Energy Engineering with M.Tech. in Energy Systems Engineering'\n",
      " 'Engineering Physics'\n",
      " 'Engineering Physics and M.Tech. with specialization in Nano Science'\n",
      " 'Mechanical Engineering'\n",
      " 'Mechanical Engineering and M.Tech. in Computer Integrated Manufacturing'\n",
      " 'Metallurgical Engineering and Materials Science'\n",
      " 'Metallurgical Engineering and Materials Science with M.Tech. in Ceramics and Composites'\n",
      " 'Metallurgical Engineering and Materials Science with M.Tech. in Metallurgical Process Engineering'\n",
      " 'Biochemical Engineering and Biotechnology'\n",
      " 'Biotechnology and Biochemical Engineering'\n",
      " 'Electrical Engineering - Power and Automation'\n",
      " 'Mathematics and Computing' 'Production and Industrial Engineering'\n",
      " 'Textile Technology' 'Agricultural and Food Engineering'\n",
      " 'Agricultural and Food Engineering with M.Tech. in any of the listed specializations'\n",
      " 'Applied Geology' 'Architecture'\n",
      " 'Civil Engineering with any of the listed specialization' 'Economics'\n",
      " 'Electrical Engineering with M.Tech. in any of the listed specializations'\n",
      " 'Electronics and Electrical Communication Engineering'\n",
      " 'Electronics and Electrical Communication Engineering with M.Tech. in any of the listed specializations'\n",
      " 'Exploration Geophysics' 'Industrial and Systems Engineering'\n",
      " 'Industrial and Systems Engineering with M.Tech. in Industrial and Systems Engineering and Management'\n",
      " 'Instrumentation Engineering' 'Manufacturing Science and Engineering'\n",
      " 'Mining Engineering'\n",
      " 'Manufacturing Science and Engineering with M.Tech. in Industrial and Systems Engineering and Management'\n",
      " 'Mechanical Engineering with M.Tech. in any of the listed specializations'\n",
      " 'Metallurgical and Materials Engineering' 'Mining Safety Engineering'\n",
      " 'Ocean Engineering and Naval Architecture' 'Physics'\n",
      " 'Quality Engineering Design and Manufacturing'\n",
      " 'Biological Sciences and Bioengineering' 'Earth Sciences'\n",
      " 'Materials Science and Engineering'\n",
      " 'Mathematics and Scientific Computing' 'Biological Engineering'\n",
      " 'Biological Sciences' 'Engineering Design'\n",
      " 'Naval Architecture and Ocean Engineering' 'Applied Mathematics'\n",
      " 'Bio Technology' 'Electronics and Communication Engineering'\n",
      " 'Geological Technology' 'Geophysical Technology'\n",
      " 'Polymer Science and Engineering' 'Chemical Science and Technology'\n",
      " 'Electronics and Electrical Engineering' 'Engineering Science'\n",
      " 'Materials Science and Metallurgical Engineering'\n",
      " 'Biochemical Engineering with M.Tech. in Biochemical Engineering and Biotechnology'\n",
      " 'Bioengineering with M.Tech in Biomedical Technology'\n",
      " 'Ceramic Engineering'\n",
      " 'Civil Engineering with M.Tech. in Structural Engineering'\n",
      " 'Electrical Engineering with M.Tech. in Power Electronics'\n",
      " 'Electronics Engineering' 'Industrial Chemistry'\n",
      " 'Materials Science and Technology' 'Metallurgical Engineering'\n",
      " 'Pharmaceutics' 'Applied Geophysics'\n",
      " 'Electronics and Instrumentation Engineering' 'Environmental Engineering'\n",
      " 'Mineral Engineering' 'Mining Machinery Engineering'\n",
      " 'Petroleum Engineering'\n",
      " 'Civil Engineering and M. Tech. in Structural Engineering'\n",
      " 'Civil Engineering and M.Tech in Transportation Engineering'\n",
      " 'Mechanical Engineering and M. Tech. in Mechanical System Design'\n",
      " 'Mechanical Engineering and M. Tech. in Thermal Science & Engineering'\n",
      " 'Pharmaceutical Engineering & Technology'\n",
      " 'Civil Engineering and M.Tech. in Environmental Engineering'\n",
      " 'Electrical Engineering and M.Tech Power Electronics and Drives'\n",
      " 'Mechanical Engineering with M.Tech. in Manufacturing Engineering'\n",
      " 'Metallurgical and Materials Engineering and M.Tech. in Materials Science and Engineering'\n",
      " 'BS in Mathematics' 'Environmental Science and Engineering'\n",
      " 'Mechanical Engineering and M.Tech. in Computer IntegratedManufacturing'\n",
      " 'Metallurgical Engineering & Materials Science'\n",
      " 'Agricultural and Food Engineering with M.Tech. in any of the listedspecializations'\n",
      " 'Electronics and Electrical Communication Engineering with M.Tech. in anyof the listed specializations'\n",
      " 'Industrial and Systems Engineering with M.Tech. in Industrial and SystemsEngineering and Management'\n",
      " 'Manufacturing Science and Engineering with M.Tech. in Industrial andSystems Engineering and Management'\n",
      " 'Artificial Intelligence'\n",
      " 'Biochemical Engineering with M.Tech. in Biochemical Engineering andBiotechnology'\n",
      " 'Data Science and Engineering' 'Bio Engineering'\n",
      " 'Electrical and Electronics Engineering'\n",
      " 'Electrical Engineering in Power and Automation'\n",
      " 'Engineering and Computational Mechanics' 'Materials Engineering'\n",
      " 'Biomedical Engineering' 'Artificial Intelligence and Data Science'\n",
      " 'Civil and Infrastructure Engineering'\n",
      " 'Mineral and Metallurgical Engineering' 'Biosciences and Bioengineering'\n",
      " 'Data Science and Artificial Intelligence' 'Energy Engineering'\n",
      " 'Statistics and Data Science' 'Chemical Sciences'\n",
      " 'Mathematics & Computing' 'Biotechnology and Bioinformatics'\n",
      " 'Computational Engineering' 'Instrumentation and Control Engineering'\n",
      " 'Production Engineering' 'Computer Engineering' 'Mathematics'\n",
      " 'Information Technology' 'Industrial and Production Engineering'\n",
      " 'Planning' 'Biotechnology' 'Bio Medical Engineering' 'Industrial Design'\n",
      " 'Food Process Engineering'\n",
      " 'Ceramic Engineering and M.Tech Industrial Ceramic' 'Life Science'\n",
      " 'Mathematics and Data Science' 'Computational Mathematics']\n",
      "Unique values in program_duration: ['4 Years' '5 Years']\n",
      "Unique values in degree_short: ['B.Tech' 'BSc' 'B.Tech + M.Tech (IDD)' 'Int MSc.' 'B.Arch' 'Int M.Tech'\n",
      " 'B.Pharm' 'B.Pharm + M.Pharm' 'BS + MS (IDD)' 'Int Msc.' 'B.Plan'\n",
      " 'Btech + M.Tech (IDD)' 'BSc + MSc (IDD)']\n",
      "Unique values in category: ['GEN' 'OBC-NCL' 'SC' 'ST' 'GEN-PWD' 'OBC-NCL-PWD' 'SC-PWD' 'ST-PWD'\n",
      " 'GEN-EWS' 'GEN-EWS-PWD']\n",
      "Unique values in opening_rank: [   838    408    297 ...  10870 166453 215054]\n",
      "Unique values in closing_rank: [  1841   1098    468 ...  10870 265454 215054]\n",
      "Unique values in is_preparatory: [0 1]\n"
     ]
    }
   ],
   "source": [
    "# Display unique values in each column\n",
    "for column in df.columns:\n",
    "    print(f\"Unique values in {column}: {df[column].unique()}\")"
   ]
  },
  {
   "cell_type": "code",
   "execution_count": 16,
   "metadata": {},
   "outputs": [
    {
     "name": "stdout",
     "output_type": "stream",
     "text": [
      "Count of unique values in ID: 25458\n",
      "Count of unique values in year: 6\n",
      "Count of unique values in institute_type: 2\n",
      "Count of unique values in round_no: 4\n",
      "Count of unique values in quota: 7\n",
      "Count of unique values in pool: 2\n",
      "Count of unique values in institute_short: 54\n",
      "Count of unique values in program_name: 130\n",
      "Count of unique values in program_duration: 2\n",
      "Count of unique values in degree_short: 13\n",
      "Count of unique values in category: 10\n",
      "Count of unique values in opening_rank: 10984\n",
      "Count of unique values in closing_rank: 11940\n",
      "Count of unique values in is_preparatory: 2\n"
     ]
    }
   ],
   "source": [
    "# Display the count of unique values in each column\n",
    "for column in df.columns:\n",
    "    print(f\"Count of unique values in {column}: {df[column].nunique()}\")\n"
   ]
  },
  {
   "cell_type": "code",
   "execution_count": 10,
   "id": "c07fa9d8",
   "metadata": {},
   "outputs": [],
   "source": [
    "# Changing the name of the column\n",
    "df.rename(columns={'id': 'ID'}, inplace=True)"
   ]
  },
  {
   "cell_type": "code",
   "execution_count": 17,
   "id": "fee6db72",
   "metadata": {},
   "outputs": [
    {
     "name": "stdout",
     "output_type": "stream",
     "text": [
      "['IIT' 'NIT']\n",
      "institute_type\n",
      "IIT    13155\n",
      "NIT    12303\n",
      "Name: count, dtype: int64\n",
      "2\n"
     ]
    }
   ],
   "source": [
    "#unique values in a column\n",
    "print(df.institute_type.unique())\n",
    "print(df.institute_type.value_counts())\n",
    "print(df['institute_type'].nunique())\n"
   ]
  },
  {
   "cell_type": "markdown",
   "id": "d209f96f",
   "metadata": {},
   "source": [
    "##### Access the data in Dataframe"
   ]
  },
  {
   "cell_type": "code",
   "execution_count": 18,
   "id": "eea098f2",
   "metadata": {
    "scrolled": false
   },
   "outputs": [
    {
     "data": {
      "text/html": [
       "<div>\n",
       "<style scoped>\n",
       "    .dataframe tbody tr th:only-of-type {\n",
       "        vertical-align: middle;\n",
       "    }\n",
       "\n",
       "    .dataframe tbody tr th {\n",
       "        vertical-align: top;\n",
       "    }\n",
       "\n",
       "    .dataframe thead th {\n",
       "        text-align: right;\n",
       "    }\n",
       "</style>\n",
       "<table border=\"1\" class=\"dataframe\">\n",
       "  <thead>\n",
       "    <tr style=\"text-align: right;\">\n",
       "      <th></th>\n",
       "      <th>institute_type</th>\n",
       "      <th>program_name</th>\n",
       "    </tr>\n",
       "  </thead>\n",
       "  <tbody>\n",
       "    <tr>\n",
       "      <th>0</th>\n",
       "      <td>IIT</td>\n",
       "      <td>Aerospace Engineering</td>\n",
       "    </tr>\n",
       "    <tr>\n",
       "      <th>1</th>\n",
       "      <td>IIT</td>\n",
       "      <td>Aerospace Engineering</td>\n",
       "    </tr>\n",
       "    <tr>\n",
       "      <th>2</th>\n",
       "      <td>IIT</td>\n",
       "      <td>Aerospace Engineering</td>\n",
       "    </tr>\n",
       "    <tr>\n",
       "      <th>3</th>\n",
       "      <td>IIT</td>\n",
       "      <td>Aerospace Engineering</td>\n",
       "    </tr>\n",
       "    <tr>\n",
       "      <th>4</th>\n",
       "      <td>IIT</td>\n",
       "      <td>Aerospace Engineering</td>\n",
       "    </tr>\n",
       "    <tr>\n",
       "      <th>...</th>\n",
       "      <td>...</td>\n",
       "      <td>...</td>\n",
       "    </tr>\n",
       "    <tr>\n",
       "      <th>64703</th>\n",
       "      <td>NIT</td>\n",
       "      <td>Electronics and Communication Engineering</td>\n",
       "    </tr>\n",
       "    <tr>\n",
       "      <th>64704</th>\n",
       "      <td>NIT</td>\n",
       "      <td>Electronics and Communication Engineering</td>\n",
       "    </tr>\n",
       "    <tr>\n",
       "      <th>64705</th>\n",
       "      <td>NIT</td>\n",
       "      <td>Electronics and Communication Engineering</td>\n",
       "    </tr>\n",
       "    <tr>\n",
       "      <th>64706</th>\n",
       "      <td>NIT</td>\n",
       "      <td>Electronics and Communication Engineering</td>\n",
       "    </tr>\n",
       "    <tr>\n",
       "      <th>64707</th>\n",
       "      <td>NIT</td>\n",
       "      <td>Electronics and Communication Engineering</td>\n",
       "    </tr>\n",
       "  </tbody>\n",
       "</table>\n",
       "<p>25458 rows × 2 columns</p>\n",
       "</div>"
      ],
      "text/plain": [
       "      institute_type                               program_name\n",
       "0                IIT                      Aerospace Engineering\n",
       "1                IIT                      Aerospace Engineering\n",
       "2                IIT                      Aerospace Engineering\n",
       "3                IIT                      Aerospace Engineering\n",
       "4                IIT                      Aerospace Engineering\n",
       "...              ...                                        ...\n",
       "64703            NIT  Electronics and Communication Engineering\n",
       "64704            NIT  Electronics and Communication Engineering\n",
       "64705            NIT  Electronics and Communication Engineering\n",
       "64706            NIT  Electronics and Communication Engineering\n",
       "64707            NIT  Electronics and Communication Engineering\n",
       "\n",
       "[25458 rows x 2 columns]"
      ]
     },
     "execution_count": 18,
     "metadata": {},
     "output_type": "execute_result"
    }
   ],
   "source": [
    "#let us access/extract individual column eg.'institute_type'\n",
    "df[['institute_type','program_name']]\n"
   ]
  },
  {
   "cell_type": "code",
   "execution_count": 21,
   "metadata": {},
   "outputs": [
    {
     "name": "stdout",
     "output_type": "stream",
     "text": [
      "NIT\n",
      "Electronics and Communication Engineering\n"
     ]
    }
   ],
   "source": [
    "print(df['institute_type'][64703])\n",
    "#program_name\n",
    "print(df['program_name'][64703])"
   ]
  },
  {
   "cell_type": "code",
   "execution_count": 23,
   "id": "99a59ff0",
   "metadata": {
    "scrolled": false
   },
   "outputs": [
    {
     "name": "stdout",
     "output_type": "stream",
     "text": [
      "before NIT\n",
      "after IIT\n"
     ]
    },
    {
     "name": "stderr",
     "output_type": "stream",
     "text": [
      "C:\\Users\\Admin\\AppData\\Local\\Temp\\ipykernel_5748\\4134658763.py:3: FutureWarning: ChainedAssignmentError: behaviour will change in pandas 3.0!\n",
      "You are setting values through chained assignment. Currently this works in certain cases, but when using Copy-on-Write (which will become the default behaviour in pandas 3.0) this will never work to update the original DataFrame or Series, because the intermediate object on which we are setting values will behave as a copy.\n",
      "A typical example is when you are setting values in a column of a DataFrame, like:\n",
      "\n",
      "df[\"col\"][row_indexer] = value\n",
      "\n",
      "Use `df.loc[row_indexer, \"col\"] = values` instead, to perform the assignment in a single step and ensure this keeps updating the original `df`.\n",
      "\n",
      "See the caveats in the documentation: https://pandas.pydata.org/pandas-docs/stable/user_guide/indexing.html#returning-a-view-versus-a-copy\n",
      "\n",
      "  df['institute_type'][64703] = 'IIT'\n",
      "C:\\Users\\Admin\\AppData\\Local\\Temp\\ipykernel_5748\\4134658763.py:3: SettingWithCopyWarning: \n",
      "A value is trying to be set on a copy of a slice from a DataFrame\n",
      "\n",
      "See the caveats in the documentation: https://pandas.pydata.org/pandas-docs/stable/user_guide/indexing.html#returning-a-view-versus-a-copy\n",
      "  df['institute_type'][64703] = 'IIT'\n"
     ]
    }
   ],
   "source": [
    "# to access/extract an element in a particular column by index number\n",
    "print('before', df['institute_type'][64703]) \n",
    "df['institute_type'][64703] = 'IIT'\n",
    "print('after',df['institute_type'][64703]) "
   ]
  },
  {
   "cell_type": "code",
   "execution_count": 24,
   "id": "c3bbf857",
   "metadata": {
    "scrolled": true
   },
   "outputs": [
    {
     "data": {
      "text/plain": [
       "institute_type  is_preparatory\n",
       "NIT             0                 12302\n",
       "IIT             0                 12247\n",
       "                1                   909\n",
       "Name: count, dtype: int64"
      ]
     },
     "execution_count": 24,
     "metadata": {},
     "output_type": "execute_result"
    }
   ],
   "source": [
    "#to extract multiple columns simultaneously\n",
    "df[['institute_type','is_preparatory']].value_counts() #/.unique()"
   ]
  },
  {
   "cell_type": "code",
   "execution_count": 25,
   "id": "31aab945",
   "metadata": {},
   "outputs": [
    {
     "data": {
      "text/html": [
       "<div>\n",
       "<style scoped>\n",
       "    .dataframe tbody tr th:only-of-type {\n",
       "        vertical-align: middle;\n",
       "    }\n",
       "\n",
       "    .dataframe tbody tr th {\n",
       "        vertical-align: top;\n",
       "    }\n",
       "\n",
       "    .dataframe thead th {\n",
       "        text-align: right;\n",
       "    }\n",
       "</style>\n",
       "<table border=\"1\" class=\"dataframe\">\n",
       "  <thead>\n",
       "    <tr style=\"text-align: right;\">\n",
       "      <th></th>\n",
       "      <th>ID</th>\n",
       "      <th>year</th>\n",
       "      <th>institute_type</th>\n",
       "      <th>round_no</th>\n",
       "      <th>quota</th>\n",
       "      <th>pool</th>\n",
       "      <th>institute_short</th>\n",
       "      <th>program_name</th>\n",
       "      <th>program_duration</th>\n",
       "      <th>degree_short</th>\n",
       "      <th>category</th>\n",
       "      <th>opening_rank</th>\n",
       "      <th>closing_rank</th>\n",
       "      <th>is_preparatory</th>\n",
       "    </tr>\n",
       "  </thead>\n",
       "  <tbody>\n",
       "    <tr>\n",
       "      <th>2330</th>\n",
       "      <td>2331</td>\n",
       "      <td>2018</td>\n",
       "      <td>IIT</td>\n",
       "      <td>7</td>\n",
       "      <td>AI</td>\n",
       "      <td>Gender-Neutral</td>\n",
       "      <td>IIT-Bombay</td>\n",
       "      <td>Aerospace Engineering</td>\n",
       "      <td>4 Years</td>\n",
       "      <td>B.Tech</td>\n",
       "      <td>GEN</td>\n",
       "      <td>1040</td>\n",
       "      <td>2053</td>\n",
       "      <td>0</td>\n",
       "    </tr>\n",
       "    <tr>\n",
       "      <th>2331</th>\n",
       "      <td>2332</td>\n",
       "      <td>2018</td>\n",
       "      <td>IIT</td>\n",
       "      <td>7</td>\n",
       "      <td>AI</td>\n",
       "      <td>Female-Only</td>\n",
       "      <td>IIT-Bombay</td>\n",
       "      <td>Aerospace Engineering</td>\n",
       "      <td>4 Years</td>\n",
       "      <td>B.Tech</td>\n",
       "      <td>GEN</td>\n",
       "      <td>1425</td>\n",
       "      <td>3817</td>\n",
       "      <td>0</td>\n",
       "    </tr>\n",
       "    <tr>\n",
       "      <th>2332</th>\n",
       "      <td>2333</td>\n",
       "      <td>2018</td>\n",
       "      <td>IIT</td>\n",
       "      <td>7</td>\n",
       "      <td>AI</td>\n",
       "      <td>Gender-Neutral</td>\n",
       "      <td>IIT-Bombay</td>\n",
       "      <td>Aerospace Engineering</td>\n",
       "      <td>4 Years</td>\n",
       "      <td>B.Tech</td>\n",
       "      <td>OBC-NCL</td>\n",
       "      <td>740</td>\n",
       "      <td>1074</td>\n",
       "      <td>0</td>\n",
       "    </tr>\n",
       "    <tr>\n",
       "      <th>2333</th>\n",
       "      <td>2334</td>\n",
       "      <td>2018</td>\n",
       "      <td>IIT</td>\n",
       "      <td>7</td>\n",
       "      <td>AI</td>\n",
       "      <td>Female-Only</td>\n",
       "      <td>IIT-Bombay</td>\n",
       "      <td>Aerospace Engineering</td>\n",
       "      <td>4 Years</td>\n",
       "      <td>B.Tech</td>\n",
       "      <td>OBC-NCL</td>\n",
       "      <td>1161</td>\n",
       "      <td>1185</td>\n",
       "      <td>0</td>\n",
       "    </tr>\n",
       "    <tr>\n",
       "      <th>2334</th>\n",
       "      <td>2335</td>\n",
       "      <td>2018</td>\n",
       "      <td>IIT</td>\n",
       "      <td>7</td>\n",
       "      <td>AI</td>\n",
       "      <td>Gender-Neutral</td>\n",
       "      <td>IIT-Bombay</td>\n",
       "      <td>Aerospace Engineering</td>\n",
       "      <td>4 Years</td>\n",
       "      <td>B.Tech</td>\n",
       "      <td>SC</td>\n",
       "      <td>235</td>\n",
       "      <td>492</td>\n",
       "      <td>0</td>\n",
       "    </tr>\n",
       "    <tr>\n",
       "      <th>...</th>\n",
       "      <td>...</td>\n",
       "      <td>...</td>\n",
       "      <td>...</td>\n",
       "      <td>...</td>\n",
       "      <td>...</td>\n",
       "      <td>...</td>\n",
       "      <td>...</td>\n",
       "      <td>...</td>\n",
       "      <td>...</td>\n",
       "      <td>...</td>\n",
       "      <td>...</td>\n",
       "      <td>...</td>\n",
       "      <td>...</td>\n",
       "      <td>...</td>\n",
       "    </tr>\n",
       "    <tr>\n",
       "      <th>4242</th>\n",
       "      <td>4243</td>\n",
       "      <td>2018</td>\n",
       "      <td>IIT</td>\n",
       "      <td>7</td>\n",
       "      <td>AI</td>\n",
       "      <td>Female-Only</td>\n",
       "      <td>IIT-Palakkad</td>\n",
       "      <td>Mechanical Engineering</td>\n",
       "      <td>4 Years</td>\n",
       "      <td>B.Tech</td>\n",
       "      <td>OBC-NCL</td>\n",
       "      <td>5517</td>\n",
       "      <td>5517</td>\n",
       "      <td>0</td>\n",
       "    </tr>\n",
       "    <tr>\n",
       "      <th>4243</th>\n",
       "      <td>4244</td>\n",
       "      <td>2018</td>\n",
       "      <td>IIT</td>\n",
       "      <td>7</td>\n",
       "      <td>AI</td>\n",
       "      <td>Gender-Neutral</td>\n",
       "      <td>IIT-Palakkad</td>\n",
       "      <td>Mechanical Engineering</td>\n",
       "      <td>4 Years</td>\n",
       "      <td>B.Tech</td>\n",
       "      <td>SC</td>\n",
       "      <td>1597</td>\n",
       "      <td>1783</td>\n",
       "      <td>0</td>\n",
       "    </tr>\n",
       "    <tr>\n",
       "      <th>4244</th>\n",
       "      <td>4245</td>\n",
       "      <td>2018</td>\n",
       "      <td>IIT</td>\n",
       "      <td>7</td>\n",
       "      <td>AI</td>\n",
       "      <td>Female-Only</td>\n",
       "      <td>IIT-Palakkad</td>\n",
       "      <td>Mechanical Engineering</td>\n",
       "      <td>4 Years</td>\n",
       "      <td>B.Tech</td>\n",
       "      <td>SC</td>\n",
       "      <td>2939</td>\n",
       "      <td>2939</td>\n",
       "      <td>0</td>\n",
       "    </tr>\n",
       "    <tr>\n",
       "      <th>4245</th>\n",
       "      <td>4246</td>\n",
       "      <td>2018</td>\n",
       "      <td>IIT</td>\n",
       "      <td>7</td>\n",
       "      <td>AI</td>\n",
       "      <td>Female-Only</td>\n",
       "      <td>IIT-Palakkad</td>\n",
       "      <td>Mechanical Engineering</td>\n",
       "      <td>4 Years</td>\n",
       "      <td>B.Tech</td>\n",
       "      <td>ST</td>\n",
       "      <td>338</td>\n",
       "      <td>338</td>\n",
       "      <td>0</td>\n",
       "    </tr>\n",
       "    <tr>\n",
       "      <th>4246</th>\n",
       "      <td>4247</td>\n",
       "      <td>2018</td>\n",
       "      <td>IIT</td>\n",
       "      <td>7</td>\n",
       "      <td>AI</td>\n",
       "      <td>Gender-Neutral</td>\n",
       "      <td>IIT-Palakkad</td>\n",
       "      <td>Mechanical Engineering</td>\n",
       "      <td>4 Years</td>\n",
       "      <td>B.Tech</td>\n",
       "      <td>ST</td>\n",
       "      <td>769</td>\n",
       "      <td>776</td>\n",
       "      <td>0</td>\n",
       "    </tr>\n",
       "  </tbody>\n",
       "</table>\n",
       "<p>1917 rows × 14 columns</p>\n",
       "</div>"
      ],
      "text/plain": [
       "        ID  year institute_type  round_no quota            pool  \\\n",
       "2330  2331  2018            IIT         7    AI  Gender-Neutral   \n",
       "2331  2332  2018            IIT         7    AI     Female-Only   \n",
       "2332  2333  2018            IIT         7    AI  Gender-Neutral   \n",
       "2333  2334  2018            IIT         7    AI     Female-Only   \n",
       "2334  2335  2018            IIT         7    AI  Gender-Neutral   \n",
       "...    ...   ...            ...       ...   ...             ...   \n",
       "4242  4243  2018            IIT         7    AI     Female-Only   \n",
       "4243  4244  2018            IIT         7    AI  Gender-Neutral   \n",
       "4244  4245  2018            IIT         7    AI     Female-Only   \n",
       "4245  4246  2018            IIT         7    AI     Female-Only   \n",
       "4246  4247  2018            IIT         7    AI  Gender-Neutral   \n",
       "\n",
       "     institute_short            program_name program_duration degree_short  \\\n",
       "2330      IIT-Bombay   Aerospace Engineering          4 Years       B.Tech   \n",
       "2331      IIT-Bombay   Aerospace Engineering          4 Years       B.Tech   \n",
       "2332      IIT-Bombay   Aerospace Engineering          4 Years       B.Tech   \n",
       "2333      IIT-Bombay   Aerospace Engineering          4 Years       B.Tech   \n",
       "2334      IIT-Bombay   Aerospace Engineering          4 Years       B.Tech   \n",
       "...              ...                     ...              ...          ...   \n",
       "4242    IIT-Palakkad  Mechanical Engineering          4 Years       B.Tech   \n",
       "4243    IIT-Palakkad  Mechanical Engineering          4 Years       B.Tech   \n",
       "4244    IIT-Palakkad  Mechanical Engineering          4 Years       B.Tech   \n",
       "4245    IIT-Palakkad  Mechanical Engineering          4 Years       B.Tech   \n",
       "4246    IIT-Palakkad  Mechanical Engineering          4 Years       B.Tech   \n",
       "\n",
       "     category  opening_rank  closing_rank  is_preparatory  \n",
       "2330      GEN          1040          2053               0  \n",
       "2331      GEN          1425          3817               0  \n",
       "2332  OBC-NCL           740          1074               0  \n",
       "2333  OBC-NCL          1161          1185               0  \n",
       "2334       SC           235           492               0  \n",
       "...       ...           ...           ...             ...  \n",
       "4242  OBC-NCL          5517          5517               0  \n",
       "4243       SC          1597          1783               0  \n",
       "4244       SC          2939          2939               0  \n",
       "4245       ST           338           338               0  \n",
       "4246       ST           769           776               0  \n",
       "\n",
       "[1917 rows x 14 columns]"
      ]
     },
     "execution_count": 25,
     "metadata": {},
     "output_type": "execute_result"
    }
   ],
   "source": [
    "#access on conditional basis\n",
    "# Example: Filtering data for a specific condition (replace condition as needed)\n",
    "filtered_data = df[df['year'] == 2018]\n",
    "filtered_data\n",
    "#df[df['pool']=='Female-Only']\n",
    "#df['institute_short'][df['closing_rank']<1841]"
   ]
  },
  {
   "cell_type": "code",
   "execution_count": 26,
   "metadata": {},
   "outputs": [
    {
     "data": {
      "text/plain": [
       "ID                  1\n",
       "year                1\n",
       "institute_type      1\n",
       "round_no            1\n",
       "quota               1\n",
       "pool                1\n",
       "institute_short     1\n",
       "program_name        1\n",
       "program_duration    1\n",
       "degree_short        1\n",
       "category            1\n",
       "opening_rank        1\n",
       "closing_rank        1\n",
       "is_preparatory      1\n",
       "dtype: int64"
      ]
     },
     "execution_count": 26,
     "metadata": {},
     "output_type": "execute_result"
    }
   ],
   "source": [
    "df[df['ID']==11853].count()"
   ]
  },
  {
   "cell_type": "markdown",
   "id": "011ea435",
   "metadata": {},
   "source": [
    "#### Slicing"
   ]
  },
  {
   "cell_type": "code",
   "execution_count": 27,
   "id": "1dc6939d",
   "metadata": {
    "scrolled": true
   },
   "outputs": [
    {
     "data": {
      "text/html": [
       "<div>\n",
       "<style scoped>\n",
       "    .dataframe tbody tr th:only-of-type {\n",
       "        vertical-align: middle;\n",
       "    }\n",
       "\n",
       "    .dataframe tbody tr th {\n",
       "        vertical-align: top;\n",
       "    }\n",
       "\n",
       "    .dataframe thead th {\n",
       "        text-align: right;\n",
       "    }\n",
       "</style>\n",
       "<table border=\"1\" class=\"dataframe\">\n",
       "  <thead>\n",
       "    <tr style=\"text-align: right;\">\n",
       "      <th></th>\n",
       "      <th>institute_type</th>\n",
       "      <th>is_preparatory</th>\n",
       "    </tr>\n",
       "  </thead>\n",
       "  <tbody>\n",
       "    <tr>\n",
       "      <th>59</th>\n",
       "      <td>IIT</td>\n",
       "      <td>0</td>\n",
       "    </tr>\n",
       "  </tbody>\n",
       "</table>\n",
       "</div>"
      ],
      "text/plain": [
       "   institute_type  is_preparatory\n",
       "59            IIT               0"
      ]
     },
     "execution_count": 27,
     "metadata": {},
     "output_type": "execute_result"
    }
   ],
   "source": [
    "# slicing row-wise\n",
    "df[['institute_type','is_preparatory']][59:60]"
   ]
  },
  {
   "cell_type": "code",
   "execution_count": 34,
   "id": "24087da6",
   "metadata": {},
   "outputs": [
    {
     "data": {
      "text/html": [
       "<div>\n",
       "<style scoped>\n",
       "    .dataframe tbody tr th:only-of-type {\n",
       "        vertical-align: middle;\n",
       "    }\n",
       "\n",
       "    .dataframe tbody tr th {\n",
       "        vertical-align: top;\n",
       "    }\n",
       "\n",
       "    .dataframe thead th {\n",
       "        text-align: right;\n",
       "    }\n",
       "</style>\n",
       "<table border=\"1\" class=\"dataframe\">\n",
       "  <thead>\n",
       "    <tr style=\"text-align: right;\">\n",
       "      <th></th>\n",
       "      <th>round_no</th>\n",
       "      <th>quota</th>\n",
       "    </tr>\n",
       "  </thead>\n",
       "  <tbody>\n",
       "    <tr>\n",
       "      <th>0</th>\n",
       "      <td>6</td>\n",
       "      <td>AI</td>\n",
       "    </tr>\n",
       "    <tr>\n",
       "      <th>1</th>\n",
       "      <td>6</td>\n",
       "      <td>AI</td>\n",
       "    </tr>\n",
       "    <tr>\n",
       "      <th>2</th>\n",
       "      <td>6</td>\n",
       "      <td>AI</td>\n",
       "    </tr>\n",
       "    <tr>\n",
       "      <th>3</th>\n",
       "      <td>6</td>\n",
       "      <td>AI</td>\n",
       "    </tr>\n",
       "    <tr>\n",
       "      <th>4</th>\n",
       "      <td>6</td>\n",
       "      <td>AI</td>\n",
       "    </tr>\n",
       "    <tr>\n",
       "      <th>...</th>\n",
       "      <td>...</td>\n",
       "      <td>...</td>\n",
       "    </tr>\n",
       "    <tr>\n",
       "      <th>64953</th>\n",
       "      <td>1</td>\n",
       "      <td>JK</td>\n",
       "    </tr>\n",
       "    <tr>\n",
       "      <th>64954</th>\n",
       "      <td>1</td>\n",
       "      <td>JK</td>\n",
       "    </tr>\n",
       "    <tr>\n",
       "      <th>64955</th>\n",
       "      <td>1</td>\n",
       "      <td>JK</td>\n",
       "    </tr>\n",
       "    <tr>\n",
       "      <th>64956</th>\n",
       "      <td>1</td>\n",
       "      <td>LA</td>\n",
       "    </tr>\n",
       "    <tr>\n",
       "      <th>64957</th>\n",
       "      <td>1</td>\n",
       "      <td>LA</td>\n",
       "    </tr>\n",
       "  </tbody>\n",
       "</table>\n",
       "<p>64958 rows × 2 columns</p>\n",
       "</div>"
      ],
      "text/plain": [
       "       round_no quota\n",
       "0             6    AI\n",
       "1             6    AI\n",
       "2             6    AI\n",
       "3             6    AI\n",
       "4             6    AI\n",
       "...         ...   ...\n",
       "64953         1    JK\n",
       "64954         1    JK\n",
       "64955         1    JK\n",
       "64956         1    LA\n",
       "64957         1    LA\n",
       "\n",
       "[64958 rows x 2 columns]"
      ]
     },
     "execution_count": 34,
     "metadata": {},
     "output_type": "execute_result"
    }
   ],
   "source": [
    "#slicing across columns\n",
    "df.loc[50:60,'round_no':'degree_short']\n",
    "df.iloc[:, 3:5]"
   ]
  },
  {
   "cell_type": "markdown",
   "id": "ba0c1eed",
   "metadata": {},
   "source": [
    "#### Sorting"
   ]
  },
  {
   "cell_type": "code",
   "execution_count": 28,
   "id": "37697d4a",
   "metadata": {
    "scrolled": true
   },
   "outputs": [
    {
     "data": {
      "text/html": [
       "<div>\n",
       "<style scoped>\n",
       "    .dataframe tbody tr th:only-of-type {\n",
       "        vertical-align: middle;\n",
       "    }\n",
       "\n",
       "    .dataframe tbody tr th {\n",
       "        vertical-align: top;\n",
       "    }\n",
       "\n",
       "    .dataframe thead th {\n",
       "        text-align: right;\n",
       "    }\n",
       "</style>\n",
       "<table border=\"1\" class=\"dataframe\">\n",
       "  <thead>\n",
       "    <tr style=\"text-align: right;\">\n",
       "      <th></th>\n",
       "      <th>ID</th>\n",
       "      <th>year</th>\n",
       "      <th>institute_type</th>\n",
       "      <th>round_no</th>\n",
       "      <th>quota</th>\n",
       "      <th>pool</th>\n",
       "      <th>institute_short</th>\n",
       "      <th>program_name</th>\n",
       "      <th>program_duration</th>\n",
       "      <th>degree_short</th>\n",
       "      <th>category</th>\n",
       "      <th>opening_rank</th>\n",
       "      <th>closing_rank</th>\n",
       "      <th>is_preparatory</th>\n",
       "    </tr>\n",
       "  </thead>\n",
       "  <tbody>\n",
       "    <tr>\n",
       "      <th>64707</th>\n",
       "      <td>31140</td>\n",
       "      <td>2021</td>\n",
       "      <td>NIT</td>\n",
       "      <td>1</td>\n",
       "      <td>LA</td>\n",
       "      <td>Female-Only</td>\n",
       "      <td>NIT-Srinagar</td>\n",
       "      <td>Electronics and Communication Engineering</td>\n",
       "      <td>4 Years</td>\n",
       "      <td>B.Tech</td>\n",
       "      <td>GEN</td>\n",
       "      <td>215054</td>\n",
       "      <td>215054</td>\n",
       "      <td>0</td>\n",
       "    </tr>\n",
       "    <tr>\n",
       "      <th>64706</th>\n",
       "      <td>31139</td>\n",
       "      <td>2021</td>\n",
       "      <td>NIT</td>\n",
       "      <td>1</td>\n",
       "      <td>LA</td>\n",
       "      <td>Gender-Neutral</td>\n",
       "      <td>NIT-Srinagar</td>\n",
       "      <td>Electronics and Communication Engineering</td>\n",
       "      <td>4 Years</td>\n",
       "      <td>B.Tech</td>\n",
       "      <td>GEN</td>\n",
       "      <td>166453</td>\n",
       "      <td>265454</td>\n",
       "      <td>0</td>\n",
       "    </tr>\n",
       "    <tr>\n",
       "      <th>64705</th>\n",
       "      <td>31138</td>\n",
       "      <td>2021</td>\n",
       "      <td>NIT</td>\n",
       "      <td>1</td>\n",
       "      <td>JK</td>\n",
       "      <td>Female-Only</td>\n",
       "      <td>NIT-Srinagar</td>\n",
       "      <td>Electronics and Communication Engineering</td>\n",
       "      <td>4 Years</td>\n",
       "      <td>B.Tech</td>\n",
       "      <td>ST</td>\n",
       "      <td>10870</td>\n",
       "      <td>10870</td>\n",
       "      <td>0</td>\n",
       "    </tr>\n",
       "    <tr>\n",
       "      <th>64704</th>\n",
       "      <td>31137</td>\n",
       "      <td>2021</td>\n",
       "      <td>NIT</td>\n",
       "      <td>1</td>\n",
       "      <td>JK</td>\n",
       "      <td>Gender-Neutral</td>\n",
       "      <td>NIT-Srinagar</td>\n",
       "      <td>Electronics and Communication Engineering</td>\n",
       "      <td>4 Years</td>\n",
       "      <td>B.Tech</td>\n",
       "      <td>ST</td>\n",
       "      <td>2736</td>\n",
       "      <td>4171</td>\n",
       "      <td>0</td>\n",
       "    </tr>\n",
       "    <tr>\n",
       "      <th>64703</th>\n",
       "      <td>31136</td>\n",
       "      <td>2021</td>\n",
       "      <td>IIT</td>\n",
       "      <td>1</td>\n",
       "      <td>JK</td>\n",
       "      <td>Female-Only</td>\n",
       "      <td>NIT-Srinagar</td>\n",
       "      <td>Electronics and Communication Engineering</td>\n",
       "      <td>4 Years</td>\n",
       "      <td>B.Tech</td>\n",
       "      <td>SC</td>\n",
       "      <td>14185</td>\n",
       "      <td>24048</td>\n",
       "      <td>0</td>\n",
       "    </tr>\n",
       "    <tr>\n",
       "      <th>64702</th>\n",
       "      <td>31135</td>\n",
       "      <td>2021</td>\n",
       "      <td>NIT</td>\n",
       "      <td>1</td>\n",
       "      <td>JK</td>\n",
       "      <td>Gender-Neutral</td>\n",
       "      <td>NIT-Srinagar</td>\n",
       "      <td>Electronics and Communication Engineering</td>\n",
       "      <td>4 Years</td>\n",
       "      <td>B.Tech</td>\n",
       "      <td>SC</td>\n",
       "      <td>5992</td>\n",
       "      <td>14469</td>\n",
       "      <td>0</td>\n",
       "    </tr>\n",
       "    <tr>\n",
       "      <th>64701</th>\n",
       "      <td>31134</td>\n",
       "      <td>2021</td>\n",
       "      <td>NIT</td>\n",
       "      <td>1</td>\n",
       "      <td>JK</td>\n",
       "      <td>Female-Only</td>\n",
       "      <td>NIT-Srinagar</td>\n",
       "      <td>Electronics and Communication Engineering</td>\n",
       "      <td>4 Years</td>\n",
       "      <td>B.Tech</td>\n",
       "      <td>OBC-NCL</td>\n",
       "      <td>73818</td>\n",
       "      <td>113212</td>\n",
       "      <td>0</td>\n",
       "    </tr>\n",
       "    <tr>\n",
       "      <th>64700</th>\n",
       "      <td>31133</td>\n",
       "      <td>2021</td>\n",
       "      <td>NIT</td>\n",
       "      <td>1</td>\n",
       "      <td>JK</td>\n",
       "      <td>Gender-Neutral</td>\n",
       "      <td>NIT-Srinagar</td>\n",
       "      <td>Electronics and Communication Engineering</td>\n",
       "      <td>4 Years</td>\n",
       "      <td>B.Tech</td>\n",
       "      <td>OBC-NCL</td>\n",
       "      <td>43270</td>\n",
       "      <td>89561</td>\n",
       "      <td>0</td>\n",
       "    </tr>\n",
       "    <tr>\n",
       "      <th>64699</th>\n",
       "      <td>31132</td>\n",
       "      <td>2021</td>\n",
       "      <td>NIT</td>\n",
       "      <td>1</td>\n",
       "      <td>JK</td>\n",
       "      <td>Female-Only</td>\n",
       "      <td>NIT-Srinagar</td>\n",
       "      <td>Electronics and Communication Engineering</td>\n",
       "      <td>4 Years</td>\n",
       "      <td>B.Tech</td>\n",
       "      <td>GEN-EWS</td>\n",
       "      <td>53789</td>\n",
       "      <td>53789</td>\n",
       "      <td>0</td>\n",
       "    </tr>\n",
       "    <tr>\n",
       "      <th>64698</th>\n",
       "      <td>31131</td>\n",
       "      <td>2021</td>\n",
       "      <td>NIT</td>\n",
       "      <td>1</td>\n",
       "      <td>JK</td>\n",
       "      <td>Gender-Neutral</td>\n",
       "      <td>NIT-Srinagar</td>\n",
       "      <td>Electronics and Communication Engineering</td>\n",
       "      <td>4 Years</td>\n",
       "      <td>B.Tech</td>\n",
       "      <td>GEN-EWS</td>\n",
       "      <td>12207</td>\n",
       "      <td>21521</td>\n",
       "      <td>0</td>\n",
       "    </tr>\n",
       "  </tbody>\n",
       "</table>\n",
       "</div>"
      ],
      "text/plain": [
       "          ID  year institute_type  round_no quota            pool  \\\n",
       "64707  31140  2021            NIT         1    LA     Female-Only   \n",
       "64706  31139  2021            NIT         1    LA  Gender-Neutral   \n",
       "64705  31138  2021            NIT         1    JK     Female-Only   \n",
       "64704  31137  2021            NIT         1    JK  Gender-Neutral   \n",
       "64703  31136  2021            IIT         1    JK     Female-Only   \n",
       "64702  31135  2021            NIT         1    JK  Gender-Neutral   \n",
       "64701  31134  2021            NIT         1    JK     Female-Only   \n",
       "64700  31133  2021            NIT         1    JK  Gender-Neutral   \n",
       "64699  31132  2021            NIT         1    JK     Female-Only   \n",
       "64698  31131  2021            NIT         1    JK  Gender-Neutral   \n",
       "\n",
       "      institute_short                               program_name  \\\n",
       "64707    NIT-Srinagar  Electronics and Communication Engineering   \n",
       "64706    NIT-Srinagar  Electronics and Communication Engineering   \n",
       "64705    NIT-Srinagar  Electronics and Communication Engineering   \n",
       "64704    NIT-Srinagar  Electronics and Communication Engineering   \n",
       "64703    NIT-Srinagar  Electronics and Communication Engineering   \n",
       "64702    NIT-Srinagar  Electronics and Communication Engineering   \n",
       "64701    NIT-Srinagar  Electronics and Communication Engineering   \n",
       "64700    NIT-Srinagar  Electronics and Communication Engineering   \n",
       "64699    NIT-Srinagar  Electronics and Communication Engineering   \n",
       "64698    NIT-Srinagar  Electronics and Communication Engineering   \n",
       "\n",
       "      program_duration degree_short category  opening_rank  closing_rank  \\\n",
       "64707          4 Years       B.Tech      GEN        215054        215054   \n",
       "64706          4 Years       B.Tech      GEN        166453        265454   \n",
       "64705          4 Years       B.Tech       ST         10870         10870   \n",
       "64704          4 Years       B.Tech       ST          2736          4171   \n",
       "64703          4 Years       B.Tech       SC         14185         24048   \n",
       "64702          4 Years       B.Tech       SC          5992         14469   \n",
       "64701          4 Years       B.Tech  OBC-NCL         73818        113212   \n",
       "64700          4 Years       B.Tech  OBC-NCL         43270         89561   \n",
       "64699          4 Years       B.Tech  GEN-EWS         53789         53789   \n",
       "64698          4 Years       B.Tech  GEN-EWS         12207         21521   \n",
       "\n",
       "       is_preparatory  \n",
       "64707               0  \n",
       "64706               0  \n",
       "64705               0  \n",
       "64704               0  \n",
       "64703               0  \n",
       "64702               0  \n",
       "64701               0  \n",
       "64700               0  \n",
       "64699               0  \n",
       "64698               0  "
      ]
     },
     "execution_count": 28,
     "metadata": {},
     "output_type": "execute_result"
    }
   ],
   "source": [
    "#sorting the data set w.r.t column 'id' in descending order\n",
    "df.sort_values(by='ID', ascending=False).head(10)"
   ]
  },
  {
   "cell_type": "code",
   "execution_count": 29,
   "id": "ff712163",
   "metadata": {
    "scrolled": true
   },
   "outputs": [
    {
     "data": {
      "text/html": [
       "<div>\n",
       "<style scoped>\n",
       "    .dataframe tbody tr th:only-of-type {\n",
       "        vertical-align: middle;\n",
       "    }\n",
       "\n",
       "    .dataframe tbody tr th {\n",
       "        vertical-align: top;\n",
       "    }\n",
       "\n",
       "    .dataframe thead th {\n",
       "        text-align: right;\n",
       "    }\n",
       "</style>\n",
       "<table border=\"1\" class=\"dataframe\">\n",
       "  <thead>\n",
       "    <tr style=\"text-align: right;\">\n",
       "      <th></th>\n",
       "      <th>ID</th>\n",
       "      <th>year</th>\n",
       "      <th>institute_type</th>\n",
       "      <th>round_no</th>\n",
       "      <th>quota</th>\n",
       "      <th>pool</th>\n",
       "      <th>institute_short</th>\n",
       "      <th>program_name</th>\n",
       "      <th>program_duration</th>\n",
       "      <th>degree_short</th>\n",
       "      <th>category</th>\n",
       "      <th>opening_rank</th>\n",
       "      <th>closing_rank</th>\n",
       "      <th>is_preparatory</th>\n",
       "    </tr>\n",
       "  </thead>\n",
       "  <tbody>\n",
       "    <tr>\n",
       "      <th>1360</th>\n",
       "      <td>1360</td>\n",
       "      <td>2017</td>\n",
       "      <td>IIT</td>\n",
       "      <td>7</td>\n",
       "      <td>AI</td>\n",
       "      <td>Gender-Neutral</td>\n",
       "      <td>IIT-Kharagpur</td>\n",
       "      <td>Computer Science and Engineering</td>\n",
       "      <td>4 Years</td>\n",
       "      <td>B.Tech</td>\n",
       "      <td>OBC-NCL-PWD</td>\n",
       "      <td>0</td>\n",
       "      <td>0</td>\n",
       "      <td>0</td>\n",
       "    </tr>\n",
       "    <tr>\n",
       "      <th>24</th>\n",
       "      <td>25</td>\n",
       "      <td>2016</td>\n",
       "      <td>IIT</td>\n",
       "      <td>6</td>\n",
       "      <td>AI</td>\n",
       "      <td>Gender-Neutral</td>\n",
       "      <td>IIT-Bombay</td>\n",
       "      <td>Computer Science and Engineering</td>\n",
       "      <td>4 Years</td>\n",
       "      <td>B.Tech</td>\n",
       "      <td>GEN</td>\n",
       "      <td>1</td>\n",
       "      <td>60</td>\n",
       "      <td>0</td>\n",
       "    </tr>\n",
       "    <tr>\n",
       "      <th>27</th>\n",
       "      <td>28</td>\n",
       "      <td>2016</td>\n",
       "      <td>IIT</td>\n",
       "      <td>6</td>\n",
       "      <td>AI</td>\n",
       "      <td>Gender-Neutral</td>\n",
       "      <td>IIT-Bombay</td>\n",
       "      <td>Computer Science and Engineering</td>\n",
       "      <td>4 Years</td>\n",
       "      <td>B.Tech</td>\n",
       "      <td>ST</td>\n",
       "      <td>1</td>\n",
       "      <td>15</td>\n",
       "      <td>0</td>\n",
       "    </tr>\n",
       "    <tr>\n",
       "      <th>29</th>\n",
       "      <td>30</td>\n",
       "      <td>2016</td>\n",
       "      <td>IIT</td>\n",
       "      <td>6</td>\n",
       "      <td>AI</td>\n",
       "      <td>Gender-Neutral</td>\n",
       "      <td>IIT-Bombay</td>\n",
       "      <td>Computer Science and Engineering</td>\n",
       "      <td>4 Years</td>\n",
       "      <td>B.Tech</td>\n",
       "      <td>OBC-NCL-PWD</td>\n",
       "      <td>1</td>\n",
       "      <td>1</td>\n",
       "      <td>0</td>\n",
       "    </tr>\n",
       "    <tr>\n",
       "      <th>35</th>\n",
       "      <td>36</td>\n",
       "      <td>2016</td>\n",
       "      <td>IIT</td>\n",
       "      <td>6</td>\n",
       "      <td>AI</td>\n",
       "      <td>Gender-Neutral</td>\n",
       "      <td>IIT-Bombay</td>\n",
       "      <td>Electrical Engineering</td>\n",
       "      <td>4 Years</td>\n",
       "      <td>B.Tech</td>\n",
       "      <td>SC-PWD</td>\n",
       "      <td>1</td>\n",
       "      <td>1</td>\n",
       "      <td>0</td>\n",
       "    </tr>\n",
       "  </tbody>\n",
       "</table>\n",
       "</div>"
      ],
      "text/plain": [
       "        ID  year institute_type  round_no quota            pool  \\\n",
       "1360  1360  2017            IIT         7    AI  Gender-Neutral   \n",
       "24      25  2016            IIT         6    AI  Gender-Neutral   \n",
       "27      28  2016            IIT         6    AI  Gender-Neutral   \n",
       "29      30  2016            IIT         6    AI  Gender-Neutral   \n",
       "35      36  2016            IIT         6    AI  Gender-Neutral   \n",
       "\n",
       "     institute_short                      program_name program_duration  \\\n",
       "1360   IIT-Kharagpur  Computer Science and Engineering          4 Years   \n",
       "24        IIT-Bombay  Computer Science and Engineering          4 Years   \n",
       "27        IIT-Bombay  Computer Science and Engineering          4 Years   \n",
       "29        IIT-Bombay  Computer Science and Engineering          4 Years   \n",
       "35        IIT-Bombay            Electrical Engineering          4 Years   \n",
       "\n",
       "     degree_short     category  opening_rank  closing_rank  is_preparatory  \n",
       "1360       B.Tech  OBC-NCL-PWD             0             0               0  \n",
       "24         B.Tech          GEN             1            60               0  \n",
       "27         B.Tech           ST             1            15               0  \n",
       "29         B.Tech  OBC-NCL-PWD             1             1               0  \n",
       "35         B.Tech       SC-PWD             1             1               0  "
      ]
     },
     "execution_count": 29,
     "metadata": {},
     "output_type": "execute_result"
    }
   ],
   "source": [
    "# Return the first n rows ordered by columns in ascending order.\n",
    "df.nsmallest(5, 'opening_rank')\n",
    "#df.nlargest(5, 'closing_rank')\n",
    "#df[['id', 'opening_rank']].nsmallest(5, 'opening_rank')"
   ]
  },
  {
   "cell_type": "code",
   "execution_count": 30,
   "metadata": {},
   "outputs": [
    {
     "data": {
      "text/plain": [
       "year\n",
       "2016    1578\n",
       "2017    1205\n",
       "2018    1917\n",
       "2019    6254\n",
       "2020    6604\n",
       "2021    7900\n",
       "Name: opening_rank, dtype: int64"
      ]
     },
     "execution_count": 30,
     "metadata": {},
     "output_type": "execute_result"
    }
   ],
   "source": [
    "# Example: Grouping data by 'year' and calculating the average of 'opening_r'\n",
    "grouped_data = df.groupby('year')['opening_rank'].count()\n",
    "grouped_data"
   ]
  },
  {
   "cell_type": "code",
   "execution_count": 31,
   "metadata": {},
   "outputs": [
    {
     "data": {
      "text/plain": [
       "institute_type\n",
       "IIT    13156\n",
       "NIT    12302\n",
       "Name: ID, dtype: int64"
      ]
     },
     "execution_count": 31,
     "metadata": {},
     "output_type": "execute_result"
    }
   ],
   "source": [
    "grouped_data = df.groupby('institute_type')['ID'].count()\n",
    "grouped_data"
   ]
  },
  {
   "cell_type": "code",
   "execution_count": 32,
   "metadata": {},
   "outputs": [
    {
     "name": "stdout",
     "output_type": "stream",
     "text": [
      "category\n",
      "GEN            5252\n",
      "OBC-NCL        4986\n",
      "SC             4908\n",
      "ST             4327\n",
      "GEN-EWS        3205\n",
      "GEN-PWD        1565\n",
      "OBC-NCL-PWD     770\n",
      "GEN-EWS-PWD     185\n",
      "SC-PWD          182\n",
      "ST-PWD           78\n",
      "Name: count, dtype: int64\n"
     ]
    }
   ],
   "source": [
    "# Example: Counting the number of entries for each category\n",
    "category_counts = df['category'].value_counts()\n",
    "print(category_counts)"
   ]
  },
  {
   "cell_type": "code",
   "execution_count": 33,
   "metadata": {},
   "outputs": [
    {
     "data": {
      "text/plain": [
       "ID                  25015\n",
       "year                25015\n",
       "institute_type      25015\n",
       "round_no            25015\n",
       "quota               25015\n",
       "pool                25015\n",
       "institute_short     25015\n",
       "program_name        25015\n",
       "program_duration    25015\n",
       "degree_short        25015\n",
       "category            25015\n",
       "opening_rank        25015\n",
       "closing_rank        25015\n",
       "is_preparatory      25015\n",
       "dtype: int64"
      ]
     },
     "execution_count": 33,
     "metadata": {},
     "output_type": "execute_result"
    }
   ],
   "source": [
    "# Example: Counting entries where 'opening_r' is greater than a certain value\n",
    "high_opening_count = df[df['opening_rank'] > 15].count()\n",
    "high_opening_count"
   ]
  },
  {
   "cell_type": "code",
   "execution_count": 34,
   "metadata": {},
   "outputs": [
    {
     "data": {
      "image/png": "[encoded data removed]",
      "text/plain": [
       "<Figure size 640x480 with 1 Axes>"
      ]
     },
     "metadata": {},
     "output_type": "display_data"
    }
   ],
   "source": [
    "category_counts = df['category'].value_counts().head(5)\n",
    "category_counts.plot(kind='pie', title=\"category\",autopct = \"%1.1f%%\",radius = 0.9, explode = [0,0,0,0.3,0])\n",
    "plt.show()"
   ]
  },
  {
   "cell_type": "code",
   "execution_count": 35,
   "metadata": {},
   "outputs": [
    {
     "data": {
      "image/png": "[encoded data removed]",
      "text/plain": [
       "<Figure size 640x480 with 1 Axes>"
      ]
     },
     "metadata": {},
     "output_type": "display_data"
    }
   ],
   "source": [
    "grouped_data = df.groupby('year')['ID'].sum()\n",
    "grouped_data.plot(kind='bar',title='grouped_data')\n",
    "plt.show()"
   ]
  },
  {
   "cell_type": "code",
   "execution_count": 36,
   "metadata": {},
   "outputs": [
    {
     "name": "stdout",
     "output_type": "stream",
     "text": [
      "                                    mean   median            std\n",
      "institute_type category                                         \n",
      "IIT            GEN           7396.297030   6615.0    5049.267203\n",
      "               GEN-EWS       1417.197288   1197.0    1057.939701\n",
      "               GEN-EWS-PWD     11.652174     10.0       7.559229\n",
      "               GEN-PWD         93.407843     85.0      62.697904\n",
      "               OBC-NCL       3352.206974   2971.0    2208.238314\n",
      "               OBC-NCL-PWD     35.039886     33.0      24.650786\n",
      "               SC            1538.963506   1495.0     964.230263\n",
      "               SC-PWD           5.380282      5.0       3.373706\n",
      "               ST             569.937367    572.0     309.924599\n",
      "               ST-PWD           2.692308      3.0       1.378963\n",
      "NIT            GEN          59878.316436  31919.0  113611.162427\n",
      "               GEN-EWS       8332.888439   5255.5   10726.848826\n",
      "               GEN-EWS-PWD    124.155172    109.5      71.455624\n",
      "               GEN-PWD        981.935000    810.5     736.294299\n",
      "               OBC-NCL      21795.326434  11562.0   39427.740279\n",
      "               OBC-NCL-PWD    469.279236    418.0     315.910026\n",
      "               SC            7783.760889   5836.5    8874.953334\n",
      "               SC-PWD          89.351351     77.0      63.321208\n",
      "               ST            4415.015657   2326.5    6208.345425\n",
      "               ST-PWD          40.557692     41.5      20.917591\n"
     ]
    }
   ],
   "source": [
    "#Category-wise Analysis\n",
    "category_stats = df.groupby(['institute_type', 'category'])['closing_rank'].agg(['mean', 'median', 'std'])\n",
    "print(category_stats)"
   ]
  },
  {
   "cell_type": "code",
   "execution_count": 37,
   "metadata": {},
   "outputs": [
    {
     "data": {
      "image/png": "[encoded data removed]",
      "text/plain": [
       "<Figure size 640x480 with 1 Axes>"
      ]
     },
     "metadata": {},
     "output_type": "display_data"
    }
   ],
   "source": [
    "import matplotlib.pyplot as plt\n",
    "import seaborn as sns\n",
    "# Explore Trends\n",
    "sns.lineplot(x='year', y='opening_rank', data=df, hue='institute_type')\n",
    "plt.title('Opening Rank Trends Over Years')\n",
    "plt.show()"
   ]
  },
  {
   "cell_type": "code",
   "execution_count": 90,
   "id": "6c38f8a3",
   "metadata": {},
   "outputs": [
    {
     "data": {
      "text/plain": [
       "Index(['ID', 'year', 'institute_type', 'round_no', 'quota', 'pool',\n",
       "       'institute_short', 'program_name', 'program_duration', 'degree_short',\n",
       "       'category', 'opening_rank', 'closing_rank', 'is_preparatory'],\n",
       "      dtype='object')"
      ]
     },
     "execution_count": 90,
     "metadata": {},
     "output_type": "execute_result"
    }
   ],
   "source": [
    "df.columns"
   ]
  },
  {
   "cell_type": "code",
   "execution_count": 38,
   "metadata": {},
   "outputs": [
    {
     "data": {
      "image/png": "[encoded data removed]",
      "text/plain": [
       "<Figure size 640x480 with 1 Axes>"
      ]
     },
     "metadata": {},
     "output_type": "display_data"
    }
   ],
   "source": [
    "sns.barplot(x='year', y='ID', data=df, hue='category')\n",
    "plt.title('ID Trends Over Years')\n",
    "plt.show()"
   ]
  },
  {
   "cell_type": "markdown",
   "metadata": {},
   "source": [
    "Outliers are data points that significantly differ from the rest of the data in a dataset. They can have a substantial impact on statistical analysis and machine learning models, potentially skewing results. Identifying and handling outliers is a crucial step in data preprocessing. "
   ]
  },
  {
   "cell_type": "markdown",
   "metadata": {},
   "source": [
    "    def remove_outlier(df):\n",
    "\n",
    "        Q1 = np.percentile(df,25)\n",
    "\n",
    "        Q2 = np.percentile(df,75)\n",
    "\n",
    "        IQR = Q2-Q1\n",
    "\n",
    "        lower_bound=Q1-1.5*IQR\n",
    "\n",
    "        upper_bound=Q2-1.5*IQR\n",
    "        \n",
    "        return df[(df>= lower_bound) & (df<=upper_bound)]"
   ]
  },
  {
   "cell_type": "markdown",
   "id": "486527b8",
   "metadata": {},
   "source": [
    "    def reject_outliers(data):\n",
    "\n",
    "        u = np.median(data)\n",
    "\n",
    "        s = np.std(data)\n",
    "\n",
    "        filtered = [e for e in data if (u - 2 * s < e < u + 2 * s)]\n",
    "        \n",
    "        return filtered \n",
    "\n",
    "    filtered = reject_outliers(df)"
   ]
  },
  {
   "cell_type": "code",
   "execution_count": 44,
   "metadata": {},
   "outputs": [
    {
     "data": {
      "image/png": "[encoded data removed]",
      "text/plain": [
       "<Figure size 640x480 with 1 Axes>"
      ]
     },
     "metadata": {},
     "output_type": "display_data"
    }
   ],
   "source": [
    "# Outlier Analysis\n",
    "sns.boxplot(x='category', y='closing_rank', data=df)\n",
    "plt.title('Outlier Analysis')\n",
    "plt.xticks(rotation=90)\n",
    "plt.show()"
   ]
  },
  {
   "cell_type": "code",
   "execution_count": 93,
   "metadata": {},
   "outputs": [
    {
     "data": {
      "image/png": "[encoded data removed]",
      "text/plain": [
       "<Figure size 640x480 with 1 Axes>"
      ]
     },
     "metadata": {},
     "output_type": "display_data"
    }
   ],
   "source": [
    "# Compare IITs and NITs\n",
    "sns.barplot(x='institute_type', y='closing_rank', data=df, hue='category')\n",
    "plt.title('Comparison of Closing Ranks between IITs and NITs')\n",
    "plt.show()"
   ]
  },
  {
   "cell_type": "code",
   "execution_count": 94,
   "metadata": {},
   "outputs": [
    {
     "data": {
      "image/png": "[encoded data removed]",
      "text/plain": [
       "<Figure size 640x480 with 1 Axes>"
      ]
     },
     "metadata": {},
     "output_type": "display_data"
    }
   ],
   "source": [
    "# Compare IITs and NITs\n",
    "sns.barplot(x='institute_type', y='closing_rank', data=df)\n",
    "plt.title('Comparison of Closing Ranks between IITs and NITs')\n",
    "plt.show()"
   ]
  },
  {
   "cell_type": "markdown",
   "metadata": {},
   "source": [
    "data=df: Specifies the DataFrame from which the data is taken.\n",
    "\n",
    "hue='category': This parameter is used to differentiate bars based on the 'category' column. Bars of different colors represent different categories."
   ]
  },
  {
   "cell_type": "markdown",
   "metadata": {},
   "source": [
    "bins:\n",
    "\n",
    "The bins parameter determines the number of bins or intervals into which the data is divided in the histogram.\n",
    "\n",
    "In your code snippet, bins=20 means that the histogram will have 20 bins, providing a discrete representation of the distribution of the data.\n",
    "\n",
    "kde:\n",
    "\n",
    "The kde parameter stands for Kernel Density Estimation.\n",
    "\n",
    "When kde=True, it overlays a Kernel Density Estimate plot on top of the histogram, giving a smooth curve that estimates the probability density function of the data."
   ]
  },
  {
   "cell_type": "code",
   "execution_count": 55,
   "metadata": {},
   "outputs": [
    {
     "data": {
      "image/png": "[encoded data removed]",
      "text/plain": [
       "<Figure size 640x480 with 1 Axes>"
      ]
     },
     "metadata": {},
     "output_type": "display_data"
    }
   ],
   "source": [
    "# Visualize the Data\n",
    "sns.histplot(df['closing_rank'], bins=20, kde=True)\n",
    "plt.title('Distribution of Closing Ranks')\n",
    "plt.show()"
   ]
  },
  {
   "cell_type": "code",
   "execution_count": 46,
   "metadata": {},
   "outputs": [],
   "source": [
    "# Pair Plot for Numerical Variables\n",
    "sns.pairplot(df)\n",
    "plt.show()"
   ]
  },
  {
   "cell_type": "code",
   "execution_count": 58,
   "metadata": {},
   "outputs": [
    {
     "data": {
      "image/png": "[encoded data removed]",
      "text/plain": [
       "<Figure size 640x480 with 1 Axes>"
      ]
     },
     "metadata": {},
     "output_type": "display_data"
    }
   ],
   "source": [
    "# Categorical Bar Plot\n",
    "sns.countplot(x='category', data=df)\n",
    "plt.title('Count of Students in Each Category')\n",
    "plt.show()"
   ]
  },
  {
   "cell_type": "code",
   "execution_count": 95,
   "metadata": {},
   "outputs": [
    {
     "data": {
      "image/png": "[encoded data removed]",
      "text/plain": [
       "<Figure size 640x480 with 1 Axes>"
      ]
     },
     "metadata": {},
     "output_type": "display_data"
    }
   ],
   "source": [
    "df_top_categories = df[df['category'].isin(['GEN','OBC-NCL','SC','ST','OBC-NCL-PWD'])]\n",
    "\n",
    "# Create the count plot for the top 5 categories\n",
    "sns.countplot(x='category', data=df_top_categories)\n",
    "plt.title('Count of Top 5 Categories')\n",
    "plt.show()"
   ]
  },
  {
   "cell_type": "code",
   "execution_count": null,
   "metadata": {},
   "outputs": [],
   "source": []
  }
 ],
 "metadata": {
  "kernelspec": {
   "display_name": "Python 3 (ipykernel)",
   "language": "python",
   "name": "python3"
  },
  "language_info": {
   "codemirror_mode": {
    "name": "ipython",
    "version": 3
   },
   "file_extension": ".py",
   "mimetype": "text/x-python",
   "name": "python",
   "nbconvert_exporter": "python",
   "pygments_lexer": "ipython3",
   "version": "3.12.2"
  }
 },
 "nbformat": 4,
 "nbformat_minor": 5
}
