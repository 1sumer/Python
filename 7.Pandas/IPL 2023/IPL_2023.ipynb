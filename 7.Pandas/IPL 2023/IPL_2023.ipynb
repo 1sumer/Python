{
 "cells": [
  {
   "cell_type": "markdown",
   "metadata": {},
   "source": [
    "# IPL 2023"
   ]
  },
  {
   "cell_type": "code",
   "execution_count": 1,
   "metadata": {},
   "outputs": [],
   "source": [
    "import pandas as pd\n",
    "import numpy as np\n",
    "import matplotlib.pyplot as plt\n",
    "import seaborn as sns"
   ]
  },
  {
   "cell_type": "code",
   "execution_count": 2,
   "metadata": {},
   "outputs": [],
   "source": [
    "Deliveries_data = pd.read_csv(r\"D:\\Python\\7.Pandas\\IPL 2023\\each_ball_records.csv\")\n",
    "Match_data = pd.read_csv(r\"D:\\Python\\7.Pandas\\IPL 2023\\each_match_records.csv\")"
   ]
  },
  {
   "cell_type": "code",
   "execution_count": 3,
   "metadata": {},
   "outputs": [
    {
     "data": {
      "text/html": [
       "<div>\n",
       "<style scoped>\n",
       "    .dataframe tbody tr th:only-of-type {\n",
       "        vertical-align: middle;\n",
       "    }\n",
       "\n",
       "    .dataframe tbody tr th {\n",
       "        vertical-align: top;\n",
       "    }\n",
       "\n",
       "    .dataframe thead th {\n",
       "        text-align: right;\n",
       "    }\n",
       "</style>\n",
       "<table border=\"1\" class=\"dataframe\">\n",
       "  <thead>\n",
       "    <tr style=\"text-align: right;\">\n",
       "      <th></th>\n",
       "      <th>season</th>\n",
       "      <th>date</th>\n",
       "      <th>match_no</th>\n",
       "      <th>match_type</th>\n",
       "      <th>venue</th>\n",
       "      <th>location</th>\n",
       "      <th>team1</th>\n",
       "      <th>team2</th>\n",
       "      <th>toss_won</th>\n",
       "      <th>toss_decision</th>\n",
       "      <th>umpire1</th>\n",
       "      <th>umpire2</th>\n",
       "      <th>reserve_umpire</th>\n",
       "      <th>match_referee</th>\n",
       "      <th>winner</th>\n",
       "      <th>winner_runs</th>\n",
       "      <th>winner_wickets</th>\n",
       "      <th>man_of_match</th>\n",
       "    </tr>\n",
       "  </thead>\n",
       "  <tbody>\n",
       "    <tr>\n",
       "      <th>0</th>\n",
       "      <td>2023</td>\n",
       "      <td>31-03-2023</td>\n",
       "      <td>1</td>\n",
       "      <td>Group</td>\n",
       "      <td>Narendra Modi Stadium</td>\n",
       "      <td>Ahmedabad</td>\n",
       "      <td>Chennai Super Kings</td>\n",
       "      <td>Gujarat Titans</td>\n",
       "      <td>Gujarat Titans</td>\n",
       "      <td>field</td>\n",
       "      <td>Nitin Menon</td>\n",
       "      <td>HAS Khalid</td>\n",
       "      <td>A Bengeri</td>\n",
       "      <td>J Srinath</td>\n",
       "      <td>Gujarat Titans</td>\n",
       "      <td>NaN</td>\n",
       "      <td>5.0</td>\n",
       "      <td>Rashid Khan</td>\n",
       "    </tr>\n",
       "    <tr>\n",
       "      <th>1</th>\n",
       "      <td>2023</td>\n",
       "      <td>01-04-2023</td>\n",
       "      <td>2</td>\n",
       "      <td>Group</td>\n",
       "      <td>Punjab Cricket Association IS Bindra Stadium</td>\n",
       "      <td>Chandigarh</td>\n",
       "      <td>Punjab Kings</td>\n",
       "      <td>Kolkata Knight Riders</td>\n",
       "      <td>Kolkata Knight Riders</td>\n",
       "      <td>field</td>\n",
       "      <td>BNJ Oxenford</td>\n",
       "      <td>YC Barde</td>\n",
       "      <td>PM Joshi</td>\n",
       "      <td>M Nayyar</td>\n",
       "      <td>Punjab Kings</td>\n",
       "      <td>7.0</td>\n",
       "      <td>NaN</td>\n",
       "      <td>Arshdeep Singh</td>\n",
       "    </tr>\n",
       "    <tr>\n",
       "      <th>2</th>\n",
       "      <td>2023</td>\n",
       "      <td>01-04-2023</td>\n",
       "      <td>3</td>\n",
       "      <td>Group</td>\n",
       "      <td>Bharat Ratna Shri Atal Bihari Vajpayee Ekana C...</td>\n",
       "      <td>Lucknow</td>\n",
       "      <td>Lucknow Super Giants</td>\n",
       "      <td>Delhi Capitals</td>\n",
       "      <td>Delhi Capitals</td>\n",
       "      <td>field</td>\n",
       "      <td>AK Chaudhary</td>\n",
       "      <td>NA Patwardhan</td>\n",
       "      <td>M Kuppuraj</td>\n",
       "      <td>DS Manohar</td>\n",
       "      <td>Lucknow Super Giants</td>\n",
       "      <td>50.0</td>\n",
       "      <td>NaN</td>\n",
       "      <td>MA Wood</td>\n",
       "    </tr>\n",
       "    <tr>\n",
       "      <th>3</th>\n",
       "      <td>2023</td>\n",
       "      <td>02-04-2023</td>\n",
       "      <td>4</td>\n",
       "      <td>Group</td>\n",
       "      <td>Rajiv Gandhi International Stadium</td>\n",
       "      <td>Hyderabad</td>\n",
       "      <td>Rajasthan Royals</td>\n",
       "      <td>Sunrisers Hyderabad</td>\n",
       "      <td>Sunrisers Hyderabad</td>\n",
       "      <td>field</td>\n",
       "      <td>KN Ananthapadmanabhan</td>\n",
       "      <td>R Pandit</td>\n",
       "      <td>Abhijit Bhattacharya</td>\n",
       "      <td>V Narayan Kutty</td>\n",
       "      <td>Rajasthan Royals</td>\n",
       "      <td>72.0</td>\n",
       "      <td>NaN</td>\n",
       "      <td>JC Buttler</td>\n",
       "    </tr>\n",
       "    <tr>\n",
       "      <th>4</th>\n",
       "      <td>2023</td>\n",
       "      <td>02-04-2023</td>\n",
       "      <td>5</td>\n",
       "      <td>Group</td>\n",
       "      <td>M Chinnaswamy Stadium</td>\n",
       "      <td>Bengaluru</td>\n",
       "      <td>Mumbai Indians</td>\n",
       "      <td>Royal Challengers Bangalore</td>\n",
       "      <td>Royal Challengers Bangalore</td>\n",
       "      <td>field</td>\n",
       "      <td>Nitin Menon</td>\n",
       "      <td>Tapan Sharma</td>\n",
       "      <td>A Bengeri</td>\n",
       "      <td>J Srinath</td>\n",
       "      <td>Royal Challengers Bangalore</td>\n",
       "      <td>NaN</td>\n",
       "      <td>8.0</td>\n",
       "      <td>F du Plessis</td>\n",
       "    </tr>\n",
       "  </tbody>\n",
       "</table>\n",
       "</div>"
      ],
      "text/plain": [
       "   season        date  match_no match_type  \\\n",
       "0    2023  31-03-2023         1      Group   \n",
       "1    2023  01-04-2023         2      Group   \n",
       "2    2023  01-04-2023         3      Group   \n",
       "3    2023  02-04-2023         4      Group   \n",
       "4    2023  02-04-2023         5      Group   \n",
       "\n",
       "                                               venue    location  \\\n",
       "0                              Narendra Modi Stadium   Ahmedabad   \n",
       "1       Punjab Cricket Association IS Bindra Stadium  Chandigarh   \n",
       "2  Bharat Ratna Shri Atal Bihari Vajpayee Ekana C...     Lucknow   \n",
       "3                 Rajiv Gandhi International Stadium   Hyderabad   \n",
       "4                              M Chinnaswamy Stadium   Bengaluru   \n",
       "\n",
       "                  team1                        team2  \\\n",
       "0   Chennai Super Kings               Gujarat Titans   \n",
       "1          Punjab Kings        Kolkata Knight Riders   \n",
       "2  Lucknow Super Giants               Delhi Capitals   \n",
       "3      Rajasthan Royals          Sunrisers Hyderabad   \n",
       "4        Mumbai Indians  Royal Challengers Bangalore   \n",
       "\n",
       "                      toss_won toss_decision                umpire1  \\\n",
       "0               Gujarat Titans         field            Nitin Menon   \n",
       "1        Kolkata Knight Riders         field           BNJ Oxenford   \n",
       "2               Delhi Capitals         field           AK Chaudhary   \n",
       "3          Sunrisers Hyderabad         field  KN Ananthapadmanabhan   \n",
       "4  Royal Challengers Bangalore         field            Nitin Menon   \n",
       "\n",
       "         umpire2        reserve_umpire    match_referee  \\\n",
       "0     HAS Khalid             A Bengeri        J Srinath   \n",
       "1       YC Barde              PM Joshi         M Nayyar   \n",
       "2  NA Patwardhan            M Kuppuraj       DS Manohar   \n",
       "3       R Pandit  Abhijit Bhattacharya  V Narayan Kutty   \n",
       "4   Tapan Sharma             A Bengeri        J Srinath   \n",
       "\n",
       "                        winner  winner_runs  winner_wickets    man_of_match  \n",
       "0               Gujarat Titans          NaN             5.0     Rashid Khan  \n",
       "1                 Punjab Kings          7.0             NaN  Arshdeep Singh  \n",
       "2         Lucknow Super Giants         50.0             NaN         MA Wood  \n",
       "3             Rajasthan Royals         72.0             NaN      JC Buttler  \n",
       "4  Royal Challengers Bangalore          NaN             8.0    F du Plessis  "
      ]
     },
     "execution_count": 3,
     "metadata": {},
     "output_type": "execute_result"
    }
   ],
   "source": [
    "Match_data = Match_data.rename(columns={'match_number': 'match_no'})\n",
    "Match_data.head()"
   ]
  },
  {
   "cell_type": "code",
   "execution_count": 4,
   "metadata": {},
   "outputs": [
    {
     "data": {
      "text/html": [
       "<div>\n",
       "<style scoped>\n",
       "    .dataframe tbody tr th:only-of-type {\n",
       "        vertical-align: middle;\n",
       "    }\n",
       "\n",
       "    .dataframe tbody tr th {\n",
       "        vertical-align: top;\n",
       "    }\n",
       "\n",
       "    .dataframe thead th {\n",
       "        text-align: right;\n",
       "    }\n",
       "</style>\n",
       "<table border=\"1\" class=\"dataframe\">\n",
       "  <thead>\n",
       "    <tr style=\"text-align: right;\">\n",
       "      <th></th>\n",
       "      <th>batting_team</th>\n",
       "      <th>bowling_team</th>\n",
       "    </tr>\n",
       "  </thead>\n",
       "  <tbody>\n",
       "    <tr>\n",
       "      <th>0</th>\n",
       "      <td>Chennai Super Kings</td>\n",
       "      <td>Gujarat Titans</td>\n",
       "    </tr>\n",
       "    <tr>\n",
       "      <th>1</th>\n",
       "      <td>Punjab Kings</td>\n",
       "      <td>Kolkata Knight Riders</td>\n",
       "    </tr>\n",
       "    <tr>\n",
       "      <th>2</th>\n",
       "      <td>Lucknow Super Giants</td>\n",
       "      <td>Delhi Capitals</td>\n",
       "    </tr>\n",
       "    <tr>\n",
       "      <th>3</th>\n",
       "      <td>Rajasthan Royals</td>\n",
       "      <td>Sunrisers Hyderabad</td>\n",
       "    </tr>\n",
       "    <tr>\n",
       "      <th>4</th>\n",
       "      <td>Mumbai Indians</td>\n",
       "      <td>Royal Challengers Bangalore</td>\n",
       "    </tr>\n",
       "    <tr>\n",
       "      <th>...</th>\n",
       "      <td>...</td>\n",
       "      <td>...</td>\n",
       "    </tr>\n",
       "    <tr>\n",
       "      <th>69</th>\n",
       "      <td>Royal Challengers Bangalore</td>\n",
       "      <td>Gujarat Titans</td>\n",
       "    </tr>\n",
       "    <tr>\n",
       "      <th>70</th>\n",
       "      <td>Chennai Super Kings</td>\n",
       "      <td>Gujarat Titans</td>\n",
       "    </tr>\n",
       "    <tr>\n",
       "      <th>71</th>\n",
       "      <td>Mumbai Indians</td>\n",
       "      <td>Lucknow Super Giants</td>\n",
       "    </tr>\n",
       "    <tr>\n",
       "      <th>72</th>\n",
       "      <td>Gujarat Titans</td>\n",
       "      <td>Mumbai Indians</td>\n",
       "    </tr>\n",
       "    <tr>\n",
       "      <th>73</th>\n",
       "      <td>Gujarat Titans</td>\n",
       "      <td>Chennai Super Kings</td>\n",
       "    </tr>\n",
       "  </tbody>\n",
       "</table>\n",
       "<p>74 rows × 2 columns</p>\n",
       "</div>"
      ],
      "text/plain": [
       "                   batting_team                 bowling_team\n",
       "0           Chennai Super Kings               Gujarat Titans\n",
       "1                  Punjab Kings        Kolkata Knight Riders\n",
       "2          Lucknow Super Giants               Delhi Capitals\n",
       "3              Rajasthan Royals          Sunrisers Hyderabad\n",
       "4                Mumbai Indians  Royal Challengers Bangalore\n",
       "..                          ...                          ...\n",
       "69  Royal Challengers Bangalore               Gujarat Titans\n",
       "70          Chennai Super Kings               Gujarat Titans\n",
       "71               Mumbai Indians         Lucknow Super Giants\n",
       "72               Gujarat Titans               Mumbai Indians\n",
       "73               Gujarat Titans          Chennai Super Kings\n",
       "\n",
       "[74 rows x 2 columns]"
      ]
     },
     "execution_count": 4,
     "metadata": {},
     "output_type": "execute_result"
    }
   ],
   "source": [
    "# Function to determine batting and bowling teams\n",
    "def determine_teams(row):\n",
    "    if row['toss_decision'] == 'bat':\n",
    "        batting_team = row['toss_won']\n",
    "        bowling_team = row['team2'] if row['team1'] == row['toss_won'] else row['team1']\n",
    "    else:\n",
    "        bowling_team = row['toss_won']\n",
    "        batting_team = row['team2'] if row['team1'] == row['toss_won'] else row['team1']\n",
    "    return batting_team, bowling_team\n",
    "\n",
    "# Apply the function to the DataFrame\n",
    "Match_data[['batting_team', 'bowling_team']] = Match_data.apply(determine_teams, axis=1, result_type='expand')\n",
    "\n",
    "Match_data[['batting_team', 'bowling_team']]"
   ]
  },
  {
   "cell_type": "code",
   "execution_count": 5,
   "metadata": {},
   "outputs": [],
   "source": [
    "Deliveries_data = pd.merge(Deliveries_data, Match_data[['match_no','season','batting_team', 'bowling_team']], on='match_no', how='left')"
   ]
  },
  {
   "cell_type": "code",
   "execution_count": 6,
   "metadata": {},
   "outputs": [
    {
     "data": {
      "text/html": [
       "<div>\n",
       "<style scoped>\n",
       "    .dataframe tbody tr th:only-of-type {\n",
       "        vertical-align: middle;\n",
       "    }\n",
       "\n",
       "    .dataframe tbody tr th {\n",
       "        vertical-align: top;\n",
       "    }\n",
       "\n",
       "    .dataframe thead th {\n",
       "        text-align: right;\n",
       "    }\n",
       "</style>\n",
       "<table border=\"1\" class=\"dataframe\">\n",
       "  <thead>\n",
       "    <tr style=\"text-align: right;\">\n",
       "      <th></th>\n",
       "      <th>match_no</th>\n",
       "      <th>ballnumber</th>\n",
       "      <th>inningno</th>\n",
       "      <th>over</th>\n",
       "      <th>outcome</th>\n",
       "      <th>batter</th>\n",
       "      <th>bowler</th>\n",
       "      <th>comment</th>\n",
       "      <th>score</th>\n",
       "      <th>dismissal_kind</th>\n",
       "      <th>season</th>\n",
       "      <th>batting_team</th>\n",
       "      <th>bowling_team</th>\n",
       "    </tr>\n",
       "  </thead>\n",
       "  <tbody>\n",
       "    <tr>\n",
       "      <th>0</th>\n",
       "      <td>1</td>\n",
       "      <td>1</td>\n",
       "      <td>1</td>\n",
       "      <td>0.1</td>\n",
       "      <td>0</td>\n",
       "      <td>Devon Conway</td>\n",
       "      <td>Mohammed Shami</td>\n",
       "      <td>Mohammed Shami to Devon Conway, no run,</td>\n",
       "      <td>0</td>\n",
       "      <td>Notout</td>\n",
       "      <td>2023</td>\n",
       "      <td>Chennai Super Kings</td>\n",
       "      <td>Gujarat Titans</td>\n",
       "    </tr>\n",
       "    <tr>\n",
       "      <th>1</th>\n",
       "      <td>1</td>\n",
       "      <td>2</td>\n",
       "      <td>1</td>\n",
       "      <td>0.2</td>\n",
       "      <td>1lb</td>\n",
       "      <td>Devon Conway</td>\n",
       "      <td>Mohammed Shami</td>\n",
       "      <td>Mohammed Shami to Devon Conway, 1 leg bye,</td>\n",
       "      <td>1</td>\n",
       "      <td>Notout</td>\n",
       "      <td>2023</td>\n",
       "      <td>Chennai Super Kings</td>\n",
       "      <td>Gujarat Titans</td>\n",
       "    </tr>\n",
       "    <tr>\n",
       "      <th>2</th>\n",
       "      <td>1</td>\n",
       "      <td>3</td>\n",
       "      <td>1</td>\n",
       "      <td>0.3</td>\n",
       "      <td>0</td>\n",
       "      <td>Ruturaj Gaikwad</td>\n",
       "      <td>Mohammed Shami</td>\n",
       "      <td>Mohammed Shami to Ruturaj Gaikwad, no run,</td>\n",
       "      <td>0</td>\n",
       "      <td>Notout</td>\n",
       "      <td>2023</td>\n",
       "      <td>Chennai Super Kings</td>\n",
       "      <td>Gujarat Titans</td>\n",
       "    </tr>\n",
       "    <tr>\n",
       "      <th>3</th>\n",
       "      <td>1</td>\n",
       "      <td>4</td>\n",
       "      <td>1</td>\n",
       "      <td>0.4</td>\n",
       "      <td>1</td>\n",
       "      <td>Ruturaj Gaikwad</td>\n",
       "      <td>Mohammed Shami</td>\n",
       "      <td>Mohammed Shami to Ruturaj Gaikwad, 1 run,</td>\n",
       "      <td>1</td>\n",
       "      <td>Notout</td>\n",
       "      <td>2023</td>\n",
       "      <td>Chennai Super Kings</td>\n",
       "      <td>Gujarat Titans</td>\n",
       "    </tr>\n",
       "    <tr>\n",
       "      <th>4</th>\n",
       "      <td>1</td>\n",
       "      <td>5</td>\n",
       "      <td>1</td>\n",
       "      <td>0.5</td>\n",
       "      <td>0</td>\n",
       "      <td>Devon Conway</td>\n",
       "      <td>Mohammed Shami</td>\n",
       "      <td>Mohammed Shami to Devon Conway, no run,</td>\n",
       "      <td>0</td>\n",
       "      <td>Notout</td>\n",
       "      <td>2023</td>\n",
       "      <td>Chennai Super Kings</td>\n",
       "      <td>Gujarat Titans</td>\n",
       "    </tr>\n",
       "  </tbody>\n",
       "</table>\n",
       "</div>"
      ],
      "text/plain": [
       "   match_no  ballnumber  inningno  over outcome           batter  \\\n",
       "0         1           1         1   0.1       0     Devon Conway   \n",
       "1         1           2         1   0.2     1lb     Devon Conway   \n",
       "2         1           3         1   0.3       0  Ruturaj Gaikwad   \n",
       "3         1           4         1   0.4       1  Ruturaj Gaikwad   \n",
       "4         1           5         1   0.5       0     Devon Conway   \n",
       "\n",
       "           bowler                                     comment  score  \\\n",
       "0  Mohammed Shami     Mohammed Shami to Devon Conway, no run,      0   \n",
       "1  Mohammed Shami  Mohammed Shami to Devon Conway, 1 leg bye,      1   \n",
       "2  Mohammed Shami  Mohammed Shami to Ruturaj Gaikwad, no run,      0   \n",
       "3  Mohammed Shami   Mohammed Shami to Ruturaj Gaikwad, 1 run,      1   \n",
       "4  Mohammed Shami     Mohammed Shami to Devon Conway, no run,      0   \n",
       "\n",
       "  dismissal_kind  season         batting_team    bowling_team  \n",
       "0         Notout    2023  Chennai Super Kings  Gujarat Titans  \n",
       "1         Notout    2023  Chennai Super Kings  Gujarat Titans  \n",
       "2         Notout    2023  Chennai Super Kings  Gujarat Titans  \n",
       "3         Notout    2023  Chennai Super Kings  Gujarat Titans  \n",
       "4         Notout    2023  Chennai Super Kings  Gujarat Titans  "
      ]
     },
     "execution_count": 6,
     "metadata": {},
     "output_type": "execute_result"
    }
   ],
   "source": [
    "Deliveries_data.head()"
   ]
  },
  {
   "cell_type": "markdown",
   "metadata": {},
   "source": [
    "<pre><code>=IF(ISNUMBER(SEARCH(\"Wicket - b\", H2)), \"Bowled\",\n",
    " IF(ISNUMBER(SEARCH(\"Wicket - c\", H2)), \"Caught\",\n",
    " IF(ISNUMBER(SEARCH(\"Wicket - lbw\", H2)), \"LBW\",\n",
    " IF(ISNUMBER(SEARCH(\"Wicket - st\", H2)), \"Stumped\",\n",
    " IF(ISNUMBER(SEARCH(\"Wicket - runout\", H2)), \"Runout\",\n",
    " \"Notout\")))))</code></pre>"
   ]
  },
  {
   "cell_type": "code",
   "execution_count": 7,
   "metadata": {},
   "outputs": [
    {
     "data": {
      "text/plain": [
       "array(['Notout', 'Bowled', 'Caught', 'LBW', 'Stumped', 'Runout'],\n",
       "      dtype=object)"
      ]
     },
     "execution_count": 7,
     "metadata": {},
     "output_type": "execute_result"
    }
   ],
   "source": [
    "Deliveries_data.dismissal_kind.unique()"
   ]
  },
  {
   "cell_type": "code",
   "execution_count": 8,
   "metadata": {},
   "outputs": [
    {
     "data": {
      "text/plain": [
       "(74, 20)"
      ]
     },
     "execution_count": 8,
     "metadata": {},
     "output_type": "execute_result"
    }
   ],
   "source": [
    "Match_data.shape"
   ]
  },
  {
   "cell_type": "code",
   "execution_count": 9,
   "metadata": {},
   "outputs": [
    {
     "data": {
      "text/plain": [
       "(17863, 13)"
      ]
     },
     "execution_count": 9,
     "metadata": {},
     "output_type": "execute_result"
    }
   ],
   "source": [
    "Deliveries_data.shape"
   ]
  },
  {
   "cell_type": "code",
   "execution_count": 10,
   "metadata": {},
   "outputs": [
    {
     "name": "stdout",
     "output_type": "stream",
     "text": [
      "<class 'pandas.core.frame.DataFrame'>\n",
      "RangeIndex: 74 entries, 0 to 73\n",
      "Data columns (total 20 columns):\n",
      " #   Column          Non-Null Count  Dtype  \n",
      "---  ------          --------------  -----  \n",
      " 0   season          74 non-null     int64  \n",
      " 1   date            74 non-null     object \n",
      " 2   match_no        74 non-null     int64  \n",
      " 3   match_type      74 non-null     object \n",
      " 4   venue           74 non-null     object \n",
      " 5   location        74 non-null     object \n",
      " 6   team1           74 non-null     object \n",
      " 7   team2           74 non-null     object \n",
      " 8   toss_won        74 non-null     object \n",
      " 9   toss_decision   74 non-null     object \n",
      " 10  umpire1         74 non-null     object \n",
      " 11  umpire2         74 non-null     object \n",
      " 12  reserve_umpire  74 non-null     object \n",
      " 13  match_referee   74 non-null     object \n",
      " 14  winner          74 non-null     object \n",
      " 15  winner_runs     40 non-null     float64\n",
      " 16  winner_wickets  33 non-null     float64\n",
      " 17  man_of_match    73 non-null     object \n",
      " 18  batting_team    74 non-null     object \n",
      " 19  bowling_team    74 non-null     object \n",
      "dtypes: float64(2), int64(2), object(16)\n",
      "memory usage: 11.7+ KB\n"
     ]
    }
   ],
   "source": [
    "Match_data.info()"
   ]
  },
  {
   "cell_type": "code",
   "execution_count": 11,
   "metadata": {},
   "outputs": [
    {
     "name": "stdout",
     "output_type": "stream",
     "text": [
      "<class 'pandas.core.frame.DataFrame'>\n",
      "RangeIndex: 17863 entries, 0 to 17862\n",
      "Data columns (total 13 columns):\n",
      " #   Column          Non-Null Count  Dtype  \n",
      "---  ------          --------------  -----  \n",
      " 0   match_no        17863 non-null  int64  \n",
      " 1   ballnumber      17863 non-null  int64  \n",
      " 2   inningno        17863 non-null  int64  \n",
      " 3   over            17863 non-null  float64\n",
      " 4   outcome         17863 non-null  object \n",
      " 5   batter          17863 non-null  object \n",
      " 6   bowler          17863 non-null  object \n",
      " 7   comment         17863 non-null  object \n",
      " 8   score           17863 non-null  int64  \n",
      " 9   dismissal_kind  17863 non-null  object \n",
      " 10  season          17863 non-null  int64  \n",
      " 11  batting_team    17863 non-null  object \n",
      " 12  bowling_team    17863 non-null  object \n",
      "dtypes: float64(1), int64(5), object(7)\n",
      "memory usage: 1.8+ MB\n"
     ]
    }
   ],
   "source": [
    "Deliveries_data.info()"
   ]
  },
  {
   "cell_type": "code",
   "execution_count": 12,
   "metadata": {},
   "outputs": [
    {
     "data": {
      "text/plain": [
       "season             0\n",
       "date               0\n",
       "match_no           0\n",
       "match_type         0\n",
       "venue              0\n",
       "location           0\n",
       "team1              0\n",
       "team2              0\n",
       "toss_won           0\n",
       "toss_decision      0\n",
       "umpire1            0\n",
       "umpire2            0\n",
       "reserve_umpire     0\n",
       "match_referee      0\n",
       "winner             0\n",
       "winner_runs       34\n",
       "winner_wickets    41\n",
       "man_of_match       1\n",
       "batting_team       0\n",
       "bowling_team       0\n",
       "dtype: int64"
      ]
     },
     "execution_count": 12,
     "metadata": {},
     "output_type": "execute_result"
    }
   ],
   "source": [
    "Match_data.isnull().sum()"
   ]
  },
  {
   "cell_type": "code",
   "execution_count": 13,
   "metadata": {},
   "outputs": [
    {
     "data": {
      "text/plain": [
       "match_no          0\n",
       "ballnumber        0\n",
       "inningno          0\n",
       "over              0\n",
       "outcome           0\n",
       "batter            0\n",
       "bowler            0\n",
       "comment           0\n",
       "score             0\n",
       "dismissal_kind    0\n",
       "season            0\n",
       "batting_team      0\n",
       "bowling_team      0\n",
       "dtype: int64"
      ]
     },
     "execution_count": 13,
     "metadata": {},
     "output_type": "execute_result"
    }
   ],
   "source": [
    "Deliveries_data.isnull().sum()"
   ]
  },
  {
   "cell_type": "code",
   "execution_count": 14,
   "metadata": {},
   "outputs": [
    {
     "data": {
      "text/plain": [
       "0"
      ]
     },
     "execution_count": 14,
     "metadata": {},
     "output_type": "execute_result"
    }
   ],
   "source": [
    "Match_data.duplicated().sum()\n",
    "Deliveries_data.duplicated().sum()"
   ]
  },
  {
   "cell_type": "markdown",
   "metadata": {},
   "source": [
    "### 1) What was the count of matches played in 2023 season?"
   ]
  },
  {
   "cell_type": "code",
   "execution_count": 15,
   "metadata": {},
   "outputs": [
    {
     "name": "stdout",
     "output_type": "stream",
     "text": [
      "Total Matches Played in 2023: 74\n"
     ]
    }
   ],
   "source": [
    "print('Total Matches Played in 2023:',Match_data.shape[0])"
   ]
  },
  {
   "cell_type": "code",
   "execution_count": 16,
   "metadata": {},
   "outputs": [
    {
     "name": "stdout",
     "output_type": "stream",
     "text": [
      "Venues Played At: ['Narendra Modi Stadium', 'Punjab Cricket Association IS Bindra Stadium', 'Bharat Ratna Shri Atal Bihari Vajpayee Ekana Cricket Stadium', 'Rajiv Gandhi International Stadium', 'M Chinnaswamy Stadium', 'MA Chidambaram Stadium', 'Arun Jaitley Stadium', 'Barsapara Cricket Stadium', 'Eden Gardens', 'Wankhede Stadium', 'Sawai Mansingh Stadium', 'Himachal Pradesh Cricket Association Stadium']\n"
     ]
    }
   ],
   "source": [
    "print('Venues Played At:',Match_data['venue'].unique().tolist()) "
   ]
  },
  {
   "cell_type": "code",
   "execution_count": 17,
   "metadata": {},
   "outputs": [
    {
     "name": "stdout",
     "output_type": "stream",
     "text": [
      "Teams :  ['Chennai Super Kings', 'Punjab Kings', 'Lucknow Super Giants', 'Rajasthan Royals', 'Mumbai Indians', 'Delhi Capitals', 'Kolkata Knight Riders', 'Sunrisers Hyderabad', 'Gujarat Titans', 'Royal Challengers Bangalore']\n"
     ]
    }
   ],
   "source": [
    "print('Teams : ',Match_data['team1'].unique().tolist())"
   ]
  },
  {
   "cell_type": "markdown",
   "metadata": {},
   "source": [
    "### 2) How many runs were scored in 2023 season?"
   ]
  },
  {
   "cell_type": "code",
   "execution_count": 18,
   "metadata": {},
   "outputs": [
    {
     "name": "stdout",
     "output_type": "stream",
     "text": [
      "   season  score\n",
      "0    2023  25684\n"
     ]
    }
   ],
   "source": [
    "season = Deliveries_data.groupby(['season'])['score'].sum().reset_index()\n",
    "print(season)"
   ]
  },
  {
   "cell_type": "markdown",
   "metadata": {},
   "source": [
    "### 4) Who has umpired the most?"
   ]
  },
  {
   "cell_type": "code",
   "execution_count": 19,
   "metadata": {},
   "outputs": [
    {
     "data": {
      "text/html": [
       "<div>\n",
       "<style scoped>\n",
       "    .dataframe tbody tr th:only-of-type {\n",
       "        vertical-align: middle;\n",
       "    }\n",
       "\n",
       "    .dataframe tbody tr th {\n",
       "        vertical-align: top;\n",
       "    }\n",
       "\n",
       "    .dataframe thead th {\n",
       "        text-align: right;\n",
       "    }\n",
       "</style>\n",
       "<table border=\"1\" class=\"dataframe\">\n",
       "  <thead>\n",
       "    <tr style=\"text-align: right;\">\n",
       "      <th></th>\n",
       "      <th>index</th>\n",
       "      <th>count</th>\n",
       "    </tr>\n",
       "  </thead>\n",
       "  <tbody>\n",
       "    <tr>\n",
       "      <th>0</th>\n",
       "      <td>Nitin Menon</td>\n",
       "      <td>11</td>\n",
       "    </tr>\n",
       "    <tr>\n",
       "      <th>1</th>\n",
       "      <td>AK Chaudhary</td>\n",
       "      <td>10</td>\n",
       "    </tr>\n",
       "    <tr>\n",
       "      <th>2</th>\n",
       "      <td>VK Sharma</td>\n",
       "      <td>10</td>\n",
       "    </tr>\n",
       "    <tr>\n",
       "      <th>3</th>\n",
       "      <td>RJ Tucker</td>\n",
       "      <td>10</td>\n",
       "    </tr>\n",
       "    <tr>\n",
       "      <th>4</th>\n",
       "      <td>KN Ananthapadmanabhan</td>\n",
       "      <td>9</td>\n",
       "    </tr>\n",
       "    <tr>\n",
       "      <th>5</th>\n",
       "      <td>J Madanagopal</td>\n",
       "      <td>9</td>\n",
       "    </tr>\n",
       "    <tr>\n",
       "      <th>6</th>\n",
       "      <td>CB Gaffaney</td>\n",
       "      <td>8</td>\n",
       "    </tr>\n",
       "    <tr>\n",
       "      <th>7</th>\n",
       "      <td>NA Patwardhan</td>\n",
       "      <td>7</td>\n",
       "    </tr>\n",
       "    <tr>\n",
       "      <th>8</th>\n",
       "      <td>Vinod Seshan</td>\n",
       "      <td>7</td>\n",
       "    </tr>\n",
       "    <tr>\n",
       "      <th>9</th>\n",
       "      <td>BNJ Oxenford</td>\n",
       "      <td>7</td>\n",
       "    </tr>\n",
       "  </tbody>\n",
       "</table>\n",
       "</div>"
      ],
      "text/plain": [
       "                   index  count\n",
       "0            Nitin Menon     11\n",
       "1           AK Chaudhary     10\n",
       "2              VK Sharma     10\n",
       "3              RJ Tucker     10\n",
       "4  KN Ananthapadmanabhan      9\n",
       "5          J Madanagopal      9\n",
       "6            CB Gaffaney      8\n",
       "7          NA Patwardhan      7\n",
       "8           Vinod Seshan      7\n",
       "9           BNJ Oxenford      7"
      ]
     },
     "execution_count": 19,
     "metadata": {},
     "output_type": "execute_result"
    }
   ],
   "source": [
    "ump=pd.concat([Match_data['umpire1'],Match_data['umpire2']])\n",
    "ump=ump.value_counts()\n",
    "umps=ump.to_frame().reset_index()\n",
    "umps.head(10)"
   ]
  },
  {
   "cell_type": "markdown",
   "metadata": {},
   "source": [
    "#### 5) Which team has won the most tosses?"
   ]
  },
  {
   "cell_type": "code",
   "execution_count": 20,
   "metadata": {},
   "outputs": [
    {
     "data": {
      "text/plain": [
       "toss_won\n",
       "Rajasthan Royals               10\n",
       "Chennai Super Kings            10\n",
       "Mumbai Indians                 10\n",
       "Gujarat Titans                  9\n",
       "Royal Challengers Bangalore     8\n",
       "Delhi Capitals                  7\n",
       "Sunrisers Hyderabad             7\n",
       "Kolkata Knight Riders           5\n",
       "Punjab Kings                    5\n",
       "Lucknow Super Giants            3\n",
       "Name: count, dtype: int64"
      ]
     },
     "execution_count": 20,
     "metadata": {},
     "output_type": "execute_result"
    }
   ],
   "source": [
    "toss=Match_data['toss_won'].value_counts()\n",
    "toss"
   ]
  },
  {
   "cell_type": "code",
   "execution_count": 21,
   "metadata": {},
   "outputs": [
    {
     "data": {
      "image/png": "[encoded data removed]",
      "text/plain": [
       "<Figure size 640x480 with 1 Axes>"
      ]
     },
     "metadata": {},
     "output_type": "display_data"
    }
   ],
   "source": [
    "plt.bar(toss.index, toss)\n",
    "plt.title(\"No. of tosses won by each team\",fontsize=16)\n",
    "plt.xlabel(\"Team\",fontsize=14)\n",
    "plt.ylabel(\"Tosses won\",fontsize=14)\n",
    "plt.xticks(rotation=90)\n",
    "plt.show()"
   ]
  },
  {
   "cell_type": "markdown",
   "metadata": {},
   "source": [
    "### 6) What does the team decide after winning the toss?"
   ]
  },
  {
   "cell_type": "code",
   "execution_count": 22,
   "metadata": {},
   "outputs": [
    {
     "data": {
      "text/plain": [
       "toss_decision\n",
       "field    53\n",
       "bat      21\n",
       "Name: count, dtype: int64"
      ]
     },
     "execution_count": 22,
     "metadata": {},
     "output_type": "execute_result"
    }
   ],
   "source": [
    "temp_series = Match_data.toss_decision.value_counts()\n",
    "temp_series"
   ]
  },
  {
   "cell_type": "code",
   "execution_count": 23,
   "metadata": {},
   "outputs": [
    {
     "data": {
      "image/png": "[encoded data removed]",
      "text/plain": [
       "<Figure size 800x600 with 1 Axes>"
      ]
     },
     "metadata": {},
     "output_type": "display_data"
    }
   ],
   "source": [
    "labels = temp_series.index\n",
    "values = (temp_series / temp_series.sum()) * 100\n",
    "plt.figure(figsize=(8, 6))\n",
    "plt.pie(values, labels=labels, autopct='%1.1f%%', textprops={'fontsize': 14}, radius=0.7)\n",
    "plt.title(\"Toss decision percentage\", fontsize=20)\n",
    "plt.show()"
   ]
  },
  {
   "cell_type": "markdown",
   "metadata": {},
   "source": [
    "### 7) Does winning the toss implies winning the game?"
   ]
  },
  {
   "cell_type": "code",
   "execution_count": 24,
   "metadata": {},
   "outputs": [],
   "source": [
    "Match_data['toss_win_game_win'] = np.where((Match_data.toss_won == Match_data.winner),'Yes','No')"
   ]
  },
  {
   "cell_type": "code",
   "execution_count": 25,
   "metadata": {},
   "outputs": [
    {
     "data": {
      "text/plain": [
       "toss_won                     toss_win_game_win\n",
       "Chennai Super Kings          Yes                  6\n",
       "                             No                   4\n",
       "Delhi Capitals               No                   4\n",
       "                             Yes                  3\n",
       "Gujarat Titans               Yes                  6\n",
       "                             No                   3\n",
       "Kolkata Knight Riders        No                   4\n",
       "                             Yes                  1\n",
       "Lucknow Super Giants         No                   2\n",
       "                             Yes                  1\n",
       "Mumbai Indians               Yes                  6\n",
       "                             No                   4\n",
       "Punjab Kings                 No                   4\n",
       "                             Yes                  1\n",
       "Rajasthan Royals             No                   6\n",
       "                             Yes                  4\n",
       "Royal Challengers Bangalore  No                   4\n",
       "                             Yes                  4\n",
       "Sunrisers Hyderabad          No                   5\n",
       "                             Yes                  2\n",
       "Name: count, dtype: int64"
      ]
     },
     "execution_count": 25,
     "metadata": {},
     "output_type": "execute_result"
    }
   ],
   "source": [
    "Match_data.groupby('toss_won')['toss_win_game_win'].value_counts()"
   ]
  },
  {
   "cell_type": "code",
   "execution_count": 26,
   "metadata": {},
   "outputs": [
    {
     "data": {
      "image/png": "[encoded data removed]",
      "text/plain": [
       "<Figure size 1000x800 with 1 Axes>"
      ]
     },
     "metadata": {},
     "output_type": "display_data"
    }
   ],
   "source": [
    "labels = [\"Yes\", \"No\"]\n",
    "values = Match_data[\"toss_win_game_win\"].value_counts()\n",
    "plt.figure(figsize=(10, 8))\n",
    "plt.title(\"Winning toss implies winning matches?\", fontsize=20)\n",
    "plt.pie(values, labels=labels, autopct=\"%1.1f%%\")\n",
    "plt.legend(title=\"Toss win = Game win\", loc=\"best\")\n",
    "plt.show()"
   ]
  },
  {
   "cell_type": "markdown",
   "metadata": {},
   "source": [
    "### 8) How many times chasing team has won the match?"
   ]
  },
  {
   "cell_type": "code",
   "execution_count": 27,
   "metadata": {},
   "outputs": [
    {
     "data": {
      "text/plain": [
       "toss_decision\n",
       "bat      21\n",
       "field    53\n",
       "Name: winner, dtype: int64"
      ]
     },
     "execution_count": 27,
     "metadata": {},
     "output_type": "execute_result"
    }
   ],
   "source": [
    "Match_data.groupby('toss_decision')['winner'].count()"
   ]
  },
  {
   "cell_type": "markdown",
   "metadata": {},
   "source": [
    "### 9) Which team has won the tournament in 2023 Season?"
   ]
  },
  {
   "cell_type": "code",
   "execution_count": 28,
   "metadata": {},
   "outputs": [
    {
     "data": {
      "text/html": [
       "<div>\n",
       "<style scoped>\n",
       "    .dataframe tbody tr th:only-of-type {\n",
       "        vertical-align: middle;\n",
       "    }\n",
       "\n",
       "    .dataframe tbody tr th {\n",
       "        vertical-align: top;\n",
       "    }\n",
       "\n",
       "    .dataframe thead th {\n",
       "        text-align: right;\n",
       "    }\n",
       "</style>\n",
       "<table border=\"1\" class=\"dataframe\">\n",
       "  <thead>\n",
       "    <tr style=\"text-align: right;\">\n",
       "      <th></th>\n",
       "      <th>winner</th>\n",
       "    </tr>\n",
       "    <tr>\n",
       "      <th>season</th>\n",
       "      <th></th>\n",
       "    </tr>\n",
       "  </thead>\n",
       "  <tbody>\n",
       "    <tr>\n",
       "      <th>2023</th>\n",
       "      <td>Chennai Super Kings</td>\n",
       "    </tr>\n",
       "  </tbody>\n",
       "</table>\n",
       "</div>"
      ],
      "text/plain": [
       "                     winner\n",
       "season                     \n",
       "2023    Chennai Super Kings"
      ]
     },
     "execution_count": 28,
     "metadata": {},
     "output_type": "execute_result"
    }
   ],
   "source": [
    "Match_data.groupby('season').agg({'winner': 'last'})"
   ]
  },
  {
   "cell_type": "markdown",
   "metadata": {},
   "source": [
    "### 10) Which team has played the most number of matches?"
   ]
  },
  {
   "cell_type": "code",
   "execution_count": 29,
   "metadata": {},
   "outputs": [
    {
     "data": {
      "text/html": [
       "<style type=\"text/css\">\n",
       "#T_a44b7_row0_col1 {\n",
       "  background-color: #023858;\n",
       "  color: #f1f1f1;\n",
       "}\n",
       "#T_a44b7_row1_col1, #T_a44b7_row2_col1 {\n",
       "  background-color: #2685bb;\n",
       "  color: #f1f1f1;\n",
       "}\n",
       "#T_a44b7_row3_col1 {\n",
       "  background-color: #b4c4df;\n",
       "  color: #000000;\n",
       "}\n",
       "#T_a44b7_row4_col1, #T_a44b7_row5_col1, #T_a44b7_row6_col1, #T_a44b7_row7_col1, #T_a44b7_row8_col1, #T_a44b7_row9_col1 {\n",
       "  background-color: #fff7fb;\n",
       "  color: #000000;\n",
       "}\n",
       "</style>\n",
       "<table id=\"T_a44b7\">\n",
       "  <thead>\n",
       "    <tr>\n",
       "      <th class=\"blank level0\" >&nbsp;</th>\n",
       "      <th id=\"T_a44b7_level0_col0\" class=\"col_heading level0 col0\" >Team Name</th>\n",
       "      <th id=\"T_a44b7_level0_col1\" class=\"col_heading level0 col1\" >Total Matches played</th>\n",
       "    </tr>\n",
       "  </thead>\n",
       "  <tbody>\n",
       "    <tr>\n",
       "      <th id=\"T_a44b7_level0_row0\" class=\"row_heading level0 row0\" >0</th>\n",
       "      <td id=\"T_a44b7_row0_col0\" class=\"data row0 col0\" >Gujarat Titans</td>\n",
       "      <td id=\"T_a44b7_row0_col1\" class=\"data row0 col1\" >17</td>\n",
       "    </tr>\n",
       "    <tr>\n",
       "      <th id=\"T_a44b7_level0_row1\" class=\"row_heading level0 row1\" >1</th>\n",
       "      <td id=\"T_a44b7_row1_col0\" class=\"data row1 col0\" >Chennai Super Kings</td>\n",
       "      <td id=\"T_a44b7_row1_col1\" class=\"data row1 col1\" >16</td>\n",
       "    </tr>\n",
       "    <tr>\n",
       "      <th id=\"T_a44b7_level0_row2\" class=\"row_heading level0 row2\" >2</th>\n",
       "      <td id=\"T_a44b7_row2_col0\" class=\"data row2 col0\" >Mumbai Indians</td>\n",
       "      <td id=\"T_a44b7_row2_col1\" class=\"data row2 col1\" >16</td>\n",
       "    </tr>\n",
       "    <tr>\n",
       "      <th id=\"T_a44b7_level0_row3\" class=\"row_heading level0 row3\" >3</th>\n",
       "      <td id=\"T_a44b7_row3_col0\" class=\"data row3 col0\" >Lucknow Super Giants</td>\n",
       "      <td id=\"T_a44b7_row3_col1\" class=\"data row3 col1\" >15</td>\n",
       "    </tr>\n",
       "    <tr>\n",
       "      <th id=\"T_a44b7_level0_row4\" class=\"row_heading level0 row4\" >4</th>\n",
       "      <td id=\"T_a44b7_row4_col0\" class=\"data row4 col0\" >Punjab Kings</td>\n",
       "      <td id=\"T_a44b7_row4_col1\" class=\"data row4 col1\" >14</td>\n",
       "    </tr>\n",
       "    <tr>\n",
       "      <th id=\"T_a44b7_level0_row5\" class=\"row_heading level0 row5\" >5</th>\n",
       "      <td id=\"T_a44b7_row5_col0\" class=\"data row5 col0\" >Rajasthan Royals</td>\n",
       "      <td id=\"T_a44b7_row5_col1\" class=\"data row5 col1\" >14</td>\n",
       "    </tr>\n",
       "    <tr>\n",
       "      <th id=\"T_a44b7_level0_row6\" class=\"row_heading level0 row6\" >6</th>\n",
       "      <td id=\"T_a44b7_row6_col0\" class=\"data row6 col0\" >Delhi Capitals</td>\n",
       "      <td id=\"T_a44b7_row6_col1\" class=\"data row6 col1\" >14</td>\n",
       "    </tr>\n",
       "    <tr>\n",
       "      <th id=\"T_a44b7_level0_row7\" class=\"row_heading level0 row7\" >7</th>\n",
       "      <td id=\"T_a44b7_row7_col0\" class=\"data row7 col0\" >Kolkata Knight Riders</td>\n",
       "      <td id=\"T_a44b7_row7_col1\" class=\"data row7 col1\" >14</td>\n",
       "    </tr>\n",
       "    <tr>\n",
       "      <th id=\"T_a44b7_level0_row8\" class=\"row_heading level0 row8\" >8</th>\n",
       "      <td id=\"T_a44b7_row8_col0\" class=\"data row8 col0\" >Sunrisers Hyderabad</td>\n",
       "      <td id=\"T_a44b7_row8_col1\" class=\"data row8 col1\" >14</td>\n",
       "    </tr>\n",
       "    <tr>\n",
       "      <th id=\"T_a44b7_level0_row9\" class=\"row_heading level0 row9\" >9</th>\n",
       "      <td id=\"T_a44b7_row9_col0\" class=\"data row9 col0\" >Royal Challengers Bangalore</td>\n",
       "      <td id=\"T_a44b7_row9_col1\" class=\"data row9 col1\" >14</td>\n",
       "    </tr>\n",
       "  </tbody>\n",
       "</table>\n"
      ],
      "text/plain": [
       "<pandas.io.formats.style.Styler at 0x14dd5cbc620>"
      ]
     },
     "execution_count": 29,
     "metadata": {},
     "output_type": "execute_result"
    }
   ],
   "source": [
    "teams = pd.concat([Match_data['team1'], Match_data['team2']]).value_counts().reset_index()\n",
    "teams.columns = ['Team Name', 'Total Matches played']\n",
    "teams.style.background_gradient(cmap='PuBu')"
   ]
  },
  {
   "cell_type": "markdown",
   "metadata": {},
   "source": [
    "### 11) Which team has won the most number of times?"
   ]
  },
  {
   "cell_type": "code",
   "execution_count": 30,
   "metadata": {},
   "outputs": [
    {
     "data": {
      "text/html": [
       "<style type=\"text/css\">\n",
       "#T_7f0c7_row0_col1 {\n",
       "  background-color: #023858;\n",
       "  color: #f1f1f1;\n",
       "}\n",
       "#T_7f0c7_row1_col1 {\n",
       "  background-color: #045382;\n",
       "  color: #f1f1f1;\n",
       "}\n",
       "#T_7f0c7_row2_col1 {\n",
       "  background-color: #0567a2;\n",
       "  color: #f1f1f1;\n",
       "}\n",
       "#T_7f0c7_row3_col1 {\n",
       "  background-color: #187cb6;\n",
       "  color: #f1f1f1;\n",
       "}\n",
       "#T_7f0c7_row4_col1, #T_7f0c7_row5_col1 {\n",
       "  background-color: #4295c3;\n",
       "  color: #f1f1f1;\n",
       "}\n",
       "#T_7f0c7_row6_col1, #T_7f0c7_row7_col1 {\n",
       "  background-color: #73a9cf;\n",
       "  color: #f1f1f1;\n",
       "}\n",
       "#T_7f0c7_row8_col1 {\n",
       "  background-color: #9cb9d9;\n",
       "  color: #000000;\n",
       "}\n",
       "#T_7f0c7_row9_col1 {\n",
       "  background-color: #c0c9e2;\n",
       "  color: #000000;\n",
       "}\n",
       "#T_7f0c7_row10_col1 {\n",
       "  background-color: #fff7fb;\n",
       "  color: #000000;\n",
       "}\n",
       "</style>\n",
       "<table id=\"T_7f0c7\">\n",
       "  <thead>\n",
       "    <tr>\n",
       "      <th class=\"blank level0\" >&nbsp;</th>\n",
       "      <th id=\"T_7f0c7_level0_col0\" class=\"col_heading level0 col0\" >Team Name</th>\n",
       "      <th id=\"T_7f0c7_level0_col1\" class=\"col_heading level0 col1\" >Wins</th>\n",
       "    </tr>\n",
       "  </thead>\n",
       "  <tbody>\n",
       "    <tr>\n",
       "      <th id=\"T_7f0c7_level0_row0\" class=\"row_heading level0 row0\" >0</th>\n",
       "      <td id=\"T_7f0c7_row0_col0\" class=\"data row0 col0\" >Gujarat Titans</td>\n",
       "      <td id=\"T_7f0c7_row0_col1\" class=\"data row0 col1\" >11</td>\n",
       "    </tr>\n",
       "    <tr>\n",
       "      <th id=\"T_7f0c7_level0_row1\" class=\"row_heading level0 row1\" >1</th>\n",
       "      <td id=\"T_7f0c7_row1_col0\" class=\"data row1 col0\" >Chennai Super Kings</td>\n",
       "      <td id=\"T_7f0c7_row1_col1\" class=\"data row1 col1\" >10</td>\n",
       "    </tr>\n",
       "    <tr>\n",
       "      <th id=\"T_7f0c7_level0_row2\" class=\"row_heading level0 row2\" >2</th>\n",
       "      <td id=\"T_7f0c7_row2_col0\" class=\"data row2 col0\" >Mumbai Indians</td>\n",
       "      <td id=\"T_7f0c7_row2_col1\" class=\"data row2 col1\" >9</td>\n",
       "    </tr>\n",
       "    <tr>\n",
       "      <th id=\"T_7f0c7_level0_row3\" class=\"row_heading level0 row3\" >3</th>\n",
       "      <td id=\"T_7f0c7_row3_col0\" class=\"data row3 col0\" >Lucknow Super Giants</td>\n",
       "      <td id=\"T_7f0c7_row3_col1\" class=\"data row3 col1\" >8</td>\n",
       "    </tr>\n",
       "    <tr>\n",
       "      <th id=\"T_7f0c7_level0_row4\" class=\"row_heading level0 row4\" >4</th>\n",
       "      <td id=\"T_7f0c7_row4_col0\" class=\"data row4 col0\" >Rajasthan Royals</td>\n",
       "      <td id=\"T_7f0c7_row4_col1\" class=\"data row4 col1\" >7</td>\n",
       "    </tr>\n",
       "    <tr>\n",
       "      <th id=\"T_7f0c7_level0_row5\" class=\"row_heading level0 row5\" >5</th>\n",
       "      <td id=\"T_7f0c7_row5_col0\" class=\"data row5 col0\" >Royal Challengers Bangalore</td>\n",
       "      <td id=\"T_7f0c7_row5_col1\" class=\"data row5 col1\" >7</td>\n",
       "    </tr>\n",
       "    <tr>\n",
       "      <th id=\"T_7f0c7_level0_row6\" class=\"row_heading level0 row6\" >6</th>\n",
       "      <td id=\"T_7f0c7_row6_col0\" class=\"data row6 col0\" >Punjab Kings</td>\n",
       "      <td id=\"T_7f0c7_row6_col1\" class=\"data row6 col1\" >6</td>\n",
       "    </tr>\n",
       "    <tr>\n",
       "      <th id=\"T_7f0c7_level0_row7\" class=\"row_heading level0 row7\" >7</th>\n",
       "      <td id=\"T_7f0c7_row7_col0\" class=\"data row7 col0\" >Kolkata Knight Riders</td>\n",
       "      <td id=\"T_7f0c7_row7_col1\" class=\"data row7 col1\" >6</td>\n",
       "    </tr>\n",
       "    <tr>\n",
       "      <th id=\"T_7f0c7_level0_row8\" class=\"row_heading level0 row8\" >8</th>\n",
       "      <td id=\"T_7f0c7_row8_col0\" class=\"data row8 col0\" >Delhi Capitals</td>\n",
       "      <td id=\"T_7f0c7_row8_col1\" class=\"data row8 col1\" >5</td>\n",
       "    </tr>\n",
       "    <tr>\n",
       "      <th id=\"T_7f0c7_level0_row9\" class=\"row_heading level0 row9\" >9</th>\n",
       "      <td id=\"T_7f0c7_row9_col0\" class=\"data row9 col0\" >Sunrisers Hyderabad</td>\n",
       "      <td id=\"T_7f0c7_row9_col1\" class=\"data row9 col1\" >4</td>\n",
       "    </tr>\n",
       "    <tr>\n",
       "      <th id=\"T_7f0c7_level0_row10\" class=\"row_heading level0 row10\" >10</th>\n",
       "      <td id=\"T_7f0c7_row10_col0\" class=\"data row10 col0\" >No Result</td>\n",
       "      <td id=\"T_7f0c7_row10_col1\" class=\"data row10 col1\" >1</td>\n",
       "    </tr>\n",
       "  </tbody>\n",
       "</table>\n"
      ],
      "text/plain": [
       "<pandas.io.formats.style.Styler at 0x14dd7587710>"
      ]
     },
     "execution_count": 30,
     "metadata": {},
     "output_type": "execute_result"
    }
   ],
   "source": [
    "wins=pd.DataFrame(Match_data['winner'].value_counts()).reset_index()\n",
    "wins.columns=['Team Name','Wins']\n",
    "wins.style.background_gradient(cmap='PuBu')"
   ]
  },
  {
   "cell_type": "code",
   "execution_count": 31,
   "metadata": {},
   "outputs": [
    {
     "name": "stderr",
     "output_type": "stream",
     "text": [
      "C:\\Users\\Admin\\AppData\\Local\\Temp\\ipykernel_10468\\3247660367.py:2: FutureWarning: \n",
      "\n",
      "Passing `palette` without assigning `hue` is deprecated and will be removed in v0.14.0. Assign the `x` variable to `hue` and set `legend=False` for the same effect.\n",
      "\n",
      "  sns.barplot(x=\"Team Name\", y=\"Wins\", data=wins.sort_values(by='Wins', ascending=False), palette='Greens')\n"
     ]
    },
    {
     "data": {
      "image/png": "[encoded data removed]",
      "text/plain": [
       "<Figure size 1000x600 with 1 Axes>"
      ]
     },
     "metadata": {},
     "output_type": "display_data"
    }
   ],
   "source": [
    "plt.subplots(figsize=(10,6))\n",
    "sns.barplot(x=\"Team Name\", y=\"Wins\", data=wins.sort_values(by='Wins', ascending=False), palette='Greens')\n",
    "plt.title(\"Total Win by teams\", fontsize=26)\n",
    "plt.xlabel(\"Team Name\",fontsize=14)\n",
    "plt.ylabel(\"Count\",fontsize=14)\n",
    "plt.xticks(rotation=90)\n",
    "plt.show()"
   ]
  },
  {
   "cell_type": "markdown",
   "metadata": {},
   "source": [
    "#### 12) Which team has the highest winning percentage?"
   ]
  },
  {
   "cell_type": "code",
   "execution_count": 32,
   "metadata": {},
   "outputs": [
    {
     "data": {
      "text/html": [
       "<style type=\"text/css\">\n",
       "#T_89ebc_row0_col3 {\n",
       "  background-color: #023858;\n",
       "  color: #f1f1f1;\n",
       "}\n",
       "#T_89ebc_row1_col3 {\n",
       "  background-color: #034871;\n",
       "  color: #f1f1f1;\n",
       "}\n",
       "#T_89ebc_row2_col3 {\n",
       "  background-color: #056dab;\n",
       "  color: #f1f1f1;\n",
       "}\n",
       "#T_89ebc_row3_col3 {\n",
       "  background-color: #1e80b8;\n",
       "  color: #f1f1f1;\n",
       "}\n",
       "#T_89ebc_row4_col3, #T_89ebc_row5_col3 {\n",
       "  background-color: #4697c4;\n",
       "  color: #f1f1f1;\n",
       "}\n",
       "#T_89ebc_row6_col3, #T_89ebc_row7_col3 {\n",
       "  background-color: #9ebad9;\n",
       "  color: #000000;\n",
       "}\n",
       "#T_89ebc_row8_col3 {\n",
       "  background-color: #dcdaeb;\n",
       "  color: #000000;\n",
       "}\n",
       "#T_89ebc_row9_col3 {\n",
       "  background-color: #fff7fb;\n",
       "  color: #000000;\n",
       "}\n",
       "</style>\n",
       "<table id=\"T_89ebc\">\n",
       "  <thead>\n",
       "    <tr>\n",
       "      <th class=\"blank level0\" >&nbsp;</th>\n",
       "      <th id=\"T_89ebc_level0_col0\" class=\"col_heading level0 col0\" >Team Name</th>\n",
       "      <th id=\"T_89ebc_level0_col1\" class=\"col_heading level0 col1\" >Total Matches played</th>\n",
       "      <th id=\"T_89ebc_level0_col2\" class=\"col_heading level0 col2\" >Wins</th>\n",
       "      <th id=\"T_89ebc_level0_col3\" class=\"col_heading level0 col3\" >% Win</th>\n",
       "    </tr>\n",
       "  </thead>\n",
       "  <tbody>\n",
       "    <tr>\n",
       "      <th id=\"T_89ebc_level0_row0\" class=\"row_heading level0 row0\" >0</th>\n",
       "      <td id=\"T_89ebc_row0_col0\" class=\"data row0 col0\" >Gujarat Titans</td>\n",
       "      <td id=\"T_89ebc_row0_col1\" class=\"data row0 col1\" >17</td>\n",
       "      <td id=\"T_89ebc_row0_col2\" class=\"data row0 col2\" >11</td>\n",
       "      <td id=\"T_89ebc_row0_col3\" class=\"data row0 col3\" >64.705882</td>\n",
       "    </tr>\n",
       "    <tr>\n",
       "      <th id=\"T_89ebc_level0_row1\" class=\"row_heading level0 row1\" >1</th>\n",
       "      <td id=\"T_89ebc_row1_col0\" class=\"data row1 col0\" >Chennai Super Kings</td>\n",
       "      <td id=\"T_89ebc_row1_col1\" class=\"data row1 col1\" >16</td>\n",
       "      <td id=\"T_89ebc_row1_col2\" class=\"data row1 col2\" >10</td>\n",
       "      <td id=\"T_89ebc_row1_col3\" class=\"data row1 col3\" >62.500000</td>\n",
       "    </tr>\n",
       "    <tr>\n",
       "      <th id=\"T_89ebc_level0_row2\" class=\"row_heading level0 row2\" >2</th>\n",
       "      <td id=\"T_89ebc_row2_col0\" class=\"data row2 col0\" >Mumbai Indians</td>\n",
       "      <td id=\"T_89ebc_row2_col1\" class=\"data row2 col1\" >16</td>\n",
       "      <td id=\"T_89ebc_row2_col2\" class=\"data row2 col2\" >9</td>\n",
       "      <td id=\"T_89ebc_row2_col3\" class=\"data row2 col3\" >56.250000</td>\n",
       "    </tr>\n",
       "    <tr>\n",
       "      <th id=\"T_89ebc_level0_row3\" class=\"row_heading level0 row3\" >3</th>\n",
       "      <td id=\"T_89ebc_row3_col0\" class=\"data row3 col0\" >Lucknow Super Giants</td>\n",
       "      <td id=\"T_89ebc_row3_col1\" class=\"data row3 col1\" >15</td>\n",
       "      <td id=\"T_89ebc_row3_col2\" class=\"data row3 col2\" >8</td>\n",
       "      <td id=\"T_89ebc_row3_col3\" class=\"data row3 col3\" >53.333333</td>\n",
       "    </tr>\n",
       "    <tr>\n",
       "      <th id=\"T_89ebc_level0_row4\" class=\"row_heading level0 row4\" >4</th>\n",
       "      <td id=\"T_89ebc_row4_col0\" class=\"data row4 col0\" >Rajasthan Royals</td>\n",
       "      <td id=\"T_89ebc_row4_col1\" class=\"data row4 col1\" >14</td>\n",
       "      <td id=\"T_89ebc_row4_col2\" class=\"data row4 col2\" >7</td>\n",
       "      <td id=\"T_89ebc_row4_col3\" class=\"data row4 col3\" >50.000000</td>\n",
       "    </tr>\n",
       "    <tr>\n",
       "      <th id=\"T_89ebc_level0_row5\" class=\"row_heading level0 row5\" >5</th>\n",
       "      <td id=\"T_89ebc_row5_col0\" class=\"data row5 col0\" >Royal Challengers Bangalore</td>\n",
       "      <td id=\"T_89ebc_row5_col1\" class=\"data row5 col1\" >14</td>\n",
       "      <td id=\"T_89ebc_row5_col2\" class=\"data row5 col2\" >7</td>\n",
       "      <td id=\"T_89ebc_row5_col3\" class=\"data row5 col3\" >50.000000</td>\n",
       "    </tr>\n",
       "    <tr>\n",
       "      <th id=\"T_89ebc_level0_row6\" class=\"row_heading level0 row6\" >6</th>\n",
       "      <td id=\"T_89ebc_row6_col0\" class=\"data row6 col0\" >Punjab Kings</td>\n",
       "      <td id=\"T_89ebc_row6_col1\" class=\"data row6 col1\" >14</td>\n",
       "      <td id=\"T_89ebc_row6_col2\" class=\"data row6 col2\" >6</td>\n",
       "      <td id=\"T_89ebc_row6_col3\" class=\"data row6 col3\" >42.857143</td>\n",
       "    </tr>\n",
       "    <tr>\n",
       "      <th id=\"T_89ebc_level0_row7\" class=\"row_heading level0 row7\" >7</th>\n",
       "      <td id=\"T_89ebc_row7_col0\" class=\"data row7 col0\" >Kolkata Knight Riders</td>\n",
       "      <td id=\"T_89ebc_row7_col1\" class=\"data row7 col1\" >14</td>\n",
       "      <td id=\"T_89ebc_row7_col2\" class=\"data row7 col2\" >6</td>\n",
       "      <td id=\"T_89ebc_row7_col3\" class=\"data row7 col3\" >42.857143</td>\n",
       "    </tr>\n",
       "    <tr>\n",
       "      <th id=\"T_89ebc_level0_row8\" class=\"row_heading level0 row8\" >8</th>\n",
       "      <td id=\"T_89ebc_row8_col0\" class=\"data row8 col0\" >Delhi Capitals</td>\n",
       "      <td id=\"T_89ebc_row8_col1\" class=\"data row8 col1\" >14</td>\n",
       "      <td id=\"T_89ebc_row8_col2\" class=\"data row8 col2\" >5</td>\n",
       "      <td id=\"T_89ebc_row8_col3\" class=\"data row8 col3\" >35.714286</td>\n",
       "    </tr>\n",
       "    <tr>\n",
       "      <th id=\"T_89ebc_level0_row9\" class=\"row_heading level0 row9\" >9</th>\n",
       "      <td id=\"T_89ebc_row9_col0\" class=\"data row9 col0\" >Sunrisers Hyderabad</td>\n",
       "      <td id=\"T_89ebc_row9_col1\" class=\"data row9 col1\" >14</td>\n",
       "      <td id=\"T_89ebc_row9_col2\" class=\"data row9 col2\" >4</td>\n",
       "      <td id=\"T_89ebc_row9_col3\" class=\"data row9 col3\" >28.571429</td>\n",
       "    </tr>\n",
       "  </tbody>\n",
       "</table>\n"
      ],
      "text/plain": [
       "<pandas.io.formats.style.Styler at 0x14dd966df10>"
      ]
     },
     "execution_count": 32,
     "metadata": {},
     "output_type": "execute_result"
    }
   ],
   "source": [
    "played=teams.merge(wins,left_on='Team Name',right_on='Team Name',how='inner')\n",
    "played['% Win']=(played['Wins']/played['Total Matches played'])*100\n",
    "played.sort_values(by=['% Win'],ascending=False).reset_index().drop('index',axis=1).style.background_gradient(cmap='PuBu',subset=['% Win'])"
   ]
  },
  {
   "cell_type": "markdown",
   "metadata": {},
   "source": [
    "### 13) Is there any lucky venue for a particular team?"
   ]
  },
  {
   "cell_type": "code",
   "execution_count": 33,
   "metadata": {},
   "outputs": [],
   "source": [
    "def lucky(Match_data,team_name):\n",
    "    return Match_data[Match_data['winner']==team_name]['venue'].value_counts().nlargest(10)"
   ]
  },
  {
   "cell_type": "code",
   "execution_count": 34,
   "metadata": {},
   "outputs": [
    {
     "data": {
      "image/png": "[encoded data removed]",
      "text/plain": [
       "<Figure size 1000x600 with 1 Axes>"
      ]
     },
     "metadata": {},
     "output_type": "display_data"
    }
   ],
   "source": [
    "mi = lucky(Match_data, 'Chennai Super Kings')# Royal Challengers Bangalore\n",
    "values = mi\n",
    "labels = mi.index\n",
    "fig, ax = plt.subplots(figsize=(10, 6))\n",
    "wedges, texts, autotexts = ax.pie(values, labels=labels, autopct='%1.1f%%', pctdistance=0.85,\n",
    "                                  textprops=dict(color=\"w\"), wedgeprops=dict(width=0.6, edgecolor='w'))\n",
    "for w in wedges:\n",
    "    w.set_edgecolor('w')\n",
    "ax.legend(wedges, labels, title=\"Venues\", loc=\"center left\", bbox_to_anchor=(1, 0, 0.5, 1))\n",
    "ax.set_title('Wins at different Venues for CSK', fontsize=20)\n",
    "plt.show()"
   ]
  },
  {
   "cell_type": "code",
   "execution_count": 35,
   "metadata": {},
   "outputs": [
    {
     "data": {
      "text/plain": [
       "Index(['match_no', 'ballnumber', 'inningno', 'over', 'outcome', 'batter',\n",
       "       'bowler', 'comment', 'score', 'dismissal_kind', 'season',\n",
       "       'batting_team', 'bowling_team'],\n",
       "      dtype='object')"
      ]
     },
     "execution_count": 35,
     "metadata": {},
     "output_type": "execute_result"
    }
   ],
   "source": [
    "Deliveries_data.columns"
   ]
  },
  {
   "cell_type": "markdown",
   "metadata": {},
   "source": [
    "### 14) Particular Batsmen analysis"
   ]
  },
  {
   "cell_type": "code",
   "execution_count": 36,
   "metadata": {},
   "outputs": [
    {
     "data": {
      "text/html": [
       "<div>\n",
       "<style scoped>\n",
       "    .dataframe tbody tr th:only-of-type {\n",
       "        vertical-align: middle;\n",
       "    }\n",
       "\n",
       "    .dataframe tbody tr th {\n",
       "        vertical-align: top;\n",
       "    }\n",
       "\n",
       "    .dataframe thead th {\n",
       "        text-align: right;\n",
       "    }\n",
       "</style>\n",
       "<table border=\"1\" class=\"dataframe\">\n",
       "  <thead>\n",
       "    <tr style=\"text-align: right;\">\n",
       "      <th></th>\n",
       "      <th>score</th>\n",
       "    </tr>\n",
       "    <tr>\n",
       "      <th>batter</th>\n",
       "      <th></th>\n",
       "    </tr>\n",
       "  </thead>\n",
       "  <tbody>\n",
       "    <tr>\n",
       "      <th>Shubman Gill</th>\n",
       "      <td>916</td>\n",
       "    </tr>\n",
       "    <tr>\n",
       "      <th>Faf du Plessis</th>\n",
       "      <td>735</td>\n",
       "    </tr>\n",
       "    <tr>\n",
       "      <th>Devon Conway</th>\n",
       "      <td>684</td>\n",
       "    </tr>\n",
       "    <tr>\n",
       "      <th>Virat Kohli</th>\n",
       "      <td>657</td>\n",
       "    </tr>\n",
       "    <tr>\n",
       "      <th>Yashasvi Jaiswal</th>\n",
       "      <td>637</td>\n",
       "    </tr>\n",
       "    <tr>\n",
       "      <th>Ruturaj Gaikwad</th>\n",
       "      <td>608</td>\n",
       "    </tr>\n",
       "    <tr>\n",
       "      <th>Suryakumar Yadav</th>\n",
       "      <td>604</td>\n",
       "    </tr>\n",
       "    <tr>\n",
       "      <th>David Warner</th>\n",
       "      <td>526</td>\n",
       "    </tr>\n",
       "    <tr>\n",
       "      <th>Rinku Singh</th>\n",
       "      <td>495</td>\n",
       "    </tr>\n",
       "    <tr>\n",
       "      <th>Ishan Kishan</th>\n",
       "      <td>463</td>\n",
       "    </tr>\n",
       "  </tbody>\n",
       "</table>\n",
       "</div>"
      ],
      "text/plain": [
       "                  score\n",
       "batter                 \n",
       "Shubman Gill        916\n",
       "Faf du Plessis      735\n",
       "Devon Conway        684\n",
       "Virat Kohli         657\n",
       "Yashasvi Jaiswal    637\n",
       "Ruturaj Gaikwad     608\n",
       "Suryakumar Yadav    604\n",
       "David Warner        526\n",
       "Rinku Singh         495\n",
       "Ishan Kishan        463"
      ]
     },
     "execution_count": 36,
     "metadata": {},
     "output_type": "execute_result"
    }
   ],
   "source": [
    "Deliveries_data.groupby('batter')['score'].sum().sort_values(ascending= False).head(10).to_frame()"
   ]
  },
  {
   "cell_type": "code",
   "execution_count": 37,
   "metadata": {},
   "outputs": [
    {
     "data": {
      "text/html": [
       "<div>\n",
       "<style scoped>\n",
       "    .dataframe tbody tr th:only-of-type {\n",
       "        vertical-align: middle;\n",
       "    }\n",
       "\n",
       "    .dataframe tbody tr th {\n",
       "        vertical-align: top;\n",
       "    }\n",
       "\n",
       "    .dataframe thead th {\n",
       "        text-align: right;\n",
       "    }\n",
       "</style>\n",
       "<table border=\"1\" class=\"dataframe\">\n",
       "  <thead>\n",
       "    <tr style=\"text-align: right;\">\n",
       "      <th></th>\n",
       "      <th>match_no</th>\n",
       "      <th>ballnumber</th>\n",
       "      <th>inningno</th>\n",
       "      <th>over</th>\n",
       "      <th>outcome</th>\n",
       "      <th>batter</th>\n",
       "      <th>bowler</th>\n",
       "      <th>comment</th>\n",
       "      <th>score</th>\n",
       "      <th>dismissal_kind</th>\n",
       "      <th>season</th>\n",
       "      <th>batting_team</th>\n",
       "      <th>bowling_team</th>\n",
       "    </tr>\n",
       "  </thead>\n",
       "  <tbody>\n",
       "    <tr>\n",
       "      <th>125</th>\n",
       "      <td>1</td>\n",
       "      <td>5</td>\n",
       "      <td>2</td>\n",
       "      <td>0.5</td>\n",
       "      <td>2</td>\n",
       "      <td>Shubman Gill</td>\n",
       "      <td>Deepak Chahar</td>\n",
       "      <td>Deepak Chahar to Shubman Gill, 2 runs,</td>\n",
       "      <td>2</td>\n",
       "      <td>Notout</td>\n",
       "      <td>2023</td>\n",
       "      <td>Chennai Super Kings</td>\n",
       "      <td>Gujarat Titans</td>\n",
       "    </tr>\n",
       "    <tr>\n",
       "      <th>126</th>\n",
       "      <td>1</td>\n",
       "      <td>6</td>\n",
       "      <td>2</td>\n",
       "      <td>0.6</td>\n",
       "      <td>0</td>\n",
       "      <td>Shubman Gill</td>\n",
       "      <td>Deepak Chahar</td>\n",
       "      <td>Deepak Chahar to Shubman Gill, no run,</td>\n",
       "      <td>0</td>\n",
       "      <td>Notout</td>\n",
       "      <td>2023</td>\n",
       "      <td>Chennai Super Kings</td>\n",
       "      <td>Gujarat Titans</td>\n",
       "    </tr>\n",
       "    <tr>\n",
       "      <th>130</th>\n",
       "      <td>1</td>\n",
       "      <td>10</td>\n",
       "      <td>2</td>\n",
       "      <td>1.4</td>\n",
       "      <td>0</td>\n",
       "      <td>Shubman Gill</td>\n",
       "      <td>Tushar Deshpande</td>\n",
       "      <td>Tushar Deshpande to Shubman Gill, no run,</td>\n",
       "      <td>0</td>\n",
       "      <td>Notout</td>\n",
       "      <td>2023</td>\n",
       "      <td>Chennai Super Kings</td>\n",
       "      <td>Gujarat Titans</td>\n",
       "    </tr>\n",
       "    <tr>\n",
       "      <th>131</th>\n",
       "      <td>1</td>\n",
       "      <td>11</td>\n",
       "      <td>2</td>\n",
       "      <td>1.5</td>\n",
       "      <td>4</td>\n",
       "      <td>Shubman Gill</td>\n",
       "      <td>Tushar Deshpande</td>\n",
       "      <td>Tushar Deshpande to Shubman Gill, Four,</td>\n",
       "      <td>4</td>\n",
       "      <td>Notout</td>\n",
       "      <td>2023</td>\n",
       "      <td>Chennai Super Kings</td>\n",
       "      <td>Gujarat Titans</td>\n",
       "    </tr>\n",
       "    <tr>\n",
       "      <th>132</th>\n",
       "      <td>1</td>\n",
       "      <td>12</td>\n",
       "      <td>2</td>\n",
       "      <td>1.6</td>\n",
       "      <td>0</td>\n",
       "      <td>Shubman Gill</td>\n",
       "      <td>Tushar Deshpande</td>\n",
       "      <td>Tushar Deshpande to Shubman Gill, no run,</td>\n",
       "      <td>0</td>\n",
       "      <td>Notout</td>\n",
       "      <td>2023</td>\n",
       "      <td>Chennai Super Kings</td>\n",
       "      <td>Gujarat Titans</td>\n",
       "    </tr>\n",
       "  </tbody>\n",
       "</table>\n",
       "</div>"
      ],
      "text/plain": [
       "     match_no  ballnumber  inningno  over outcome        batter  \\\n",
       "125         1           5         2   0.5       2  Shubman Gill   \n",
       "126         1           6         2   0.6       0  Shubman Gill   \n",
       "130         1          10         2   1.4       0  Shubman Gill   \n",
       "131         1          11         2   1.5       4  Shubman Gill   \n",
       "132         1          12         2   1.6       0  Shubman Gill   \n",
       "\n",
       "               bowler                                    comment  score  \\\n",
       "125     Deepak Chahar     Deepak Chahar to Shubman Gill, 2 runs,      2   \n",
       "126     Deepak Chahar     Deepak Chahar to Shubman Gill, no run,      0   \n",
       "130  Tushar Deshpande  Tushar Deshpande to Shubman Gill, no run,      0   \n",
       "131  Tushar Deshpande    Tushar Deshpande to Shubman Gill, Four,      4   \n",
       "132  Tushar Deshpande  Tushar Deshpande to Shubman Gill, no run,      0   \n",
       "\n",
       "    dismissal_kind  season         batting_team    bowling_team  \n",
       "125         Notout    2023  Chennai Super Kings  Gujarat Titans  \n",
       "126         Notout    2023  Chennai Super Kings  Gujarat Titans  \n",
       "130         Notout    2023  Chennai Super Kings  Gujarat Titans  \n",
       "131         Notout    2023  Chennai Super Kings  Gujarat Titans  \n",
       "132         Notout    2023  Chennai Super Kings  Gujarat Titans  "
      ]
     },
     "execution_count": 37,
     "metadata": {},
     "output_type": "execute_result"
    }
   ],
   "source": [
    "filt=(Deliveries_data['batter']=='Shubman Gill')\n",
    "df_gill=Deliveries_data[filt]\n",
    "df_gill.head()"
   ]
  },
  {
   "cell_type": "code",
   "execution_count": 38,
   "metadata": {},
   "outputs": [
    {
     "data": {
      "text/plain": [
       "916"
      ]
     },
     "execution_count": 38,
     "metadata": {},
     "output_type": "execute_result"
    }
   ],
   "source": [
    "df_gill['score'].sum()"
   ]
  },
  {
   "cell_type": "code",
   "execution_count": 39,
   "metadata": {},
   "outputs": [
    {
     "data": {
      "text/plain": [
       "32"
      ]
     },
     "execution_count": 39,
     "metadata": {},
     "output_type": "execute_result"
    }
   ],
   "source": [
    "# how many sixs\n",
    "len(df_gill[df_gill['score']==6])"
   ]
  },
  {
   "cell_type": "code",
   "execution_count": 40,
   "metadata": {},
   "outputs": [
    {
     "data": {
      "text/plain": [
       "85"
      ]
     },
     "execution_count": 40,
     "metadata": {},
     "output_type": "execute_result"
    }
   ],
   "source": [
    "# how many fours\n",
    "len(df_gill[df_gill['score']==4])"
   ]
  },
  {
   "cell_type": "code",
   "execution_count": 41,
   "metadata": {},
   "outputs": [
    {
     "name": "stdout",
     "output_type": "stream",
     "text": [
      "inningno\n",
      "1    511\n",
      "2    405\n",
      "Name: score, dtype: int64\n"
     ]
    }
   ],
   "source": [
    "# Grouping data by innings and summing up the runs\n",
    "runs_by_position = df_gill.groupby('inningno')['score'].sum()\n",
    "\n",
    "print(runs_by_position)"
   ]
  },
  {
   "cell_type": "code",
   "execution_count": 42,
   "metadata": {},
   "outputs": [
    {
     "name": "stdout",
     "output_type": "stream",
     "text": [
      "score\n",
      "1    264\n",
      "0    144\n",
      "4     85\n",
      "2     49\n",
      "6     32\n",
      "3      4\n",
      "5      2\n",
      "Name: count, dtype: int64\n"
     ]
    },
    {
     "data": {
      "image/png": "[encoded data removed]",
      "text/plain": [
       "<Figure size 640x480 with 1 Axes>"
      ]
     },
     "metadata": {},
     "output_type": "display_data"
    }
   ],
   "source": [
    "# Get the value counts of runs scored\n",
    "runs_counts = df_gill['score'].value_counts()\n",
    "print(runs_counts)\n",
    "\n",
    "# Plotting the pie chart\n",
    "plt.pie(runs_counts, labels=runs_counts.index, autopct='%1.1f%%')\n",
    "plt.title('Shubman Gill total runs contribution', fontsize=20)\n",
    "plt.axis('equal')  # Equal aspect ratio ensures that pie is drawn as a circle.\n",
    "plt.show()"
   ]
  },
  {
   "cell_type": "code",
   "execution_count": 43,
   "metadata": {},
   "outputs": [
    {
     "data": {
      "image/png": "[encoded data removed]",
      "text/plain": [
       "<Figure size 1000x600 with 1 Axes>"
      ]
     },
     "metadata": {},
     "output_type": "display_data"
    }
   ],
   "source": [
    "plt.figure(figsize=(10, 6))\n",
    "\n",
    "# Filter out 'not out' from the DataFrame\n",
    "filtered_df = df_gill[df_gill['dismissal_kind'] != 'Notout']\n",
    "\n",
    "values = filtered_df['dismissal_kind'].value_counts()\n",
    "colors = ['turquoise', 'crimson', 'lime', 'orange', 'blue', 'green']\n",
    "\n",
    "plt.pie(values, labels=values.index, colors=colors, autopct='%1.1f%%', pctdistance=0.85,\n",
    "        textprops=dict(color=\"w\"), wedgeprops=dict(width=0.6, edgecolor='w'))\n",
    "\n",
    "plt.title('Dismissal Type', fontsize=30)\n",
    "plt.legend(title=\"Dismissal Type\", loc=\"center left\", bbox_to_anchor=(1, 0, 0.5, 1))\n",
    "plt.show()"
   ]
  },
  {
   "cell_type": "markdown",
   "metadata": {},
   "source": [
    "#### 15) Innings wise comparison between teams"
   ]
  },
  {
   "cell_type": "code",
   "execution_count": 44,
   "metadata": {},
   "outputs": [
    {
     "data": {
      "text/html": [
       "<div>\n",
       "<style scoped>\n",
       "    .dataframe tbody tr th:only-of-type {\n",
       "        vertical-align: middle;\n",
       "    }\n",
       "\n",
       "    .dataframe tbody tr th {\n",
       "        vertical-align: top;\n",
       "    }\n",
       "\n",
       "    .dataframe thead th {\n",
       "        text-align: right;\n",
       "    }\n",
       "</style>\n",
       "<table border=\"1\" class=\"dataframe\">\n",
       "  <thead>\n",
       "    <tr style=\"text-align: right;\">\n",
       "      <th></th>\n",
       "      <th>inningno</th>\n",
       "      <th>batting_team</th>\n",
       "      <th>score</th>\n",
       "    </tr>\n",
       "  </thead>\n",
       "  <tbody>\n",
       "    <tr>\n",
       "      <th>0</th>\n",
       "      <td>1</td>\n",
       "      <td>Chennai Super Kings</td>\n",
       "      <td>178</td>\n",
       "    </tr>\n",
       "    <tr>\n",
       "      <th>1</th>\n",
       "      <td>2</td>\n",
       "      <td>Chennai Super Kings</td>\n",
       "      <td>182</td>\n",
       "    </tr>\n",
       "    <tr>\n",
       "      <th>2</th>\n",
       "      <td>1</td>\n",
       "      <td>Punjab Kings</td>\n",
       "      <td>191</td>\n",
       "    </tr>\n",
       "    <tr>\n",
       "      <th>3</th>\n",
       "      <td>2</td>\n",
       "      <td>Punjab Kings</td>\n",
       "      <td>146</td>\n",
       "    </tr>\n",
       "    <tr>\n",
       "      <th>4</th>\n",
       "      <td>1</td>\n",
       "      <td>Lucknow Super Giants</td>\n",
       "      <td>193</td>\n",
       "    </tr>\n",
       "  </tbody>\n",
       "</table>\n",
       "</div>"
      ],
      "text/plain": [
       "   inningno          batting_team  score\n",
       "0         1   Chennai Super Kings    178\n",
       "1         2   Chennai Super Kings    182\n",
       "2         1          Punjab Kings    191\n",
       "3         2          Punjab Kings    146\n",
       "4         1  Lucknow Super Giants    193"
      ]
     },
     "execution_count": 44,
     "metadata": {},
     "output_type": "execute_result"
    }
   ],
   "source": [
    "runs=Deliveries_data.groupby(['match_no','inningno','batting_team'])[['score']].sum().reset_index()\n",
    "runs.drop('match_no',axis=1,inplace=True)\n",
    "runs.head()"
   ]
  },
  {
   "cell_type": "code",
   "execution_count": 45,
   "metadata": {},
   "outputs": [
    {
     "data": {
      "text/html": [
       "<div>\n",
       "<style scoped>\n",
       "    .dataframe tbody tr th:only-of-type {\n",
       "        vertical-align: middle;\n",
       "    }\n",
       "\n",
       "    .dataframe tbody tr th {\n",
       "        vertical-align: top;\n",
       "    }\n",
       "\n",
       "    .dataframe thead th {\n",
       "        text-align: right;\n",
       "    }\n",
       "</style>\n",
       "<table border=\"1\" class=\"dataframe\">\n",
       "  <thead>\n",
       "    <tr style=\"text-align: right;\">\n",
       "      <th></th>\n",
       "      <th>inningno</th>\n",
       "      <th>batting_team</th>\n",
       "      <th>score</th>\n",
       "    </tr>\n",
       "  </thead>\n",
       "  <tbody>\n",
       "    <tr>\n",
       "      <th>74</th>\n",
       "      <td>1</td>\n",
       "      <td>Lucknow Super Giants</td>\n",
       "      <td>257</td>\n",
       "    </tr>\n",
       "    <tr>\n",
       "      <th>64</th>\n",
       "      <td>1</td>\n",
       "      <td>Chennai Super Kings</td>\n",
       "      <td>235</td>\n",
       "    </tr>\n",
       "    <tr>\n",
       "      <th>143</th>\n",
       "      <td>1</td>\n",
       "      <td>Gujarat Titans</td>\n",
       "      <td>232</td>\n",
       "    </tr>\n",
       "    <tr>\n",
       "      <th>36</th>\n",
       "      <td>1</td>\n",
       "      <td>Sunrisers Hyderabad</td>\n",
       "      <td>228</td>\n",
       "    </tr>\n",
       "    <tr>\n",
       "      <th>99</th>\n",
       "      <td>1</td>\n",
       "      <td>Gujarat Titans</td>\n",
       "      <td>227</td>\n",
       "    </tr>\n",
       "    <tr>\n",
       "      <th>...</th>\n",
       "      <td>...</td>\n",
       "      <td>...</td>\n",
       "      <td>...</td>\n",
       "    </tr>\n",
       "    <tr>\n",
       "      <th>54</th>\n",
       "      <td>1</td>\n",
       "      <td>Kolkata Knight Riders</td>\n",
       "      <td>127</td>\n",
       "    </tr>\n",
       "    <tr>\n",
       "      <th>84</th>\n",
       "      <td>1</td>\n",
       "      <td>Royal Challengers Bangalore</td>\n",
       "      <td>126</td>\n",
       "    </tr>\n",
       "    <tr>\n",
       "      <th>88</th>\n",
       "      <td>1</td>\n",
       "      <td>Lucknow Super Giants</td>\n",
       "      <td>125</td>\n",
       "    </tr>\n",
       "    <tr>\n",
       "      <th>18</th>\n",
       "      <td>1</td>\n",
       "      <td>Sunrisers Hyderabad</td>\n",
       "      <td>121</td>\n",
       "    </tr>\n",
       "    <tr>\n",
       "      <th>93</th>\n",
       "      <td>1</td>\n",
       "      <td>Rajasthan Royals</td>\n",
       "      <td>118</td>\n",
       "    </tr>\n",
       "  </tbody>\n",
       "</table>\n",
       "<p>74 rows × 3 columns</p>\n",
       "</div>"
      ],
      "text/plain": [
       "     inningno                 batting_team  score\n",
       "74          1         Lucknow Super Giants    257\n",
       "64          1          Chennai Super Kings    235\n",
       "143         1               Gujarat Titans    232\n",
       "36          1          Sunrisers Hyderabad    228\n",
       "99          1               Gujarat Titans    227\n",
       "..        ...                          ...    ...\n",
       "54          1        Kolkata Knight Riders    127\n",
       "84          1  Royal Challengers Bangalore    126\n",
       "88          1         Lucknow Super Giants    125\n",
       "18          1          Sunrisers Hyderabad    121\n",
       "93          1             Rajasthan Royals    118\n",
       "\n",
       "[74 rows x 3 columns]"
      ]
     },
     "execution_count": 45,
     "metadata": {},
     "output_type": "execute_result"
    }
   ],
   "source": [
    "inning1=runs[runs['inningno']==1]\n",
    "inning1.sort_values(by='score', ascending=False)"
   ]
  },
  {
   "cell_type": "code",
   "execution_count": 46,
   "metadata": {},
   "outputs": [
    {
     "data": {
      "text/html": [
       "<div>\n",
       "<style scoped>\n",
       "    .dataframe tbody tr th:only-of-type {\n",
       "        vertical-align: middle;\n",
       "    }\n",
       "\n",
       "    .dataframe tbody tr th {\n",
       "        vertical-align: top;\n",
       "    }\n",
       "\n",
       "    .dataframe thead th {\n",
       "        text-align: right;\n",
       "    }\n",
       "</style>\n",
       "<table border=\"1\" class=\"dataframe\">\n",
       "  <thead>\n",
       "    <tr style=\"text-align: right;\">\n",
       "      <th></th>\n",
       "      <th>inningno</th>\n",
       "      <th>batting_team</th>\n",
       "      <th>score</th>\n",
       "    </tr>\n",
       "  </thead>\n",
       "  <tbody>\n",
       "    <tr>\n",
       "      <th>47</th>\n",
       "      <td>2</td>\n",
       "      <td>Chennai Super Kings</td>\n",
       "      <td>218</td>\n",
       "    </tr>\n",
       "    <tr>\n",
       "      <th>102</th>\n",
       "      <td>2</td>\n",
       "      <td>Rajasthan Royals</td>\n",
       "      <td>217</td>\n",
       "    </tr>\n",
       "    <tr>\n",
       "      <th>90</th>\n",
       "      <td>2</td>\n",
       "      <td>Punjab Kings</td>\n",
       "      <td>216</td>\n",
       "    </tr>\n",
       "    <tr>\n",
       "      <th>83</th>\n",
       "      <td>2</td>\n",
       "      <td>Rajasthan Royals</td>\n",
       "      <td>214</td>\n",
       "    </tr>\n",
       "    <tr>\n",
       "      <th>29</th>\n",
       "      <td>2</td>\n",
       "      <td>Royal Challengers Bangalore</td>\n",
       "      <td>213</td>\n",
       "    </tr>\n",
       "    <tr>\n",
       "      <th>...</th>\n",
       "      <td>...</td>\n",
       "      <td>...</td>\n",
       "      <td>...</td>\n",
       "    </tr>\n",
       "    <tr>\n",
       "      <th>17</th>\n",
       "      <td>2</td>\n",
       "      <td>Kolkata Knight Riders</td>\n",
       "      <td>123</td>\n",
       "    </tr>\n",
       "    <tr>\n",
       "      <th>94</th>\n",
       "      <td>2</td>\n",
       "      <td>Rajasthan Royals</td>\n",
       "      <td>119</td>\n",
       "    </tr>\n",
       "    <tr>\n",
       "      <th>85</th>\n",
       "      <td>2</td>\n",
       "      <td>Royal Challengers Bangalore</td>\n",
       "      <td>108</td>\n",
       "    </tr>\n",
       "    <tr>\n",
       "      <th>142</th>\n",
       "      <td>2</td>\n",
       "      <td>Mumbai Indians</td>\n",
       "      <td>101</td>\n",
       "    </tr>\n",
       "    <tr>\n",
       "      <th>118</th>\n",
       "      <td>2</td>\n",
       "      <td>Royal Challengers Bangalore</td>\n",
       "      <td>59</td>\n",
       "    </tr>\n",
       "  </tbody>\n",
       "</table>\n",
       "<p>73 rows × 3 columns</p>\n",
       "</div>"
      ],
      "text/plain": [
       "     inningno                 batting_team  score\n",
       "47          2          Chennai Super Kings    218\n",
       "102         2             Rajasthan Royals    217\n",
       "90          2                 Punjab Kings    216\n",
       "83          2             Rajasthan Royals    214\n",
       "29          2  Royal Challengers Bangalore    213\n",
       "..        ...                          ...    ...\n",
       "17          2        Kolkata Knight Riders    123\n",
       "94          2             Rajasthan Royals    119\n",
       "85          2  Royal Challengers Bangalore    108\n",
       "142         2               Mumbai Indians    101\n",
       "118         2  Royal Challengers Bangalore     59\n",
       "\n",
       "[73 rows x 3 columns]"
      ]
     },
     "execution_count": 46,
     "metadata": {},
     "output_type": "execute_result"
    }
   ],
   "source": [
    "inning2=runs[runs['inningno']==2]\n",
    "inning2.sort_values(by='score', ascending=False)"
   ]
  },
  {
   "cell_type": "markdown",
   "metadata": {},
   "source": [
    "## **Batting First**"
   ]
  },
  {
   "cell_type": "code",
   "execution_count": 47,
   "metadata": {},
   "outputs": [
    {
     "name": "stderr",
     "output_type": "stream",
     "text": [
      "C:\\Users\\Admin\\AppData\\Local\\Temp\\ipykernel_10468\\436241680.py:3: FutureWarning: \n",
      "\n",
      "Passing `palette` without assigning `hue` is deprecated and will be removed in v0.14.0. Assign the `x` variable to `hue` and set `legend=False` for the same effect.\n",
      "\n",
      "  sns.barplot(x='batting_team', y='score', data=inning1.sort_values(by='score', ascending=False), palette='Set1')\n"
     ]
    },
    {
     "data": {
      "image/png": "[encoded data removed]",
      "text/plain": [
       "<Figure size 1200x600 with 1 Axes>"
      ]
     },
     "metadata": {},
     "output_type": "display_data"
    }
   ],
   "source": [
    "# Plotting the bar plot\n",
    "plt.figure(figsize=(12, 6))\n",
    "sns.barplot(x='batting_team', y='score', data=inning1.sort_values(by='score', ascending=False), palette='Set1')\n",
    "plt.title('Batting First', fontsize=26)\n",
    "plt.xlabel('Batting Team', fontsize=14)\n",
    "plt.ylabel('Total Runs', fontsize=14)\n",
    "plt.grid(axis='y', linestyle='--', alpha=0.7)\n",
    "plt.xticks(rotation=90)\n",
    "plt.show()"
   ]
  },
  {
   "cell_type": "markdown",
   "metadata": {},
   "source": [
    "## **Batting First**"
   ]
  },
  {
   "cell_type": "code",
   "execution_count": 48,
   "metadata": {},
   "outputs": [
    {
     "name": "stderr",
     "output_type": "stream",
     "text": [
      "C:\\Users\\Admin\\AppData\\Local\\Temp\\ipykernel_10468\\539362147.py:3: FutureWarning: \n",
      "\n",
      "Passing `palette` without assigning `hue` is deprecated and will be removed in v0.14.0. Assign the `x` variable to `hue` and set `legend=False` for the same effect.\n",
      "\n",
      "  sns.barplot(x='batting_team', y='score', data=inning2.sort_values(by='score', ascending=False), palette='Set2')\n"
     ]
    },
    {
     "data": {
      "image/png": "[encoded data removed]",
      "text/plain": [
       "<Figure size 1200x600 with 1 Axes>"
      ]
     },
     "metadata": {},
     "output_type": "display_data"
    }
   ],
   "source": [
    "# Plotting the bar plot\n",
    "plt.figure(figsize=(12, 6))\n",
    "sns.barplot(x='batting_team', y='score', data=inning2.sort_values(by='score', ascending=False), palette='Set2')\n",
    "plt.title('Batting First', fontsize=26)\n",
    "plt.xlabel('Batting Team', fontsize=14)\n",
    "plt.ylabel('Total Runs', fontsize=14)\n",
    "plt.grid(axis='y', linestyle='--', alpha=0.7)\n",
    "plt.xticks(rotation=90)\n",
    "plt.show()"
   ]
  },
  {
   "cell_type": "markdown",
   "metadata": {},
   "source": [
    "### 16) Which team has scored the most number of 200+ scores?"
   ]
  },
  {
   "cell_type": "code",
   "execution_count": 49,
   "metadata": {},
   "outputs": [
    {
     "data": {
      "text/html": [
       "<div>\n",
       "<style scoped>\n",
       "    .dataframe tbody tr th:only-of-type {\n",
       "        vertical-align: middle;\n",
       "    }\n",
       "\n",
       "    .dataframe tbody tr th {\n",
       "        vertical-align: top;\n",
       "    }\n",
       "\n",
       "    .dataframe thead th {\n",
       "        text-align: right;\n",
       "    }\n",
       "</style>\n",
       "<table border=\"1\" class=\"dataframe\">\n",
       "  <thead>\n",
       "    <tr style=\"text-align: right;\">\n",
       "      <th></th>\n",
       "      <th>match_no</th>\n",
       "      <th>inningno</th>\n",
       "      <th>batting_team</th>\n",
       "      <th>bowling_team</th>\n",
       "      <th>score</th>\n",
       "    </tr>\n",
       "  </thead>\n",
       "  <tbody>\n",
       "    <tr>\n",
       "      <th>74</th>\n",
       "      <td>38</td>\n",
       "      <td>1</td>\n",
       "      <td>Lucknow Super Giants</td>\n",
       "      <td>Punjab Kings</td>\n",
       "      <td>257</td>\n",
       "    </tr>\n",
       "    <tr>\n",
       "      <th>64</th>\n",
       "      <td>33</td>\n",
       "      <td>1</td>\n",
       "      <td>Chennai Super Kings</td>\n",
       "      <td>Kolkata Knight Riders</td>\n",
       "      <td>235</td>\n",
       "    </tr>\n",
       "    <tr>\n",
       "      <th>143</th>\n",
       "      <td>73</td>\n",
       "      <td>1</td>\n",
       "      <td>Gujarat Titans</td>\n",
       "      <td>Mumbai Indians</td>\n",
       "      <td>232</td>\n",
       "    </tr>\n",
       "    <tr>\n",
       "      <th>36</th>\n",
       "      <td>19</td>\n",
       "      <td>1</td>\n",
       "      <td>Sunrisers Hyderabad</td>\n",
       "      <td>Kolkata Knight Riders</td>\n",
       "      <td>228</td>\n",
       "    </tr>\n",
       "    <tr>\n",
       "      <th>99</th>\n",
       "      <td>51</td>\n",
       "      <td>1</td>\n",
       "      <td>Gujarat Titans</td>\n",
       "      <td>Lucknow Super Giants</td>\n",
       "      <td>227</td>\n",
       "    </tr>\n",
       "  </tbody>\n",
       "</table>\n",
       "</div>"
      ],
      "text/plain": [
       "     match_no  inningno          batting_team           bowling_team  score\n",
       "74         38         1  Lucknow Super Giants           Punjab Kings    257\n",
       "64         33         1   Chennai Super Kings  Kolkata Knight Riders    235\n",
       "143        73         1        Gujarat Titans         Mumbai Indians    232\n",
       "36         19         1   Sunrisers Hyderabad  Kolkata Knight Riders    228\n",
       "99         51         1        Gujarat Titans   Lucknow Super Giants    227"
      ]
     },
     "execution_count": 49,
     "metadata": {},
     "output_type": "execute_result"
    }
   ],
   "source": [
    "high_scores=Deliveries_data.groupby(['match_no', 'inningno','batting_team','bowling_team'])['score'].sum().reset_index() \n",
    "score_200=high_scores[high_scores['score']>=200].sort_values('score', ascending=False)\n",
    "score_200.head(5)"
   ]
  },
  {
   "cell_type": "code",
   "execution_count": 50,
   "metadata": {},
   "outputs": [
    {
     "data": {
      "text/html": [
       "<style type=\"text/css\">\n",
       "#T_58d5e_row0_col0 {\n",
       "  background-color: #023858;\n",
       "  color: #f1f1f1;\n",
       "}\n",
       "#T_58d5e_row1_col0, #T_58d5e_row2_col0 {\n",
       "  background-color: #1379b5;\n",
       "  color: #f1f1f1;\n",
       "}\n",
       "#T_58d5e_row3_col0, #T_58d5e_row4_col0 {\n",
       "  background-color: #91b5d6;\n",
       "  color: #000000;\n",
       "}\n",
       "#T_58d5e_row5_col0 {\n",
       "  background-color: #c4cbe3;\n",
       "  color: #000000;\n",
       "}\n",
       "#T_58d5e_row6_col0, #T_58d5e_row7_col0 {\n",
       "  background-color: #e8e4f0;\n",
       "  color: #000000;\n",
       "}\n",
       "#T_58d5e_row8_col0, #T_58d5e_row9_col0 {\n",
       "  background-color: #fff7fb;\n",
       "  color: #000000;\n",
       "}\n",
       "</style>\n",
       "<table id=\"T_58d5e\">\n",
       "  <thead>\n",
       "    <tr>\n",
       "      <th class=\"blank level0\" >&nbsp;</th>\n",
       "      <th id=\"T_58d5e_level0_col0\" class=\"col_heading level0 col0\" >count</th>\n",
       "    </tr>\n",
       "    <tr>\n",
       "      <th class=\"index_name level0\" >batting_team</th>\n",
       "      <th class=\"blank col0\" >&nbsp;</th>\n",
       "    </tr>\n",
       "  </thead>\n",
       "  <tbody>\n",
       "    <tr>\n",
       "      <th id=\"T_58d5e_level0_row0\" class=\"row_heading level0 row0\" >Chennai Super Kings</th>\n",
       "      <td id=\"T_58d5e_row0_col0\" class=\"data row0 col0\" >8</td>\n",
       "    </tr>\n",
       "    <tr>\n",
       "      <th id=\"T_58d5e_level0_row1\" class=\"row_heading level0 row1\" >Gujarat Titans</th>\n",
       "      <td id=\"T_58d5e_row1_col0\" class=\"data row1 col0\" >6</td>\n",
       "    </tr>\n",
       "    <tr>\n",
       "      <th id=\"T_58d5e_level0_row2\" class=\"row_heading level0 row2\" >Rajasthan Royals</th>\n",
       "      <td id=\"T_58d5e_row2_col0\" class=\"data row2 col0\" >6</td>\n",
       "    </tr>\n",
       "    <tr>\n",
       "      <th id=\"T_58d5e_level0_row3\" class=\"row_heading level0 row3\" >Sunrisers Hyderabad</th>\n",
       "      <td id=\"T_58d5e_row3_col0\" class=\"data row3 col0\" >4</td>\n",
       "    </tr>\n",
       "    <tr>\n",
       "      <th id=\"T_58d5e_level0_row4\" class=\"row_heading level0 row4\" >Punjab Kings</th>\n",
       "      <td id=\"T_58d5e_row4_col0\" class=\"data row4 col0\" >4</td>\n",
       "    </tr>\n",
       "    <tr>\n",
       "      <th id=\"T_58d5e_level0_row5\" class=\"row_heading level0 row5\" >Royal Challengers Bangalore</th>\n",
       "      <td id=\"T_58d5e_row5_col0\" class=\"data row5 col0\" >3</td>\n",
       "    </tr>\n",
       "    <tr>\n",
       "      <th id=\"T_58d5e_level0_row6\" class=\"row_heading level0 row6\" >Lucknow Super Giants</th>\n",
       "      <td id=\"T_58d5e_row6_col0\" class=\"data row6 col0\" >2</td>\n",
       "    </tr>\n",
       "    <tr>\n",
       "      <th id=\"T_58d5e_level0_row7\" class=\"row_heading level0 row7\" >Kolkata Knight Riders</th>\n",
       "      <td id=\"T_58d5e_row7_col0\" class=\"data row7 col0\" >2</td>\n",
       "    </tr>\n",
       "    <tr>\n",
       "      <th id=\"T_58d5e_level0_row8\" class=\"row_heading level0 row8\" >Mumbai Indians</th>\n",
       "      <td id=\"T_58d5e_row8_col0\" class=\"data row8 col0\" >1</td>\n",
       "    </tr>\n",
       "    <tr>\n",
       "      <th id=\"T_58d5e_level0_row9\" class=\"row_heading level0 row9\" >Delhi Capitals</th>\n",
       "      <td id=\"T_58d5e_row9_col0\" class=\"data row9 col0\" >1</td>\n",
       "    </tr>\n",
       "  </tbody>\n",
       "</table>\n"
      ],
      "text/plain": [
       "<pandas.io.formats.style.Styler at 0x14dd98cbd40>"
      ]
     },
     "execution_count": 50,
     "metadata": {},
     "output_type": "execute_result"
    }
   ],
   "source": [
    "x1=score_200['batting_team'].value_counts()\n",
    "x1=pd.DataFrame(x1)\n",
    "x1.style.background_gradient(cmap='PuBu')"
   ]
  },
  {
   "cell_type": "markdown",
   "metadata": {},
   "source": [
    "### 17) Which team has conceded 200+ scores the most?"
   ]
  },
  {
   "cell_type": "code",
   "execution_count": 51,
   "metadata": {},
   "outputs": [
    {
     "data": {
      "text/html": [
       "<style type=\"text/css\">\n",
       "#T_3728a_row0_col0 {\n",
       "  background-color: #023858;\n",
       "  color: #f1f1f1;\n",
       "}\n",
       "#T_3728a_row1_col0, #T_3728a_row2_col0, #T_3728a_row3_col0 {\n",
       "  background-color: #9cb9d9;\n",
       "  color: #000000;\n",
       "}\n",
       "#T_3728a_row4_col0 {\n",
       "  background-color: #c0c9e2;\n",
       "  color: #000000;\n",
       "}\n",
       "#T_3728a_row5_col0 {\n",
       "  background-color: #dbdaeb;\n",
       "  color: #000000;\n",
       "}\n",
       "#T_3728a_row6_col0 {\n",
       "  background-color: #f0eaf4;\n",
       "  color: #000000;\n",
       "}\n",
       "#T_3728a_row7_col0, #T_3728a_row8_col0 {\n",
       "  background-color: #fff7fb;\n",
       "  color: #000000;\n",
       "}\n",
       "</style>\n",
       "<table id=\"T_3728a\">\n",
       "  <thead>\n",
       "    <tr>\n",
       "      <th class=\"blank level0\" >&nbsp;</th>\n",
       "      <th id=\"T_3728a_level0_col0\" class=\"col_heading level0 col0\" >count</th>\n",
       "    </tr>\n",
       "    <tr>\n",
       "      <th class=\"index_name level0\" >bowling_team</th>\n",
       "      <th class=\"blank col0\" >&nbsp;</th>\n",
       "    </tr>\n",
       "  </thead>\n",
       "  <tbody>\n",
       "    <tr>\n",
       "      <th id=\"T_3728a_level0_row0\" class=\"row_heading level0 row0\" >Mumbai Indians</th>\n",
       "      <td id=\"T_3728a_row0_col0\" class=\"data row0 col0\" >11</td>\n",
       "    </tr>\n",
       "    <tr>\n",
       "      <th id=\"T_3728a_level0_row1\" class=\"row_heading level0 row1\" >Punjab Kings</th>\n",
       "      <td id=\"T_3728a_row1_col0\" class=\"data row1 col0\" >5</td>\n",
       "    </tr>\n",
       "    <tr>\n",
       "      <th id=\"T_3728a_level0_row2\" class=\"row_heading level0 row2\" >Kolkata Knight Riders</th>\n",
       "      <td id=\"T_3728a_row2_col0\" class=\"data row2 col0\" >5</td>\n",
       "    </tr>\n",
       "    <tr>\n",
       "      <th id=\"T_3728a_level0_row3\" class=\"row_heading level0 row3\" >Lucknow Super Giants</th>\n",
       "      <td id=\"T_3728a_row3_col0\" class=\"data row3 col0\" >5</td>\n",
       "    </tr>\n",
       "    <tr>\n",
       "      <th id=\"T_3728a_level0_row4\" class=\"row_heading level0 row4\" >Royal Challengers Bangalore</th>\n",
       "      <td id=\"T_3728a_row4_col0\" class=\"data row4 col0\" >4</td>\n",
       "    </tr>\n",
       "    <tr>\n",
       "      <th id=\"T_3728a_level0_row5\" class=\"row_heading level0 row5\" >Sunrisers Hyderabad</th>\n",
       "      <td id=\"T_3728a_row5_col0\" class=\"data row5 col0\" >3</td>\n",
       "    </tr>\n",
       "    <tr>\n",
       "      <th id=\"T_3728a_level0_row6\" class=\"row_heading level0 row6\" >Chennai Super Kings</th>\n",
       "      <td id=\"T_3728a_row6_col0\" class=\"data row6 col0\" >2</td>\n",
       "    </tr>\n",
       "    <tr>\n",
       "      <th id=\"T_3728a_level0_row7\" class=\"row_heading level0 row7\" >Delhi Capitals</th>\n",
       "      <td id=\"T_3728a_row7_col0\" class=\"data row7 col0\" >1</td>\n",
       "    </tr>\n",
       "    <tr>\n",
       "      <th id=\"T_3728a_level0_row8\" class=\"row_heading level0 row8\" >Gujarat Titans</th>\n",
       "      <td id=\"T_3728a_row8_col0\" class=\"data row8 col0\" >1</td>\n",
       "    </tr>\n",
       "  </tbody>\n",
       "</table>\n"
      ],
      "text/plain": [
       "<pandas.io.formats.style.Styler at 0x14dd98cbe90>"
      ]
     },
     "execution_count": 51,
     "metadata": {},
     "output_type": "execute_result"
    }
   ],
   "source": [
    "z=score_200['bowling_team'].value_counts()\n",
    "z=pd.DataFrame(z)\n",
    "z.style.background_gradient(cmap='PuBu')"
   ]
  },
  {
   "cell_type": "markdown",
   "metadata": {},
   "source": [
    "#### 18) What was the highest run scored by a team in a single match?"
   ]
  },
  {
   "cell_type": "code",
   "execution_count": 52,
   "metadata": {},
   "outputs": [
    {
     "data": {
      "text/plain": [
       "257"
      ]
     },
     "execution_count": 52,
     "metadata": {},
     "output_type": "execute_result"
    }
   ],
   "source": [
    "high_scores=Deliveries_data.groupby(['match_no', 'inningno','batting_team','bowling_team'])['score'].sum().reset_index() \n",
    "high_scores['score'].max()"
   ]
  },
  {
   "cell_type": "code",
   "execution_count": 53,
   "metadata": {},
   "outputs": [
    {
     "data": {
      "text/plain": [
       "59"
      ]
     },
     "execution_count": 53,
     "metadata": {},
     "output_type": "execute_result"
    }
   ],
   "source": [
    "high_scores['score'].min()"
   ]
  },
  {
   "cell_type": "code",
   "execution_count": 54,
   "metadata": {},
   "outputs": [
    {
     "data": {
      "text/plain": [
       "Index(['match_no', 'ballnumber', 'inningno', 'over', 'outcome', 'batter',\n",
       "       'bowler', 'comment', 'score', 'dismissal_kind', 'season',\n",
       "       'batting_team', 'bowling_team'],\n",
       "      dtype='object')"
      ]
     },
     "execution_count": 54,
     "metadata": {},
     "output_type": "execute_result"
    }
   ],
   "source": [
    "Deliveries_data.columns"
   ]
  },
  {
   "cell_type": "markdown",
   "metadata": {},
   "source": [
    "### 19) Which is the biggest win in terms of run margin?"
   ]
  },
  {
   "cell_type": "code",
   "execution_count": 55,
   "metadata": {},
   "outputs": [
    {
     "data": {
      "text/html": [
       "<div>\n",
       "<style scoped>\n",
       "    .dataframe tbody tr th:only-of-type {\n",
       "        vertical-align: middle;\n",
       "    }\n",
       "\n",
       "    .dataframe tbody tr th {\n",
       "        vertical-align: top;\n",
       "    }\n",
       "\n",
       "    .dataframe thead th {\n",
       "        text-align: right;\n",
       "    }\n",
       "</style>\n",
       "<table border=\"1\" class=\"dataframe\">\n",
       "  <thead>\n",
       "    <tr style=\"text-align: right;\">\n",
       "      <th></th>\n",
       "      <th>season</th>\n",
       "      <th>date</th>\n",
       "      <th>match_no</th>\n",
       "      <th>match_type</th>\n",
       "      <th>venue</th>\n",
       "      <th>location</th>\n",
       "      <th>team1</th>\n",
       "      <th>team2</th>\n",
       "      <th>toss_won</th>\n",
       "      <th>toss_decision</th>\n",
       "      <th>...</th>\n",
       "      <th>umpire2</th>\n",
       "      <th>reserve_umpire</th>\n",
       "      <th>match_referee</th>\n",
       "      <th>winner</th>\n",
       "      <th>winner_runs</th>\n",
       "      <th>winner_wickets</th>\n",
       "      <th>man_of_match</th>\n",
       "      <th>batting_team</th>\n",
       "      <th>bowling_team</th>\n",
       "      <th>toss_win_game_win</th>\n",
       "    </tr>\n",
       "  </thead>\n",
       "  <tbody>\n",
       "    <tr>\n",
       "      <th>59</th>\n",
       "      <td>2023</td>\n",
       "      <td>14-05-2023</td>\n",
       "      <td>60</td>\n",
       "      <td>Group</td>\n",
       "      <td>Sawai Mansingh Stadium</td>\n",
       "      <td>Jaipur</td>\n",
       "      <td>Royal Challengers Bangalore</td>\n",
       "      <td>Rajasthan Royals</td>\n",
       "      <td>Royal Challengers Bangalore</td>\n",
       "      <td>bat</td>\n",
       "      <td>...</td>\n",
       "      <td>Navdeep Singh</td>\n",
       "      <td>P Joshi</td>\n",
       "      <td>V Narayan Kutty</td>\n",
       "      <td>Royal Challengers Bangalore</td>\n",
       "      <td>112.0</td>\n",
       "      <td>NaN</td>\n",
       "      <td>WD Parnell</td>\n",
       "      <td>Royal Challengers Bangalore</td>\n",
       "      <td>Rajasthan Royals</td>\n",
       "      <td>Yes</td>\n",
       "    </tr>\n",
       "  </tbody>\n",
       "</table>\n",
       "<p>1 rows × 21 columns</p>\n",
       "</div>"
      ],
      "text/plain": [
       "    season        date  match_no match_type                   venue location  \\\n",
       "59    2023  14-05-2023        60      Group  Sawai Mansingh Stadium   Jaipur   \n",
       "\n",
       "                          team1             team2  \\\n",
       "59  Royal Challengers Bangalore  Rajasthan Royals   \n",
       "\n",
       "                       toss_won toss_decision  ...        umpire2  \\\n",
       "59  Royal Challengers Bangalore           bat  ...  Navdeep Singh   \n",
       "\n",
       "   reserve_umpire    match_referee                       winner winner_runs  \\\n",
       "59        P Joshi  V Narayan Kutty  Royal Challengers Bangalore       112.0   \n",
       "\n",
       "    winner_wickets  man_of_match                 batting_team  \\\n",
       "59             NaN    WD Parnell  Royal Challengers Bangalore   \n",
       "\n",
       "        bowling_team toss_win_game_win  \n",
       "59  Rajasthan Royals               Yes  \n",
       "\n",
       "[1 rows x 21 columns]"
      ]
     },
     "execution_count": 55,
     "metadata": {},
     "output_type": "execute_result"
    }
   ],
   "source": [
    "Match_data[Match_data['winner_runs']==Match_data['winner_runs'].max()]"
   ]
  },
  {
   "cell_type": "code",
   "execution_count": 56,
   "metadata": {},
   "outputs": [
    {
     "data": {
      "text/html": [
       "<div>\n",
       "<style scoped>\n",
       "    .dataframe tbody tr th:only-of-type {\n",
       "        vertical-align: middle;\n",
       "    }\n",
       "\n",
       "    .dataframe tbody tr th {\n",
       "        vertical-align: top;\n",
       "    }\n",
       "\n",
       "    .dataframe thead th {\n",
       "        text-align: right;\n",
       "    }\n",
       "</style>\n",
       "<table border=\"1\" class=\"dataframe\">\n",
       "  <thead>\n",
       "    <tr style=\"text-align: right;\">\n",
       "      <th></th>\n",
       "      <th>season</th>\n",
       "      <th>date</th>\n",
       "      <th>match_no</th>\n",
       "      <th>match_type</th>\n",
       "      <th>venue</th>\n",
       "      <th>location</th>\n",
       "      <th>team1</th>\n",
       "      <th>team2</th>\n",
       "      <th>toss_won</th>\n",
       "      <th>toss_decision</th>\n",
       "      <th>...</th>\n",
       "      <th>umpire2</th>\n",
       "      <th>reserve_umpire</th>\n",
       "      <th>match_referee</th>\n",
       "      <th>winner</th>\n",
       "      <th>winner_runs</th>\n",
       "      <th>winner_wickets</th>\n",
       "      <th>man_of_match</th>\n",
       "      <th>batting_team</th>\n",
       "      <th>bowling_team</th>\n",
       "      <th>toss_win_game_win</th>\n",
       "    </tr>\n",
       "  </thead>\n",
       "  <tbody>\n",
       "    <tr>\n",
       "      <th>47</th>\n",
       "      <td>2023</td>\n",
       "      <td>05-05-2023</td>\n",
       "      <td>48</td>\n",
       "      <td>Group</td>\n",
       "      <td>Sawai Mansingh Stadium</td>\n",
       "      <td>Jaipur</td>\n",
       "      <td>Rajasthan Royals</td>\n",
       "      <td>Gujarat Titans</td>\n",
       "      <td>Rajasthan Royals</td>\n",
       "      <td>bat</td>\n",
       "      <td>...</td>\n",
       "      <td>VK Sharma</td>\n",
       "      <td>VM Dhokre</td>\n",
       "      <td>J Srinath</td>\n",
       "      <td>Gujarat Titans</td>\n",
       "      <td>NaN</td>\n",
       "      <td>9.0</td>\n",
       "      <td>Rashid Khan</td>\n",
       "      <td>Rajasthan Royals</td>\n",
       "      <td>Gujarat Titans</td>\n",
       "      <td>No</td>\n",
       "    </tr>\n",
       "    <tr>\n",
       "      <th>55</th>\n",
       "      <td>2023</td>\n",
       "      <td>11-05-2023</td>\n",
       "      <td>56</td>\n",
       "      <td>Group</td>\n",
       "      <td>Eden Gardens</td>\n",
       "      <td>Kolkata</td>\n",
       "      <td>Kolkata Knight Riders</td>\n",
       "      <td>Rajasthan Royals</td>\n",
       "      <td>Rajasthan Royals</td>\n",
       "      <td>field</td>\n",
       "      <td>...</td>\n",
       "      <td>MV Saidharshan Kumar</td>\n",
       "      <td>P Joshi</td>\n",
       "      <td>P Dharmani</td>\n",
       "      <td>Rajasthan Royals</td>\n",
       "      <td>NaN</td>\n",
       "      <td>9.0</td>\n",
       "      <td>YBK Jaiswal</td>\n",
       "      <td>Kolkata Knight Riders</td>\n",
       "      <td>Rajasthan Royals</td>\n",
       "      <td>Yes</td>\n",
       "    </tr>\n",
       "  </tbody>\n",
       "</table>\n",
       "<p>2 rows × 21 columns</p>\n",
       "</div>"
      ],
      "text/plain": [
       "    season        date  match_no match_type                   venue location  \\\n",
       "47    2023  05-05-2023        48      Group  Sawai Mansingh Stadium   Jaipur   \n",
       "55    2023  11-05-2023        56      Group            Eden Gardens  Kolkata   \n",
       "\n",
       "                    team1             team2          toss_won toss_decision  \\\n",
       "47       Rajasthan Royals    Gujarat Titans  Rajasthan Royals           bat   \n",
       "55  Kolkata Knight Riders  Rajasthan Royals  Rajasthan Royals         field   \n",
       "\n",
       "    ...               umpire2 reserve_umpire match_referee            winner  \\\n",
       "47  ...             VK Sharma      VM Dhokre     J Srinath    Gujarat Titans   \n",
       "55  ...  MV Saidharshan Kumar        P Joshi    P Dharmani  Rajasthan Royals   \n",
       "\n",
       "   winner_runs  winner_wickets  man_of_match           batting_team  \\\n",
       "47         NaN             9.0   Rashid Khan       Rajasthan Royals   \n",
       "55         NaN             9.0   YBK Jaiswal  Kolkata Knight Riders   \n",
       "\n",
       "        bowling_team toss_win_game_win  \n",
       "47    Gujarat Titans                No  \n",
       "55  Rajasthan Royals               Yes  \n",
       "\n",
       "[2 rows x 21 columns]"
      ]
     },
     "execution_count": 56,
     "metadata": {},
     "output_type": "execute_result"
    }
   ],
   "source": [
    "Match_data[Match_data['winner_wickets']==Match_data['winner_wickets'].max()]"
   ]
  },
  {
   "cell_type": "markdown",
   "metadata": {},
   "source": [
    "#### 20) Which batsmen have played the most number of balls?"
   ]
  },
  {
   "cell_type": "code",
   "execution_count": 57,
   "metadata": {},
   "outputs": [
    {
     "data": {
      "text/html": [
       "<style type=\"text/css\">\n",
       "#T_b6471_row0_col1 {\n",
       "  background-color: #023858;\n",
       "  color: #f1f1f1;\n",
       "}\n",
       "#T_b6471_row1_col1 {\n",
       "  background-color: #3790c0;\n",
       "  color: #f1f1f1;\n",
       "}\n",
       "#T_b6471_row2_col1 {\n",
       "  background-color: #4295c3;\n",
       "  color: #f1f1f1;\n",
       "}\n",
       "#T_b6471_row3_col1 {\n",
       "  background-color: #4e9ac6;\n",
       "  color: #f1f1f1;\n",
       "}\n",
       "#T_b6471_row4_col1 {\n",
       "  background-color: #b1c2de;\n",
       "  color: #000000;\n",
       "}\n",
       "#T_b6471_row5_col1 {\n",
       "  background-color: #b9c6e0;\n",
       "  color: #000000;\n",
       "}\n",
       "#T_b6471_row6_col1 {\n",
       "  background-color: #d0d1e6;\n",
       "  color: #000000;\n",
       "}\n",
       "#T_b6471_row7_col1 {\n",
       "  background-color: #f6eff7;\n",
       "  color: #000000;\n",
       "}\n",
       "#T_b6471_row8_col1 {\n",
       "  background-color: #f8f1f8;\n",
       "  color: #000000;\n",
       "}\n",
       "#T_b6471_row9_col1 {\n",
       "  background-color: #fff7fb;\n",
       "  color: #000000;\n",
       "}\n",
       "</style>\n",
       "<table id=\"T_b6471\">\n",
       "  <thead>\n",
       "    <tr>\n",
       "      <th class=\"blank level0\" >&nbsp;</th>\n",
       "      <th id=\"T_b6471_level0_col0\" class=\"col_heading level0 col0\" >batter</th>\n",
       "      <th id=\"T_b6471_level0_col1\" class=\"col_heading level0 col1\" >ballnumber</th>\n",
       "    </tr>\n",
       "  </thead>\n",
       "  <tbody>\n",
       "    <tr>\n",
       "      <th id=\"T_b6471_level0_row0\" class=\"row_heading level0 row0\" >149</th>\n",
       "      <td id=\"T_b6471_row0_col0\" class=\"data row0 col0\" >Shubman Gill</td>\n",
       "      <td id=\"T_b6471_row0_col1\" class=\"data row0 col1\" >580</td>\n",
       "    </tr>\n",
       "    <tr>\n",
       "      <th id=\"T_b6471_level0_row1\" class=\"row_heading level0 row1\" >42</th>\n",
       "      <td id=\"T_b6471_row1_col0\" class=\"data row1 col0\" >Devon Conway</td>\n",
       "      <td id=\"T_b6471_row1_col1\" class=\"data row1 col1\" >481</td>\n",
       "    </tr>\n",
       "    <tr>\n",
       "      <th id=\"T_b6471_level0_row2\" class=\"row_heading level0 row2\" >45</th>\n",
       "      <td id=\"T_b6471_row2_col0\" class=\"data row2 col0\" >Faf du Plessis</td>\n",
       "      <td id=\"T_b6471_row2_col1\" class=\"data row2 col1\" >475</td>\n",
       "    </tr>\n",
       "    <tr>\n",
       "      <th id=\"T_b6471_level0_row3\" class=\"row_heading level0 row3\" >167</th>\n",
       "      <td id=\"T_b6471_row3_col0\" class=\"data row3 col0\" >Virat Kohli</td>\n",
       "      <td id=\"T_b6471_row3_col1\" class=\"data row3 col1\" >469</td>\n",
       "    </tr>\n",
       "    <tr>\n",
       "      <th id=\"T_b6471_level0_row4\" class=\"row_heading level0 row4\" >136</th>\n",
       "      <td id=\"T_b6471_row4_col0\" class=\"data row4 col0\" >Ruturaj Gaikwad</td>\n",
       "      <td id=\"T_b6471_row4_col1\" class=\"data row4 col1\" >408</td>\n",
       "    </tr>\n",
       "    <tr>\n",
       "      <th id=\"T_b6471_level0_row5\" class=\"row_heading level0 row5\" >36</th>\n",
       "      <td id=\"T_b6471_row5_col0\" class=\"data row5 col0\" >David Warner</td>\n",
       "      <td id=\"T_b6471_row5_col1\" class=\"data row5 col1\" >401</td>\n",
       "    </tr>\n",
       "    <tr>\n",
       "      <th id=\"T_b6471_level0_row6\" class=\"row_heading level0 row6\" >175</th>\n",
       "      <td id=\"T_b6471_row6_col0\" class=\"data row6 col0\" >Yashasvi Jaiswal</td>\n",
       "      <td id=\"T_b6471_row6_col1\" class=\"data row6 col1\" >384</td>\n",
       "    </tr>\n",
       "    <tr>\n",
       "      <th id=\"T_b6471_level0_row7\" class=\"row_heading level0 row7\" >152</th>\n",
       "      <td id=\"T_b6471_row7_col0\" class=\"data row7 col0\" >Suryakumar Yadav</td>\n",
       "      <td id=\"T_b6471_row7_col1\" class=\"data row7 col1\" >334</td>\n",
       "    </tr>\n",
       "    <tr>\n",
       "      <th id=\"T_b6471_level0_row8\" class=\"row_heading level0 row8\" >129</th>\n",
       "      <td id=\"T_b6471_row8_col0\" class=\"data row8 col0\" >Rinku Singh</td>\n",
       "      <td id=\"T_b6471_row8_col1\" class=\"data row8 col1\" >331</td>\n",
       "    </tr>\n",
       "    <tr>\n",
       "      <th id=\"T_b6471_level0_row9\" class=\"row_heading level0 row9\" >57</th>\n",
       "      <td id=\"T_b6471_row9_col0\" class=\"data row9 col0\" >Ishan Kishan</td>\n",
       "      <td id=\"T_b6471_row9_col1\" class=\"data row9 col1\" >318</td>\n",
       "    </tr>\n",
       "  </tbody>\n",
       "</table>\n"
      ],
      "text/plain": [
       "<pandas.io.formats.style.Styler at 0x14dd9831fa0>"
      ]
     },
     "execution_count": 57,
     "metadata": {},
     "output_type": "execute_result"
    }
   ],
   "source": [
    "balls_played=Deliveries_data.groupby(['batter'])['ballnumber'].count().reset_index()\n",
    "balls_played.sort_values(by='ballnumber',ascending=False).head(10).style.background_gradient(cmap='PuBu')"
   ]
  },
  {
   "cell_type": "markdown",
   "metadata": {},
   "source": [
    "#### 21) Who are the leading run-scorers of all time?"
   ]
  },
  {
   "cell_type": "code",
   "execution_count": 58,
   "metadata": {},
   "outputs": [
    {
     "data": {
      "text/html": [
       "<style type=\"text/css\">\n",
       "#T_5e355_row0_col1 {\n",
       "  background-color: #023858;\n",
       "  color: #f1f1f1;\n",
       "}\n",
       "#T_5e355_row1_col1 {\n",
       "  background-color: #4295c3;\n",
       "  color: #f1f1f1;\n",
       "}\n",
       "#T_5e355_row2_col1 {\n",
       "  background-color: #79abd0;\n",
       "  color: #f1f1f1;\n",
       "}\n",
       "#T_5e355_row3_col1 {\n",
       "  background-color: #91b5d6;\n",
       "  color: #000000;\n",
       "}\n",
       "#T_5e355_row4_col1 {\n",
       "  background-color: #a2bcda;\n",
       "  color: #000000;\n",
       "}\n",
       "#T_5e355_row5_col1 {\n",
       "  background-color: #b9c6e0;\n",
       "  color: #000000;\n",
       "}\n",
       "#T_5e355_row6_col1 {\n",
       "  background-color: #bcc7e1;\n",
       "  color: #000000;\n",
       "}\n",
       "#T_5e355_row7_col1 {\n",
       "  background-color: #e9e5f1;\n",
       "  color: #000000;\n",
       "}\n",
       "#T_5e355_row8_col1 {\n",
       "  background-color: #f4eef6;\n",
       "  color: #000000;\n",
       "}\n",
       "#T_5e355_row9_col1 {\n",
       "  background-color: #fff7fb;\n",
       "  color: #000000;\n",
       "}\n",
       "</style>\n",
       "<table id=\"T_5e355\">\n",
       "  <thead>\n",
       "    <tr>\n",
       "      <th class=\"blank level0\" >&nbsp;</th>\n",
       "      <th id=\"T_5e355_level0_col0\" class=\"col_heading level0 col0\" >Batsman</th>\n",
       "      <th id=\"T_5e355_level0_col1\" class=\"col_heading level0 col1\" >runs</th>\n",
       "    </tr>\n",
       "  </thead>\n",
       "  <tbody>\n",
       "    <tr>\n",
       "      <th id=\"T_5e355_level0_row0\" class=\"row_heading level0 row0\" >0</th>\n",
       "      <td id=\"T_5e355_row0_col0\" class=\"data row0 col0\" >Shubman Gill</td>\n",
       "      <td id=\"T_5e355_row0_col1\" class=\"data row0 col1\" >916</td>\n",
       "    </tr>\n",
       "    <tr>\n",
       "      <th id=\"T_5e355_level0_row1\" class=\"row_heading level0 row1\" >1</th>\n",
       "      <td id=\"T_5e355_row1_col0\" class=\"data row1 col0\" >Faf du Plessis</td>\n",
       "      <td id=\"T_5e355_row1_col1\" class=\"data row1 col1\" >735</td>\n",
       "    </tr>\n",
       "    <tr>\n",
       "      <th id=\"T_5e355_level0_row2\" class=\"row_heading level0 row2\" >2</th>\n",
       "      <td id=\"T_5e355_row2_col0\" class=\"data row2 col0\" >Devon Conway</td>\n",
       "      <td id=\"T_5e355_row2_col1\" class=\"data row2 col1\" >684</td>\n",
       "    </tr>\n",
       "    <tr>\n",
       "      <th id=\"T_5e355_level0_row3\" class=\"row_heading level0 row3\" >3</th>\n",
       "      <td id=\"T_5e355_row3_col0\" class=\"data row3 col0\" >Virat Kohli</td>\n",
       "      <td id=\"T_5e355_row3_col1\" class=\"data row3 col1\" >657</td>\n",
       "    </tr>\n",
       "    <tr>\n",
       "      <th id=\"T_5e355_level0_row4\" class=\"row_heading level0 row4\" >4</th>\n",
       "      <td id=\"T_5e355_row4_col0\" class=\"data row4 col0\" >Yashasvi Jaiswal</td>\n",
       "      <td id=\"T_5e355_row4_col1\" class=\"data row4 col1\" >637</td>\n",
       "    </tr>\n",
       "    <tr>\n",
       "      <th id=\"T_5e355_level0_row5\" class=\"row_heading level0 row5\" >5</th>\n",
       "      <td id=\"T_5e355_row5_col0\" class=\"data row5 col0\" >Ruturaj Gaikwad</td>\n",
       "      <td id=\"T_5e355_row5_col1\" class=\"data row5 col1\" >608</td>\n",
       "    </tr>\n",
       "    <tr>\n",
       "      <th id=\"T_5e355_level0_row6\" class=\"row_heading level0 row6\" >6</th>\n",
       "      <td id=\"T_5e355_row6_col0\" class=\"data row6 col0\" >Suryakumar Yadav</td>\n",
       "      <td id=\"T_5e355_row6_col1\" class=\"data row6 col1\" >604</td>\n",
       "    </tr>\n",
       "    <tr>\n",
       "      <th id=\"T_5e355_level0_row7\" class=\"row_heading level0 row7\" >7</th>\n",
       "      <td id=\"T_5e355_row7_col0\" class=\"data row7 col0\" >David Warner</td>\n",
       "      <td id=\"T_5e355_row7_col1\" class=\"data row7 col1\" >526</td>\n",
       "    </tr>\n",
       "    <tr>\n",
       "      <th id=\"T_5e355_level0_row8\" class=\"row_heading level0 row8\" >8</th>\n",
       "      <td id=\"T_5e355_row8_col0\" class=\"data row8 col0\" >Rinku Singh</td>\n",
       "      <td id=\"T_5e355_row8_col1\" class=\"data row8 col1\" >495</td>\n",
       "    </tr>\n",
       "    <tr>\n",
       "      <th id=\"T_5e355_level0_row9\" class=\"row_heading level0 row9\" >9</th>\n",
       "      <td id=\"T_5e355_row9_col0\" class=\"data row9 col0\" >Ishan Kishan</td>\n",
       "      <td id=\"T_5e355_row9_col1\" class=\"data row9 col1\" >463</td>\n",
       "    </tr>\n",
       "  </tbody>\n",
       "</table>\n"
      ],
      "text/plain": [
       "<pandas.io.formats.style.Styler at 0x14dd970f170>"
      ]
     },
     "execution_count": 58,
     "metadata": {},
     "output_type": "execute_result"
    }
   ],
   "source": [
    "runs=Deliveries_data.groupby(['batter'])['score'].sum().reset_index()\n",
    "runs.columns=['Batsman','runs']\n",
    "y=runs.sort_values(by='runs',ascending=False).head(10).reset_index().drop('index',axis=1)\n",
    "y.style.background_gradient(cmap='PuBu')"
   ]
  },
  {
   "cell_type": "markdown",
   "metadata": {},
   "source": [
    "#### 22) Who has hit the most number of 4's?"
   ]
  },
  {
   "cell_type": "code",
   "execution_count": 59,
   "metadata": {},
   "outputs": [
    {
     "data": {
      "text/html": [
       "<style type=\"text/css\">\n",
       "#T_9e1b5_row0_col1 {\n",
       "  background-color: #023858;\n",
       "  color: #f1f1f1;\n",
       "}\n",
       "#T_9e1b5_row1_col1 {\n",
       "  background-color: #034d79;\n",
       "  color: #f1f1f1;\n",
       "}\n",
       "#T_9e1b5_row2_col1 {\n",
       "  background-color: #056dac;\n",
       "  color: #f1f1f1;\n",
       "}\n",
       "#T_9e1b5_row3_col1 {\n",
       "  background-color: #5a9ec9;\n",
       "  color: #f1f1f1;\n",
       "}\n",
       "#T_9e1b5_row4_col1 {\n",
       "  background-color: #7eadd1;\n",
       "  color: #f1f1f1;\n",
       "}\n",
       "#T_9e1b5_row5_col1 {\n",
       "  background-color: #a8bedc;\n",
       "  color: #000000;\n",
       "}\n",
       "#T_9e1b5_row6_col1 {\n",
       "  background-color: #bbc7e0;\n",
       "  color: #000000;\n",
       "}\n",
       "#T_9e1b5_row7_col1 {\n",
       "  background-color: #dfddec;\n",
       "  color: #000000;\n",
       "}\n",
       "#T_9e1b5_row8_col1 {\n",
       "  background-color: #f7f0f7;\n",
       "  color: #000000;\n",
       "}\n",
       "#T_9e1b5_row9_col1 {\n",
       "  background-color: #fff7fb;\n",
       "  color: #000000;\n",
       "}\n",
       "</style>\n",
       "<table id=\"T_9e1b5\">\n",
       "  <thead>\n",
       "    <tr>\n",
       "      <th class=\"blank level0\" >&nbsp;</th>\n",
       "      <th id=\"T_9e1b5_level0_col0\" class=\"col_heading level0 col0\" >Batsman</th>\n",
       "      <th id=\"T_9e1b5_level0_col1\" class=\"col_heading level0 col1\" >4s</th>\n",
       "    </tr>\n",
       "  </thead>\n",
       "  <tbody>\n",
       "    <tr>\n",
       "      <th id=\"T_9e1b5_level0_row0\" class=\"row_heading level0 row0\" >0</th>\n",
       "      <td id=\"T_9e1b5_row0_col0\" class=\"data row0 col0\" >Shubman Gill</td>\n",
       "      <td id=\"T_9e1b5_row0_col1\" class=\"data row0 col1\" >85</td>\n",
       "    </tr>\n",
       "    <tr>\n",
       "      <th id=\"T_9e1b5_level0_row1\" class=\"row_heading level0 row1\" >1</th>\n",
       "      <td id=\"T_9e1b5_row1_col0\" class=\"data row1 col0\" >Yashasvi Jaiswal</td>\n",
       "      <td id=\"T_9e1b5_row1_col1\" class=\"data row1 col1\" >82</td>\n",
       "    </tr>\n",
       "    <tr>\n",
       "      <th id=\"T_9e1b5_level0_row2\" class=\"row_heading level0 row2\" >2</th>\n",
       "      <td id=\"T_9e1b5_row2_col0\" class=\"data row2 col0\" >Devon Conway</td>\n",
       "      <td id=\"T_9e1b5_row2_col1\" class=\"data row2 col1\" >76</td>\n",
       "    </tr>\n",
       "    <tr>\n",
       "      <th id=\"T_9e1b5_level0_row3\" class=\"row_heading level0 row3\" >3</th>\n",
       "      <td id=\"T_9e1b5_row3_col0\" class=\"data row3 col0\" >David Warner</td>\n",
       "      <td id=\"T_9e1b5_row3_col1\" class=\"data row3 col1\" >68</td>\n",
       "    </tr>\n",
       "    <tr>\n",
       "      <th id=\"T_9e1b5_level0_row4\" class=\"row_heading level0 row4\" >4</th>\n",
       "      <td id=\"T_9e1b5_row4_col0\" class=\"data row4 col0\" >Virat Kohli</td>\n",
       "      <td id=\"T_9e1b5_row4_col1\" class=\"data row4 col1\" >65</td>\n",
       "    </tr>\n",
       "    <tr>\n",
       "      <th id=\"T_9e1b5_level0_row5\" class=\"row_heading level0 row5\" >5</th>\n",
       "      <td id=\"T_9e1b5_row5_col0\" class=\"data row5 col0\" >Suryakumar Yadav</td>\n",
       "      <td id=\"T_9e1b5_row5_col1\" class=\"data row5 col1\" >61</td>\n",
       "    </tr>\n",
       "    <tr>\n",
       "      <th id=\"T_9e1b5_level0_row6\" class=\"row_heading level0 row6\" >6</th>\n",
       "      <td id=\"T_9e1b5_row6_col0\" class=\"data row6 col0\" >Faf du Plessis</td>\n",
       "      <td id=\"T_9e1b5_row6_col1\" class=\"data row6 col1\" >59</td>\n",
       "    </tr>\n",
       "    <tr>\n",
       "      <th id=\"T_9e1b5_level0_row7\" class=\"row_heading level0 row7\" >7</th>\n",
       "      <td id=\"T_9e1b5_row7_col0\" class=\"data row7 col0\" >Ishan Kishan</td>\n",
       "      <td id=\"T_9e1b5_row7_col1\" class=\"data row7 col1\" >54</td>\n",
       "    </tr>\n",
       "    <tr>\n",
       "      <th id=\"T_9e1b5_level0_row8\" class=\"row_heading level0 row8\" >8</th>\n",
       "      <td id=\"T_9e1b5_row8_col0\" class=\"data row8 col0\" >Shikhar Dhawan</td>\n",
       "      <td id=\"T_9e1b5_row8_col1\" class=\"data row8 col1\" >49</td>\n",
       "    </tr>\n",
       "    <tr>\n",
       "      <th id=\"T_9e1b5_level0_row9\" class=\"row_heading level0 row9\" >9</th>\n",
       "      <td id=\"T_9e1b5_row9_col0\" class=\"data row9 col0\" >Wriddhiman Saha</td>\n",
       "      <td id=\"T_9e1b5_row9_col1\" class=\"data row9 col1\" >47</td>\n",
       "    </tr>\n",
       "  </tbody>\n",
       "</table>\n"
      ],
      "text/plain": [
       "<pandas.io.formats.style.Styler at 0x14dd98e8f80>"
      ]
     },
     "execution_count": 59,
     "metadata": {},
     "output_type": "execute_result"
    }
   ],
   "source": [
    "four=Deliveries_data[Deliveries_data['score']==4]\n",
    "runs_4=four.groupby('batter')['score'].count().reset_index()\n",
    "runs_4.columns=['Batsman','4s']\n",
    "runs_4.sort_values(by='4s',ascending=False).head(10).reset_index().drop('index',axis=1).style.background_gradient(cmap='PuBu')"
   ]
  },
  {
   "cell_type": "markdown",
   "metadata": {},
   "source": [
    "#### 23) Who has hit the most number of 6's?"
   ]
  },
  {
   "cell_type": "code",
   "execution_count": 60,
   "metadata": {},
   "outputs": [
    {
     "data": {
      "text/html": [
       "<style type=\"text/css\">\n",
       "#T_03bad_row0_col1 {\n",
       "  background-color: #023858;\n",
       "  color: #f1f1f1;\n",
       "}\n",
       "#T_03bad_row1_col1 {\n",
       "  background-color: #03517e;\n",
       "  color: #f1f1f1;\n",
       "}\n",
       "#T_03bad_row2_col1 {\n",
       "  background-color: #328dbf;\n",
       "  color: #f1f1f1;\n",
       "}\n",
       "#T_03bad_row3_col1 {\n",
       "  background-color: #5ea0ca;\n",
       "  color: #f1f1f1;\n",
       "}\n",
       "#T_03bad_row4_col1 {\n",
       "  background-color: #86b0d3;\n",
       "  color: #000000;\n",
       "}\n",
       "#T_03bad_row5_col1, #T_03bad_row6_col1, #T_03bad_row7_col1 {\n",
       "  background-color: #e0dded;\n",
       "  color: #000000;\n",
       "}\n",
       "#T_03bad_row8_col1 {\n",
       "  background-color: #f1ebf5;\n",
       "  color: #000000;\n",
       "}\n",
       "#T_03bad_row9_col1 {\n",
       "  background-color: #fff7fb;\n",
       "  color: #000000;\n",
       "}\n",
       "</style>\n",
       "<table id=\"T_03bad\">\n",
       "  <thead>\n",
       "    <tr>\n",
       "      <th class=\"blank level0\" >&nbsp;</th>\n",
       "      <th id=\"T_03bad_level0_col0\" class=\"col_heading level0 col0\" >Batsman</th>\n",
       "      <th id=\"T_03bad_level0_col1\" class=\"col_heading level0 col1\" >6s</th>\n",
       "    </tr>\n",
       "  </thead>\n",
       "  <tbody>\n",
       "    <tr>\n",
       "      <th id=\"T_03bad_level0_row0\" class=\"row_heading level0 row0\" >0</th>\n",
       "      <td id=\"T_03bad_row0_col0\" class=\"data row0 col0\" >Faf du Plessis</td>\n",
       "      <td id=\"T_03bad_row0_col1\" class=\"data row0 col1\" >36</td>\n",
       "    </tr>\n",
       "    <tr>\n",
       "      <th id=\"T_03bad_level0_row1\" class=\"row_heading level0 row1\" >1</th>\n",
       "      <td id=\"T_03bad_row1_col0\" class=\"data row1 col0\" >Shivam Dube</td>\n",
       "      <td id=\"T_03bad_row1_col1\" class=\"data row1 col1\" >35</td>\n",
       "    </tr>\n",
       "    <tr>\n",
       "      <th id=\"T_03bad_level0_row2\" class=\"row_heading level0 row2\" >2</th>\n",
       "      <td id=\"T_03bad_row2_col0\" class=\"data row2 col0\" >Shubman Gill</td>\n",
       "      <td id=\"T_03bad_row2_col1\" class=\"data row2 col1\" >32</td>\n",
       "    </tr>\n",
       "    <tr>\n",
       "      <th id=\"T_03bad_level0_row3\" class=\"row_heading level0 row3\" >3</th>\n",
       "      <td id=\"T_03bad_row3_col0\" class=\"data row3 col0\" >Glenn Maxwell</td>\n",
       "      <td id=\"T_03bad_row3_col1\" class=\"data row3 col1\" >31</td>\n",
       "    </tr>\n",
       "    <tr>\n",
       "      <th id=\"T_03bad_level0_row4\" class=\"row_heading level0 row4\" >4</th>\n",
       "      <td id=\"T_03bad_row4_col0\" class=\"data row4 col0\" >Ruturaj Gaikwad</td>\n",
       "      <td id=\"T_03bad_row4_col1\" class=\"data row4 col1\" >30</td>\n",
       "    </tr>\n",
       "    <tr>\n",
       "      <th id=\"T_03bad_level0_row5\" class=\"row_heading level0 row5\" >5</th>\n",
       "      <td id=\"T_03bad_row5_col0\" class=\"data row5 col0\" >Rinku Singh</td>\n",
       "      <td id=\"T_03bad_row5_col1\" class=\"data row5 col1\" >27</td>\n",
       "    </tr>\n",
       "    <tr>\n",
       "      <th id=\"T_03bad_level0_row6\" class=\"row_heading level0 row6\" >6</th>\n",
       "      <td id=\"T_03bad_row6_col0\" class=\"data row6 col0\" >Suryakumar Yadav</td>\n",
       "      <td id=\"T_03bad_row6_col1\" class=\"data row6 col1\" >27</td>\n",
       "    </tr>\n",
       "    <tr>\n",
       "      <th id=\"T_03bad_level0_row7\" class=\"row_heading level0 row7\" >7</th>\n",
       "      <td id=\"T_03bad_row7_col0\" class=\"data row7 col0\" >Marcus S</td>\n",
       "      <td id=\"T_03bad_row7_col1\" class=\"data row7 col1\" >27</td>\n",
       "    </tr>\n",
       "    <tr>\n",
       "      <th id=\"T_03bad_level0_row8\" class=\"row_heading level0 row8\" >8</th>\n",
       "      <td id=\"T_03bad_row8_col0\" class=\"data row8 col0\" >Nicholas Pooran</td>\n",
       "      <td id=\"T_03bad_row8_col1\" class=\"data row8 col1\" >26</td>\n",
       "    </tr>\n",
       "    <tr>\n",
       "      <th id=\"T_03bad_level0_row9\" class=\"row_heading level0 row9\" >9</th>\n",
       "      <td id=\"T_03bad_row9_col0\" class=\"data row9 col0\" >Heinrich Klaasen</td>\n",
       "      <td id=\"T_03bad_row9_col1\" class=\"data row9 col1\" >25</td>\n",
       "    </tr>\n",
       "  </tbody>\n",
       "</table>\n"
      ],
      "text/plain": [
       "<pandas.io.formats.style.Styler at 0x14dd986cb00>"
      ]
     },
     "execution_count": 60,
     "metadata": {},
     "output_type": "execute_result"
    }
   ],
   "source": [
    "six=Deliveries_data.groupby('batter')['score'].agg(lambda x: (x==6).sum()).reset_index()\n",
    "six.columns=['Batsman','6s']\n",
    "six.sort_values(by='6s',ascending=False).head(10).reset_index().drop('index',axis=1).style.background_gradient(cmap='PuBu')"
   ]
  },
  {
   "cell_type": "markdown",
   "metadata": {},
   "source": [
    "#### 24) Who has the highest strike rate?"
   ]
  },
  {
   "cell_type": "code",
   "execution_count": 61,
   "metadata": {},
   "outputs": [
    {
     "name": "stderr",
     "output_type": "stream",
     "text": [
      "C:\\Users\\Admin\\AppData\\Local\\Temp\\ipykernel_10468\\2827353916.py:3: FutureWarning: A value is trying to be set on a copy of a DataFrame or Series through chained assignment using an inplace method.\n",
      "The behavior will change in pandas 3.0. This inplace method will never work because the intermediate object on which we are setting values always behaves as a copy.\n",
      "\n",
      "For example, when doing 'df[col].method(value, inplace=True)', try using 'df.method({col: value}, inplace=True)' or df[col] = df[col].method(value) instead, to perform the operation inplace on the original object.\n",
      "\n",
      "\n",
      "  player['4s'].fillna(0,inplace=True)\n"
     ]
    }
   ],
   "source": [
    "player=pd.concat([runs,balls_played.iloc[:,1],runs_4.iloc[:,1],six.iloc[:,1]],axis=1)\n",
    "player['strike_rate']=player['runs']/player['ballnumber']*100\n",
    "player['4s'].fillna(0,inplace=True)\n"
   ]
  },
  {
   "cell_type": "code",
   "execution_count": 62,
   "metadata": {},
   "outputs": [
    {
     "data": {
      "text/html": [
       "<style type=\"text/css\">\n",
       "#T_b0470_row0_col1 {\n",
       "  background-color: #023858;\n",
       "  color: #f1f1f1;\n",
       "}\n",
       "#T_b0470_row1_col1 {\n",
       "  background-color: #0569a5;\n",
       "  color: #f1f1f1;\n",
       "}\n",
       "#T_b0470_row2_col1 {\n",
       "  background-color: #63a2cb;\n",
       "  color: #f1f1f1;\n",
       "}\n",
       "#T_b0470_row3_col1 {\n",
       "  background-color: #73a9cf;\n",
       "  color: #f1f1f1;\n",
       "}\n",
       "#T_b0470_row4_col1 {\n",
       "  background-color: #ced0e6;\n",
       "  color: #000000;\n",
       "}\n",
       "#T_b0470_row5_col1 {\n",
       "  background-color: #e9e5f1;\n",
       "  color: #000000;\n",
       "}\n",
       "#T_b0470_row6_col1 {\n",
       "  background-color: #eee9f3;\n",
       "  color: #000000;\n",
       "}\n",
       "#T_b0470_row7_col1 {\n",
       "  background-color: #f4eef6;\n",
       "  color: #000000;\n",
       "}\n",
       "#T_b0470_row8_col1 {\n",
       "  background-color: #f6eff7;\n",
       "  color: #000000;\n",
       "}\n",
       "#T_b0470_row9_col1 {\n",
       "  background-color: #fff7fb;\n",
       "  color: #000000;\n",
       "}\n",
       "</style>\n",
       "<table id=\"T_b0470\">\n",
       "  <thead>\n",
       "    <tr>\n",
       "      <th class=\"blank level0\" >&nbsp;</th>\n",
       "      <th id=\"T_b0470_level0_col0\" class=\"col_heading level0 col0\" >Batsman</th>\n",
       "      <th id=\"T_b0470_level0_col1\" class=\"col_heading level0 col1\" >strike_rate</th>\n",
       "    </tr>\n",
       "  </thead>\n",
       "  <tbody>\n",
       "    <tr>\n",
       "      <th id=\"T_b0470_level0_row0\" class=\"row_heading level0 row0\" >47</th>\n",
       "      <td id=\"T_b0470_row0_col0\" class=\"data row0 col0\" >Glenn Maxwell</td>\n",
       "      <td id=\"T_b0470_row0_col1\" class=\"data row0 col1\" >185.333333</td>\n",
       "    </tr>\n",
       "    <tr>\n",
       "      <th id=\"T_b0470_level0_row1\" class=\"row_heading level0 row1\" >152</th>\n",
       "      <td id=\"T_b0470_row1_col0\" class=\"data row1 col0\" >Suryakumar Yadav</td>\n",
       "      <td id=\"T_b0470_row1_col1\" class=\"data row1 col1\" >180.838323</td>\n",
       "    </tr>\n",
       "    <tr>\n",
       "      <th id=\"T_b0470_level0_row2\" class=\"row_heading level0 row2\" >55</th>\n",
       "      <td id=\"T_b0470_row2_col0\" class=\"data row2 col0\" >Heinrich Klaasen</td>\n",
       "      <td id=\"T_b0470_row2_col1\" class=\"data row2 col1\" >175.572519</td>\n",
       "    </tr>\n",
       "    <tr>\n",
       "      <th id=\"T_b0470_level0_row3\" class=\"row_heading level0 row3\" >8</th>\n",
       "      <td id=\"T_b0470_row3_col0\" class=\"data row3 col0\" >Ajinkya Rahane</td>\n",
       "      <td id=\"T_b0470_row3_col1\" class=\"data row3 col1\" >174.869110</td>\n",
       "    </tr>\n",
       "    <tr>\n",
       "      <th id=\"T_b0470_level0_row4\" class=\"row_heading level0 row4\" >80</th>\n",
       "      <td id=\"T_b0470_row4_col0\" class=\"data row4 col0\" >Liam Livings</td>\n",
       "      <td id=\"T_b0470_row4_col1\" class=\"data row4 col1\" >169.714286</td>\n",
       "    </tr>\n",
       "    <tr>\n",
       "      <th id=\"T_b0470_level0_row5\" class=\"row_heading level0 row5\" >108</th>\n",
       "      <td id=\"T_b0470_row5_col0\" class=\"data row5 col0\" >Nicholas Pooran</td>\n",
       "      <td id=\"T_b0470_row5_col1\" class=\"data row5 col1\" >167.289720</td>\n",
       "    </tr>\n",
       "    <tr>\n",
       "      <th id=\"T_b0470_level0_row6\" class=\"row_heading level0 row6\" >111</th>\n",
       "      <td id=\"T_b0470_row6_col0\" class=\"data row6 col0\" >Philip Salt</td>\n",
       "      <td id=\"T_b0470_row6_col1\" class=\"data row6 col1\" >166.666667</td>\n",
       "    </tr>\n",
       "    <tr>\n",
       "      <th id=\"T_b0470_level0_row7\" class=\"row_heading level0 row7\" >175</th>\n",
       "      <td id=\"T_b0470_row7_col0\" class=\"data row7 col0\" >Yashasvi Jaiswal</td>\n",
       "      <td id=\"T_b0470_row7_col1\" class=\"data row7 col1\" >165.885417</td>\n",
       "    </tr>\n",
       "    <tr>\n",
       "      <th id=\"T_b0470_level0_row8\" class=\"row_heading level0 row8\" >165</th>\n",
       "      <td id=\"T_b0470_row8_col0\" class=\"data row8 col0\" >Vijay Shankar</td>\n",
       "      <td id=\"T_b0470_row8_col1\" class=\"data row8 col1\" >165.641026</td>\n",
       "    </tr>\n",
       "    <tr>\n",
       "      <th id=\"T_b0470_level0_row9\" class=\"row_heading level0 row9\" >30</th>\n",
       "      <td id=\"T_b0470_row9_col0\" class=\"data row9 col0\" >Cameron Green</td>\n",
       "      <td id=\"T_b0470_row9_col1\" class=\"data row9 col1\" >164.338235</td>\n",
       "    </tr>\n",
       "  </tbody>\n",
       "</table>\n"
      ],
      "text/plain": [
       "<pandas.io.formats.style.Styler at 0x14dd9795e50>"
      ]
     },
     "execution_count": 62,
     "metadata": {},
     "output_type": "execute_result"
    }
   ],
   "source": [
    "sr=player[player.ballnumber > 100]\n",
    "sr.sort_values(by='strike_rate',ascending=False).head(10)\n",
    "reqsr=sr.drop(columns=['runs','ballnumber','4s','6s'],axis=1)\n",
    "reqsr.sort_values(by='strike_rate',ascending=False).head(10).style.background_gradient(cmap='PuBu')"
   ]
  },
  {
   "cell_type": "code",
   "execution_count": 63,
   "metadata": {},
   "outputs": [
    {
     "data": {
      "text/plain": [
       "Index(['match_no', 'ballnumber', 'inningno', 'over', 'outcome', 'batter',\n",
       "       'bowler', 'comment', 'score', 'dismissal_kind', 'season',\n",
       "       'batting_team', 'bowling_team'],\n",
       "      dtype='object')"
      ]
     },
     "execution_count": 63,
     "metadata": {},
     "output_type": "execute_result"
    }
   ],
   "source": [
    "Deliveries_data.columns"
   ]
  },
  {
   "cell_type": "markdown",
   "metadata": {},
   "source": [
    "#### 26) Who is the leading wicket-taker?"
   ]
  },
  {
   "cell_type": "code",
   "execution_count": 64,
   "metadata": {},
   "outputs": [
    {
     "data": {
      "text/plain": [
       "bowler\n",
       "Mohammed Shami         28\n",
       "Mohit Sharma           27\n",
       "Rashid Khan            27\n",
       "Piyush Chawla          22\n",
       "Tushar Deshpande       21\n",
       "Yuzvendra Chahal       21\n",
       "Ravindra Jadeja        20\n",
       "Varun Chakravarthy     20\n",
       "Matheesha Pathirana    19\n",
       "Mohammed Siraj         19\n",
       "Name: count, dtype: int64"
      ]
     },
     "execution_count": 64,
     "metadata": {},
     "output_type": "execute_result"
    }
   ],
   "source": [
    "dismissal_kinds = ['Bowled', 'Caught', 'LBW', 'Stumped']\n",
    "bowler = Deliveries_data[Deliveries_data[\"dismissal_kind\"].isin(dismissal_kinds)]['bowler'].value_counts().head(10)\n",
    "bowler"
   ]
  },
  {
   "cell_type": "code",
   "execution_count": 65,
   "metadata": {},
   "outputs": [
    {
     "name": "stderr",
     "output_type": "stream",
     "text": [
      "C:\\Users\\Admin\\AppData\\Local\\Temp\\ipykernel_10468\\3815076605.py:3: FutureWarning: \n",
      "\n",
      "Passing `palette` without assigning `hue` is deprecated and will be removed in v0.14.0. Assign the `x` variable to `hue` and set `legend=False` for the same effect.\n",
      "\n",
      "  sns.barplot(x=bowler[:10].index, y=bowler[:10], palette=colors)\n"
     ]
    },
    {
     "data": {
      "image/png": "[encoded data removed]",
      "text/plain": [
       "<Figure size 640x480 with 1 Axes>"
      ]
     },
     "metadata": {},
     "output_type": "display_data"
    }
   ],
   "source": [
    "colors = sns.color_palette(\"pastel\")[:13]\n",
    "colors[0] = \"crimson\"\n",
    "sns.barplot(x=bowler[:10].index, y=bowler[:10], palette=colors)\n",
    "plt.title(\"Leading wicket-takers\", fontsize=26)\n",
    "plt.xlabel(\"Bowler\",fontsize=14)\n",
    "plt.ylabel(\"Total Wickets\",fontsize=14\n",
    "          )\n",
    "plt.xticks(rotation=90)\n",
    "plt.show()"
   ]
  },
  {
   "cell_type": "markdown",
   "metadata": {},
   "source": [
    "#### 27) Which stadium has hosted the most number of matches?"
   ]
  },
  {
   "cell_type": "code",
   "execution_count": 66,
   "metadata": {},
   "outputs": [
    {
     "data": {
      "text/html": [
       "<div>\n",
       "<style scoped>\n",
       "    .dataframe tbody tr th:only-of-type {\n",
       "        vertical-align: middle;\n",
       "    }\n",
       "\n",
       "    .dataframe tbody tr th {\n",
       "        vertical-align: top;\n",
       "    }\n",
       "\n",
       "    .dataframe thead th {\n",
       "        text-align: right;\n",
       "    }\n",
       "</style>\n",
       "<table border=\"1\" class=\"dataframe\">\n",
       "  <thead>\n",
       "    <tr style=\"text-align: right;\">\n",
       "      <th></th>\n",
       "      <th>count</th>\n",
       "    </tr>\n",
       "    <tr>\n",
       "      <th>venue</th>\n",
       "      <th></th>\n",
       "    </tr>\n",
       "  </thead>\n",
       "  <tbody>\n",
       "    <tr>\n",
       "      <th>Narendra Modi Stadium</th>\n",
       "      <td>9</td>\n",
       "    </tr>\n",
       "    <tr>\n",
       "      <th>MA Chidambaram Stadium</th>\n",
       "      <td>9</td>\n",
       "    </tr>\n",
       "    <tr>\n",
       "      <th>Bharat Ratna Shri Atal Bihari Vajpayee Ekana Cricket Stadium</th>\n",
       "      <td>7</td>\n",
       "    </tr>\n",
       "    <tr>\n",
       "      <th>Rajiv Gandhi International Stadium</th>\n",
       "      <td>7</td>\n",
       "    </tr>\n",
       "    <tr>\n",
       "      <th>M Chinnaswamy Stadium</th>\n",
       "      <td>7</td>\n",
       "    </tr>\n",
       "    <tr>\n",
       "      <th>Arun Jaitley Stadium</th>\n",
       "      <td>7</td>\n",
       "    </tr>\n",
       "    <tr>\n",
       "      <th>Eden Gardens</th>\n",
       "      <td>7</td>\n",
       "    </tr>\n",
       "    <tr>\n",
       "      <th>Wankhede Stadium</th>\n",
       "      <td>7</td>\n",
       "    </tr>\n",
       "    <tr>\n",
       "      <th>Punjab Cricket Association IS Bindra Stadium</th>\n",
       "      <td>5</td>\n",
       "    </tr>\n",
       "    <tr>\n",
       "      <th>Sawai Mansingh Stadium</th>\n",
       "      <td>5</td>\n",
       "    </tr>\n",
       "  </tbody>\n",
       "</table>\n",
       "</div>"
      ],
      "text/plain": [
       "                                                    count\n",
       "venue                                                    \n",
       "Narendra Modi Stadium                                   9\n",
       "MA Chidambaram Stadium                                  9\n",
       "Bharat Ratna Shri Atal Bihari Vajpayee Ekana Cr...      7\n",
       "Rajiv Gandhi International Stadium                      7\n",
       "M Chinnaswamy Stadium                                   7\n",
       "Arun Jaitley Stadium                                    7\n",
       "Eden Gardens                                            7\n",
       "Wankhede Stadium                                        7\n",
       "Punjab Cricket Association IS Bindra Stadium            5\n",
       "Sawai Mansingh Stadium                                  5"
      ]
     },
     "execution_count": 66,
     "metadata": {},
     "output_type": "execute_result"
    }
   ],
   "source": [
    "Match_data['venue'].value_counts()[:10].to_frame()"
   ]
  },
  {
   "cell_type": "code",
   "execution_count": 67,
   "metadata": {},
   "outputs": [
    {
     "name": "stderr",
     "output_type": "stream",
     "text": [
      "C:\\Users\\Admin\\AppData\\Local\\Temp\\ipykernel_10468\\2489088589.py:3: FutureWarning: \n",
      "\n",
      "Passing `palette` without assigning `hue` is deprecated and will be removed in v0.14.0. Assign the `x` variable to `hue` and set `legend=False` for the same effect.\n",
      "\n",
      "  sns.barplot(x=Match_data['venue'].value_counts()[:10].index, y=Match_data['venue'].value_counts()[:10], palette=colors)\n"
     ]
    },
    {
     "data": {
      "image/png": "[encoded data removed]",
      "text/plain": [
       "<Figure size 640x480 with 1 Axes>"
      ]
     },
     "metadata": {},
     "output_type": "display_data"
    }
   ],
   "source": [
    "colors = sns.color_palette(\"pastel\")[:13]\n",
    "colors[0] = \"crimson\"\n",
    "sns.barplot(x=Match_data['venue'].value_counts()[:10].index, y=Match_data['venue'].value_counts()[:10], palette=colors)\n",
    "plt.title(\"Matches played at different stadiums\", fontsize=20)\n",
    "plt.xlabel(\"Venue\",fontsize=14)\n",
    "plt.ylabel(\"Match count\",fontsize=14)\n",
    "plt.xticks(rotation=90)\n",
    "plt.show()"
   ]
  },
  {
   "cell_type": "markdown",
   "metadata": {},
   "source": [
    "#### 28) Who has won the most MOM awards?"
   ]
  },
  {
   "cell_type": "code",
   "execution_count": 68,
   "metadata": {},
   "outputs": [
    {
     "data": {
      "text/html": [
       "<div>\n",
       "<style scoped>\n",
       "    .dataframe tbody tr th:only-of-type {\n",
       "        vertical-align: middle;\n",
       "    }\n",
       "\n",
       "    .dataframe tbody tr th {\n",
       "        vertical-align: top;\n",
       "    }\n",
       "\n",
       "    .dataframe thead th {\n",
       "        text-align: right;\n",
       "    }\n",
       "</style>\n",
       "<table border=\"1\" class=\"dataframe\">\n",
       "  <thead>\n",
       "    <tr style=\"text-align: right;\">\n",
       "      <th></th>\n",
       "      <th>count</th>\n",
       "    </tr>\n",
       "    <tr>\n",
       "      <th>man_of_match</th>\n",
       "      <th></th>\n",
       "    </tr>\n",
       "  </thead>\n",
       "  <tbody>\n",
       "    <tr>\n",
       "      <th>Shubman Gill</th>\n",
       "      <td>4</td>\n",
       "    </tr>\n",
       "    <tr>\n",
       "      <th>YBK Jaiswal</th>\n",
       "      <td>4</td>\n",
       "    </tr>\n",
       "    <tr>\n",
       "      <th>MP Stoinis</th>\n",
       "      <td>3</td>\n",
       "    </tr>\n",
       "    <tr>\n",
       "      <th>DP Conway</th>\n",
       "      <td>3</td>\n",
       "    </tr>\n",
       "    <tr>\n",
       "      <th>RA Jadeja</th>\n",
       "      <td>3</td>\n",
       "    </tr>\n",
       "    <tr>\n",
       "      <th>N Pooran</th>\n",
       "      <td>2</td>\n",
       "    </tr>\n",
       "    <tr>\n",
       "      <th>RD Gaikwad</th>\n",
       "      <td>2</td>\n",
       "    </tr>\n",
       "    <tr>\n",
       "      <th>SA Yadav</th>\n",
       "      <td>2</td>\n",
       "    </tr>\n",
       "    <tr>\n",
       "      <th>CV Varun</th>\n",
       "      <td>2</td>\n",
       "    </tr>\n",
       "    <tr>\n",
       "      <th>C Green</th>\n",
       "      <td>2</td>\n",
       "    </tr>\n",
       "  </tbody>\n",
       "</table>\n",
       "</div>"
      ],
      "text/plain": [
       "              count\n",
       "man_of_match       \n",
       "Shubman Gill      4\n",
       "YBK Jaiswal       4\n",
       "MP Stoinis        3\n",
       "DP Conway         3\n",
       "RA Jadeja         3\n",
       "N Pooran          2\n",
       "RD Gaikwad        2\n",
       "SA Yadav          2\n",
       "CV Varun          2\n",
       "C Green           2"
      ]
     },
     "execution_count": 68,
     "metadata": {},
     "output_type": "execute_result"
    }
   ],
   "source": [
    "Match_data.man_of_match.value_counts().to_frame().head(10)"
   ]
  },
  {
   "cell_type": "code",
   "execution_count": 69,
   "metadata": {},
   "outputs": [
    {
     "name": "stderr",
     "output_type": "stream",
     "text": [
      "C:\\Users\\Admin\\AppData\\Local\\Temp\\ipykernel_10468\\4234555234.py:3: FutureWarning: \n",
      "\n",
      "Passing `palette` without assigning `hue` is deprecated and will be removed in v0.14.0. Assign the `x` variable to `hue` and set `legend=False` for the same effect.\n",
      "\n",
      "  sns.barplot(x=Match_data.man_of_match.value_counts()[:10].index, y=Match_data.man_of_match.value_counts()[:10], palette=colors)\n"
     ]
    },
    {
     "data": {
      "image/png": "[encoded data removed]",
      "text/plain": [
       "<Figure size 640x480 with 1 Axes>"
      ]
     },
     "metadata": {},
     "output_type": "display_data"
    }
   ],
   "source": [
    "colors = sns.color_palette(\"pastel\")[:11]\n",
    "colors[0] = \"crimson\"\n",
    "sns.barplot(x=Match_data.man_of_match.value_counts()[:10].index, y=Match_data.man_of_match.value_counts()[:10], palette=colors)\n",
    "plt.title(\"Top 10 MOM awardee\", fontsize=20)\n",
    "plt.xlabel(\"Players\",fontsize=14)\n",
    "plt.ylabel(\"Count\",fontsize=14)\n",
    "plt.xticks(rotation=90)\n",
    "plt.show()"
   ]
  },
  {
   "cell_type": "markdown",
   "metadata": {},
   "source": [
    "#### 29) What is the count of fours hit in 2023 season?"
   ]
  },
  {
   "cell_type": "code",
   "execution_count": 70,
   "metadata": {},
   "outputs": [
    {
     "data": {
      "text/plain": [
       "Index(['match_no', 'ballnumber', 'inningno', 'over', 'outcome', 'batter',\n",
       "       'bowler', 'comment', 'score', 'dismissal_kind', 'season',\n",
       "       'batting_team', 'bowling_team'],\n",
       "      dtype='object')"
      ]
     },
     "execution_count": 70,
     "metadata": {},
     "output_type": "execute_result"
    }
   ],
   "source": [
    "Deliveries_data.columns"
   ]
  },
  {
   "cell_type": "code",
   "execution_count": 71,
   "metadata": {},
   "outputs": [
    {
     "data": {
      "text/html": [
       "<div>\n",
       "<style scoped>\n",
       "    .dataframe tbody tr th:only-of-type {\n",
       "        vertical-align: middle;\n",
       "    }\n",
       "\n",
       "    .dataframe tbody tr th {\n",
       "        vertical-align: top;\n",
       "    }\n",
       "\n",
       "    .dataframe thead th {\n",
       "        text-align: right;\n",
       "    }\n",
       "</style>\n",
       "<table border=\"1\" class=\"dataframe\">\n",
       "  <thead>\n",
       "    <tr style=\"text-align: right;\">\n",
       "      <th></th>\n",
       "      <th>season</th>\n",
       "      <th>fours</th>\n",
       "    </tr>\n",
       "  </thead>\n",
       "  <tbody>\n",
       "    <tr>\n",
       "      <th>0</th>\n",
       "      <td>2023</td>\n",
       "      <td>2196</td>\n",
       "    </tr>\n",
       "  </tbody>\n",
       "</table>\n",
       "</div>"
      ],
      "text/plain": [
       "   season  fours\n",
       "0    2023   2196"
      ]
     },
     "execution_count": 71,
     "metadata": {},
     "output_type": "execute_result"
    }
   ],
   "source": [
    "fours_list = Deliveries_data[Deliveries_data['score'] == 4].groupby(Deliveries_data['match_no'].map(Match_data.set_index('match_no')['season'])).size()\n",
    "fours_list = fours_list.reset_index(name='fours')\n",
    "fours_list.columns = ['season', 'fours']\n",
    "fours_list"
   ]
  },
  {
   "cell_type": "markdown",
   "metadata": {},
   "source": [
    "#### 30) What is the count of sixes hit in each season?"
   ]
  },
  {
   "cell_type": "code",
   "execution_count": 72,
   "metadata": {},
   "outputs": [
    {
     "data": {
      "text/html": [
       "<div>\n",
       "<style scoped>\n",
       "    .dataframe tbody tr th:only-of-type {\n",
       "        vertical-align: middle;\n",
       "    }\n",
       "\n",
       "    .dataframe tbody tr th {\n",
       "        vertical-align: top;\n",
       "    }\n",
       "\n",
       "    .dataframe thead th {\n",
       "        text-align: right;\n",
       "    }\n",
       "</style>\n",
       "<table border=\"1\" class=\"dataframe\">\n",
       "  <thead>\n",
       "    <tr style=\"text-align: right;\">\n",
       "      <th></th>\n",
       "      <th>season</th>\n",
       "      <th>sixs</th>\n",
       "    </tr>\n",
       "  </thead>\n",
       "  <tbody>\n",
       "    <tr>\n",
       "      <th>0</th>\n",
       "      <td>2023</td>\n",
       "      <td>1110</td>\n",
       "    </tr>\n",
       "  </tbody>\n",
       "</table>\n",
       "</div>"
      ],
      "text/plain": [
       "   season  sixs\n",
       "0    2023  1110"
      ]
     },
     "execution_count": 72,
     "metadata": {},
     "output_type": "execute_result"
    }
   ],
   "source": [
    "six_list = Deliveries_data[Deliveries_data['score'] == 6].groupby(Deliveries_data['match_no'].map(Match_data.set_index('match_no')['season'])).size()\n",
    "six_list = six_list.reset_index(name='sixs')\n",
    "six_list.columns = ['season', 'sixs']\n",
    "six_list"
   ]
  },
  {
   "cell_type": "code",
   "execution_count": 74,
   "metadata": {},
   "outputs": [],
   "source": [
    "runs4=np.dot(fours_list,4)\n",
    "runs6=np.dot(six_list,6)"
   ]
  },
  {
   "cell_type": "markdown",
   "metadata": {},
   "source": [
    "#### 31) What is the count of runs scored from boundaries in each season?"
   ]
  },
  {
   "cell_type": "code",
   "execution_count": 75,
   "metadata": {},
   "outputs": [
    {
     "data": {
      "text/plain": [
       "array([[20230, 15444]], dtype=int64)"
      ]
     },
     "execution_count": 75,
     "metadata": {},
     "output_type": "execute_result"
    }
   ],
   "source": [
    "runs4=np.dot(fours_list,4)\n",
    "runs6=np.dot(six_list,6)\n",
    "boundary_run = runs4 + runs6\n",
    "boundary_run"
   ]
  },
  {
   "cell_type": "markdown",
   "metadata": {},
   "source": [
    "### 32)The strike rate of each team in the first 6 overs."
   ]
  },
  {
   "cell_type": "code",
   "execution_count": 87,
   "metadata": {},
   "outputs": [
    {
     "data": {
      "text/html": [
       "<div>\n",
       "<style scoped>\n",
       "    .dataframe tbody tr th:only-of-type {\n",
       "        vertical-align: middle;\n",
       "    }\n",
       "\n",
       "    .dataframe tbody tr th {\n",
       "        vertical-align: top;\n",
       "    }\n",
       "\n",
       "    .dataframe thead th {\n",
       "        text-align: right;\n",
       "    }\n",
       "</style>\n",
       "<table border=\"1\" class=\"dataframe\">\n",
       "  <thead>\n",
       "    <tr style=\"text-align: right;\">\n",
       "      <th></th>\n",
       "      <th>batting_team</th>\n",
       "      <th>first_6_overs_runs</th>\n",
       "    </tr>\n",
       "  </thead>\n",
       "  <tbody>\n",
       "    <tr>\n",
       "      <th>0</th>\n",
       "      <td>Chennai Super Kings</td>\n",
       "      <td>989</td>\n",
       "    </tr>\n",
       "    <tr>\n",
       "      <th>1</th>\n",
       "      <td>Delhi Capitals</td>\n",
       "      <td>477</td>\n",
       "    </tr>\n",
       "    <tr>\n",
       "      <th>2</th>\n",
       "      <td>Gujarat Titans</td>\n",
       "      <td>853</td>\n",
       "    </tr>\n",
       "    <tr>\n",
       "      <th>3</th>\n",
       "      <td>Kolkata Knight Riders</td>\n",
       "      <td>776</td>\n",
       "    </tr>\n",
       "    <tr>\n",
       "      <th>4</th>\n",
       "      <td>Lucknow Super Giants</td>\n",
       "      <td>623</td>\n",
       "    </tr>\n",
       "    <tr>\n",
       "      <th>5</th>\n",
       "      <td>Mumbai Indians</td>\n",
       "      <td>620</td>\n",
       "    </tr>\n",
       "    <tr>\n",
       "      <th>6</th>\n",
       "      <td>Punjab Kings</td>\n",
       "      <td>947</td>\n",
       "    </tr>\n",
       "    <tr>\n",
       "      <th>7</th>\n",
       "      <td>Rajasthan Royals</td>\n",
       "      <td>764</td>\n",
       "    </tr>\n",
       "    <tr>\n",
       "      <th>8</th>\n",
       "      <td>Royal Challengers Bangalore</td>\n",
       "      <td>887</td>\n",
       "    </tr>\n",
       "    <tr>\n",
       "      <th>9</th>\n",
       "      <td>Sunrisers Hyderabad</td>\n",
       "      <td>751</td>\n",
       "    </tr>\n",
       "  </tbody>\n",
       "</table>\n",
       "</div>"
      ],
      "text/plain": [
       "                  batting_team  first_6_overs_runs\n",
       "0          Chennai Super Kings                 989\n",
       "1               Delhi Capitals                 477\n",
       "2               Gujarat Titans                 853\n",
       "3        Kolkata Knight Riders                 776\n",
       "4         Lucknow Super Giants                 623\n",
       "5               Mumbai Indians                 620\n",
       "6                 Punjab Kings                 947\n",
       "7             Rajasthan Royals                 764\n",
       "8  Royal Challengers Bangalore                 887\n",
       "9          Sunrisers Hyderabad                 751"
      ]
     },
     "execution_count": 87,
     "metadata": {},
     "output_type": "execute_result"
    }
   ],
   "source": [
    "# Filter data for first 6 overs\n",
    "first_6_overs_runs = Deliveries_data[Deliveries_data['over'] <= 6].groupby('batting_team')['score'].sum()\n",
    "first_6_overs_runs.to_frame('first_6_overs_runs').reset_index()"
   ]
  },
  {
   "cell_type": "markdown",
   "metadata": {},
   "source": [
    "### 33)Determine the strike rate of each team in the last 5 overs."
   ]
  },
  {
   "cell_type": "code",
   "execution_count": 91,
   "metadata": {},
   "outputs": [
    {
     "data": {
      "text/html": [
       "<div>\n",
       "<style scoped>\n",
       "    .dataframe tbody tr th:only-of-type {\n",
       "        vertical-align: middle;\n",
       "    }\n",
       "\n",
       "    .dataframe tbody tr th {\n",
       "        vertical-align: top;\n",
       "    }\n",
       "\n",
       "    .dataframe thead th {\n",
       "        text-align: right;\n",
       "    }\n",
       "</style>\n",
       "<table border=\"1\" class=\"dataframe\">\n",
       "  <thead>\n",
       "    <tr style=\"text-align: right;\">\n",
       "      <th></th>\n",
       "      <th>batting_team</th>\n",
       "      <th>last_5_overs</th>\n",
       "    </tr>\n",
       "  </thead>\n",
       "  <tbody>\n",
       "    <tr>\n",
       "      <th>0</th>\n",
       "      <td>Chennai Super Kings</td>\n",
       "      <td>945</td>\n",
       "    </tr>\n",
       "    <tr>\n",
       "      <th>1</th>\n",
       "      <td>Delhi Capitals</td>\n",
       "      <td>505</td>\n",
       "    </tr>\n",
       "    <tr>\n",
       "      <th>2</th>\n",
       "      <td>Gujarat Titans</td>\n",
       "      <td>757</td>\n",
       "    </tr>\n",
       "    <tr>\n",
       "      <th>3</th>\n",
       "      <td>Kolkata Knight Riders</td>\n",
       "      <td>523</td>\n",
       "    </tr>\n",
       "    <tr>\n",
       "      <th>4</th>\n",
       "      <td>Lucknow Super Giants</td>\n",
       "      <td>686</td>\n",
       "    </tr>\n",
       "    <tr>\n",
       "      <th>5</th>\n",
       "      <td>Mumbai Indians</td>\n",
       "      <td>516</td>\n",
       "    </tr>\n",
       "    <tr>\n",
       "      <th>6</th>\n",
       "      <td>Punjab Kings</td>\n",
       "      <td>917</td>\n",
       "    </tr>\n",
       "    <tr>\n",
       "      <th>7</th>\n",
       "      <td>Rajasthan Royals</td>\n",
       "      <td>676</td>\n",
       "    </tr>\n",
       "    <tr>\n",
       "      <th>8</th>\n",
       "      <td>Royal Challengers Bangalore</td>\n",
       "      <td>738</td>\n",
       "    </tr>\n",
       "    <tr>\n",
       "      <th>9</th>\n",
       "      <td>Sunrisers Hyderabad</td>\n",
       "      <td>649</td>\n",
       "    </tr>\n",
       "  </tbody>\n",
       "</table>\n",
       "</div>"
      ],
      "text/plain": [
       "                  batting_team  last_5_overs\n",
       "0          Chennai Super Kings           945\n",
       "1               Delhi Capitals           505\n",
       "2               Gujarat Titans           757\n",
       "3        Kolkata Knight Riders           523\n",
       "4         Lucknow Super Giants           686\n",
       "5               Mumbai Indians           516\n",
       "6                 Punjab Kings           917\n",
       "7             Rajasthan Royals           676\n",
       "8  Royal Challengers Bangalore           738\n",
       "9          Sunrisers Hyderabad           649"
      ]
     },
     "execution_count": 91,
     "metadata": {},
     "output_type": "execute_result"
    }
   ],
   "source": [
    "# Filter data for the last 5 overs\n",
    "last_5_overs = Deliveries_data[Deliveries_data['over'] > Deliveries_data['over'].max() - 5]\n",
    "\n",
    "# Calculate the total runs scored by each team in the last 5 overs\n",
    "last_5_overs_runs = last_5_overs.groupby('batting_team')['score'].sum()\n",
    "last_5_overs_runs.to_frame('last_5_overs').reset_index()"
   ]
  },
  {
   "cell_type": "markdown",
   "metadata": {},
   "source": [
    "### 34)Compare the strike rates between the first 6 overs and the last 5 overs for each team."
   ]
  },
  {
   "cell_type": "code",
   "execution_count": 86,
   "metadata": {},
   "outputs": [
    {
     "data": {
      "text/html": [
       "<div>\n",
       "<style scoped>\n",
       "    .dataframe tbody tr th:only-of-type {\n",
       "        vertical-align: middle;\n",
       "    }\n",
       "\n",
       "    .dataframe tbody tr th {\n",
       "        vertical-align: top;\n",
       "    }\n",
       "\n",
       "    .dataframe thead th {\n",
       "        text-align: right;\n",
       "    }\n",
       "</style>\n",
       "<table border=\"1\" class=\"dataframe\">\n",
       "  <thead>\n",
       "    <tr style=\"text-align: right;\">\n",
       "      <th></th>\n",
       "      <th>batting_team</th>\n",
       "      <th>Strike Rate</th>\n",
       "    </tr>\n",
       "  </thead>\n",
       "  <tbody>\n",
       "    <tr>\n",
       "      <th>0</th>\n",
       "      <td>Chennai Super Kings</td>\n",
       "      <td>295.223881</td>\n",
       "    </tr>\n",
       "    <tr>\n",
       "      <th>1</th>\n",
       "      <td>Delhi Capitals</td>\n",
       "      <td>255.080214</td>\n",
       "    </tr>\n",
       "    <tr>\n",
       "      <th>2</th>\n",
       "      <td>Gujarat Titans</td>\n",
       "      <td>285.284281</td>\n",
       "    </tr>\n",
       "    <tr>\n",
       "      <th>3</th>\n",
       "      <td>Kolkata Knight Riders</td>\n",
       "      <td>289.552239</td>\n",
       "    </tr>\n",
       "    <tr>\n",
       "      <th>4</th>\n",
       "      <td>Lucknow Super Giants</td>\n",
       "      <td>240.540541</td>\n",
       "    </tr>\n",
       "    <tr>\n",
       "      <th>5</th>\n",
       "      <td>Mumbai Indians</td>\n",
       "      <td>283.105023</td>\n",
       "    </tr>\n",
       "    <tr>\n",
       "      <th>6</th>\n",
       "      <td>Punjab Kings</td>\n",
       "      <td>274.492754</td>\n",
       "    </tr>\n",
       "    <tr>\n",
       "      <th>7</th>\n",
       "      <td>Rajasthan Royals</td>\n",
       "      <td>289.393939</td>\n",
       "    </tr>\n",
       "    <tr>\n",
       "      <th>8</th>\n",
       "      <td>Royal Challengers Bangalore</td>\n",
       "      <td>270.426829</td>\n",
       "    </tr>\n",
       "    <tr>\n",
       "      <th>9</th>\n",
       "      <td>Sunrisers Hyderabad</td>\n",
       "      <td>283.396226</td>\n",
       "    </tr>\n",
       "  </tbody>\n",
       "</table>\n",
       "</div>"
      ],
      "text/plain": [
       "                  batting_team  Strike Rate\n",
       "0          Chennai Super Kings   295.223881\n",
       "1               Delhi Capitals   255.080214\n",
       "2               Gujarat Titans   285.284281\n",
       "3        Kolkata Knight Riders   289.552239\n",
       "4         Lucknow Super Giants   240.540541\n",
       "5               Mumbai Indians   283.105023\n",
       "6                 Punjab Kings   274.492754\n",
       "7             Rajasthan Royals   289.393939\n",
       "8  Royal Challengers Bangalore   270.426829\n",
       "9          Sunrisers Hyderabad   283.396226"
      ]
     },
     "execution_count": 86,
     "metadata": {},
     "output_type": "execute_result"
    }
   ],
   "source": [
    "# Calculate the total balls faced by each team in the first 6 overs\n",
    "balls_faced = Deliveries_data[(Deliveries_data['over'] <= 6) & (Deliveries_data['inningno'] == 1)].groupby('batting_team').size()\n",
    "\n",
    "# Calculate the strike rate for each team\n",
    "strike_rate = (first_6_overs_runs / balls_faced) * 100\n",
    "strike_rate.to_frame('Strike Rate').reset_index()"
   ]
  },
  {
   "cell_type": "code",
   "execution_count": 93,
   "metadata": {},
   "outputs": [
    {
     "data": {
      "text/html": [
       "<div>\n",
       "<style scoped>\n",
       "    .dataframe tbody tr th:only-of-type {\n",
       "        vertical-align: middle;\n",
       "    }\n",
       "\n",
       "    .dataframe tbody tr th {\n",
       "        vertical-align: top;\n",
       "    }\n",
       "\n",
       "    .dataframe thead th {\n",
       "        text-align: right;\n",
       "    }\n",
       "</style>\n",
       "<table border=\"1\" class=\"dataframe\">\n",
       "  <thead>\n",
       "    <tr style=\"text-align: right;\">\n",
       "      <th></th>\n",
       "      <th>batting_team</th>\n",
       "      <th>strike_rate_last_5_overs</th>\n",
       "    </tr>\n",
       "  </thead>\n",
       "  <tbody>\n",
       "    <tr>\n",
       "      <th>0</th>\n",
       "      <td>Chennai Super Kings</td>\n",
       "      <td>159.628378</td>\n",
       "    </tr>\n",
       "    <tr>\n",
       "      <th>1</th>\n",
       "      <td>Delhi Capitals</td>\n",
       "      <td>170.033670</td>\n",
       "    </tr>\n",
       "    <tr>\n",
       "      <th>2</th>\n",
       "      <td>Gujarat Titans</td>\n",
       "      <td>167.108168</td>\n",
       "    </tr>\n",
       "    <tr>\n",
       "      <th>3</th>\n",
       "      <td>Kolkata Knight Riders</td>\n",
       "      <td>142.506812</td>\n",
       "    </tr>\n",
       "    <tr>\n",
       "      <th>4</th>\n",
       "      <td>Lucknow Super Giants</td>\n",
       "      <td>163.723150</td>\n",
       "    </tr>\n",
       "    <tr>\n",
       "      <th>5</th>\n",
       "      <td>Mumbai Indians</td>\n",
       "      <td>163.291139</td>\n",
       "    </tr>\n",
       "    <tr>\n",
       "      <th>6</th>\n",
       "      <td>Punjab Kings</td>\n",
       "      <td>179.452055</td>\n",
       "    </tr>\n",
       "    <tr>\n",
       "      <th>7</th>\n",
       "      <td>Rajasthan Royals</td>\n",
       "      <td>171.139241</td>\n",
       "    </tr>\n",
       "    <tr>\n",
       "      <th>8</th>\n",
       "      <td>Royal Challengers Bangalore</td>\n",
       "      <td>151.229508</td>\n",
       "    </tr>\n",
       "    <tr>\n",
       "      <th>9</th>\n",
       "      <td>Sunrisers Hyderabad</td>\n",
       "      <td>166.410256</td>\n",
       "    </tr>\n",
       "  </tbody>\n",
       "</table>\n",
       "</div>"
      ],
      "text/plain": [
       "                  batting_team  strike_rate_last_5_overs\n",
       "0          Chennai Super Kings                159.628378\n",
       "1               Delhi Capitals                170.033670\n",
       "2               Gujarat Titans                167.108168\n",
       "3        Kolkata Knight Riders                142.506812\n",
       "4         Lucknow Super Giants                163.723150\n",
       "5               Mumbai Indians                163.291139\n",
       "6                 Punjab Kings                179.452055\n",
       "7             Rajasthan Royals                171.139241\n",
       "8  Royal Challengers Bangalore                151.229508\n",
       "9          Sunrisers Hyderabad                166.410256"
      ]
     },
     "execution_count": 93,
     "metadata": {},
     "output_type": "execute_result"
    }
   ],
   "source": [
    "# Calculate the total balls faced by each team in the last 5 overs\n",
    "balls_faced_last_5_overs = last_5_overs.groupby('batting_team').size()\n",
    "\n",
    "# Calculate the strike rate for each team in the last 5 overs\n",
    "strike_rate_last_5_overs = (last_5_overs_runs / balls_faced_last_5_overs) * 100\n",
    "strike_rate_last_5_overs.to_frame('strike_rate_last_5_overs').reset_index()"
   ]
  },
  {
   "cell_type": "code",
   "execution_count": null,
   "metadata": {},
   "outputs": [],
   "source": []
  }
 ],
 "metadata": {
  "kernelspec": {
   "display_name": "Python 3",
   "language": "python",
   "name": "python3"
  },
  "language_info": {
   "codemirror_mode": {
    "name": "ipython",
    "version": 3
   },
   "file_extension": ".py",
   "mimetype": "text/x-python",
   "name": "python",
   "nbconvert_exporter": "python",
   "pygments_lexer": "ipython3",
   "version": "3.12.2"
  }
 },
 "nbformat": 4,
 "nbformat_minor": 2
}
