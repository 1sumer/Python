{
 "cells": [
  {
   "cell_type": "markdown",
   "metadata": {},
   "source": [
    "## Exception Handling:"
   ]
  },
  {
   "cell_type": "markdown",
   "metadata": {},
   "source": [
    "The errors in the software are called \"bugs\" and process of removing them is called \"debugging\".\n",
    "\n",
    "We can classify errors in a program into one of these 3 types:\n",
    "- **Syntax Errors:** These are syntactical errors found in the code, due to which a program fails to compile.\n",
    "\n",
    "- **runtime errors:**  These errors occur during the execution of a program. They are not detected by the Python compiler but are identified by the Python Virtual Machine (PVM) at runtime. \n",
    "\n",
    "- **logical errors:** These errors depict flaws in the logic of the program. The programmer might be using a wrong formula or the design of the program itself is wrong. Logical errors are not detected either by python compiler or PVM.The programmer is solely responsible for them."
   ]
  },
  {
   "cell_type": "markdown",
   "metadata": {},
   "source": [
    "- **Exceptions:** An exception is a runtime error which can be handled by the programmer. That means if the programmer can guess an error in the program and he can do something to elimate the harm caused by that error, then it is called \"Exception\".If the programmer can not do anything in case of an error, then it is called an 'error' and not an exception."
   ]
  },
  {
   "cell_type": "markdown",
   "metadata": {},
   "source": [
    "- **Exception Handling:** The purpose of handling errors is to make the program robust(strong). A robust program does not terminate in the middle. Also, when there is an error in the program, it will display an appropriate message to the user and continue execution. When the error can be handled, they are called exception.\n"
   ]
  },
  {
   "cell_type": "markdown",
   "metadata": {},
   "source": [
    "**try:** The try block is used to enclose the code that might raise an exception.\n",
    "\n",
    "**except:** The except block is where you handle the exception. If an exception occurs in the try block, the control is transferred to the except block that matches the type of exception.\n",
    "\n",
    "**else:** It is executed if no exceptions are raised in the try block.\n",
    "\n",
    "**finally:** It is always executed regardless of whether an exception occurred or not. It is typically used for cleanup code that must be executed no matter what."
   ]
  },
  {
   "cell_type": "markdown",
   "metadata": {},
   "source": [
    "### User-defined Exceptions:\n",
    "\n",
    "The programmer can also create his  own exceptions which are called user-defined Exception or \"Custom Exception\".\n",
    "\n",
    "1. User defined exceptions are never automatically raised.This means that such exception can only be raised by explicitly using the 'raise' statement and passing an object of our exception class.\n",
    "\t\n",
    "2. Programmers responsibilty to determine what condition needs to be used to fire the exception.\n",
    "\t\n",
    "\tNOTE:  User defined classes have to directly or indirectly derive from the built-in Exception Class."
   ]
  },
  {
   "cell_type": "markdown",
   "metadata": {},
   "source": [
    "- you can use a finally: block along with a try: block.The finally block is a place to put any code that must execute, whether the try-block raised an exception or not.\n",
    "\t\n",
    "- The purpose of the finally block is used to release the external resource. This block provides a guarantee of execution."
   ]
  },
  {
   "cell_type": "code",
   "execution_count": null,
   "metadata": {},
   "outputs": [],
   "source": [
    "#To handle exceptions, the programmer should perform the following 3 steps:\n",
    "\n",
    "Syntax:\n",
    "\n",
    "    try:\n",
    "        statements\n",
    "    except <exception_name>:\n",
    "        statements\n",
    "    finally:\n",
    "        statements"
   ]
  },
  {
   "cell_type": "markdown",
   "metadata": {},
   "source": [
    "- We can specify which exception except block should catch or handle.\n",
    "- A try block can be followed by multiple numbers of except blocks to handle the different exceptions.But only one exception will be executed when an exception occurs."
   ]
  },
  {
   "cell_type": "code",
   "execution_count": 1,
   "metadata": {},
   "outputs": [
    {
     "name": "stdout",
     "output_type": "stream",
     "text": [
      "Error: cannot add an int and a str\n"
     ]
    }
   ],
   "source": [
    "x = 5\n",
    "y = \"hello\"\n",
    "try:\n",
    "\tz = x + y\n",
    "except TypeError:\n",
    "\tprint(\"Error: cannot add an int and a str\")"
   ]
  },
  {
   "cell_type": "code",
   "execution_count": 2,
   "metadata": {},
   "outputs": [
    {
     "name": "stdout",
     "output_type": "stream",
     "text": [
      "Second element = 2\n",
      "An error occurred\n"
     ]
    }
   ],
   "source": [
    "a = [1, 2, 3]\n",
    "try: \n",
    "\tprint (\"Second element = %d\" %(a[1]))\n",
    "\n",
    "\tprint (\"Fourth element = %d\" %(a[3]))\n",
    "\n",
    "except:\n",
    "\tprint (\"An error occurred\")"
   ]
  },
  {
   "cell_type": "code",
   "execution_count": 9,
   "metadata": {},
   "outputs": [
    {
     "name": "stdout",
     "output_type": "stream",
     "text": [
      "Invalid input. Please enter a valid number.\n"
     ]
    }
   ],
   "source": [
    "try:\n",
    "    user_input = int(input(\"Enter a number: \"))\n",
    "except ValueError:\n",
    "    print(\"Invalid input. Please enter a valid number.\")\n"
   ]
  },
  {
   "cell_type": "code",
   "execution_count": 7,
   "metadata": {},
   "outputs": [
    {
     "name": "stdout",
     "output_type": "stream",
     "text": [
      "File not found.\n"
     ]
    }
   ],
   "source": [
    "try:\n",
    "    with open(\"example.txt\", \"r\") as file:\n",
    "        content = file.read()\n",
    "except FileNotFoundError:\n",
    "    print(\"File not found.\")\n"
   ]
  },
  {
   "cell_type": "code",
   "execution_count": null,
   "metadata": {},
   "outputs": [],
   "source": [
    "try:\n",
    "    result = 10 / 0\n",
    "except ZeroDivisionError:\n",
    "    print(\"Cannot divide by zero.\")"
   ]
  },
  {
   "cell_type": "code",
   "execution_count": 1,
   "metadata": {},
   "outputs": [
    {
     "ename": "SyntaxError",
     "evalue": "invalid syntax. Maybe you meant '==' or ':=' instead of '='? (1070184299.py, line 2)",
     "output_type": "error",
     "traceback": [
      "\u001b[1;36m  Cell \u001b[1;32mIn[1], line 2\u001b[1;36m\u001b[0m\n\u001b[1;33m    if x = 5:\u001b[0m\n\u001b[1;37m       ^\u001b[0m\n\u001b[1;31mSyntaxError\u001b[0m\u001b[1;31m:\u001b[0m invalid syntax. Maybe you meant '==' or ':=' instead of '='?\n"
     ]
    }
   ],
   "source": [
    "# Example of a syntax error\n",
    "if x = 5:\n",
    "    print(\"x is 5\")"
   ]
  },
  {
   "cell_type": "code",
   "execution_count": 11,
   "metadata": {},
   "outputs": [
    {
     "ename": "IndexError",
     "evalue": "list index out of range",
     "output_type": "error",
     "traceback": [
      "\u001b[1;31m---------------------------------------------------------------------------\u001b[0m",
      "\u001b[1;31mIndexError\u001b[0m                                Traceback (most recent call last)",
      "Cell \u001b[1;32mIn[11], line 3\u001b[0m\n\u001b[0;32m      1\u001b[0m \u001b[38;5;66;03m# Example of a runtime error\u001b[39;00m\n\u001b[0;32m      2\u001b[0m num_list \u001b[38;5;241m=\u001b[39m [\u001b[38;5;241m1\u001b[39m, \u001b[38;5;241m2\u001b[39m, \u001b[38;5;241m3\u001b[39m]\n\u001b[1;32m----> 3\u001b[0m result \u001b[38;5;241m=\u001b[39m \u001b[43mnum_list\u001b[49m\u001b[43m[\u001b[49m\u001b[38;5;241;43m5\u001b[39;49m\u001b[43m]\u001b[49m  \u001b[38;5;66;03m# IndexError: list index out of range\u001b[39;00m\n",
      "\u001b[1;31mIndexError\u001b[0m: list index out of range"
     ]
    }
   ],
   "source": [
    "# Example of a runtime error\n",
    "num_list = [1, 2, 3]\n",
    "result = num_list[5]"
   ]
  },
  {
   "cell_type": "code",
   "execution_count": 1,
   "metadata": {},
   "outputs": [
    {
     "name": "stdout",
     "output_type": "stream",
     "text": [
      "0.3333333333333333\n"
     ]
    }
   ],
   "source": [
    "# Example of a logical error\n",
    "def calculate_average(numbers):\n",
    "    total = sum(numbers)\n",
    "    count = len(numbers)\n",
    "    average = count/total  # Logical error: should be total / count\n",
    "    return average\n",
    "\n",
    "num_list = [1, 2, 3, 4, 5]\n",
    "print(calculate_average(num_list))\n"
   ]
  },
  {
   "cell_type": "code",
   "execution_count": 3,
   "metadata": {},
   "outputs": [
    {
     "name": "stdout",
     "output_type": "stream",
     "text": [
      "Cannot divide by zero.\n"
     ]
    }
   ],
   "source": [
    "try:\n",
    "    a = int(input(\"Enter value for a:\"))\n",
    "    b = int(input(\"Enter value for b:\"))\n",
    "    c = a / b\n",
    "    print(\"The result of a divided by b:\", c)\n",
    "except ValueError:\n",
    "    print(\"Entered value is not a valid integer.\")\n",
    "except ZeroDivisionError:\n",
    "    print(\"Cannot divide by zero.\")"
   ]
  },
  {
   "cell_type": "code",
   "execution_count": 3,
   "metadata": {},
   "outputs": [
    {
     "name": "stdout",
     "output_type": "stream",
     "text": [
      "-5.0\n",
      "a/b result in 0\n"
     ]
    }
   ],
   "source": [
    "def AbyB(a , b):\n",
    "\ttry:\n",
    "\t\tc = ((a+b) / (a-b))\n",
    "\texcept ZeroDivisionError:\n",
    "\t\tprint (\"a/b result in 0\")\n",
    "\telse:\n",
    "\t\tprint (c)\n",
    "AbyB(2.0, 3.0)\n",
    "AbyB(3.0, 3.0)"
   ]
  },
  {
   "cell_type": "markdown",
   "metadata": {},
   "source": [
    "### Finally Keyword in Python\n",
    "which is always executed after the try and except blocks. The final block always executes after the normal termination of the try block or after the try block terminates due to some exception."
   ]
  },
  {
   "cell_type": "code",
   "execution_count": 4,
   "metadata": {},
   "outputs": [
    {
     "name": "stdout",
     "output_type": "stream",
     "text": [
      "Can't divide by zero\n",
      "This is always executed\n"
     ]
    }
   ],
   "source": [
    "try:\n",
    "\tk = 5//0\n",
    "\tprint(k)\n",
    "\n",
    "except ZeroDivisionError:\n",
    "\tprint(\"Can't divide by zero\")\n",
    "\n",
    "finally:\n",
    "\tprint('This is always executed')"
   ]
  },
  {
   "cell_type": "markdown",
   "metadata": {},
   "source": [
    "### Raising Exception"
   ]
  },
  {
   "cell_type": "code",
   "execution_count": 5,
   "metadata": {},
   "outputs": [
    {
     "ename": "Exception",
     "evalue": "Sorry, no numbers below zero",
     "output_type": "error",
     "traceback": [
      "\u001b[1;31m---------------------------------------------------------------------------\u001b[0m",
      "\u001b[1;31mException\u001b[0m                                 Traceback (most recent call last)",
      "Cell \u001b[1;32mIn[5], line 4\u001b[0m\n\u001b[0;32m      1\u001b[0m x \u001b[38;5;241m=\u001b[39m \u001b[38;5;241m-\u001b[39m\u001b[38;5;241m1\u001b[39m\n\u001b[0;32m      3\u001b[0m \u001b[38;5;28;01mif\u001b[39;00m x \u001b[38;5;241m<\u001b[39m \u001b[38;5;241m0\u001b[39m:\n\u001b[1;32m----> 4\u001b[0m   \u001b[38;5;28;01mraise\u001b[39;00m \u001b[38;5;167;01mException\u001b[39;00m(\u001b[38;5;124m\"\u001b[39m\u001b[38;5;124mSorry, no numbers below zero\u001b[39m\u001b[38;5;124m\"\u001b[39m)\n",
      "\u001b[1;31mException\u001b[0m: Sorry, no numbers below zero"
     ]
    }
   ],
   "source": [
    "x = -1\n",
    "\n",
    "if x < 0:\n",
    "  raise Exception(\"Sorry, no numbers below zero\")"
   ]
  },
  {
   "cell_type": "code",
   "execution_count": 6,
   "metadata": {},
   "outputs": [
    {
     "ename": "TypeError",
     "evalue": "Only integers are allowed",
     "output_type": "error",
     "traceback": [
      "\u001b[1;31m---------------------------------------------------------------------------\u001b[0m",
      "\u001b[1;31mTypeError\u001b[0m                                 Traceback (most recent call last)",
      "Cell \u001b[1;32mIn[6], line 4\u001b[0m\n\u001b[0;32m      1\u001b[0m x \u001b[38;5;241m=\u001b[39m \u001b[38;5;124m\"\u001b[39m\u001b[38;5;124mhello\u001b[39m\u001b[38;5;124m\"\u001b[39m\n\u001b[0;32m      3\u001b[0m \u001b[38;5;28;01mif\u001b[39;00m \u001b[38;5;129;01mnot\u001b[39;00m \u001b[38;5;28mtype\u001b[39m(x) \u001b[38;5;129;01mis\u001b[39;00m \u001b[38;5;28mint\u001b[39m:\n\u001b[1;32m----> 4\u001b[0m   \u001b[38;5;28;01mraise\u001b[39;00m \u001b[38;5;167;01mTypeError\u001b[39;00m(\u001b[38;5;124m\"\u001b[39m\u001b[38;5;124mOnly integers are allowed\u001b[39m\u001b[38;5;124m\"\u001b[39m)\n",
      "\u001b[1;31mTypeError\u001b[0m: Only integers are allowed"
     ]
    }
   ],
   "source": [
    "x = \"hello\"\n",
    "\n",
    "if not type(x) is int:\n",
    "  raise TypeError(\"Only integers are allowed\")"
   ]
  },
  {
   "cell_type": "code",
   "execution_count": 4,
   "metadata": {},
   "outputs": [
    {
     "name": "stdout",
     "output_type": "stream",
     "text": [
      "An exception\n"
     ]
    },
    {
     "ename": "NameError",
     "evalue": "Hi there",
     "output_type": "error",
     "traceback": [
      "\u001b[1;31m---------------------------------------------------------------------------\u001b[0m",
      "\u001b[1;31mNameError\u001b[0m                                 Traceback (most recent call last)",
      "Cell \u001b[1;32mIn[4], line 3\u001b[0m\n\u001b[0;32m      1\u001b[0m \u001b[38;5;66;03m# The raise statement allows the programmer to force a specific exception to occur\u001b[39;00m\n\u001b[0;32m      2\u001b[0m \u001b[38;5;28;01mtry\u001b[39;00m: \n\u001b[1;32m----> 3\u001b[0m \t\u001b[38;5;28;01mraise\u001b[39;00m \u001b[38;5;167;01mNameError\u001b[39;00m(\u001b[38;5;124m\"\u001b[39m\u001b[38;5;124mHi there\u001b[39m\u001b[38;5;124m\"\u001b[39m)\n\u001b[0;32m      4\u001b[0m \u001b[38;5;28;01mexcept\u001b[39;00m \u001b[38;5;167;01mNameError\u001b[39;00m:\n\u001b[0;32m      5\u001b[0m \t\u001b[38;5;28mprint\u001b[39m (\u001b[38;5;124m\"\u001b[39m\u001b[38;5;124mAn exception\u001b[39m\u001b[38;5;124m\"\u001b[39m)\n",
      "\u001b[1;31mNameError\u001b[0m: Hi there"
     ]
    }
   ],
   "source": [
    "# The raise statement allows the programmer to force a specific exception to occur\n",
    "try: \n",
    "\traise NameError(\"Hi there\")\n",
    "except NameError:\n",
    "\tprint (\"An exception\")\n",
    "\traise"
   ]
  },
  {
   "cell_type": "markdown",
   "metadata": {},
   "source": [
    "D:\\\\Python\\\\7.Numpy\n",
    "\n",
    "D:\\Python\\11.File_Handling\\file.txt"
   ]
  },
  {
   "cell_type": "code",
   "execution_count": 2,
   "metadata": {},
   "outputs": [
    {
     "name": "stdout",
     "output_type": "stream",
     "text": [
      "File content:\n",
      " example.\n"
     ]
    }
   ],
   "source": [
    "try:\n",
    "    file_path = input(\"Enter the file path: \")\n",
    "    with open(file_path, 'r') as file:\n",
    "        content = file.read()\n",
    "    print(\"File content:\\n\", content)\n",
    "except FileNotFoundError:\n",
    "    print(\"File not found. Please check the file path.\")\n",
    "except Exception as e:\n",
    "    print(f\"An error occurred: {e}\")\n"
   ]
  },
  {
   "cell_type": "code",
   "execution_count": 6,
   "metadata": {},
   "outputs": [
    {
     "name": "stdout",
     "output_type": "stream",
     "text": [
      "Index out of range. Please enter a valid index.\n"
     ]
    }
   ],
   "source": [
    "try:\n",
    "    numbers = [1, 2, 3]\n",
    "    index = int(input(\"Enter an index: \"))\n",
    "    result = numbers[index]\n",
    "    print(\"Value at index {}: {}\".format(index, result))\n",
    "except IndexError:\n",
    "    print(\"Index out of range. Please enter a valid index.\")\n",
    "except ValueError:\n",
    "    print(\"Invalid index input. Please enter a valid integer.\")\n",
    "except Exception as e:\n",
    "    print(f\"An error occurred: {e}\")\n"
   ]
  },
  {
   "cell_type": "code",
   "execution_count": 2,
   "metadata": {},
   "outputs": [
    {
     "name": "stdout",
     "output_type": "stream",
     "text": [
      "Cannot divide by zero.\n",
      "Finally block: This code always runs.\n"
     ]
    }
   ],
   "source": [
    "try:\n",
    "    # Code that might raise an exception\n",
    "    x = int(input(\"Enter a number: \"))\n",
    "    result = 10 / x\n",
    "\n",
    "except ValueError:\n",
    "    # Handle a specific type of exception (ValueError in this case)\n",
    "    print(\"Invalid input. Please enter a valid number.\")\n",
    "\n",
    "except ZeroDivisionError:\n",
    "    # Handle another specific type of exception (ZeroDivisionError)\n",
    "    print(\"Cannot divide by zero.\")\n",
    "\n",
    "else:\n",
    "    # This block is executed if no exceptions are raised\n",
    "    print(\"Division result:\", result)\n",
    "\n",
    "finally:\n",
    "    # This block is always executed\n",
    "    print(\"Finally block: This code always runs.\")"
   ]
  }
 ],
 "metadata": {
  "kernelspec": {
   "display_name": "Python 3",
   "language": "python",
   "name": "python3"
  },
  "language_info": {
   "codemirror_mode": {
    "name": "ipython",
    "version": 3
   },
   "file_extension": ".py",
   "mimetype": "text/x-python",
   "name": "python",
   "nbconvert_exporter": "python",
   "pygments_lexer": "ipython3",
   "version": "3.12.2"
  }
 },
 "nbformat": 4,
 "nbformat_minor": 2
}
