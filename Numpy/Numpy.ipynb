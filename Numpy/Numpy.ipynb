{
 "cells": [
  {
   "cell_type": "markdown",
   "metadata": {},
   "source": [
    "### **Introduction to NumPy:**\n",
    "\n",
    "NumPy is a powerful library that provides support for arrays, matrices, and mathematical functions, making it a core tool in scientific computing and data analysis. \n",
    "\n",
    "Here's an outline of what is contained in NumPy class:\n",
    "\n",
    "NumPy is a fundamental library in Python for numerical computations and data manipulation. It provides support for arrays and matrices, along with a wide range of mathematical functions to operate on these arrays efficiently. This makes it an essential tool for scientific computing and data analysis tasks."
   ]
  },
  {
   "cell_type": "markdown",
   "metadata": {},
   "source": [
    "### **NumPy arrays and Python lists are both used to store collections of data, but they have several key differences in terms of performance, functionality, and memory management. Here's a breakdown of the technical differences between the two:**\n",
    "\n",
    "Homogeneity:\n",
    "\n",
    "\n",
    "NumPy arrays are homogeneous, meaning all elements in the array must be of the same data type (integers, floats, etc.).\n",
    "\n",
    "Python List: Python lists can store elements of different data types in the same list.\n",
    "\n",
    "Performance:\n",
    "\n",
    "#### ---------------------\n",
    "\n",
    "NumPy arrays are optimized for numerical operations. They are more memory-efficient and faster for large-scale numerical computations due to their efficient memory layout and use of low-level operations.\n",
    "\n",
    "Python List: Python lists are not as optimized for numerical computations and can be slower for large datasets or mathematical operations.\n",
    "\n",
    "Memory Efficiency:\n",
    "\n",
    "#### ---------------------\n",
    "\n",
    "NumPy Array: NumPy arrays use a contiguous block of memory, which reduces memory overhead and allows for better cache utilization. This results in better memory efficiency compared to Python lists.\n",
    "\n",
    "Python List: Python lists are less memory-efficient since they store additional information for each element, including the type and reference count.\n",
    "\n",
    "Functionality:\n",
    "\n",
    "#### ----------------------\n",
    "\n",
    "NumPy Array: NumPy arrays offer a wide range of mathematical and array-specific functions for efficient element-wise operations, broadcasting, and advanced array manipulation.\n",
    "\n",
    "Python List: Python lists offer basic operations like appending, extending, and indexing, but lack the advanced array-specific functionality of NumPy arrays.\n",
    "\n",
    "Vectorized Operations:\n",
    "\n",
    "\n",
    "#### -----------------------\n",
    "\n",
    "NumPy Array: NumPy arrays allow for vectorized operations, where operations are applied element-wise without explicit loops. This leads to cleaner and more concise code.\n",
    "\n",
    "Python List: Python lists require explicit loops to perform element-wise operations, which can be slower and less readable.\n",
    "\n",
    "#### -----------------------\n",
    "\n",
    "\n",
    "Size and Shape:\n",
    "\n",
    "NumPy Array: NumPy arrays have a fixed size and shape upon creation. Changing the shape requires creating a new array or using specialized functions.\n",
    "\n",
    "Python List: Python lists can dynamically change in size by appending or removing elements.\n",
    "\n",
    "Supported Functions:\n",
    "\n",
    "#### -----------------------\n",
    "\n",
    "\n",
    "NumPy Array: NumPy arrays support a wide range of mathematical and statistical functions, linear algebra operations, and more, making it suitable for scientific computing and data analysis.\n",
    "\n",
    "Python List: Python lists lack built-in support for many of the advanced numerical and array operations provided by NumPy.\n",
    "\n",
    "#### ----------------------\n",
    "\n",
    "#### In summary, NumPy arrays are designed specifically for numerical and scientific computing tasks, offering better performance, memory efficiency, and a comprehensive set of functions for working with arrays. Python lists are more general-purpose and flexible but lack the specialized features and optimizations of NumPy arrays when it comes to numerical operations."
   ]
  },
  {
   "cell_type": "markdown",
   "metadata": {},
   "source": [
    "### **Diffrence between Numpy and List in code**"
   ]
  },
  {
   "cell_type": "code",
   "execution_count": 274,
   "metadata": {},
   "outputs": [
    {
     "name": "stdout",
     "output_type": "stream",
     "text": [
      "Python List with 2 added: [3, 5, 7, 9, 11]\n",
      "NumPy Array with 2 added: [ 3  5  7  9 11]\n"
     ]
    }
   ],
   "source": [
    "# Adding 2 to a Python list\n",
    "python_list = [1, 3, 5, 7, 9]\n",
    "python_list_with_2 = [x + 2 for x in python_list]\n",
    "print(\"Python List with 2 added:\", python_list_with_2)\n",
    "\n",
    "# Adding 2 to a NumPy array\n",
    "import numpy as np\n",
    "\n",
    "numpy_array = np.array([1, 3, 5, 7, 9])\n",
    "numpy_array_with_2 = numpy_array + 2\n",
    "print(\"NumPy Array with 2 added:\", numpy_array_with_2)\n"
   ]
  },
  {
   "cell_type": "code",
   "execution_count": 275,
   "metadata": {},
   "outputs": [
    {
     "name": "stdout",
     "output_type": "stream",
     "text": [
      "Python List with 2 added: [3, 5, 7, 9, 11]\n"
     ]
    }
   ],
   "source": [
    "for x in python_list:\n",
    "    x + 2\n",
    "print(\"Python List with 2 added:\", python_list_with_2)\n",
    "     "
   ]
  },
  {
   "cell_type": "code",
   "execution_count": 276,
   "metadata": {},
   "outputs": [
    {
     "data": {
      "text/plain": [
       "[3, 5, 7, 9, 11]"
      ]
     },
     "execution_count": 276,
     "metadata": {},
     "output_type": "execute_result"
    }
   ],
   "source": [
    "aa = list(map(lambda x:x+2,python_list))\n",
    "aa"
   ]
  },
  {
   "cell_type": "markdown",
   "metadata": {},
   "source": [
    "**Perfomence**"
   ]
  },
  {
   "cell_type": "code",
   "execution_count": 277,
   "metadata": {},
   "outputs": [
    {
     "name": "stdout",
     "output_type": "stream",
     "text": [
      "Time taken for Python list addition: 0.1252140998840332 seconds\n",
      "Time taken for NumPy array addition: 0.0029909610748291016 seconds\n"
     ]
    }
   ],
   "source": [
    "import time\n",
    "# Create large arrays\n",
    "python_list = list(range(10**6))\n",
    "numpy_array = np.array(range(10**6))\n",
    "\n",
    "# Measure the time taken for element-wise addition using Python list\n",
    "start_time = time.time()\n",
    "python_list_sum = [x + 2 for x in python_list]\n",
    "end_time = time.time()\n",
    "print(f\"Time taken for Python list addition: {end_time - start_time} seconds\")\n",
    "\n",
    "# Measure the time taken for element-wise addition using NumPy array\n",
    "start_time = time.time()\n",
    "numpy_array_sum = numpy_array + 2\n",
    "end_time = time.time()\n",
    "print(f\"Time taken for NumPy array addition: {end_time - start_time} seconds\")"
   ]
  },
  {
   "cell_type": "markdown",
   "metadata": {},
   "source": [
    "**Memory**"
   ]
  },
  {
   "cell_type": "code",
   "execution_count": 278,
   "metadata": {},
   "outputs": [
    {
     "name": "stdout",
     "output_type": "stream",
     "text": [
      "Size of Python list: 8000056 bytes\n",
      "Size of NumPy array: 4000000 bytes\n"
     ]
    }
   ],
   "source": [
    "import sys\n",
    "\n",
    "# Create a Python list and a NumPy array with the same data\n",
    "python_list = list(range(10**6))\n",
    "numpy_array = np.array(range(10**6))\n",
    "\n",
    "# Check the size of each object in bytes\n",
    "size_python_list = sys.getsizeof(python_list)\n",
    "size_numpy_array = numpy_array.nbytes\n",
    "\n",
    "print(f\"Size of Python list: {size_python_list} bytes\")\n",
    "print(f\"Size of NumPy array: {size_numpy_array} bytes\")\n"
   ]
  },
  {
   "cell_type": "markdown",
   "metadata": {},
   "source": [
    "### **Installing and Importing NumPy:**"
   ]
  },
  {
   "cell_type": "code",
   "execution_count": 279,
   "metadata": {},
   "outputs": [],
   "source": [
    "# pip install numpy"
   ]
  },
  {
   "cell_type": "code",
   "execution_count": 424,
   "metadata": {},
   "outputs": [],
   "source": [
    "#To import NumPy in your Python script or notebook:\n",
    "import numpy as np"
   ]
  },
  {
   "cell_type": "markdown",
   "metadata": {},
   "source": [
    "<h3><b>NumPy arange vs linspace</b></h3>\n",
    "\n",
    "<table>\n",
    "    <tr>\n",
    "      <th>Feature</th>\n",
    "      <th><code>np.arange</code></th>\n",
    "      <th><code>np.linspace</code></th>\n",
    "    </tr>\n",
    "    <tr>\n",
    "      <td>Syntax</td>\n",
    "      <td><code>numpy.arange([start, ]stop, [step, ]dtype=None)</code></td>\n",
    "      <td><code>numpy.linspace(start, stop, num=50, endpoint=True, retstep=False, dtype=None)</code></td>\n",
    "    </tr>\n",
    "    <tr>\n",
    "      <td>Start Value</td>\n",
    "      <td>Specifies the starting value of the sequence.</td>\n",
    "      <td>Specifies the starting value of the sequence.</td>\n",
    "    </tr>\n",
    "    <tr>\n",
    "      <td>Stop Value</td>\n",
    "      <td>Specifies the end value, and the sequence will stop before reaching it.</td>\n",
    "      <td>Specifies the end value, and the sequence may include it depending on <code>endpoint</code>.</td>\n",
    "    </tr>\n",
    "    <tr>\n",
    "      <td>Spacing</td>\n",
    "      <td>Specifies the spacing between values.</td>\n",
    "      <td>Specifies the number of evenly spaced samples to generate.</td>\n",
    "    </tr>\n",
    "    <tr>\n",
    "      <td>Endpoint</td>\n",
    "      <td>By default, the <code>stop</code> value is not included in the array.</td>\n",
    "      <td>Determines whether the <code>stop</code> value is included in the array.</td>\n",
    "    </tr>\n",
    "    <tr>\n",
    "      <td>Number of Samples (<code>num</code>)</td>\n",
    "      <td>Not applicable.</td>\n",
    "      <td>Specifies the number of evenly spaced samples to generate.</td>\n",
    "    </tr>\n",
    "    <tr>\n",
    "      <td>Return Step Size (<code>retstep</code>)</td>\n",
    "      <td>Not applicable.</td>\n",
    "      <td>If <code>True</code>, returns the step size between values.</td>\n",
    "    </tr>\n",
    "    <tr>\n",
    "      <td>Data Type (<code>dtype</code>)</td>\n",
    "      <td>Sets the data type of the output array.</td>\n",
    "      <td>Sets the data type of the output array.</td>\n",
    "    </tr>\n",
    "  </table>"
   ]
  },
  {
   "cell_type": "code",
   "execution_count": 281,
   "metadata": {},
   "outputs": [
    {
     "data": {
      "text/plain": [
       "array([0, 2, 4, 6, 8])"
      ]
     },
     "execution_count": 281,
     "metadata": {},
     "output_type": "execute_result"
    }
   ],
   "source": [
    "arr1 = np.arange(0, 10, 2) \n",
    "arr1"
   ]
  },
  {
   "cell_type": "code",
   "execution_count": 428,
   "metadata": {},
   "outputs": [
    {
     "data": {
      "text/plain": [
       "array([ 0.,  2.,  4.,  6.,  8., 10.])"
      ]
     },
     "execution_count": 428,
     "metadata": {},
     "output_type": "execute_result"
    }
   ],
   "source": [
    "arr2 = np.linspace(0, 10, num=6)  # Creates array: [ 0.,  2.5,  5.,  7.5, 10.]\n",
    "arr2"
   ]
  },
  {
   "cell_type": "code",
   "execution_count": 434,
   "metadata": {},
   "outputs": [
    {
     "data": {
      "text/plain": [
       "array([ 0,  2,  4,  6,  8, 10, 12, 14, 16, 18])"
      ]
     },
     "execution_count": 434,
     "metadata": {},
     "output_type": "execute_result"
    }
   ],
   "source": [
    "t = np.linspace(0,20, 10, endpoint=False, dtype='int')\n",
    "t"
   ]
  },
  {
   "cell_type": "markdown",
   "metadata": {},
   "source": [
    "### **Types of the Numpy Array**"
   ]
  },
  {
   "cell_type": "markdown",
   "metadata": {},
   "source": [
    "#### **Numpy 1D Array**\n",
    "##### **NumPy – Create 1D Array**\n",
    "\n",
    "- One dimensional array contains elements only in one dimension. In other words, the shape of the numpy array should contain only one value in the tuple.\n",
    "- To create a one dimensional array in numpy, you can use either of the numpy.array(), numpy.arange(), or numpy.linspace() functions based on the choice of initialisation.\n",
    "\n",
    "**Create 1D NumPy Array using array() function**\n",
    "\n",
    "- Numpy array() functions takes a list of elements as argument and returns a one-dimensional array.\n",
    "- In this example, we will import numpy library and use array() function to crate a one dimensional numpy array."
   ]
  },
  {
   "cell_type": "code",
   "execution_count": 283,
   "metadata": {},
   "outputs": [
    {
     "name": "stdout",
     "output_type": "stream",
     "text": [
      "[ 5  8 12]\n"
     ]
    }
   ],
   "source": [
    "arr3 = np.array([5, 8, 12])\n",
    "\n",
    "print(arr3)"
   ]
  },
  {
   "cell_type": "markdown",
   "metadata": {},
   "source": [
    "**Create 1D NumPy Array using arange() function**\n",
    "\n",
    "- NumPy arange() function takes start, end of a range and the interval as arguments and returns a one-dimensional array.\n",
    "- `[start, start+interval, start+2*interval, ... ]`\n",
    "- In this example, we will import numpy library and use arange() function to crate a one dimensional numpy array."
   ]
  },
  {
   "cell_type": "code",
   "execution_count": 435,
   "metadata": {},
   "outputs": [
    {
     "name": "stdout",
     "output_type": "stream",
     "text": [
      "[ 5  7  9 11 13]\n"
     ]
    }
   ],
   "source": [
    "arr4 = np.arange(5, 14, 2)\n",
    "\n",
    "print(arr4)"
   ]
  },
  {
   "cell_type": "markdown",
   "metadata": {},
   "source": [
    "##### **NumPy 2D Array**\n",
    "\n",
    "To create a 2D (2 dimensional) array in Python using NumPy library, we can use any of the following methods.\n",
    "\n",
    "- `numpy.array()` – Creates array from given values.\n",
    "- `numpy.zeros()` – Creates array of zeros.\n",
    "- `numpy.ones()` – Creates array of ones.\n",
    "- `numpy.empty()` – Creates an empty array.\n",
    "\n",
    "**Create 2D Array using `numpy.array()`**"
   ]
  },
  {
   "cell_type": "code",
   "execution_count": 437,
   "metadata": {},
   "outputs": [
    {
     "name": "stdout",
     "output_type": "stream",
     "text": [
      "[[ 1  2  3  4]\n",
      " [ 5  6  7  8]\n",
      " [ 9 10 11 12]]\n"
     ]
    }
   ],
   "source": [
    "# create a 2D array with shape (3, 4)\n",
    "arr5 = np.array([[1, 2, 3, 4], [5, 6, 7, 8], [9, 10, 11, 12]])\n",
    "\n",
    "print(arr5)"
   ]
  },
  {
   "cell_type": "markdown",
   "metadata": {},
   "source": [
    "**Create 2D Array using numpy.zeros()**\n",
    "\n",
    "- Pass shape of the required 2D array, as a tuple, as argument to `numpy.zeros()` function. The function returns a numpy array with specified shape, and all elements in the array initialised to zeros."
   ]
  },
  {
   "cell_type": "code",
   "execution_count": 441,
   "metadata": {},
   "outputs": [
    {
     "name": "stdout",
     "output_type": "stream",
     "text": [
      "[[0 0 0 0]\n",
      " [0 0 0 0]\n",
      " [0 0 0 0]]\n"
     ]
    }
   ],
   "source": [
    "# create a 2D array with shape (3, 4)\n",
    "arr6 = np.zeros((3,4), dtype=int)\n",
    "\n",
    "print(arr6)"
   ]
  },
  {
   "cell_type": "code",
   "execution_count": 442,
   "metadata": {},
   "outputs": [
    {
     "name": "stdout",
     "output_type": "stream",
     "text": [
      "[[1 1 1 1]\n",
      " [1 1 1 1]\n",
      " [1 1 1 1]]\n"
     ]
    }
   ],
   "source": [
    "# create a 2D array with shape (3, 4)\n",
    "shape = (3, 4)\n",
    "\n",
    "arr7 = np.ones(shape, dtype='int')\n",
    "\n",
    "print(arr7)"
   ]
  },
  {
   "cell_type": "code",
   "execution_count": 444,
   "metadata": {},
   "outputs": [
    {
     "name": "stdout",
     "output_type": "stream",
     "text": [
      "[[4128860 6029375 3801188 5242972]\n",
      " [7602297 7274600 6029422 7667790]\n",
      " [7340141 6029433 3014698      42]]\n"
     ]
    }
   ],
   "source": [
    "# create a 2D array with shape (3, 4)\n",
    "arr8 = np.empty((3,4), dtype=int)\n",
    "\n",
    "print(arr8)"
   ]
  },
  {
   "cell_type": "markdown",
   "metadata": {},
   "source": [
    "#### **Numpy 3D Array**\n",
    "\n",
    "To create a 3D (3 dimensional) array in Python using NumPy library, we can use any of the following methods.\n",
    "\n",
    "- `numpy.array()` – Creates array from given values.\n",
    "- `numpy.zeros()` – Creates array of zeros.\n",
    "- `numpy.ones()` – Creates array of ones.\n",
    "- `numpy.empty()` – Creates an empty array.\n",
    "\n",
    "**Create 3D Array using `numpy.array()`**\n",
    "\n",
    "- Pass a nested list (list of lists of lists) to numpy.array() function.\n",
    "- In the following program, we create a numpy 3D array of shape (2, 3, 4)."
   ]
  },
  {
   "cell_type": "code",
   "execution_count": 289,
   "metadata": {},
   "outputs": [
    {
     "name": "stdout",
     "output_type": "stream",
     "text": [
      "[[[ 1  2  3  4]\n",
      "  [ 5  6  7  8]\n",
      "  [ 9 10 11 12]]\n",
      "\n",
      " [[13 14 15 16]\n",
      "  [17 18 19 20]\n",
      "  [21 22 23 24]]]\n"
     ]
    }
   ],
   "source": [
    "# create a 3D array with shape (2, 3, 4)\n",
    "nested_list = [[[1, 2, 3, 4], [5, 6, 7, 8], [9, 10, 11, 12]],\n",
    "\n",
    "[[13, 14, 15, 16], [17, 18, 19, 20], [21, 22, 23, 24]]]\n",
    "\n",
    "arr9 = np.array(nested_list)\n",
    "\n",
    "print(arr9)"
   ]
  },
  {
   "cell_type": "code",
   "execution_count": 446,
   "metadata": {},
   "outputs": [
    {
     "name": "stdout",
     "output_type": "stream",
     "text": [
      "[[[0. 0. 0. 0.]\n",
      "  [0. 0. 0. 0.]\n",
      "  [0. 0. 0. 0.]]\n",
      "\n",
      " [[0. 0. 0. 0.]\n",
      "  [0. 0. 0. 0.]\n",
      "  [0. 0. 0. 0.]]]\n"
     ]
    }
   ],
   "source": [
    "# create a 3D array with shape (2, 3, 4)\n",
    "shape = (2, 3, 4)\n",
    "\n",
    "arr11 = np.zeros(shape)\n",
    "\n",
    "print(arr11)"
   ]
  },
  {
   "cell_type": "code",
   "execution_count": 447,
   "metadata": {},
   "outputs": [
    {
     "name": "stdout",
     "output_type": "stream",
     "text": [
      "[[[1. 1. 1. 1.]\n",
      "  [1. 1. 1. 1.]]\n",
      "\n",
      " [[1. 1. 1. 1.]\n",
      "  [1. 1. 1. 1.]]]\n"
     ]
    }
   ],
   "source": [
    "# create a 3D array with shape (2, 3, 4)\n",
    "shape = (2, 2, 4)\n",
    "\n",
    "arr12 = np.ones(shape)\n",
    "\n",
    "print(arr12)"
   ]
  },
  {
   "cell_type": "code",
   "execution_count": 448,
   "metadata": {},
   "outputs": [
    {
     "name": "stdout",
     "output_type": "stream",
     "text": [
      "[[[1. 1. 1. 1.]\n",
      "  [1. 1. 1. 1.]\n",
      "  [1. 1. 1. 1.]]\n",
      "\n",
      " [[1. 1. 1. 1.]\n",
      "  [1. 1. 1. 1.]\n",
      "  [1. 1. 1. 1.]]]\n"
     ]
    }
   ],
   "source": [
    "# create a 3D array with shape (2, 3, 4)\n",
    "shape = (2, 3, 4)\n",
    "\n",
    "arr13 = np.empty(shape)\n",
    "\n",
    "print(arr13)"
   ]
  },
  {
   "cell_type": "markdown",
   "metadata": {},
   "source": [
    "### **numpy.random module:**\n",
    "- This module provides a suite of functions for generating random numbers.\n",
    "\n",
    "#### **numpy.random.rand:**\n",
    "- This function generates random numbers from a uniform distribution over [0, 1]. It takes dimensions as input and returns an array of the specified shape."
   ]
  },
  {
   "cell_type": "code",
   "execution_count": 452,
   "metadata": {},
   "outputs": [
    {
     "data": {
      "text/plain": [
       "array([[0.94900916, 0.04680499, 0.40142478],\n",
       "       [0.72932712, 0.29910345, 0.3284952 ]])"
      ]
     },
     "execution_count": 452,
     "metadata": {},
     "output_type": "execute_result"
    }
   ],
   "source": [
    "random_numbers = np.random.rand(2,3)  # Generates a 2x3 array of random numbers between 0 and 1\n",
    "random_numbers"
   ]
  },
  {
   "cell_type": "markdown",
   "metadata": {},
   "source": [
    "#### **numpy.random.randn:**\n",
    "- This function generates random numbers from a standard normal distribution `(mean=0, standard deviation=1)`. It also takes dimensions as input and returns an array of the specified shape."
   ]
  },
  {
   "cell_type": "code",
   "execution_count": 456,
   "metadata": {},
   "outputs": [
    {
     "data": {
      "text/plain": [
       "array([[-0.94817858, -0.2080559 ,  0.97445802],\n",
       "       [-0.07215506, -1.83770289, -0.63152681]])"
      ]
     },
     "execution_count": 456,
     "metadata": {},
     "output_type": "execute_result"
    }
   ],
   "source": [
    "random_numbers = np.random.randn(2, 3)  # Generates a 2x3 array of random numbers from a standard normal distribution\n",
    "random_numbers"
   ]
  },
  {
   "cell_type": "markdown",
   "metadata": {},
   "source": [
    "#### **numpy.random.randint:**\n",
    "- This function generates random integers from a specified low (inclusive) to high (exclusive) range. It can take additional parameters to specify the size and shape of the output array."
   ]
  },
  {
   "cell_type": "code",
   "execution_count": 462,
   "metadata": {},
   "outputs": [
    {
     "data": {
      "text/plain": [
       "array([[-6,  3,  2],\n",
       "       [ 7,  9,  9]])"
      ]
     },
     "execution_count": 462,
     "metadata": {},
     "output_type": "execute_result"
    }
   ],
   "source": [
    "random_integers = np.random.randint(-10, 10, size=(2, 3))  # Generates a 2x3 array of random integers between 1 (inclusive) and 10 (exclusive)\n",
    "random_integers"
   ]
  },
  {
   "cell_type": "markdown",
   "metadata": {},
   "source": [
    "### **Creating Numpy array**"
   ]
  },
  {
   "cell_type": "code",
   "execution_count": 297,
   "metadata": {},
   "outputs": [
    {
     "data": {
      "text/plain": [
       "array([  2,   4,  56, 422,  32,   1])"
      ]
     },
     "execution_count": 297,
     "metadata": {},
     "output_type": "execute_result"
    }
   ],
   "source": [
    "ac = np.array([2,4,56,422,32,1])\n",
    "ac"
   ]
  },
  {
   "cell_type": "code",
   "execution_count": 298,
   "metadata": {},
   "outputs": [
    {
     "data": {
      "text/plain": [
       "numpy.ndarray"
      ]
     },
     "execution_count": 298,
     "metadata": {},
     "output_type": "execute_result"
    }
   ],
   "source": [
    "#to find the type\n",
    "type(ac)"
   ]
  },
  {
   "cell_type": "code",
   "execution_count": 299,
   "metadata": {},
   "outputs": [
    {
     "data": {
      "text/plain": [
       "array([2., 3., 4., 5., 6., 7., 8., 9.])"
      ]
     },
     "execution_count": 299,
     "metadata": {},
     "output_type": "execute_result"
    }
   ],
   "source": [
    "np.arange(2, 10, dtype=float)"
   ]
  },
  {
   "cell_type": "code",
   "execution_count": 463,
   "metadata": {},
   "outputs": [
    {
     "data": {
      "text/plain": [
       "array([[1., 0.],\n",
       "       [0., 1.]])"
      ]
     },
     "execution_count": 463,
     "metadata": {},
     "output_type": "execute_result"
    }
   ],
   "source": [
    "i = np.identity(2) #indentity matrix is that diagonal items will be ones and evrything will be zeros\n",
    "i"
   ]
  },
  {
   "cell_type": "code",
   "execution_count": 301,
   "metadata": {},
   "outputs": [
    {
     "data": {
      "text/plain": [
       "array([1, 2, 3])"
      ]
     },
     "execution_count": 301,
     "metadata": {},
     "output_type": "execute_result"
    }
   ],
   "source": [
    "x = np.array([1,2,3])\n",
    "y = x \n",
    "z = np.copy(x)\n",
    "z\n"
   ]
  },
  {
   "cell_type": "code",
   "execution_count": 302,
   "metadata": {},
   "outputs": [
    {
     "data": {
      "text/plain": [
       "array([2.  , 2.25, 2.5 , 2.75, 3.  ])"
      ]
     },
     "execution_count": 302,
     "metadata": {},
     "output_type": "execute_result"
    }
   ],
   "source": [
    "np.linspace(2.0, 3.0 ,num=5)"
   ]
  },
  {
   "cell_type": "code",
   "execution_count": 303,
   "metadata": {},
   "outputs": [
    {
     "data": {
      "text/plain": [
       "array([2. , 2.2, 2.4, 2.6, 2.8])"
      ]
     },
     "execution_count": 303,
     "metadata": {},
     "output_type": "execute_result"
    }
   ],
   "source": [
    "np.linspace(2.0, 3.0, num=5, endpoint=False)"
   ]
  },
  {
   "cell_type": "markdown",
   "metadata": {},
   "source": [
    "#### **Changing the type of the data type**"
   ]
  },
  {
   "cell_type": "code",
   "execution_count": 304,
   "metadata": {},
   "outputs": [
    {
     "data": {
      "text/plain": [
       "array([11., 23., 44.])"
      ]
     },
     "execution_count": 304,
     "metadata": {},
     "output_type": "execute_result"
    }
   ],
   "source": [
    "ad = np.array([11,23,44], dtype = float)\n",
    "ad"
   ]
  },
  {
   "cell_type": "code",
   "execution_count": 305,
   "metadata": {},
   "outputs": [
    {
     "data": {
      "text/plain": [
       "array([ True,  True,  True])"
      ]
     },
     "execution_count": 305,
     "metadata": {},
     "output_type": "execute_result"
    }
   ],
   "source": [
    "ae = np.array([11,23,44], dtype = bool)\n",
    "ae"
   ]
  },
  {
   "cell_type": "code",
   "execution_count": 306,
   "metadata": {},
   "outputs": [
    {
     "data": {
      "text/plain": [
       "array([11.+0.j, 23.+0.j, 44.+0.j])"
      ]
     },
     "execution_count": 306,
     "metadata": {},
     "output_type": "execute_result"
    }
   ],
   "source": [
    "af = np.array([11,23,44], dtype = complex)\n",
    "af"
   ]
  },
  {
   "cell_type": "code",
   "execution_count": 307,
   "metadata": {},
   "outputs": [
    {
     "data": {
      "text/plain": [
       "array([[1, 0, 0],\n",
       "       [0, 1, 0],\n",
       "       [0, 0, 1]])"
      ]
     },
     "execution_count": 307,
     "metadata": {},
     "output_type": "execute_result"
    }
   ],
   "source": [
    "i.astype(int)"
   ]
  },
  {
   "cell_type": "code",
   "execution_count": 308,
   "metadata": {},
   "outputs": [
    {
     "data": {
      "text/plain": [
       "array([127, 128, 129], dtype=int64)"
      ]
     },
     "execution_count": 308,
     "metadata": {},
     "output_type": "execute_result"
    }
   ],
   "source": [
    "# numpy.arange creates arrays with regularly incrementing values. Check the documentation for complete information and examples.\n",
    "np.array([127, 128, 129], dtype=np.int64)"
   ]
  },
  {
   "cell_type": "markdown",
   "metadata": {},
   "source": [
    "#### **Reshape**\n",
    "- Both of number products should be equal to umber of Items present inside the array."
   ]
  },
  {
   "cell_type": "code",
   "execution_count": 309,
   "metadata": {},
   "outputs": [
    {
     "data": {
      "text/plain": [
       "array([[ 1,  2,  3,  4,  5],\n",
       "       [ 6,  7,  8,  9, 10]])"
      ]
     },
     "execution_count": 309,
     "metadata": {},
     "output_type": "execute_result"
    }
   ],
   "source": [
    "re = np.arange(1,11).reshape(5,2)\n",
    "re1 = np.arange(1,11).reshape(2,5)\n",
    "re2 = np.arange(1,13).reshape(3,4)\n",
    "re1"
   ]
  },
  {
   "cell_type": "markdown",
   "metadata": {},
   "source": [
    "#### **Shape**\n",
    "- gives each item consist of no.of rows and np.of column"
   ]
  },
  {
   "cell_type": "code",
   "execution_count": 310,
   "metadata": {},
   "outputs": [
    {
     "data": {
      "text/plain": [
       "(2, 5)"
      ]
     },
     "execution_count": 310,
     "metadata": {},
     "output_type": "execute_result"
    }
   ],
   "source": [
    "re = np.arange(1,11).reshape(5,2)\n",
    "re.shape\n",
    "re1.shape"
   ]
  },
  {
   "cell_type": "code",
   "execution_count": 311,
   "metadata": {},
   "outputs": [
    {
     "data": {
      "text/plain": [
       "(array([[1, 2],\n",
       "        [3, 4],\n",
       "        [5, 6]]),\n",
       " (3, 2))"
      ]
     },
     "execution_count": 311,
     "metadata": {},
     "output_type": "execute_result"
    }
   ],
   "source": [
    "arr = np.array([[1, 2, 3], [4, 5, 6]])\n",
    "arr2 = np.array([[5,6,4]])\n",
    "reshaped_arr = np.reshape(arr, (3, 2))\n",
    "finding_shape=reshaped_arr.shape\n",
    "reshaped_arr,finding_shape"
   ]
  },
  {
   "cell_type": "markdown",
   "metadata": {},
   "source": [
    "#### **Size**\n",
    "- gives number of items"
   ]
  },
  {
   "cell_type": "code",
   "execution_count": 312,
   "metadata": {},
   "outputs": [
    {
     "data": {
      "text/plain": [
       "10"
      ]
     },
     "execution_count": 312,
     "metadata": {},
     "output_type": "execute_result"
    }
   ],
   "source": [
    "re = np.arange(1,11).reshape(5,2)\n",
    "re.size\n"
   ]
  },
  {
   "cell_type": "markdown",
   "metadata": {},
   "source": [
    "#### **ItemSize**\n",
    "- Memory occupied by the item"
   ]
  },
  {
   "cell_type": "code",
   "execution_count": 313,
   "metadata": {},
   "outputs": [
    {
     "data": {
      "text/plain": [
       "4"
      ]
     },
     "execution_count": 313,
     "metadata": {},
     "output_type": "execute_result"
    }
   ],
   "source": [
    "re2 = np.arange(1,13).reshape(3,4)\n",
    "re2.itemsize #Memory occupied by the item"
   ]
  },
  {
   "cell_type": "markdown",
   "metadata": {},
   "source": [
    "### **Array Operations:**\n",
    "- NumPy supports element-wise operations on arrays. Basic arithmetic operations like addition, subtraction, multiplication, and division are performed element-wise."
   ]
  },
  {
   "cell_type": "markdown",
   "metadata": {},
   "source": [
    "#### **Scalr Operation**\n",
    "- Scalar operations on Numpy arrays include performing addition or subtraction, or multiplication on each element of a Numpy array."
   ]
  },
  {
   "cell_type": "code",
   "execution_count": 314,
   "metadata": {},
   "outputs": [],
   "source": [
    "z1 = np.arange(12).reshape(3,4)\n",
    "z2 = np.arange(12,24).reshape(3,4)"
   ]
  },
  {
   "cell_type": "code",
   "execution_count": 315,
   "metadata": {},
   "outputs": [
    {
     "data": {
      "text/plain": [
       "array([[ 2,  3,  4,  5],\n",
       "       [ 6,  7,  8,  9],\n",
       "       [10, 11, 12, 13]])"
      ]
     },
     "execution_count": 315,
     "metadata": {},
     "output_type": "execute_result"
    }
   ],
   "source": [
    "z1 + 2 # -, *, /, **, %."
   ]
  },
  {
   "cell_type": "code",
   "execution_count": 316,
   "metadata": {},
   "outputs": [
    {
     "data": {
      "text/plain": [
       "array([-1,  0,  1,  2,  3])"
      ]
     },
     "execution_count": 316,
     "metadata": {},
     "output_type": "execute_result"
    }
   ],
   "source": [
    "arr1d = np.array([1,2,3,4,5])\n",
    "re_add = arr1d + 2\n",
    "re_add = arr1d * 2\n",
    "re_add = arr1d - 2\n",
    "re_add"
   ]
  },
  {
   "cell_type": "markdown",
   "metadata": {},
   "source": [
    "#### **Relational Operation**\n",
    "- The relational operators are also known as comparison operators, their main function is to return either a true or false based on the value of operands."
   ]
  },
  {
   "cell_type": "code",
   "execution_count": 317,
   "metadata": {},
   "outputs": [
    {
     "data": {
      "text/plain": [
       "array([12, 13, 14, 15, 16, 17, 18, 19, 20, 21, 22, 23])"
      ]
     },
     "execution_count": 317,
     "metadata": {},
     "output_type": "execute_result"
    }
   ],
   "source": [
    "z2 = np.arange(12,24).reshape(3,4)\n",
    "z2[z2 > 2]"
   ]
  },
  {
   "cell_type": "code",
   "execution_count": 318,
   "metadata": {},
   "outputs": [
    {
     "data": {
      "text/plain": [
       "array([[False, False, False, False],\n",
       "       [False, False, False, False],\n",
       "       [False,  True,  True,  True]])"
      ]
     },
     "execution_count": 318,
     "metadata": {},
     "output_type": "execute_result"
    }
   ],
   "source": [
    "z2 > 20"
   ]
  },
  {
   "cell_type": "code",
   "execution_count": 319,
   "metadata": {},
   "outputs": [
    {
     "data": {
      "text/plain": [
       "array([[False, False,  True]])"
      ]
     },
     "execution_count": 319,
     "metadata": {},
     "output_type": "execute_result"
    }
   ],
   "source": [
    "ar1 = np.array([[-1,2,7]])\n",
    "ar2 = np.array([[4,5,6]])\n",
    "\n",
    "comp = ar1>ar2\n",
    "comp"
   ]
  },
  {
   "cell_type": "code",
   "execution_count": 320,
   "metadata": {},
   "outputs": [
    {
     "data": {
      "text/plain": [
       "(array([ True, False, False, False]), array([ True,  True,  True, False]))"
      ]
     },
     "execution_count": 320,
     "metadata": {},
     "output_type": "execute_result"
    }
   ],
   "source": [
    "arr1 = np.array([True, False, True, False])\n",
    "arr2 = np.array([True, True,False, False])\n",
    "\n",
    "_and = np.logical_and(arr1,arr2)\n",
    "\n",
    "_or = np.logical_or(arr1,arr2)\n",
    "_and,_or"
   ]
  },
  {
   "cell_type": "markdown",
   "metadata": {},
   "source": [
    "#### **Vector Operation**\n",
    "- We can apply on both numpy array"
   ]
  },
  {
   "cell_type": "code",
   "execution_count": 321,
   "metadata": {},
   "outputs": [
    {
     "data": {
      "text/plain": [
       "array([5, 7, 9])"
      ]
     },
     "execution_count": 321,
     "metadata": {},
     "output_type": "execute_result"
    }
   ],
   "source": [
    "arr1 = np.array([1, 2, 3])\n",
    "arr2 = np.array([4, 5, 6])\n",
    "\n",
    "addition = arr1 + arr2\n",
    "subtraction = arr1 - arr2\n",
    "multiplication = arr1 * arr2\n",
    "division = arr1 / arr2\n",
    "\n",
    "addition"
   ]
  },
  {
   "cell_type": "markdown",
   "metadata": {},
   "source": [
    "### **Array Function**"
   ]
  },
  {
   "cell_type": "code",
   "execution_count": 322,
   "metadata": {},
   "outputs": [
    {
     "data": {
      "text/plain": [
       "array([[31., 34., 72.],\n",
       "       [16., 35., 71.],\n",
       "       [81., 26., 28.]])"
      ]
     },
     "execution_count": 322,
     "metadata": {},
     "output_type": "execute_result"
    }
   ],
   "source": [
    "k1 = np.random.random((3,3))\n",
    "k2 = np.round(k1*100)\n",
    "k2"
   ]
  },
  {
   "cell_type": "code",
   "execution_count": 323,
   "metadata": {},
   "outputs": [],
   "source": [
    "a1 = np.max(k1)\n",
    "\n",
    "# if we want maximum of every row\n",
    "a11 = np.max(k1, axis=1)\n",
    "\n",
    "# # maximum of every column\n",
    "a22 = np.min(k1, axis=0)\n",
    "\n",
    "a2 = np.min(k1)\n",
    "a3 = np.sum(k1)\n",
    "a4 = np.prod(k1) #Multiplication"
   ]
  },
  {
   "cell_type": "markdown",
   "metadata": {},
   "source": [
    "### **Statistics Function**"
   ]
  },
  {
   "cell_type": "code",
   "execution_count": 324,
   "metadata": {},
   "outputs": [
    {
     "data": {
      "text/plain": [
       "0.07064754975445608"
      ]
     },
     "execution_count": 324,
     "metadata": {},
     "output_type": "execute_result"
    }
   ],
   "source": [
    "k1 = np.random.random((3,3))\n",
    "\n",
    "b1 = np.mean(k1)\n",
    "\n",
    "# mean of every column\n",
    "b11 = k1.mean(axis=0)\n",
    "\n",
    "b2 = np.median(k1)\n",
    "\n",
    "#median of every row\n",
    "b22 = np.median(k1, axis=1)\n",
    "\n",
    "b3 = np.std(k1)\n",
    "\n",
    "b4 = np.var(k1)\n",
    "\n",
    "b4"
   ]
  },
  {
   "cell_type": "markdown",
   "metadata": {},
   "source": [
    "#### **Trignometric Finction**"
   ]
  },
  {
   "cell_type": "code",
   "execution_count": 325,
   "metadata": {},
   "outputs": [
    {
     "data": {
      "text/plain": [
       "array([[12, 13, 14],\n",
       "       [15, 16, 17],\n",
       "       [18, 19, 20],\n",
       "       [21, 22, 23]])"
      ]
     },
     "execution_count": 325,
     "metadata": {},
     "output_type": "execute_result"
    }
   ],
   "source": [
    "s2 = np.arange(12).reshape(3,4)\n",
    "s3 = np.arange(12,24).reshape(4,3)\n",
    "s3"
   ]
  },
  {
   "cell_type": "code",
   "execution_count": 326,
   "metadata": {},
   "outputs": [
    {
     "data": {
      "text/plain": [
       "array([[-0.53657292,  0.42016704,  0.99060736],\n",
       "       [ 0.65028784, -0.28790332, -0.96139749],\n",
       "       [-0.75098725,  0.14987721,  0.91294525],\n",
       "       [ 0.83665564, -0.00885131, -0.8462204 ]])"
      ]
     },
     "execution_count": 326,
     "metadata": {},
     "output_type": "execute_result"
    }
   ],
   "source": [
    "np.sin(s3)"
   ]
  },
  {
   "cell_type": "code",
   "execution_count": 327,
   "metadata": {},
   "outputs": [
    {
     "data": {
      "text/plain": [
       "array([[ 0.84385396,  0.90744678,  0.13673722],\n",
       "       [-0.75968791, -0.95765948, -0.27516334],\n",
       "       [ 0.66031671,  0.98870462,  0.40808206],\n",
       "       [-0.54772926, -0.99996083, -0.53283302]])"
      ]
     },
     "execution_count": 327,
     "metadata": {},
     "output_type": "execute_result"
    }
   ],
   "source": [
    "np.cos(s3)"
   ]
  },
  {
   "cell_type": "code",
   "execution_count": 328,
   "metadata": {},
   "outputs": [
    {
     "data": {
      "text/plain": [
       "array([[-0.63585993,  0.46302113,  7.24460662],\n",
       "       [-0.8559934 ,  0.30063224,  3.49391565],\n",
       "       [-1.13731371,  0.15158947,  2.23716094],\n",
       "       [-1.52749853,  0.00885166,  1.58815308]])"
      ]
     },
     "execution_count": 328,
     "metadata": {},
     "output_type": "execute_result"
    }
   ],
   "source": [
    "np.tan(s3)"
   ]
  },
  {
   "cell_type": "markdown",
   "metadata": {},
   "source": [
    "#### **Log and Exponent**"
   ]
  },
  {
   "cell_type": "code",
   "execution_count": 329,
   "metadata": {},
   "outputs": [
    {
     "data": {
      "text/plain": [
       "array([[1.00000000e+00, 2.71828183e+00, 7.38905610e+00, 2.00855369e+01],\n",
       "       [5.45981500e+01, 1.48413159e+02, 4.03428793e+02, 1.09663316e+03],\n",
       "       [2.98095799e+03, 8.10308393e+03, 2.20264658e+04, 5.98741417e+04]])"
      ]
     },
     "execution_count": 329,
     "metadata": {},
     "output_type": "execute_result"
    }
   ],
   "source": [
    "np.exp(s2)"
   ]
  },
  {
   "cell_type": "code",
   "execution_count": 330,
   "metadata": {},
   "outputs": [
    {
     "name": "stdout",
     "output_type": "stream",
     "text": [
      "[3.16227766 4.47213595 5.47722558 6.32455532 7.07106781]\n"
     ]
    }
   ],
   "source": [
    "arr4 = np.array([10, 20, 30, 40, 50])\n",
    "sqrt_result = np.sqrt(arr4)\n",
    "print(sqrt_result)\n",
    "\n",
    "exp_result = np.exp(arr4)\n",
    "\n",
    "#trignometry\n",
    "sin_result = np.sin(arr4)\n",
    "cos_result = np.cos(arr4)"
   ]
  },
  {
   "cell_type": "markdown",
   "metadata": {},
   "source": [
    "#### **round**\n",
    "The `numpy.round()` function rounds the elements of an array to the nearest integer or to the specified number of decimals."
   ]
  },
  {
   "cell_type": "code",
   "execution_count": 331,
   "metadata": {},
   "outputs": [
    {
     "name": "stdout",
     "output_type": "stream",
     "text": [
      "[1. 3. 4. 5.]\n"
     ]
    }
   ],
   "source": [
    "# Round to the nearest integer\n",
    "arr = np.array([1.2, 2.7, 3.5, 4.9])\n",
    "rounded_arr = np.round(arr)\n",
    "print(rounded_arr) "
   ]
  },
  {
   "cell_type": "code",
   "execution_count": 332,
   "metadata": {},
   "outputs": [
    {
     "name": "stdout",
     "output_type": "stream",
     "text": [
      "[1.23 2.57 3.89]\n"
     ]
    }
   ],
   "source": [
    "# Round to two decimals\n",
    "arr = np.array([1.234, 2.567, 3.891])\n",
    "rounded_arr = np.round(arr, decimals=2)\n",
    "print(rounded_arr)"
   ]
  },
  {
   "cell_type": "markdown",
   "metadata": {},
   "source": [
    "#### **Floor**\n",
    "The `numpy.floor()` function returns the largest integer less than or equal to each element of an array.\n"
   ]
  },
  {
   "cell_type": "code",
   "execution_count": 333,
   "metadata": {},
   "outputs": [
    {
     "name": "stdout",
     "output_type": "stream",
     "text": [
      "[1. 2. 3. 4.]\n"
     ]
    }
   ],
   "source": [
    "# Floor operation\n",
    "arr = np.array([1.2, 2.7, 3.5, 4.9])\n",
    "floored_arr = np.floor(arr)\n",
    "print(floored_arr)"
   ]
  },
  {
   "cell_type": "code",
   "execution_count": 334,
   "metadata": {},
   "outputs": [
    {
     "data": {
      "text/plain": [
       "array([[70.,  3., 73.],\n",
       "       [85., 59., 30.]])"
      ]
     },
     "execution_count": 334,
     "metadata": {},
     "output_type": "execute_result"
    }
   ],
   "source": [
    "np.floor(np.random.random((2,3))*100) # gives the smallest integer"
   ]
  },
  {
   "cell_type": "markdown",
   "metadata": {},
   "source": [
    "#### **Ceil**\n",
    "The `numpy.ceil()` function returns the smallest integer greater than or equal to each element of an array.\n"
   ]
  },
  {
   "cell_type": "code",
   "execution_count": 335,
   "metadata": {},
   "outputs": [
    {
     "name": "stdout",
     "output_type": "stream",
     "text": [
      "[2. 3. 4. 5.]\n"
     ]
    }
   ],
   "source": [
    "arr = np.array([1.2, 2.7, 3.5, 4.9])\n",
    "ceiled_arr = np.ceil(arr)\n",
    "print(ceiled_arr)"
   ]
  },
  {
   "cell_type": "code",
   "execution_count": 336,
   "metadata": {},
   "outputs": [
    {
     "data": {
      "text/plain": [
       "array([[10., 72., 85.],\n",
       "       [34.,  6., 29.]])"
      ]
     },
     "execution_count": 336,
     "metadata": {},
     "output_type": "execute_result"
    }
   ],
   "source": [
    "np.ceil(np.random.random((2,3))*100) # gives highest integer"
   ]
  },
  {
   "cell_type": "markdown",
   "metadata": {},
   "source": [
    "### **Set functions**\n",
    "- `np.union1d`\n",
    "- `np.intersect1d`\n",
    "- `np.setdiff1d`\n",
    "- `np.setxor1d`\n",
    "- `np.in1d`\n"
   ]
  },
  {
   "cell_type": "code",
   "execution_count": 337,
   "metadata": {},
   "outputs": [],
   "source": [
    "m = np.array([1,2,3,4,5])\n",
    "n = np.array([3,4,5,6,7])"
   ]
  },
  {
   "cell_type": "code",
   "execution_count": 338,
   "metadata": {},
   "outputs": [
    {
     "data": {
      "text/plain": [
       "array([1, 2, 3, 4, 5, 6, 7])"
      ]
     },
     "execution_count": 338,
     "metadata": {},
     "output_type": "execute_result"
    }
   ],
   "source": [
    "np.union1d(m,n)"
   ]
  },
  {
   "cell_type": "code",
   "execution_count": 339,
   "metadata": {},
   "outputs": [
    {
     "data": {
      "text/plain": [
       "array([3, 4, 5])"
      ]
     },
     "execution_count": 339,
     "metadata": {},
     "output_type": "execute_result"
    }
   ],
   "source": [
    "np.intersect1d(m,n)"
   ]
  },
  {
   "cell_type": "code",
   "execution_count": 340,
   "metadata": {},
   "outputs": [
    {
     "data": {
      "text/plain": [
       "array([1, 2])"
      ]
     },
     "execution_count": 340,
     "metadata": {},
     "output_type": "execute_result"
    }
   ],
   "source": [
    "# Set difference\n",
    "np.setdiff1d(m,n)"
   ]
  },
  {
   "cell_type": "code",
   "execution_count": 341,
   "metadata": {},
   "outputs": [
    {
     "data": {
      "text/plain": [
       "array([1, 2, 6, 7])"
      ]
     },
     "execution_count": 341,
     "metadata": {},
     "output_type": "execute_result"
    }
   ],
   "source": [
    "# set Xor\n",
    "np.setxor1d(m,n)"
   ]
  },
  {
   "cell_type": "code",
   "execution_count": 342,
   "metadata": {},
   "outputs": [
    {
     "data": {
      "text/plain": [
       "array([ True, False, False, False, False])"
      ]
     },
     "execution_count": 342,
     "metadata": {},
     "output_type": "execute_result"
    }
   ],
   "source": [
    "# in 1D ( like membership operator)\n",
    "np.in1d(m,1)"
   ]
  },
  {
   "cell_type": "markdown",
   "metadata": {},
   "source": [
    "### **Indexing and Slicing:**\n",
    "You can access and modify elements of arrays using indexing and slicing. Indexing starts at 0, and slicing allows you to extract portions of arrays."
   ]
  },
  {
   "cell_type": "code",
   "execution_count": 343,
   "metadata": {},
   "outputs": [
    {
     "data": {
      "text/plain": [
       "(10, array([20, 30, 40]), 50)"
      ]
     },
     "execution_count": 343,
     "metadata": {},
     "output_type": "execute_result"
    }
   ],
   "source": [
    "import numpy as np\n",
    "\n",
    "arr = np.array([10, 20, 30, 40, 50])\n",
    "first_element = arr[0]\n",
    "sub_array = arr[1:4]\n",
    "a = arr[-1]\n",
    "first_element,sub_array,a"
   ]
  },
  {
   "cell_type": "code",
   "execution_count": 344,
   "metadata": {},
   "outputs": [],
   "source": [
    "p1 = np.arange(10)\n",
    "p2 = np.arange(12).reshape(3,4)\n",
    "p3 = np.arange(8).reshape(2,2,2)"
   ]
  },
  {
   "cell_type": "code",
   "execution_count": 345,
   "metadata": {},
   "outputs": [
    {
     "data": {
      "text/plain": [
       "6"
      ]
     },
     "execution_count": 345,
     "metadata": {},
     "output_type": "execute_result"
    }
   ],
   "source": [
    "p2[1,2]"
   ]
  },
  {
   "cell_type": "code",
   "execution_count": 346,
   "metadata": {},
   "outputs": [
    {
     "data": {
      "text/plain": [
       "array([[[0, 1],\n",
       "        [2, 3]],\n",
       "\n",
       "       [[4, 5],\n",
       "        [6, 7]]])"
      ]
     },
     "execution_count": 346,
     "metadata": {},
     "output_type": "execute_result"
    }
   ],
   "source": [
    "p3"
   ]
  },
  {
   "cell_type": "code",
   "execution_count": 347,
   "metadata": {},
   "outputs": [
    {
     "data": {
      "text/plain": [
       "6"
      ]
     },
     "execution_count": 347,
     "metadata": {},
     "output_type": "execute_result"
    }
   ],
   "source": [
    "# :Here 3D is consists of 2 ,2D array , so Firstly we take 1 because our desired is 5 is in second matrix which is 1 .and 1 row so 0 and second column so 1\n",
    "p3[1,0,1]\n",
    "\n",
    "#Here first we take 0 because our desired is 0, is in first matrix which is 0 . and 1 row so 0 and first column so 0\n",
    "\n",
    "p3[1,1,0]"
   ]
  },
  {
   "cell_type": "code",
   "execution_count": 348,
   "metadata": {},
   "outputs": [
    {
     "data": {
      "text/plain": [
       "array([2, 3, 4])"
      ]
     },
     "execution_count": 348,
     "metadata": {},
     "output_type": "execute_result"
    }
   ],
   "source": [
    "p1[2:5]"
   ]
  },
  {
   "cell_type": "code",
   "execution_count": 349,
   "metadata": {},
   "outputs": [
    {
     "data": {
      "text/plain": [
       "array([2, 4])"
      ]
     },
     "execution_count": 349,
     "metadata": {},
     "output_type": "execute_result"
    }
   ],
   "source": [
    "p1[2:5:2]"
   ]
  },
  {
   "cell_type": "code",
   "execution_count": 350,
   "metadata": {},
   "outputs": [
    {
     "data": {
      "text/plain": [
       "array([0, 1, 2, 3])"
      ]
     },
     "execution_count": 350,
     "metadata": {},
     "output_type": "execute_result"
    }
   ],
   "source": [
    "# fetching total First row\n",
    "p2[0, :]"
   ]
  },
  {
   "cell_type": "code",
   "execution_count": 351,
   "metadata": {},
   "outputs": [
    {
     "data": {
      "text/plain": [
       "array([ 2,  6, 10])"
      ]
     },
     "execution_count": 351,
     "metadata": {},
     "output_type": "execute_result"
    }
   ],
   "source": [
    "# fetching total third column\n",
    "p2[:,2]"
   ]
  },
  {
   "cell_type": "code",
   "execution_count": 352,
   "metadata": {},
   "outputs": [
    {
     "data": {
      "text/plain": [
       "array([[ 0,  3],\n",
       "       [ 8, 11]])"
      ]
     },
     "execution_count": 352,
     "metadata": {},
     "output_type": "execute_result"
    }
   ],
   "source": [
    "p2[::2, ::3]"
   ]
  },
  {
   "cell_type": "code",
   "execution_count": 353,
   "metadata": {},
   "outputs": [
    {
     "data": {
      "text/plain": [
       "array([[4, 5],\n",
       "       [6, 7]])"
      ]
     },
     "execution_count": 353,
     "metadata": {},
     "output_type": "execute_result"
    }
   ],
   "source": [
    "#3D Slicing\n",
    "p3[1]"
   ]
  },
  {
   "cell_type": "code",
   "execution_count": 354,
   "metadata": {},
   "outputs": [
    {
     "data": {
      "text/plain": [
       "array([2, 3])"
      ]
     },
     "execution_count": 354,
     "metadata": {},
     "output_type": "execute_result"
    }
   ],
   "source": [
    "p3[0,1,:] "
   ]
  },
  {
   "cell_type": "code",
   "execution_count": 355,
   "metadata": {},
   "outputs": [
    {
     "data": {
      "text/plain": [
       "array([5, 7])"
      ]
     },
     "execution_count": 355,
     "metadata": {},
     "output_type": "execute_result"
    }
   ],
   "source": [
    "p3[1,:,1]"
   ]
  },
  {
   "cell_type": "markdown",
   "metadata": {},
   "source": [
    "#### **Isin**\n",
    "- we can see that one array having values are checked in a different numpy array having different elements with different sizes."
   ]
  },
  {
   "cell_type": "code",
   "execution_count": 356,
   "metadata": {},
   "outputs": [
    {
     "data": {
      "text/plain": [
       "array(True)"
      ]
     },
     "execution_count": 356,
     "metadata": {},
     "output_type": "execute_result"
    }
   ],
   "source": [
    "items = [10,20,30,40,50,60,70,80,90,100]\n",
    "np.isin(a,items)"
   ]
  },
  {
   "cell_type": "code",
   "execution_count": 357,
   "metadata": {},
   "outputs": [
    {
     "data": {
      "text/plain": [
       "array([50])"
      ]
     },
     "execution_count": 357,
     "metadata": {},
     "output_type": "execute_result"
    }
   ],
   "source": [
    "a[np.isin(a,items)]"
   ]
  },
  {
   "cell_type": "code",
   "execution_count": 358,
   "metadata": {},
   "outputs": [
    {
     "name": "stdout",
     "output_type": "stream",
     "text": [
      "Index of maximum value: 3\n",
      "Indices of maximum values along each column: [1 0 0]\n"
     ]
    }
   ],
   "source": [
    "import numpy as np\n",
    "\n",
    "# Create a 2D array\n",
    "arr = np.array([[1, 3, 5],\n",
    "                [8, 2, 4]])\n",
    "\n",
    "# Find the index of the maximum value in the entire array\n",
    "max_index = np.argmax(arr)\n",
    "print(\"Index of maximum value:\", max_index)\n",
    "\n",
    "# Find the indices of the maximum values along each column\n",
    "max_indices_col = np.argmax(arr, axis=0)\n",
    "print(\"Indices of maximum values along each column:\", max_indices_col)"
   ]
  },
  {
   "cell_type": "code",
   "execution_count": 359,
   "metadata": {},
   "outputs": [
    {
     "name": "stdout",
     "output_type": "stream",
     "text": [
      "Index of minimum value: 0\n",
      "Indices of minimum values along each row: [0 1]\n"
     ]
    }
   ],
   "source": [
    "import numpy as np\n",
    "\n",
    "# Create a 2D array\n",
    "arr = np.array([[1, 3, 5],\n",
    "                [8, 2, 4]])\n",
    "\n",
    "# Find the index of the minimum value in the entire array\n",
    "min_index = np.argmin(arr)\n",
    "print(\"Index of minimum value:\", min_index)\n",
    "\n",
    "# Find the indices of the minimum values along each row\n",
    "min_indices_row = np.argmin(arr, axis=1)\n",
    "print(\"Indices of minimum values along each row:\", min_indices_row)"
   ]
  },
  {
   "cell_type": "markdown",
   "metadata": {},
   "source": [
    "### **Array Methods**\n",
    "#### **Itrating**"
   ]
  },
  {
   "cell_type": "code",
   "execution_count": 360,
   "metadata": {},
   "outputs": [
    {
     "name": "stdout",
     "output_type": "stream",
     "text": [
      "0\n",
      "1\n",
      "2\n",
      "3\n",
      "4\n",
      "5\n",
      "6\n",
      "7\n",
      "8\n",
      "9\n"
     ]
    }
   ],
   "source": [
    "p1 = np.arange(10)\n",
    "\n",
    "for i in p1:\n",
    "    print(i)"
   ]
  },
  {
   "cell_type": "code",
   "execution_count": 361,
   "metadata": {},
   "outputs": [
    {
     "name": "stdout",
     "output_type": "stream",
     "text": [
      "[0 1 2 3]\n",
      "[4 5 6 7]\n",
      "[ 8  9 10 11]\n"
     ]
    }
   ],
   "source": [
    "p2 = np.arange(12).reshape(3,4)\n",
    "\n",
    "## Looping on 2D array\n",
    "for i in p2:\n",
    "    print(i) "
   ]
  },
  {
   "cell_type": "code",
   "execution_count": 362,
   "metadata": {},
   "outputs": [
    {
     "name": "stdout",
     "output_type": "stream",
     "text": [
      "[[0 1]\n",
      " [2 3]]\n",
      "[[4 5]\n",
      " [6 7]]\n"
     ]
    }
   ],
   "source": [
    "p3 = np.arange(8).reshape(2,2,2)\n",
    "\n",
    "## Looping on 2D array\n",
    "for i in p3:\n",
    "    print(i) "
   ]
  },
  {
   "cell_type": "markdown",
   "metadata": {},
   "source": [
    "print all items in 3D using nditer ----> first convert in to 1D and applying Loop"
   ]
  },
  {
   "cell_type": "code",
   "execution_count": 363,
   "metadata": {},
   "outputs": [
    {
     "name": "stdout",
     "output_type": "stream",
     "text": [
      "0\n",
      "1\n",
      "2\n",
      "3\n",
      "4\n",
      "5\n",
      "6\n",
      "7\n"
     ]
    }
   ],
   "source": [
    "for i in np.nditer(p3):\n",
    "    print(i)"
   ]
  },
  {
   "cell_type": "markdown",
   "metadata": {},
   "source": [
    "#### **Sorting**"
   ]
  },
  {
   "cell_type": "code",
   "execution_count": 364,
   "metadata": {},
   "outputs": [],
   "source": [
    "a = np.random.randint(1,100,15)\n",
    "b = np.random.randint(1,100,24).reshape(6,4)"
   ]
  },
  {
   "cell_type": "code",
   "execution_count": 365,
   "metadata": {},
   "outputs": [
    {
     "data": {
      "text/plain": [
       "array([93, 93, 91, 90, 84, 74, 57, 49, 47, 45, 36, 33, 21, 19,  6])"
      ]
     },
     "execution_count": 365,
     "metadata": {},
     "output_type": "execute_result"
    }
   ],
   "source": [
    "np.sort(a)\n",
    "np.sort(a)[::-1] #Descending"
   ]
  },
  {
   "cell_type": "code",
   "execution_count": 366,
   "metadata": {},
   "outputs": [
    {
     "data": {
      "text/plain": [
       "array([[17,  2, 24,  7],\n",
       "       [20, 26, 47, 31],\n",
       "       [47, 47, 47, 44],\n",
       "       [56, 49, 56, 56],\n",
       "       [59, 52, 97, 68],\n",
       "       [63, 97, 99, 84]])"
      ]
     },
     "execution_count": 366,
     "metadata": {},
     "output_type": "execute_result"
    }
   ],
   "source": [
    "np.sort(b)\n",
    "np.sort(b, axis=0) #Column wise sorting"
   ]
  },
  {
   "cell_type": "markdown",
   "metadata": {},
   "source": [
    "#### **Append**"
   ]
  },
  {
   "cell_type": "code",
   "execution_count": 367,
   "metadata": {},
   "outputs": [
    {
     "data": {
      "text/plain": [
       "array([56, 47, 47, 44, 17, 49, 56,  7, 59,  2, 24, 84, 47, 26, 99, 68, 63,\n",
       "       97, 47, 31, 20, 52, 97, 56,  1])"
      ]
     },
     "execution_count": 367,
     "metadata": {},
     "output_type": "execute_result"
    }
   ],
   "source": [
    "np.append(b,1)"
   ]
  },
  {
   "cell_type": "code",
   "execution_count": 368,
   "metadata": {},
   "outputs": [
    {
     "data": {
      "text/plain": [
       "array([[1.],\n",
       "       [1.],\n",
       "       [1.],\n",
       "       [1.],\n",
       "       [1.],\n",
       "       [1.]])"
      ]
     },
     "execution_count": 368,
     "metadata": {},
     "output_type": "execute_result"
    }
   ],
   "source": [
    "np.ones((b.shape[0],1))"
   ]
  },
  {
   "cell_type": "code",
   "execution_count": 369,
   "metadata": {},
   "outputs": [
    {
     "data": {
      "text/plain": [
       "array([56, 47, 47, 44, 17, 49, 56,  7, 59,  2, 24, 84, 47, 26, 99, 68, 63,\n",
       "       97, 47, 31, 20, 52, 97, 56,  1,  1,  1,  1,  1,  1])"
      ]
     },
     "execution_count": 369,
     "metadata": {},
     "output_type": "execute_result"
    }
   ],
   "source": [
    "# adding one row to 2d arrary\n",
    "np.append(b,np.ones((b.shape[0],1))).astype('int')"
   ]
  },
  {
   "cell_type": "code",
   "execution_count": 370,
   "metadata": {},
   "outputs": [
    {
     "data": {
      "text/plain": [
       "array([[5.60000000e+01, 4.70000000e+01, 4.70000000e+01, 4.40000000e+01,\n",
       "        7.14511343e-01],\n",
       "       [1.70000000e+01, 4.90000000e+01, 5.60000000e+01, 7.00000000e+00,\n",
       "        4.95536227e-01],\n",
       "       [5.90000000e+01, 2.00000000e+00, 2.40000000e+01, 8.40000000e+01,\n",
       "        5.90777394e-01],\n",
       "       [4.70000000e+01, 2.60000000e+01, 9.90000000e+01, 6.80000000e+01,\n",
       "        9.63631366e-02],\n",
       "       [6.30000000e+01, 9.70000000e+01, 4.70000000e+01, 3.10000000e+01,\n",
       "        2.28286788e-01],\n",
       "       [2.00000000e+01, 5.20000000e+01, 9.70000000e+01, 5.60000000e+01,\n",
       "        8.97704319e-01]])"
      ]
     },
     "execution_count": 370,
     "metadata": {},
     "output_type": "execute_result"
    }
   ],
   "source": [
    "# add new column\n",
    "np.append(b,np.random.random((b.shape[0],1)),axis=1)"
   ]
  },
  {
   "cell_type": "markdown",
   "metadata": {},
   "source": [
    "#### **`np.unique`**"
   ]
  },
  {
   "cell_type": "code",
   "execution_count": 371,
   "metadata": {},
   "outputs": [],
   "source": [
    "# code\n",
    "e = np.array([1,1,2,2,3,3,4,4,5,5,6,6])"
   ]
  },
  {
   "cell_type": "code",
   "execution_count": 372,
   "metadata": {},
   "outputs": [
    {
     "data": {
      "text/plain": [
       "array([1, 2, 3, 4, 5, 6])"
      ]
     },
     "execution_count": 372,
     "metadata": {},
     "output_type": "execute_result"
    }
   ],
   "source": [
    "np.unique(e)"
   ]
  },
  {
   "cell_type": "markdown",
   "metadata": {},
   "source": [
    "#### **`np.where`**\n",
    "The numpy.where() function returns the indices of elements in an input array where the given\n",
    "condition is satisfied."
   ]
  },
  {
   "cell_type": "code",
   "execution_count": 373,
   "metadata": {},
   "outputs": [
    {
     "data": {
      "text/plain": [
       "(array([ 1,  7,  8,  9, 10, 11, 14], dtype=int64),)"
      ]
     },
     "execution_count": 373,
     "metadata": {},
     "output_type": "execute_result"
    }
   ],
   "source": [
    "np.where(a>50)"
   ]
  },
  {
   "cell_type": "code",
   "execution_count": 374,
   "metadata": {},
   "outputs": [
    {
     "data": {
      "text/plain": [
       "array([19,  0, 33, 36, 47, 21,  6,  0,  0,  0,  0,  0, 45, 49,  0])"
      ]
     },
     "execution_count": 374,
     "metadata": {},
     "output_type": "execute_result"
    }
   ],
   "source": [
    "# replace all values > 50 with 0\n",
    "np.where(a>50,0,a)"
   ]
  },
  {
   "cell_type": "markdown",
   "metadata": {},
   "source": [
    "#### **Dot Product**\n",
    "`np.dot`"
   ]
  },
  {
   "cell_type": "code",
   "execution_count": 375,
   "metadata": {},
   "outputs": [
    {
     "data": {
      "text/plain": [
       "array([[114, 120, 126],\n",
       "       [378, 400, 422],\n",
       "       [642, 680, 718]])"
      ]
     },
     "execution_count": 375,
     "metadata": {},
     "output_type": "execute_result"
    }
   ],
   "source": [
    "np.dot(s2,s3)"
   ]
  },
  {
   "cell_type": "code",
   "execution_count": 376,
   "metadata": {},
   "outputs": [
    {
     "data": {
      "text/plain": [
       "array([[19, 22],\n",
       "       [43, 50]])"
      ]
     },
     "execution_count": 376,
     "metadata": {},
     "output_type": "execute_result"
    }
   ],
   "source": [
    "a = np.array([[1,2],[3,4]])\n",
    "b = np.array([[5,6],[7,8]])\n",
    "c = np.dot(a,b)\n",
    "c"
   ]
  },
  {
   "cell_type": "code",
   "execution_count": 377,
   "metadata": {},
   "outputs": [],
   "source": [
    "import numpy as np\n",
    "\n",
    "A = np.array([[1, 2], [3, 4]])\n",
    "B = np.array([[5, 6], [7, 8]])\n",
    "dot_product = np.dot(A, B)"
   ]
  },
  {
   "cell_type": "markdown",
   "metadata": {},
   "source": [
    "#### **Percentaile**\n",
    "- `numpy.percentile()` function used to compute the nth percentile of the given data (array elements) along the specified axis"
   ]
  },
  {
   "cell_type": "code",
   "execution_count": 378,
   "metadata": {},
   "outputs": [
    {
     "data": {
      "text/plain": [
       "4.0"
      ]
     },
     "execution_count": 378,
     "metadata": {},
     "output_type": "execute_result"
    }
   ],
   "source": [
    "np.percentile(a,100) #max"
   ]
  },
  {
   "cell_type": "code",
   "execution_count": 379,
   "metadata": {},
   "outputs": [
    {
     "data": {
      "text/plain": [
       "1.0"
      ]
     },
     "execution_count": 379,
     "metadata": {},
     "output_type": "execute_result"
    }
   ],
   "source": [
    "np.percentile(a,0) # min"
   ]
  },
  {
   "cell_type": "code",
   "execution_count": 380,
   "metadata": {},
   "outputs": [
    {
     "data": {
      "text/plain": [
       "2.5"
      ]
     },
     "execution_count": 380,
     "metadata": {},
     "output_type": "execute_result"
    }
   ],
   "source": [
    "np.percentile(a,50) #median"
   ]
  },
  {
   "cell_type": "markdown",
   "metadata": {},
   "source": [
    "#### **Flip**\n",
    "- The `numpy.flip()` function reverses the order of array elements along the specified axis, preserving the shape of the array."
   ]
  },
  {
   "cell_type": "code",
   "execution_count": 381,
   "metadata": {},
   "outputs": [
    {
     "data": {
      "text/plain": [
       "array([[4, 3],\n",
       "       [2, 1]])"
      ]
     },
     "execution_count": 381,
     "metadata": {},
     "output_type": "execute_result"
    }
   ],
   "source": [
    "np.flip(a)"
   ]
  },
  {
   "cell_type": "code",
   "execution_count": 382,
   "metadata": {},
   "outputs": [
    {
     "data": {
      "text/plain": [
       "array([[6, 5],\n",
       "       [8, 7]])"
      ]
     },
     "execution_count": 382,
     "metadata": {},
     "output_type": "execute_result"
    }
   ],
   "source": [
    "np.flip(b,axis=1)"
   ]
  },
  {
   "cell_type": "markdown",
   "metadata": {},
   "source": [
    "#### **Delete**\n",
    "The `numpy.delete()` function returns a new array with the deletion of sub-arrays along with the mentioned axis."
   ]
  },
  {
   "cell_type": "code",
   "execution_count": 383,
   "metadata": {},
   "outputs": [
    {
     "data": {
      "text/plain": [
       "array([68, 43, 69, 22, 51, 77, 66,  5, 44,  9, 52, 44,  2, 95])"
      ]
     },
     "execution_count": 383,
     "metadata": {},
     "output_type": "execute_result"
    }
   ],
   "source": [
    "a = np.random.randint(1,100,15)\n",
    "np.delete(a,0)"
   ]
  },
  {
   "cell_type": "code",
   "execution_count": 384,
   "metadata": {},
   "outputs": [
    {
     "data": {
      "text/plain": [
       "array([68, 69, 51, 77, 66,  5, 44,  9, 52, 44,  2, 95])"
      ]
     },
     "execution_count": 384,
     "metadata": {},
     "output_type": "execute_result"
    }
   ],
   "source": [
    "np.delete(a,[0,2,4]) # deleted 0,2,4 index items"
   ]
  },
  {
   "cell_type": "markdown",
   "metadata": {},
   "source": [
    "### **Array Manipulation:**\n",
    "You can reshape arrays using `np.reshape()`, flatten them using `np.flatten()` or `np.ravel()`, and transpose them using `np.transpose()` or array attributes.\n",
    "\n",
    "Transpose ---> Converts rows in to clumns ad columns into rows"
   ]
  },
  {
   "cell_type": "code",
   "execution_count": 385,
   "metadata": {},
   "outputs": [
    {
     "data": {
      "text/plain": [
       "array([[ 0,  4,  8],\n",
       "       [ 1,  5,  9],\n",
       "       [ 2,  6, 10],\n",
       "       [ 3,  7, 11]])"
      ]
     },
     "execution_count": 385,
     "metadata": {},
     "output_type": "execute_result"
    }
   ],
   "source": [
    "p2 = np.arange(12).reshape(3,4)\n",
    "np.transpose(p2)"
   ]
  },
  {
   "cell_type": "code",
   "execution_count": 386,
   "metadata": {},
   "outputs": [
    {
     "data": {
      "text/plain": [
       "array([[ 0,  4,  8],\n",
       "       [ 1,  5,  9],\n",
       "       [ 2,  6, 10],\n",
       "       [ 3,  7, 11]])"
      ]
     },
     "execution_count": 386,
     "metadata": {},
     "output_type": "execute_result"
    }
   ],
   "source": [
    "p2.T"
   ]
  },
  {
   "cell_type": "code",
   "execution_count": 387,
   "metadata": {},
   "outputs": [
    {
     "data": {
      "text/plain": [
       "(array([[1, 2, 3],\n",
       "        [4, 5, 6]]),\n",
       " array([[1, 4],\n",
       "        [2, 5],\n",
       "        [3, 6]]))"
      ]
     },
     "execution_count": 387,
     "metadata": {},
     "output_type": "execute_result"
    }
   ],
   "source": [
    "arr = np.array([[1, 2, 3], [4, 5, 6]])\n",
    "transposed_arr = np.transpose(arr)\n",
    "arr,transposed_arr"
   ]
  },
  {
   "cell_type": "markdown",
   "metadata": {},
   "source": [
    "#### **Ravel**\n",
    "Converting any dimensions to 1D"
   ]
  },
  {
   "cell_type": "code",
   "execution_count": 388,
   "metadata": {},
   "outputs": [
    {
     "data": {
      "text/plain": [
       "array([ 0,  1,  2,  3,  4,  5,  6,  7,  8,  9, 10, 11])"
      ]
     },
     "execution_count": 388,
     "metadata": {},
     "output_type": "execute_result"
    }
   ],
   "source": [
    "p2 = np.arange(12).reshape(3,4)\n",
    "p2.ravel()"
   ]
  },
  {
   "cell_type": "code",
   "execution_count": 389,
   "metadata": {},
   "outputs": [
    {
     "data": {
      "text/plain": [
       "array([1, 2, 3, 4, 5, 6])"
      ]
     },
     "execution_count": 389,
     "metadata": {},
     "output_type": "execute_result"
    }
   ],
   "source": [
    "arr = np.array([[1, 2, 3], [4, 5, 6]])\n",
    "flattened_arr = arr.flatten()\n",
    "flattened_arr"
   ]
  },
  {
   "cell_type": "markdown",
   "metadata": {},
   "source": [
    "#### **Inverse of Array**"
   ]
  },
  {
   "cell_type": "code",
   "execution_count": 390,
   "metadata": {},
   "outputs": [
    {
     "name": "stdout",
     "output_type": "stream",
     "text": [
      "Original Matrix:\n",
      "[[4 7]\n",
      " [2 6]]\n",
      "\n",
      "Inverse Matrix:\n",
      "[[ 0.6 -0.7]\n",
      " [-0.2  0.4]]\n"
     ]
    }
   ],
   "source": [
    "#To invert (or find the inverse of) a NumPy array, you can use the numpy.linalg.inv()\n",
    "import numpy as np\n",
    "\n",
    "# Create a square matrix (2x2 for example)\n",
    "matrix = np.array([[4, 7],\n",
    "                   [2, 6]])\n",
    "\n",
    "# Calculate the inverse\n",
    "inverse_matrix = np.linalg.inv(matrix)\n",
    "\n",
    "# Print the original and inverse matrices\n",
    "print(\"Original Matrix:\")\n",
    "print(matrix)\n",
    "\n",
    "print(\"\\nInverse Matrix:\")\n",
    "print(inverse_matrix)"
   ]
  },
  {
   "cell_type": "markdown",
   "metadata": {},
   "source": [
    "#### **Array Concatenation** \n",
    "You can combine arrays using functions like `np.concatenate()`, `np.vstack()`, and `np.hstack()`."
   ]
  },
  {
   "cell_type": "code",
   "execution_count": 391,
   "metadata": {},
   "outputs": [
    {
     "data": {
      "text/plain": [
       "array([[1, 2, 3],\n",
       "       [4, 5, 6],\n",
       "       [5, 6, 4],\n",
       "       [5, 6, 1]])"
      ]
     },
     "execution_count": 391,
     "metadata": {},
     "output_type": "execute_result"
    }
   ],
   "source": [
    "arr = np.array([[1, 2, 3], [4, 5, 6]])\n",
    "arr2 = np.array([[5,6,4],[5,6,1]])\n",
    "concate = np.concatenate((arr,arr2),axis=0)\n",
    "concate"
   ]
  },
  {
   "cell_type": "markdown",
   "metadata": {},
   "source": [
    "#### **Stacking**\n",
    "Stacking is the concept of joining arrays in NumPy. Arrays having the same dimensions can be stacked"
   ]
  },
  {
   "cell_type": "code",
   "execution_count": 392,
   "metadata": {},
   "outputs": [
    {
     "data": {
      "text/plain": [
       "(array([[1, 2, 3],\n",
       "        [4, 5, 6]]),\n",
       " array([1, 2, 3, 4, 5, 6]))"
      ]
     },
     "execution_count": 392,
     "metadata": {},
     "output_type": "execute_result"
    }
   ],
   "source": [
    "arr1 = np.array([1, 2, 3])\n",
    "arr2 = np.array([4, 5, 6])\n",
    "\n",
    "vertical_stack = np.vstack((arr1, arr2))\n",
    "horizantal_stack = np.hstack((arr1, arr2))\n",
    "vertical_stack,horizantal_stack\n",
    "# assingment : create an example for -> hstack, spilt, vsplit &hsplit"
   ]
  },
  {
   "cell_type": "code",
   "execution_count": 393,
   "metadata": {},
   "outputs": [],
   "source": [
    "w1 = np.arange(12).reshape(3,4)\n",
    "w2 = np.arange(12,24).reshape(3,4)"
   ]
  },
  {
   "cell_type": "code",
   "execution_count": 394,
   "metadata": {},
   "outputs": [
    {
     "data": {
      "text/plain": [
       "array([[ 0,  1,  2,  3, 12, 13, 14, 15],\n",
       "       [ 4,  5,  6,  7, 16, 17, 18, 19],\n",
       "       [ 8,  9, 10, 11, 20, 21, 22, 23]])"
      ]
     },
     "execution_count": 394,
     "metadata": {},
     "output_type": "execute_result"
    }
   ],
   "source": [
    "np.hstack((w1,w2))"
   ]
  },
  {
   "cell_type": "code",
   "execution_count": 395,
   "metadata": {},
   "outputs": [
    {
     "data": {
      "text/plain": [
       "array([[ 0,  1,  2,  3],\n",
       "       [ 4,  5,  6,  7],\n",
       "       [ 8,  9, 10, 11],\n",
       "       [12, 13, 14, 15],\n",
       "       [16, 17, 18, 19],\n",
       "       [20, 21, 22, 23]])"
      ]
     },
     "execution_count": 395,
     "metadata": {},
     "output_type": "execute_result"
    }
   ],
   "source": [
    "np.vstack((w1,w2))"
   ]
  },
  {
   "cell_type": "markdown",
   "metadata": {},
   "source": [
    "#### **Splitting:**\n",
    "- its opposite of Stacking\n",
    "- Splitting arrays can be done with `np.split()`, `np.vsplit()`, and `np.hsplit()`."
   ]
  },
  {
   "cell_type": "code",
   "execution_count": 396,
   "metadata": {},
   "outputs": [
    {
     "data": {
      "text/plain": [
       "[array([1, 2]), array([3, 4]), array([5, 6])]"
      ]
     },
     "execution_count": 396,
     "metadata": {},
     "output_type": "execute_result"
    }
   ],
   "source": [
    "arr1 = np.array([1,2,3,4,5,6])\n",
    "splitting = np.split(arr1, 3)\n",
    "splitting"
   ]
  },
  {
   "cell_type": "code",
   "execution_count": 397,
   "metadata": {},
   "outputs": [
    {
     "data": {
      "text/plain": [
       "[array([[0, 1],\n",
       "        [4, 5],\n",
       "        [8, 9]]),\n",
       " array([[ 2,  3],\n",
       "        [ 6,  7],\n",
       "        [10, 11]])]"
      ]
     },
     "execution_count": 397,
     "metadata": {},
     "output_type": "execute_result"
    }
   ],
   "source": [
    "np.hsplit(w1,2)"
   ]
  },
  {
   "cell_type": "code",
   "execution_count": 398,
   "metadata": {},
   "outputs": [
    {
     "data": {
      "text/plain": [
       "[array([[12, 13, 14, 15]]),\n",
       " array([[16, 17, 18, 19]]),\n",
       " array([[20, 21, 22, 23]])]"
      ]
     },
     "execution_count": 398,
     "metadata": {},
     "output_type": "execute_result"
    }
   ],
   "source": [
    "np.vsplit(w2,3)"
   ]
  },
  {
   "cell_type": "code",
   "execution_count": 399,
   "metadata": {},
   "outputs": [
    {
     "data": {
      "text/plain": [
       "[array([1, 2]), array([3, 4]), array([5, 6])]"
      ]
     },
     "execution_count": 399,
     "metadata": {},
     "output_type": "execute_result"
    }
   ],
   "source": [
    "arr1 = np.array([1,2,3,4,5,6])\n",
    "splitting_h= np.hsplit(arr1, 3)\n",
    "splitting_h"
   ]
  },
  {
   "cell_type": "code",
   "execution_count": 400,
   "metadata": {},
   "outputs": [
    {
     "data": {
      "text/plain": [
       "[array([[1, 3, 6]]), array([[5, 8, 9]]), array([[5, 5, 6]])]"
      ]
     },
     "execution_count": 400,
     "metadata": {},
     "output_type": "execute_result"
    }
   ],
   "source": [
    "a = np.array([[1,3,6],[5,8,9],[5,5,6]])\n",
    "np.vsplit(a,3)"
   ]
  },
  {
   "cell_type": "markdown",
   "metadata": {},
   "source": [
    "### **Boolean Indexing and Fancy Indexing:**\n",
    "It allows you to select elements from an array based on a Boolean condition. This allows you to extract only the elements of an array that meet a certain condition, making it easy to perform operations on specific subsets of data."
   ]
  },
  {
   "cell_type": "code",
   "execution_count": 401,
   "metadata": {},
   "outputs": [
    {
     "name": "stdout",
     "output_type": "stream",
     "text": [
      "[False False  True  True  True]\n"
     ]
    },
    {
     "data": {
      "text/plain": [
       "(array([30, 40, 50]), array([10, 30, 50]))"
      ]
     },
     "execution_count": 401,
     "metadata": {},
     "output_type": "execute_result"
    }
   ],
   "source": [
    "arr = np.array([10, 20, 30, 40, 50])\n",
    "bool_idx = arr > 25\n",
    "print(bool_idx)\n",
    "selected_elements = arr[bool_idx]\n",
    "\n",
    "indices = np.array([0, 2, 4])\n",
    "fancy_selected = arr[indices]\n",
    "\n",
    "selected_elements,fancy_selected\n"
   ]
  },
  {
   "cell_type": "code",
   "execution_count": 402,
   "metadata": {},
   "outputs": [
    {
     "data": {
      "text/plain": [
       "array([[71, 48, 82,  9],\n",
       "       [33, 98, 28, 61],\n",
       "       [77, 77, 25, 98],\n",
       "       [88, 64, 25, 84],\n",
       "       [15,  7, 26, 59],\n",
       "       [75, 52, 69, 91]])"
      ]
     },
     "execution_count": 402,
     "metadata": {},
     "output_type": "execute_result"
    }
   ],
   "source": [
    "G = np.random.randint(1,100,24).reshape(6,4)\n",
    "G"
   ]
  },
  {
   "cell_type": "code",
   "execution_count": 403,
   "metadata": {},
   "outputs": [
    {
     "data": {
      "text/plain": [
       "array([71, 82, 98, 61, 77, 77, 98, 88, 64, 84, 59, 75, 52, 69, 91])"
      ]
     },
     "execution_count": 403,
     "metadata": {},
     "output_type": "execute_result"
    }
   ],
   "source": [
    "# Where is True , it gives result , everything other that removed.\n",
    "G[G > 50]"
   ]
  },
  {
   "cell_type": "code",
   "execution_count": 404,
   "metadata": {},
   "outputs": [
    {
     "data": {
      "text/plain": [
       "array([48, 82, 98, 28, 98, 88, 64, 84, 26, 52])"
      ]
     },
     "execution_count": 404,
     "metadata": {},
     "output_type": "execute_result"
    }
   ],
   "source": [
    "# find out even numbers\n",
    "G % 2 == 0\n",
    "G[G % 2 == 0]"
   ]
  },
  {
   "cell_type": "code",
   "execution_count": 405,
   "metadata": {},
   "outputs": [
    {
     "data": {
      "text/plain": [
       "array([82, 98, 98, 88, 64, 84, 52])"
      ]
     },
     "execution_count": 405,
     "metadata": {},
     "output_type": "execute_result"
    }
   ],
   "source": [
    "# find all numbers greater than 50 and are even\n",
    "G[(G > 50 ) & (G % 2 == 0)] "
   ]
  },
  {
   "cell_type": "code",
   "execution_count": 406,
   "metadata": {},
   "outputs": [
    {
     "data": {
      "text/plain": [
       "array([71, 48, 82,  9, 33, 61, 25, 88, 64, 25, 15, 26, 59, 75, 52, 69])"
      ]
     },
     "execution_count": 406,
     "metadata": {},
     "output_type": "execute_result"
    }
   ],
   "source": [
    "# Result\n",
    "G[~(G % 7 == 0)] # (~) = Not"
   ]
  },
  {
   "cell_type": "markdown",
   "metadata": {},
   "source": [
    "### **Array Broadcasting:**\n",
    "Broadcasting allows you to perform operations between arrays of different shapes. \n",
    "\n",
    "NumPy automatically handles shape compatibility by replicating values along dimensions as needed. This is particularly useful for operations that involve arrays of different shapes."
   ]
  },
  {
   "cell_type": "code",
   "execution_count": 407,
   "metadata": {},
   "outputs": [
    {
     "data": {
      "text/plain": [
       "array([ 5, 10, 15, 20, 25])"
      ]
     },
     "execution_count": 407,
     "metadata": {},
     "output_type": "execute_result"
    }
   ],
   "source": [
    "# Scalar and Array Broadcasting\n",
    "scalar = 5\n",
    "array = np.array([1, 2, 3, 4, 5])\n",
    "result_scalar_array = scalar * array\n",
    "result_scalar_array"
   ]
  },
  {
   "cell_type": "code",
   "execution_count": 408,
   "metadata": {},
   "outputs": [
    {
     "data": {
      "text/plain": [
       "((2, 3),\n",
       " (3,),\n",
       " array([[11, 22, 33],\n",
       "        [14, 25, 36]]))"
      ]
     },
     "execution_count": 408,
     "metadata": {},
     "output_type": "execute_result"
    }
   ],
   "source": [
    "# Arrays of Different Shapes\n",
    "arr1 = np.array([[1, 2, 3], [4, 5, 6]])\n",
    "arr1.shape\n",
    "arr2 = np.array([10, 20, 30])\n",
    "result_broadcasting = arr1 + arr2\n",
    "arr1.shape,arr2.shape,result_broadcasting"
   ]
  },
  {
   "cell_type": "markdown",
   "metadata": {},
   "source": [
    "### **Plotting Graph**"
   ]
  },
  {
   "cell_type": "code",
   "execution_count": 409,
   "metadata": {},
   "outputs": [
    {
     "data": {
      "image/png": "[encoded data removed]",
      "text/plain": [
       "<Figure size 640x480 with 1 Axes>"
      ]
     },
     "metadata": {},
     "output_type": "display_data"
    }
   ],
   "source": [
    "import matplotlib.pyplot as plt\n",
    "\n",
    "x =np.linspace(-10,10,100)\n",
    "y=x\n",
    "\n",
    "plt.plot(x,y)\n",
    "plt.show()"
   ]
  },
  {
   "cell_type": "markdown",
   "metadata": {},
   "source": [
    "### **File I/O with NumPy:**\n",
    "You can save and load arrays to/from files using np.save() and np.load(). For instance:"
   ]
  },
  {
   "cell_type": "code",
   "execution_count": 410,
   "metadata": {},
   "outputs": [],
   "source": [
    "arr = np.array([1, 2, 3, 4, 5])\n",
    "np.save('my_array.npy', arr)"
   ]
  },
  {
   "cell_type": "code",
   "execution_count": 411,
   "metadata": {},
   "outputs": [
    {
     "data": {
      "text/plain": [
       "array([1, 2, 3, 4, 5])"
      ]
     },
     "execution_count": 411,
     "metadata": {},
     "output_type": "execute_result"
    }
   ],
   "source": [
    "loaded_arr = np.load('my_array.npy')\n",
    "loaded_arr"
   ]
  },
  {
   "cell_type": "code",
   "execution_count": 412,
   "metadata": {},
   "outputs": [
    {
     "data": {
      "text/plain": [
       "array([[0., 1.],\n",
       "       [2., 3.]])"
      ]
     },
     "execution_count": 412,
     "metadata": {},
     "output_type": "execute_result"
    }
   ],
   "source": [
    "from io import StringIO\n",
    "\n",
    "c = StringIO(\"0 1\\n2 3\")\n",
    "np.loadtxt(c)"
   ]
  },
  {
   "cell_type": "code",
   "execution_count": 413,
   "metadata": {},
   "outputs": [
    {
     "data": {
      "text/plain": [
       "array([(b'M', 21, 72.), (b'F', 35, 58.)],\n",
       "      dtype=[('gender', 'S1'), ('age', '<i4'), ('weight', '<f4')])"
      ]
     },
     "execution_count": 413,
     "metadata": {},
     "output_type": "execute_result"
    }
   ],
   "source": [
    "d = StringIO(\"M 21 72\\nF 35 58\")\n",
    "np.loadtxt(d, dtype={'names': ('gender', 'age', 'weight'),\n",
    "                     'formats': ('S1', 'i4', 'f4')})"
   ]
  },
  {
   "cell_type": "markdown",
   "metadata": {},
   "source": [
    "### NumPy in Data Analysis:\n",
    "NumPy is often used in combination with libraries like Pandas for data manipulation and Matplotlib for data visualization. You can work with data in NumPy arrays and then analyze and visualize it using these other libraries."
   ]
  },
  {
   "cell_type": "markdown",
   "metadata": {},
   "source": [
    "### **Questions**\n",
    "<p>\n",
    "<li>Given an array [3, 1, 4, 1, 5, 9, 2, 6, 5, 3, 5], find the unique elements and their counts.</li>\n",
    "<li>Create a diagonal matrix with the elements [2, 4, 6] on the diagonal.</li>\n",
    "<li>Given a 2D array, swap the first and second rows</li>\n",
    "<li>Find the index of the maximum value in the array [8, 3, 7, 1, 2, 6, 5].</li>\n",
    "<li>Given a 1D array, find the indices where the values are even.</li>\n",
    "<li>Create a 5x5 matrix with 1 on the border and 0 inside.</li>\n",
    "<li>Given two arrays [1, 2, 3] and [4, 5, 6], perform element-wise multiplication.</li>\n",
    "<li>Count the number of elements greater than 3 in the array [1, 4, 2, 7, 5, 0].</li>\n",
    "<li>Reshape the array [1, 2, 3, 4] into a 2x2 matrix.</li>\n",
    "<li>Given two matrices A and B, check if they are element-wise equal. A = [[1, 2], [3, 4]] B = [[1, 2], [3, 4]]</li>\n",
    "<li>Calculate the mean along each row of a 2D array.[[1, 2, 3], [4, 5, 6], [7, 8, 9]]</li>\n",
    "<li>Replace all odd numbers in the array [10, 15, 20, 25, 30] with -1.</li>\n",
    "</p>"
   ]
  }
 ],
 "metadata": {
  "kernelspec": {
   "display_name": "Python 3",
   "language": "python",
   "name": "python3"
  },
  "language_info": {
   "codemirror_mode": {
    "name": "ipython",
    "version": 3
   },
   "file_extension": ".py",
   "mimetype": "text/x-python",
   "name": "python",
   "nbconvert_exporter": "python",
   "pygments_lexer": "ipython3",
   "version": "3.12.2"
  }
 },
 "nbformat": 4,
 "nbformat_minor": 4
}
