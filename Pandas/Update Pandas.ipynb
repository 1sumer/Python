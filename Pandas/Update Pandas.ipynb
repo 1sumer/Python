{
 "cells": [
  {
   "cell_type": "code",
   "execution_count": 1,
   "metadata": {},
   "outputs": [],
   "source": [
    "#pip install pandas"
   ]
  },
  {
   "cell_type": "code",
   "execution_count": 2,
   "metadata": {},
   "outputs": [],
   "source": [
    "import pandas as pd\n",
    "\n",
    "import warnings\n",
    "warnings.filterwarnings('ignore')"
   ]
  },
  {
   "cell_type": "markdown",
   "metadata": {},
   "source": [
    "Pandas is an open-source data manipulation and analysis library for Python. It provides data structures for efficiently handling large datasets and tools for working with structured data. Here's an overview of key aspects of the Pandas library:\n",
    "\n",
    "1. Data Structures:\n",
    "\n",
    "Series: A one-dimensional array capable of holding any data type. It's similar to a column in a spreadsheet or a single variable in statistics.\n",
    "\n",
    "DataFrame: A two-dimensional table with rows and columns. It can be thought of as a spreadsheet or SQL table, where each column can be a different data type.\n",
    "\n",
    "2. Data Loading and Saving:\n",
    "\n",
    "Pandas provides functions to read data from various file formats such as CSV, Excel, SQL databases, JSON, and more.\n",
    "\n",
    "It also allows you to write data back to these formats.\n",
    "\n",
    "3. Data Cleaning and Preparation:\n",
    "\n",
    "Pandas offers powerful tools for cleaning and preparing data, including handling missing values, filtering, sorting, and merging datasets.\n",
    "\n",
    "Methods like dropna(), fillna(), and duplicated() are commonly used for data cleaning.\n",
    "\n",
    "4. Indexing and Selecting Data:\n",
    "\n",
    "Pandas uses labels for indexing and selecting data. The loc and iloc attributes are commonly used for label-based and integer-based indexing, respectively.\n",
    "\n",
    "Conditional indexing is a powerful feature for selecting specific subsets of data.\n",
    "\n",
    "5. Operations and Transformations:\n",
    "\n",
    "Pandas supports element-wise operations between series and dataframes, similar to NumPy.\n",
    "\n",
    "It provides various statistical and mathematical operations, along with methods like groupby for aggregating data.\n",
    "\n",
    "6. Visualization:\n",
    "\n",
    "While Pandas itself is not a visualization library, it integrates well with Matplotlib and Seaborn for creating visualizations.\n",
    "\n",
    "DataFrames have built-in plotting methods for quick exploratory data visualization.\n",
    "\n",
    "7. Integration with Other Libraries:\n",
    "\n",
    "Pandas is often used in conjunction with other libraries like NumPy, Matplotlib, and Scikit-Learn to form a powerful data analysis and machine learning toolkit.\n",
    "\n",
    "8. Use Cases:\n",
    "\n",
    "Pandas is widely used for data cleaning, exploration, and analysis in fields such as finance, economics, social sciences, and more.\n",
    "\n",
    "It is a foundational tool for data scientists, analysts, and researchers working with structured data.\n",
    "\n",
    "Pandas is a versatile library that plays a crucial role in the Python ecosystem for data analysis. Its flexibility and ease of use make it a popular choice for handling and analyzing tabular data."
   ]
  },
  {
   "cell_type": "markdown",
   "metadata": {},
   "source": [
    "Series:\n",
    "\n",
    "A Series is a one-dimensional array-like object in Pandas.\n",
    "\n",
    "It is similar to a column in a spreadsheet or a single variable in statistics.\n",
    "\n",
    "Each element in a Series has an associated index, which can be explicitly set or is automatically generated.\n",
    "\n",
    "You can create a Series from a Python list, NumPy array, or dictionary.\n",
    "\n",
    "### 1. Series \n",
    "A Pandas  Series  is a one-dimensional array of indexed data. \n",
    "#### Syntax : pd.Series(data, index=index)"
   ]
  },
  {
   "cell_type": "code",
   "execution_count": 3,
   "metadata": {},
   "outputs": [],
   "source": [
    "import pandas as pd\n",
    "from pandas import pandas\n",
    "from pandas import *\n",
    "import pandas\n",
    "\n",
    "import numpy as np"
   ]
  },
  {
   "cell_type": "code",
   "execution_count": 4,
   "metadata": {},
   "outputs": [
    {
     "data": {
      "text/plain": [
       "a    1.0\n",
       "b    3.0\n",
       "c    5.0\n",
       "d    NaN\n",
       "e    6.0\n",
       "f    8.0\n",
       "dtype: float64"
      ]
     },
     "execution_count": 4,
     "metadata": {},
     "output_type": "execute_result"
    }
   ],
   "source": [
    "# Creating a Series from a list\n",
    "s = pd.Series([1, 3, 5, None, 6, 8], index=['a', 'b', 'c', 'd', 'e', 'f'])\n",
    "s\n",
    "#In this example, the index is automatically generated, and the data consists of integers and a NaN (representing a missing value)."
   ]
  },
  {
   "cell_type": "code",
   "execution_count": 5,
   "metadata": {},
   "outputs": [
    {
     "data": {
      "text/plain": [
       "count    5.000000\n",
       "mean     4.600000\n",
       "std      2.701851\n",
       "min      1.000000\n",
       "25%      3.000000\n",
       "50%      5.000000\n",
       "75%      6.000000\n",
       "max      8.000000\n",
       "dtype: float64"
      ]
     },
     "execution_count": 5,
     "metadata": {},
     "output_type": "execute_result"
    }
   ],
   "source": [
    "s.describe().T # statstical discription"
   ]
  },
  {
   "cell_type": "code",
   "execution_count": 6,
   "metadata": {},
   "outputs": [
    {
     "name": "stdout",
     "output_type": "stream",
     "text": [
      "<class 'pandas.core.series.Series'>\n",
      "Index: 6 entries, a to f\n",
      "Series name: None\n",
      "Non-Null Count  Dtype  \n",
      "--------------  -----  \n",
      "5 non-null      float64\n",
      "dtypes: float64(1)\n",
      "memory usage: 268.0+ bytes\n"
     ]
    }
   ],
   "source": [
    "s.info() # information of the dataset"
   ]
  },
  {
   "cell_type": "markdown",
   "metadata": {},
   "source": [
    "DataFrame:\n",
    "\n",
    "A DataFrame is a two-dimensional table with rows and columns, similar to a spreadsheet or a SQL table.\n",
    "\n",
    "It is the primary data structure in Pandas and is used for most data manipulation and analysis tasks.\n",
    "\n",
    "Each column in a DataFrame is a Series.\n",
    "\n",
    "DataFrame allows you to handle heterogeneous data types and supports a wide range of operations.\n",
    "\n",
    "### 2. Dataframes\n",
    "\n",
    "An effective object/data structure offered by PANDAS that allows us to handle the tabular form of data(which is basically what we get to work with on a day to day basis)\n",
    "\n",
    "#### Syntax : pandas.DataFrame(data=None, index=None, columns=None, dtype=None, copy=None)"
   ]
  },
  {
   "cell_type": "code",
   "execution_count": 7,
   "metadata": {},
   "outputs": [
    {
     "data": {
      "text/html": [
       "<div>\n",
       "<style scoped>\n",
       "    .dataframe tbody tr th:only-of-type {\n",
       "        vertical-align: middle;\n",
       "    }\n",
       "\n",
       "    .dataframe tbody tr th {\n",
       "        vertical-align: top;\n",
       "    }\n",
       "\n",
       "    .dataframe thead th {\n",
       "        text-align: right;\n",
       "    }\n",
       "</style>\n",
       "<table border=\"1\" class=\"dataframe\">\n",
       "  <thead>\n",
       "    <tr style=\"text-align: right;\">\n",
       "      <th></th>\n",
       "      <th>Name</th>\n",
       "      <th>Age</th>\n",
       "      <th>City</th>\n",
       "      <th>Salary</th>\n",
       "      <th>Date</th>\n",
       "      <th>Category</th>\n",
       "    </tr>\n",
       "  </thead>\n",
       "  <tbody>\n",
       "    <tr>\n",
       "      <th>0</th>\n",
       "      <td>Alice</td>\n",
       "      <td>45.0</td>\n",
       "      <td>New York</td>\n",
       "      <td>95445.0</td>\n",
       "      <td>2023-01-01</td>\n",
       "      <td>A</td>\n",
       "    </tr>\n",
       "    <tr>\n",
       "      <th>1</th>\n",
       "      <td>Bob</td>\n",
       "      <td>58.0</td>\n",
       "      <td>London</td>\n",
       "      <td>86235.0</td>\n",
       "      <td>2023-01-02</td>\n",
       "      <td>B</td>\n",
       "    </tr>\n",
       "    <tr>\n",
       "      <th>2</th>\n",
       "      <td>Charlie</td>\n",
       "      <td>60.0</td>\n",
       "      <td>Tokyo</td>\n",
       "      <td>62330.0</td>\n",
       "      <td>2023-01-03</td>\n",
       "      <td>C</td>\n",
       "    </tr>\n",
       "    <tr>\n",
       "      <th>3</th>\n",
       "      <td>David</td>\n",
       "      <td>28.0</td>\n",
       "      <td>Paris</td>\n",
       "      <td>46022.0</td>\n",
       "      <td>2023-01-04</td>\n",
       "      <td>A</td>\n",
       "    </tr>\n",
       "    <tr>\n",
       "      <th>4</th>\n",
       "      <td>Eva</td>\n",
       "      <td>49.0</td>\n",
       "      <td>Berlin</td>\n",
       "      <td>65999.0</td>\n",
       "      <td>2023-01-05</td>\n",
       "      <td>B</td>\n",
       "    </tr>\n",
       "    <tr>\n",
       "      <th>5</th>\n",
       "      <td>Frank</td>\n",
       "      <td>67.0</td>\n",
       "      <td>Paris</td>\n",
       "      <td>88320.0</td>\n",
       "      <td>2023-01-06</td>\n",
       "      <td>A</td>\n",
       "    </tr>\n",
       "    <tr>\n",
       "      <th>6</th>\n",
       "      <td>Grace</td>\n",
       "      <td>NaN</td>\n",
       "      <td>Berlin</td>\n",
       "      <td>57141.0</td>\n",
       "      <td>2023-01-07</td>\n",
       "      <td>C</td>\n",
       "    </tr>\n",
       "    <tr>\n",
       "      <th>7</th>\n",
       "      <td>Hannah</td>\n",
       "      <td>60.0</td>\n",
       "      <td>New York</td>\n",
       "      <td>65413.0</td>\n",
       "      <td>2023-01-08</td>\n",
       "      <td>B</td>\n",
       "    </tr>\n",
       "    <tr>\n",
       "      <th>8</th>\n",
       "      <td>Ivan</td>\n",
       "      <td>37.0</td>\n",
       "      <td>Tokyo</td>\n",
       "      <td>87016.0</td>\n",
       "      <td>2023-01-09</td>\n",
       "      <td>A</td>\n",
       "    </tr>\n",
       "    <tr>\n",
       "      <th>9</th>\n",
       "      <td>Jack</td>\n",
       "      <td>31.0</td>\n",
       "      <td>London</td>\n",
       "      <td>58725.0</td>\n",
       "      <td>2023-01-10</td>\n",
       "      <td>B</td>\n",
       "    </tr>\n",
       "    <tr>\n",
       "      <th>10</th>\n",
       "      <td>Ivan</td>\n",
       "      <td>37.0</td>\n",
       "      <td>Tokyo</td>\n",
       "      <td>87016.0</td>\n",
       "      <td>2023-01-09</td>\n",
       "      <td>A</td>\n",
       "    </tr>\n",
       "    <tr>\n",
       "      <th>11</th>\n",
       "      <td>Jack</td>\n",
       "      <td>31.0</td>\n",
       "      <td>London</td>\n",
       "      <td>58725.0</td>\n",
       "      <td>2023-01-10</td>\n",
       "      <td>B</td>\n",
       "    </tr>\n",
       "    <tr>\n",
       "      <th>12</th>\n",
       "      <td>Grace</td>\n",
       "      <td>29.0</td>\n",
       "      <td>Berlin</td>\n",
       "      <td>57141.0</td>\n",
       "      <td>2023-01-07</td>\n",
       "      <td>None</td>\n",
       "    </tr>\n",
       "    <tr>\n",
       "      <th>13</th>\n",
       "      <td>Hannah</td>\n",
       "      <td>60.0</td>\n",
       "      <td>New York</td>\n",
       "      <td>NaN</td>\n",
       "      <td>2023-01-08</td>\n",
       "      <td>B</td>\n",
       "    </tr>\n",
       "  </tbody>\n",
       "</table>\n",
       "</div>"
      ],
      "text/plain": [
       "       Name   Age      City   Salary        Date Category\n",
       "0     Alice  45.0  New York  95445.0  2023-01-01        A\n",
       "1       Bob  58.0    London  86235.0  2023-01-02        B\n",
       "2   Charlie  60.0     Tokyo  62330.0  2023-01-03        C\n",
       "3     David  28.0     Paris  46022.0  2023-01-04        A\n",
       "4       Eva  49.0    Berlin  65999.0  2023-01-05        B\n",
       "5     Frank  67.0     Paris  88320.0  2023-01-06        A\n",
       "6     Grace   NaN    Berlin  57141.0  2023-01-07        C\n",
       "7    Hannah  60.0  New York  65413.0  2023-01-08        B\n",
       "8      Ivan  37.0     Tokyo  87016.0  2023-01-09        A\n",
       "9      Jack  31.0    London  58725.0  2023-01-10        B\n",
       "10     Ivan  37.0     Tokyo  87016.0  2023-01-09        A\n",
       "11     Jack  31.0    London  58725.0  2023-01-10        B\n",
       "12    Grace  29.0    Berlin  57141.0  2023-01-07     None\n",
       "13   Hannah  60.0  New York      NaN  2023-01-08        B"
      ]
     },
     "execution_count": 7,
     "metadata": {},
     "output_type": "execute_result"
    }
   ],
   "source": [
    "# Creating a DataFrame from a dictionary\n",
    "# Sample data for the DataFrame\n",
    "data = {\n",
    "    'Name': ['Alice', 'Bob', 'Charlie', 'David', 'Eva', 'Frank', 'Grace', 'Hannah', 'Ivan', 'Jack', 'Ivan', 'Jack', 'Grace', 'Hannah'],  \n",
    "    'Age': [45, 58, 60, 28, 49, 67, None, 60, 37, 31, 37, 31, 29, 60],  \n",
    "    'City': ['New York', 'London', 'Tokyo', 'Paris', 'Berlin', 'Paris', 'Berlin', 'New York', 'Tokyo', 'London', 'Tokyo', 'London', 'Berlin', 'New York'],  \n",
    "    'Salary': [95445, 86235, 62330, 46022, 65999, 88320, 57141, 65413, 87016, 58725, 87016, 58725, 57141, None],  \n",
    "    'Date': ['2023-01-01', '2023-01-02', '2023-01-03', '2023-01-04', '2023-01-05', '2023-01-06', '2023-01-07', '2023-01-08', '2023-01-09', '2023-01-10', '2023-01-09', '2023-01-10', '2023-01-07', '2023-01-08'],  \n",
    "    'Category': ['A', 'B', 'C', 'A', 'B', 'A', 'C', 'B', 'A', 'B', 'A', 'B', None, 'B']  \n",
    "}\n",
    "\n",
    "df = pd.DataFrame(data)\n",
    "df"
   ]
  },
  {
   "cell_type": "code",
   "execution_count": 8,
   "metadata": {},
   "outputs": [],
   "source": [
    "# Set pandas to display all rows\n",
    "pd.set_option('display.max_rows', None)\n",
    "\n",
    "# Set pandas to display all columns\n",
    "pd.set_option('display.max_columns', None)"
   ]
  },
  {
   "cell_type": "code",
   "execution_count": 9,
   "metadata": {},
   "outputs": [
    {
     "data": {
      "text/html": [
       "<div>\n",
       "<style scoped>\n",
       "    .dataframe tbody tr th:only-of-type {\n",
       "        vertical-align: middle;\n",
       "    }\n",
       "\n",
       "    .dataframe tbody tr th {\n",
       "        vertical-align: top;\n",
       "    }\n",
       "\n",
       "    .dataframe thead th {\n",
       "        text-align: right;\n",
       "    }\n",
       "</style>\n",
       "<table border=\"1\" class=\"dataframe\">\n",
       "  <thead>\n",
       "    <tr style=\"text-align: right;\">\n",
       "      <th></th>\n",
       "      <th>Name</th>\n",
       "      <th>Age</th>\n",
       "      <th>City</th>\n",
       "      <th>Salary</th>\n",
       "      <th>Date</th>\n",
       "      <th>Category</th>\n",
       "    </tr>\n",
       "  </thead>\n",
       "  <tbody>\n",
       "    <tr>\n",
       "      <th>0</th>\n",
       "      <td>Alice</td>\n",
       "      <td>45.0</td>\n",
       "      <td>New York</td>\n",
       "      <td>95445.0</td>\n",
       "      <td>2023-01-01</td>\n",
       "      <td>A</td>\n",
       "    </tr>\n",
       "    <tr>\n",
       "      <th>1</th>\n",
       "      <td>Bob</td>\n",
       "      <td>58.0</td>\n",
       "      <td>London</td>\n",
       "      <td>86235.0</td>\n",
       "      <td>2023-01-02</td>\n",
       "      <td>B</td>\n",
       "    </tr>\n",
       "    <tr>\n",
       "      <th>2</th>\n",
       "      <td>Charlie</td>\n",
       "      <td>60.0</td>\n",
       "      <td>Tokyo</td>\n",
       "      <td>62330.0</td>\n",
       "      <td>2023-01-03</td>\n",
       "      <td>C</td>\n",
       "    </tr>\n",
       "    <tr>\n",
       "      <th>3</th>\n",
       "      <td>David</td>\n",
       "      <td>28.0</td>\n",
       "      <td>Paris</td>\n",
       "      <td>46022.0</td>\n",
       "      <td>2023-01-04</td>\n",
       "      <td>A</td>\n",
       "    </tr>\n",
       "    <tr>\n",
       "      <th>4</th>\n",
       "      <td>Eva</td>\n",
       "      <td>49.0</td>\n",
       "      <td>Berlin</td>\n",
       "      <td>65999.0</td>\n",
       "      <td>2023-01-05</td>\n",
       "      <td>B</td>\n",
       "    </tr>\n",
       "  </tbody>\n",
       "</table>\n",
       "</div>"
      ],
      "text/plain": [
       "      Name   Age      City   Salary        Date Category\n",
       "0    Alice  45.0  New York  95445.0  2023-01-01        A\n",
       "1      Bob  58.0    London  86235.0  2023-01-02        B\n",
       "2  Charlie  60.0     Tokyo  62330.0  2023-01-03        C\n",
       "3    David  28.0     Paris  46022.0  2023-01-04        A\n",
       "4      Eva  49.0    Berlin  65999.0  2023-01-05        B"
      ]
     },
     "execution_count": 9,
     "metadata": {},
     "output_type": "execute_result"
    }
   ],
   "source": [
    "df.head()"
   ]
  },
  {
   "cell_type": "code",
   "execution_count": 10,
   "metadata": {},
   "outputs": [
    {
     "data": {
      "text/html": [
       "<div>\n",
       "<style scoped>\n",
       "    .dataframe tbody tr th:only-of-type {\n",
       "        vertical-align: middle;\n",
       "    }\n",
       "\n",
       "    .dataframe tbody tr th {\n",
       "        vertical-align: top;\n",
       "    }\n",
       "\n",
       "    .dataframe thead th {\n",
       "        text-align: right;\n",
       "    }\n",
       "</style>\n",
       "<table border=\"1\" class=\"dataframe\">\n",
       "  <thead>\n",
       "    <tr style=\"text-align: right;\">\n",
       "      <th></th>\n",
       "      <th>Name</th>\n",
       "      <th>Age</th>\n",
       "      <th>City</th>\n",
       "      <th>Salary</th>\n",
       "      <th>Date</th>\n",
       "      <th>Category</th>\n",
       "    </tr>\n",
       "  </thead>\n",
       "  <tbody>\n",
       "    <tr>\n",
       "      <th>9</th>\n",
       "      <td>Jack</td>\n",
       "      <td>31.0</td>\n",
       "      <td>London</td>\n",
       "      <td>58725.0</td>\n",
       "      <td>2023-01-10</td>\n",
       "      <td>B</td>\n",
       "    </tr>\n",
       "    <tr>\n",
       "      <th>10</th>\n",
       "      <td>Ivan</td>\n",
       "      <td>37.0</td>\n",
       "      <td>Tokyo</td>\n",
       "      <td>87016.0</td>\n",
       "      <td>2023-01-09</td>\n",
       "      <td>A</td>\n",
       "    </tr>\n",
       "    <tr>\n",
       "      <th>11</th>\n",
       "      <td>Jack</td>\n",
       "      <td>31.0</td>\n",
       "      <td>London</td>\n",
       "      <td>58725.0</td>\n",
       "      <td>2023-01-10</td>\n",
       "      <td>B</td>\n",
       "    </tr>\n",
       "    <tr>\n",
       "      <th>12</th>\n",
       "      <td>Grace</td>\n",
       "      <td>29.0</td>\n",
       "      <td>Berlin</td>\n",
       "      <td>57141.0</td>\n",
       "      <td>2023-01-07</td>\n",
       "      <td>None</td>\n",
       "    </tr>\n",
       "    <tr>\n",
       "      <th>13</th>\n",
       "      <td>Hannah</td>\n",
       "      <td>60.0</td>\n",
       "      <td>New York</td>\n",
       "      <td>NaN</td>\n",
       "      <td>2023-01-08</td>\n",
       "      <td>B</td>\n",
       "    </tr>\n",
       "  </tbody>\n",
       "</table>\n",
       "</div>"
      ],
      "text/plain": [
       "      Name   Age      City   Salary        Date Category\n",
       "9     Jack  31.0    London  58725.0  2023-01-10        B\n",
       "10    Ivan  37.0     Tokyo  87016.0  2023-01-09        A\n",
       "11    Jack  31.0    London  58725.0  2023-01-10        B\n",
       "12   Grace  29.0    Berlin  57141.0  2023-01-07     None\n",
       "13  Hannah  60.0  New York      NaN  2023-01-08        B"
      ]
     },
     "execution_count": 10,
     "metadata": {},
     "output_type": "execute_result"
    }
   ],
   "source": [
    "df.tail()"
   ]
  },
  {
   "cell_type": "code",
   "execution_count": 11,
   "metadata": {},
   "outputs": [],
   "source": [
    "df.to_csv('data.csv', index=False)\n",
    "# df.to_excel('data.xlsx', index=False, sheet_name='Sheet1')\n",
    "# df.to_json('data.json', orient='records')\n",
    "# df.to_sql('my_table', engine, index=False, if_exists='replace')"
   ]
  },
  {
   "cell_type": "code",
   "execution_count": 12,
   "metadata": {},
   "outputs": [
    {
     "data": {
      "text/html": [
       "<div>\n",
       "<style scoped>\n",
       "    .dataframe tbody tr th:only-of-type {\n",
       "        vertical-align: middle;\n",
       "    }\n",
       "\n",
       "    .dataframe tbody tr th {\n",
       "        vertical-align: top;\n",
       "    }\n",
       "\n",
       "    .dataframe thead th {\n",
       "        text-align: right;\n",
       "    }\n",
       "</style>\n",
       "<table border=\"1\" class=\"dataframe\">\n",
       "  <thead>\n",
       "    <tr style=\"text-align: right;\">\n",
       "      <th></th>\n",
       "      <th>Name</th>\n",
       "      <th>Age</th>\n",
       "      <th>City</th>\n",
       "      <th>Salary</th>\n",
       "      <th>Date</th>\n",
       "      <th>Category</th>\n",
       "    </tr>\n",
       "  </thead>\n",
       "  <tbody>\n",
       "    <tr>\n",
       "      <th>0</th>\n",
       "      <td>Alice</td>\n",
       "      <td>45.0</td>\n",
       "      <td>New York</td>\n",
       "      <td>95445.0</td>\n",
       "      <td>2023-01-01</td>\n",
       "      <td>A</td>\n",
       "    </tr>\n",
       "    <tr>\n",
       "      <th>1</th>\n",
       "      <td>Bob</td>\n",
       "      <td>58.0</td>\n",
       "      <td>London</td>\n",
       "      <td>86235.0</td>\n",
       "      <td>2023-01-02</td>\n",
       "      <td>B</td>\n",
       "    </tr>\n",
       "    <tr>\n",
       "      <th>2</th>\n",
       "      <td>Charlie</td>\n",
       "      <td>60.0</td>\n",
       "      <td>Tokyo</td>\n",
       "      <td>62330.0</td>\n",
       "      <td>2023-01-03</td>\n",
       "      <td>C</td>\n",
       "    </tr>\n",
       "    <tr>\n",
       "      <th>3</th>\n",
       "      <td>David</td>\n",
       "      <td>28.0</td>\n",
       "      <td>Paris</td>\n",
       "      <td>46022.0</td>\n",
       "      <td>2023-01-04</td>\n",
       "      <td>A</td>\n",
       "    </tr>\n",
       "    <tr>\n",
       "      <th>4</th>\n",
       "      <td>Eva</td>\n",
       "      <td>49.0</td>\n",
       "      <td>Berlin</td>\n",
       "      <td>65999.0</td>\n",
       "      <td>2023-01-05</td>\n",
       "      <td>B</td>\n",
       "    </tr>\n",
       "    <tr>\n",
       "      <th>5</th>\n",
       "      <td>Frank</td>\n",
       "      <td>67.0</td>\n",
       "      <td>Paris</td>\n",
       "      <td>88320.0</td>\n",
       "      <td>2023-01-06</td>\n",
       "      <td>A</td>\n",
       "    </tr>\n",
       "    <tr>\n",
       "      <th>6</th>\n",
       "      <td>Grace</td>\n",
       "      <td>NaN</td>\n",
       "      <td>Berlin</td>\n",
       "      <td>57141.0</td>\n",
       "      <td>2023-01-07</td>\n",
       "      <td>C</td>\n",
       "    </tr>\n",
       "    <tr>\n",
       "      <th>7</th>\n",
       "      <td>Hannah</td>\n",
       "      <td>60.0</td>\n",
       "      <td>New York</td>\n",
       "      <td>65413.0</td>\n",
       "      <td>2023-01-08</td>\n",
       "      <td>B</td>\n",
       "    </tr>\n",
       "    <tr>\n",
       "      <th>8</th>\n",
       "      <td>Ivan</td>\n",
       "      <td>37.0</td>\n",
       "      <td>Tokyo</td>\n",
       "      <td>87016.0</td>\n",
       "      <td>2023-01-09</td>\n",
       "      <td>A</td>\n",
       "    </tr>\n",
       "    <tr>\n",
       "      <th>9</th>\n",
       "      <td>Jack</td>\n",
       "      <td>31.0</td>\n",
       "      <td>London</td>\n",
       "      <td>58725.0</td>\n",
       "      <td>2023-01-10</td>\n",
       "      <td>B</td>\n",
       "    </tr>\n",
       "    <tr>\n",
       "      <th>10</th>\n",
       "      <td>Ivan</td>\n",
       "      <td>37.0</td>\n",
       "      <td>Tokyo</td>\n",
       "      <td>87016.0</td>\n",
       "      <td>2023-01-09</td>\n",
       "      <td>A</td>\n",
       "    </tr>\n",
       "    <tr>\n",
       "      <th>11</th>\n",
       "      <td>Jack</td>\n",
       "      <td>31.0</td>\n",
       "      <td>London</td>\n",
       "      <td>58725.0</td>\n",
       "      <td>2023-01-10</td>\n",
       "      <td>B</td>\n",
       "    </tr>\n",
       "    <tr>\n",
       "      <th>12</th>\n",
       "      <td>Grace</td>\n",
       "      <td>29.0</td>\n",
       "      <td>Berlin</td>\n",
       "      <td>57141.0</td>\n",
       "      <td>2023-01-07</td>\n",
       "      <td>NaN</td>\n",
       "    </tr>\n",
       "    <tr>\n",
       "      <th>13</th>\n",
       "      <td>Hannah</td>\n",
       "      <td>60.0</td>\n",
       "      <td>New York</td>\n",
       "      <td>NaN</td>\n",
       "      <td>2023-01-08</td>\n",
       "      <td>B</td>\n",
       "    </tr>\n",
       "  </tbody>\n",
       "</table>\n",
       "</div>"
      ],
      "text/plain": [
       "       Name   Age      City   Salary        Date Category\n",
       "0     Alice  45.0  New York  95445.0  2023-01-01        A\n",
       "1       Bob  58.0    London  86235.0  2023-01-02        B\n",
       "2   Charlie  60.0     Tokyo  62330.0  2023-01-03        C\n",
       "3     David  28.0     Paris  46022.0  2023-01-04        A\n",
       "4       Eva  49.0    Berlin  65999.0  2023-01-05        B\n",
       "5     Frank  67.0     Paris  88320.0  2023-01-06        A\n",
       "6     Grace   NaN    Berlin  57141.0  2023-01-07        C\n",
       "7    Hannah  60.0  New York  65413.0  2023-01-08        B\n",
       "8      Ivan  37.0     Tokyo  87016.0  2023-01-09        A\n",
       "9      Jack  31.0    London  58725.0  2023-01-10        B\n",
       "10     Ivan  37.0     Tokyo  87016.0  2023-01-09        A\n",
       "11     Jack  31.0    London  58725.0  2023-01-10        B\n",
       "12    Grace  29.0    Berlin  57141.0  2023-01-07      NaN\n",
       "13   Hannah  60.0  New York      NaN  2023-01-08        B"
      ]
     },
     "execution_count": 12,
     "metadata": {},
     "output_type": "execute_result"
    }
   ],
   "source": [
    "# Reading data from a CSV file\n",
    "df = pd.read_csv(r\"D:\\Python\\Pandas\\data.csv\")\n",
    "#df = pd.read_excel(r\"D:\\Python\\Pandas\\data.xlsx\",sheet_name='Sheet1') #encoding='unicode_escape'\n",
    "# pd.read_json('data.json')\n",
    "# pd.read_sql(query, )\n",
    "df"
   ]
  },
  {
   "cell_type": "code",
   "execution_count": 13,
   "metadata": {},
   "outputs": [
    {
     "data": {
      "text/html": [
       "<div>\n",
       "<style scoped>\n",
       "    .dataframe tbody tr th:only-of-type {\n",
       "        vertical-align: middle;\n",
       "    }\n",
       "\n",
       "    .dataframe tbody tr th {\n",
       "        vertical-align: top;\n",
       "    }\n",
       "\n",
       "    .dataframe thead th {\n",
       "        text-align: right;\n",
       "    }\n",
       "</style>\n",
       "<table border=\"1\" class=\"dataframe\">\n",
       "  <thead>\n",
       "    <tr style=\"text-align: right;\">\n",
       "      <th></th>\n",
       "      <th>id</th>\n",
       "      <th>year</th>\n",
       "      <th>institute_type</th>\n",
       "      <th>round_no</th>\n",
       "      <th>quota</th>\n",
       "      <th>pool</th>\n",
       "      <th>institute_short</th>\n",
       "      <th>program_name</th>\n",
       "      <th>program_duration</th>\n",
       "      <th>degree_short</th>\n",
       "      <th>category</th>\n",
       "      <th>opening_rank</th>\n",
       "      <th>closing_rank</th>\n",
       "      <th>is_preparatory</th>\n",
       "    </tr>\n",
       "  </thead>\n",
       "  <tbody>\n",
       "    <tr>\n",
       "      <th>0</th>\n",
       "      <td>1</td>\n",
       "      <td>2016</td>\n",
       "      <td>IIT</td>\n",
       "      <td>6</td>\n",
       "      <td>AI</td>\n",
       "      <td>Gender-Neutral</td>\n",
       "      <td>IIT-Bombay</td>\n",
       "      <td>Aerospace Engineering</td>\n",
       "      <td>4 Years</td>\n",
       "      <td>B.Tech</td>\n",
       "      <td>GEN</td>\n",
       "      <td>838</td>\n",
       "      <td>1841</td>\n",
       "      <td>0</td>\n",
       "    </tr>\n",
       "    <tr>\n",
       "      <th>1</th>\n",
       "      <td>2</td>\n",
       "      <td>2016</td>\n",
       "      <td>IIT</td>\n",
       "      <td>6</td>\n",
       "      <td>AI</td>\n",
       "      <td>Gender-Neutral</td>\n",
       "      <td>IIT-Bombay</td>\n",
       "      <td>Aerospace Engineering</td>\n",
       "      <td>4 Years</td>\n",
       "      <td>B.Tech</td>\n",
       "      <td>OBC-NCL</td>\n",
       "      <td>408</td>\n",
       "      <td>1098</td>\n",
       "      <td>0</td>\n",
       "    </tr>\n",
       "    <tr>\n",
       "      <th>2</th>\n",
       "      <td>3</td>\n",
       "      <td>2016</td>\n",
       "      <td>IIT</td>\n",
       "      <td>6</td>\n",
       "      <td>AI</td>\n",
       "      <td>Gender-Neutral</td>\n",
       "      <td>IIT-Bombay</td>\n",
       "      <td>Aerospace Engineering</td>\n",
       "      <td>4 Years</td>\n",
       "      <td>B.Tech</td>\n",
       "      <td>SC</td>\n",
       "      <td>297</td>\n",
       "      <td>468</td>\n",
       "      <td>0</td>\n",
       "    </tr>\n",
       "    <tr>\n",
       "      <th>3</th>\n",
       "      <td>4</td>\n",
       "      <td>2016</td>\n",
       "      <td>IIT</td>\n",
       "      <td>6</td>\n",
       "      <td>AI</td>\n",
       "      <td>Gender-Neutral</td>\n",
       "      <td>IIT-Bombay</td>\n",
       "      <td>Aerospace Engineering</td>\n",
       "      <td>4 Years</td>\n",
       "      <td>B.Tech</td>\n",
       "      <td>ST</td>\n",
       "      <td>79</td>\n",
       "      <td>145</td>\n",
       "      <td>0</td>\n",
       "    </tr>\n",
       "    <tr>\n",
       "      <th>4</th>\n",
       "      <td>5</td>\n",
       "      <td>2016</td>\n",
       "      <td>IIT</td>\n",
       "      <td>6</td>\n",
       "      <td>AI</td>\n",
       "      <td>Gender-Neutral</td>\n",
       "      <td>IIT-Bombay</td>\n",
       "      <td>Aerospace Engineering</td>\n",
       "      <td>4 Years</td>\n",
       "      <td>B.Tech</td>\n",
       "      <td>GEN-PWD</td>\n",
       "      <td>94</td>\n",
       "      <td>94</td>\n",
       "      <td>0</td>\n",
       "    </tr>\n",
       "  </tbody>\n",
       "</table>\n",
       "</div>"
      ],
      "text/plain": [
       "   id  year institute_type  round_no quota            pool institute_short  \\\n",
       "0   1  2016            IIT         6    AI  Gender-Neutral      IIT-Bombay   \n",
       "1   2  2016            IIT         6    AI  Gender-Neutral      IIT-Bombay   \n",
       "2   3  2016            IIT         6    AI  Gender-Neutral      IIT-Bombay   \n",
       "3   4  2016            IIT         6    AI  Gender-Neutral      IIT-Bombay   \n",
       "4   5  2016            IIT         6    AI  Gender-Neutral      IIT-Bombay   \n",
       "\n",
       "            program_name program_duration degree_short category  opening_rank  \\\n",
       "0  Aerospace Engineering          4 Years       B.Tech      GEN           838   \n",
       "1  Aerospace Engineering          4 Years       B.Tech  OBC-NCL           408   \n",
       "2  Aerospace Engineering          4 Years       B.Tech       SC           297   \n",
       "3  Aerospace Engineering          4 Years       B.Tech       ST            79   \n",
       "4  Aerospace Engineering          4 Years       B.Tech  GEN-PWD            94   \n",
       "\n",
       "   closing_rank  is_preparatory  \n",
       "0          1841               0  \n",
       "1          1098               0  \n",
       "2           468               0  \n",
       "3           145               0  \n",
       "4            94               0  "
      ]
     },
     "execution_count": 13,
     "metadata": {},
     "output_type": "execute_result"
    }
   ],
   "source": [
    "df1 = pd.read_csv(r\"D:\\Python\\Pandas\\IIT-NIT\\iit.csv\")\n",
    "df1.head()"
   ]
  },
  {
   "cell_type": "markdown",
   "metadata": {},
   "source": [
    "### **Exploring Data**"
   ]
  },
  {
   "cell_type": "code",
   "execution_count": 14,
   "metadata": {},
   "outputs": [
    {
     "name": "stdout",
     "output_type": "stream",
     "text": [
      "    Name   Age      City   Salary        Date Category\n",
      "0  Alice  45.0  New York  95445.0  2023-01-01        A\n",
      "1    Bob  58.0    London  86235.0  2023-01-02        B\n"
     ]
    },
    {
     "data": {
      "text/html": [
       "<div>\n",
       "<style scoped>\n",
       "    .dataframe tbody tr th:only-of-type {\n",
       "        vertical-align: middle;\n",
       "    }\n",
       "\n",
       "    .dataframe tbody tr th {\n",
       "        vertical-align: top;\n",
       "    }\n",
       "\n",
       "    .dataframe thead th {\n",
       "        text-align: right;\n",
       "    }\n",
       "</style>\n",
       "<table border=\"1\" class=\"dataframe\">\n",
       "  <thead>\n",
       "    <tr style=\"text-align: right;\">\n",
       "      <th></th>\n",
       "      <th>Name</th>\n",
       "      <th>Age</th>\n",
       "      <th>City</th>\n",
       "      <th>Salary</th>\n",
       "      <th>Date</th>\n",
       "      <th>Category</th>\n",
       "    </tr>\n",
       "  </thead>\n",
       "  <tbody>\n",
       "    <tr>\n",
       "      <th>12</th>\n",
       "      <td>Grace</td>\n",
       "      <td>29.0</td>\n",
       "      <td>Berlin</td>\n",
       "      <td>57141.0</td>\n",
       "      <td>2023-01-07</td>\n",
       "      <td>NaN</td>\n",
       "    </tr>\n",
       "    <tr>\n",
       "      <th>13</th>\n",
       "      <td>Hannah</td>\n",
       "      <td>60.0</td>\n",
       "      <td>New York</td>\n",
       "      <td>NaN</td>\n",
       "      <td>2023-01-08</td>\n",
       "      <td>B</td>\n",
       "    </tr>\n",
       "  </tbody>\n",
       "</table>\n",
       "</div>"
      ],
      "text/plain": [
       "      Name   Age      City   Salary        Date Category\n",
       "12   Grace  29.0    Berlin  57141.0  2023-01-07      NaN\n",
       "13  Hannah  60.0  New York      NaN  2023-01-08        B"
      ]
     },
     "execution_count": 14,
     "metadata": {},
     "output_type": "execute_result"
    }
   ],
   "source": [
    "# Display the first few rows\n",
    "print(df.head(2))\n",
    "# Display the last few rows\n",
    "df.tail(2)"
   ]
  },
  {
   "cell_type": "code",
   "execution_count": 15,
   "metadata": {},
   "outputs": [
    {
     "data": {
      "text/plain": [
       "(14, 6)"
      ]
     },
     "execution_count": 15,
     "metadata": {},
     "output_type": "execute_result"
    }
   ],
   "source": [
    "df.shape #how many rows and columns or dimentionality"
   ]
  },
  {
   "cell_type": "code",
   "execution_count": 16,
   "metadata": {},
   "outputs": [
    {
     "data": {
      "text/plain": [
       "84"
      ]
     },
     "execution_count": 16,
     "metadata": {},
     "output_type": "execute_result"
    }
   ],
   "source": [
    "df.size #"
   ]
  },
  {
   "cell_type": "code",
   "execution_count": 17,
   "metadata": {},
   "outputs": [
    {
     "data": {
      "text/plain": [
       "Index(['Name', 'Age', 'City', 'Salary', 'Date', 'Category'], dtype='object')"
      ]
     },
     "execution_count": 17,
     "metadata": {},
     "output_type": "execute_result"
    }
   ],
   "source": [
    "df.columns # Name of the columns"
   ]
  },
  {
   "cell_type": "code",
   "execution_count": 18,
   "metadata": {},
   "outputs": [
    {
     "data": {
      "text/plain": [
       "Name         object\n",
       "Age         float64\n",
       "City         object\n",
       "Salary      float64\n",
       "Date         object\n",
       "Category     object\n",
       "dtype: object"
      ]
     },
     "execution_count": 18,
     "metadata": {},
     "output_type": "execute_result"
    }
   ],
   "source": [
    "df.dtypes #Data type of the each column"
   ]
  },
  {
   "cell_type": "code",
   "execution_count": 19,
   "metadata": {},
   "outputs": [
    {
     "name": "stdout",
     "output_type": "stream",
     "text": [
      "<class 'pandas.core.frame.DataFrame'>\n",
      "RangeIndex: 14 entries, 0 to 13\n",
      "Data columns (total 6 columns):\n",
      " #   Column    Non-Null Count  Dtype  \n",
      "---  ------    --------------  -----  \n",
      " 0   Name      14 non-null     object \n",
      " 1   Age       13 non-null     float64\n",
      " 2   City      14 non-null     object \n",
      " 3   Salary    13 non-null     float64\n",
      " 4   Date      14 non-null     object \n",
      " 5   Category  13 non-null     object \n",
      "dtypes: float64(2), object(4)\n",
      "memory usage: 804.0+ bytes\n"
     ]
    }
   ],
   "source": [
    "# Information about the DataFrame\n",
    "df.info()"
   ]
  },
  {
   "cell_type": "code",
   "execution_count": 20,
   "metadata": {},
   "outputs": [
    {
     "data": {
      "text/html": [
       "<div>\n",
       "<style scoped>\n",
       "    .dataframe tbody tr th:only-of-type {\n",
       "        vertical-align: middle;\n",
       "    }\n",
       "\n",
       "    .dataframe tbody tr th {\n",
       "        vertical-align: top;\n",
       "    }\n",
       "\n",
       "    .dataframe thead th {\n",
       "        text-align: right;\n",
       "    }\n",
       "</style>\n",
       "<table border=\"1\" class=\"dataframe\">\n",
       "  <thead>\n",
       "    <tr style=\"text-align: right;\">\n",
       "      <th></th>\n",
       "      <th>count</th>\n",
       "      <th>mean</th>\n",
       "      <th>std</th>\n",
       "      <th>min</th>\n",
       "      <th>25%</th>\n",
       "      <th>50%</th>\n",
       "      <th>75%</th>\n",
       "      <th>max</th>\n",
       "    </tr>\n",
       "  </thead>\n",
       "  <tbody>\n",
       "    <tr>\n",
       "      <th>Age</th>\n",
       "      <td>13.0</td>\n",
       "      <td>45.538462</td>\n",
       "      <td>14.157539</td>\n",
       "      <td>28.0</td>\n",
       "      <td>31.0</td>\n",
       "      <td>45.0</td>\n",
       "      <td>60.0</td>\n",
       "      <td>67.0</td>\n",
       "    </tr>\n",
       "    <tr>\n",
       "      <th>Salary</th>\n",
       "      <td>13.0</td>\n",
       "      <td>70425.230769</td>\n",
       "      <td>16018.646562</td>\n",
       "      <td>46022.0</td>\n",
       "      <td>58725.0</td>\n",
       "      <td>65413.0</td>\n",
       "      <td>87016.0</td>\n",
       "      <td>95445.0</td>\n",
       "    </tr>\n",
       "  </tbody>\n",
       "</table>\n",
       "</div>"
      ],
      "text/plain": [
       "        count          mean           std      min      25%      50%      75%  \\\n",
       "Age      13.0     45.538462     14.157539     28.0     31.0     45.0     60.0   \n",
       "Salary   13.0  70425.230769  16018.646562  46022.0  58725.0  65413.0  87016.0   \n",
       "\n",
       "            max  \n",
       "Age        67.0  \n",
       "Salary  95445.0  "
      ]
     },
     "execution_count": 20,
     "metadata": {},
     "output_type": "execute_result"
    }
   ],
   "source": [
    "# Basic summary statistics\n",
    "df.describe().T"
   ]
  },
  {
   "cell_type": "code",
   "execution_count": 21,
   "metadata": {},
   "outputs": [
    {
     "data": {
      "text/html": [
       "<div>\n",
       "<style scoped>\n",
       "    .dataframe tbody tr th:only-of-type {\n",
       "        vertical-align: middle;\n",
       "    }\n",
       "\n",
       "    .dataframe tbody tr th {\n",
       "        vertical-align: top;\n",
       "    }\n",
       "\n",
       "    .dataframe thead th {\n",
       "        text-align: right;\n",
       "    }\n",
       "</style>\n",
       "<table border=\"1\" class=\"dataframe\">\n",
       "  <thead>\n",
       "    <tr style=\"text-align: right;\">\n",
       "      <th></th>\n",
       "      <th>count</th>\n",
       "      <th>unique</th>\n",
       "      <th>top</th>\n",
       "      <th>freq</th>\n",
       "    </tr>\n",
       "  </thead>\n",
       "  <tbody>\n",
       "    <tr>\n",
       "      <th>Name</th>\n",
       "      <td>14</td>\n",
       "      <td>10</td>\n",
       "      <td>Ivan</td>\n",
       "      <td>2</td>\n",
       "    </tr>\n",
       "    <tr>\n",
       "      <th>City</th>\n",
       "      <td>14</td>\n",
       "      <td>5</td>\n",
       "      <td>New York</td>\n",
       "      <td>3</td>\n",
       "    </tr>\n",
       "    <tr>\n",
       "      <th>Date</th>\n",
       "      <td>14</td>\n",
       "      <td>10</td>\n",
       "      <td>2023-01-09</td>\n",
       "      <td>2</td>\n",
       "    </tr>\n",
       "    <tr>\n",
       "      <th>Category</th>\n",
       "      <td>13</td>\n",
       "      <td>3</td>\n",
       "      <td>B</td>\n",
       "      <td>6</td>\n",
       "    </tr>\n",
       "  </tbody>\n",
       "</table>\n",
       "</div>"
      ],
      "text/plain": [
       "         count unique         top freq\n",
       "Name        14     10        Ivan    2\n",
       "City        14      5    New York    3\n",
       "Date        14     10  2023-01-09    2\n",
       "Category    13      3           B    6"
      ]
     },
     "execution_count": 21,
     "metadata": {},
     "output_type": "execute_result"
    }
   ],
   "source": [
    "df.describe(include='object').T #exclude=['int', 'float']"
   ]
  },
  {
   "cell_type": "code",
   "execution_count": 22,
   "metadata": {},
   "outputs": [
    {
     "data": {
      "text/plain": [
       "0       Alice\n",
       "1         Bob\n",
       "2     Charlie\n",
       "3       David\n",
       "4         Eva\n",
       "5       Frank\n",
       "6       Grace\n",
       "7      Hannah\n",
       "8        Ivan\n",
       "9        Jack\n",
       "10       Ivan\n",
       "11       Jack\n",
       "12      Grace\n",
       "13     Hannah\n",
       "Name: Name, dtype: object"
      ]
     },
     "execution_count": 22,
     "metadata": {},
     "output_type": "execute_result"
    }
   ],
   "source": [
    "# Accessing specific columns\n",
    "df['Name'] # df.Name"
   ]
  },
  {
   "cell_type": "code",
   "execution_count": 23,
   "metadata": {},
   "outputs": [
    {
     "data": {
      "text/html": [
       "<div>\n",
       "<style scoped>\n",
       "    .dataframe tbody tr th:only-of-type {\n",
       "        vertical-align: middle;\n",
       "    }\n",
       "\n",
       "    .dataframe tbody tr th {\n",
       "        vertical-align: top;\n",
       "    }\n",
       "\n",
       "    .dataframe thead th {\n",
       "        text-align: right;\n",
       "    }\n",
       "</style>\n",
       "<table border=\"1\" class=\"dataframe\">\n",
       "  <thead>\n",
       "    <tr style=\"text-align: right;\">\n",
       "      <th></th>\n",
       "      <th>Name</th>\n",
       "      <th>Age</th>\n",
       "    </tr>\n",
       "  </thead>\n",
       "  <tbody>\n",
       "    <tr>\n",
       "      <th>0</th>\n",
       "      <td>Alice</td>\n",
       "      <td>45.0</td>\n",
       "    </tr>\n",
       "    <tr>\n",
       "      <th>1</th>\n",
       "      <td>Bob</td>\n",
       "      <td>58.0</td>\n",
       "    </tr>\n",
       "    <tr>\n",
       "      <th>2</th>\n",
       "      <td>Charlie</td>\n",
       "      <td>60.0</td>\n",
       "    </tr>\n",
       "    <tr>\n",
       "      <th>3</th>\n",
       "      <td>David</td>\n",
       "      <td>28.0</td>\n",
       "    </tr>\n",
       "    <tr>\n",
       "      <th>4</th>\n",
       "      <td>Eva</td>\n",
       "      <td>49.0</td>\n",
       "    </tr>\n",
       "    <tr>\n",
       "      <th>5</th>\n",
       "      <td>Frank</td>\n",
       "      <td>67.0</td>\n",
       "    </tr>\n",
       "    <tr>\n",
       "      <th>6</th>\n",
       "      <td>Grace</td>\n",
       "      <td>NaN</td>\n",
       "    </tr>\n",
       "    <tr>\n",
       "      <th>7</th>\n",
       "      <td>Hannah</td>\n",
       "      <td>60.0</td>\n",
       "    </tr>\n",
       "    <tr>\n",
       "      <th>8</th>\n",
       "      <td>Ivan</td>\n",
       "      <td>37.0</td>\n",
       "    </tr>\n",
       "    <tr>\n",
       "      <th>9</th>\n",
       "      <td>Jack</td>\n",
       "      <td>31.0</td>\n",
       "    </tr>\n",
       "    <tr>\n",
       "      <th>10</th>\n",
       "      <td>Ivan</td>\n",
       "      <td>37.0</td>\n",
       "    </tr>\n",
       "    <tr>\n",
       "      <th>11</th>\n",
       "      <td>Jack</td>\n",
       "      <td>31.0</td>\n",
       "    </tr>\n",
       "    <tr>\n",
       "      <th>12</th>\n",
       "      <td>Grace</td>\n",
       "      <td>29.0</td>\n",
       "    </tr>\n",
       "    <tr>\n",
       "      <th>13</th>\n",
       "      <td>Hannah</td>\n",
       "      <td>60.0</td>\n",
       "    </tr>\n",
       "  </tbody>\n",
       "</table>\n",
       "</div>"
      ],
      "text/plain": [
       "       Name   Age\n",
       "0     Alice  45.0\n",
       "1       Bob  58.0\n",
       "2   Charlie  60.0\n",
       "3     David  28.0\n",
       "4       Eva  49.0\n",
       "5     Frank  67.0\n",
       "6     Grace   NaN\n",
       "7    Hannah  60.0\n",
       "8      Ivan  37.0\n",
       "9      Jack  31.0\n",
       "10     Ivan  37.0\n",
       "11     Jack  31.0\n",
       "12    Grace  29.0\n",
       "13   Hannah  60.0"
      ]
     },
     "execution_count": 23,
     "metadata": {},
     "output_type": "execute_result"
    }
   ],
   "source": [
    "# Accessing Multiple columns\n",
    "df[['Name','Age']]"
   ]
  },
  {
   "cell_type": "code",
   "execution_count": 24,
   "metadata": {},
   "outputs": [
    {
     "data": {
      "text/html": [
       "<div>\n",
       "<style scoped>\n",
       "    .dataframe tbody tr th:only-of-type {\n",
       "        vertical-align: middle;\n",
       "    }\n",
       "\n",
       "    .dataframe tbody tr th {\n",
       "        vertical-align: top;\n",
       "    }\n",
       "\n",
       "    .dataframe thead th {\n",
       "        text-align: right;\n",
       "    }\n",
       "</style>\n",
       "<table border=\"1\" class=\"dataframe\">\n",
       "  <thead>\n",
       "    <tr style=\"text-align: right;\">\n",
       "      <th></th>\n",
       "      <th>Name</th>\n",
       "      <th>Age</th>\n",
       "      <th>City</th>\n",
       "      <th>Salary</th>\n",
       "      <th>Date</th>\n",
       "      <th>Category</th>\n",
       "    </tr>\n",
       "  </thead>\n",
       "  <tbody>\n",
       "    <tr>\n",
       "      <th>5</th>\n",
       "      <td>Frank</td>\n",
       "      <td>67.0</td>\n",
       "      <td>Paris</td>\n",
       "      <td>88320.0</td>\n",
       "      <td>2023-01-06</td>\n",
       "      <td>A</td>\n",
       "    </tr>\n",
       "    <tr>\n",
       "      <th>6</th>\n",
       "      <td>Grace</td>\n",
       "      <td>NaN</td>\n",
       "      <td>Berlin</td>\n",
       "      <td>57141.0</td>\n",
       "      <td>2023-01-07</td>\n",
       "      <td>C</td>\n",
       "    </tr>\n",
       "    <tr>\n",
       "      <th>7</th>\n",
       "      <td>Hannah</td>\n",
       "      <td>60.0</td>\n",
       "      <td>New York</td>\n",
       "      <td>65413.0</td>\n",
       "      <td>2023-01-08</td>\n",
       "      <td>B</td>\n",
       "    </tr>\n",
       "    <tr>\n",
       "      <th>8</th>\n",
       "      <td>Ivan</td>\n",
       "      <td>37.0</td>\n",
       "      <td>Tokyo</td>\n",
       "      <td>87016.0</td>\n",
       "      <td>2023-01-09</td>\n",
       "      <td>A</td>\n",
       "    </tr>\n",
       "    <tr>\n",
       "      <th>9</th>\n",
       "      <td>Jack</td>\n",
       "      <td>31.0</td>\n",
       "      <td>London</td>\n",
       "      <td>58725.0</td>\n",
       "      <td>2023-01-10</td>\n",
       "      <td>B</td>\n",
       "    </tr>\n",
       "  </tbody>\n",
       "</table>\n",
       "</div>"
      ],
      "text/plain": [
       "     Name   Age      City   Salary        Date Category\n",
       "5   Frank  67.0     Paris  88320.0  2023-01-06        A\n",
       "6   Grace   NaN    Berlin  57141.0  2023-01-07        C\n",
       "7  Hannah  60.0  New York  65413.0  2023-01-08        B\n",
       "8    Ivan  37.0     Tokyo  87016.0  2023-01-09        A\n",
       "9    Jack  31.0    London  58725.0  2023-01-10        B"
      ]
     },
     "execution_count": 24,
     "metadata": {},
     "output_type": "execute_result"
    }
   ],
   "source": [
    "df[5:10]"
   ]
  },
  {
   "cell_type": "markdown",
   "metadata": {},
   "source": [
    "### **Data Cleaning and Preprocessing**"
   ]
  },
  {
   "cell_type": "code",
   "execution_count": 25,
   "metadata": {},
   "outputs": [
    {
     "data": {
      "text/html": [
       "<div>\n",
       "<style scoped>\n",
       "    .dataframe tbody tr th:only-of-type {\n",
       "        vertical-align: middle;\n",
       "    }\n",
       "\n",
       "    .dataframe tbody tr th {\n",
       "        vertical-align: top;\n",
       "    }\n",
       "\n",
       "    .dataframe thead th {\n",
       "        text-align: right;\n",
       "    }\n",
       "</style>\n",
       "<table border=\"1\" class=\"dataframe\">\n",
       "  <thead>\n",
       "    <tr style=\"text-align: right;\">\n",
       "      <th></th>\n",
       "      <th>A</th>\n",
       "      <th>B</th>\n",
       "    </tr>\n",
       "  </thead>\n",
       "  <tbody>\n",
       "    <tr>\n",
       "      <th>0</th>\n",
       "      <td>1.0</td>\n",
       "      <td>7.0</td>\n",
       "    </tr>\n",
       "    <tr>\n",
       "      <th>1</th>\n",
       "      <td>2.0</td>\n",
       "      <td>NaN</td>\n",
       "    </tr>\n",
       "    <tr>\n",
       "      <th>2</th>\n",
       "      <td>NaN</td>\n",
       "      <td>9.0</td>\n",
       "    </tr>\n",
       "    <tr>\n",
       "      <th>3</th>\n",
       "      <td>4.0</td>\n",
       "      <td>NaN</td>\n",
       "    </tr>\n",
       "    <tr>\n",
       "      <th>4</th>\n",
       "      <td>NaN</td>\n",
       "      <td>11.0</td>\n",
       "    </tr>\n",
       "    <tr>\n",
       "      <th>5</th>\n",
       "      <td>6.0</td>\n",
       "      <td>NaN</td>\n",
       "    </tr>\n",
       "    <tr>\n",
       "      <th>6</th>\n",
       "      <td>7.0</td>\n",
       "      <td>7.0</td>\n",
       "    </tr>\n",
       "    <tr>\n",
       "      <th>7</th>\n",
       "      <td>1.0</td>\n",
       "      <td>7.0</td>\n",
       "    </tr>\n",
       "  </tbody>\n",
       "</table>\n",
       "</div>"
      ],
      "text/plain": [
       "     A     B\n",
       "0  1.0   7.0\n",
       "1  2.0   NaN\n",
       "2  NaN   9.0\n",
       "3  4.0   NaN\n",
       "4  NaN  11.0\n",
       "5  6.0   NaN\n",
       "6  7.0   7.0\n",
       "7  1.0   7.0"
      ]
     },
     "execution_count": 25,
     "metadata": {},
     "output_type": "execute_result"
    }
   ],
   "source": [
    "data = pd.DataFrame({'A': [1, 2, None, 4, None, 6, 7, 1], 'B': [7, None, 9, None, 11, None,7,7]})\n",
    "data"
   ]
  },
  {
   "cell_type": "code",
   "execution_count": 26,
   "metadata": {},
   "outputs": [
    {
     "data": {
      "text/plain": [
       "A    2\n",
       "B    3\n",
       "dtype: int64"
      ]
     },
     "execution_count": 26,
     "metadata": {},
     "output_type": "execute_result"
    }
   ],
   "source": [
    "data.isnull().sum() # Finding the missing values in the dataset"
   ]
  },
  {
   "cell_type": "code",
   "execution_count": 27,
   "metadata": {},
   "outputs": [
    {
     "data": {
      "text/plain": [
       "A    2\n",
       "B    3\n",
       "dtype: int64"
      ]
     },
     "execution_count": 27,
     "metadata": {},
     "output_type": "execute_result"
    }
   ],
   "source": [
    "data.isna().sum() # Finding the missing values in the dataset"
   ]
  },
  {
   "cell_type": "code",
   "execution_count": 28,
   "metadata": {},
   "outputs": [
    {
     "data": {
      "text/plain": [
       "A    6\n",
       "B    5\n",
       "dtype: int64"
      ]
     },
     "execution_count": 28,
     "metadata": {},
     "output_type": "execute_result"
    }
   ],
   "source": [
    "data.notnull().sum() # \n",
    "data.notna().sum() #"
   ]
  },
  {
   "cell_type": "code",
   "execution_count": 29,
   "metadata": {},
   "outputs": [
    {
     "data": {
      "text/html": [
       "<div>\n",
       "<style scoped>\n",
       "    .dataframe tbody tr th:only-of-type {\n",
       "        vertical-align: middle;\n",
       "    }\n",
       "\n",
       "    .dataframe tbody tr th {\n",
       "        vertical-align: top;\n",
       "    }\n",
       "\n",
       "    .dataframe thead th {\n",
       "        text-align: right;\n",
       "    }\n",
       "</style>\n",
       "<table border=\"1\" class=\"dataframe\">\n",
       "  <thead>\n",
       "    <tr style=\"text-align: right;\">\n",
       "      <th></th>\n",
       "      <th>A</th>\n",
       "      <th>B</th>\n",
       "    </tr>\n",
       "  </thead>\n",
       "  <tbody>\n",
       "    <tr>\n",
       "      <th>0</th>\n",
       "      <td>1.0</td>\n",
       "      <td>7.0</td>\n",
       "    </tr>\n",
       "    <tr>\n",
       "      <th>6</th>\n",
       "      <td>7.0</td>\n",
       "      <td>7.0</td>\n",
       "    </tr>\n",
       "    <tr>\n",
       "      <th>7</th>\n",
       "      <td>1.0</td>\n",
       "      <td>7.0</td>\n",
       "    </tr>\n",
       "  </tbody>\n",
       "</table>\n",
       "</div>"
      ],
      "text/plain": [
       "     A    B\n",
       "0  1.0  7.0\n",
       "6  7.0  7.0\n",
       "7  1.0  7.0"
      ]
     },
     "execution_count": 29,
     "metadata": {},
     "output_type": "execute_result"
    }
   ],
   "source": [
    "data.dropna() # Drop the missing values"
   ]
  },
  {
   "cell_type": "code",
   "execution_count": 30,
   "metadata": {},
   "outputs": [
    {
     "data": {
      "text/html": [
       "<div>\n",
       "<style scoped>\n",
       "    .dataframe tbody tr th:only-of-type {\n",
       "        vertical-align: middle;\n",
       "    }\n",
       "\n",
       "    .dataframe tbody tr th {\n",
       "        vertical-align: top;\n",
       "    }\n",
       "\n",
       "    .dataframe thead th {\n",
       "        text-align: right;\n",
       "    }\n",
       "</style>\n",
       "<table border=\"1\" class=\"dataframe\">\n",
       "  <thead>\n",
       "    <tr style=\"text-align: right;\">\n",
       "      <th></th>\n",
       "      <th>A</th>\n",
       "      <th>B</th>\n",
       "    </tr>\n",
       "  </thead>\n",
       "  <tbody>\n",
       "    <tr>\n",
       "      <th>0</th>\n",
       "      <td>1.0</td>\n",
       "      <td>7.0</td>\n",
       "    </tr>\n",
       "    <tr>\n",
       "      <th>2</th>\n",
       "      <td>NaN</td>\n",
       "      <td>9.0</td>\n",
       "    </tr>\n",
       "    <tr>\n",
       "      <th>4</th>\n",
       "      <td>NaN</td>\n",
       "      <td>11.0</td>\n",
       "    </tr>\n",
       "    <tr>\n",
       "      <th>6</th>\n",
       "      <td>7.0</td>\n",
       "      <td>7.0</td>\n",
       "    </tr>\n",
       "    <tr>\n",
       "      <th>7</th>\n",
       "      <td>1.0</td>\n",
       "      <td>7.0</td>\n",
       "    </tr>\n",
       "  </tbody>\n",
       "</table>\n",
       "</div>"
      ],
      "text/plain": [
       "     A     B\n",
       "0  1.0   7.0\n",
       "2  NaN   9.0\n",
       "4  NaN  11.0\n",
       "6  7.0   7.0\n",
       "7  1.0   7.0"
      ]
     },
     "execution_count": 30,
     "metadata": {},
     "output_type": "execute_result"
    }
   ],
   "source": [
    "data.dropna(subset=['B'])"
   ]
  },
  {
   "cell_type": "code",
   "execution_count": 31,
   "metadata": {},
   "outputs": [
    {
     "data": {
      "text/plain": [
       "np.float64(3.5)"
      ]
     },
     "execution_count": 31,
     "metadata": {},
     "output_type": "execute_result"
    }
   ],
   "source": [
    "data['A'].mean()"
   ]
  },
  {
   "cell_type": "code",
   "execution_count": 32,
   "metadata": {},
   "outputs": [
    {
     "data": {
      "text/plain": [
       "0    1.0\n",
       "1    2.0\n",
       "2    3.5\n",
       "3    4.0\n",
       "4    3.5\n",
       "5    6.0\n",
       "6    7.0\n",
       "7    1.0\n",
       "Name: A, dtype: float64"
      ]
     },
     "execution_count": 32,
     "metadata": {},
     "output_type": "execute_result"
    }
   ],
   "source": [
    "data['A'].fillna(data['A'].mean()) #, inplace=True"
   ]
  },
  {
   "cell_type": "code",
   "execution_count": 33,
   "metadata": {},
   "outputs": [
    {
     "data": {
      "text/plain": [
       "0     7.0\n",
       "1     8.0\n",
       "2     9.0\n",
       "3    10.0\n",
       "4    11.0\n",
       "5     9.0\n",
       "6     7.0\n",
       "7     7.0\n",
       "Name: B, dtype: float64"
      ]
     },
     "execution_count": 33,
     "metadata": {},
     "output_type": "execute_result"
    }
   ],
   "source": [
    "data['B'].interpolate() # Repalcing with the mean value of the surrounding values"
   ]
  },
  {
   "cell_type": "code",
   "execution_count": 34,
   "metadata": {},
   "outputs": [
    {
     "data": {
      "text/html": [
       "<div>\n",
       "<style scoped>\n",
       "    .dataframe tbody tr th:only-of-type {\n",
       "        vertical-align: middle;\n",
       "    }\n",
       "\n",
       "    .dataframe tbody tr th {\n",
       "        vertical-align: top;\n",
       "    }\n",
       "\n",
       "    .dataframe thead th {\n",
       "        text-align: right;\n",
       "    }\n",
       "</style>\n",
       "<table border=\"1\" class=\"dataframe\">\n",
       "  <thead>\n",
       "    <tr style=\"text-align: right;\">\n",
       "      <th></th>\n",
       "      <th>A</th>\n",
       "      <th>B</th>\n",
       "    </tr>\n",
       "  </thead>\n",
       "  <tbody>\n",
       "    <tr>\n",
       "      <th>0</th>\n",
       "      <td>1.0</td>\n",
       "      <td>7.0</td>\n",
       "    </tr>\n",
       "    <tr>\n",
       "      <th>1</th>\n",
       "      <td>2.0</td>\n",
       "      <td>NaN</td>\n",
       "    </tr>\n",
       "    <tr>\n",
       "      <th>2</th>\n",
       "      <td>NaN</td>\n",
       "      <td>9.0</td>\n",
       "    </tr>\n",
       "    <tr>\n",
       "      <th>3</th>\n",
       "      <td>4.0</td>\n",
       "      <td>NaN</td>\n",
       "    </tr>\n",
       "    <tr>\n",
       "      <th>4</th>\n",
       "      <td>NaN</td>\n",
       "      <td>11.0</td>\n",
       "    </tr>\n",
       "    <tr>\n",
       "      <th>5</th>\n",
       "      <td>6.0</td>\n",
       "      <td>NaN</td>\n",
       "    </tr>\n",
       "    <tr>\n",
       "      <th>6</th>\n",
       "      <td>7.0</td>\n",
       "      <td>7.0</td>\n",
       "    </tr>\n",
       "    <tr>\n",
       "      <th>7</th>\n",
       "      <td>1.0</td>\n",
       "      <td>7.0</td>\n",
       "    </tr>\n",
       "  </tbody>\n",
       "</table>\n",
       "</div>"
      ],
      "text/plain": [
       "     A     B\n",
       "0  1.0   7.0\n",
       "1  2.0   NaN\n",
       "2  NaN   9.0\n",
       "3  4.0   NaN\n",
       "4  NaN  11.0\n",
       "5  6.0   NaN\n",
       "6  7.0   7.0\n",
       "7  1.0   7.0"
      ]
     },
     "execution_count": 34,
     "metadata": {},
     "output_type": "execute_result"
    }
   ],
   "source": [
    "data"
   ]
  },
  {
   "cell_type": "code",
   "execution_count": 35,
   "metadata": {},
   "outputs": [
    {
     "data": {
      "text/plain": [
       "0    1.0\n",
       "1    2.0\n",
       "2    2.0\n",
       "3    4.0\n",
       "4    4.0\n",
       "5    6.0\n",
       "6    7.0\n",
       "7    1.0\n",
       "Name: A, dtype: float64"
      ]
     },
     "execution_count": 35,
     "metadata": {},
     "output_type": "execute_result"
    }
   ],
   "source": [
    "data['A'].fillna(method='ffill')  # forward fill"
   ]
  },
  {
   "cell_type": "code",
   "execution_count": 36,
   "metadata": {},
   "outputs": [
    {
     "data": {
      "text/plain": [
       "0     7.0\n",
       "1     9.0\n",
       "2     9.0\n",
       "3    11.0\n",
       "4    11.0\n",
       "5     7.0\n",
       "6     7.0\n",
       "7     7.0\n",
       "Name: B, dtype: float64"
      ]
     },
     "execution_count": 36,
     "metadata": {},
     "output_type": "execute_result"
    }
   ],
   "source": [
    "data['B'].fillna(method='bfill') # bacword fill"
   ]
  },
  {
   "cell_type": "markdown",
   "metadata": {},
   "source": [
    "**For Dateset** \n",
    "\n",
    "**Finding Missing Values**"
   ]
  },
  {
   "cell_type": "code",
   "execution_count": 37,
   "metadata": {},
   "outputs": [
    {
     "data": {
      "text/plain": [
       "Name        0\n",
       "Age         1\n",
       "City        0\n",
       "Salary      1\n",
       "Date        0\n",
       "Category    1\n",
       "dtype: int64"
      ]
     },
     "execution_count": 37,
     "metadata": {},
     "output_type": "execute_result"
    }
   ],
   "source": [
    "df.isnull().sum() # Displaying the number of not missing values in each column"
   ]
  },
  {
   "cell_type": "code",
   "execution_count": 38,
   "metadata": {},
   "outputs": [
    {
     "data": {
      "text/plain": [
       "Name        0\n",
       "Age         1\n",
       "City        0\n",
       "Salary      1\n",
       "Date        0\n",
       "Category    1\n",
       "dtype: int64"
      ]
     },
     "execution_count": 38,
     "metadata": {},
     "output_type": "execute_result"
    }
   ],
   "source": [
    "df.isna().sum()"
   ]
  },
  {
   "cell_type": "code",
   "execution_count": 39,
   "metadata": {},
   "outputs": [
    {
     "data": {
      "text/plain": [
       "np.int64(2)"
      ]
     },
     "execution_count": 39,
     "metadata": {},
     "output_type": "execute_result"
    }
   ],
   "source": [
    "df.duplicated().sum() # finding the duplicates"
   ]
  },
  {
   "cell_type": "code",
   "execution_count": 40,
   "metadata": {},
   "outputs": [
    {
     "data": {
      "text/html": [
       "<div>\n",
       "<style scoped>\n",
       "    .dataframe tbody tr th:only-of-type {\n",
       "        vertical-align: middle;\n",
       "    }\n",
       "\n",
       "    .dataframe tbody tr th {\n",
       "        vertical-align: top;\n",
       "    }\n",
       "\n",
       "    .dataframe thead th {\n",
       "        text-align: right;\n",
       "    }\n",
       "</style>\n",
       "<table border=\"1\" class=\"dataframe\">\n",
       "  <thead>\n",
       "    <tr style=\"text-align: right;\">\n",
       "      <th></th>\n",
       "      <th>Name</th>\n",
       "      <th>Age</th>\n",
       "      <th>City</th>\n",
       "      <th>Salary</th>\n",
       "      <th>Date</th>\n",
       "      <th>Category</th>\n",
       "    </tr>\n",
       "  </thead>\n",
       "  <tbody>\n",
       "    <tr>\n",
       "      <th>10</th>\n",
       "      <td>Ivan</td>\n",
       "      <td>37.0</td>\n",
       "      <td>Tokyo</td>\n",
       "      <td>87016.0</td>\n",
       "      <td>2023-01-09</td>\n",
       "      <td>A</td>\n",
       "    </tr>\n",
       "    <tr>\n",
       "      <th>11</th>\n",
       "      <td>Jack</td>\n",
       "      <td>31.0</td>\n",
       "      <td>London</td>\n",
       "      <td>58725.0</td>\n",
       "      <td>2023-01-10</td>\n",
       "      <td>B</td>\n",
       "    </tr>\n",
       "  </tbody>\n",
       "</table>\n",
       "</div>"
      ],
      "text/plain": [
       "    Name   Age    City   Salary        Date Category\n",
       "10  Ivan  37.0   Tokyo  87016.0  2023-01-09        A\n",
       "11  Jack  31.0  London  58725.0  2023-01-10        B"
      ]
     },
     "execution_count": 40,
     "metadata": {},
     "output_type": "execute_result"
    }
   ],
   "source": [
    "df[df.duplicated()] # Displaying the Duplicates"
   ]
  },
  {
   "cell_type": "markdown",
   "metadata": {},
   "source": [
    "**Handling Missing Values**"
   ]
  },
  {
   "cell_type": "code",
   "execution_count": 41,
   "metadata": {},
   "outputs": [
    {
     "data": {
      "text/plain": [
       "np.float64(70425.23076923077)"
      ]
     },
     "execution_count": 41,
     "metadata": {},
     "output_type": "execute_result"
    }
   ],
   "source": [
    "df.Salary.mean()"
   ]
  },
  {
   "cell_type": "code",
   "execution_count": 42,
   "metadata": {},
   "outputs": [
    {
     "data": {
      "text/html": [
       "<div>\n",
       "<style scoped>\n",
       "    .dataframe tbody tr th:only-of-type {\n",
       "        vertical-align: middle;\n",
       "    }\n",
       "\n",
       "    .dataframe tbody tr th {\n",
       "        vertical-align: top;\n",
       "    }\n",
       "\n",
       "    .dataframe thead th {\n",
       "        text-align: right;\n",
       "    }\n",
       "</style>\n",
       "<table border=\"1\" class=\"dataframe\">\n",
       "  <thead>\n",
       "    <tr style=\"text-align: right;\">\n",
       "      <th></th>\n",
       "      <th>Name</th>\n",
       "      <th>Age</th>\n",
       "      <th>City</th>\n",
       "      <th>Salary</th>\n",
       "      <th>Date</th>\n",
       "      <th>Category</th>\n",
       "    </tr>\n",
       "  </thead>\n",
       "  <tbody>\n",
       "    <tr>\n",
       "      <th>0</th>\n",
       "      <td>Alice</td>\n",
       "      <td>45.0</td>\n",
       "      <td>New York</td>\n",
       "      <td>95445.0</td>\n",
       "      <td>2023-01-01</td>\n",
       "      <td>A</td>\n",
       "    </tr>\n",
       "    <tr>\n",
       "      <th>1</th>\n",
       "      <td>Bob</td>\n",
       "      <td>58.0</td>\n",
       "      <td>London</td>\n",
       "      <td>86235.0</td>\n",
       "      <td>2023-01-02</td>\n",
       "      <td>B</td>\n",
       "    </tr>\n",
       "    <tr>\n",
       "      <th>2</th>\n",
       "      <td>Charlie</td>\n",
       "      <td>60.0</td>\n",
       "      <td>Tokyo</td>\n",
       "      <td>62330.0</td>\n",
       "      <td>2023-01-03</td>\n",
       "      <td>C</td>\n",
       "    </tr>\n",
       "    <tr>\n",
       "      <th>3</th>\n",
       "      <td>David</td>\n",
       "      <td>28.0</td>\n",
       "      <td>Paris</td>\n",
       "      <td>46022.0</td>\n",
       "      <td>2023-01-04</td>\n",
       "      <td>A</td>\n",
       "    </tr>\n",
       "    <tr>\n",
       "      <th>4</th>\n",
       "      <td>Eva</td>\n",
       "      <td>49.0</td>\n",
       "      <td>Berlin</td>\n",
       "      <td>65999.0</td>\n",
       "      <td>2023-01-05</td>\n",
       "      <td>B</td>\n",
       "    </tr>\n",
       "    <tr>\n",
       "      <th>5</th>\n",
       "      <td>Frank</td>\n",
       "      <td>67.0</td>\n",
       "      <td>Paris</td>\n",
       "      <td>88320.0</td>\n",
       "      <td>2023-01-06</td>\n",
       "      <td>A</td>\n",
       "    </tr>\n",
       "    <tr>\n",
       "      <th>6</th>\n",
       "      <td>Grace</td>\n",
       "      <td>46.0</td>\n",
       "      <td>Berlin</td>\n",
       "      <td>57141.0</td>\n",
       "      <td>2023-01-07</td>\n",
       "      <td>C</td>\n",
       "    </tr>\n",
       "    <tr>\n",
       "      <th>7</th>\n",
       "      <td>Hannah</td>\n",
       "      <td>60.0</td>\n",
       "      <td>New York</td>\n",
       "      <td>65413.0</td>\n",
       "      <td>2023-01-08</td>\n",
       "      <td>B</td>\n",
       "    </tr>\n",
       "    <tr>\n",
       "      <th>8</th>\n",
       "      <td>Ivan</td>\n",
       "      <td>37.0</td>\n",
       "      <td>Tokyo</td>\n",
       "      <td>87016.0</td>\n",
       "      <td>2023-01-09</td>\n",
       "      <td>A</td>\n",
       "    </tr>\n",
       "    <tr>\n",
       "      <th>9</th>\n",
       "      <td>Jack</td>\n",
       "      <td>31.0</td>\n",
       "      <td>London</td>\n",
       "      <td>58725.0</td>\n",
       "      <td>2023-01-10</td>\n",
       "      <td>B</td>\n",
       "    </tr>\n",
       "    <tr>\n",
       "      <th>10</th>\n",
       "      <td>Ivan</td>\n",
       "      <td>37.0</td>\n",
       "      <td>Tokyo</td>\n",
       "      <td>87016.0</td>\n",
       "      <td>2023-01-09</td>\n",
       "      <td>A</td>\n",
       "    </tr>\n",
       "    <tr>\n",
       "      <th>11</th>\n",
       "      <td>Jack</td>\n",
       "      <td>31.0</td>\n",
       "      <td>London</td>\n",
       "      <td>58725.0</td>\n",
       "      <td>2023-01-10</td>\n",
       "      <td>B</td>\n",
       "    </tr>\n",
       "    <tr>\n",
       "      <th>12</th>\n",
       "      <td>Grace</td>\n",
       "      <td>29.0</td>\n",
       "      <td>Berlin</td>\n",
       "      <td>57141.0</td>\n",
       "      <td>2023-01-07</td>\n",
       "      <td>B</td>\n",
       "    </tr>\n",
       "    <tr>\n",
       "      <th>13</th>\n",
       "      <td>Hannah</td>\n",
       "      <td>60.0</td>\n",
       "      <td>New York</td>\n",
       "      <td>70425.0</td>\n",
       "      <td>2023-01-08</td>\n",
       "      <td>B</td>\n",
       "    </tr>\n",
       "  </tbody>\n",
       "</table>\n",
       "</div>"
      ],
      "text/plain": [
       "       Name   Age      City   Salary        Date Category\n",
       "0     Alice  45.0  New York  95445.0  2023-01-01        A\n",
       "1       Bob  58.0    London  86235.0  2023-01-02        B\n",
       "2   Charlie  60.0     Tokyo  62330.0  2023-01-03        C\n",
       "3     David  28.0     Paris  46022.0  2023-01-04        A\n",
       "4       Eva  49.0    Berlin  65999.0  2023-01-05        B\n",
       "5     Frank  67.0     Paris  88320.0  2023-01-06        A\n",
       "6     Grace  46.0    Berlin  57141.0  2023-01-07        C\n",
       "7    Hannah  60.0  New York  65413.0  2023-01-08        B\n",
       "8      Ivan  37.0     Tokyo  87016.0  2023-01-09        A\n",
       "9      Jack  31.0    London  58725.0  2023-01-10        B\n",
       "10     Ivan  37.0     Tokyo  87016.0  2023-01-09        A\n",
       "11     Jack  31.0    London  58725.0  2023-01-10        B\n",
       "12    Grace  29.0    Berlin  57141.0  2023-01-07        B\n",
       "13   Hannah  60.0  New York  70425.0  2023-01-08        B"
      ]
     },
     "execution_count": 42,
     "metadata": {},
     "output_type": "execute_result"
    }
   ],
   "source": [
    "# Handling missing values\n",
    "#df.dropna(inplace=True)  # Drop rows with any missing values\n",
    "df.Age.fillna(round(df.Age.mean()), inplace=True)\n",
    "df.Salary.fillna(round(df.Salary.mean()), inplace=True)\n",
    "df.Category.fillna(df.Category.mode()[0], inplace=True)\n",
    "df"
   ]
  },
  {
   "cell_type": "code",
   "execution_count": 43,
   "metadata": {},
   "outputs": [],
   "source": [
    "# Removing duplicates\n",
    "df.drop_duplicates(inplace=True)"
   ]
  },
  {
   "cell_type": "code",
   "execution_count": 44,
   "metadata": {},
   "outputs": [
    {
     "data": {
      "text/plain": [
       "np.int64(0)"
      ]
     },
     "execution_count": 44,
     "metadata": {},
     "output_type": "execute_result"
    }
   ],
   "source": [
    "df.duplicated().sum()"
   ]
  },
  {
   "cell_type": "markdown",
   "metadata": {},
   "source": [
    "### **Str Method**"
   ]
  },
  {
   "cell_type": "code",
   "execution_count": 45,
   "metadata": {},
   "outputs": [
    {
     "data": {
      "text/plain": [
       "0      True\n",
       "1     False\n",
       "2     False\n",
       "3     False\n",
       "4     False\n",
       "5     False\n",
       "6     False\n",
       "7      True\n",
       "8     False\n",
       "9     False\n",
       "12    False\n",
       "13     True\n",
       "Name: City, dtype: bool"
      ]
     },
     "execution_count": 45,
     "metadata": {},
     "output_type": "execute_result"
    }
   ],
   "source": [
    "# Finding the unique values in a column by using Str contain Method\n",
    "df['City'].str.contains('New York')"
   ]
  },
  {
   "cell_type": "code",
   "execution_count": 46,
   "metadata": {},
   "outputs": [
    {
     "data": {
      "text/html": [
       "<div>\n",
       "<style scoped>\n",
       "    .dataframe tbody tr th:only-of-type {\n",
       "        vertical-align: middle;\n",
       "    }\n",
       "\n",
       "    .dataframe tbody tr th {\n",
       "        vertical-align: top;\n",
       "    }\n",
       "\n",
       "    .dataframe thead th {\n",
       "        text-align: right;\n",
       "    }\n",
       "</style>\n",
       "<table border=\"1\" class=\"dataframe\">\n",
       "  <thead>\n",
       "    <tr style=\"text-align: right;\">\n",
       "      <th></th>\n",
       "      <th>Name</th>\n",
       "      <th>Age</th>\n",
       "      <th>City</th>\n",
       "      <th>Salary</th>\n",
       "      <th>Date</th>\n",
       "      <th>Category</th>\n",
       "    </tr>\n",
       "  </thead>\n",
       "  <tbody>\n",
       "    <tr>\n",
       "      <th>0</th>\n",
       "      <td>Alice</td>\n",
       "      <td>45.0</td>\n",
       "      <td>New York</td>\n",
       "      <td>95445.0</td>\n",
       "      <td>2023-01-01</td>\n",
       "      <td>A</td>\n",
       "    </tr>\n",
       "    <tr>\n",
       "      <th>7</th>\n",
       "      <td>Hannah</td>\n",
       "      <td>60.0</td>\n",
       "      <td>New York</td>\n",
       "      <td>65413.0</td>\n",
       "      <td>2023-01-08</td>\n",
       "      <td>B</td>\n",
       "    </tr>\n",
       "    <tr>\n",
       "      <th>13</th>\n",
       "      <td>Hannah</td>\n",
       "      <td>60.0</td>\n",
       "      <td>New York</td>\n",
       "      <td>70425.0</td>\n",
       "      <td>2023-01-08</td>\n",
       "      <td>B</td>\n",
       "    </tr>\n",
       "  </tbody>\n",
       "</table>\n",
       "</div>"
      ],
      "text/plain": [
       "      Name   Age      City   Salary        Date Category\n",
       "0    Alice  45.0  New York  95445.0  2023-01-01        A\n",
       "7   Hannah  60.0  New York  65413.0  2023-01-08        B\n",
       "13  Hannah  60.0  New York  70425.0  2023-01-08        B"
      ]
     },
     "execution_count": 46,
     "metadata": {},
     "output_type": "execute_result"
    }
   ],
   "source": [
    "# Selecting rows where City contains 'New York'\n",
    "df[df['City'].str.contains('New York', case=False)]"
   ]
  },
  {
   "cell_type": "code",
   "execution_count": 47,
   "metadata": {},
   "outputs": [
    {
     "data": {
      "text/plain": [
       "0     [New, York]\n",
       "1        [London]\n",
       "2         [Tokyo]\n",
       "3         [Paris]\n",
       "4        [Berlin]\n",
       "5         [Paris]\n",
       "6        [Berlin]\n",
       "7     [New, York]\n",
       "8         [Tokyo]\n",
       "9        [London]\n",
       "12       [Berlin]\n",
       "13    [New, York]\n",
       "Name: City, dtype: object"
      ]
     },
     "execution_count": 47,
     "metadata": {},
     "output_type": "execute_result"
    }
   ],
   "source": [
    "# Select rows where City contains 'New York' or 'London'\n",
    "df['City'].str.split(' ') "
   ]
  },
  {
   "cell_type": "code",
   "execution_count": 48,
   "metadata": {},
   "outputs": [
    {
     "data": {
      "text/plain": [
       "0        New\n",
       "1     London\n",
       "2      Tokyo\n",
       "3      Paris\n",
       "4     Berlin\n",
       "5      Paris\n",
       "6     Berlin\n",
       "7        New\n",
       "8      Tokyo\n",
       "9     London\n",
       "12    Berlin\n",
       "13       New\n",
       "Name: City, dtype: object"
      ]
     },
     "execution_count": 48,
     "metadata": {},
     "output_type": "execute_result"
    }
   ],
   "source": [
    "# Extracting the first element of the list\n",
    "df['City'].str.split(' ').str.get(0) "
   ]
  },
  {
   "cell_type": "code",
   "execution_count": 49,
   "metadata": {},
   "outputs": [
    {
     "data": {
      "text/html": [
       "<div>\n",
       "<style scoped>\n",
       "    .dataframe tbody tr th:only-of-type {\n",
       "        vertical-align: middle;\n",
       "    }\n",
       "\n",
       "    .dataframe tbody tr th {\n",
       "        vertical-align: top;\n",
       "    }\n",
       "\n",
       "    .dataframe thead th {\n",
       "        text-align: right;\n",
       "    }\n",
       "</style>\n",
       "<table border=\"1\" class=\"dataframe\">\n",
       "  <thead>\n",
       "    <tr style=\"text-align: right;\">\n",
       "      <th></th>\n",
       "      <th>Name</th>\n",
       "      <th>Age</th>\n",
       "      <th>City</th>\n",
       "      <th>Salary</th>\n",
       "      <th>Date</th>\n",
       "      <th>Category</th>\n",
       "    </tr>\n",
       "  </thead>\n",
       "  <tbody>\n",
       "    <tr>\n",
       "      <th>0</th>\n",
       "      <td>Alice</td>\n",
       "      <td>45.0</td>\n",
       "      <td>New York</td>\n",
       "      <td>95445.0</td>\n",
       "      <td>2023-01-01</td>\n",
       "      <td>A</td>\n",
       "    </tr>\n",
       "  </tbody>\n",
       "</table>\n",
       "</div>"
      ],
      "text/plain": [
       "    Name   Age      City   Salary        Date Category\n",
       "0  Alice  45.0  New York  95445.0  2023-01-01        A"
      ]
     },
     "execution_count": 49,
     "metadata": {},
     "output_type": "execute_result"
    }
   ],
   "source": [
    "# Selecting rows where the Name starts with 'A'\n",
    "df[df['Name'].str.startswith('A')]"
   ]
  },
  {
   "cell_type": "code",
   "execution_count": 50,
   "metadata": {},
   "outputs": [
    {
     "data": {
      "text/html": [
       "<div>\n",
       "<style scoped>\n",
       "    .dataframe tbody tr th:only-of-type {\n",
       "        vertical-align: middle;\n",
       "    }\n",
       "\n",
       "    .dataframe tbody tr th {\n",
       "        vertical-align: top;\n",
       "    }\n",
       "\n",
       "    .dataframe thead th {\n",
       "        text-align: right;\n",
       "    }\n",
       "</style>\n",
       "<table border=\"1\" class=\"dataframe\">\n",
       "  <thead>\n",
       "    <tr style=\"text-align: right;\">\n",
       "      <th></th>\n",
       "      <th>Name</th>\n",
       "      <th>Age</th>\n",
       "      <th>City</th>\n",
       "      <th>Salary</th>\n",
       "      <th>Date</th>\n",
       "      <th>Category</th>\n",
       "    </tr>\n",
       "  </thead>\n",
       "  <tbody>\n",
       "    <tr>\n",
       "      <th>0</th>\n",
       "      <td>Alice</td>\n",
       "      <td>45.0</td>\n",
       "      <td>New York</td>\n",
       "      <td>95445.0</td>\n",
       "      <td>2023-01-01</td>\n",
       "      <td>A</td>\n",
       "    </tr>\n",
       "    <tr>\n",
       "      <th>2</th>\n",
       "      <td>Charlie</td>\n",
       "      <td>60.0</td>\n",
       "      <td>Tokyo</td>\n",
       "      <td>62330.0</td>\n",
       "      <td>2023-01-03</td>\n",
       "      <td>C</td>\n",
       "    </tr>\n",
       "    <tr>\n",
       "      <th>6</th>\n",
       "      <td>Grace</td>\n",
       "      <td>46.0</td>\n",
       "      <td>Berlin</td>\n",
       "      <td>57141.0</td>\n",
       "      <td>2023-01-07</td>\n",
       "      <td>C</td>\n",
       "    </tr>\n",
       "    <tr>\n",
       "      <th>12</th>\n",
       "      <td>Grace</td>\n",
       "      <td>29.0</td>\n",
       "      <td>Berlin</td>\n",
       "      <td>57141.0</td>\n",
       "      <td>2023-01-07</td>\n",
       "      <td>B</td>\n",
       "    </tr>\n",
       "  </tbody>\n",
       "</table>\n",
       "</div>"
      ],
      "text/plain": [
       "       Name   Age      City   Salary        Date Category\n",
       "0     Alice  45.0  New York  95445.0  2023-01-01        A\n",
       "2   Charlie  60.0     Tokyo  62330.0  2023-01-03        C\n",
       "6     Grace  46.0    Berlin  57141.0  2023-01-07        C\n",
       "12    Grace  29.0    Berlin  57141.0  2023-01-07        B"
      ]
     },
     "execution_count": 50,
     "metadata": {},
     "output_type": "execute_result"
    }
   ],
   "source": [
    "# Select rows where the Name ends with 'e'\n",
    "df[df['Name'].str.endswith('e')]"
   ]
  },
  {
   "cell_type": "code",
   "execution_count": 51,
   "metadata": {},
   "outputs": [],
   "source": [
    "# Convert text to lowercase\n",
    "df['Name1'] = df['Name'].str.upper() # str.lower"
   ]
  },
  {
   "cell_type": "markdown",
   "metadata": {},
   "source": [
    "### **SLicing and Indexing:**"
   ]
  },
  {
   "cell_type": "code",
   "execution_count": 52,
   "metadata": {},
   "outputs": [
    {
     "data": {
      "text/html": [
       "<div>\n",
       "<style scoped>\n",
       "    .dataframe tbody tr th:only-of-type {\n",
       "        vertical-align: middle;\n",
       "    }\n",
       "\n",
       "    .dataframe tbody tr th {\n",
       "        vertical-align: top;\n",
       "    }\n",
       "\n",
       "    .dataframe thead th {\n",
       "        text-align: right;\n",
       "    }\n",
       "</style>\n",
       "<table border=\"1\" class=\"dataframe\">\n",
       "  <thead>\n",
       "    <tr style=\"text-align: right;\">\n",
       "      <th></th>\n",
       "      <th>Name</th>\n",
       "    </tr>\n",
       "  </thead>\n",
       "  <tbody>\n",
       "    <tr>\n",
       "      <th>0</th>\n",
       "      <td>Alice</td>\n",
       "    </tr>\n",
       "    <tr>\n",
       "      <th>1</th>\n",
       "      <td>Bob</td>\n",
       "    </tr>\n",
       "    <tr>\n",
       "      <th>2</th>\n",
       "      <td>Charlie</td>\n",
       "    </tr>\n",
       "    <tr>\n",
       "      <th>3</th>\n",
       "      <td>David</td>\n",
       "    </tr>\n",
       "    <tr>\n",
       "      <th>4</th>\n",
       "      <td>Eva</td>\n",
       "    </tr>\n",
       "    <tr>\n",
       "      <th>5</th>\n",
       "      <td>Frank</td>\n",
       "    </tr>\n",
       "    <tr>\n",
       "      <th>6</th>\n",
       "      <td>Grace</td>\n",
       "    </tr>\n",
       "    <tr>\n",
       "      <th>7</th>\n",
       "      <td>Hannah</td>\n",
       "    </tr>\n",
       "    <tr>\n",
       "      <th>8</th>\n",
       "      <td>Ivan</td>\n",
       "    </tr>\n",
       "    <tr>\n",
       "      <th>9</th>\n",
       "      <td>Jack</td>\n",
       "    </tr>\n",
       "    <tr>\n",
       "      <th>12</th>\n",
       "      <td>Grace</td>\n",
       "    </tr>\n",
       "    <tr>\n",
       "      <th>13</th>\n",
       "      <td>Hannah</td>\n",
       "    </tr>\n",
       "  </tbody>\n",
       "</table>\n",
       "</div>"
      ],
      "text/plain": [
       "       Name\n",
       "0     Alice\n",
       "1       Bob\n",
       "2   Charlie\n",
       "3     David\n",
       "4       Eva\n",
       "5     Frank\n",
       "6     Grace\n",
       "7    Hannah\n",
       "8      Ivan\n",
       "9      Jack\n",
       "12    Grace\n",
       "13   Hannah"
      ]
     },
     "execution_count": 52,
     "metadata": {},
     "output_type": "execute_result"
    }
   ],
   "source": [
    "# Select specific columns\n",
    "df[['Name']]"
   ]
  },
  {
   "cell_type": "code",
   "execution_count": 53,
   "metadata": {},
   "outputs": [
    {
     "data": {
      "text/html": [
       "<div>\n",
       "<style scoped>\n",
       "    .dataframe tbody tr th:only-of-type {\n",
       "        vertical-align: middle;\n",
       "    }\n",
       "\n",
       "    .dataframe tbody tr th {\n",
       "        vertical-align: top;\n",
       "    }\n",
       "\n",
       "    .dataframe thead th {\n",
       "        text-align: right;\n",
       "    }\n",
       "</style>\n",
       "<table border=\"1\" class=\"dataframe\">\n",
       "  <thead>\n",
       "    <tr style=\"text-align: right;\">\n",
       "      <th></th>\n",
       "      <th>Name</th>\n",
       "      <th>City</th>\n",
       "    </tr>\n",
       "  </thead>\n",
       "  <tbody>\n",
       "    <tr>\n",
       "      <th>0</th>\n",
       "      <td>Alice</td>\n",
       "      <td>New York</td>\n",
       "    </tr>\n",
       "    <tr>\n",
       "      <th>1</th>\n",
       "      <td>Bob</td>\n",
       "      <td>London</td>\n",
       "    </tr>\n",
       "    <tr>\n",
       "      <th>2</th>\n",
       "      <td>Charlie</td>\n",
       "      <td>Tokyo</td>\n",
       "    </tr>\n",
       "    <tr>\n",
       "      <th>3</th>\n",
       "      <td>David</td>\n",
       "      <td>Paris</td>\n",
       "    </tr>\n",
       "    <tr>\n",
       "      <th>4</th>\n",
       "      <td>Eva</td>\n",
       "      <td>Berlin</td>\n",
       "    </tr>\n",
       "    <tr>\n",
       "      <th>5</th>\n",
       "      <td>Frank</td>\n",
       "      <td>Paris</td>\n",
       "    </tr>\n",
       "    <tr>\n",
       "      <th>6</th>\n",
       "      <td>Grace</td>\n",
       "      <td>Berlin</td>\n",
       "    </tr>\n",
       "    <tr>\n",
       "      <th>7</th>\n",
       "      <td>Hannah</td>\n",
       "      <td>New York</td>\n",
       "    </tr>\n",
       "    <tr>\n",
       "      <th>8</th>\n",
       "      <td>Ivan</td>\n",
       "      <td>Tokyo</td>\n",
       "    </tr>\n",
       "    <tr>\n",
       "      <th>9</th>\n",
       "      <td>Jack</td>\n",
       "      <td>London</td>\n",
       "    </tr>\n",
       "    <tr>\n",
       "      <th>12</th>\n",
       "      <td>Grace</td>\n",
       "      <td>Berlin</td>\n",
       "    </tr>\n",
       "    <tr>\n",
       "      <th>13</th>\n",
       "      <td>Hannah</td>\n",
       "      <td>New York</td>\n",
       "    </tr>\n",
       "  </tbody>\n",
       "</table>\n",
       "</div>"
      ],
      "text/plain": [
       "       Name      City\n",
       "0     Alice  New York\n",
       "1       Bob    London\n",
       "2   Charlie     Tokyo\n",
       "3     David     Paris\n",
       "4       Eva    Berlin\n",
       "5     Frank     Paris\n",
       "6     Grace    Berlin\n",
       "7    Hannah  New York\n",
       "8      Ivan     Tokyo\n",
       "9      Jack    London\n",
       "12    Grace    Berlin\n",
       "13   Hannah  New York"
      ]
     },
     "execution_count": 53,
     "metadata": {},
     "output_type": "execute_result"
    }
   ],
   "source": [
    "# Select specific columns\n",
    "df[['Name', 'City']]"
   ]
  },
  {
   "cell_type": "code",
   "execution_count": 54,
   "metadata": {},
   "outputs": [
    {
     "data": {
      "text/html": [
       "<div>\n",
       "<style scoped>\n",
       "    .dataframe tbody tr th:only-of-type {\n",
       "        vertical-align: middle;\n",
       "    }\n",
       "\n",
       "    .dataframe tbody tr th {\n",
       "        vertical-align: top;\n",
       "    }\n",
       "\n",
       "    .dataframe thead th {\n",
       "        text-align: right;\n",
       "    }\n",
       "</style>\n",
       "<table border=\"1\" class=\"dataframe\">\n",
       "  <thead>\n",
       "    <tr style=\"text-align: right;\">\n",
       "      <th></th>\n",
       "      <th>Name</th>\n",
       "      <th>Age</th>\n",
       "      <th>City</th>\n",
       "      <th>Salary</th>\n",
       "      <th>Date</th>\n",
       "      <th>Category</th>\n",
       "      <th>Name1</th>\n",
       "    </tr>\n",
       "  </thead>\n",
       "  <tbody>\n",
       "    <tr>\n",
       "      <th>2</th>\n",
       "      <td>Charlie</td>\n",
       "      <td>60.0</td>\n",
       "      <td>Tokyo</td>\n",
       "      <td>62330.0</td>\n",
       "      <td>2023-01-03</td>\n",
       "      <td>C</td>\n",
       "      <td>CHARLIE</td>\n",
       "    </tr>\n",
       "    <tr>\n",
       "      <th>4</th>\n",
       "      <td>Eva</td>\n",
       "      <td>49.0</td>\n",
       "      <td>Berlin</td>\n",
       "      <td>65999.0</td>\n",
       "      <td>2023-01-05</td>\n",
       "      <td>B</td>\n",
       "      <td>EVA</td>\n",
       "    </tr>\n",
       "  </tbody>\n",
       "</table>\n",
       "</div>"
      ],
      "text/plain": [
       "      Name   Age    City   Salary        Date Category    Name1\n",
       "2  Charlie  60.0   Tokyo  62330.0  2023-01-03        C  CHARLIE\n",
       "4      Eva  49.0  Berlin  65999.0  2023-01-05        B      EVA"
      ]
     },
     "execution_count": 54,
     "metadata": {},
     "output_type": "execute_result"
    }
   ],
   "source": [
    "# Select rows by index\n",
    "df[2:6:2]"
   ]
  },
  {
   "cell_type": "code",
   "execution_count": 55,
   "metadata": {},
   "outputs": [
    {
     "data": {
      "text/html": [
       "<div>\n",
       "<style scoped>\n",
       "    .dataframe tbody tr th:only-of-type {\n",
       "        vertical-align: middle;\n",
       "    }\n",
       "\n",
       "    .dataframe tbody tr th {\n",
       "        vertical-align: top;\n",
       "    }\n",
       "\n",
       "    .dataframe thead th {\n",
       "        text-align: right;\n",
       "    }\n",
       "</style>\n",
       "<table border=\"1\" class=\"dataframe\">\n",
       "  <thead>\n",
       "    <tr style=\"text-align: right;\">\n",
       "      <th></th>\n",
       "      <th>Name</th>\n",
       "      <th>Age</th>\n",
       "      <th>City</th>\n",
       "      <th>Salary</th>\n",
       "      <th>Date</th>\n",
       "      <th>Category</th>\n",
       "      <th>Name1</th>\n",
       "    </tr>\n",
       "  </thead>\n",
       "  <tbody>\n",
       "    <tr>\n",
       "      <th>6</th>\n",
       "      <td>Grace</td>\n",
       "      <td>46.0</td>\n",
       "      <td>Berlin</td>\n",
       "      <td>57141.0</td>\n",
       "      <td>2023-01-07</td>\n",
       "      <td>C</td>\n",
       "      <td>GRACE</td>\n",
       "    </tr>\n",
       "    <tr>\n",
       "      <th>8</th>\n",
       "      <td>Ivan</td>\n",
       "      <td>37.0</td>\n",
       "      <td>Tokyo</td>\n",
       "      <td>87016.0</td>\n",
       "      <td>2023-01-09</td>\n",
       "      <td>A</td>\n",
       "      <td>IVAN</td>\n",
       "    </tr>\n",
       "    <tr>\n",
       "      <th>12</th>\n",
       "      <td>Grace</td>\n",
       "      <td>29.0</td>\n",
       "      <td>Berlin</td>\n",
       "      <td>57141.0</td>\n",
       "      <td>2023-01-07</td>\n",
       "      <td>B</td>\n",
       "      <td>GRACE</td>\n",
       "    </tr>\n",
       "  </tbody>\n",
       "</table>\n",
       "</div>"
      ],
      "text/plain": [
       "     Name   Age    City   Salary        Date Category  Name1\n",
       "6   Grace  46.0  Berlin  57141.0  2023-01-07        C  GRACE\n",
       "8    Ivan  37.0   Tokyo  87016.0  2023-01-09        A   IVAN\n",
       "12  Grace  29.0  Berlin  57141.0  2023-01-07        B  GRACE"
      ]
     },
     "execution_count": 55,
     "metadata": {},
     "output_type": "execute_result"
    }
   ],
   "source": [
    "# Select rows by index\n",
    "df[-6:-1:2]"
   ]
  },
  {
   "cell_type": "code",
   "execution_count": 56,
   "metadata": {},
   "outputs": [
    {
     "data": {
      "text/html": [
       "<div>\n",
       "<style scoped>\n",
       "    .dataframe tbody tr th:only-of-type {\n",
       "        vertical-align: middle;\n",
       "    }\n",
       "\n",
       "    .dataframe tbody tr th {\n",
       "        vertical-align: top;\n",
       "    }\n",
       "\n",
       "    .dataframe thead th {\n",
       "        text-align: right;\n",
       "    }\n",
       "</style>\n",
       "<table border=\"1\" class=\"dataframe\">\n",
       "  <thead>\n",
       "    <tr style=\"text-align: right;\">\n",
       "      <th></th>\n",
       "      <th>Name</th>\n",
       "      <th>Age</th>\n",
       "      <th>City</th>\n",
       "      <th>Salary</th>\n",
       "      <th>Date</th>\n",
       "      <th>Category</th>\n",
       "      <th>Name1</th>\n",
       "    </tr>\n",
       "  </thead>\n",
       "  <tbody>\n",
       "    <tr>\n",
       "      <th>0</th>\n",
       "      <td>Alice</td>\n",
       "      <td>45.0</td>\n",
       "      <td>New York</td>\n",
       "      <td>95445.0</td>\n",
       "      <td>2023-01-01</td>\n",
       "      <td>A</td>\n",
       "      <td>ALICE</td>\n",
       "    </tr>\n",
       "    <tr>\n",
       "      <th>1</th>\n",
       "      <td>Bob</td>\n",
       "      <td>58.0</td>\n",
       "      <td>London</td>\n",
       "      <td>86235.0</td>\n",
       "      <td>2023-01-02</td>\n",
       "      <td>B</td>\n",
       "      <td>BOB</td>\n",
       "    </tr>\n",
       "    <tr>\n",
       "      <th>2</th>\n",
       "      <td>Charlie</td>\n",
       "      <td>60.0</td>\n",
       "      <td>Tokyo</td>\n",
       "      <td>62330.0</td>\n",
       "      <td>2023-01-03</td>\n",
       "      <td>C</td>\n",
       "      <td>CHARLIE</td>\n",
       "    </tr>\n",
       "    <tr>\n",
       "      <th>4</th>\n",
       "      <td>Eva</td>\n",
       "      <td>49.0</td>\n",
       "      <td>Berlin</td>\n",
       "      <td>65999.0</td>\n",
       "      <td>2023-01-05</td>\n",
       "      <td>B</td>\n",
       "      <td>EVA</td>\n",
       "    </tr>\n",
       "    <tr>\n",
       "      <th>5</th>\n",
       "      <td>Frank</td>\n",
       "      <td>67.0</td>\n",
       "      <td>Paris</td>\n",
       "      <td>88320.0</td>\n",
       "      <td>2023-01-06</td>\n",
       "      <td>A</td>\n",
       "      <td>FRANK</td>\n",
       "    </tr>\n",
       "    <tr>\n",
       "      <th>6</th>\n",
       "      <td>Grace</td>\n",
       "      <td>46.0</td>\n",
       "      <td>Berlin</td>\n",
       "      <td>57141.0</td>\n",
       "      <td>2023-01-07</td>\n",
       "      <td>C</td>\n",
       "      <td>GRACE</td>\n",
       "    </tr>\n",
       "    <tr>\n",
       "      <th>7</th>\n",
       "      <td>Hannah</td>\n",
       "      <td>60.0</td>\n",
       "      <td>New York</td>\n",
       "      <td>65413.0</td>\n",
       "      <td>2023-01-08</td>\n",
       "      <td>B</td>\n",
       "      <td>HANNAH</td>\n",
       "    </tr>\n",
       "    <tr>\n",
       "      <th>8</th>\n",
       "      <td>Ivan</td>\n",
       "      <td>37.0</td>\n",
       "      <td>Tokyo</td>\n",
       "      <td>87016.0</td>\n",
       "      <td>2023-01-09</td>\n",
       "      <td>A</td>\n",
       "      <td>IVAN</td>\n",
       "    </tr>\n",
       "    <tr>\n",
       "      <th>9</th>\n",
       "      <td>Jack</td>\n",
       "      <td>31.0</td>\n",
       "      <td>London</td>\n",
       "      <td>58725.0</td>\n",
       "      <td>2023-01-10</td>\n",
       "      <td>B</td>\n",
       "      <td>JACK</td>\n",
       "    </tr>\n",
       "    <tr>\n",
       "      <th>13</th>\n",
       "      <td>Hannah</td>\n",
       "      <td>60.0</td>\n",
       "      <td>New York</td>\n",
       "      <td>70425.0</td>\n",
       "      <td>2023-01-08</td>\n",
       "      <td>B</td>\n",
       "      <td>HANNAH</td>\n",
       "    </tr>\n",
       "  </tbody>\n",
       "</table>\n",
       "</div>"
      ],
      "text/plain": [
       "       Name   Age      City   Salary        Date Category    Name1\n",
       "0     Alice  45.0  New York  95445.0  2023-01-01        A    ALICE\n",
       "1       Bob  58.0    London  86235.0  2023-01-02        B      BOB\n",
       "2   Charlie  60.0     Tokyo  62330.0  2023-01-03        C  CHARLIE\n",
       "4       Eva  49.0    Berlin  65999.0  2023-01-05        B      EVA\n",
       "5     Frank  67.0     Paris  88320.0  2023-01-06        A    FRANK\n",
       "6     Grace  46.0    Berlin  57141.0  2023-01-07        C    GRACE\n",
       "7    Hannah  60.0  New York  65413.0  2023-01-08        B   HANNAH\n",
       "8      Ivan  37.0     Tokyo  87016.0  2023-01-09        A     IVAN\n",
       "9      Jack  31.0    London  58725.0  2023-01-10        B     JACK\n",
       "13   Hannah  60.0  New York  70425.0  2023-01-08        B   HANNAH"
      ]
     },
     "execution_count": 56,
     "metadata": {},
     "output_type": "execute_result"
    }
   ],
   "source": [
    "# Select rows based on a condition\n",
    "df[df['Age'] >= 30]"
   ]
  },
  {
   "cell_type": "code",
   "execution_count": 57,
   "metadata": {},
   "outputs": [
    {
     "data": {
      "text/html": [
       "<div>\n",
       "<style scoped>\n",
       "    .dataframe tbody tr th:only-of-type {\n",
       "        vertical-align: middle;\n",
       "    }\n",
       "\n",
       "    .dataframe tbody tr th {\n",
       "        vertical-align: top;\n",
       "    }\n",
       "\n",
       "    .dataframe thead th {\n",
       "        text-align: right;\n",
       "    }\n",
       "</style>\n",
       "<table border=\"1\" class=\"dataframe\">\n",
       "  <thead>\n",
       "    <tr style=\"text-align: right;\">\n",
       "      <th></th>\n",
       "      <th>Name</th>\n",
       "      <th>Age</th>\n",
       "      <th>City</th>\n",
       "      <th>Salary</th>\n",
       "      <th>Date</th>\n",
       "      <th>Category</th>\n",
       "      <th>Name1</th>\n",
       "    </tr>\n",
       "  </thead>\n",
       "  <tbody>\n",
       "    <tr>\n",
       "      <th>0</th>\n",
       "      <td>Alice</td>\n",
       "      <td>45.0</td>\n",
       "      <td>New York</td>\n",
       "      <td>95445.0</td>\n",
       "      <td>2023-01-01</td>\n",
       "      <td>A</td>\n",
       "      <td>ALICE</td>\n",
       "    </tr>\n",
       "    <tr>\n",
       "      <th>1</th>\n",
       "      <td>Bob</td>\n",
       "      <td>58.0</td>\n",
       "      <td>London</td>\n",
       "      <td>86235.0</td>\n",
       "      <td>2023-01-02</td>\n",
       "      <td>B</td>\n",
       "      <td>BOB</td>\n",
       "    </tr>\n",
       "    <tr>\n",
       "      <th>2</th>\n",
       "      <td>Charlie</td>\n",
       "      <td>60.0</td>\n",
       "      <td>Tokyo</td>\n",
       "      <td>62330.0</td>\n",
       "      <td>2023-01-03</td>\n",
       "      <td>C</td>\n",
       "      <td>CHARLIE</td>\n",
       "    </tr>\n",
       "    <tr>\n",
       "      <th>3</th>\n",
       "      <td>David</td>\n",
       "      <td>28.0</td>\n",
       "      <td>Paris</td>\n",
       "      <td>46022.0</td>\n",
       "      <td>2023-01-04</td>\n",
       "      <td>A</td>\n",
       "      <td>DAVID</td>\n",
       "    </tr>\n",
       "    <tr>\n",
       "      <th>4</th>\n",
       "      <td>Eva</td>\n",
       "      <td>49.0</td>\n",
       "      <td>Berlin</td>\n",
       "      <td>65999.0</td>\n",
       "      <td>2023-01-05</td>\n",
       "      <td>B</td>\n",
       "      <td>EVA</td>\n",
       "    </tr>\n",
       "    <tr>\n",
       "      <th>5</th>\n",
       "      <td>Frank</td>\n",
       "      <td>67.0</td>\n",
       "      <td>Paris</td>\n",
       "      <td>88320.0</td>\n",
       "      <td>2023-01-06</td>\n",
       "      <td>A</td>\n",
       "      <td>FRANK</td>\n",
       "    </tr>\n",
       "    <tr>\n",
       "      <th>6</th>\n",
       "      <td>Grace</td>\n",
       "      <td>46.0</td>\n",
       "      <td>Berlin</td>\n",
       "      <td>57141.0</td>\n",
       "      <td>2023-01-07</td>\n",
       "      <td>C</td>\n",
       "      <td>GRACE</td>\n",
       "    </tr>\n",
       "    <tr>\n",
       "      <th>7</th>\n",
       "      <td>Hannah</td>\n",
       "      <td>60.0</td>\n",
       "      <td>New York</td>\n",
       "      <td>65413.0</td>\n",
       "      <td>2023-01-08</td>\n",
       "      <td>B</td>\n",
       "      <td>HANNAH</td>\n",
       "    </tr>\n",
       "    <tr>\n",
       "      <th>8</th>\n",
       "      <td>Ivan</td>\n",
       "      <td>37.0</td>\n",
       "      <td>Tokyo</td>\n",
       "      <td>87016.0</td>\n",
       "      <td>2023-01-09</td>\n",
       "      <td>A</td>\n",
       "      <td>IVAN</td>\n",
       "    </tr>\n",
       "    <tr>\n",
       "      <th>9</th>\n",
       "      <td>Jack</td>\n",
       "      <td>31.0</td>\n",
       "      <td>London</td>\n",
       "      <td>58725.0</td>\n",
       "      <td>2023-01-10</td>\n",
       "      <td>B</td>\n",
       "      <td>JACK</td>\n",
       "    </tr>\n",
       "    <tr>\n",
       "      <th>12</th>\n",
       "      <td>Grace</td>\n",
       "      <td>29.0</td>\n",
       "      <td>Berlin</td>\n",
       "      <td>57141.0</td>\n",
       "      <td>2023-01-07</td>\n",
       "      <td>B</td>\n",
       "      <td>GRACE</td>\n",
       "    </tr>\n",
       "    <tr>\n",
       "      <th>13</th>\n",
       "      <td>Hannah</td>\n",
       "      <td>60.0</td>\n",
       "      <td>New York</td>\n",
       "      <td>70425.0</td>\n",
       "      <td>2023-01-08</td>\n",
       "      <td>B</td>\n",
       "      <td>HANNAH</td>\n",
       "    </tr>\n",
       "  </tbody>\n",
       "</table>\n",
       "</div>"
      ],
      "text/plain": [
       "       Name   Age      City   Salary        Date Category    Name1\n",
       "0     Alice  45.0  New York  95445.0  2023-01-01        A    ALICE\n",
       "1       Bob  58.0    London  86235.0  2023-01-02        B      BOB\n",
       "2   Charlie  60.0     Tokyo  62330.0  2023-01-03        C  CHARLIE\n",
       "3     David  28.0     Paris  46022.0  2023-01-04        A    DAVID\n",
       "4       Eva  49.0    Berlin  65999.0  2023-01-05        B      EVA\n",
       "5     Frank  67.0     Paris  88320.0  2023-01-06        A    FRANK\n",
       "6     Grace  46.0    Berlin  57141.0  2023-01-07        C    GRACE\n",
       "7    Hannah  60.0  New York  65413.0  2023-01-08        B   HANNAH\n",
       "8      Ivan  37.0     Tokyo  87016.0  2023-01-09        A     IVAN\n",
       "9      Jack  31.0    London  58725.0  2023-01-10        B     JACK\n",
       "12    Grace  29.0    Berlin  57141.0  2023-01-07        B    GRACE\n",
       "13   Hannah  60.0  New York  70425.0  2023-01-08        B   HANNAH"
      ]
     },
     "execution_count": 57,
     "metadata": {},
     "output_type": "execute_result"
    }
   ],
   "source": [
    "# Select rows based on multiple conditions\n",
    "df_filtered = df[df['Age'] > 20]\n",
    "df_filtered"
   ]
  },
  {
   "cell_type": "code",
   "execution_count": 58,
   "metadata": {},
   "outputs": [
    {
     "data": {
      "text/html": [
       "<div>\n",
       "<style scoped>\n",
       "    .dataframe tbody tr th:only-of-type {\n",
       "        vertical-align: middle;\n",
       "    }\n",
       "\n",
       "    .dataframe tbody tr th {\n",
       "        vertical-align: top;\n",
       "    }\n",
       "\n",
       "    .dataframe thead th {\n",
       "        text-align: right;\n",
       "    }\n",
       "</style>\n",
       "<table border=\"1\" class=\"dataframe\">\n",
       "  <thead>\n",
       "    <tr style=\"text-align: right;\">\n",
       "      <th></th>\n",
       "      <th>Name</th>\n",
       "      <th>Age</th>\n",
       "      <th>City</th>\n",
       "      <th>Salary</th>\n",
       "      <th>Date</th>\n",
       "      <th>Category</th>\n",
       "      <th>Name1</th>\n",
       "    </tr>\n",
       "  </thead>\n",
       "  <tbody>\n",
       "    <tr>\n",
       "      <th>3</th>\n",
       "      <td>David</td>\n",
       "      <td>28.0</td>\n",
       "      <td>Paris</td>\n",
       "      <td>46022.0</td>\n",
       "      <td>2023-01-04</td>\n",
       "      <td>A</td>\n",
       "      <td>DAVID</td>\n",
       "    </tr>\n",
       "  </tbody>\n",
       "</table>\n",
       "</div>"
      ],
      "text/plain": [
       "    Name   Age   City   Salary        Date Category  Name1\n",
       "3  David  28.0  Paris  46022.0  2023-01-04        A  DAVID"
      ]
     },
     "execution_count": 58,
     "metadata": {},
     "output_type": "execute_result"
    }
   ],
   "source": [
    "df_filtered = df[(df['Age'] > 20) & (df['Name'] == 'David')]\n",
    "df_filtered"
   ]
  },
  {
   "cell_type": "code",
   "execution_count": 59,
   "metadata": {},
   "outputs": [
    {
     "data": {
      "text/html": [
       "<div>\n",
       "<style scoped>\n",
       "    .dataframe tbody tr th:only-of-type {\n",
       "        vertical-align: middle;\n",
       "    }\n",
       "\n",
       "    .dataframe tbody tr th {\n",
       "        vertical-align: top;\n",
       "    }\n",
       "\n",
       "    .dataframe thead th {\n",
       "        text-align: right;\n",
       "    }\n",
       "</style>\n",
       "<table border=\"1\" class=\"dataframe\">\n",
       "  <thead>\n",
       "    <tr style=\"text-align: right;\">\n",
       "      <th></th>\n",
       "      <th>Name</th>\n",
       "      <th>Age</th>\n",
       "      <th>City</th>\n",
       "      <th>Salary</th>\n",
       "      <th>Date</th>\n",
       "      <th>Category</th>\n",
       "      <th>Name1</th>\n",
       "    </tr>\n",
       "  </thead>\n",
       "  <tbody>\n",
       "    <tr>\n",
       "      <th>0</th>\n",
       "      <td>Alice</td>\n",
       "      <td>45.0</td>\n",
       "      <td>New York</td>\n",
       "      <td>95445.0</td>\n",
       "      <td>2023-01-01</td>\n",
       "      <td>A</td>\n",
       "      <td>ALICE</td>\n",
       "    </tr>\n",
       "    <tr>\n",
       "      <th>7</th>\n",
       "      <td>Hannah</td>\n",
       "      <td>60.0</td>\n",
       "      <td>New York</td>\n",
       "      <td>65413.0</td>\n",
       "      <td>2023-01-08</td>\n",
       "      <td>B</td>\n",
       "      <td>HANNAH</td>\n",
       "    </tr>\n",
       "    <tr>\n",
       "      <th>13</th>\n",
       "      <td>Hannah</td>\n",
       "      <td>60.0</td>\n",
       "      <td>New York</td>\n",
       "      <td>70425.0</td>\n",
       "      <td>2023-01-08</td>\n",
       "      <td>B</td>\n",
       "      <td>HANNAH</td>\n",
       "    </tr>\n",
       "  </tbody>\n",
       "</table>\n",
       "</div>"
      ],
      "text/plain": [
       "      Name   Age      City   Salary        Date Category   Name1\n",
       "0    Alice  45.0  New York  95445.0  2023-01-01        A   ALICE\n",
       "7   Hannah  60.0  New York  65413.0  2023-01-08        B  HANNAH\n",
       "13  Hannah  60.0  New York  70425.0  2023-01-08        B  HANNAH"
      ]
     },
     "execution_count": 59,
     "metadata": {},
     "output_type": "execute_result"
    }
   ],
   "source": [
    "df_filtered = df[df['City'].isin(['New York', 'San Francisco'])]\n",
    "df_filtered"
   ]
  },
  {
   "cell_type": "code",
   "execution_count": 60,
   "metadata": {},
   "outputs": [
    {
     "data": {
      "text/html": [
       "<div>\n",
       "<style scoped>\n",
       "    .dataframe tbody tr th:only-of-type {\n",
       "        vertical-align: middle;\n",
       "    }\n",
       "\n",
       "    .dataframe tbody tr th {\n",
       "        vertical-align: top;\n",
       "    }\n",
       "\n",
       "    .dataframe thead th {\n",
       "        text-align: right;\n",
       "    }\n",
       "</style>\n",
       "<table border=\"1\" class=\"dataframe\">\n",
       "  <thead>\n",
       "    <tr style=\"text-align: right;\">\n",
       "      <th></th>\n",
       "      <th>Name</th>\n",
       "      <th>Age</th>\n",
       "      <th>City</th>\n",
       "      <th>Salary</th>\n",
       "      <th>Date</th>\n",
       "      <th>Category</th>\n",
       "      <th>Name1</th>\n",
       "    </tr>\n",
       "  </thead>\n",
       "  <tbody>\n",
       "    <tr>\n",
       "      <th>0</th>\n",
       "      <td>Alice</td>\n",
       "      <td>45.0</td>\n",
       "      <td>New York</td>\n",
       "      <td>95445.0</td>\n",
       "      <td>2023-01-01</td>\n",
       "      <td>A</td>\n",
       "      <td>ALICE</td>\n",
       "    </tr>\n",
       "    <tr>\n",
       "      <th>1</th>\n",
       "      <td>Bob</td>\n",
       "      <td>58.0</td>\n",
       "      <td>London</td>\n",
       "      <td>86235.0</td>\n",
       "      <td>2023-01-02</td>\n",
       "      <td>B</td>\n",
       "      <td>BOB</td>\n",
       "    </tr>\n",
       "    <tr>\n",
       "      <th>2</th>\n",
       "      <td>Charlie</td>\n",
       "      <td>60.0</td>\n",
       "      <td>Tokyo</td>\n",
       "      <td>62330.0</td>\n",
       "      <td>2023-01-03</td>\n",
       "      <td>C</td>\n",
       "      <td>CHARLIE</td>\n",
       "    </tr>\n",
       "    <tr>\n",
       "      <th>4</th>\n",
       "      <td>Eva</td>\n",
       "      <td>49.0</td>\n",
       "      <td>Berlin</td>\n",
       "      <td>65999.0</td>\n",
       "      <td>2023-01-05</td>\n",
       "      <td>B</td>\n",
       "      <td>EVA</td>\n",
       "    </tr>\n",
       "    <tr>\n",
       "      <th>5</th>\n",
       "      <td>Frank</td>\n",
       "      <td>67.0</td>\n",
       "      <td>Paris</td>\n",
       "      <td>88320.0</td>\n",
       "      <td>2023-01-06</td>\n",
       "      <td>A</td>\n",
       "      <td>FRANK</td>\n",
       "    </tr>\n",
       "    <tr>\n",
       "      <th>6</th>\n",
       "      <td>Grace</td>\n",
       "      <td>46.0</td>\n",
       "      <td>Berlin</td>\n",
       "      <td>57141.0</td>\n",
       "      <td>2023-01-07</td>\n",
       "      <td>C</td>\n",
       "      <td>GRACE</td>\n",
       "    </tr>\n",
       "    <tr>\n",
       "      <th>7</th>\n",
       "      <td>Hannah</td>\n",
       "      <td>60.0</td>\n",
       "      <td>New York</td>\n",
       "      <td>65413.0</td>\n",
       "      <td>2023-01-08</td>\n",
       "      <td>B</td>\n",
       "      <td>HANNAH</td>\n",
       "    </tr>\n",
       "    <tr>\n",
       "      <th>8</th>\n",
       "      <td>Ivan</td>\n",
       "      <td>37.0</td>\n",
       "      <td>Tokyo</td>\n",
       "      <td>87016.0</td>\n",
       "      <td>2023-01-09</td>\n",
       "      <td>A</td>\n",
       "      <td>IVAN</td>\n",
       "    </tr>\n",
       "    <tr>\n",
       "      <th>9</th>\n",
       "      <td>Jack</td>\n",
       "      <td>31.0</td>\n",
       "      <td>London</td>\n",
       "      <td>58725.0</td>\n",
       "      <td>2023-01-10</td>\n",
       "      <td>B</td>\n",
       "      <td>JACK</td>\n",
       "    </tr>\n",
       "    <tr>\n",
       "      <th>13</th>\n",
       "      <td>Hannah</td>\n",
       "      <td>60.0</td>\n",
       "      <td>New York</td>\n",
       "      <td>70425.0</td>\n",
       "      <td>2023-01-08</td>\n",
       "      <td>B</td>\n",
       "      <td>HANNAH</td>\n",
       "    </tr>\n",
       "  </tbody>\n",
       "</table>\n",
       "</div>"
      ],
      "text/plain": [
       "       Name   Age      City   Salary        Date Category    Name1\n",
       "0     Alice  45.0  New York  95445.0  2023-01-01        A    ALICE\n",
       "1       Bob  58.0    London  86235.0  2023-01-02        B      BOB\n",
       "2   Charlie  60.0     Tokyo  62330.0  2023-01-03        C  CHARLIE\n",
       "4       Eva  49.0    Berlin  65999.0  2023-01-05        B      EVA\n",
       "5     Frank  67.0     Paris  88320.0  2023-01-06        A    FRANK\n",
       "6     Grace  46.0    Berlin  57141.0  2023-01-07        C    GRACE\n",
       "7    Hannah  60.0  New York  65413.0  2023-01-08        B   HANNAH\n",
       "8      Ivan  37.0     Tokyo  87016.0  2023-01-09        A     IVAN\n",
       "9      Jack  31.0    London  58725.0  2023-01-10        B     JACK\n",
       "13   Hannah  60.0  New York  70425.0  2023-01-08        B   HANNAH"
      ]
     },
     "execution_count": 60,
     "metadata": {},
     "output_type": "execute_result"
    }
   ],
   "source": [
    "df_filtered = df.query('Age > 30')\n",
    "df_filtered"
   ]
  },
  {
   "cell_type": "code",
   "execution_count": 61,
   "metadata": {},
   "outputs": [
    {
     "data": {
      "text/html": [
       "<div>\n",
       "<style scoped>\n",
       "    .dataframe tbody tr th:only-of-type {\n",
       "        vertical-align: middle;\n",
       "    }\n",
       "\n",
       "    .dataframe tbody tr th {\n",
       "        vertical-align: top;\n",
       "    }\n",
       "\n",
       "    .dataframe thead th {\n",
       "        text-align: right;\n",
       "    }\n",
       "</style>\n",
       "<table border=\"1\" class=\"dataframe\">\n",
       "  <thead>\n",
       "    <tr style=\"text-align: right;\">\n",
       "      <th></th>\n",
       "      <th>Name</th>\n",
       "      <th>Age</th>\n",
       "      <th>City</th>\n",
       "      <th>Salary</th>\n",
       "      <th>Date</th>\n",
       "      <th>Category</th>\n",
       "      <th>Name1</th>\n",
       "    </tr>\n",
       "  </thead>\n",
       "  <tbody>\n",
       "    <tr>\n",
       "      <th>0</th>\n",
       "      <td>Alice</td>\n",
       "      <td>45.0</td>\n",
       "      <td>New York</td>\n",
       "      <td>95445.0</td>\n",
       "      <td>2023-01-01</td>\n",
       "      <td>A</td>\n",
       "      <td>ALICE</td>\n",
       "    </tr>\n",
       "  </tbody>\n",
       "</table>\n",
       "</div>"
      ],
      "text/plain": [
       "    Name   Age      City   Salary        Date Category  Name1\n",
       "0  Alice  45.0  New York  95445.0  2023-01-01        A  ALICE"
      ]
     },
     "execution_count": 61,
     "metadata": {},
     "output_type": "execute_result"
    }
   ],
   "source": [
    "df.query('Name == \"Alice\"')"
   ]
  },
  {
   "cell_type": "code",
   "execution_count": 68,
   "metadata": {},
   "outputs": [
    {
     "data": {
      "text/html": [
       "<div>\n",
       "<style scoped>\n",
       "    .dataframe tbody tr th:only-of-type {\n",
       "        vertical-align: middle;\n",
       "    }\n",
       "\n",
       "    .dataframe tbody tr th {\n",
       "        vertical-align: top;\n",
       "    }\n",
       "\n",
       "    .dataframe thead th {\n",
       "        text-align: right;\n",
       "    }\n",
       "</style>\n",
       "<table border=\"1\" class=\"dataframe\">\n",
       "  <thead>\n",
       "    <tr style=\"text-align: right;\">\n",
       "      <th></th>\n",
       "      <th>Name</th>\n",
       "      <th>Age</th>\n",
       "      <th>City</th>\n",
       "      <th>Salary</th>\n",
       "      <th>Date</th>\n",
       "      <th>Category</th>\n",
       "      <th>Name1</th>\n",
       "    </tr>\n",
       "  </thead>\n",
       "  <tbody>\n",
       "    <tr>\n",
       "      <th>0</th>\n",
       "      <td>Alice</td>\n",
       "      <td>45.0</td>\n",
       "      <td>New York</td>\n",
       "      <td>95445.0</td>\n",
       "      <td>2023-01-01</td>\n",
       "      <td>A</td>\n",
       "      <td>ALICE</td>\n",
       "    </tr>\n",
       "    <tr>\n",
       "      <th>1</th>\n",
       "      <td>Bob</td>\n",
       "      <td>58.0</td>\n",
       "      <td>London</td>\n",
       "      <td>86235.0</td>\n",
       "      <td>2023-01-02</td>\n",
       "      <td>B</td>\n",
       "      <td>BOB</td>\n",
       "    </tr>\n",
       "    <tr>\n",
       "      <th>2</th>\n",
       "      <td>Charlie</td>\n",
       "      <td>60.0</td>\n",
       "      <td>Tokyo</td>\n",
       "      <td>62330.0</td>\n",
       "      <td>2023-01-03</td>\n",
       "      <td>C</td>\n",
       "      <td>CHARLIE</td>\n",
       "    </tr>\n",
       "    <tr>\n",
       "      <th>3</th>\n",
       "      <td>David</td>\n",
       "      <td>28.0</td>\n",
       "      <td>Paris</td>\n",
       "      <td>46022.0</td>\n",
       "      <td>2023-01-04</td>\n",
       "      <td>A</td>\n",
       "      <td>DAVID</td>\n",
       "    </tr>\n",
       "    <tr>\n",
       "      <th>4</th>\n",
       "      <td>Roshan</td>\n",
       "      <td>49.0</td>\n",
       "      <td>Berlin</td>\n",
       "      <td>65999.0</td>\n",
       "      <td>2023-01-05</td>\n",
       "      <td>B</td>\n",
       "      <td>EVA</td>\n",
       "    </tr>\n",
       "    <tr>\n",
       "      <th>5</th>\n",
       "      <td>Frank</td>\n",
       "      <td>67.0</td>\n",
       "      <td>Paris</td>\n",
       "      <td>56000.0</td>\n",
       "      <td>2023-01-06</td>\n",
       "      <td>A</td>\n",
       "      <td>FRANK</td>\n",
       "    </tr>\n",
       "    <tr>\n",
       "      <th>6</th>\n",
       "      <td>Grace</td>\n",
       "      <td>46.0</td>\n",
       "      <td>Berlin</td>\n",
       "      <td>57141.0</td>\n",
       "      <td>2023-01-07</td>\n",
       "      <td>C</td>\n",
       "      <td>GRACE</td>\n",
       "    </tr>\n",
       "    <tr>\n",
       "      <th>7</th>\n",
       "      <td>Hannah</td>\n",
       "      <td>60.0</td>\n",
       "      <td>New York</td>\n",
       "      <td>65413.0</td>\n",
       "      <td>2023-01-08</td>\n",
       "      <td>B</td>\n",
       "      <td>HANNAH</td>\n",
       "    </tr>\n",
       "    <tr>\n",
       "      <th>8</th>\n",
       "      <td>Ivan</td>\n",
       "      <td>37.0</td>\n",
       "      <td>Tokyo</td>\n",
       "      <td>87016.0</td>\n",
       "      <td>2023-01-09</td>\n",
       "      <td>A</td>\n",
       "      <td>IVAN</td>\n",
       "    </tr>\n",
       "    <tr>\n",
       "      <th>9</th>\n",
       "      <td>Jack</td>\n",
       "      <td>31.0</td>\n",
       "      <td>London</td>\n",
       "      <td>58725.0</td>\n",
       "      <td>2023-01-10</td>\n",
       "      <td>B</td>\n",
       "      <td>JACK</td>\n",
       "    </tr>\n",
       "    <tr>\n",
       "      <th>12</th>\n",
       "      <td>Grace</td>\n",
       "      <td>29.0</td>\n",
       "      <td>Berlin</td>\n",
       "      <td>57141.0</td>\n",
       "      <td>2023-01-07</td>\n",
       "      <td>B</td>\n",
       "      <td>GRACE</td>\n",
       "    </tr>\n",
       "    <tr>\n",
       "      <th>13</th>\n",
       "      <td>Hannah</td>\n",
       "      <td>60.0</td>\n",
       "      <td>New York</td>\n",
       "      <td>70425.0</td>\n",
       "      <td>2023-01-08</td>\n",
       "      <td>B</td>\n",
       "      <td>HANNAH</td>\n",
       "    </tr>\n",
       "  </tbody>\n",
       "</table>\n",
       "</div>"
      ],
      "text/plain": [
       "       Name   Age      City   Salary        Date Category    Name1\n",
       "0     Alice  45.0  New York  95445.0  2023-01-01        A    ALICE\n",
       "1       Bob  58.0    London  86235.0  2023-01-02        B      BOB\n",
       "2   Charlie  60.0     Tokyo  62330.0  2023-01-03        C  CHARLIE\n",
       "3     David  28.0     Paris  46022.0  2023-01-04        A    DAVID\n",
       "4    Roshan  49.0    Berlin  65999.0  2023-01-05        B      EVA\n",
       "5     Frank  67.0     Paris  56000.0  2023-01-06        A    FRANK\n",
       "6     Grace  46.0    Berlin  57141.0  2023-01-07        C    GRACE\n",
       "7    Hannah  60.0  New York  65413.0  2023-01-08        B   HANNAH\n",
       "8      Ivan  37.0     Tokyo  87016.0  2023-01-09        A     IVAN\n",
       "9      Jack  31.0    London  58725.0  2023-01-10        B     JACK\n",
       "12    Grace  29.0    Berlin  57141.0  2023-01-07        B    GRACE\n",
       "13   Hannah  60.0  New York  70425.0  2023-01-08        B   HANNAH"
      ]
     },
     "execution_count": 68,
     "metadata": {},
     "output_type": "execute_result"
    }
   ],
   "source": [
    "df"
   ]
  },
  {
   "cell_type": "code",
   "execution_count": 64,
   "metadata": {},
   "outputs": [
    {
     "data": {
      "text/plain": [
       "'Eva'"
      ]
     },
     "execution_count": 64,
     "metadata": {},
     "output_type": "execute_result"
    }
   ],
   "source": [
    "df['Name'][4]"
   ]
  },
  {
   "cell_type": "code",
   "execution_count": 65,
   "metadata": {},
   "outputs": [
    {
     "name": "stdout",
     "output_type": "stream",
     "text": [
      "befor Eva\n",
      "after Roshan\n"
     ]
    }
   ],
   "source": [
    "print(\"befor\",df['Name'][4])\n",
    "df['Name'][4] = 'Roshan'\n",
    "print(\"after\",df['Name'][4])"
   ]
  },
  {
   "cell_type": "code",
   "execution_count": 67,
   "metadata": {},
   "outputs": [],
   "source": [
    "df['Salary'][5] = 56000"
   ]
  },
  {
   "cell_type": "markdown",
   "metadata": {},
   "source": [
    "### **Data Manipulation:** "
   ]
  },
  {
   "cell_type": "code",
   "execution_count": 69,
   "metadata": {},
   "outputs": [
    {
     "name": "stdout",
     "output_type": "stream",
     "text": [
      "Name               Bob\n",
      "Age               58.0\n",
      "City            London\n",
      "Salary         86235.0\n",
      "Date        2023-01-02\n",
      "Category             B\n",
      "Name1              BOB\n",
      "Name: 1, dtype: object\n"
     ]
    }
   ],
   "source": [
    "print(df.loc[1]) # Accessing a row by index"
   ]
  },
  {
   "cell_type": "code",
   "execution_count": 70,
   "metadata": {},
   "outputs": [
    {
     "name": "stdout",
     "output_type": "stream",
     "text": [
      "Bob\n"
     ]
    }
   ],
   "source": [
    "print(df.loc[1, 'Name']) # indexing by loc is using index value in number and column name in string\n",
    "# loc is faster than iloc"
   ]
  },
  {
   "cell_type": "code",
   "execution_count": 71,
   "metadata": {},
   "outputs": [
    {
     "name": "stdout",
     "output_type": "stream",
     "text": [
      "2    Charlie\n",
      "3      David\n",
      "Name: Name, dtype: object\n"
     ]
    }
   ],
   "source": [
    "print(df.loc[2:3, \"Name\"])"
   ]
  },
  {
   "cell_type": "code",
   "execution_count": 72,
   "metadata": {},
   "outputs": [
    {
     "name": "stdout",
     "output_type": "stream",
     "text": [
      "      Name   Age   City   Salary\n",
      "2  Charlie  60.0  Tokyo  62330.0\n",
      "3    David  28.0  Paris  46022.0\n"
     ]
    }
   ],
   "source": [
    "print(df.loc[2:3, \"Name\":\"Salary\"])"
   ]
  },
  {
   "cell_type": "code",
   "execution_count": 73,
   "metadata": {},
   "outputs": [
    {
     "name": "stdout",
     "output_type": "stream",
     "text": [
      "      Name   Age      City   Salary        Date Category    Name1\n",
      "0    Alice  45.0  New York  95445.0  2023-01-01        A    ALICE\n",
      "1      Bob  58.0    London  86235.0  2023-01-02        B      BOB\n",
      "2  Charlie  60.0     Tokyo  62330.0  2023-01-03        C  CHARLIE\n"
     ]
    }
   ],
   "source": [
    "print(df.iloc[0:3])"
   ]
  },
  {
   "cell_type": "code",
   "execution_count": 74,
   "metadata": {},
   "outputs": [
    {
     "name": "stdout",
     "output_type": "stream",
     "text": [
      "0    New York\n",
      "1      London\n",
      "2       Tokyo\n",
      "Name: City, dtype: object\n"
     ]
    }
   ],
   "source": [
    "print(df.iloc[0:3, 2]) # The indexing by iloc uses numeric index values for rows and column names"
   ]
  },
  {
   "cell_type": "code",
   "execution_count": 75,
   "metadata": {},
   "outputs": [
    {
     "name": "stdout",
     "output_type": "stream",
     "text": [
      "      Name   Age      City   Salary        Date Category    Name1\n",
      "0    Alice  45.0  New York  95445.0  2023-01-01        A    ALICE\n",
      "1      Bob  58.0    London  86235.0  2023-01-02        B      BOB\n",
      "2  Charlie  60.0     Tokyo  62330.0  2023-01-03        C  CHARLIE\n",
      "3    David  28.0     Paris  46022.0  2023-01-04        A    DAVID\n"
     ]
    }
   ],
   "source": [
    "print(df.iloc[0:4])"
   ]
  },
  {
   "cell_type": "code",
   "execution_count": 76,
   "metadata": {},
   "outputs": [
    {
     "name": "stdout",
     "output_type": "stream",
     "text": [
      "2023-01-02\n"
     ]
    }
   ],
   "source": [
    "print(df.iloc[1 , 4])"
   ]
  },
  {
   "cell_type": "code",
   "execution_count": 77,
   "metadata": {},
   "outputs": [
    {
     "name": "stdout",
     "output_type": "stream",
     "text": [
      "      Name   Age      City\n",
      "0    Alice  45.0  New York\n",
      "1      Bob  58.0    London\n",
      "2  Charlie  60.0     Tokyo\n",
      "3    David  28.0     Paris\n"
     ]
    }
   ],
   "source": [
    "print(df.iloc[0:4, 0:3]) # starting index is included and ending index is excluded"
   ]
  },
  {
   "cell_type": "code",
   "execution_count": 78,
   "metadata": {},
   "outputs": [
    {
     "name": "stdout",
     "output_type": "stream",
     "text": [
      "      Name      City\n",
      "0    Alice  New York\n",
      "2  Charlie     Tokyo\n"
     ]
    }
   ],
   "source": [
    "print(df.iloc[0:4:2, 0:3:2])"
   ]
  },
  {
   "cell_type": "markdown",
   "metadata": {},
   "source": [
    "##### **Adding New Row**"
   ]
  },
  {
   "cell_type": "code",
   "execution_count": 82,
   "metadata": {},
   "outputs": [],
   "source": [
    "df.loc[14] = {'Name':'Roshan',\"Age\":25,'City':'Blore','Salary':20000,'Date':'2023-01-06','Category':\"B\", 'Name1':\"ROSHAN\"}"
   ]
  },
  {
   "cell_type": "code",
   "execution_count": 84,
   "metadata": {},
   "outputs": [],
   "source": [
    "df.loc[15] = ['sameer', None, 'Paris',20000, '2023-01-06','A', 'SAMEER']"
   ]
  },
  {
   "cell_type": "code",
   "execution_count": 86,
   "metadata": {},
   "outputs": [],
   "source": [
    "#Droping The Column\n",
    "#df.drop('Name1',axis=1, inplace=True) # columns=[' ', ' ']\n",
    "df.drop(columns=['Name1'], inplace=True)"
   ]
  },
  {
   "cell_type": "code",
   "execution_count": 88,
   "metadata": {},
   "outputs": [],
   "source": [
    "# Droping Row\n",
    "df.drop(15, inplace=True)"
   ]
  },
  {
   "cell_type": "markdown",
   "metadata": {},
   "source": [
    "### **Statstical Function**"
   ]
  },
  {
   "cell_type": "code",
   "execution_count": 400,
   "metadata": {},
   "outputs": [
    {
     "name": "stdout",
     "output_type": "stream",
     "text": [
      "840212.0\n",
      "67\n",
      "28\n",
      "12\n",
      "47.5\n",
      "65706.0\n",
      "0    60\n",
      "Name: Age, dtype: int64\n",
      "15565.177120350376\n",
      "242274738.7878788\n"
     ]
    }
   ],
   "source": [
    "print(df['Salary'].sum())\n",
    "print(df['Age'].max())\n",
    "print(df['Age'].min())\n",
    "print(df['Salary'].count())\n",
    "\n",
    "print(df['Age'].mean())\n",
    "print(df['Salary'].median())\n",
    "print(df['Age'].mode())\n",
    "print(df['Salary'].std())\n",
    "print(df['Salary'].var())"
   ]
  },
  {
   "cell_type": "code",
   "execution_count": 262,
   "metadata": {},
   "outputs": [
    {
     "data": {
      "text/plain": [
       "np.float64(15565.177669503992)"
      ]
     },
     "execution_count": 261,
     "metadata": {},
     "output_type": "execute_result"
    }
   ],
   "source": [
    "np.sqrt(242274755.88322574)"
   ]
  },
  {
   "cell_type": "code",
   "execution_count": 401,
   "metadata": {},
   "outputs": [
    {
     "data": {
      "text/plain": [
       "np.int64(8)"
      ]
     },
     "execution_count": 401,
     "metadata": {},
     "output_type": "execute_result"
    }
   ],
   "source": [
    "np.power(2, 3)   "
   ]
  },
  {
   "cell_type": "markdown",
   "metadata": {},
   "source": [
    "### **Special Function**"
   ]
  },
  {
   "cell_type": "code",
   "execution_count": 94,
   "metadata": {},
   "outputs": [
    {
     "data": {
      "text/html": [
       "<div>\n",
       "<style scoped>\n",
       "    .dataframe tbody tr th:only-of-type {\n",
       "        vertical-align: middle;\n",
       "    }\n",
       "\n",
       "    .dataframe tbody tr th {\n",
       "        vertical-align: top;\n",
       "    }\n",
       "\n",
       "    .dataframe thead th {\n",
       "        text-align: right;\n",
       "    }\n",
       "</style>\n",
       "<table border=\"1\" class=\"dataframe\">\n",
       "  <thead>\n",
       "    <tr style=\"text-align: right;\">\n",
       "      <th></th>\n",
       "      <th>Name</th>\n",
       "      <th>Age</th>\n",
       "      <th>City</th>\n",
       "      <th>Salary</th>\n",
       "      <th>Date</th>\n",
       "      <th>Category</th>\n",
       "    </tr>\n",
       "  </thead>\n",
       "  <tbody>\n",
       "    <tr>\n",
       "      <th>0</th>\n",
       "      <td>Alice</td>\n",
       "      <td>45</td>\n",
       "      <td>New York</td>\n",
       "      <td>95445.0</td>\n",
       "      <td>2023-01-01</td>\n",
       "      <td>A</td>\n",
       "    </tr>\n",
       "    <tr>\n",
       "      <th>1</th>\n",
       "      <td>Bob</td>\n",
       "      <td>58</td>\n",
       "      <td>London</td>\n",
       "      <td>86235.0</td>\n",
       "      <td>2023-01-02</td>\n",
       "      <td>B</td>\n",
       "    </tr>\n",
       "    <tr>\n",
       "      <th>2</th>\n",
       "      <td>Charlie</td>\n",
       "      <td>60</td>\n",
       "      <td>Tokyo</td>\n",
       "      <td>62330.0</td>\n",
       "      <td>2023-01-03</td>\n",
       "      <td>C</td>\n",
       "    </tr>\n",
       "    <tr>\n",
       "      <th>3</th>\n",
       "      <td>David</td>\n",
       "      <td>28</td>\n",
       "      <td>Paris</td>\n",
       "      <td>46022.0</td>\n",
       "      <td>2023-01-04</td>\n",
       "      <td>A</td>\n",
       "    </tr>\n",
       "    <tr>\n",
       "      <th>4</th>\n",
       "      <td>Roshan</td>\n",
       "      <td>49</td>\n",
       "      <td>Berlin</td>\n",
       "      <td>65999.0</td>\n",
       "      <td>2023-01-05</td>\n",
       "      <td>B</td>\n",
       "    </tr>\n",
       "    <tr>\n",
       "      <th>5</th>\n",
       "      <td>Frank</td>\n",
       "      <td>67</td>\n",
       "      <td>Paris</td>\n",
       "      <td>56000.0</td>\n",
       "      <td>2023-01-06</td>\n",
       "      <td>A</td>\n",
       "    </tr>\n",
       "    <tr>\n",
       "      <th>6</th>\n",
       "      <td>Grace</td>\n",
       "      <td>46</td>\n",
       "      <td>Berlin</td>\n",
       "      <td>57141.0</td>\n",
       "      <td>2023-01-07</td>\n",
       "      <td>C</td>\n",
       "    </tr>\n",
       "    <tr>\n",
       "      <th>7</th>\n",
       "      <td>Hannah</td>\n",
       "      <td>60</td>\n",
       "      <td>New York</td>\n",
       "      <td>65413.0</td>\n",
       "      <td>2023-01-08</td>\n",
       "      <td>B</td>\n",
       "    </tr>\n",
       "    <tr>\n",
       "      <th>8</th>\n",
       "      <td>Ivan</td>\n",
       "      <td>37</td>\n",
       "      <td>Tokyo</td>\n",
       "      <td>87016.0</td>\n",
       "      <td>2023-01-09</td>\n",
       "      <td>A</td>\n",
       "    </tr>\n",
       "    <tr>\n",
       "      <th>9</th>\n",
       "      <td>Jack</td>\n",
       "      <td>31</td>\n",
       "      <td>London</td>\n",
       "      <td>58725.0</td>\n",
       "      <td>2023-01-10</td>\n",
       "      <td>B</td>\n",
       "    </tr>\n",
       "    <tr>\n",
       "      <th>10</th>\n",
       "      <td>Grace</td>\n",
       "      <td>29</td>\n",
       "      <td>Berlin</td>\n",
       "      <td>57141.0</td>\n",
       "      <td>2023-01-07</td>\n",
       "      <td>B</td>\n",
       "    </tr>\n",
       "    <tr>\n",
       "      <th>11</th>\n",
       "      <td>Hannah</td>\n",
       "      <td>60</td>\n",
       "      <td>New York</td>\n",
       "      <td>70425.0</td>\n",
       "      <td>2023-01-08</td>\n",
       "      <td>B</td>\n",
       "    </tr>\n",
       "    <tr>\n",
       "      <th>12</th>\n",
       "      <td>Roshan</td>\n",
       "      <td>25</td>\n",
       "      <td>Blore</td>\n",
       "      <td>20000.0</td>\n",
       "      <td>2023-01-06</td>\n",
       "      <td>B</td>\n",
       "    </tr>\n",
       "  </tbody>\n",
       "</table>\n",
       "</div>"
      ],
      "text/plain": [
       "       Name  Age      City   Salary        Date Category\n",
       "0     Alice   45  New York  95445.0  2023-01-01        A\n",
       "1       Bob   58    London  86235.0  2023-01-02        B\n",
       "2   Charlie   60     Tokyo  62330.0  2023-01-03        C\n",
       "3     David   28     Paris  46022.0  2023-01-04        A\n",
       "4    Roshan   49    Berlin  65999.0  2023-01-05        B\n",
       "5     Frank   67     Paris  56000.0  2023-01-06        A\n",
       "6     Grace   46    Berlin  57141.0  2023-01-07        C\n",
       "7    Hannah   60  New York  65413.0  2023-01-08        B\n",
       "8      Ivan   37     Tokyo  87016.0  2023-01-09        A\n",
       "9      Jack   31    London  58725.0  2023-01-10        B\n",
       "10    Grace   29    Berlin  57141.0  2023-01-07        B\n",
       "11   Hannah   60  New York  70425.0  2023-01-08        B\n",
       "12   Roshan   25     Blore  20000.0  2023-01-06        B"
      ]
     },
     "execution_count": 94,
     "metadata": {},
     "output_type": "execute_result"
    }
   ],
   "source": [
    "df"
   ]
  },
  {
   "cell_type": "code",
   "execution_count": 91,
   "metadata": {},
   "outputs": [],
   "source": [
    "# Converting data types\n",
    "df['Age'] = df['Age'].astype('int') #int, str, float"
   ]
  },
  {
   "cell_type": "code",
   "execution_count": 93,
   "metadata": {},
   "outputs": [],
   "source": [
    "#Reset The Index\n",
    "df.reset_index(drop=True, inplace=True)"
   ]
  },
  {
   "cell_type": "code",
   "execution_count": 95,
   "metadata": {},
   "outputs": [
    {
     "data": {
      "text/html": [
       "<div>\n",
       "<style scoped>\n",
       "    .dataframe tbody tr th:only-of-type {\n",
       "        vertical-align: middle;\n",
       "    }\n",
       "\n",
       "    .dataframe tbody tr th {\n",
       "        vertical-align: top;\n",
       "    }\n",
       "\n",
       "    .dataframe thead th {\n",
       "        text-align: right;\n",
       "    }\n",
       "</style>\n",
       "<table border=\"1\" class=\"dataframe\">\n",
       "  <thead>\n",
       "    <tr style=\"text-align: right;\">\n",
       "      <th></th>\n",
       "      <th>Name</th>\n",
       "      <th>Age</th>\n",
       "      <th>City</th>\n",
       "      <th>Salary</th>\n",
       "      <th>Date</th>\n",
       "      <th>Cate</th>\n",
       "    </tr>\n",
       "  </thead>\n",
       "  <tbody>\n",
       "    <tr>\n",
       "      <th>0</th>\n",
       "      <td>Alice</td>\n",
       "      <td>45</td>\n",
       "      <td>New York</td>\n",
       "      <td>95445.0</td>\n",
       "      <td>2023-01-01</td>\n",
       "      <td>A</td>\n",
       "    </tr>\n",
       "    <tr>\n",
       "      <th>1</th>\n",
       "      <td>Bob</td>\n",
       "      <td>58</td>\n",
       "      <td>London</td>\n",
       "      <td>86235.0</td>\n",
       "      <td>2023-01-02</td>\n",
       "      <td>B</td>\n",
       "    </tr>\n",
       "    <tr>\n",
       "      <th>2</th>\n",
       "      <td>Charlie</td>\n",
       "      <td>60</td>\n",
       "      <td>Tokyo</td>\n",
       "      <td>62330.0</td>\n",
       "      <td>2023-01-03</td>\n",
       "      <td>C</td>\n",
       "    </tr>\n",
       "    <tr>\n",
       "      <th>3</th>\n",
       "      <td>David</td>\n",
       "      <td>28</td>\n",
       "      <td>Paris</td>\n",
       "      <td>46022.0</td>\n",
       "      <td>2023-01-04</td>\n",
       "      <td>A</td>\n",
       "    </tr>\n",
       "    <tr>\n",
       "      <th>4</th>\n",
       "      <td>Roshan</td>\n",
       "      <td>49</td>\n",
       "      <td>Berlin</td>\n",
       "      <td>65999.0</td>\n",
       "      <td>2023-01-05</td>\n",
       "      <td>B</td>\n",
       "    </tr>\n",
       "    <tr>\n",
       "      <th>5</th>\n",
       "      <td>Frank</td>\n",
       "      <td>67</td>\n",
       "      <td>Paris</td>\n",
       "      <td>56000.0</td>\n",
       "      <td>2023-01-06</td>\n",
       "      <td>A</td>\n",
       "    </tr>\n",
       "    <tr>\n",
       "      <th>6</th>\n",
       "      <td>Grace</td>\n",
       "      <td>46</td>\n",
       "      <td>Berlin</td>\n",
       "      <td>57141.0</td>\n",
       "      <td>2023-01-07</td>\n",
       "      <td>C</td>\n",
       "    </tr>\n",
       "    <tr>\n",
       "      <th>7</th>\n",
       "      <td>Hannah</td>\n",
       "      <td>60</td>\n",
       "      <td>New York</td>\n",
       "      <td>65413.0</td>\n",
       "      <td>2023-01-08</td>\n",
       "      <td>B</td>\n",
       "    </tr>\n",
       "    <tr>\n",
       "      <th>8</th>\n",
       "      <td>Ivan</td>\n",
       "      <td>37</td>\n",
       "      <td>Tokyo</td>\n",
       "      <td>87016.0</td>\n",
       "      <td>2023-01-09</td>\n",
       "      <td>A</td>\n",
       "    </tr>\n",
       "    <tr>\n",
       "      <th>9</th>\n",
       "      <td>Jack</td>\n",
       "      <td>31</td>\n",
       "      <td>London</td>\n",
       "      <td>58725.0</td>\n",
       "      <td>2023-01-10</td>\n",
       "      <td>B</td>\n",
       "    </tr>\n",
       "    <tr>\n",
       "      <th>10</th>\n",
       "      <td>Grace</td>\n",
       "      <td>29</td>\n",
       "      <td>Berlin</td>\n",
       "      <td>57141.0</td>\n",
       "      <td>2023-01-07</td>\n",
       "      <td>B</td>\n",
       "    </tr>\n",
       "    <tr>\n",
       "      <th>11</th>\n",
       "      <td>Hannah</td>\n",
       "      <td>60</td>\n",
       "      <td>New York</td>\n",
       "      <td>70425.0</td>\n",
       "      <td>2023-01-08</td>\n",
       "      <td>B</td>\n",
       "    </tr>\n",
       "    <tr>\n",
       "      <th>12</th>\n",
       "      <td>Roshan</td>\n",
       "      <td>25</td>\n",
       "      <td>Blore</td>\n",
       "      <td>20000.0</td>\n",
       "      <td>2023-01-06</td>\n",
       "      <td>B</td>\n",
       "    </tr>\n",
       "  </tbody>\n",
       "</table>\n",
       "</div>"
      ],
      "text/plain": [
       "       Name  Age      City   Salary        Date Cate\n",
       "0     Alice   45  New York  95445.0  2023-01-01    A\n",
       "1       Bob   58    London  86235.0  2023-01-02    B\n",
       "2   Charlie   60     Tokyo  62330.0  2023-01-03    C\n",
       "3     David   28     Paris  46022.0  2023-01-04    A\n",
       "4    Roshan   49    Berlin  65999.0  2023-01-05    B\n",
       "5     Frank   67     Paris  56000.0  2023-01-06    A\n",
       "6     Grace   46    Berlin  57141.0  2023-01-07    C\n",
       "7    Hannah   60  New York  65413.0  2023-01-08    B\n",
       "8      Ivan   37     Tokyo  87016.0  2023-01-09    A\n",
       "9      Jack   31    London  58725.0  2023-01-10    B\n",
       "10    Grace   29    Berlin  57141.0  2023-01-07    B\n",
       "11   Hannah   60  New York  70425.0  2023-01-08    B\n",
       "12   Roshan   25     Blore  20000.0  2023-01-06    B"
      ]
     },
     "execution_count": 95,
     "metadata": {},
     "output_type": "execute_result"
    }
   ],
   "source": [
    "# Rename the columns\n",
    "df.rename(columns={'Category': 'Cate'}, inplace=True)\n",
    "df"
   ]
  },
  {
   "cell_type": "code",
   "execution_count": 98,
   "metadata": {},
   "outputs": [
    {
     "data": {
      "text/plain": [
       "array(['New York', 'London', 'Tokyo', 'Paris', 'Berlin', 'Blore'],\n",
       "      dtype=object)"
      ]
     },
     "execution_count": 98,
     "metadata": {},
     "output_type": "execute_result"
    }
   ],
   "source": [
    "df.City.unique() # Unique values in the column"
   ]
  },
  {
   "cell_type": "code",
   "execution_count": 99,
   "metadata": {},
   "outputs": [
    {
     "name": "stdout",
     "output_type": "stream",
     "text": [
      "Name:  ['Alice' 'Bob' 'Charlie' 'David' 'Roshan' 'Frank' 'Grace' 'Hannah' 'Ivan'\n",
      " 'Jack']\n",
      "Age:  [45 58 60 28 49 67 46 37 31 29 25]\n",
      "City:  ['New York' 'London' 'Tokyo' 'Paris' 'Berlin' 'Blore']\n",
      "Salary:  [95445. 86235. 62330. 46022. 65999. 56000. 57141. 65413. 87016. 58725.\n",
      " 70425. 20000.]\n",
      "Date:  ['2023-01-01' '2023-01-02' '2023-01-03' '2023-01-04' '2023-01-05'\n",
      " '2023-01-06' '2023-01-07' '2023-01-08' '2023-01-09' '2023-01-10']\n",
      "Cate:  ['A' 'B' 'C']\n"
     ]
    }
   ],
   "source": [
    "for i in df.columns:\n",
    "    print(f\"{i}: \", df[i].unique())"
   ]
  },
  {
   "cell_type": "code",
   "execution_count": 100,
   "metadata": {},
   "outputs": [
    {
     "data": {
      "text/plain": [
       "6"
      ]
     },
     "execution_count": 100,
     "metadata": {},
     "output_type": "execute_result"
    }
   ],
   "source": [
    "df['City'].nunique() # sum of unique values in a column"
   ]
  },
  {
   "cell_type": "code",
   "execution_count": 101,
   "metadata": {},
   "outputs": [
    {
     "data": {
      "text/plain": [
       "5     67\n",
       "2     60\n",
       "7     60\n",
       "11    60\n",
       "1     58\n",
       "Name: Age, dtype: int64"
      ]
     },
     "execution_count": 101,
     "metadata": {},
     "output_type": "execute_result"
    }
   ],
   "source": [
    "df['Age'].nlargest() #largest 5 values\n"
   ]
  },
  {
   "cell_type": "code",
   "execution_count": null,
   "metadata": {},
   "outputs": [
    {
     "data": {
      "text/html": [
       "<div>\n",
       "<style scoped>\n",
       "    .dataframe tbody tr th:only-of-type {\n",
       "        vertical-align: middle;\n",
       "    }\n",
       "\n",
       "    .dataframe tbody tr th {\n",
       "        vertical-align: top;\n",
       "    }\n",
       "\n",
       "    .dataframe thead th {\n",
       "        text-align: right;\n",
       "    }\n",
       "</style>\n",
       "<table border=\"1\" class=\"dataframe\">\n",
       "  <thead>\n",
       "    <tr style=\"text-align: right;\">\n",
       "      <th></th>\n",
       "      <th>Name</th>\n",
       "      <th>Age</th>\n",
       "      <th>City</th>\n",
       "      <th>Salary</th>\n",
       "      <th>Date</th>\n",
       "      <th>Cate</th>\n",
       "    </tr>\n",
       "  </thead>\n",
       "  <tbody>\n",
       "    <tr>\n",
       "      <th>5</th>\n",
       "      <td>Frank</td>\n",
       "      <td>67</td>\n",
       "      <td>Paris</td>\n",
       "      <td>88320.00</td>\n",
       "      <td>2023-01-06</td>\n",
       "      <td>A</td>\n",
       "    </tr>\n",
       "    <tr>\n",
       "      <th>2</th>\n",
       "      <td>Charlie</td>\n",
       "      <td>60</td>\n",
       "      <td>Tokyo</td>\n",
       "      <td>62330.00</td>\n",
       "      <td>2023-01-03</td>\n",
       "      <td>C</td>\n",
       "    </tr>\n",
       "    <tr>\n",
       "      <th>7</th>\n",
       "      <td>Hannah</td>\n",
       "      <td>60</td>\n",
       "      <td>New York</td>\n",
       "      <td>65413.00</td>\n",
       "      <td>2023-01-08</td>\n",
       "      <td>B</td>\n",
       "    </tr>\n",
       "  </tbody>\n",
       "</table>\n",
       "</div>"
      ],
      "text/plain": [
       "      Name  Age      City   Salary        Date Cate\n",
       "5    Frank   67     Paris 88320.00  2023-01-06    A\n",
       "2  Charlie   60     Tokyo 62330.00  2023-01-03    C\n",
       "7   Hannah   60  New York 65413.00  2023-01-08    B"
      ]
     },
     "execution_count": 266,
     "metadata": {},
     "output_type": "execute_result"
    }
   ],
   "source": [
    "df.nlargest(3, 'Age') #3 largest values of Age"
   ]
  },
  {
   "cell_type": "code",
   "execution_count": 102,
   "metadata": {},
   "outputs": [
    {
     "data": {
      "text/html": [
       "<div>\n",
       "<style scoped>\n",
       "    .dataframe tbody tr th:only-of-type {\n",
       "        vertical-align: middle;\n",
       "    }\n",
       "\n",
       "    .dataframe tbody tr th {\n",
       "        vertical-align: top;\n",
       "    }\n",
       "\n",
       "    .dataframe thead th {\n",
       "        text-align: right;\n",
       "    }\n",
       "</style>\n",
       "<table border=\"1\" class=\"dataframe\">\n",
       "  <thead>\n",
       "    <tr style=\"text-align: right;\">\n",
       "      <th></th>\n",
       "      <th>Name</th>\n",
       "      <th>Age</th>\n",
       "      <th>City</th>\n",
       "      <th>Salary</th>\n",
       "      <th>Date</th>\n",
       "      <th>Cate</th>\n",
       "    </tr>\n",
       "  </thead>\n",
       "  <tbody>\n",
       "    <tr>\n",
       "      <th>12</th>\n",
       "      <td>Roshan</td>\n",
       "      <td>25</td>\n",
       "      <td>Blore</td>\n",
       "      <td>20000.0</td>\n",
       "      <td>2023-01-06</td>\n",
       "      <td>B</td>\n",
       "    </tr>\n",
       "    <tr>\n",
       "      <th>3</th>\n",
       "      <td>David</td>\n",
       "      <td>28</td>\n",
       "      <td>Paris</td>\n",
       "      <td>46022.0</td>\n",
       "      <td>2023-01-04</td>\n",
       "      <td>A</td>\n",
       "    </tr>\n",
       "    <tr>\n",
       "      <th>10</th>\n",
       "      <td>Grace</td>\n",
       "      <td>29</td>\n",
       "      <td>Berlin</td>\n",
       "      <td>57141.0</td>\n",
       "      <td>2023-01-07</td>\n",
       "      <td>B</td>\n",
       "    </tr>\n",
       "    <tr>\n",
       "      <th>9</th>\n",
       "      <td>Jack</td>\n",
       "      <td>31</td>\n",
       "      <td>London</td>\n",
       "      <td>58725.0</td>\n",
       "      <td>2023-01-10</td>\n",
       "      <td>B</td>\n",
       "    </tr>\n",
       "    <tr>\n",
       "      <th>8</th>\n",
       "      <td>Ivan</td>\n",
       "      <td>37</td>\n",
       "      <td>Tokyo</td>\n",
       "      <td>87016.0</td>\n",
       "      <td>2023-01-09</td>\n",
       "      <td>A</td>\n",
       "    </tr>\n",
       "  </tbody>\n",
       "</table>\n",
       "</div>"
      ],
      "text/plain": [
       "      Name  Age    City   Salary        Date Cate\n",
       "12  Roshan   25   Blore  20000.0  2023-01-06    B\n",
       "3    David   28   Paris  46022.0  2023-01-04    A\n",
       "10   Grace   29  Berlin  57141.0  2023-01-07    B\n",
       "9     Jack   31  London  58725.0  2023-01-10    B\n",
       "8     Ivan   37   Tokyo  87016.0  2023-01-09    A"
      ]
     },
     "execution_count": 102,
     "metadata": {},
     "output_type": "execute_result"
    }
   ],
   "source": [
    "df['Age'].nsmallest() #smallest 5 value\n",
    "df.nsmallest(5, \"Age\") #smallest 5 value"
   ]
  },
  {
   "cell_type": "code",
   "execution_count": 103,
   "metadata": {},
   "outputs": [
    {
     "data": {
      "text/plain": [
       "array(['New York', 'London', 'Tokyo', 'Paris', 'Berlin', 'Blore'],\n",
       "      dtype=object)"
      ]
     },
     "execution_count": 103,
     "metadata": {},
     "output_type": "execute_result"
    }
   ],
   "source": [
    "df['City'].unique()"
   ]
  },
  {
   "cell_type": "code",
   "execution_count": 104,
   "metadata": {},
   "outputs": [
    {
     "data": {
      "text/plain": [
       "City\n",
       "New York    3\n",
       "Berlin      3\n",
       "London      2\n",
       "Tokyo       2\n",
       "Paris       2\n",
       "Blore       1\n",
       "Name: count, dtype: int64"
      ]
     },
     "execution_count": 104,
     "metadata": {},
     "output_type": "execute_result"
    }
   ],
   "source": [
    "df['City'].value_counts() # find the sum of unique values in the column"
   ]
  },
  {
   "cell_type": "code",
   "execution_count": 105,
   "metadata": {},
   "outputs": [
    {
     "data": {
      "text/plain": [
       "Cate\n",
       "B    7\n",
       "A    4\n",
       "C    2\n",
       "Name: count, dtype: int64"
      ]
     },
     "execution_count": 105,
     "metadata": {},
     "output_type": "execute_result"
    }
   ],
   "source": [
    "df['Cate'].value_counts() # Finding the unique value counts in the column"
   ]
  },
  {
   "cell_type": "code",
   "execution_count": 106,
   "metadata": {},
   "outputs": [
    {
     "data": {
      "text/plain": [
       "5     67\n",
       "7     60\n",
       "11    60\n",
       "2     60\n",
       "1     58\n",
       "4     49\n",
       "6     46\n",
       "0     45\n",
       "8     37\n",
       "9     31\n",
       "10    29\n",
       "3     28\n",
       "12    25\n",
       "Name: Age, dtype: int64"
      ]
     },
     "execution_count": 106,
     "metadata": {},
     "output_type": "execute_result"
    }
   ],
   "source": [
    "df['Age'].sort_values(ascending=False) # sort by age in descending order"
   ]
  },
  {
   "cell_type": "code",
   "execution_count": null,
   "metadata": {},
   "outputs": [
    {
     "data": {
      "text/html": [
       "<div>\n",
       "<style scoped>\n",
       "    .dataframe tbody tr th:only-of-type {\n",
       "        vertical-align: middle;\n",
       "    }\n",
       "\n",
       "    .dataframe tbody tr th {\n",
       "        vertical-align: top;\n",
       "    }\n",
       "\n",
       "    .dataframe thead th {\n",
       "        text-align: right;\n",
       "    }\n",
       "</style>\n",
       "<table border=\"1\" class=\"dataframe\">\n",
       "  <thead>\n",
       "    <tr style=\"text-align: right;\">\n",
       "      <th></th>\n",
       "      <th>Name</th>\n",
       "      <th>Age</th>\n",
       "      <th>City</th>\n",
       "      <th>Salary</th>\n",
       "      <th>Date</th>\n",
       "      <th>Cate</th>\n",
       "    </tr>\n",
       "  </thead>\n",
       "  <tbody>\n",
       "    <tr>\n",
       "      <th>3</th>\n",
       "      <td>David</td>\n",
       "      <td>28</td>\n",
       "      <td>Paris</td>\n",
       "      <td>46022.00</td>\n",
       "      <td>2023-01-04</td>\n",
       "      <td>A</td>\n",
       "    </tr>\n",
       "    <tr>\n",
       "      <th>10</th>\n",
       "      <td>Grace</td>\n",
       "      <td>29</td>\n",
       "      <td>Berlin</td>\n",
       "      <td>57141.00</td>\n",
       "      <td>2023-01-07</td>\n",
       "      <td>B</td>\n",
       "    </tr>\n",
       "    <tr>\n",
       "      <th>9</th>\n",
       "      <td>Jack</td>\n",
       "      <td>31</td>\n",
       "      <td>London</td>\n",
       "      <td>58725.00</td>\n",
       "      <td>2023-01-10</td>\n",
       "      <td>B</td>\n",
       "    </tr>\n",
       "    <tr>\n",
       "      <th>8</th>\n",
       "      <td>Ivan</td>\n",
       "      <td>37</td>\n",
       "      <td>Tokyo</td>\n",
       "      <td>87016.00</td>\n",
       "      <td>2023-01-09</td>\n",
       "      <td>A</td>\n",
       "    </tr>\n",
       "    <tr>\n",
       "      <th>0</th>\n",
       "      <td>Alice</td>\n",
       "      <td>45</td>\n",
       "      <td>New York</td>\n",
       "      <td>95445.00</td>\n",
       "      <td>2023-01-01</td>\n",
       "      <td>A</td>\n",
       "    </tr>\n",
       "    <tr>\n",
       "      <th>6</th>\n",
       "      <td>Grace</td>\n",
       "      <td>46</td>\n",
       "      <td>Berlin</td>\n",
       "      <td>57141.00</td>\n",
       "      <td>2023-01-07</td>\n",
       "      <td>C</td>\n",
       "    </tr>\n",
       "    <tr>\n",
       "      <th>4</th>\n",
       "      <td>Eva</td>\n",
       "      <td>49</td>\n",
       "      <td>Berlin</td>\n",
       "      <td>65999.00</td>\n",
       "      <td>2023-01-05</td>\n",
       "      <td>B</td>\n",
       "    </tr>\n",
       "    <tr>\n",
       "      <th>1</th>\n",
       "      <td>Bob</td>\n",
       "      <td>58</td>\n",
       "      <td>London</td>\n",
       "      <td>86235.00</td>\n",
       "      <td>2023-01-02</td>\n",
       "      <td>B</td>\n",
       "    </tr>\n",
       "    <tr>\n",
       "      <th>2</th>\n",
       "      <td>Charlie</td>\n",
       "      <td>60</td>\n",
       "      <td>Tokyo</td>\n",
       "      <td>62330.00</td>\n",
       "      <td>2023-01-03</td>\n",
       "      <td>C</td>\n",
       "    </tr>\n",
       "    <tr>\n",
       "      <th>7</th>\n",
       "      <td>Hannah</td>\n",
       "      <td>60</td>\n",
       "      <td>New York</td>\n",
       "      <td>65413.00</td>\n",
       "      <td>2023-01-08</td>\n",
       "      <td>B</td>\n",
       "    </tr>\n",
       "    <tr>\n",
       "      <th>11</th>\n",
       "      <td>Hannah</td>\n",
       "      <td>60</td>\n",
       "      <td>New York</td>\n",
       "      <td>70425.00</td>\n",
       "      <td>2023-01-08</td>\n",
       "      <td>B</td>\n",
       "    </tr>\n",
       "    <tr>\n",
       "      <th>5</th>\n",
       "      <td>Frank</td>\n",
       "      <td>67</td>\n",
       "      <td>Paris</td>\n",
       "      <td>88320.00</td>\n",
       "      <td>2023-01-06</td>\n",
       "      <td>A</td>\n",
       "    </tr>\n",
       "  </tbody>\n",
       "</table>\n",
       "</div>"
      ],
      "text/plain": [
       "       Name  Age      City   Salary        Date Cate\n",
       "3     David   28     Paris 46022.00  2023-01-04    A\n",
       "10    Grace   29    Berlin 57141.00  2023-01-07    B\n",
       "9      Jack   31    London 58725.00  2023-01-10    B\n",
       "8      Ivan   37     Tokyo 87016.00  2023-01-09    A\n",
       "0     Alice   45  New York 95445.00  2023-01-01    A\n",
       "6     Grace   46    Berlin 57141.00  2023-01-07    C\n",
       "4       Eva   49    Berlin 65999.00  2023-01-05    B\n",
       "1       Bob   58    London 86235.00  2023-01-02    B\n",
       "2   Charlie   60     Tokyo 62330.00  2023-01-03    C\n",
       "7    Hannah   60  New York 65413.00  2023-01-08    B\n",
       "11   Hannah   60  New York 70425.00  2023-01-08    B\n",
       "5     Frank   67     Paris 88320.00  2023-01-06    A"
      ]
     },
     "execution_count": 272,
     "metadata": {},
     "output_type": "execute_result"
    }
   ],
   "source": [
    "df.sort_values(by='Age',ascending=True) # sort by age in ascending order"
   ]
  },
  {
   "cell_type": "code",
   "execution_count": 107,
   "metadata": {},
   "outputs": [
    {
     "data": {
      "text/html": [
       "<div>\n",
       "<style scoped>\n",
       "    .dataframe tbody tr th:only-of-type {\n",
       "        vertical-align: middle;\n",
       "    }\n",
       "\n",
       "    .dataframe tbody tr th {\n",
       "        vertical-align: top;\n",
       "    }\n",
       "\n",
       "    .dataframe thead th {\n",
       "        text-align: right;\n",
       "    }\n",
       "</style>\n",
       "<table border=\"1\" class=\"dataframe\">\n",
       "  <thead>\n",
       "    <tr style=\"text-align: right;\">\n",
       "      <th></th>\n",
       "      <th>Name</th>\n",
       "      <th>Age</th>\n",
       "      <th>City</th>\n",
       "      <th>Salary</th>\n",
       "      <th>Date</th>\n",
       "      <th>Cate</th>\n",
       "      <th>Rank</th>\n",
       "    </tr>\n",
       "  </thead>\n",
       "  <tbody>\n",
       "    <tr>\n",
       "      <th>0</th>\n",
       "      <td>Alice</td>\n",
       "      <td>45</td>\n",
       "      <td>New York</td>\n",
       "      <td>95445.0</td>\n",
       "      <td>2023-01-01</td>\n",
       "      <td>A</td>\n",
       "      <td>8.0</td>\n",
       "    </tr>\n",
       "    <tr>\n",
       "      <th>1</th>\n",
       "      <td>Bob</td>\n",
       "      <td>58</td>\n",
       "      <td>London</td>\n",
       "      <td>86235.0</td>\n",
       "      <td>2023-01-02</td>\n",
       "      <td>B</td>\n",
       "      <td>5.0</td>\n",
       "    </tr>\n",
       "    <tr>\n",
       "      <th>2</th>\n",
       "      <td>Charlie</td>\n",
       "      <td>60</td>\n",
       "      <td>Tokyo</td>\n",
       "      <td>62330.0</td>\n",
       "      <td>2023-01-03</td>\n",
       "      <td>C</td>\n",
       "      <td>3.0</td>\n",
       "    </tr>\n",
       "    <tr>\n",
       "      <th>3</th>\n",
       "      <td>David</td>\n",
       "      <td>28</td>\n",
       "      <td>Paris</td>\n",
       "      <td>46022.0</td>\n",
       "      <td>2023-01-04</td>\n",
       "      <td>A</td>\n",
       "      <td>12.0</td>\n",
       "    </tr>\n",
       "    <tr>\n",
       "      <th>4</th>\n",
       "      <td>Roshan</td>\n",
       "      <td>49</td>\n",
       "      <td>Berlin</td>\n",
       "      <td>65999.0</td>\n",
       "      <td>2023-01-05</td>\n",
       "      <td>B</td>\n",
       "      <td>6.0</td>\n",
       "    </tr>\n",
       "    <tr>\n",
       "      <th>5</th>\n",
       "      <td>Frank</td>\n",
       "      <td>67</td>\n",
       "      <td>Paris</td>\n",
       "      <td>56000.0</td>\n",
       "      <td>2023-01-06</td>\n",
       "      <td>A</td>\n",
       "      <td>1.0</td>\n",
       "    </tr>\n",
       "    <tr>\n",
       "      <th>6</th>\n",
       "      <td>Grace</td>\n",
       "      <td>46</td>\n",
       "      <td>Berlin</td>\n",
       "      <td>57141.0</td>\n",
       "      <td>2023-01-07</td>\n",
       "      <td>C</td>\n",
       "      <td>7.0</td>\n",
       "    </tr>\n",
       "    <tr>\n",
       "      <th>7</th>\n",
       "      <td>Hannah</td>\n",
       "      <td>60</td>\n",
       "      <td>New York</td>\n",
       "      <td>65413.0</td>\n",
       "      <td>2023-01-08</td>\n",
       "      <td>B</td>\n",
       "      <td>3.0</td>\n",
       "    </tr>\n",
       "    <tr>\n",
       "      <th>8</th>\n",
       "      <td>Ivan</td>\n",
       "      <td>37</td>\n",
       "      <td>Tokyo</td>\n",
       "      <td>87016.0</td>\n",
       "      <td>2023-01-09</td>\n",
       "      <td>A</td>\n",
       "      <td>9.0</td>\n",
       "    </tr>\n",
       "    <tr>\n",
       "      <th>9</th>\n",
       "      <td>Jack</td>\n",
       "      <td>31</td>\n",
       "      <td>London</td>\n",
       "      <td>58725.0</td>\n",
       "      <td>2023-01-10</td>\n",
       "      <td>B</td>\n",
       "      <td>10.0</td>\n",
       "    </tr>\n",
       "    <tr>\n",
       "      <th>10</th>\n",
       "      <td>Grace</td>\n",
       "      <td>29</td>\n",
       "      <td>Berlin</td>\n",
       "      <td>57141.0</td>\n",
       "      <td>2023-01-07</td>\n",
       "      <td>B</td>\n",
       "      <td>11.0</td>\n",
       "    </tr>\n",
       "    <tr>\n",
       "      <th>11</th>\n",
       "      <td>Hannah</td>\n",
       "      <td>60</td>\n",
       "      <td>New York</td>\n",
       "      <td>70425.0</td>\n",
       "      <td>2023-01-08</td>\n",
       "      <td>B</td>\n",
       "      <td>3.0</td>\n",
       "    </tr>\n",
       "    <tr>\n",
       "      <th>12</th>\n",
       "      <td>Roshan</td>\n",
       "      <td>25</td>\n",
       "      <td>Blore</td>\n",
       "      <td>20000.0</td>\n",
       "      <td>2023-01-06</td>\n",
       "      <td>B</td>\n",
       "      <td>13.0</td>\n",
       "    </tr>\n",
       "  </tbody>\n",
       "</table>\n",
       "</div>"
      ],
      "text/plain": [
       "       Name  Age      City   Salary        Date Cate  Rank\n",
       "0     Alice   45  New York  95445.0  2023-01-01    A   8.0\n",
       "1       Bob   58    London  86235.0  2023-01-02    B   5.0\n",
       "2   Charlie   60     Tokyo  62330.0  2023-01-03    C   3.0\n",
       "3     David   28     Paris  46022.0  2023-01-04    A  12.0\n",
       "4    Roshan   49    Berlin  65999.0  2023-01-05    B   6.0\n",
       "5     Frank   67     Paris  56000.0  2023-01-06    A   1.0\n",
       "6     Grace   46    Berlin  57141.0  2023-01-07    C   7.0\n",
       "7    Hannah   60  New York  65413.0  2023-01-08    B   3.0\n",
       "8      Ivan   37     Tokyo  87016.0  2023-01-09    A   9.0\n",
       "9      Jack   31    London  58725.0  2023-01-10    B  10.0\n",
       "10    Grace   29    Berlin  57141.0  2023-01-07    B  11.0\n",
       "11   Hannah   60  New York  70425.0  2023-01-08    B   3.0\n",
       "12   Roshan   25     Blore  20000.0  2023-01-06    B  13.0"
      ]
     },
     "execution_count": 107,
     "metadata": {},
     "output_type": "execute_result"
    }
   ],
   "source": [
    "# Assign ranks based on Age\n",
    "df['Rank'] = df['Age'].rank(ascending=False, method='average')\n",
    "df"
   ]
  },
  {
   "cell_type": "code",
   "execution_count": 112,
   "metadata": {},
   "outputs": [
    {
     "data": {
      "text/plain": [
       "60093.666666666664"
      ]
     },
     "execution_count": 112,
     "metadata": {},
     "output_type": "execute_result"
    }
   ],
   "source": [
    "(65999+57141+57141)/3\n"
   ]
  },
  {
   "cell_type": "markdown",
   "metadata": {},
   "source": [
    "### **Data Aggregation:**"
   ]
  },
  {
   "cell_type": "code",
   "execution_count": 108,
   "metadata": {},
   "outputs": [],
   "source": [
    "# Set pandas to display float values in decimal format\n",
    "pd.set_option('display.float_format', '{:.2f}'.format)"
   ]
  },
  {
   "cell_type": "code",
   "execution_count": 115,
   "metadata": {},
   "outputs": [
    {
     "data": {
      "text/plain": [
       "City\n",
       "Berlin     180281.00\n",
       "Blore       20000.00\n",
       "London     144960.00\n",
       "New York   231283.00\n",
       "Paris      102022.00\n",
       "Tokyo      149346.00\n",
       "Name: Salary, dtype: float64"
      ]
     },
     "execution_count": 115,
     "metadata": {},
     "output_type": "execute_result"
    }
   ],
   "source": [
    "df.groupby('City')['Salary'].sum() # group by city and get the mean of the age\n",
    "# agrigation taken as sum, count, mean, median, max, min, std, var, first, last, nunique, unique, size, idxmax, idxmin"
   ]
  },
  {
   "cell_type": "code",
   "execution_count": 116,
   "metadata": {},
   "outputs": [
    {
     "name": "stdout",
     "output_type": "stream",
     "text": [
      "['Berlin', 'Blore', 'London', 'New York', 'Paris', 'Tokyo']\n",
      "[180281.  20000. 144960. 231283. 102022. 149346.]\n"
     ]
    }
   ],
   "source": [
    "salary_analysis = df.groupby('City')['Salary'].sum() # sum of Salary for each name\n",
    "print(salary_analysis.index.tolist())\n",
    "print(np.round(salary_analysis.values))"
   ]
  },
  {
   "cell_type": "code",
   "execution_count": 118,
   "metadata": {},
   "outputs": [
    {
     "data": {
      "text/html": [
       "<div>\n",
       "<style scoped>\n",
       "    .dataframe tbody tr th:only-of-type {\n",
       "        vertical-align: middle;\n",
       "    }\n",
       "\n",
       "    .dataframe tbody tr th {\n",
       "        vertical-align: top;\n",
       "    }\n",
       "\n",
       "    .dataframe thead th {\n",
       "        text-align: right;\n",
       "    }\n",
       "</style>\n",
       "<table border=\"1\" class=\"dataframe\">\n",
       "  <thead>\n",
       "    <tr style=\"text-align: right;\">\n",
       "      <th></th>\n",
       "      <th>Name</th>\n",
       "      <th>Age</th>\n",
       "      <th>City</th>\n",
       "      <th>Salary</th>\n",
       "      <th>Date</th>\n",
       "      <th>Cate</th>\n",
       "      <th>Rank</th>\n",
       "    </tr>\n",
       "  </thead>\n",
       "  <tbody>\n",
       "    <tr>\n",
       "      <th>0</th>\n",
       "      <td>Alice</td>\n",
       "      <td>45</td>\n",
       "      <td>New York</td>\n",
       "      <td>95445.00</td>\n",
       "      <td>2023-01-01</td>\n",
       "      <td>A</td>\n",
       "      <td>8.00</td>\n",
       "    </tr>\n",
       "    <tr>\n",
       "      <th>1</th>\n",
       "      <td>Bob</td>\n",
       "      <td>58</td>\n",
       "      <td>London</td>\n",
       "      <td>86235.00</td>\n",
       "      <td>2023-01-02</td>\n",
       "      <td>B</td>\n",
       "      <td>5.00</td>\n",
       "    </tr>\n",
       "    <tr>\n",
       "      <th>2</th>\n",
       "      <td>Charlie</td>\n",
       "      <td>60</td>\n",
       "      <td>Tokyo</td>\n",
       "      <td>62330.00</td>\n",
       "      <td>2023-01-03</td>\n",
       "      <td>C</td>\n",
       "      <td>3.00</td>\n",
       "    </tr>\n",
       "    <tr>\n",
       "      <th>3</th>\n",
       "      <td>David</td>\n",
       "      <td>28</td>\n",
       "      <td>Paris</td>\n",
       "      <td>46022.00</td>\n",
       "      <td>2023-01-04</td>\n",
       "      <td>A</td>\n",
       "      <td>12.00</td>\n",
       "    </tr>\n",
       "    <tr>\n",
       "      <th>4</th>\n",
       "      <td>Roshan</td>\n",
       "      <td>49</td>\n",
       "      <td>Berlin</td>\n",
       "      <td>65999.00</td>\n",
       "      <td>2023-01-05</td>\n",
       "      <td>B</td>\n",
       "      <td>6.00</td>\n",
       "    </tr>\n",
       "    <tr>\n",
       "      <th>5</th>\n",
       "      <td>Frank</td>\n",
       "      <td>67</td>\n",
       "      <td>Paris</td>\n",
       "      <td>56000.00</td>\n",
       "      <td>2023-01-06</td>\n",
       "      <td>A</td>\n",
       "      <td>1.00</td>\n",
       "    </tr>\n",
       "    <tr>\n",
       "      <th>6</th>\n",
       "      <td>Grace</td>\n",
       "      <td>46</td>\n",
       "      <td>Berlin</td>\n",
       "      <td>57141.00</td>\n",
       "      <td>2023-01-07</td>\n",
       "      <td>C</td>\n",
       "      <td>7.00</td>\n",
       "    </tr>\n",
       "    <tr>\n",
       "      <th>7</th>\n",
       "      <td>Hannah</td>\n",
       "      <td>60</td>\n",
       "      <td>New York</td>\n",
       "      <td>65413.00</td>\n",
       "      <td>2023-01-08</td>\n",
       "      <td>B</td>\n",
       "      <td>3.00</td>\n",
       "    </tr>\n",
       "    <tr>\n",
       "      <th>8</th>\n",
       "      <td>Ivan</td>\n",
       "      <td>37</td>\n",
       "      <td>Tokyo</td>\n",
       "      <td>87016.00</td>\n",
       "      <td>2023-01-09</td>\n",
       "      <td>A</td>\n",
       "      <td>9.00</td>\n",
       "    </tr>\n",
       "    <tr>\n",
       "      <th>9</th>\n",
       "      <td>Jack</td>\n",
       "      <td>31</td>\n",
       "      <td>London</td>\n",
       "      <td>58725.00</td>\n",
       "      <td>2023-01-10</td>\n",
       "      <td>B</td>\n",
       "      <td>10.00</td>\n",
       "    </tr>\n",
       "    <tr>\n",
       "      <th>10</th>\n",
       "      <td>Grace</td>\n",
       "      <td>29</td>\n",
       "      <td>Berlin</td>\n",
       "      <td>57141.00</td>\n",
       "      <td>2023-01-07</td>\n",
       "      <td>B</td>\n",
       "      <td>11.00</td>\n",
       "    </tr>\n",
       "    <tr>\n",
       "      <th>11</th>\n",
       "      <td>Hannah</td>\n",
       "      <td>60</td>\n",
       "      <td>New York</td>\n",
       "      <td>70425.00</td>\n",
       "      <td>2023-01-08</td>\n",
       "      <td>B</td>\n",
       "      <td>3.00</td>\n",
       "    </tr>\n",
       "    <tr>\n",
       "      <th>12</th>\n",
       "      <td>Roshan</td>\n",
       "      <td>25</td>\n",
       "      <td>Blore</td>\n",
       "      <td>20000.00</td>\n",
       "      <td>2023-01-06</td>\n",
       "      <td>B</td>\n",
       "      <td>13.00</td>\n",
       "    </tr>\n",
       "  </tbody>\n",
       "</table>\n",
       "</div>"
      ],
      "text/plain": [
       "       Name  Age      City   Salary        Date Cate  Rank\n",
       "0     Alice   45  New York 95445.00  2023-01-01    A  8.00\n",
       "1       Bob   58    London 86235.00  2023-01-02    B  5.00\n",
       "2   Charlie   60     Tokyo 62330.00  2023-01-03    C  3.00\n",
       "3     David   28     Paris 46022.00  2023-01-04    A 12.00\n",
       "4    Roshan   49    Berlin 65999.00  2023-01-05    B  6.00\n",
       "5     Frank   67     Paris 56000.00  2023-01-06    A  1.00\n",
       "6     Grace   46    Berlin 57141.00  2023-01-07    C  7.00\n",
       "7    Hannah   60  New York 65413.00  2023-01-08    B  3.00\n",
       "8      Ivan   37     Tokyo 87016.00  2023-01-09    A  9.00\n",
       "9      Jack   31    London 58725.00  2023-01-10    B 10.00\n",
       "10    Grace   29    Berlin 57141.00  2023-01-07    B 11.00\n",
       "11   Hannah   60  New York 70425.00  2023-01-08    B  3.00\n",
       "12   Roshan   25     Blore 20000.00  2023-01-06    B 13.00"
      ]
     },
     "execution_count": 118,
     "metadata": {},
     "output_type": "execute_result"
    }
   ],
   "source": [
    "df"
   ]
  },
  {
   "cell_type": "code",
   "execution_count": 117,
   "metadata": {},
   "outputs": [
    {
     "data": {
      "text/plain": [
       "Name     Cate\n",
       "Alice    A       95445.00\n",
       "Bob      B       86235.00\n",
       "Charlie  C       62330.00\n",
       "David    A       46022.00\n",
       "Frank    A       56000.00\n",
       "Grace    B       57141.00\n",
       "         C       57141.00\n",
       "Hannah   B      135838.00\n",
       "Ivan     A       87016.00\n",
       "Jack     B       58725.00\n",
       "Roshan   B       85999.00\n",
       "Name: Salary, dtype: float64"
      ]
     },
     "execution_count": 117,
     "metadata": {},
     "output_type": "execute_result"
    }
   ],
   "source": [
    "df.groupby(['Name','Cate'])['Salary'].sum() # sum of Salary for each name and Category"
   ]
  },
  {
   "cell_type": "code",
   "execution_count": 119,
   "metadata": {},
   "outputs": [
    {
     "data": {
      "text/html": [
       "<div>\n",
       "<style scoped>\n",
       "    .dataframe tbody tr th:only-of-type {\n",
       "        vertical-align: middle;\n",
       "    }\n",
       "\n",
       "    .dataframe tbody tr th {\n",
       "        vertical-align: top;\n",
       "    }\n",
       "\n",
       "    .dataframe thead th {\n",
       "        text-align: right;\n",
       "    }\n",
       "</style>\n",
       "<table border=\"1\" class=\"dataframe\">\n",
       "  <thead>\n",
       "    <tr style=\"text-align: right;\">\n",
       "      <th></th>\n",
       "      <th>City</th>\n",
       "      <th>Age</th>\n",
       "      <th>Salary</th>\n",
       "    </tr>\n",
       "  </thead>\n",
       "  <tbody>\n",
       "    <tr>\n",
       "      <th>0</th>\n",
       "      <td>New York</td>\n",
       "      <td>55.00</td>\n",
       "      <td>231283.00</td>\n",
       "    </tr>\n",
       "    <tr>\n",
       "      <th>1</th>\n",
       "      <td>Tokyo</td>\n",
       "      <td>48.50</td>\n",
       "      <td>149346.00</td>\n",
       "    </tr>\n",
       "    <tr>\n",
       "      <th>2</th>\n",
       "      <td>Paris</td>\n",
       "      <td>47.50</td>\n",
       "      <td>102022.00</td>\n",
       "    </tr>\n",
       "    <tr>\n",
       "      <th>3</th>\n",
       "      <td>London</td>\n",
       "      <td>44.50</td>\n",
       "      <td>144960.00</td>\n",
       "    </tr>\n",
       "    <tr>\n",
       "      <th>4</th>\n",
       "      <td>Berlin</td>\n",
       "      <td>41.33</td>\n",
       "      <td>180281.00</td>\n",
       "    </tr>\n",
       "    <tr>\n",
       "      <th>5</th>\n",
       "      <td>Blore</td>\n",
       "      <td>25.00</td>\n",
       "      <td>20000.00</td>\n",
       "    </tr>\n",
       "  </tbody>\n",
       "</table>\n",
       "</div>"
      ],
      "text/plain": [
       "       City   Age    Salary\n",
       "0  New York 55.00 231283.00\n",
       "1     Tokyo 48.50 149346.00\n",
       "2     Paris 47.50 102022.00\n",
       "3    London 44.50 144960.00\n",
       "4    Berlin 41.33 180281.00\n",
       "5     Blore 25.00  20000.00"
      ]
     },
     "execution_count": 119,
     "metadata": {},
     "output_type": "execute_result"
    }
   ],
   "source": [
    "# Calculate multiple aggregations simultaneously\n",
    "df.groupby('City').agg({'Age': 'mean', 'Salary': 'sum'}).sort_values(by='Age', ascending=False).reset_index()"
   ]
  },
  {
   "cell_type": "markdown",
   "metadata": {},
   "source": [
    "### **Apply Function**"
   ]
  },
  {
   "cell_type": "code",
   "execution_count": 162,
   "metadata": {},
   "outputs": [
    {
     "data": {
      "text/plain": [
       "'Adult'"
      ]
     },
     "execution_count": 295,
     "metadata": {},
     "output_type": "execute_result"
    }
   ],
   "source": [
    "def categorise(col):\n",
    "    if col <= 12:\n",
    "        return \"Young\"\n",
    "    elif col <= 19:\n",
    "        return \"Tean Age\"\n",
    "    elif col <= 45:\n",
    "        return \"Youth\"\n",
    "    elif col <= 60:\n",
    "        return \"Adult\"\n",
    "    else:\n",
    "        return \"Senior\"\n",
    "\n",
    "categorise(60)"
   ]
  },
  {
   "cell_type": "code",
   "execution_count": 295,
   "metadata": {},
   "outputs": [],
   "source": [
    "df['Age Category'] = df['Age'].apply(categorise)"
   ]
  },
  {
   "cell_type": "code",
   "execution_count": 296,
   "metadata": {},
   "outputs": [
    {
     "data": {
      "text/html": [
       "<div>\n",
       "<style scoped>\n",
       "    .dataframe tbody tr th:only-of-type {\n",
       "        vertical-align: middle;\n",
       "    }\n",
       "\n",
       "    .dataframe tbody tr th {\n",
       "        vertical-align: top;\n",
       "    }\n",
       "\n",
       "    .dataframe thead th {\n",
       "        text-align: right;\n",
       "    }\n",
       "</style>\n",
       "<table border=\"1\" class=\"dataframe\">\n",
       "  <thead>\n",
       "    <tr style=\"text-align: right;\">\n",
       "      <th></th>\n",
       "      <th>A</th>\n",
       "      <th>B</th>\n",
       "      <th>C</th>\n",
       "    </tr>\n",
       "  </thead>\n",
       "  <tbody>\n",
       "    <tr>\n",
       "      <th>0</th>\n",
       "      <td>1</td>\n",
       "      <td>4</td>\n",
       "      <td>7</td>\n",
       "    </tr>\n",
       "    <tr>\n",
       "      <th>1</th>\n",
       "      <td>2</td>\n",
       "      <td>5</td>\n",
       "      <td>8</td>\n",
       "    </tr>\n",
       "    <tr>\n",
       "      <th>2</th>\n",
       "      <td>3</td>\n",
       "      <td>6</td>\n",
       "      <td>9</td>\n",
       "    </tr>\n",
       "  </tbody>\n",
       "</table>\n",
       "</div>"
      ],
      "text/plain": [
       "   A  B  C\n",
       "0  1  4  7\n",
       "1  2  5  8\n",
       "2  3  6  9"
      ]
     },
     "execution_count": 297,
     "metadata": {},
     "output_type": "execute_result"
    }
   ],
   "source": [
    "data = {'A': [1, 2, 3], 'B': [4, 5, 6], 'C': [7, 8, 9]}\n",
    "df3 = pd.DataFrame(data)\n",
    "df3"
   ]
  },
  {
   "cell_type": "code",
   "execution_count": 297,
   "metadata": {},
   "outputs": [
    {
     "data": {
      "text/html": [
       "<div>\n",
       "<style scoped>\n",
       "    .dataframe tbody tr th:only-of-type {\n",
       "        vertical-align: middle;\n",
       "    }\n",
       "\n",
       "    .dataframe tbody tr th {\n",
       "        vertical-align: top;\n",
       "    }\n",
       "\n",
       "    .dataframe thead th {\n",
       "        text-align: right;\n",
       "    }\n",
       "</style>\n",
       "<table border=\"1\" class=\"dataframe\">\n",
       "  <thead>\n",
       "    <tr style=\"text-align: right;\">\n",
       "      <th></th>\n",
       "      <th>A</th>\n",
       "      <th>B</th>\n",
       "      <th>C</th>\n",
       "    </tr>\n",
       "  </thead>\n",
       "  <tbody>\n",
       "    <tr>\n",
       "      <th>0</th>\n",
       "      <td>2</td>\n",
       "      <td>8</td>\n",
       "      <td>14</td>\n",
       "    </tr>\n",
       "    <tr>\n",
       "      <th>1</th>\n",
       "      <td>4</td>\n",
       "      <td>10</td>\n",
       "      <td>16</td>\n",
       "    </tr>\n",
       "    <tr>\n",
       "      <th>2</th>\n",
       "      <td>6</td>\n",
       "      <td>12</td>\n",
       "      <td>18</td>\n",
       "    </tr>\n",
       "  </tbody>\n",
       "</table>\n",
       "</div>"
      ],
      "text/plain": [
       "   A   B   C\n",
       "0  2   8  14\n",
       "1  4  10  16\n",
       "2  6  12  18"
      ]
     },
     "execution_count": 298,
     "metadata": {},
     "output_type": "execute_result"
    }
   ],
   "source": [
    "# Define a function to double the value of each element\n",
    "def double(x):\n",
    "    return x*2\n",
    "\n",
    "# Apply the function to the DataFrame, column-wise (default behavior)\n",
    "result = df3.apply(double)\n",
    "result"
   ]
  },
  {
   "cell_type": "code",
   "execution_count": 298,
   "metadata": {},
   "outputs": [
    {
     "name": "stdout",
     "output_type": "stream",
     "text": [
      "     A    B    C\n",
      "0  NaN 4.00  NaN\n",
      "1 2.00  NaN 8.00\n",
      "2  NaN 6.00  NaN\n",
      "     A    B    C\n",
      "0  NaN 4.00  NaN\n",
      "1 2.00  NaN 8.00\n",
      "2  NaN 6.00  NaN\n"
     ]
    }
   ],
   "source": [
    "# Define a function to divisible by two value of each element\n",
    "def div(x):\n",
    "    return x%2==0\n",
    "\n",
    "# Apply the function to the DataFrame, column-wise (default behavior)\n",
    "result = df3[df3.apply(div)]\n",
    "result1= df3[df3.applymap(div)]\n",
    "print(result)\n",
    "print(result1)"
   ]
  },
  {
   "cell_type": "code",
   "execution_count": 299,
   "metadata": {},
   "outputs": [],
   "source": [
    "df['Age'] = df['Age'].astype('int')"
   ]
  },
  {
   "cell_type": "markdown",
   "metadata": {},
   "source": [
    "### **Merge or Join**"
   ]
  },
  {
   "cell_type": "code",
   "execution_count": 168,
   "metadata": {},
   "outputs": [
    {
     "data": {
      "text/plain": [
       "Index(['Age', 'Salary', 'Rank'], dtype='object')"
      ]
     },
     "execution_count": 301,
     "metadata": {},
     "output_type": "execute_result"
    }
   ],
   "source": [
    "df.select_dtypes(include=['int', 'float']).columns"
   ]
  },
  {
   "cell_type": "code",
   "execution_count": 301,
   "metadata": {},
   "outputs": [],
   "source": [
    "left_data = {\n",
    "    'ID': [1, 2, 3, 4, 5],\n",
    "    'Name': ['Alice', 'Bob', 'Charlie', 'David', 'Eva'],\n",
    "    'Age': [25, 30, 35, 28, 24],\n",
    "}\n",
    "\n",
    "left_df = pd.DataFrame(left_data)\n",
    "\n",
    "# Sample data for right DataFrame\n",
    "right_data = {\n",
    "    'ID': [1, 2, 4, 5, 6],\n",
    "    'City': ['New York', 'London', 'Paris', 'Berlin', 'Tokyo'],\n",
    "    'Salary': [60000, 75000, 62000, 57000, 80000],\n",
    "}\n",
    "\n",
    "right_df = pd.DataFrame(right_data)"
   ]
  },
  {
   "cell_type": "code",
   "execution_count": 302,
   "metadata": {},
   "outputs": [
    {
     "data": {
      "text/html": [
       "<div>\n",
       "<style scoped>\n",
       "    .dataframe tbody tr th:only-of-type {\n",
       "        vertical-align: middle;\n",
       "    }\n",
       "\n",
       "    .dataframe tbody tr th {\n",
       "        vertical-align: top;\n",
       "    }\n",
       "\n",
       "    .dataframe thead th {\n",
       "        text-align: right;\n",
       "    }\n",
       "</style>\n",
       "<table border=\"1\" class=\"dataframe\">\n",
       "  <thead>\n",
       "    <tr style=\"text-align: right;\">\n",
       "      <th></th>\n",
       "      <th>ID</th>\n",
       "      <th>Name</th>\n",
       "      <th>Age</th>\n",
       "    </tr>\n",
       "  </thead>\n",
       "  <tbody>\n",
       "    <tr>\n",
       "      <th>0</th>\n",
       "      <td>1</td>\n",
       "      <td>Alice</td>\n",
       "      <td>25</td>\n",
       "    </tr>\n",
       "    <tr>\n",
       "      <th>1</th>\n",
       "      <td>2</td>\n",
       "      <td>Bob</td>\n",
       "      <td>30</td>\n",
       "    </tr>\n",
       "    <tr>\n",
       "      <th>2</th>\n",
       "      <td>3</td>\n",
       "      <td>Charlie</td>\n",
       "      <td>35</td>\n",
       "    </tr>\n",
       "    <tr>\n",
       "      <th>3</th>\n",
       "      <td>4</td>\n",
       "      <td>David</td>\n",
       "      <td>28</td>\n",
       "    </tr>\n",
       "    <tr>\n",
       "      <th>4</th>\n",
       "      <td>5</td>\n",
       "      <td>Eva</td>\n",
       "      <td>24</td>\n",
       "    </tr>\n",
       "  </tbody>\n",
       "</table>\n",
       "</div>"
      ],
      "text/plain": [
       "   ID     Name  Age\n",
       "0   1    Alice   25\n",
       "1   2      Bob   30\n",
       "2   3  Charlie   35\n",
       "3   4    David   28\n",
       "4   5      Eva   24"
      ]
     },
     "execution_count": 303,
     "metadata": {},
     "output_type": "execute_result"
    }
   ],
   "source": [
    "left_df"
   ]
  },
  {
   "cell_type": "code",
   "execution_count": 303,
   "metadata": {},
   "outputs": [
    {
     "data": {
      "text/html": [
       "<div>\n",
       "<style scoped>\n",
       "    .dataframe tbody tr th:only-of-type {\n",
       "        vertical-align: middle;\n",
       "    }\n",
       "\n",
       "    .dataframe tbody tr th {\n",
       "        vertical-align: top;\n",
       "    }\n",
       "\n",
       "    .dataframe thead th {\n",
       "        text-align: right;\n",
       "    }\n",
       "</style>\n",
       "<table border=\"1\" class=\"dataframe\">\n",
       "  <thead>\n",
       "    <tr style=\"text-align: right;\">\n",
       "      <th></th>\n",
       "      <th>ID</th>\n",
       "      <th>City</th>\n",
       "      <th>Salary</th>\n",
       "    </tr>\n",
       "  </thead>\n",
       "  <tbody>\n",
       "    <tr>\n",
       "      <th>0</th>\n",
       "      <td>1</td>\n",
       "      <td>New York</td>\n",
       "      <td>60000</td>\n",
       "    </tr>\n",
       "    <tr>\n",
       "      <th>1</th>\n",
       "      <td>2</td>\n",
       "      <td>London</td>\n",
       "      <td>75000</td>\n",
       "    </tr>\n",
       "    <tr>\n",
       "      <th>2</th>\n",
       "      <td>4</td>\n",
       "      <td>Paris</td>\n",
       "      <td>62000</td>\n",
       "    </tr>\n",
       "    <tr>\n",
       "      <th>3</th>\n",
       "      <td>5</td>\n",
       "      <td>Berlin</td>\n",
       "      <td>57000</td>\n",
       "    </tr>\n",
       "    <tr>\n",
       "      <th>4</th>\n",
       "      <td>6</td>\n",
       "      <td>Tokyo</td>\n",
       "      <td>80000</td>\n",
       "    </tr>\n",
       "  </tbody>\n",
       "</table>\n",
       "</div>"
      ],
      "text/plain": [
       "   ID      City  Salary\n",
       "0   1  New York   60000\n",
       "1   2    London   75000\n",
       "2   4     Paris   62000\n",
       "3   5    Berlin   57000\n",
       "4   6     Tokyo   80000"
      ]
     },
     "execution_count": 304,
     "metadata": {},
     "output_type": "execute_result"
    }
   ],
   "source": [
    "right_df"
   ]
  },
  {
   "cell_type": "code",
   "execution_count": null,
   "metadata": {},
   "outputs": [
    {
     "data": {
      "text/html": [
       "<div>\n",
       "<style scoped>\n",
       "    .dataframe tbody tr th:only-of-type {\n",
       "        vertical-align: middle;\n",
       "    }\n",
       "\n",
       "    .dataframe tbody tr th {\n",
       "        vertical-align: top;\n",
       "    }\n",
       "\n",
       "    .dataframe thead th {\n",
       "        text-align: right;\n",
       "    }\n",
       "</style>\n",
       "<table border=\"1\" class=\"dataframe\">\n",
       "  <thead>\n",
       "    <tr style=\"text-align: right;\">\n",
       "      <th></th>\n",
       "      <th>ID</th>\n",
       "      <th>Name</th>\n",
       "      <th>Age</th>\n",
       "      <th>City</th>\n",
       "      <th>Salary</th>\n",
       "    </tr>\n",
       "  </thead>\n",
       "  <tbody>\n",
       "    <tr>\n",
       "      <th>0</th>\n",
       "      <td>1</td>\n",
       "      <td>Alice</td>\n",
       "      <td>25</td>\n",
       "      <td>New York</td>\n",
       "      <td>60000</td>\n",
       "    </tr>\n",
       "    <tr>\n",
       "      <th>1</th>\n",
       "      <td>2</td>\n",
       "      <td>Bob</td>\n",
       "      <td>30</td>\n",
       "      <td>London</td>\n",
       "      <td>75000</td>\n",
       "    </tr>\n",
       "    <tr>\n",
       "      <th>2</th>\n",
       "      <td>4</td>\n",
       "      <td>David</td>\n",
       "      <td>28</td>\n",
       "      <td>Paris</td>\n",
       "      <td>62000</td>\n",
       "    </tr>\n",
       "    <tr>\n",
       "      <th>3</th>\n",
       "      <td>5</td>\n",
       "      <td>Eva</td>\n",
       "      <td>24</td>\n",
       "      <td>Berlin</td>\n",
       "      <td>57000</td>\n",
       "    </tr>\n",
       "  </tbody>\n",
       "</table>\n",
       "</div>"
      ],
      "text/plain": [
       "   ID   Name  Age      City  Salary\n",
       "0   1  Alice   25  New York   60000\n",
       "1   2    Bob   30    London   75000\n",
       "2   4  David   28     Paris   62000\n",
       "3   5    Eva   24    Berlin   57000"
      ]
     },
     "execution_count": 305,
     "metadata": {},
     "output_type": "execute_result"
    }
   ],
   "source": [
    "# Data Merging and Joining:\n",
    "# Merging DataFrames based on a common column\n",
    "merged_df = pd.merge(left_df, right_df, on='ID')\n",
    "merged_df"
   ]
  },
  {
   "cell_type": "code",
   "execution_count": 305,
   "metadata": {},
   "outputs": [
    {
     "name": "stdout",
     "output_type": "stream",
     "text": [
      "   ID   Name  Age      City  Salary\n",
      "0   1  Alice   25  New York   60000\n",
      "1   2    Bob   30    London   75000\n",
      "2   4  David   28     Paris   62000\n",
      "3   5    Eva   24    Berlin   57000\n",
      "   ID     Name  Age      City   Salary\n",
      "0   1    Alice   25  New York 60000.00\n",
      "1   2      Bob   30    London 75000.00\n",
      "2   3  Charlie   35       NaN      NaN\n",
      "3   4    David   28     Paris 62000.00\n",
      "4   5      Eva   24    Berlin 57000.00\n",
      "   ID   Name   Age      City  Salary\n",
      "0   1  Alice 25.00  New York   60000\n",
      "1   2    Bob 30.00    London   75000\n",
      "2   4  David 28.00     Paris   62000\n",
      "3   5    Eva 24.00    Berlin   57000\n",
      "4   6    NaN   NaN     Tokyo   80000\n",
      "   ID     Name   Age      City   Salary\n",
      "0   1    Alice 25.00  New York 60000.00\n",
      "1   2      Bob 30.00    London 75000.00\n",
      "2   3  Charlie 35.00       NaN      NaN\n",
      "3   4    David 28.00     Paris 62000.00\n",
      "4   5      Eva 24.00    Berlin 57000.00\n",
      "5   6      NaN   NaN     Tokyo 80000.00\n"
     ]
    }
   ],
   "source": [
    "# Joining DataFrames based on the index\n",
    "# Inner join on 'ID' column\n",
    "result_inner = pd.merge(left_df, right_df, on='ID', how='inner')\n",
    "print(result_inner)\n",
    "\n",
    "# Left join on 'ID' column\n",
    "result_left = pd.merge(left_df, right_df, on='ID', how='left')\n",
    "print(result_left)\n",
    "\n",
    "# Right join on 'ID' column\n",
    "result_right = pd.merge(left_df, right_df, on='ID', how='right')\n",
    "print(result_right)\n",
    "\n",
    "# Outer join on 'ID' column\n",
    "result_outer = pd.merge(left_df, right_df, on='ID', how='outer')\n",
    "print(result_outer)"
   ]
  },
  {
   "cell_type": "markdown",
   "metadata": {},
   "source": [
    "### **Time Series Analysis**"
   ]
  },
  {
   "cell_type": "code",
   "execution_count": 174,
   "metadata": {},
   "outputs": [
    {
     "name": "stdout",
     "output_type": "stream",
     "text": [
      "0    2023-01-01\n",
      "1    2023-01-02\n",
      "2    2023-01-03\n",
      "3    2023-01-04\n",
      "4    2023-01-05\n",
      "5    2023-01-06\n",
      "6    2023-01-07\n",
      "7    2023-01-08\n",
      "8    2023-01-09\n",
      "9    2023-01-10\n",
      "10   2023-01-07\n",
      "11   2023-01-08\n",
      "12   2023-01-06\n",
      "Name: Date, dtype: datetime64[ns]\n"
     ]
    }
   ],
   "source": [
    "import datetime\n",
    "df['Date'] = pd.to_datetime(df[\"Date\"], format=\"%Y-%m-%d\")\n",
    "print(df['Date'])"
   ]
  },
  {
   "cell_type": "code",
   "execution_count": 307,
   "metadata": {},
   "outputs": [
    {
     "name": "stdout",
     "output_type": "stream",
     "text": [
      "23\n"
     ]
    }
   ],
   "source": [
    "from datetime import date\n",
    "dt = date.today().day\n",
    "print(dt)"
   ]
  },
  {
   "cell_type": "code",
   "execution_count": 308,
   "metadata": {},
   "outputs": [],
   "source": [
    "df['Present'] = pd.date_range(start='2024-09-27', periods=13, freq='D')"
   ]
  },
  {
   "cell_type": "code",
   "execution_count": 309,
   "metadata": {},
   "outputs": [],
   "source": [
    "df.rename(columns={'Date':\"Joining Date\"}, inplace = True)"
   ]
  },
  {
   "cell_type": "code",
   "execution_count": 310,
   "metadata": {},
   "outputs": [],
   "source": [
    "df['Year_exprience'] = df['Present'].dt.year - df['Joining Date'].dt.year"
   ]
  },
  {
   "cell_type": "code",
   "execution_count": null,
   "metadata": {},
   "outputs": [
    {
     "data": {
      "text/html": [
       "<div>\n",
       "<style scoped>\n",
       "    .dataframe tbody tr th:only-of-type {\n",
       "        vertical-align: middle;\n",
       "    }\n",
       "\n",
       "    .dataframe tbody tr th {\n",
       "        vertical-align: top;\n",
       "    }\n",
       "\n",
       "    .dataframe thead th {\n",
       "        text-align: right;\n",
       "    }\n",
       "</style>\n",
       "<table border=\"1\" class=\"dataframe\">\n",
       "  <thead>\n",
       "    <tr style=\"text-align: right;\">\n",
       "      <th></th>\n",
       "      <th>Name</th>\n",
       "      <th>City</th>\n",
       "      <th>Joining Date</th>\n",
       "      <th>Cate</th>\n",
       "      <th>Age Category</th>\n",
       "      <th>Present</th>\n",
       "    </tr>\n",
       "  </thead>\n",
       "  <tbody>\n",
       "    <tr>\n",
       "      <th>0</th>\n",
       "      <td>Alice</td>\n",
       "      <td>New York</td>\n",
       "      <td>2023-01-01</td>\n",
       "      <td>A</td>\n",
       "      <td>Youth</td>\n",
       "      <td>2024-09-27</td>\n",
       "    </tr>\n",
       "    <tr>\n",
       "      <th>1</th>\n",
       "      <td>Bob</td>\n",
       "      <td>London</td>\n",
       "      <td>2023-01-02</td>\n",
       "      <td>B</td>\n",
       "      <td>Adult</td>\n",
       "      <td>2024-09-28</td>\n",
       "    </tr>\n",
       "    <tr>\n",
       "      <th>2</th>\n",
       "      <td>Charlie</td>\n",
       "      <td>Tokyo</td>\n",
       "      <td>2023-01-03</td>\n",
       "      <td>C</td>\n",
       "      <td>Adult</td>\n",
       "      <td>2024-09-29</td>\n",
       "    </tr>\n",
       "    <tr>\n",
       "      <th>3</th>\n",
       "      <td>David</td>\n",
       "      <td>Paris</td>\n",
       "      <td>2023-01-04</td>\n",
       "      <td>A</td>\n",
       "      <td>Youth</td>\n",
       "      <td>2024-09-30</td>\n",
       "    </tr>\n",
       "    <tr>\n",
       "      <th>4</th>\n",
       "      <td>Roshan</td>\n",
       "      <td>Berlin</td>\n",
       "      <td>2023-01-05</td>\n",
       "      <td>B</td>\n",
       "      <td>Adult</td>\n",
       "      <td>2024-10-01</td>\n",
       "    </tr>\n",
       "    <tr>\n",
       "      <th>5</th>\n",
       "      <td>Frank</td>\n",
       "      <td>Paris</td>\n",
       "      <td>2023-01-06</td>\n",
       "      <td>A</td>\n",
       "      <td>Senior</td>\n",
       "      <td>2024-10-02</td>\n",
       "    </tr>\n",
       "    <tr>\n",
       "      <th>6</th>\n",
       "      <td>Grace</td>\n",
       "      <td>Berlin</td>\n",
       "      <td>2023-01-07</td>\n",
       "      <td>C</td>\n",
       "      <td>Adult</td>\n",
       "      <td>2024-10-03</td>\n",
       "    </tr>\n",
       "    <tr>\n",
       "      <th>7</th>\n",
       "      <td>Hannah</td>\n",
       "      <td>New York</td>\n",
       "      <td>2023-01-08</td>\n",
       "      <td>B</td>\n",
       "      <td>Adult</td>\n",
       "      <td>2024-10-04</td>\n",
       "    </tr>\n",
       "    <tr>\n",
       "      <th>8</th>\n",
       "      <td>Ivan</td>\n",
       "      <td>Tokyo</td>\n",
       "      <td>2023-01-09</td>\n",
       "      <td>A</td>\n",
       "      <td>Youth</td>\n",
       "      <td>2024-10-05</td>\n",
       "    </tr>\n",
       "    <tr>\n",
       "      <th>9</th>\n",
       "      <td>Jack</td>\n",
       "      <td>London</td>\n",
       "      <td>2023-01-10</td>\n",
       "      <td>B</td>\n",
       "      <td>Youth</td>\n",
       "      <td>2024-10-06</td>\n",
       "    </tr>\n",
       "    <tr>\n",
       "      <th>10</th>\n",
       "      <td>Grace</td>\n",
       "      <td>Berlin</td>\n",
       "      <td>2023-01-07</td>\n",
       "      <td>B</td>\n",
       "      <td>Youth</td>\n",
       "      <td>2024-10-07</td>\n",
       "    </tr>\n",
       "    <tr>\n",
       "      <th>11</th>\n",
       "      <td>Hannah</td>\n",
       "      <td>New York</td>\n",
       "      <td>2023-01-08</td>\n",
       "      <td>B</td>\n",
       "      <td>Adult</td>\n",
       "      <td>2024-10-08</td>\n",
       "    </tr>\n",
       "    <tr>\n",
       "      <th>12</th>\n",
       "      <td>Roshan</td>\n",
       "      <td>Blore</td>\n",
       "      <td>2023-01-06</td>\n",
       "      <td>B</td>\n",
       "      <td>Youth</td>\n",
       "      <td>2024-10-09</td>\n",
       "    </tr>\n",
       "  </tbody>\n",
       "</table>\n",
       "</div>"
      ],
      "text/plain": [
       "       Name      City Joining Date Cate Age Category    Present\n",
       "0     Alice  New York   2023-01-01    A        Youth 2024-09-27\n",
       "1       Bob    London   2023-01-02    B        Adult 2024-09-28\n",
       "2   Charlie     Tokyo   2023-01-03    C        Adult 2024-09-29\n",
       "3     David     Paris   2023-01-04    A        Youth 2024-09-30\n",
       "4    Roshan    Berlin   2023-01-05    B        Adult 2024-10-01\n",
       "5     Frank     Paris   2023-01-06    A       Senior 2024-10-02\n",
       "6     Grace    Berlin   2023-01-07    C        Adult 2024-10-03\n",
       "7    Hannah  New York   2023-01-08    B        Adult 2024-10-04\n",
       "8      Ivan     Tokyo   2023-01-09    A        Youth 2024-10-05\n",
       "9      Jack    London   2023-01-10    B        Youth 2024-10-06\n",
       "10    Grace    Berlin   2023-01-07    B        Youth 2024-10-07\n",
       "11   Hannah  New York   2023-01-08    B        Adult 2024-10-08\n",
       "12   Roshan     Blore   2023-01-06    B        Youth 2024-10-09"
      ]
     },
     "execution_count": 312,
     "metadata": {},
     "output_type": "execute_result"
    }
   ],
   "source": [
    "df[df.select_dtypes(exclude=['int', 'float']).columns]"
   ]
  },
  {
   "cell_type": "code",
   "execution_count": 312,
   "metadata": {},
   "outputs": [
    {
     "name": "stdout",
     "output_type": "stream",
     "text": [
      "DatetimeIndex(['2024-09-27 00:00:00', '2024-09-27 01:00:00',\n",
      "               '2024-09-27 02:00:00', '2024-09-27 03:00:00',\n",
      "               '2024-09-27 04:00:00', '2024-09-27 05:00:00',\n",
      "               '2024-09-27 06:00:00', '2024-09-27 07:00:00',\n",
      "               '2024-09-27 08:00:00', '2024-09-27 09:00:00',\n",
      "               '2024-09-27 10:00:00', '2024-09-27 11:00:00',\n",
      "               '2024-09-27 12:00:00', '2024-09-27 13:00:00',\n",
      "               '2024-09-27 14:00:00'],\n",
      "              dtype='datetime64[ns]', freq='h')\n"
     ]
    }
   ],
   "source": [
    "date_range = pd.date_range(start='2024-09-27', periods=15, freq='h') # Year = Y DaY = D Month = M Hour = H\n",
    "print(date_range)"
   ]
  },
  {
   "cell_type": "code",
   "execution_count": 313,
   "metadata": {},
   "outputs": [
    {
     "name": "stdout",
     "output_type": "stream",
     "text": [
      "            value\n",
      "2023-08-01     10\n",
      "2023-08-02     20\n",
      "2023-08-03     15\n",
      "2023-08-04     25\n"
     ]
    }
   ],
   "source": [
    "# Creating a DataFrame with dates as the index\n",
    "data = {'value': [10, 20, 15, 25]}\n",
    "index_dates = pd.date_range(start='2023-08-01', periods=4, freq='D')\n",
    "df1 = pd.DataFrame(data, index=index_dates)\n",
    "print(df1)"
   ]
  },
  {
   "cell_type": "code",
   "execution_count": 314,
   "metadata": {},
   "outputs": [
    {
     "name": "stdout",
     "output_type": "stream",
     "text": [
      "                     value\n",
      "2023-08-01 00:00:00     10\n",
      "2023-08-01 01:00:00     20\n",
      "2023-08-01 02:00:00     15\n",
      "2023-08-01 03:00:00     25\n",
      "2023-08-01 04:00:00     30\n",
      "2023-08-01 05:00:00     35\n",
      "            value\n",
      "2023-08-01  22.50\n"
     ]
    }
   ],
   "source": [
    "# Creating a DataFrame with hourly data\n",
    "data = {'value': [10, 20, 15, 25, 30, 35]}\n",
    "index_dates = pd.date_range(start='2023-08-01', periods=6, freq='H')\n",
    "df2 = pd.DataFrame(data, index=index_dates)\n",
    "print(df2)\n",
    "# Resample to daily frequency and calculate the mean for each day\n",
    "daily_mean = df2.resample('D').mean()\n",
    "print(daily_mean)"
   ]
  },
  {
   "cell_type": "code",
   "execution_count": null,
   "metadata": {},
   "outputs": [
    {
     "name": "stdout",
     "output_type": "stream",
     "text": [
      "   February 2024\n",
      "Mo Tu We Th Fr Sa Su\n",
      "          1  2  3  4\n",
      " 5  6  7  8  9 10 11\n",
      "12 13 14 15 16 17 18\n",
      "19 20 21 22 23 24 25\n",
      "26 27 28 29\n",
      "\n"
     ]
    }
   ],
   "source": [
    "import calendar \n",
    "print(calendar.month(2024,2))"
   ]
  },
  {
   "cell_type": "code",
   "execution_count": 316,
   "metadata": {},
   "outputs": [
    {
     "name": "stdout",
     "output_type": "stream",
     "text": [
      "                                  2025\n",
      "\n",
      "      January                   February                   March\n",
      "Mo Tu We Th Fr Sa Su      Mo Tu We Th Fr Sa Su      Mo Tu We Th Fr Sa Su\n",
      "       1  2  3  4  5                      1  2                      1  2\n",
      " 6  7  8  9 10 11 12       3  4  5  6  7  8  9       3  4  5  6  7  8  9\n",
      "13 14 15 16 17 18 19      10 11 12 13 14 15 16      10 11 12 13 14 15 16\n",
      "20 21 22 23 24 25 26      17 18 19 20 21 22 23      17 18 19 20 21 22 23\n",
      "27 28 29 30 31            24 25 26 27 28            24 25 26 27 28 29 30\n",
      "                                                    31\n",
      "\n",
      "       April                      May                       June\n",
      "Mo Tu We Th Fr Sa Su      Mo Tu We Th Fr Sa Su      Mo Tu We Th Fr Sa Su\n",
      "    1  2  3  4  5  6                1  2  3  4                         1\n",
      " 7  8  9 10 11 12 13       5  6  7  8  9 10 11       2  3  4  5  6  7  8\n",
      "14 15 16 17 18 19 20      12 13 14 15 16 17 18       9 10 11 12 13 14 15\n",
      "21 22 23 24 25 26 27      19 20 21 22 23 24 25      16 17 18 19 20 21 22\n",
      "28 29 30                  26 27 28 29 30 31         23 24 25 26 27 28 29\n",
      "                                                    30\n",
      "\n",
      "        July                     August                  September\n",
      "Mo Tu We Th Fr Sa Su      Mo Tu We Th Fr Sa Su      Mo Tu We Th Fr Sa Su\n",
      "    1  2  3  4  5  6                   1  2  3       1  2  3  4  5  6  7\n",
      " 7  8  9 10 11 12 13       4  5  6  7  8  9 10       8  9 10 11 12 13 14\n",
      "14 15 16 17 18 19 20      11 12 13 14 15 16 17      15 16 17 18 19 20 21\n",
      "21 22 23 24 25 26 27      18 19 20 21 22 23 24      22 23 24 25 26 27 28\n",
      "28 29 30 31               25 26 27 28 29 30 31      29 30\n",
      "\n",
      "      October                   November                  December\n",
      "Mo Tu We Th Fr Sa Su      Mo Tu We Th Fr Sa Su      Mo Tu We Th Fr Sa Su\n",
      "       1  2  3  4  5                      1  2       1  2  3  4  5  6  7\n",
      " 6  7  8  9 10 11 12       3  4  5  6  7  8  9       8  9 10 11 12 13 14\n",
      "13 14 15 16 17 18 19      10 11 12 13 14 15 16      15 16 17 18 19 20 21\n",
      "20 21 22 23 24 25 26      17 18 19 20 21 22 23      22 23 24 25 26 27 28\n",
      "27 28 29 30 31            24 25 26 27 28 29 30      29 30 31\n"
     ]
    }
   ],
   "source": [
    "calendar.prcal(2025)"
   ]
  },
  {
   "cell_type": "markdown",
   "metadata": {},
   "source": [
    "### **Pivote Table**"
   ]
  },
  {
   "cell_type": "code",
   "execution_count": null,
   "metadata": {},
   "outputs": [
    {
     "data": {
      "text/html": [
       "<div>\n",
       "<style scoped>\n",
       "    .dataframe tbody tr th:only-of-type {\n",
       "        vertical-align: middle;\n",
       "    }\n",
       "\n",
       "    .dataframe tbody tr th {\n",
       "        vertical-align: top;\n",
       "    }\n",
       "\n",
       "    .dataframe thead th {\n",
       "        text-align: right;\n",
       "    }\n",
       "</style>\n",
       "<table border=\"1\" class=\"dataframe\">\n",
       "  <thead>\n",
       "    <tr style=\"text-align: right;\">\n",
       "      <th>Cate</th>\n",
       "      <th>A</th>\n",
       "      <th>B</th>\n",
       "      <th>C</th>\n",
       "    </tr>\n",
       "    <tr>\n",
       "      <th>Name</th>\n",
       "      <th></th>\n",
       "      <th></th>\n",
       "      <th></th>\n",
       "    </tr>\n",
       "  </thead>\n",
       "  <tbody>\n",
       "    <tr>\n",
       "      <th>Alice</th>\n",
       "      <td>95445.00</td>\n",
       "      <td>NaN</td>\n",
       "      <td>NaN</td>\n",
       "    </tr>\n",
       "    <tr>\n",
       "      <th>Bob</th>\n",
       "      <td>NaN</td>\n",
       "      <td>86235.00</td>\n",
       "      <td>NaN</td>\n",
       "    </tr>\n",
       "    <tr>\n",
       "      <th>Charlie</th>\n",
       "      <td>NaN</td>\n",
       "      <td>NaN</td>\n",
       "      <td>62330.00</td>\n",
       "    </tr>\n",
       "    <tr>\n",
       "      <th>David</th>\n",
       "      <td>46022.00</td>\n",
       "      <td>NaN</td>\n",
       "      <td>NaN</td>\n",
       "    </tr>\n",
       "    <tr>\n",
       "      <th>Frank</th>\n",
       "      <td>56000.00</td>\n",
       "      <td>NaN</td>\n",
       "      <td>NaN</td>\n",
       "    </tr>\n",
       "    <tr>\n",
       "      <th>Grace</th>\n",
       "      <td>NaN</td>\n",
       "      <td>57141.00</td>\n",
       "      <td>57141.00</td>\n",
       "    </tr>\n",
       "    <tr>\n",
       "      <th>Hannah</th>\n",
       "      <td>NaN</td>\n",
       "      <td>135838.00</td>\n",
       "      <td>NaN</td>\n",
       "    </tr>\n",
       "    <tr>\n",
       "      <th>Ivan</th>\n",
       "      <td>87016.00</td>\n",
       "      <td>NaN</td>\n",
       "      <td>NaN</td>\n",
       "    </tr>\n",
       "    <tr>\n",
       "      <th>Jack</th>\n",
       "      <td>NaN</td>\n",
       "      <td>58725.00</td>\n",
       "      <td>NaN</td>\n",
       "    </tr>\n",
       "    <tr>\n",
       "      <th>Roshan</th>\n",
       "      <td>NaN</td>\n",
       "      <td>85999.00</td>\n",
       "      <td>NaN</td>\n",
       "    </tr>\n",
       "  </tbody>\n",
       "</table>\n",
       "</div>"
      ],
      "text/plain": [
       "Cate           A         B        C\n",
       "Name                               \n",
       "Alice   95445.00       NaN      NaN\n",
       "Bob          NaN  86235.00      NaN\n",
       "Charlie      NaN       NaN 62330.00\n",
       "David   46022.00       NaN      NaN\n",
       "Frank   56000.00       NaN      NaN\n",
       "Grace        NaN  57141.00 57141.00\n",
       "Hannah       NaN 135838.00      NaN\n",
       "Ivan    87016.00       NaN      NaN\n",
       "Jack         NaN  58725.00      NaN\n",
       "Roshan       NaN  85999.00      NaN"
      ]
     },
     "execution_count": 318,
     "metadata": {},
     "output_type": "execute_result"
    }
   ],
   "source": [
    "df.pivot_table(index='Name', columns='Cate', values='Salary', aggfunc='sum')"
   ]
  },
  {
   "cell_type": "code",
   "execution_count": 318,
   "metadata": {},
   "outputs": [
    {
     "data": {
      "text/html": [
       "<div>\n",
       "<style scoped>\n",
       "    .dataframe tbody tr th:only-of-type {\n",
       "        vertical-align: middle;\n",
       "    }\n",
       "\n",
       "    .dataframe tbody tr th {\n",
       "        vertical-align: top;\n",
       "    }\n",
       "\n",
       "    .dataframe thead th {\n",
       "        text-align: right;\n",
       "    }\n",
       "</style>\n",
       "<table border=\"1\" class=\"dataframe\">\n",
       "  <thead>\n",
       "    <tr style=\"text-align: right;\">\n",
       "      <th>Cate</th>\n",
       "      <th>A</th>\n",
       "      <th>B</th>\n",
       "      <th>C</th>\n",
       "    </tr>\n",
       "    <tr>\n",
       "      <th>Name</th>\n",
       "      <th></th>\n",
       "      <th></th>\n",
       "      <th></th>\n",
       "    </tr>\n",
       "  </thead>\n",
       "  <tbody>\n",
       "    <tr>\n",
       "      <th>Alice</th>\n",
       "      <td>1</td>\n",
       "      <td>0</td>\n",
       "      <td>0</td>\n",
       "    </tr>\n",
       "    <tr>\n",
       "      <th>Bob</th>\n",
       "      <td>0</td>\n",
       "      <td>1</td>\n",
       "      <td>0</td>\n",
       "    </tr>\n",
       "    <tr>\n",
       "      <th>Charlie</th>\n",
       "      <td>0</td>\n",
       "      <td>0</td>\n",
       "      <td>1</td>\n",
       "    </tr>\n",
       "    <tr>\n",
       "      <th>David</th>\n",
       "      <td>1</td>\n",
       "      <td>0</td>\n",
       "      <td>0</td>\n",
       "    </tr>\n",
       "    <tr>\n",
       "      <th>Frank</th>\n",
       "      <td>1</td>\n",
       "      <td>0</td>\n",
       "      <td>0</td>\n",
       "    </tr>\n",
       "    <tr>\n",
       "      <th>Grace</th>\n",
       "      <td>0</td>\n",
       "      <td>1</td>\n",
       "      <td>1</td>\n",
       "    </tr>\n",
       "    <tr>\n",
       "      <th>Hannah</th>\n",
       "      <td>0</td>\n",
       "      <td>2</td>\n",
       "      <td>0</td>\n",
       "    </tr>\n",
       "    <tr>\n",
       "      <th>Ivan</th>\n",
       "      <td>1</td>\n",
       "      <td>0</td>\n",
       "      <td>0</td>\n",
       "    </tr>\n",
       "    <tr>\n",
       "      <th>Jack</th>\n",
       "      <td>0</td>\n",
       "      <td>1</td>\n",
       "      <td>0</td>\n",
       "    </tr>\n",
       "    <tr>\n",
       "      <th>Roshan</th>\n",
       "      <td>0</td>\n",
       "      <td>2</td>\n",
       "      <td>0</td>\n",
       "    </tr>\n",
       "  </tbody>\n",
       "</table>\n",
       "</div>"
      ],
      "text/plain": [
       "Cate     A  B  C\n",
       "Name            \n",
       "Alice    1  0  0\n",
       "Bob      0  1  0\n",
       "Charlie  0  0  1\n",
       "David    1  0  0\n",
       "Frank    1  0  0\n",
       "Grace    0  1  1\n",
       "Hannah   0  2  0\n",
       "Ivan     1  0  0\n",
       "Jack     0  1  0\n",
       "Roshan   0  2  0"
      ]
     },
     "execution_count": 319,
     "metadata": {},
     "output_type": "execute_result"
    }
   ],
   "source": [
    "cross_tab = pd.crosstab(index=[df['Name']], # First factor to compare\n",
    "                        columns=df['Cate']) # the factor we want as our \"column\"\n",
    "cross_tab"
   ]
  },
  {
   "cell_type": "code",
   "execution_count": 320,
   "metadata": {},
   "outputs": [
    {
     "name": "stdout",
     "output_type": "stream",
     "text": [
      "  Grade  Grade_OrdinalEncoded  Grade1\n",
      "0     A                     3       3\n",
      "1     B                     2       2\n",
      "2     C                     1       1\n",
      "3     A                     3       3\n",
      "4     D                     0       0\n"
     ]
    }
   ],
   "source": [
    "# Ordinal Encoding\n",
    "data = pd.DataFrame({'Grade': ['A', 'B', 'C', 'A', 'D']})\n",
    "\n",
    "grade_mapping = {'A': 3, 'B': 2, 'C': 1, 'D': 0}\n",
    "data['Grade_OrdinalEncoded'] = data['Grade'].map(grade_mapping)\n",
    "data['Grade1'] = data['Grade'].replace({'A': 3, 'B': 2, 'C': 1, 'D': 0})\n",
    "print(data)"
   ]
  },
  {
   "cell_type": "markdown",
   "metadata": {},
   "source": [
    "### **MultiIndex**"
   ]
  },
  {
   "cell_type": "code",
   "execution_count": null,
   "metadata": {},
   "outputs": [
    {
     "data": {
      "text/html": [
       "<div>\n",
       "<style scoped>\n",
       "    .dataframe tbody tr th:only-of-type {\n",
       "        vertical-align: middle;\n",
       "    }\n",
       "\n",
       "    .dataframe tbody tr th {\n",
       "        vertical-align: top;\n",
       "    }\n",
       "\n",
       "    .dataframe thead tr th {\n",
       "        text-align: left;\n",
       "    }\n",
       "</style>\n",
       "<table border=\"1\" class=\"dataframe\">\n",
       "  <thead>\n",
       "    <tr>\n",
       "      <th></th>\n",
       "      <th colspan=\"2\" halign=\"left\">delhi</th>\n",
       "      <th colspan=\"2\" halign=\"left\">mumbai</th>\n",
       "    </tr>\n",
       "    <tr>\n",
       "      <th></th>\n",
       "      <th>avg_package</th>\n",
       "      <th>students</th>\n",
       "      <th>avg_package</th>\n",
       "      <th>students</th>\n",
       "    </tr>\n",
       "  </thead>\n",
       "  <tbody>\n",
       "    <tr>\n",
       "      <th>2019</th>\n",
       "      <td>1</td>\n",
       "      <td>2</td>\n",
       "      <td>0</td>\n",
       "      <td>0</td>\n",
       "    </tr>\n",
       "    <tr>\n",
       "      <th>2020</th>\n",
       "      <td>3</td>\n",
       "      <td>4</td>\n",
       "      <td>0</td>\n",
       "      <td>0</td>\n",
       "    </tr>\n",
       "    <tr>\n",
       "      <th>2021</th>\n",
       "      <td>5</td>\n",
       "      <td>6</td>\n",
       "      <td>0</td>\n",
       "      <td>0</td>\n",
       "    </tr>\n",
       "    <tr>\n",
       "      <th>2022</th>\n",
       "      <td>7</td>\n",
       "      <td>8</td>\n",
       "      <td>0</td>\n",
       "      <td>0</td>\n",
       "    </tr>\n",
       "  </tbody>\n",
       "</table>\n",
       "</div>"
      ],
      "text/plain": [
       "           delhi               mumbai         \n",
       "     avg_package students avg_package students\n",
       "2019           1        2           0        0\n",
       "2020           3        4           0        0\n",
       "2021           5        6           0        0\n",
       "2022           7        8           0        0"
      ]
     },
     "execution_count": 322,
     "metadata": {},
     "output_type": "execute_result"
    }
   ],
   "source": [
    "branch_df2 = pd.DataFrame(\n",
    " [\n",
    " [1,2,0,0],\n",
    " [3,4,0,0],\n",
    " [5,6,0,0],\n",
    " [7,8,0,0],\n",
    " ],\n",
    " index = [2019,2020,2021,2022],\n",
    " columns = pd.MultiIndex.from_product([['delhi','mumbai'],['avg_package','students']])\n",
    ")\n",
    "branch_df2"
   ]
  },
  {
   "cell_type": "code",
   "execution_count": null,
   "metadata": {},
   "outputs": [
    {
     "data": {
      "text/html": [
       "<div>\n",
       "<style scoped>\n",
       "    .dataframe tbody tr th:only-of-type {\n",
       "        vertical-align: middle;\n",
       "    }\n",
       "\n",
       "    .dataframe tbody tr th {\n",
       "        vertical-align: top;\n",
       "    }\n",
       "\n",
       "    .dataframe thead th {\n",
       "        text-align: right;\n",
       "    }\n",
       "</style>\n",
       "<table border=\"1\" class=\"dataframe\">\n",
       "  <thead>\n",
       "    <tr style=\"text-align: right;\">\n",
       "      <th></th>\n",
       "      <th></th>\n",
       "      <th>delhi</th>\n",
       "      <th>mumbai</th>\n",
       "    </tr>\n",
       "  </thead>\n",
       "  <tbody>\n",
       "    <tr>\n",
       "      <th rowspan=\"2\" valign=\"top\">2019</th>\n",
       "      <th>avg_package</th>\n",
       "      <td>1</td>\n",
       "      <td>0</td>\n",
       "    </tr>\n",
       "    <tr>\n",
       "      <th>students</th>\n",
       "      <td>2</td>\n",
       "      <td>0</td>\n",
       "    </tr>\n",
       "    <tr>\n",
       "      <th rowspan=\"2\" valign=\"top\">2020</th>\n",
       "      <th>avg_package</th>\n",
       "      <td>3</td>\n",
       "      <td>0</td>\n",
       "    </tr>\n",
       "    <tr>\n",
       "      <th>students</th>\n",
       "      <td>4</td>\n",
       "      <td>0</td>\n",
       "    </tr>\n",
       "    <tr>\n",
       "      <th rowspan=\"2\" valign=\"top\">2021</th>\n",
       "      <th>avg_package</th>\n",
       "      <td>5</td>\n",
       "      <td>0</td>\n",
       "    </tr>\n",
       "    <tr>\n",
       "      <th>students</th>\n",
       "      <td>6</td>\n",
       "      <td>0</td>\n",
       "    </tr>\n",
       "    <tr>\n",
       "      <th rowspan=\"2\" valign=\"top\">2022</th>\n",
       "      <th>avg_package</th>\n",
       "      <td>7</td>\n",
       "      <td>0</td>\n",
       "    </tr>\n",
       "    <tr>\n",
       "      <th>students</th>\n",
       "      <td>8</td>\n",
       "      <td>0</td>\n",
       "    </tr>\n",
       "  </tbody>\n",
       "</table>\n",
       "</div>"
      ],
      "text/plain": [
       "                  delhi  mumbai\n",
       "2019 avg_package      1       0\n",
       "     students         2       0\n",
       "2020 avg_package      3       0\n",
       "     students         4       0\n",
       "2021 avg_package      5       0\n",
       "     students         6       0\n",
       "2022 avg_package      7       0\n",
       "     students         8       0"
      ]
     },
     "execution_count": 323,
     "metadata": {},
     "output_type": "execute_result"
    }
   ],
   "source": [
    "branch_df2.stack()"
   ]
  }
 ],
 "metadata": {
  "kernelspec": {
   "display_name": "Python 3",
   "language": "python",
   "name": "python3"
  },
  "language_info": {
   "codemirror_mode": {
    "name": "ipython",
    "version": 3
   },
   "file_extension": ".py",
   "mimetype": "text/x-python",
   "name": "python",
   "nbconvert_exporter": "python",
   "pygments_lexer": "ipython3",
   "version": "3.13.1"
  },
  "orig_nbformat": 4
 },
 "nbformat": 4,
 "nbformat_minor": 2
}
