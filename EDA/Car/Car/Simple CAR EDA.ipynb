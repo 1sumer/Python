{
 "cells": [
  {
   "cell_type": "markdown",
   "metadata": {},
   "source": [
    "## **Exploratory Data Analysis of Used Cars Dataset**\n",
    "\n",
    "**Analysis Goals**\n",
    "\n",
    "- Descriptive Analysis: Summarize the dataset to understand the distribution of various features such as year of manufacture, kilometers driven, fuel type, transmission, owner type, and seating capacity.\n",
    "- Price Analysis: Investigate the factors affecting the resale price of cars. Analyze the relationship between the price and other features such as year, kilometers driven, fuel type, engine capacity, and power.\n",
    "- Geographical Insights: Explore the geographical distribution of car sales and prices. Identify which locations have higher or lower average resale prices.\n",
    "- Trend Analysis: Examine trends over time, such as how car prices have changed over the years and the impact of the year of manufacture on resale prices.\n",
    "- Missing Data Handling: Address missing values in the dataset, particularly for the Mileage, Engine, Power, Seats, New_Price, and Price columns. Determine appropriate methods for handling or imputing these values, such as using mean, median, mode, or predictive modeling.\n",
    "- Correlation Analysis: Conduct a correlation analysis to identify the strength and direction of relationships between different numerical features and the resale price."
   ]
  },
  {
   "cell_type": "markdown",
   "metadata": {},
   "source": [
    "### **Step 1: Import Python Libraries**\n",
    "\n",
    "The first step involved in ML using python is understanding and playing around with our data using libraries. Here is the link to the dataset.\n",
    "\n",
    "Import all libraries which are required for our analysis, such as Data Loading, Statistical analysis, Visualizations, Data Transformations, Merge and Joins, etc.\n",
    "\n",
    "Pandas and Numpy have been used for Data Manipulation and numerical Calculations\n",
    "\n",
    "Matplotlib and Seaborn have been used for Data visualizations. "
   ]
  },
  {
   "cell_type": "code",
   "execution_count": 1,
   "metadata": {},
   "outputs": [],
   "source": [
    "import pandas as pd\n",
    "import numpy as np\n",
    "import matplotlib.pyplot as plt\n",
    "import seaborn as sns\n",
    "from datetime import date"
   ]
  },
  {
   "cell_type": "markdown",
   "metadata": {},
   "source": [
    "### **Step 2: Reading Dataset**\n",
    "\n",
    "The Pandas library offers a wide range of possibilities for loading data into the pandas DataFrame from files like JSON, .csv, .xlsx, .sql, .pickle, .html, .txt, images etc.\n",
    "\n",
    "Most of the data are available in a tabular format of CSV files. It is trendy and easy to access. Using the read_csv() function, data can be converted to a pandas DataFrame.\n",
    "\n",
    "In this article, the data to predict Used car price is being used as an example. In this dataset, we are trying to analyze the used car’s price and how EDA focuses on identifying the factors influencing the car price. We have stored the data in the DataFrame data."
   ]
  },
  {
   "cell_type": "code",
   "execution_count": 3,
   "metadata": {},
   "outputs": [],
   "source": [
    "data = pd.read_csv(r\"D:\\Python\\EDA\\Car\\Car\\Car.csv\")"
   ]
  },
  {
   "cell_type": "markdown",
   "metadata": {},
   "source": [
    "Analyzing the Data\n",
    "\n",
    "Before we make any inferences, we listen to our data by examining all variables in the data.\n",
    "\n",
    "The main goal of data understanding is to gain general insights about the data, which covers the number of rows and columns, values in the data, datatypes, and Missing values in the dataset.\n",
    "\n",
    "shape – shape will display the number of observations(rows) and features(columns) in the dataset\n",
    "\n",
    "There are 7253 observations and 14 variables in our dataset\n",
    "\n",
    " \n",
    "head() will display the top 5 observations of the dataset"
   ]
  },
  {
   "cell_type": "markdown",
   "metadata": {},
   "source": [
    "data.head()"
   ]
  },
  {
   "cell_type": "markdown",
   "metadata": {},
   "source": [
    "**tail()** will display the last 5 observations of the dataset"
   ]
  },
  {
   "cell_type": "code",
   "execution_count": 4,
   "metadata": {},
   "outputs": [
    {
     "data": {
      "text/html": [
       "<div>\n",
       "<style scoped>\n",
       "    .dataframe tbody tr th:only-of-type {\n",
       "        vertical-align: middle;\n",
       "    }\n",
       "\n",
       "    .dataframe tbody tr th {\n",
       "        vertical-align: top;\n",
       "    }\n",
       "\n",
       "    .dataframe thead th {\n",
       "        text-align: right;\n",
       "    }\n",
       "</style>\n",
       "<table border=\"1\" class=\"dataframe\">\n",
       "  <thead>\n",
       "    <tr style=\"text-align: right;\">\n",
       "      <th></th>\n",
       "      <th>S.No.</th>\n",
       "      <th>Name</th>\n",
       "      <th>Location</th>\n",
       "      <th>Year</th>\n",
       "      <th>Kilometers_Driven</th>\n",
       "      <th>Fuel_Type</th>\n",
       "      <th>Transmission</th>\n",
       "      <th>Owner_Type</th>\n",
       "      <th>Mileage</th>\n",
       "      <th>Engine</th>\n",
       "      <th>Power</th>\n",
       "      <th>Seats</th>\n",
       "      <th>New_Price</th>\n",
       "      <th>Price</th>\n",
       "    </tr>\n",
       "  </thead>\n",
       "  <tbody>\n",
       "    <tr>\n",
       "      <th>0</th>\n",
       "      <td>0</td>\n",
       "      <td>Maruti Wagon R LXI CNG</td>\n",
       "      <td>Mumbai</td>\n",
       "      <td>2010</td>\n",
       "      <td>72000</td>\n",
       "      <td>CNG</td>\n",
       "      <td>Manual</td>\n",
       "      <td>First</td>\n",
       "      <td>26.6 km/kg</td>\n",
       "      <td>998 CC</td>\n",
       "      <td>58.16 bhp</td>\n",
       "      <td>5.0</td>\n",
       "      <td>NaN</td>\n",
       "      <td>1.75</td>\n",
       "    </tr>\n",
       "    <tr>\n",
       "      <th>1</th>\n",
       "      <td>1</td>\n",
       "      <td>Hyundai Creta 1.6 CRDi SX Option</td>\n",
       "      <td>Pune</td>\n",
       "      <td>2015</td>\n",
       "      <td>41000</td>\n",
       "      <td>Diesel</td>\n",
       "      <td>Manual</td>\n",
       "      <td>First</td>\n",
       "      <td>19.67 kmpl</td>\n",
       "      <td>1582 CC</td>\n",
       "      <td>126.2 bhp</td>\n",
       "      <td>5.0</td>\n",
       "      <td>NaN</td>\n",
       "      <td>12.50</td>\n",
       "    </tr>\n",
       "    <tr>\n",
       "      <th>2</th>\n",
       "      <td>2</td>\n",
       "      <td>Honda Jazz V</td>\n",
       "      <td>Chennai</td>\n",
       "      <td>2011</td>\n",
       "      <td>46000</td>\n",
       "      <td>Petrol</td>\n",
       "      <td>Manual</td>\n",
       "      <td>First</td>\n",
       "      <td>18.2 kmpl</td>\n",
       "      <td>1199 CC</td>\n",
       "      <td>88.7 bhp</td>\n",
       "      <td>5.0</td>\n",
       "      <td>8.61 Lakh</td>\n",
       "      <td>4.50</td>\n",
       "    </tr>\n",
       "    <tr>\n",
       "      <th>3</th>\n",
       "      <td>3</td>\n",
       "      <td>Maruti Ertiga VDI</td>\n",
       "      <td>Chennai</td>\n",
       "      <td>2012</td>\n",
       "      <td>87000</td>\n",
       "      <td>Diesel</td>\n",
       "      <td>Manual</td>\n",
       "      <td>First</td>\n",
       "      <td>20.77 kmpl</td>\n",
       "      <td>1248 CC</td>\n",
       "      <td>88.76 bhp</td>\n",
       "      <td>7.0</td>\n",
       "      <td>NaN</td>\n",
       "      <td>6.00</td>\n",
       "    </tr>\n",
       "    <tr>\n",
       "      <th>4</th>\n",
       "      <td>4</td>\n",
       "      <td>Audi A4 New 2.0 TDI Multitronic</td>\n",
       "      <td>Coimbatore</td>\n",
       "      <td>2013</td>\n",
       "      <td>40670</td>\n",
       "      <td>Diesel</td>\n",
       "      <td>Automatic</td>\n",
       "      <td>Second</td>\n",
       "      <td>15.2 kmpl</td>\n",
       "      <td>1968 CC</td>\n",
       "      <td>140.8 bhp</td>\n",
       "      <td>5.0</td>\n",
       "      <td>NaN</td>\n",
       "      <td>17.74</td>\n",
       "    </tr>\n",
       "  </tbody>\n",
       "</table>\n",
       "</div>"
      ],
      "text/plain": [
       "   S.No.                              Name    Location  Year  \\\n",
       "0      0            Maruti Wagon R LXI CNG      Mumbai  2010   \n",
       "1      1  Hyundai Creta 1.6 CRDi SX Option        Pune  2015   \n",
       "2      2                      Honda Jazz V     Chennai  2011   \n",
       "3      3                 Maruti Ertiga VDI     Chennai  2012   \n",
       "4      4   Audi A4 New 2.0 TDI Multitronic  Coimbatore  2013   \n",
       "\n",
       "   Kilometers_Driven Fuel_Type Transmission Owner_Type     Mileage   Engine  \\\n",
       "0              72000       CNG       Manual      First  26.6 km/kg   998 CC   \n",
       "1              41000    Diesel       Manual      First  19.67 kmpl  1582 CC   \n",
       "2              46000    Petrol       Manual      First   18.2 kmpl  1199 CC   \n",
       "3              87000    Diesel       Manual      First  20.77 kmpl  1248 CC   \n",
       "4              40670    Diesel    Automatic     Second   15.2 kmpl  1968 CC   \n",
       "\n",
       "       Power  Seats  New_Price  Price  \n",
       "0  58.16 bhp    5.0        NaN   1.75  \n",
       "1  126.2 bhp    5.0        NaN  12.50  \n",
       "2   88.7 bhp    5.0  8.61 Lakh   4.50  \n",
       "3  88.76 bhp    7.0        NaN   6.00  \n",
       "4  140.8 bhp    5.0        NaN  17.74  "
      ]
     },
     "execution_count": 4,
     "metadata": {},
     "output_type": "execute_result"
    }
   ],
   "source": [
    "data.head()"
   ]
  },
  {
   "cell_type": "code",
   "execution_count": null,
   "metadata": {},
   "outputs": [],
   "source": [
    "data['Power']"
   ]
  },
  {
   "cell_type": "code",
   "execution_count": null,
   "metadata": {},
   "outputs": [],
   "source": [
    "# Split the 'Power' column into two separate columns\n",
    "#data[['Power (Numeric)', 'Unit']] = data['Power'].str.split(' ', expand=True)"
   ]
  },
  {
   "cell_type": "markdown",
   "metadata": {},
   "source": [
    "**info()** helps to understand the data type and information about data, including the number of records in each column, data having null or not null, Data type, the memory usage of the dataset"
   ]
  },
  {
   "cell_type": "code",
   "execution_count": 6,
   "metadata": {},
   "outputs": [
    {
     "name": "stdout",
     "output_type": "stream",
     "text": [
      "<class 'pandas.core.frame.DataFrame'>\n",
      "RangeIndex: 7253 entries, 0 to 7252\n",
      "Data columns (total 14 columns):\n",
      " #   Column             Non-Null Count  Dtype  \n",
      "---  ------             --------------  -----  \n",
      " 0   S.No.              7253 non-null   int64  \n",
      " 1   Name               7253 non-null   object \n",
      " 2   Location           7253 non-null   object \n",
      " 3   Year               7253 non-null   int64  \n",
      " 4   Kilometers_Driven  7253 non-null   int64  \n",
      " 5   Fuel_Type          7253 non-null   object \n",
      " 6   Transmission       7253 non-null   object \n",
      " 7   Owner_Type         7253 non-null   object \n",
      " 8   Mileage            7251 non-null   object \n",
      " 9   Engine             7207 non-null   object \n",
      " 10  Power              7207 non-null   object \n",
      " 11  Seats              7200 non-null   float64\n",
      " 12  New_Price          1006 non-null   object \n",
      " 13  Price              6019 non-null   float64\n",
      "dtypes: float64(2), int64(3), object(9)\n",
      "memory usage: 793.4+ KB\n"
     ]
    }
   ],
   "source": [
    "data.info()"
   ]
  },
  {
   "cell_type": "markdown",
   "metadata": {},
   "source": []
  },
  {
   "cell_type": "markdown",
   "metadata": {},
   "source": [
    "data.nunique()"
   ]
  },
  {
   "cell_type": "markdown",
   "metadata": {},
   "source": [
    "**Missing Values Calculation**\n",
    "\n",
    "isnull() is widely been in all pre-processing steps to identify null values in the data\n",
    "\n",
    "In our example, data.isnull().sum() is used to get the number of missing records in each column"
   ]
  },
  {
   "cell_type": "code",
   "execution_count": 5,
   "metadata": {},
   "outputs": [
    {
     "data": {
      "text/plain": [
       "S.No.                   0\n",
       "Name                    0\n",
       "Location                0\n",
       "Year                    0\n",
       "Kilometers_Driven       0\n",
       "Fuel_Type               0\n",
       "Transmission            0\n",
       "Owner_Type              0\n",
       "Mileage                 2\n",
       "Engine                 46\n",
       "Power                  46\n",
       "Seats                  53\n",
       "New_Price            6247\n",
       "Price                1234\n",
       "dtype: int64"
      ]
     },
     "execution_count": 5,
     "metadata": {},
     "output_type": "execute_result"
    }
   ],
   "source": [
    "data.isna().sum()"
   ]
  },
  {
   "cell_type": "code",
   "execution_count": null,
   "metadata": {},
   "outputs": [],
   "source": [
    "(data.isnull().sum()/(len(data)))*100"
   ]
  },
  {
   "cell_type": "markdown",
   "metadata": {},
   "source": [
    "The percentage of missing values for the columns New_Price and Price is ~86% and ~17%, respectively.\n",
    "\n",
    "### **Step 3: Data Reduction**\n",
    "\n",
    "Some columns or variables can be dropped if they do not add value to our analysis.\n",
    "\n",
    "In our dataset, the column S.No have only ID values, assuming they don’t have any predictive power to predict the dependent variable."
   ]
  },
  {
   "cell_type": "code",
   "execution_count": null,
   "metadata": {},
   "outputs": [],
   "source": [
    "# Remove S.No. column from data\n",
    "data = data.drop(['S.No.', 'New_Price'], axis = 1)"
   ]
  },
  {
   "cell_type": "code",
   "execution_count": null,
   "metadata": {},
   "outputs": [],
   "source": [
    "data = data.dropna(subset=['Price','Seats','Mileage'])"
   ]
  },
  {
   "cell_type": "code",
   "execution_count": null,
   "metadata": {},
   "outputs": [],
   "source": [
    "data.isna().sum()"
   ]
  },
  {
   "cell_type": "markdown",
   "metadata": {},
   "source": [
    "We start our Feature Engineering as we need to add some columns required for analysis.\n",
    "\n",
    "### **Step 4: Feature Engineering**\n",
    "\n",
    "Feature engineering refers to the process of using domain knowledge to select and transform the most relevant variables from raw data when creating a predictive model using machine learning or statistical modeling. The main goal of Feature engineering is to create meaningful data from raw data.\n",
    "\n",
    "### **Step 4A: Creating Features**\n",
    "\n",
    "We will play around with the variables Year and Name in our dataset. If we see the sample data, the column “Year” shows the manufacturing year of the car.\n",
    "\n",
    "It would be difficult to find the car’s age if it is in year format as the Age of the car is a contributing factor to Car Price. \n",
    "\n",
    "Introducing a new column, “Car_Age” to know the age of the car"
   ]
  },
  {
   "cell_type": "code",
   "execution_count": null,
   "metadata": {},
   "outputs": [],
   "source": [
    "data['Car_Age']=date.today().year-data['Year']\n",
    "data.head()"
   ]
  },
  {
   "cell_type": "markdown",
   "metadata": {},
   "source": [
    "Since car names will not be great predictors of the price in our current data. But we can process this column to extract important information using brand and Model names. Let’s split the name and introduce new variables “Brand” and “Model”"
   ]
  },
  {
   "cell_type": "code",
   "execution_count": null,
   "metadata": {},
   "outputs": [],
   "source": [
    "data['Brand'] = data.Name.str.split().str.get(0)\n",
    "data['Model'] = data.Name.str.split().str.get(1) + data.Name.str.split().str.get(2)\n",
    "data[['Name','Brand','Model']]"
   ]
  },
  {
   "cell_type": "code",
   "execution_count": null,
   "metadata": {},
   "outputs": [],
   "source": [
    "searchfor = ['Isuzu' ,'ISUZU','Mini','Land']\n",
    "'|'.join(searchfor)"
   ]
  },
  {
   "cell_type": "code",
   "execution_count": null,
   "metadata": {},
   "outputs": [],
   "source": [
    "searchfor = ['Isuzu' ,'ISUZU','Mini','Land']\n",
    "data[data.Brand.str.contains('|'.join(searchfor))].head()"
   ]
  },
  {
   "cell_type": "code",
   "execution_count": null,
   "metadata": {},
   "outputs": [],
   "source": [
    "data[\"Brand\"].replace({\"ISUZU\": \"Isuzu\", \"Mini\": \"Mini Cooper\",\"Land\":\"Land Rover\"}, inplace=True)"
   ]
  },
  {
   "cell_type": "markdown",
   "metadata": {},
   "source": [
    "We have done the fundamental data analysis, Featuring, and data clean-up. Let’s move to the EDA process \n",
    "\n",
    "Voila!! Our Data is ready to perform EDA.\n",
    "\n",
    "### **Step 5: EDA Exploratory Data Analysis**\n",
    "\n",
    "Exploratory Data Analysis refers to the crucial process of performing initial investigations on data to discover patterns to check assumptions with the help of summary statistics and graphical representations.\n",
    "\n",
    "- EDA can be leveraged to check for outliers, patterns, and trends in the given data.\n",
    "- EDA helps to find meaningful patterns in data.\n",
    "- EDA provides in-depth insights into the data sets to solve our business problems.\n",
    "- EDA gives a clue to impute missing values in the dataset\n",
    "\n",
    "### **Step 6: Statistics Summary**\n",
    "\n",
    "The information gives a quick and simple description of the data.\n",
    "\n",
    "Can include Count, Mean, Standard Deviation, median, mode, minimum value, maximum value, range, standard deviation, etc.\n",
    "\n",
    "Statistics summary gives a high-level idea to identify whether the data has any outliers, data entry error, distribution of data such as the data is normally distributed or left/right skewed\n",
    "\n",
    "In python, this can be achieved using describe()\n",
    "\n",
    "describe() function gives all statistics summary of data\n",
    "\n",
    "describe()– Provide a statistics summary of data belonging to numerical datatype such as int, float"
   ]
  },
  {
   "cell_type": "code",
   "execution_count": null,
   "metadata": {},
   "outputs": [],
   "source": [
    "data.describe().T"
   ]
  },
  {
   "cell_type": "markdown",
   "metadata": {},
   "source": [
    "From the statistics summary, we can infer the below findings :\n",
    "\n",
    "- Years range from 1996- 2019 and has a high in a range which shows used cars contain both latest models and old model cars.\n",
    "- On average of Kilometers-driven in Used cars are ~58k KM. The range shows a huge difference between min and max as max values show 650000 KM shows the evidence of an outlier. This record can be removed.\n",
    "- Min value of Mileage shows 0 cars won’t be sold with 0 mileage. This sounds like a data entry issue.\n",
    "- It looks like Engine and Power have outliers, and the data is right-skewed.\n",
    "- The average number of seats in a car is 5. car seat is an important feature in price contribution.\n",
    "- The max price of a used car is 160k which is quite weird, such a high price for used cars. There may be an outlier or data entry issue.\n",
    "\n",
    "describe(include=’all’) provides a statistics summary of all data, include object, category etc"
   ]
  },
  {
   "cell_type": "code",
   "execution_count": null,
   "metadata": {},
   "outputs": [],
   "source": [
    "data.describe(include='all').T"
   ]
  },
  {
   "cell_type": "code",
   "execution_count": null,
   "metadata": {},
   "outputs": [],
   "source": [
    "cat_cols=data.select_dtypes(include=['object']).columns\n",
    "num_cols = data.select_dtypes(include=np.number).columns.tolist()\n",
    "print(\"Categorical Variables:\")\n",
    "print(cat_cols)\n",
    "print(\"Numerical Variables:\")\n",
    "print(num_cols)"
   ]
  },
  {
   "cell_type": "markdown",
   "metadata": {},
   "source": [
    "### **Step 7: EDA Univariate Analysis**\n",
    "\n",
    "Analyzing/visualizing the dataset by taking one variable at a time:\n",
    "\n",
    "Data visualization is essential; we must decide what charts to plot to better understand the data. In this article, we visualize our data using Matplotlib and Seaborn libraries.\n",
    "\n",
    "Matplotlib is a Python 2D plotting library used to draw basic charts we use Matplotlib.\n",
    "\n",
    "Seaborn is also a python library built on top of Matplotlib that uses short lines of code to create and style statistical plots from Pandas and Numpy\n",
    "\n",
    "Univariate analysis can be done for both Categorical and Numerical variables.\n",
    "\n",
    "Categorical variables can be visualized using a Count plot, Bar Chart, Pie Plot, etc.\n",
    "\n",
    "Numerical Variables can be visualized using Histogram, Box Plot, Density Plot, etc.\n",
    "\n",
    "In our example, we have done a Univariate analysis using Histogram and  Box Plot for continuous Variables.\n",
    "\n",
    "In the below fig, a histogram and box plot is used to show the pattern of the variables, as some variables have skewness and outliers."
   ]
  },
  {
   "cell_type": "code",
   "execution_count": null,
   "metadata": {},
   "outputs": [],
   "source": [
    "for col in num_cols:\n",
    "    print(col)\n",
    "    plt.subplot(1, 1, 1)\n",
    "    data[col].hist(grid=False)\n",
    "    plt.ylabel('count')\n",
    "    plt.show()"
   ]
  },
  {
   "cell_type": "code",
   "execution_count": null,
   "metadata": {},
   "outputs": [],
   "source": [
    "fig, axes = plt.subplots(3, 2, figsize = (17, 20))\n",
    "\n",
    "fig.suptitle('Bar plot for all categorical variables in the dataset')\n",
    "\n",
    "sns.countplot(ax = axes[0, 0], x = 'Fuel_Type', data = data, color = 'blue', order = data['Fuel_Type'].value_counts().index)\n",
    "\n",
    "sns.countplot(ax = axes[0, 1], x = 'Transmission', data = data, color = 'blue', order = data['Transmission'].value_counts().index)\n",
    "\n",
    "sns.countplot(ax = axes[1, 0], x = 'Owner_Type', data = data, color = 'blue',  order = data['Owner_Type'].value_counts().index)\n",
    "\n",
    "sns.countplot(ax = axes[1, 1], x = 'Location', data = data, color = 'blue',  order = data['Location'].value_counts().index)\n",
    "\n",
    "sns.countplot(ax = axes[2, 0], x = 'Brand', data = data, color = 'blue', order = data['Brand'].head(20).value_counts().index)\n",
    "\n",
    "sns.countplot(ax = axes[2, 1], x = 'Model', data = data, color = 'blue', order = data['Model'].head(20).value_counts().index)\n",
    "\n",
    "for ax in axes.flatten():\n",
    "    for p in ax.patches:\n",
    "        ax.annotate(f'{p.get_height()}', (p.get_x() + p.get_width() / 2., p.get_height()), ha='center', va='center', xytext=(0, 5), textcoords='offset points')\n",
    "\n",
    "axes[1][1].tick_params(labelrotation=90)\n",
    "axes[2][0].tick_params(labelrotation=90)\n",
    "axes[2][1].tick_params(labelrotation=90)"
   ]
  },
  {
   "cell_type": "markdown",
   "metadata": {},
   "source": [
    "From the count plot, we can have below observations\n",
    "\n",
    "- Mumbai has the highest number of cars available for purchase, followed by Hyderabad and Coimbatore\n",
    "- ~53% of cars have fuel type as Diesel this shows diesel cars provide higher performance\n",
    "- ~72% of cars have manual transmission\n",
    "- ~82 % of cars are First owned cars. This shows most of the buyers prefer to purchase first-owner cars\n",
    "- ~20% of cars belong to the brand Maruti followed by 19% of cars belonging to Hyundai\n",
    "- WagonR ranks first among all models which are available for purchase\n",
    "\n",
    "\n",
    "\n",
    "### **8: EDA Bivariate Analysis**\n",
    "\n",
    "Now, let’s move ahead with bivariate analysis. Bivariate Analysis helps to understand how variables are related to each other and the relationship between dependent and independent variables present in the dataset.\n",
    "\n",
    "For Numerical variables, Pair plots and Scatter plots are widely been used to do Bivariate Analysis.\n",
    "\n",
    "A Stacked bar chart can be used for categorical variables if the output variable is a classifier. Bar plots can be used if the output variable is continuous\n",
    "\n",
    "In our example, a pair plot has been used to show the relationship between two Categorical variables."
   ]
  },
  {
   "cell_type": "code",
   "execution_count": null,
   "metadata": {},
   "outputs": [],
   "source": [
    "#plt.figure(figsize=(13,17))\n",
    "#sns.pairplot(data=data.drop(['Kilometers_Driven','Price'],axis=1))\n",
    "corr = data[['Year','Seats','Car_Age','Kilometers_Driven','Price']].corr()\n",
    "sns.heatmap(corr, annot=True)\n",
    "plt.show()"
   ]
  },
  {
   "cell_type": "markdown",
   "metadata": {},
   "source": [
    "Pair Plot provides below insights:\n",
    "\n",
    "- The variable Year has a positive correlation with price and mileage\n",
    "- A year has a Negative correlation with kilometers-Driven\n",
    "- Mileage is negatively correlated with Power\n",
    "- As power increases, mileage decreases\n",
    "- Car with recent make is higher at prices. As the age of the car increases price decreases\n",
    "- Engine and Power increase, and the price of the car increases\n",
    "\n",
    "A bar plot can be used to show the relationship between Categorical variables and continuous variables "
   ]
  },
  {
   "cell_type": "code",
   "execution_count": null,
   "metadata": {},
   "outputs": [],
   "source": [
    "fig, axarr = plt.subplots(4, 2, figsize=(12, 18))\n",
    "\n",
    "# Location Vs Price\n",
    "data.groupby('Location')['Price'].mean().sort_values(ascending=False).plot.bar(ax=axarr[0][0], fontsize=12, color='skyblue')\n",
    "axarr[0][0].set_title(\"Location Vs Price\", fontsize=14)\n",
    "\n",
    "# Transmission Vs Price\n",
    "data.groupby('Transmission')['Price'].mean().sort_values(ascending=False).plot.bar(ax=axarr[0][1], fontsize=12, color='lightcoral')\n",
    "axarr[0][1].set_title(\"Transmission Vs Price\", fontsize=10)\n",
    "\n",
    "# Fuel_Type Vs Price\n",
    "data.groupby('Fuel_Type')['Price'].mean().sort_values(ascending=False).plot.bar(ax=axarr[1][0], fontsize=12, color='lightgreen')\n",
    "axarr[1][0].set_title(\"Fuel_Type Vs Price\", fontsize=14)\n",
    "\n",
    "# Owner_Type Vs Price\n",
    "data.groupby('Owner_Type')['Price'].mean().sort_values(ascending=False).plot.bar(ax=axarr[1][1], fontsize=12, color='gold')\n",
    "axarr[1][1].set_title(\"Owner_Type Vs Price\", fontsize=14)\n",
    "\n",
    "# Brand Vs Price\n",
    "data.groupby('Brand')['Price'].mean().sort_values(ascending=False).head(10).plot.bar(ax=axarr[2][0], fontsize=12, color='lightblue')\n",
    "axarr[2][0].set_title(\"Brand Vs Price\", fontsize=14)\n",
    "\n",
    "# Model Vs Price\n",
    "data.groupby('Model')['Price'].mean().sort_values(ascending=False).head(10).plot.bar(ax=axarr[2][1], fontsize=12, color='lightcoral')\n",
    "axarr[2][1].set_title(\"Model Vs Price\", fontsize=14)\n",
    "\n",
    "# Seats Vs Price\n",
    "data.groupby('Seats')['Price'].mean().sort_values(ascending=False).plot.bar(ax=axarr[3][0], fontsize=12, color='lightgreen')\n",
    "axarr[3][0].set_title(\"Seats Vs Price\", fontsize=14)\n",
    "\n",
    "# Car_Age Vs Price\n",
    "data.groupby('Car_Age')['Price'].mean().sort_values(ascending=False).head(10).plot.bar(ax=axarr[3][1], fontsize=12, color='gold')\n",
    "axarr[3][1].set_title(\"Car_Age Vs Price\", fontsize=14)\n",
    "\n",
    "#for ax in axarr.flatten():\n",
    "#    for p in ax.patches:\n",
    "#        ax.annotate(f'{p.get_height():.2f}', (p.get_x() + p.get_width() / 2., p.get_height()), ha='center', va='center', xytext=(0, 10), textcoords='offset points')\n",
    "\n",
    "plt.subplots_adjust(hspace=1.0)\n",
    "plt.subplots_adjust(wspace=.5)\n",
    "sns.despine()"
   ]
  },
  {
   "cell_type": "markdown",
   "metadata": {},
   "source": [
    "Observations\n",
    "\n",
    "- The price of cars is high in Coimbatore and less price in Kolkata and Jaipur\n",
    "- Automatic cars have more price than manual cars.\n",
    "- Diesel and Electric cars have almost the same price, which is maximum, and LPG cars have the lowest price\n",
    "- First-owner cars are higher in price, followed by a second\n",
    "- The third owner’s price is lesser than the Fourth and above\n",
    "- Lamborghini brand is the highest in price\n",
    "- Gallardocoupe Model is the highest in price\n",
    "- 2 Seater has the highest price followed by 7 Seater\n",
    "- The latest model cars are high in price"
   ]
  },
  {
   "cell_type": "markdown",
   "metadata": {},
   "source": [
    "### **Conclusion**\n",
    "Car prices are influenced by where you buy them, whether they're automatic or manual, the type of fuel they use, how many owners they've had, the brand and model, the number of seats, and how new they are. Knowing these trends can guide buyers in making smart choices based on their preferences and budget."
   ]
  }
 ],
 "metadata": {
  "kernelspec": {
   "display_name": "Python 3",
   "language": "python",
   "name": "python3"
  },
  "language_info": {
   "codemirror_mode": {
    "name": "ipython",
    "version": 3
   },
   "file_extension": ".py",
   "mimetype": "text/x-python",
   "name": "python",
   "nbconvert_exporter": "python",
   "pygments_lexer": "ipython3",
   "version": "3.12.2"
  }
 },
 "nbformat": 4,
 "nbformat_minor": 2
}
