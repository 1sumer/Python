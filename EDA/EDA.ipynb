{
 "cells": [
  {
   "cell_type": "markdown",
   "metadata": {},
   "source": [
    "What is EDA?\n",
    "\n",
    "Exploratory Data Analysis refers to an approach of analyzing and summarizing the data often with visual methods. We want to use data as a tool to help us solve problems and make better decisions, but when we use it to validate our own assumptions, we are going in the wrong direction. The idea behind this is to understand the data without biased assumptions.\n"
   ]
  },
  {
   "cell_type": "markdown",
   "metadata": {},
   "source": [
    "### Exploratory Data Analysis(EDA)"
   ]
  },
  {
   "cell_type": "markdown",
   "metadata": {},
   "source": [
    "<p>\n",
    "<li>Remove irregularity & unnessary value from data</li> \n",
    "<li> EDA is applied to investigate the data and summarize the key insights.\n",
    "<li> It will give you the basic understanding of your data, it’s distribution, null values and much more.\n",
    "<li> You can either explore data using graphs or through some python functions.\n",
    "<li> There will be two type of analysis. Univariate and Bivariate. In the univariate, you will be analyzing a single attribute. But in the bivariate, you will be analyzing an attribute with the target attribute.\n",
    "\n",
    "- Describing and summarizing a single variable is called **univariate analysis.**\n",
    "\n",
    "- Describing a statistical relationship between two variables is called **bivariate analysis.** \n",
    "\n",
    "- Describing the statistical relationship between multiple variables is called **multivariate analysis.**\n",
    "\n",
    "<li> In the non-graphical approach, you will be using functions such as shape, summary, describe, isnull, info, datatypes and more.\n",
    "<li> In the graphical approach, you will be using plots such as scatter, box, bar, density and correlation plots.\n",
    "</p>"
   ]
  },
  {
   "cell_type": "markdown",
   "metadata": {},
   "source": [
    "### **Stages of EDA**\n",
    "\n",
    "1. **Definition of the problem** – To define a problem, it is important to define the primary objective of the analysis alongside defining main deliverables, roles, and responsibilities, the present state of the data, setting a timeline, and analyzing the cost to benefit ratio.\n",
    "\n",
    "2. **Preparation of data** – In this stage, characteristics of data are being comprehended, the dataset is cleaned, and irrelevant data are deleted.\n",
    "\n",
    "3. **Analyzing the data** – In this stage, the data are being summarized, hidden correlations are being derived, predictive models are being developed and evaluated, and summary tables are being generated.\n",
    "\n",
    "4. **Results representation** – Finally, the dataset is being presented to the target audience in the form of graphs, and summary tables."
   ]
  },
  {
   "cell_type": "markdown",
   "metadata": {},
   "source": [
    "## **How to perform it**\n",
    "Now that you know what is EDA and the importance of it, we can progress towards performing it. Here are some steps that will guide you through.\n",
    "\n",
    "- Understand the dataset — assess the quality of the dataset\n",
    "- Distribution of the dataset — how does the data look like?\n",
    "- Correlations — find patterns in the dataset"
   ]
  },
  {
   "cell_type": "markdown",
   "metadata": {},
   "source": [
    "## **Understand the dataset**\n",
    "This first step will help us describe the basics of the data and get a summary of it. First, let’s import the dataset."
   ]
  },
  {
   "cell_type": "markdown",
   "metadata": {},
   "source": [
    "<a href=\"https://github.com/1sumer/Python/tree/master/EDA\" target=\"_parent\"><img src=\"https://www.vectorlogo.zone/logos/github/github-tile.svg\" alt=\"Open In Colab\"/></a>"
   ]
  }
 ],
 "metadata": {
  "kernelspec": {
   "display_name": "Python 3",
   "language": "python",
   "name": "python3"
  },
  "language_info": {
   "codemirror_mode": {
    "name": "ipython",
    "version": 3
   },
   "file_extension": ".py",
   "mimetype": "text/x-python",
   "name": "python",
   "nbconvert_exporter": "python",
   "pygments_lexer": "ipython3",
   "version": "3.11.3"
  }
 },
 "nbformat": 4,
 "nbformat_minor": 2
}
