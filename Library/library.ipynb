{
 "cells": [
  {
   "cell_type": "code",
   "execution_count": 3,
   "metadata": {},
   "outputs": [],
   "source": [
    "from prettytable import PrettyTable\n",
    "\n",
    "# Create a PrettyTable object\n",
    "table = PrettyTable()"
   ]
  },
  {
   "cell_type": "markdown",
   "metadata": {},
   "source": [
    "**Row by row**\n",
    "\n",
    "You can add data one row at a time. To do this you can set the field names first using the field_names attribute, and then add the rows one at a time using the add_row method:"
   ]
  },
  {
   "cell_type": "code",
   "execution_count": 3,
   "metadata": {},
   "outputs": [],
   "source": [
    "table.field_names = [\"City name\", \"Area\", \"Population\", \"Annual Rainfall\"]\n",
    "table.add_row([\"Adelaide\", 1295, 1158259, 600.5])\n",
    "table.add_row([\"Brisbane\", 5905, 1857594, 1146.4])\n",
    "table.add_row([\"Darwin\", 112, 120900, 1714.7])\n",
    "table.add_row([\"Hobart\", 1357, 205556, 619.5], divider=True)\n",
    "table.add_row([\"Sydney\", 2058, 4336374, 1214.8])\n",
    "table.add_row([\"Melbourne\", 1566, 3806092, 646.9])\n",
    "table.add_row([\"Perth\", 5386, 1554769, 869.4])"
   ]
  },
  {
   "cell_type": "markdown",
   "metadata": {},
   "source": [
    "**All rows at once**\n",
    "\n",
    "When you have a list of rows, you can add them in one go with add_rows:"
   ]
  },
  {
   "cell_type": "code",
   "execution_count": 4,
   "metadata": {},
   "outputs": [],
   "source": [
    "table.field_names = [\"City name\", \"Area\", \"Population\", \"Annual Rainfall\"]\n",
    "table.add_rows(\n",
    "    [\n",
    "        [\"Adelaide\", 1295, 1158259, 600.5],\n",
    "        [\"Brisbane\", 5905, 1857594, 1146.4],\n",
    "        [\"Darwin\", 112, 120900, 1714.7],\n",
    "        [\"Hobart\", 1357, 205556, 619.5],\n",
    "        [\"Sydney\", 2058, 4336374, 1214.8],\n",
    "        [\"Melbourne\", 1566, 3806092, 646.9],\n",
    "        [\"Perth\", 5386, 1554769, 869.4],\n",
    "    ]\n",
    ")"
   ]
  },
  {
   "cell_type": "code",
   "execution_count": 9,
   "metadata": {},
   "outputs": [
    {
     "name": "stdout",
     "output_type": "stream",
     "text": [
      "+-----------+------+------------+-----------------+\n",
      "| City name | Area | Population | Annual Rainfall |\n",
      "+-----------+------+------------+-----------------+\n",
      "|  Adelaide | 1295 |  1158259   |      600.5      |\n",
      "|  Brisbane | 5905 |  1857594   |      1146.4     |\n",
      "|   Darwin  | 112  |   120900   |      1714.7     |\n",
      "|   Hobart  | 1357 |   205556   |      619.5      |\n",
      "|   Sydney  | 2058 |  4336374   |      1214.8     |\n",
      "| Melbourne | 1566 |  3806092   |      646.9      |\n",
      "|   Perth   | 5386 |  1554769   |      869.4      |\n",
      "+-----------+------+------------+-----------------+\n"
     ]
    }
   ],
   "source": [
    "print(table)"
   ]
  },
  {
   "cell_type": "markdown",
   "metadata": {},
   "source": [
    "**Column by column**\n",
    "\n",
    "You can add data one column at a time as well. To do this you use the add_column method, which takes two arguments - a string which is the name for the field the column you are adding corresponds to, and a list or tuple which contains the column data:"
   ]
  },
  {
   "cell_type": "code",
   "execution_count": 8,
   "metadata": {},
   "outputs": [],
   "source": [
    "table.add_column(\"City name\",[\"Adelaide\",\"Brisbane\",\"Darwin\",\"Hobart\",\"Sydney\",\"Melbourne\",\"Perth\"])\n",
    "table.add_column(\"Area\", [1295, 5905, 112, 1357, 2058, 1566, 5386])\n",
    "table.add_column(\"Population\", [1158259, 1857594, 120900, 205556, 4336374, 3806092,1554769])\n",
    "table.add_column(\"Annual Rainfall\",[600.5, 1146.4, 1714.7, 619.5, 1214.8, 646.9,869.4])"
   ]
  },
  {
   "cell_type": "markdown",
   "metadata": {},
   "source": [
    "**Importing data from a CSV file**\n",
    "\n",
    "If you have your table data in a comma-separated values file (.csv), you can read this data into a PrettyTable like this:"
   ]
  },
  {
   "cell_type": "code",
   "execution_count": 4,
   "metadata": {},
   "outputs": [
    {
     "ename": "OperationalError",
     "evalue": "near \"table\": syntax error",
     "output_type": "error",
     "traceback": [
      "\u001b[1;31m---------------------------------------------------------------------------\u001b[0m",
      "\u001b[1;31mOperationalError\u001b[0m                          Traceback (most recent call last)",
      "Cell \u001b[1;32mIn[4], line 6\u001b[0m\n\u001b[0;32m      4\u001b[0m connection \u001b[38;5;241m=\u001b[39m sqlite3\u001b[38;5;241m.\u001b[39mconnect(\u001b[38;5;124m\"\u001b[39m\u001b[38;5;124mmydb.db\u001b[39m\u001b[38;5;124m\"\u001b[39m)\n\u001b[0;32m      5\u001b[0m cursor \u001b[38;5;241m=\u001b[39m connection\u001b[38;5;241m.\u001b[39mcursor()\n\u001b[1;32m----> 6\u001b[0m \u001b[43mcursor\u001b[49m\u001b[38;5;241;43m.\u001b[39;49m\u001b[43mexecute\u001b[49m\u001b[43m(\u001b[49m\u001b[38;5;124;43m\"\u001b[39;49m\u001b[38;5;124;43mSELECT * from table\u001b[39;49m\u001b[38;5;124;43m\"\u001b[39;49m\u001b[43m)\u001b[49m\n\u001b[0;32m      7\u001b[0m mytable \u001b[38;5;241m=\u001b[39m from_db_cursor(cursor)\n",
      "\u001b[1;31mOperationalError\u001b[0m: near \"table\": syntax error"
     ]
    }
   ],
   "source": [
    "import sqlite3\n",
    "from prettytable import from_db_cursor\n",
    "\n",
    "connection = sqlite3.connect(\"mydb.db\")\n",
    "cursor = connection.cursor()\n",
    "cursor.execute(\"SELECT * from table\")\n",
    "mytable = from_db_cursor(cursor)"
   ]
  },
  {
   "cell_type": "markdown",
   "metadata": {},
   "source": []
  }
 ],
 "metadata": {
  "kernelspec": {
   "display_name": "Python 3",
   "language": "python",
   "name": "python3"
  },
  "language_info": {
   "codemirror_mode": {
    "name": "ipython",
    "version": 3
   },
   "file_extension": ".py",
   "mimetype": "text/x-python",
   "name": "python",
   "nbconvert_exporter": "python",
   "pygments_lexer": "ipython3",
   "version": "3.12.2"
  }
 },
 "nbformat": 4,
 "nbformat_minor": 2
}
