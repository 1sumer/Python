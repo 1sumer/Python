{
 "cells": [
  {
   "cell_type": "code",
   "execution_count": 58,
   "metadata": {},
   "outputs": [],
   "source": [
    "import requests\n",
    "from bs4 import BeautifulSoup\n",
    "import pandas as pd\n",
    "import csv"
   ]
  },
  {
   "cell_type": "code",
   "execution_count": 50,
   "metadata": {},
   "outputs": [],
   "source": [
    "r = requests.get('https://news.ycombinator.com')"
   ]
  },
  {
   "cell_type": "code",
   "execution_count": 51,
   "metadata": {},
   "outputs": [],
   "source": [
    "soup = BeautifulSoup(r.text, 'html.parser')"
   ]
  },
  {
   "cell_type": "code",
   "execution_count": 52,
   "metadata": {},
   "outputs": [],
   "source": [
    "links = soup.findAll('tr', class_='athing')"
   ]
  },
  {
   "cell_type": "code",
   "execution_count": 53,
   "metadata": {},
   "outputs": [],
   "source": [
    "formatted_links = []\n",
    "\n",
    "for link in links:\n",
    "    data = {\n",
    "        'id': link['id'],\n",
    "        'title': link.find_all('td')[2].a.text,\n",
    "        \"url\": link.find_all('td')[2].a['href'],\n",
    "        \"rank\": int(link.find_all('td')[0].span.text.replace('.', ''))\n",
    "    }\n",
    "    formatted_links.append(data)"
   ]
  },
  {
   "cell_type": "code",
   "execution_count": 54,
   "metadata": {},
   "outputs": [
    {
     "name": "stdout",
     "output_type": "stream",
     "text": [
      "[{'id': '40950584', 'title': 'Use a Work Journal to Recover Focus Faster and Clarify Your Thoughts', 'url': 'https://fev.al/posts/work-journal/', 'rank': 1}, {'id': '40952330', 'title': \"Ad-tech setting 'Privacy-Preserving Attribution' is opt-out in Firefox 128\", 'url': 'https://gladtech.social/@cuchaz/112775302929069283', 'rank': 2}, {'id': '40951800', 'title': 'From the book, \"Calvin and Hobbes – Sunday Pages 1985 – 1995\"', 'url': 'http://timhulsizer.com/cwords/cintro.html', 'rank': 3}, {'id': '40951877', 'title': 'Wireless Amiga Tank Mouse', 'url': 'https://lyonsden.net/wireless-tank-mouse/', 'rank': 4}, {'id': '40923096', 'title': 'Crocotile3D low poly modelling tool', 'url': 'https://crocotile3d.com/', 'rank': 5}, {'id': '40950235', 'title': 'Crafting Interpreters', 'url': 'https://craftinginterpreters.com/', 'rank': 6}, {'id': '40952022', 'title': 'CO poultry workers test positive for bird flu after outbreak at egg facility', 'url': 'https://www.denver7.com/news/state-news/3-colorado-poultry-workers-identified-as-potential-bird-flu-cases-after-outbreak-at-commercial-egg-facility', 'rank': 7}, {'id': '40916326', 'title': 'Show HN: 30ms latency screen sharing in Rust', 'url': 'https://github.com/bitwhip/bitwhip', 'rank': 8}, {'id': '40948806', 'title': 'Free-threaded CPython is ready to experiment with', 'url': 'https://labs.quansight.org/blog/free-threaded-python-rollout', 'rank': 9}, {'id': '40944505', 'title': \"AT&T says criminals stole phone records of 'nearly all' customers in data breach\", 'url': 'https://techcrunch.com/2024/07/12/att-phone-records-stolen-data-breach/', 'rank': 10}, {'id': '40951368', 'title': 'Who Owns Your Wireless Service? Crooks Do. (2019)', 'url': 'https://krebsonsecurity.com/2019/08/who-owns-your-wireless-service-crooks-do/', 'rank': 11}, {'id': '40951166', 'title': 'Authelia and Lldap: Authentication, SSO, User Management... for Home Networks', 'url': 'https://helgeklein.com/blog/authelia-lldap-authentication-sso-user-management-password-reset-for-home-networks/', 'rank': 12}, {'id': '40946033', 'title': 'Tau: Open-source PaaS – A self-hosted Vercel / Netlify / Cloudflare alternative', 'url': 'https://github.com/taubyte/tau', 'rank': 13}, {'id': '40915821', 'title': 'Selfie-based authentication raises eyebrows among infosec experts', 'url': 'https://www.theregister.com/2024/07/08/selfie_authentication_security/', 'rank': 14}, {'id': '40948202', 'title': 'What could explain the gallium anomaly?', 'url': 'https://www.quantamagazine.org/what-could-explain-the-gallium-anomaly-20240712/', 'rank': 15}, {'id': '40917439', 'title': 'Packing Equal Copies', 'url': 'https://erich-friedman.github.io/packing/', 'rank': 16}, {'id': '40948353', 'title': 'Beating the Compiler', 'url': 'https://www.mattkeeter.com/blog/2024-07-12-interpreter/', 'rank': 17}, {'id': '40949021', 'title': 'Responsive bar charts in HTML and CSS', 'url': 'https://9elements.com/blog/responsive-bar-charts-in-html-and-css/', 'rank': 18}, {'id': '40919160', 'title': 'Show HN: Create Music with R', 'url': 'https://github.com/flujoo/gm', 'rank': 19}, {'id': '40950130', 'title': 'Lead Animation Engineer – Gym Class (YC W22) Is Hiring', 'url': 'https://www.ycombinator.com/companies/gym-class-by-irl-studios/jobs/7UKmLED-lead-animation-engineer', 'rank': 20}, {'id': '40919644', 'title': 'New Blast-RADIUS attack breaks 30-year-old protocol used in networks everywhere', 'url': 'https://arstechnica.com/security/2024/07/new-blast-radius-attack-breaks-30-year-old-protocol-used-in-networks-everywhere/', 'rank': 21}, {'id': '40948566', 'title': 'Common Expression Language interpreter written in Rust', 'url': 'https://github.com/clarkmcc/cel-rust', 'rank': 22}, {'id': '40914635', 'title': 'So you want to rent an NVIDIA H100 cluster? 2024 Consumer Guide', 'url': 'https://www.photoroom.com/inside-photoroom/so-you-want-to-rent-an-nvidia-h100-cluster-2024-consumer-guide?slug=inside-photoroom/so-you-want-to-rent-an-nvidia-h100-cluster-2024-consumer-guide&_storyblok_published=511470179&', 'rank': 23}, {'id': '40951524', 'title': 'Exploring the Limits of Transfer Learning with a Unified Transformer (2019)', 'url': 'https://arxiv.org/abs/1910.10683', 'rank': 24}, {'id': '40949229', 'title': 'Things I know about Git commits', 'url': 'https://www.jvt.me/posts/2024/07/12/things-know-commits/', 'rank': 25}, {'id': '40940241', 'title': 'Beating the L1 cache with value speculation (2021)', 'url': 'https://mazzo.li/posts/value-speculation.html', 'rank': 26}, {'id': '40947277', 'title': 'lldap: Light LDAP Implementation', 'url': 'https://github.com/lldap/lldap', 'rank': 27}, {'id': '40947415', 'title': 'Show HN: Dropbase AI – A Prompt-Based Python Web App Builder', 'url': 'https://github.com/DropbaseHQ/dropbase', 'rank': 28}, {'id': '40951701', 'title': 'Azure OpenAI down in multiple regions', 'url': 'https://azure.status.microsoft/en-us/status', 'rank': 29}, {'id': '40933048', 'title': 'How Carbon Monoxide Poisoning Is Treated', 'url': 'https://www.verywellhealth.com/carbon-monoxide-poisoning-treatment-4161055', 'rank': 30}]\n"
     ]
    }
   ],
   "source": [
    "print(formatted_links)"
   ]
  },
  {
   "cell_type": "code",
   "execution_count": 59,
   "metadata": {},
   "outputs": [],
   "source": [
    "# Define CSV file path\n",
    "csv_file = r'formatted_links.csv'\n",
    "\n",
    "# Define CSV fieldnames based on the keys in the data dictionaries\n",
    "fieldnames = ['id', 'title', 'url', 'rank']\n",
    "\n",
    "# Write data to CSV file\n",
    "with open(csv_file, mode='w', newline='', encoding='utf-8') as file:\n",
    "    writer = csv.DictWriter(file, fieldnames=fieldnames)\n",
    "    writer.writeheader()\n",
    "    writer.writerows(formatted_links)"
   ]
  },
  {
   "cell_type": "code",
   "execution_count": null,
   "metadata": {},
   "outputs": [],
   "source": []
  }
 ],
 "metadata": {
  "kernelspec": {
   "display_name": "Python 3",
   "language": "python",
   "name": "python3"
  },
  "language_info": {
   "codemirror_mode": {
    "name": "ipython",
    "version": 3
   },
   "file_extension": ".py",
   "mimetype": "text/x-python",
   "name": "python",
   "nbconvert_exporter": "python",
   "pygments_lexer": "ipython3",
   "version": "3.12.2"
  }
 },
 "nbformat": 4,
 "nbformat_minor": 2
}
