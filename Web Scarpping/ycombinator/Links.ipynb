{
 "cells": [
  {
   "cell_type": "code",
   "execution_count": 11,
   "metadata": {},
   "outputs": [],
   "source": [
    "import requests\n",
    "from bs4 import BeautifulSoup\n",
    "import csv"
   ]
  },
  {
   "cell_type": "code",
   "execution_count": 12,
   "metadata": {},
   "outputs": [],
   "source": [
    "# Initialize a list to hold all the formatted links data\n",
    "formatted_links = []"
   ]
  },
  {
   "cell_type": "code",
   "execution_count": 13,
   "metadata": {},
   "outputs": [],
   "source": [
    "# Iterate over the desired page range\n",
    "for i in range(1, 25):\n",
    "    # Fetch the page content\n",
    "    r = requests.get(f\"https://news.ycombinator.com/?p={i}\")\n",
    "    \n",
    "    # Parse the page content\n",
    "    soup = BeautifulSoup(r.text, 'html.parser')\n",
    "        \n",
    "    # Find all the relevant rows (links)\n",
    "    links = soup.findAll('tr', class_='athing')\n",
    "        \n",
    "    # Extract and format data from each link\n",
    "    for link in links:\n",
    "        data = {\n",
    "            'id': link['id'],\n",
    "            'title': link.find_all('td')[2].a.text,\n",
    "            'url': link.find_all('td')[2].a['href'],\n",
    "            'rank': int(link.find_all('td')[0].span.text.replace('.', ''))\n",
    "        }\n",
    "        formatted_links.append(data)"
   ]
  },
  {
   "cell_type": "code",
   "execution_count": 14,
   "metadata": {},
   "outputs": [
    {
     "name": "stdout",
     "output_type": "stream",
     "text": [
      "Data successfully written to formatted_links.csv\n"
     ]
    }
   ],
   "source": [
    "# Define CSV file path\n",
    "csv_file = 'formatted_links.csv'\n",
    "\n",
    "# Define CSV fieldnames based on the keys in the data dictionaries\n",
    "fieldnames = ['id', 'title', 'url', 'rank']\n",
    "\n",
    "# Write data to CSV file\n",
    "with open(csv_file, mode='w', newline='', encoding='utf-8') as file:\n",
    "    writer = csv.DictWriter(file, fieldnames=fieldnames)\n",
    "    writer.writeheader()\n",
    "    writer.writerows(formatted_links)\n",
    "\n",
    "print(f\"Data successfully written to {csv_file}\")"
   ]
  }
 ],
 "metadata": {
  "kernelspec": {
   "display_name": "Python 3",
   "language": "python",
   "name": "python3"
  },
  "language_info": {
   "codemirror_mode": {
    "name": "ipython",
    "version": 3
   },
   "file_extension": ".py",
   "mimetype": "text/x-python",
   "name": "python",
   "nbconvert_exporter": "python",
   "pygments_lexer": "ipython3",
   "version": "3.12.2"
  }
 },
 "nbformat": 4,
 "nbformat_minor": 2
}
