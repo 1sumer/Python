{
 "cells": [
  {
   "attachments": {},
   "cell_type": "markdown",
   "id": "e07fd01b",
   "metadata": {},
   "source": [
    "### Multipal pages"
   ]
  },
  {
   "cell_type": "code",
   "execution_count": 1,
   "id": "33a457b9",
   "metadata": {},
   "outputs": [],
   "source": [
    "import requests\n",
    "from bs4 import BeautifulSoup\n",
    "import pandas as pd"
   ]
  },
  {
   "cell_type": "code",
   "execution_count": 2,
   "id": "8517f460",
   "metadata": {},
   "outputs": [],
   "source": [
    "page_num = input(\"Enter no of pages: \")\n",
    "for i in range(1,int(page_num)+1):\n",
    "    url = \"https://www.flipkart.com/mobiles/mi~brand/pr?sid=tyy%2C4io&otracker=nmenu_sub_Electronics_0_Mi&page=\"+str(i)"
   ]
  },
  {
   "cell_type": "code",
   "execution_count": 9,
   "id": "43b813e6",
   "metadata": {},
   "outputs": [
    {
     "data": {
      "text/plain": [
       "<Response [500]>"
      ]
     },
     "execution_count": 9,
     "metadata": {},
     "output_type": "execute_result"
    }
   ],
   "source": [
    "req = requests.get(url)\n",
    "req"
   ]
  },
  {
   "cell_type": "code",
   "execution_count": 3,
   "id": "5a903e2d",
   "metadata": {},
   "outputs": [
    {
     "name": "stdout",
     "output_type": "stream",
     "text": [
      "<bound method PageElement.get_text of <html><body><h1>500 Internal Server Error</h1>\n",
      "An internal server error occurred.\n",
      "</body></html>\n",
      ">\n"
     ]
    }
   ],
   "source": [
    "\n",
    "content = BeautifulSoup(req.content, 'html.parser')\n",
    "print(content.get_text)"
   ]
  },
  {
   "cell_type": "code",
   "execution_count": 4,
   "id": "d80728eb-54af-4fe6-b061-d5f3a1289de5",
   "metadata": {},
   "outputs": [],
   "source": [
    "for link in content.find_all('a'):\n",
    "    print(link.get('href'))"
   ]
  },
  {
   "cell_type": "code",
   "execution_count": 5,
   "id": "64d19fe6",
   "metadata": {},
   "outputs": [
    {
     "name": "stdout",
     "output_type": "stream",
     "text": [
      "[]\n"
     ]
    }
   ],
   "source": [
    "data = content.find_all('div', {'class':\"_2kHMtA\"})\n",
    "print(data)"
   ]
  },
  {
   "cell_type": "code",
   "execution_count": 6,
   "id": "276d62c2",
   "metadata": {},
   "outputs": [],
   "source": [
    "links = []\n",
    "pho_name = []\n",
    "Fprice = []\n",
    "details = []\n",
    "start_link = 'https://www.flipkart.com'"
   ]
  },
  {
   "cell_type": "code",
   "execution_count": 7,
   "id": "58a937de",
   "metadata": {},
   "outputs": [],
   "source": [
    "for items in data:\n",
    "    rest_link = items.find('a')['href']\n",
    "    name = items.find('div', attrs={'class':'_4rR01T'}).get_text()\n",
    "    fpra = items.find('div', attrs={'class':'_1_WHN1'}).get_text()\n",
    "    det = items.find('div', attrs={'class':'fMghEO'}).get_text()\n",
    "    pho_name.append(name)\n",
    "    links.append(start_link+rest_link)\n",
    "    Fprice.append(fpra)\n",
    "    details.append(det)  "
   ]
  },
  {
   "cell_type": "code",
   "execution_count": 8,
   "id": "fba72a26",
   "metadata": {},
   "outputs": [
    {
     "ename": "IndexError",
     "evalue": "list index out of range",
     "output_type": "error",
     "traceback": [
      "\u001b[1;31m---------------------------------------------------------------------------\u001b[0m",
      "\u001b[1;31mIndexError\u001b[0m                                Traceback (most recent call last)",
      "Cell \u001b[1;32mIn[8], line 1\u001b[0m\n\u001b[1;32m----> 1\u001b[0m \u001b[38;5;28mprint\u001b[39m(\u001b[43mpho_name\u001b[49m\u001b[43m[\u001b[49m\u001b[38;5;241;43m1\u001b[39;49m\u001b[43m]\u001b[49m)\n\u001b[0;32m      2\u001b[0m \u001b[38;5;28mprint\u001b[39m(links[\u001b[38;5;241m1\u001b[39m])\n\u001b[0;32m      3\u001b[0m \u001b[38;5;28mprint\u001b[39m(Fprice[\u001b[38;5;241m1\u001b[39m])\n",
      "\u001b[1;31mIndexError\u001b[0m: list index out of range"
     ]
    }
   ],
   "source": [
    "print(pho_name[1])\n",
    "print(links[1])\n",
    "print(Fprice[1])\n",
    "print(details[1])"
   ]
  },
  {
   "cell_type": "code",
   "execution_count": 10,
   "id": "2712cd88",
   "metadata": {
    "scrolled": true
   },
   "outputs": [
    {
     "name": "stdout",
     "output_type": "stream",
     "text": [
      "                                          Phone_names  \\\n",
      "0                REDMI 10 Power (Power Black, 128 GB)   \n",
      "1              REDMI 10 Power (Sporty Orange, 128 GB)   \n",
      "2               Redmi 9A Sport (Metallic Blue, 32 GB)   \n",
      "3                Redmi 9A Sport (Carbon Black, 32 GB)   \n",
      "4                 Redmi 9A Sport (Coral Green, 32 GB)   \n",
      "5                Redmi 9A Sport (Carbon Black, 32 GB)   \n",
      "6                 Redmi 9A Sport (Coral Green, 32 GB)   \n",
      "7                       Mi 10T (Cosmic Black, 128 GB)   \n",
      "8   Xiaomi 11i Hypercharge 5G (Stealth Black, 128 GB)   \n",
      "9                     Redmi Note 6 Pro (Black, 64 GB)   \n",
      "10                      Redmi Note 6 Pro (Red, 64 GB)   \n",
      "11                      Redmi Note 6 Pro (Red, 64 GB)   \n",
      "12               Redmi Note 11S (Space Black, 128 GB)   \n",
      "13                   Mi 11 Lite (Vinyl Black, 128 GB)   \n",
      "14                     Mi 11 Lite (Jazz Blue, 128 GB)   \n",
      "15            REDMI Note 11T 5G (Matte black, 128 GB)   \n",
      "16             REDMI Note 11T 5G (Matte black, 64 GB)   \n",
      "17                   Mi 11 Lite (Vinyl Black, 128 GB)   \n",
      "18         REDMI Note 11T 5G (Stardust White, 128 GB)   \n",
      "19               Xiaomi 11Lite NE (Jazz Blue, 128 GB)   \n",
      "20                      Mi 11X (Cosmic Black, 128 GB)   \n",
      "21                 REDMI 10A (CHARCOAL BLACK, 128 GB)   \n",
      "22               Redmi 10 Prime (Bifrost Blue, 64 GB)   \n",
      "23                     Redmi 9A (Nature Green, 32 GB)   \n",
      "\n",
      "                                                Links   FPrice  \\\n",
      "0   https://www.flipkart.com/redmi-10-power-power-...  ₹12,685   \n",
      "1   https://www.flipkart.com/redmi-10-power-sporty...  ₹12,477   \n",
      "2   https://www.flipkart.com/redmi-9a-sport-metall...   ₹7,238   \n",
      "3   https://www.flipkart.com/redmi-9a-sport-carbon...   ₹7,230   \n",
      "4   https://www.flipkart.com/redmi-9a-sport-coral-...   ₹7,230   \n",
      "5   https://www.flipkart.com/redmi-9a-sport-carbon...   ₹8,398   \n",
      "6   https://www.flipkart.com/redmi-9a-sport-coral-...   ₹9,499   \n",
      "7   https://www.flipkart.com/mi-10t-cosmic-black-1...  ₹23,990   \n",
      "8   https://www.flipkart.com/xiaomi-11i-hypercharg...  ₹23,999   \n",
      "9   https://www.flipkart.com/redmi-note-6-pro-blac...  ₹15,999   \n",
      "10  https://www.flipkart.com/redmi-note-6-pro-red-...  ₹17,999   \n",
      "11  https://www.flipkart.com/redmi-note-6-pro-red-...  ₹15,999   \n",
      "12  https://www.flipkart.com/redmi-note-11s-space-...  ₹18,450   \n",
      "13  https://www.flipkart.com/mi-11-lite-vinyl-blac...  ₹18,999   \n",
      "14  https://www.flipkart.com/mi-11-lite-jazz-blue-...  ₹18,999   \n",
      "15  https://www.flipkart.com/redmi-note-11t-5g-mat...  ₹18,686   \n",
      "16  https://www.flipkart.com/redmi-note-11t-5g-mat...  ₹17,200   \n",
      "17  https://www.flipkart.com/mi-11-lite-vinyl-blac...  ₹21,999   \n",
      "18  https://www.flipkart.com/redmi-note-11t-5g-sta...  ₹19,300   \n",
      "19  https://www.flipkart.com/xiaomi-11lite-ne-jazz...  ₹24,999   \n",
      "20  https://www.flipkart.com/mi-11x-cosmic-black-1...  ₹23,990   \n",
      "21  https://www.flipkart.com/redmi-10a-charcoal-bl...  ₹11,999   \n",
      "22  https://www.flipkart.com/redmi-10-prime-bifros...  ₹13,885   \n",
      "23  https://www.flipkart.com/redmi-9a-nature-green...   ₹8,399   \n",
      "\n",
      "                                              Details  \n",
      "0   8 GB RAM | 128 GB ROM17.02 cm (6.7 inch) Displ...  \n",
      "1   8 GB RAM | 128 GB ROM17.02 cm (6.7 inch) Displ...  \n",
      "2   2 GB RAM | 32 GB ROM16.59 cm (6.53 inch) Displ...  \n",
      "3   2 GB RAM | 32 GB ROM16.59 cm (6.53 inch) Displ...  \n",
      "4   2 GB RAM | 32 GB ROM16.59 cm (6.53 inch) Displ...  \n",
      "5   3 GB RAM | 32 GB ROM16.59 cm (6.53 inch) Displ...  \n",
      "6   3 GB RAM | 32 GB ROM16.59 cm (6.53 inch) Displ...  \n",
      "7   6 GB RAM | 128 GB ROM16.94 cm (6.67 inch) Full...  \n",
      "8   6 GB RAM | 128 GB ROM | Expandable Upto 1 TB16...  \n",
      "9   4 GB RAM | 64 GB ROM | Expandable Upto 256 GB1...  \n",
      "10  6 GB RAM | 64 GB ROM | Expandable Upto 256 GB1...  \n",
      "11  4 GB RAM | 64 GB ROM | Expandable Upto 256 GB1...  \n",
      "12  8 GB RAM | 128 GB ROM16.33 cm (6.43 inch) Disp...  \n",
      "13  8 GB RAM | 128 GB ROM | Expandable Upto 512 GB...  \n",
      "14  8 GB RAM | 128 GB ROM | Expandable Upto 512 GB...  \n",
      "15  6 GB RAM | 128 GB ROM16.76 cm (6.6 inch) Displ...  \n",
      "16  6 GB RAM | 64 GB ROM16.76 cm (6.6 inch) Displa...  \n",
      "17  6 GB RAM | 128 GB ROM | Expandable Upto 512 GB...  \n",
      "18  8 GB RAM | 128 GB ROM16.76 cm (6.6 inch) Displ...  \n",
      "19  6 GB RAM | 128 GB ROM | Expandable Upto 1 TB16...  \n",
      "20  6 GB RAM | 128 GB ROM16.94 cm (6.67 inch) Full...  \n",
      "21  6 GB RAM | 128 GB ROM16.59 cm (6.53 inch) Disp...  \n",
      "22  4 GB RAM | 64 GB ROM16.51 cm (6.5 inch) Displa...  \n",
      "23  3 GB RAM | 32 GB ROM | Expandable Upto 512 GB1...  \n"
     ]
    }
   ],
   "source": [
    "dataframe = {'Phone_names':pho_name, 'Links':links,  'FPrice':Fprice, 'Details':details} \n",
    "Final_dataframe = pd.DataFrame(dataframe)\n",
    "print(Final_dataframe)"
   ]
  },
  {
   "cell_type": "code",
   "execution_count": 11,
   "id": "4e9388c4",
   "metadata": {},
   "outputs": [],
   "source": [
    "Final_dataframe.to_csv('Flipkart_mi_mobile_details.csv')"
   ]
  }
 ],
 "metadata": {
  "kernelspec": {
   "display_name": "Python 3 (ipykernel)",
   "language": "python",
   "name": "python3"
  },
  "language_info": {
   "codemirror_mode": {
    "name": "ipython",
    "version": 3
   },
   "file_extension": ".py",
   "mimetype": "text/x-python",
   "name": "python",
   "nbconvert_exporter": "python",
   "pygments_lexer": "ipython3",
   "version": "3.12.2"
  },
  "vscode": {
   "interpreter": {
    "hash": "37d99e6d4983f94fd607d31c1d056b3b7a9bea88684ae051e8fd79233b8b8e0c"
   }
  },
  "widgets": {
   "application/vnd.jupyter.widget-state+json": {
    "state": {},
    "version_major": 2,
    "version_minor": 0
   }
  }
 },
 "nbformat": 4,
 "nbformat_minor": 5
}
