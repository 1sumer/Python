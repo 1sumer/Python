{
 "cells": [
  {
   "cell_type": "markdown",
   "id": "bb1b6e9d",
   "metadata": {},
   "source": [
    "### IMDB"
   ]
  },
  {
   "cell_type": "code",
   "execution_count": 1,
   "id": "ea9120b3",
   "metadata": {},
   "outputs": [],
   "source": [
    "import requests\n",
    "from bs4 import BeautifulSoup\n",
    "import pandas as pd\n",
    "import csv"
   ]
  },
  {
   "cell_type": "code",
   "execution_count": 2,
   "id": "a0ae9cfd",
   "metadata": {},
   "outputs": [],
   "source": [
    "url = 'https://www.imdb.com/chart/top/?ref_=nv_mv_250'"
   ]
  },
  {
   "cell_type": "code",
   "execution_count": 3,
   "id": "4af7ae1c",
   "metadata": {},
   "outputs": [
    {
     "data": {
      "text/plain": [
       "<Response [403]>"
      ]
     },
     "execution_count": 3,
     "metadata": {},
     "output_type": "execute_result"
    }
   ],
   "source": [
    "req = requests.get(url)\n",
    "req"
   ]
  },
  {
   "cell_type": "code",
   "execution_count": 9,
   "id": "467f1916",
   "metadata": {},
   "outputs": [
    {
     "data": {
      "text/plain": [
       "<html>\n",
       "<head><title>403 Forbidden</title></head>\n",
       "<body>\n",
       "<center><h1>403 Forbidden</h1></center>\n",
       "</body>\n",
       "</html>"
      ]
     },
     "execution_count": 9,
     "metadata": {},
     "output_type": "execute_result"
    }
   ],
   "source": [
    "content = BeautifulSoup(req.text, 'html.parser')\n",
    "content"
   ]
  },
  {
   "cell_type": "code",
   "execution_count": null,
   "id": "e5980d23",
   "metadata": {},
   "outputs": [],
   "source": [
    "data = content.find('tbody', {'class':\"lister-list\"}).find_all('tr')"
   ]
  },
  {
   "cell_type": "code",
   "execution_count": null,
   "id": "6a92e886",
   "metadata": {},
   "outputs": [],
   "source": [
    "movie_title = []\n",
    "movie_rating = []\n",
    "movie_list = []"
   ]
  },
  {
   "cell_type": "code",
   "execution_count": null,
   "id": "baf9db0e",
   "metadata": {},
   "outputs": [],
   "source": [
    "for html in data:\n",
    "    title = html.find('td',{'class':'titleColumn'}).find('a').get_text()\n",
    "    \n",
    "    rating = html.find('td', attrs={'class':'ratingColumn imdbRating'}).find('strong').get_text()\n",
    "    \n",
    "    rating = float(rating)\n",
    "    \n",
    "    raw_list = [title,rating]\n",
    "    movie_title.append(title)\n",
    "    movie_rating.append(rating)\n",
    "    movie_list.append(raw_list)"
   ]
  },
  {
   "cell_type": "code",
   "execution_count": null,
   "id": "3e89d39d",
   "metadata": {},
   "outputs": [],
   "source": [
    "movie_list"
   ]
  },
  {
   "cell_type": "code",
   "execution_count": null,
   "id": "137a10cc",
   "metadata": {
    "scrolled": true
   },
   "outputs": [],
   "source": [
    "print(movie_title[1])\n",
    "print(movie_rating[1])"
   ]
  },
  {
   "cell_type": "code",
   "execution_count": null,
   "id": "257b78a1",
   "metadata": {},
   "outputs": [],
   "source": [
    "dataframe = {'Movie Title ':movie_title, 'Rating':movie_rating}\n",
    "Final_dataframe = pd.DataFrame(dataframe)\n",
    "print(Final_dataframe)"
   ]
  },
  {
   "cell_type": "code",
   "execution_count": null,
   "id": "cca81e5b",
   "metadata": {},
   "outputs": [],
   "source": [
    "Final_dataframe.to_csv('IMDB TOP MOVIES.csv')"
   ]
  },
  {
   "cell_type": "code",
   "execution_count": null,
   "id": "8e4ff3a5",
   "metadata": {},
   "outputs": [],
   "source": []
  }
 ],
 "metadata": {
  "kernelspec": {
   "display_name": "Python 3 (ipykernel)",
   "language": "python",
   "name": "python3"
  },
  "language_info": {
   "codemirror_mode": {
    "name": "ipython",
    "version": 3
   },
   "file_extension": ".py",
   "mimetype": "text/x-python",
   "name": "python",
   "nbconvert_exporter": "python",
   "pygments_lexer": "ipython3",
   "version": "3.12.2"
  },
  "widgets": {
   "application/vnd.jupyter.widget-state+json": {
    "state": {},
    "version_major": 2,
    "version_minor": 0
   }
  }
 },
 "nbformat": 4,
 "nbformat_minor": 5
}
