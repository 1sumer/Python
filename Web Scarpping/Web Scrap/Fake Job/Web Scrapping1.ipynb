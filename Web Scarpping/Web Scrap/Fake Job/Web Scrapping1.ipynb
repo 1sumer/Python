{
 "cells": [
  {
   "cell_type": "markdown",
   "metadata": {},
   "source": [
    "## **Web Scrapping using Function**"
   ]
  },
  {
   "cell_type": "code",
   "execution_count": null,
   "metadata": {},
   "outputs": [],
   "source": [
    "import requests\n",
    "from bs4 import BeautifulSoup\n",
    "import pandas as pd"
   ]
  },
  {
   "cell_type": "code",
   "execution_count": null,
   "metadata": {},
   "outputs": [
    {
     "name": "stdout",
     "output_type": "stream",
     "text": [
      "Successfully saved 100 jobs to Products.csv\n"
     ]
    }
   ],
   "source": [
    "# Function to download HTML content\n",
    "def download_html(url):\n",
    "    response = requests.get(url,)\n",
    "    response.raise_for_status()\n",
    "    return response.text\n",
    "\n",
    "# Function to parse HTML content and extract data\n",
    "def parse_html(html_content):\n",
    "    soup = BeautifulSoup(html_content, 'html.parser')\n",
    "    results_container = soup.find(id='ResultsContainer')\n",
    "    jobs = []\n",
    "\n",
    "    for job_element in results_container.find_all(\"div\", class_=\"card-content\"):\n",
    "        title_element = job_element.find(\"h2\", class_=\"title is-5\").text.strip()\n",
    "        company_element = job_element.find(\"h3\", class_=\"subtitle is-6 company\").text.strip()\n",
    "        location_element = job_element.find(\"p\", class_=\"location\").text.strip()\n",
    "        date = job_element.find(\"p\", class_=\"is-small has-text-grey\").text.strip()\n",
    "        jobs.append({\n",
    "            'Title': title_element,\n",
    "            'Company': company_element,\n",
    "            'Location': location_element,\n",
    "            'Date': date\n",
    "        })\n",
    "    \n",
    "    return jobs\n",
    "\n",
    "# Function to save data to a CSV file\n",
    "def save_to_csv(data, filename):\n",
    "    df = pd.DataFrame(data)\n",
    "    df.to_csv(filename, index=False)\n",
    "\n",
    "# Main function\n",
    "def main():\n",
    "    url = 'https://realpython.github.io/fake-jobs/'  # URL of the jobs page\n",
    "\n",
    "    try:\n",
    "        html_content = download_html(url)\n",
    "    except requests.exceptions.RequestException as e:\n",
    "        print(f'Error downloading HTML content: {e}')\n",
    "        return\n",
    "\n",
    "    jobs = parse_html(html_content)\n",
    "\n",
    "    if jobs:\n",
    "        save_to_csv(jobs, 'Products.csv')\n",
    "        print(f'Successfully saved {len(jobs)} jobs to Products.csv')\n",
    "    else:\n",
    "        print('No jobs found.')\n",
    "\n",
    "if __name__ == '__main__':\n",
    "    main()"
   ]
  },
  {
   "cell_type": "markdown",
   "metadata": {},
   "source": [
    "## **Web Scrapping using Class**"
   ]
  },
  {
   "cell_type": "code",
   "execution_count": null,
   "metadata": {},
   "outputs": [
    {
     "name": "stdout",
     "output_type": "stream",
     "text": [
      "Successfully saved 100 jobs to Products.json\n"
     ]
    }
   ],
   "source": [
    "class JobScraper:\n",
    "    def __init__(self, url):\n",
    "        self.url = url\n",
    "        self.jobs = []\n",
    "\n",
    "    def download_html(self):\n",
    "        headers = {'User-Agent': 'Mozilla/5.0'}\n",
    "        response = requests.get(self.url, headers=headers)\n",
    "        response.raise_for_status()\n",
    "        return response.text\n",
    "\n",
    "    def parse_html(self, html_content):\n",
    "        soup = BeautifulSoup(html_content, 'html.parser')\n",
    "        results_container = soup.find(id='ResultsContainer')\n",
    "\n",
    "        for job_element in results_container.find_all(\"div\", class_=\"card-content\"):\n",
    "            title_element = job_element.find(\"h2\", class_=\"title is-5\").text.strip()\n",
    "            company_element = job_element.find(\"h3\", class_=\"subtitle is-6 company\").text.strip()\n",
    "            location_element = job_element.find(\"p\", class_=\"location\").text.strip()\n",
    "            date = job_element.find(\"p\", class_=\"is-small has-text-grey\").text.strip()\n",
    "            self.jobs.append({\n",
    "                'Title': title_element,\n",
    "                'Company': company_element,\n",
    "                'Location': location_element,\n",
    "                'Date': date\n",
    "            })\n",
    "\n",
    "    def save_to_json(self, filename):\n",
    "        df = pd.DataFrame(self.jobs)\n",
    "        df.to_json(filename, index=False)\n",
    "\n",
    "    def run(self, output_filename):\n",
    "        try:\n",
    "            html_content = self.download_html()\n",
    "        except requests.exceptions.RequestException as e:\n",
    "            print(f'Error downloading HTML content: {e}')\n",
    "            return\n",
    "\n",
    "        self.parse_html(html_content)\n",
    "        \n",
    "        if self.jobs:\n",
    "            self.save_to_json(output_filename)\n",
    "            print(f'Successfully saved {len(self.jobs)} jobs to {output_filename}')\n",
    "        else:\n",
    "            print('No jobs found.')\n",
    "\n",
    "if __name__ == '__main__':\n",
    "    url = 'https://realpython.github.io/fake-jobs/'  # URL of the jobs page\n",
    "    output_filename = 'Products.json'\n",
    "    \n",
    "    scraper = JobScraper(url)\n",
    "    scraper.run(output_filename)"
   ]
  }
 ],
 "metadata": {
  "kernelspec": {
   "display_name": "Python 3",
   "language": "python",
   "name": "python3"
  },
  "language_info": {
   "name": "python",
   "version": "3.12.2"
  }
 },
 "nbformat": 4,
 "nbformat_minor": 2
}
