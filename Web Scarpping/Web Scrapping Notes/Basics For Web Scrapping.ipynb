{
 "cells": [
  {
   "cell_type": "markdown",
   "id": "2f1e94d1",
   "metadata": {},
   "source": [
    "### WEB SCRAPING"
   ]
  },
  {
   "cell_type": "code",
   "execution_count": null,
   "id": "16cfdaf2",
   "metadata": {},
   "outputs": [],
   "source": [
    "#pip install requests"
   ]
  },
  {
   "cell_type": "code",
   "execution_count": null,
   "id": "c1f4bef5",
   "metadata": {
    "scrolled": true
   },
   "outputs": [],
   "source": [
    "import requests\n",
    "from bs4 import BeautifulSoup\n",
    "\n",
    "# Making a GET request\n",
    "r = requests.get('https://www.geeksforgeeks.org/python-programming-language/')\n",
    " \n",
    "# check status code for response received\n",
    "# success code - 200\n",
    "print(r) "
   ]
  },
  {
   "cell_type": "code",
   "execution_count": null,
   "id": "12650e64",
   "metadata": {
    "scrolled": true
   },
   "outputs": [],
   "source": [
    "# print content of request\n",
    "print(r.content)"
   ]
  },
  {
   "cell_type": "code",
   "execution_count": null,
   "id": "942d0b43",
   "metadata": {},
   "outputs": [],
   "source": [
    "soup = BeautifulSoup(r.content, 'html.parser')\n",
    "print(soup.prettify())"
   ]
  },
  {
   "cell_type": "code",
   "execution_count": null,
   "id": "e03ed61c",
   "metadata": {},
   "outputs": [],
   "source": [
    "# Getting the title tag\n",
    "print(soup.title)\n",
    " \n",
    "# Getting the name of the tag\n",
    "print(soup.title.name)\n",
    " \n",
    "# Getting the name of parent tag\n",
    "print(soup.title.parent.name)"
   ]
  },
  {
   "cell_type": "markdown",
   "id": "88045ad7",
   "metadata": {},
   "source": [
    "**tags from the content of the page**"
   ]
  },
  {
   "cell_type": "code",
   "execution_count": null,
   "id": "03f41a3e",
   "metadata": {
    "scrolled": true
   },
   "outputs": [],
   "source": [
    "s = soup.find('div', class_='entry-content')\n",
    " \n",
    "lines = s.find_all('p')\n",
    " \n",
    "for line in lines:\n",
    "    print(line.text)"
   ]
  },
  {
   "cell_type": "code",
   "execution_count": null,
   "id": "70e2434f",
   "metadata": {},
   "outputs": [],
   "source": [
    "# Finding by id\n",
    "s = soup.find('div', id= 'main')\n",
    " \n",
    "# Getting the leftbar\n",
    "leftbar = s.find('ul', class_='leftBarList')\n",
    " \n",
    "# All the li under the above ul\n",
    "content = leftbar.find_all('li')\n",
    " \n",
    "print(content)"
   ]
  },
  {
   "cell_type": "markdown",
   "id": "68fb5543",
   "metadata": {},
   "source": [
    "**tags from the content of the leftbar**"
   ]
  },
  {
   "cell_type": "code",
   "execution_count": null,
   "id": "e0fa5189",
   "metadata": {
    "scrolled": true
   },
   "outputs": [],
   "source": [
    "# Finding by id\n",
    "s = soup.find('div', id= 'main')\n",
    " \n",
    "# Getting the leftbar\n",
    "leftbar = s.find('ul', class_='leftBarList')\n",
    " \n",
    "# All the li under the above ul\n",
    "lines = leftbar.find_all('li')\n",
    " \n",
    "for line in lines:\n",
    "    print(line.text)"
   ]
  },
  {
   "cell_type": "markdown",
   "id": "495127c7",
   "metadata": {},
   "source": [
    "**Python BeautifulSoup Extracting Links**"
   ]
  },
  {
   "cell_type": "code",
   "execution_count": null,
   "id": "b1b08026",
   "metadata": {},
   "outputs": [],
   "source": [
    "# Making a GET request\n",
    "r = requests.get('https://www.geeksforgeeks.org/python-programming-language/')\n",
    " \n",
    "# Parsing the HTML\n",
    "soup = BeautifulSoup(r.content, 'html.parser')\n",
    " \n",
    "# find all the anchor tags with \"href\"\n",
    "for link in soup.find_all('a'):\n",
    "    print(link.get('href'))"
   ]
  },
  {
   "cell_type": "markdown",
   "id": "1bbe9b13",
   "metadata": {},
   "source": [
    "**Python BeautifulSoup Extract Image**"
   ]
  },
  {
   "cell_type": "code",
   "execution_count": null,
   "id": "b1e29a65",
   "metadata": {},
   "outputs": [],
   "source": [
    "import requests\n",
    "from bs4 import BeautifulSoup\n",
    " \n",
    " \n",
    "# Making a GET request\n",
    "r = requests.get('https://www.geeksforgeeks.org/python-programming-language/')\n",
    " \n",
    "# Parsing the HTML\n",
    "soup = BeautifulSoup(r.content, 'html.parser')\n",
    " \n",
    "images_list = []\n",
    " \n",
    "images = soup.select('img')\n",
    "for image in images:\n",
    "    src = image.get('src')\n",
    "    alt = image.get('alt')\n",
    "    images_list.append({\"src\": src, \"alt\": alt})\n",
    "     \n",
    "for image in images_list:\n",
    "    print(image)"
   ]
  },
  {
   "cell_type": "markdown",
   "id": "47107830",
   "metadata": {},
   "source": [
    "### CSV"
   ]
  },
  {
   "cell_type": "code",
   "execution_count": null,
   "id": "33b788dd",
   "metadata": {},
   "outputs": [],
   "source": [
    "import requests\n",
    "from bs4 import BeautifulSoup as bs\n",
    "import csv\n",
    " \n",
    "URL = 'https://www.geeksforgeeks.org/page/'\n",
    "\n",
    "for url in range(0,2):\n",
    "    req = requests.get(URL[url])\n",
    "    soup = bs(req.text, 'html.parser')\n",
    " \n",
    "titles = soup.find_all('div', attrs={'class', 'head'})\n",
    "titles_list = []\n",
    " \n",
    "count = 1\n",
    "for title in titles:\n",
    "    d = {}\n",
    "    d['Title Number'] = f'Title {count}'\n",
    "    d['Title Name'] = title.text\n",
    "    count += 1\n",
    "    titles_list.append(d)\n",
    " \n",
    "filename = 'titles.csv'\n",
    "with open(filename, 'w', newline='') as f:\n",
    "    w = csv.DictWriter(f,['Title Number','Title Name'])\n",
    "    w.writeheader()\n",
    "     \n",
    "    w.writerows(titles_list)"
   ]
  }
 ],
 "metadata": {
  "kernelspec": {
   "display_name": "Python 3 (ipykernel)",
   "language": "python",
   "name": "python3"
  },
  "language_info": {
   "codemirror_mode": {
    "name": "ipython",
    "version": 3
   },
   "file_extension": ".py",
   "mimetype": "text/x-python",
   "name": "python",
   "nbconvert_exporter": "python",
   "pygments_lexer": "ipython3",
   "version": "3.12.2"
  },
  "widgets": {
   "application/vnd.jupyter.widget-state+json": {
    "state": {},
    "version_major": 2,
    "version_minor": 0
   }
  }
 },
 "nbformat": 4,
 "nbformat_minor": 5
}
