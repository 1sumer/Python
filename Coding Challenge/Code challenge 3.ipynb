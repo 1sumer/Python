{
 "cells": [
  {
   "cell_type": "markdown",
   "metadata": {},
   "source": [
    "### **Codeing Challenge**"
   ]
  },
  {
   "cell_type": "code",
   "execution_count": null,
   "metadata": {},
   "outputs": [],
   "source": [
    "# Dummy student names\n",
    "students = ['Alice', 'Bob', 'Charlie', 'David', 'Eva']\n",
    "\n",
    "# Specified subject names\n",
    "subjects = ['Math', 'Science', 'English', 'History']\n",
    "\n",
    "# Dummy grades for each student (Math, Science, English, History)\n",
    "grades = {\n",
    "    'Alice': [90, 85, 92, 88],\n",
    "    'Bob': [78, 95, 80, 70],\n",
    "    'Charlie': [82, 60, 75, 88],\n",
    "    'David': [65, 70, 68, 75],\n",
    "    'Eva': [88, 92, 45, 90]\n",
    "}"
   ]
  },
  {
   "cell_type": "code",
   "execution_count": null,
   "metadata": {},
   "outputs": [
    {
     "name": "stdout",
     "output_type": "stream",
     "text": [
      "Average grade for Alice: 88.75\n",
      "Average grade for Bob: 80.75\n",
      "Average grade for Charlie: 76.25\n",
      "Average grade for David: 69.5\n",
      "Average grade for Eva: 78.75\n"
     ]
    }
   ],
   "source": [
    "def average_grade(grades_list):\n",
    "    return sum(grades_list) / len(grades_list)\n",
    "\n",
    "for name in students:\n",
    "    print(f\"Average grade for {name}:\", average_grade(grades[name]))"
   ]
  },
  {
   "cell_type": "code",
   "execution_count": null,
   "metadata": {},
   "outputs": [
    {
     "name": "stdout",
     "output_type": "stream",
     "text": [
      "Subject with highest grade for Alice: English\n",
      "Subject with highest grade for Bob: Science\n",
      "Subject with highest grade for Charlie: History\n",
      "Subject with highest grade for David: History\n",
      "Subject with highest grade for Eva: Science\n"
     ]
    }
   ],
   "source": [
    "def highest_grade_subject(grades_list):\n",
    "    max_grade = max(grades_list)\n",
    "    max_index = grades_list.index(max_grade)\n",
    "    return subjects[max_index]\n",
    "\n",
    "for name in students:\n",
    "    print(f\"Subject with highest grade for {name}:\", highest_grade_subject(grades[name]))"
   ]
  },
  {
   "cell_type": "code",
   "execution_count": null,
   "metadata": {},
   "outputs": [
    {
     "name": "stdout",
     "output_type": "stream",
     "text": [
      "Passing students: ['Alice', 'Bob', 'Charlie', 'David']\n"
     ]
    }
   ],
   "source": [
    "def passing_students(grades_dict):\n",
    "    pass_students = []\n",
    "    for student, grades_list in grades_dict.items():\n",
    "        if all(grade >= 50 for grade in grades_list):\n",
    "            pass_students.append(student)\n",
    "    return pass_students\n",
    "\n",
    "print(\"Passing students:\", passing_students(grades))"
   ]
  },
  {
   "cell_type": "code",
   "execution_count": null,
   "metadata": {},
   "outputs": [],
   "source": [
    "def passing_students(grade_dict):\n",
    "    passed_students = []\n",
    "    for student, grade_list in grade_dict.items():\n",
    "        all_passed = True  # Assume the student passed\n",
    "        for grade in grade_list:\n",
    "            if grade < 50:\n",
    "                all_passed = False  # If any grade is below 50, mark as failed\n",
    "                break  # No need to check further\n",
    "        if all_passed:\n",
    "            passed_students.append(student)\n",
    "    return passed_students"
   ]
  },
  {
   "cell_type": "code",
   "execution_count": null,
   "metadata": {},
   "outputs": [
    {
     "name": "stdout",
     "output_type": "stream",
     "text": [
      "Subject-wise performance: {'Math': 80.6, 'Science': 80.4, 'English': 72.0, 'History': 82.2}\n"
     ]
    }
   ],
   "source": [
    "def subject_wise_performance(grades_dict):\n",
    "    performance = {}  # Initialize an empty dictionary to store average grades for each subject.\n",
    "\n",
    "    for subject in subjects:  # Iterate through each subject.\n",
    "        \n",
    "        subject_grades = []  # Initialize an empty list to store grades for the current subject.\n",
    "        for student in grades_dict:  # Iterate through each student in the grades dictionary.\n",
    "            grade_index = subjects.index(subject)  # Find the index of the subject in the subjects list.\n",
    "            subject_grades.append(grades_dict[student][grade_index])  # Append the student's grade for the current subject to the list.\n",
    "        \n",
    "        performance[subject] = average_grade(subject_grades)  # Calculate and store the average grade for the current subject.\n",
    "    \n",
    "    return performance  # Return the dictionary with average grades for each subject.\n",
    "\n",
    "print(\"Subject-wise performance:\", subject_wise_performance(grades))"
   ]
  },
  {
   "cell_type": "code",
   "execution_count": null,
   "metadata": {},
   "outputs": [
    {
     "name": "stdout",
     "output_type": "stream",
     "text": [
      "Students failed in Math: []\n",
      "Students failed in Science: []\n",
      "Students failed in English: ['Eva']\n",
      "Students failed in History: []\n"
     ]
    }
   ],
   "source": [
    "def students_failed_subject(grades_dict, subject):\n",
    "    failed_students = []\n",
    "    for student, grades_list in grades_dict.items():\n",
    "        if grades_list[subjects.index(subject)] < 50:\n",
    "            failed_students.append(student)\n",
    "    return failed_students\n",
    "\n",
    "for subject in subjects:\n",
    "    print(f\"Students failed in {subject}:\", students_failed_subject(grades, subject))\n"
   ]
  },
  {
   "cell_type": "code",
   "execution_count": null,
   "metadata": {},
   "outputs": [
    {
     "name": "stdout",
     "output_type": "stream",
     "text": [
      "Overall best performing student: Alice\n"
     ]
    }
   ],
   "source": [
    "def overall_performance(grades_dict):\n",
    "    best_student = max(grades_dict, key=lambda student: average_grade(grades_dict[student]))\n",
    "    return best_student\n",
    "\n",
    "print(\"Overall best performing student:\", overall_performance(grades))"
   ]
  },
  {
   "cell_type": "markdown",
   "metadata": {},
   "source": [
    "## **Question:**\n",
    "\n",
    "Write a Python function Role that, given an actor's name, determines and prints the roles (Hero, Heroine, Villain) played by that actor in various movies from a predefined dictionary, considering the priority of roles as Hero > Heroine > Villain.\n",
    "\n",
    "**Hints**\n",
    "\n",
    "- Start by defining the Role function with one parameter, Name_of_actor.\n",
    "- Create a dictionary called movies with movie names as keys and lists of actors as values.\n",
    "- Initialize three empty lists: Hero, Heroine, and Villain to store the roles played by the actor.\n",
    "- Use a loop to iterate through the movies dictionary.\n",
    "- Within the loop, check if the Name_of_actor exists in the list of actors for each movie.\n",
    "- If the actor is found, determine their role in that movie (Hero, Heroine, or Villain) based on their index in the actors list.\n",
    "- Append the movie name to the corresponding role list.\n",
    "- After iterating through all movies, check if the actor played any roles and print out the roles along with the movie names.\n",
    "- Test the function with different actor names to ensure it works correctly."
   ]
  },
  {
   "cell_type": "code",
   "execution_count": null,
   "metadata": {},
   "outputs": [
    {
     "name": "stdout",
     "output_type": "stream",
     "text": [
      "Movies of Sanjay Dutt: KGF2, Khalnayak, MunnaBhaiMBBS\n"
     ]
    }
   ],
   "source": [
    "def find_movies(actor_name):\n",
    "    movies = {\n",
    "        'Darr': ['sunny', 'juhi', 'sharukh'],\n",
    "        'Bahubali': ['prabhas', 'Anushka', 'Rana'],\n",
    "        'Baazigar': ['Ajay', 'Kajol', 'sharukh'],\n",
    "        'KGF2': ['Yash', 'srinidhi', 'Sanjay Dutt'],\n",
    "        'Khalnayak': ['Jackie', 'Madhuri', 'Sanjay Dutt'],\n",
    "        'DDLJ': ['Sharukh', 'kajol', 'amrish puri'],\n",
    "        'MunnaBhaiMBBS': ['Sanjay Dutt', 'Gracy Singh', 'Boman Irani']\n",
    "    }\n",
    "\n",
    "    movies_of_actor = []\n",
    "    \n",
    "    for movie, actors in movies.items():\n",
    "        if actor_name in actors:\n",
    "            movies_of_actor.append(movie)\n",
    "\n",
    "    if movies_of_actor:\n",
    "        print(f\"Movies of {actor_name}: {', '.join(movies_of_actor)}\")\n",
    "    else:\n",
    "        print(f\"{actor_name} has not acted in any of the listed movies.\")\n",
    "\n",
    "# Example usage:\n",
    "find_movies('Sanjay Dutt')"
   ]
  },
  {
   "cell_type": "code",
   "execution_count": null,
   "metadata": {},
   "outputs": [],
   "source": [
    "def Role(Name_of_actor):\n",
    "    movies = {\n",
    "        'Darr': ['sunny', 'juhi', 'sharukh'],\n",
    "        'Bahubali': ['prabhas', 'Anushka', 'Rana'],\n",
    "        'Baazigar': ['Ajay', 'Kajol', 'sharukh'],\n",
    "        'KGF2': ['Yash', 'srinidhi', 'Sanjay Dutt'],\n",
    "        'Khalnayak': ['Jackie', 'Madhuri', 'Sanjay Dutt'],\n",
    "        'DDLJ': ['Sharukh', 'kajol', 'amrish puri'],\n",
    "        'MunnaBhaiMBBS': ['Sanjay Dutt', 'Gracy Singh', 'Boman Irani']\n",
    "    }\n",
    "\n",
    "    Hero = []\n",
    "    Heroine = []\n",
    "    Villain = []\n",
    "\n",
    "    for movie, actors in movies.items():\n",
    "        if Name_of_actor in actors:\n",
    "            if actors.index(Name_of_actor) == 0:\n",
    "                Hero.append(movie)\n",
    "            elif actors.index(Name_of_actor) == len(actors) - 1:\n",
    "                Villain.append(movie)\n",
    "            else:\n",
    "                Heroine.append(movie)\n",
    "\n",
    "    if Hero:\n",
    "        print(Name_of_actor + \" acted as Hero in \" + \", \".join(Hero))\n",
    "    if Heroine:\n",
    "        print(Name_of_actor + \" acted as Heroine in \" + \", \".join(Heroine))\n",
    "    if Villain:\n",
    "        print(Name_of_actor + \" acted as Villain in \" + \", \".join(Villain))\n"
   ]
  },
  {
   "cell_type": "code",
   "execution_count": null,
   "metadata": {},
   "outputs": [
    {
     "name": "stdout",
     "output_type": "stream",
     "text": [
      "Sanjay Dutt acted as Hero in MunnaBhaiMBBS\n",
      "Sanjay Dutt acted as Villain in KGF2, Khalnayak\n"
     ]
    }
   ],
   "source": [
    "Role('Sanjay Dutt')"
   ]
  }
 ],
 "metadata": {
  "language_info": {
   "name": "python"
  }
 },
 "nbformat": 4,
 "nbformat_minor": 2
}
