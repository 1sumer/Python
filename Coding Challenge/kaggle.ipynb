{
 "cells": [
  {
   "attachments": {},
   "cell_type": "markdown",
   "id": "0fc1c76a",
   "metadata": {},
   "source": [
    "# Kaggle Python"
   ]
  },
  {
   "cell_type": "code",
   "execution_count": 1,
   "id": "7644505f",
   "metadata": {},
   "outputs": [
    {
     "name": "stdout",
     "output_type": "stream",
     "text": [
      "0\n",
      "But I don't want ANY spam!\n",
      "Spam Spam Spam Spam \n"
     ]
    }
   ],
   "source": [
    "spam_amount = 0\n",
    "print(spam_amount)\n",
    "\n",
    "# Ordering Spam, egg, Spam, Spam, bacon and Spam (4 more servings of Spam)\n",
    "spam_amount = spam_amount + 4\n",
    "\n",
    "if spam_amount > 0:\n",
    "    print(\"But I don't want ANY spam!\")\n",
    "\n",
    "viking_song = \"Spam \" * spam_amount\n",
    "print(viking_song)"
   ]
  },
  {
   "cell_type": "code",
   "execution_count": 2,
   "id": "80438cea",
   "metadata": {},
   "outputs": [
    {
     "name": "stdout",
     "output_type": "stream",
     "text": [
      "4\n"
     ]
    }
   ],
   "source": [
    "print(spam_amount)"
   ]
  },
  {
   "cell_type": "code",
   "execution_count": 3,
   "id": "85969115",
   "metadata": {},
   "outputs": [],
   "source": [
    "# Ordering Spam, egg, Spam, Spam, bacon and Spam (4 more servings of Spam)\n",
    "spam_amount = spam_amount + 4"
   ]
  },
  {
   "cell_type": "code",
   "execution_count": 4,
   "id": "7918aa25",
   "metadata": {},
   "outputs": [
    {
     "name": "stdout",
     "output_type": "stream",
     "text": [
      "But I don't want ANY spam!\n",
      "Spam Spam Spam\n"
     ]
    }
   ],
   "source": [
    "if spam_amount > 0:\n",
    "    print(\"But I don't want ANY spam!\")\n",
    "\n",
    "viking_song = \"Spam Spam Spam\"\n",
    "print(viking_song)"
   ]
  },
  {
   "cell_type": "code",
   "execution_count": 5,
   "id": "d0903b5f",
   "metadata": {},
   "outputs": [
    {
     "name": "stdout",
     "output_type": "stream",
     "text": [
      "Spam Spam Spam Spam Spam Spam Spam Spam \n"
     ]
    }
   ],
   "source": [
    "viking_song = \"Spam \" * spam_amount\n",
    "print(viking_song)"
   ]
  },
  {
   "cell_type": "code",
   "execution_count": 6,
   "id": "477208c5",
   "metadata": {},
   "outputs": [
    {
     "data": {
      "text/plain": [
       "int"
      ]
     },
     "execution_count": 6,
     "metadata": {},
     "output_type": "execute_result"
    }
   ],
   "source": [
    "spam_amount = 0\n",
    "type(spam_amount)"
   ]
  },
  {
   "cell_type": "code",
   "execution_count": 7,
   "id": "4030deb3",
   "metadata": {},
   "outputs": [],
   "source": [
    "\n",
    "#Complete the code below. In case it's helpful, here is the table of available arithmetic operations:\n",
    "\n",
    "#Operator\tName\t    Description\n",
    "#a + b\tAddition\t    Sum of a and b\n",
    "#a - b\tSubtraction\t    Difference of a and b\n",
    "#a * b\tMultiplication\tProduct of a and b\n",
    "#a / b\tTrue division\tQuotient of a and b\n",
    "#a // b\tFloor division\tQuotient of a and b, removing fractional parts\n",
    "#a % b\tModulus\tInteger remainder after division of a by b\n",
    "#a ** b\tExponentiation\ta raised to the power of b\n",
    "#-a\t    Negation\t    The negative of a"
   ]
  },
  {
   "cell_type": "code",
   "execution_count": 8,
   "id": "3a0fcb08",
   "metadata": {},
   "outputs": [
    {
     "data": {
      "text/plain": [
       "float"
      ]
     },
     "execution_count": 8,
     "metadata": {},
     "output_type": "execute_result"
    }
   ],
   "source": [
    "type(19.95)"
   ]
  },
  {
   "cell_type": "code",
   "execution_count": 9,
   "id": "e977c788",
   "metadata": {},
   "outputs": [
    {
     "name": "stdout",
     "output_type": "stream",
     "text": [
      "2.5\n",
      "3.0\n"
     ]
    }
   ],
   "source": [
    "print(5 / 2)\n",
    "print(6 / 2)"
   ]
  },
  {
   "attachments": {},
   "cell_type": "markdown",
   "id": "3bf86fe3",
   "metadata": {},
   "source": [
    "The // operator gives us a result that's rounded down to the next integer."
   ]
  },
  {
   "cell_type": "code",
   "execution_count": 10,
   "id": "e59ec041",
   "metadata": {},
   "outputs": [
    {
     "name": "stdout",
     "output_type": "stream",
     "text": [
      "2\n",
      "3\n"
     ]
    }
   ],
   "source": [
    "print(5 // 2)\n",
    "print(6 // 2)"
   ]
  },
  {
   "cell_type": "code",
   "execution_count": 11,
   "id": "e1ab2eca",
   "metadata": {},
   "outputs": [
    {
     "name": "stdout",
     "output_type": "stream",
     "text": [
      "Height in meters = 26.9\n"
     ]
    }
   ],
   "source": [
    "hat_height_cm = 25\n",
    "my_height_cm = 190\n",
    "# How tall am I, in meters, when wearing my hat?\n",
    "total_height_meters = hat_height_cm + my_height_cm / 100\n",
    "print(\"Height in meters =\", total_height_meters)"
   ]
  },
  {
   "attachments": {},
   "cell_type": "markdown",
   "id": "4f1b6242",
   "metadata": {},
   "source": [
    "Builtin functions for working with numbers\n",
    "\n",
    "min and max return the minimum and maximum of their arguments, respectively..."
   ]
  },
  {
   "cell_type": "code",
   "execution_count": 12,
   "id": "8e33b703",
   "metadata": {},
   "outputs": [
    {
     "name": "stdout",
     "output_type": "stream",
     "text": [
      "1\n",
      "3\n"
     ]
    }
   ],
   "source": [
    "print(min(1, 2, 3))\n",
    "print(max(1, 2, 3))"
   ]
  },
  {
   "attachments": {},
   "cell_type": "markdown",
   "id": "4dd75f47",
   "metadata": {},
   "source": [
    "abs returns the absolute value of an argument:"
   ]
  },
  {
   "cell_type": "code",
   "execution_count": 13,
   "id": "aa0a4c70",
   "metadata": {},
   "outputs": [
    {
     "name": "stdout",
     "output_type": "stream",
     "text": [
      "32\n",
      "32\n"
     ]
    }
   ],
   "source": [
    "print(abs(32))\n",
    "print(abs(-32))"
   ]
  },
  {
   "attachments": {},
   "cell_type": "markdown",
   "id": "7cf0185d",
   "metadata": {},
   "source": [
    "In addition to being the names of Python's two main numerical types, int and float can also be called as functions which convert their arguments to the corresponding type:"
   ]
  },
  {
   "cell_type": "code",
   "execution_count": 14,
   "id": "79200263",
   "metadata": {},
   "outputs": [
    {
     "name": "stdout",
     "output_type": "stream",
     "text": [
      "10.0\n",
      "3\n",
      "808\n"
     ]
    }
   ],
   "source": [
    "print(float(10))\n",
    "print(int(3.33))\n",
    "# They can even be called on strings!\n",
    "print(int('807') + 1)"
   ]
  },
  {
   "attachments": {},
   "cell_type": "markdown",
   "id": "84ea735d",
   "metadata": {},
   "source": [
    "The help() function is possibly the most important Python function you can learn. If you can remember how to use help(), you hold the key to understanding most other functions.\n",
    "\n",
    "Here is an example:"
   ]
  },
  {
   "cell_type": "code",
   "execution_count": 15,
   "id": "e8168e6a",
   "metadata": {},
   "outputs": [
    {
     "name": "stdout",
     "output_type": "stream",
     "text": [
      "Help on built-in function round in module builtins:\n",
      "\n",
      "round(number, ndigits=None)\n",
      "    Round a number to a given precision in decimal digits.\n",
      "    \n",
      "    The return value is an integer if ndigits is omitted or None.  Otherwise\n",
      "    the return value has the same type as the number.  ndigits may be negative.\n",
      "\n"
     ]
    }
   ],
   "source": [
    "help(round)"
   ]
  },
  {
   "cell_type": "code",
   "execution_count": 16,
   "id": "4e629e86",
   "metadata": {},
   "outputs": [
    {
     "name": "stdout",
     "output_type": "stream",
     "text": [
      "Help on int object:\n",
      "\n",
      "class int(object)\n",
      " |  int([x]) -> integer\n",
      " |  int(x, base=10) -> integer\n",
      " |  \n",
      " |  Convert a number or string to an integer, or return 0 if no arguments\n",
      " |  are given.  If x is a number, return x.__int__().  For floating point\n",
      " |  numbers, this truncates towards zero.\n",
      " |  \n",
      " |  If x is not a number or if base is given, then x must be a string,\n",
      " |  bytes, or bytearray instance representing an integer literal in the\n",
      " |  given base.  The literal can be preceded by '+' or '-' and be surrounded\n",
      " |  by whitespace.  The base defaults to 10.  Valid bases are 0 and 2-36.\n",
      " |  Base 0 means to interpret the base from the string as an integer literal.\n",
      " |  >>> int('0b100', base=0)\n",
      " |  4\n",
      " |  \n",
      " |  Built-in subclasses:\n",
      " |      bool\n",
      " |  \n",
      " |  Methods defined here:\n",
      " |  \n",
      " |  __abs__(self, /)\n",
      " |      abs(self)\n",
      " |  \n",
      " |  __add__(self, value, /)\n",
      " |      Return self+value.\n",
      " |  \n",
      " |  __and__(self, value, /)\n",
      " |      Return self&value.\n",
      " |  \n",
      " |  __bool__(self, /)\n",
      " |      True if self else False\n",
      " |  \n",
      " |  __ceil__(...)\n",
      " |      Ceiling of an Integral returns itself.\n",
      " |  \n",
      " |  __divmod__(self, value, /)\n",
      " |      Return divmod(self, value).\n",
      " |  \n",
      " |  __eq__(self, value, /)\n",
      " |      Return self==value.\n",
      " |  \n",
      " |  __float__(self, /)\n",
      " |      float(self)\n",
      " |  \n",
      " |  __floor__(...)\n",
      " |      Flooring an Integral returns itself.\n",
      " |  \n",
      " |  __floordiv__(self, value, /)\n",
      " |      Return self//value.\n",
      " |  \n",
      " |  __format__(self, format_spec, /)\n",
      " |      Default object formatter.\n",
      " |  \n",
      " |  __ge__(self, value, /)\n",
      " |      Return self>=value.\n",
      " |  \n",
      " |  __getattribute__(self, name, /)\n",
      " |      Return getattr(self, name).\n",
      " |  \n",
      " |  __getnewargs__(self, /)\n",
      " |  \n",
      " |  __gt__(self, value, /)\n",
      " |      Return self>value.\n",
      " |  \n",
      " |  __hash__(self, /)\n",
      " |      Return hash(self).\n",
      " |  \n",
      " |  __index__(self, /)\n",
      " |      Return self converted to an integer, if self is suitable for use as an index into a list.\n",
      " |  \n",
      " |  __int__(self, /)\n",
      " |      int(self)\n",
      " |  \n",
      " |  __invert__(self, /)\n",
      " |      ~self\n",
      " |  \n",
      " |  __le__(self, value, /)\n",
      " |      Return self<=value.\n",
      " |  \n",
      " |  __lshift__(self, value, /)\n",
      " |      Return self<<value.\n",
      " |  \n",
      " |  __lt__(self, value, /)\n",
      " |      Return self<value.\n",
      " |  \n",
      " |  __mod__(self, value, /)\n",
      " |      Return self%value.\n",
      " |  \n",
      " |  __mul__(self, value, /)\n",
      " |      Return self*value.\n",
      " |  \n",
      " |  __ne__(self, value, /)\n",
      " |      Return self!=value.\n",
      " |  \n",
      " |  __neg__(self, /)\n",
      " |      -self\n",
      " |  \n",
      " |  __or__(self, value, /)\n",
      " |      Return self|value.\n",
      " |  \n",
      " |  __pos__(self, /)\n",
      " |      +self\n",
      " |  \n",
      " |  __pow__(self, value, mod=None, /)\n",
      " |      Return pow(self, value, mod).\n",
      " |  \n",
      " |  __radd__(self, value, /)\n",
      " |      Return value+self.\n",
      " |  \n",
      " |  __rand__(self, value, /)\n",
      " |      Return value&self.\n",
      " |  \n",
      " |  __rdivmod__(self, value, /)\n",
      " |      Return divmod(value, self).\n",
      " |  \n",
      " |  __repr__(self, /)\n",
      " |      Return repr(self).\n",
      " |  \n",
      " |  __rfloordiv__(self, value, /)\n",
      " |      Return value//self.\n",
      " |  \n",
      " |  __rlshift__(self, value, /)\n",
      " |      Return value<<self.\n",
      " |  \n",
      " |  __rmod__(self, value, /)\n",
      " |      Return value%self.\n",
      " |  \n",
      " |  __rmul__(self, value, /)\n",
      " |      Return value*self.\n",
      " |  \n",
      " |  __ror__(self, value, /)\n",
      " |      Return value|self.\n",
      " |  \n",
      " |  __round__(...)\n",
      " |      Rounding an Integral returns itself.\n",
      " |      \n",
      " |      Rounding with an ndigits argument also returns an integer.\n",
      " |  \n",
      " |  __rpow__(self, value, mod=None, /)\n",
      " |      Return pow(value, self, mod).\n",
      " |  \n",
      " |  __rrshift__(self, value, /)\n",
      " |      Return value>>self.\n",
      " |  \n",
      " |  __rshift__(self, value, /)\n",
      " |      Return self>>value.\n",
      " |  \n",
      " |  __rsub__(self, value, /)\n",
      " |      Return value-self.\n",
      " |  \n",
      " |  __rtruediv__(self, value, /)\n",
      " |      Return value/self.\n",
      " |  \n",
      " |  __rxor__(self, value, /)\n",
      " |      Return value^self.\n",
      " |  \n",
      " |  __sizeof__(self, /)\n",
      " |      Returns size in memory, in bytes.\n",
      " |  \n",
      " |  __sub__(self, value, /)\n",
      " |      Return self-value.\n",
      " |  \n",
      " |  __truediv__(self, value, /)\n",
      " |      Return self/value.\n",
      " |  \n",
      " |  __trunc__(...)\n",
      " |      Truncating an Integral returns itself.\n",
      " |  \n",
      " |  __xor__(self, value, /)\n",
      " |      Return self^value.\n",
      " |  \n",
      " |  as_integer_ratio(self, /)\n",
      " |      Return integer ratio.\n",
      " |      \n",
      " |      Return a pair of integers, whose ratio is exactly equal to the original int\n",
      " |      and with a positive denominator.\n",
      " |      \n",
      " |      >>> (10).as_integer_ratio()\n",
      " |      (10, 1)\n",
      " |      >>> (-10).as_integer_ratio()\n",
      " |      (-10, 1)\n",
      " |      >>> (0).as_integer_ratio()\n",
      " |      (0, 1)\n",
      " |  \n",
      " |  bit_count(self, /)\n",
      " |      Number of ones in the binary representation of the absolute value of self.\n",
      " |      \n",
      " |      Also known as the population count.\n",
      " |      \n",
      " |      >>> bin(13)\n",
      " |      '0b1101'\n",
      " |      >>> (13).bit_count()\n",
      " |      3\n",
      " |  \n",
      " |  bit_length(self, /)\n",
      " |      Number of bits necessary to represent self in binary.\n",
      " |      \n",
      " |      >>> bin(37)\n",
      " |      '0b100101'\n",
      " |      >>> (37).bit_length()\n",
      " |      6\n",
      " |  \n",
      " |  conjugate(...)\n",
      " |      Returns self, the complex conjugate of any int.\n",
      " |  \n",
      " |  to_bytes(self, /, length=1, byteorder='big', *, signed=False)\n",
      " |      Return an array of bytes representing an integer.\n",
      " |      \n",
      " |      length\n",
      " |        Length of bytes object to use.  An OverflowError is raised if the\n",
      " |        integer is not representable with the given number of bytes.  Default\n",
      " |        is length 1.\n",
      " |      byteorder\n",
      " |        The byte order used to represent the integer.  If byteorder is 'big',\n",
      " |        the most significant byte is at the beginning of the byte array.  If\n",
      " |        byteorder is 'little', the most significant byte is at the end of the\n",
      " |        byte array.  To request the native byte order of the host system, use\n",
      " |        `sys.byteorder' as the byte order value.  Default is to use 'big'.\n",
      " |      signed\n",
      " |        Determines whether two's complement is used to represent the integer.\n",
      " |        If signed is False and a negative integer is given, an OverflowError\n",
      " |        is raised.\n",
      " |  \n",
      " |  ----------------------------------------------------------------------\n",
      " |  Class methods defined here:\n",
      " |  \n",
      " |  from_bytes(bytes, byteorder='big', *, signed=False) from builtins.type\n",
      " |      Return the integer represented by the given array of bytes.\n",
      " |      \n",
      " |      bytes\n",
      " |        Holds the array of bytes to convert.  The argument must either\n",
      " |        support the buffer protocol or be an iterable object producing bytes.\n",
      " |        Bytes and bytearray are examples of built-in objects that support the\n",
      " |        buffer protocol.\n",
      " |      byteorder\n",
      " |        The byte order used to represent the integer.  If byteorder is 'big',\n",
      " |        the most significant byte is at the beginning of the byte array.  If\n",
      " |        byteorder is 'little', the most significant byte is at the end of the\n",
      " |        byte array.  To request the native byte order of the host system, use\n",
      " |        `sys.byteorder' as the byte order value.  Default is to use 'big'.\n",
      " |      signed\n",
      " |        Indicates whether two's complement is used to represent the integer.\n",
      " |  \n",
      " |  ----------------------------------------------------------------------\n",
      " |  Static methods defined here:\n",
      " |  \n",
      " |  __new__(*args, **kwargs) from builtins.type\n",
      " |      Create and return a new object.  See help(type) for accurate signature.\n",
      " |  \n",
      " |  ----------------------------------------------------------------------\n",
      " |  Data descriptors defined here:\n",
      " |  \n",
      " |  denominator\n",
      " |      the denominator of a rational number in lowest terms\n",
      " |  \n",
      " |  imag\n",
      " |      the imaginary part of a complex number\n",
      " |  \n",
      " |  numerator\n",
      " |      the numerator of a rational number in lowest terms\n",
      " |  \n",
      " |  real\n",
      " |      the real part of a complex number\n",
      "\n"
     ]
    }
   ],
   "source": [
    "help(round(-2.01))"
   ]
  },
  {
   "cell_type": "code",
   "execution_count": 17,
   "id": "2b3604ab",
   "metadata": {},
   "outputs": [
    {
     "name": "stdout",
     "output_type": "stream",
     "text": [
      "Help on built-in function print in module builtins:\n",
      "\n",
      "print(*args, sep=' ', end='\\n', file=None, flush=False)\n",
      "    Prints the values to a stream, or to sys.stdout by default.\n",
      "    \n",
      "    sep\n",
      "      string inserted between values, default a space.\n",
      "    end\n",
      "      string appended after the last value, default a newline.\n",
      "    file\n",
      "      a file-like object (stream); defaults to the current sys.stdout.\n",
      "    flush\n",
      "      whether to forcibly flush the stream.\n",
      "\n"
     ]
    }
   ],
   "source": [
    "help(print)"
   ]
  },
  {
   "attachments": {},
   "cell_type": "markdown",
   "id": "64ba3262",
   "metadata": {},
   "source": [
    "**Defining functions**\n",
    "\n",
    "Builtin functions are great, but we can only get so far with them before we need to start defining our own functions. Below is a simple example."
   ]
  },
  {
   "cell_type": "code",
   "execution_count": 18,
   "id": "50629fbb",
   "metadata": {},
   "outputs": [],
   "source": [
    "def least_difference(a, b, c):\n",
    "    diff1 = abs(a - b)\n",
    "    diff2 = abs(b - c)\n",
    "    diff3 = abs(a - c)\n",
    "    return min(diff1, diff2, diff3)"
   ]
  },
  {
   "cell_type": "code",
   "execution_count": 19,
   "id": "dd5bfbc3",
   "metadata": {},
   "outputs": [
    {
     "data": {
      "text/plain": [
       "9"
      ]
     },
     "execution_count": 19,
     "metadata": {},
     "output_type": "execute_result"
    }
   ],
   "source": [
    "least_difference(1, 10, 100)\n",
    "    "
   ]
  },
  {
   "cell_type": "code",
   "execution_count": 20,
   "id": "cd899922",
   "metadata": {},
   "outputs": [
    {
     "name": "stdout",
     "output_type": "stream",
     "text": [
      "Help on function least_difference in module __main__:\n",
      "\n",
      "least_difference(a, b, c)\n",
      "\n"
     ]
    }
   ],
   "source": [
    "help(least_difference)"
   ]
  },
  {
   "attachments": {},
   "cell_type": "markdown",
   "id": "2561bea0",
   "metadata": {},
   "source": [
    "Python isn't smart enough to read my code and turn it into a nice English description. However, when I write a function, I can provide a description in what's called the docstring."
   ]
  },
  {
   "cell_type": "code",
   "execution_count": 21,
   "id": "98d01f48",
   "metadata": {},
   "outputs": [],
   "source": [
    "def least_difference(a, b, c):\n",
    "    \"\"\"Return the smallest difference between any two numbers\n",
    "    among a, b and c.\n",
    "    \n",
    "    >>> least_difference(1, 5, -5)\n",
    "    4\n",
    "    \"\"\"\n",
    "    diff1 = abs(a - b)\n",
    "    diff2 = abs(b - c)\n",
    "    diff3 = abs(a - c)\n",
    "    return min(diff1, diff2, diff3)"
   ]
  },
  {
   "cell_type": "code",
   "execution_count": 22,
   "id": "bfa76a9d",
   "metadata": {},
   "outputs": [
    {
     "data": {
      "text/plain": [
       "4"
      ]
     },
     "execution_count": 22,
     "metadata": {},
     "output_type": "execute_result"
    }
   ],
   "source": [
    "least_difference(1, 5, -5)"
   ]
  },
  {
   "cell_type": "code",
   "execution_count": 23,
   "id": "ab7e2319",
   "metadata": {},
   "outputs": [
    {
     "name": "stdout",
     "output_type": "stream",
     "text": [
      "Help on function least_difference in module __main__:\n",
      "\n",
      "least_difference(a, b, c)\n",
      "    Return the smallest difference between any two numbers\n",
      "    among a, b and c.\n",
      "    \n",
      "    >>> least_difference(1, 5, -5)\n",
      "    4\n",
      "\n"
     ]
    }
   ],
   "source": [
    "help(least_difference)"
   ]
  },
  {
   "cell_type": "code",
   "execution_count": 24,
   "id": "396abdd8",
   "metadata": {},
   "outputs": [
    {
     "name": "stdout",
     "output_type": "stream",
     "text": [
      "None None None\n"
     ]
    }
   ],
   "source": [
    "def least_difference(a, b, c):\n",
    "    \"\"\"Return the smallest difference between any two numbers\n",
    "    among a, b and c.\n",
    "    \"\"\"\n",
    "    diff1 = abs(a - b)\n",
    "    diff2 = abs(b - c)\n",
    "    diff3 = abs(a - c)\n",
    "    min(diff1, diff2, diff3)\n",
    "    \n",
    "print(\n",
    "    least_difference(1, 10, 100),\n",
    "    least_difference(1, 10, 10),\n",
    "    least_difference(5, 6, 7),\n",
    ")"
   ]
  },
  {
   "cell_type": "code",
   "execution_count": 25,
   "id": "061e0ea7",
   "metadata": {},
   "outputs": [
    {
     "name": "stdout",
     "output_type": "stream",
     "text": [
      "1 < 2 < 3\n"
     ]
    }
   ],
   "source": [
    "print(1, 2, 3, sep=' < ')"
   ]
  },
  {
   "cell_type": "code",
   "execution_count": 26,
   "id": "70d175df",
   "metadata": {},
   "outputs": [
    {
     "name": "stdout",
     "output_type": "stream",
     "text": [
      "Hello, Colin\n",
      "Hello, Kaggle\n",
      "Hello, world\n",
      "Hello, sameer\n"
     ]
    }
   ],
   "source": [
    "def greet(who=\"Colin\"):\n",
    "    print(\"Hello,\", who)\n",
    "    \n",
    "greet()\n",
    "greet(who=\"Kaggle\")\n",
    "# (In this case, we don't need to specify the name of the argument, because it's unambiguous.)\n",
    "greet(\"world\")\n",
    "greet(\"sameer\")"
   ]
  },
  {
   "cell_type": "code",
   "execution_count": 27,
   "id": "80e2b02f",
   "metadata": {},
   "outputs": [
    {
     "name": "stdout",
     "output_type": "stream",
     "text": [
      "5\n",
      "25\n"
     ]
    }
   ],
   "source": [
    "def mult_by_five(x):\n",
    "    return 5 * x\n",
    "\n",
    "def call(fn, arg):\n",
    "    \"\"\"Call fn on arg\"\"\"\n",
    "    return fn(arg)\n",
    "\n",
    "def squared_call(fn, arg):\n",
    "    \"\"\"Call fn on the result of calling fn on arg\"\"\"\n",
    "    return fn(fn(arg))\n",
    "\n",
    "print(\n",
    "    call(mult_by_five, 1),\n",
    "    squared_call(mult_by_five, 1), \n",
    "    sep='\\n', # '\\n' is the newline character - it starts a new line\n",
    ")"
   ]
  },
  {
   "cell_type": "code",
   "execution_count": 28,
   "id": "f81cb3f5",
   "metadata": {},
   "outputs": [
    {
     "name": "stdout",
     "output_type": "stream",
     "text": [
      "Which number is biggest?\n",
      "100\n",
      "Which number is the biggest modulo 5?\n",
      "14\n"
     ]
    }
   ],
   "source": [
    "def mod_5(x):\n",
    "    \"\"\"Return the remainder of x after dividing by 5\"\"\"\n",
    "    return x % 5\n",
    "\n",
    "print(\n",
    "    'Which number is biggest?',\n",
    "    max(100, 51, 14),\n",
    "    'Which number is the biggest modulo 5?',\n",
    "    max(100, 51, 14, key=mod_5),\n",
    "    sep='\\n',\n",
    ")"
   ]
  },
  {
   "attachments": {},
   "cell_type": "markdown",
   "id": "25b36cf6",
   "metadata": {},
   "source": [
    "***Booleans***\n",
    "\n",
    "Python has a type of variable called bool. It has two possible values: True and False."
   ]
  },
  {
   "cell_type": "code",
   "execution_count": 29,
   "id": "46465f39",
   "metadata": {},
   "outputs": [
    {
     "name": "stdout",
     "output_type": "stream",
     "text": [
      "True\n",
      "<class 'bool'>\n"
     ]
    }
   ],
   "source": [
    "x = True\n",
    "print(x)\n",
    "print(type(x))"
   ]
  },
  {
   "cell_type": "raw",
   "id": "06cb4a3f",
   "metadata": {},
   "source": [
    "Comparison Operations\n",
    "Operation\t Description\t\t       Operation\tDescription\n",
    "a == b\t    a equal to b\t\t        a != b\t   a not equal to b\n",
    "a < b\t    a less than b\t\t        a > b\t   a greater than b\n",
    "a <= b\t    a less than or equal to b\ta >= b\t   a greater than or equal to b"
   ]
  },
  {
   "cell_type": "code",
   "execution_count": 30,
   "id": "fc918c50",
   "metadata": {},
   "outputs": [
    {
     "name": "stdout",
     "output_type": "stream",
     "text": [
      "Can a 19-year-old run for president? False\n",
      "Can a 45-year-old run for president? True\n"
     ]
    }
   ],
   "source": [
    "def can_run_for_president(age):\n",
    "    \"\"\"Can someone of the given age run for president in the US?\"\"\"\n",
    "    # The US Constitution says you must be at least 35 years old\n",
    "    return age >= 35\n",
    "\n",
    "print(\"Can a 19-year-old run for president?\", can_run_for_president(19))\n",
    "print(\"Can a 45-year-old run for president?\", can_run_for_president(45))"
   ]
  },
  {
   "cell_type": "code",
   "execution_count": 31,
   "id": "222fc4ed",
   "metadata": {},
   "outputs": [
    {
     "data": {
      "text/plain": [
       "True"
      ]
     },
     "execution_count": 31,
     "metadata": {},
     "output_type": "execute_result"
    }
   ],
   "source": [
    "3.0 == 3"
   ]
  },
  {
   "cell_type": "code",
   "execution_count": 32,
   "id": "8625ffb1",
   "metadata": {},
   "outputs": [
    {
     "data": {
      "text/plain": [
       "False"
      ]
     },
     "execution_count": 32,
     "metadata": {},
     "output_type": "execute_result"
    }
   ],
   "source": [
    "'3' == 3"
   ]
  },
  {
   "cell_type": "code",
   "execution_count": 33,
   "id": "694ce179",
   "metadata": {},
   "outputs": [
    {
     "name": "stdout",
     "output_type": "stream",
     "text": [
      "False\n",
      "False\n",
      "True\n"
     ]
    }
   ],
   "source": [
    "def can_run_for_president(age, is_natural_born_citizen):\n",
    "    \"\"\"Can someone of the given age and citizenship status run for president in the US?\"\"\"\n",
    "    # The US Constitution says you must be a natural born citizen *and* at least 35 years old\n",
    "    return is_natural_born_citizen and (age >= 35)\n",
    "\n",
    "print(can_run_for_president(19, True))\n",
    "print(can_run_for_president(55, False))\n",
    "print(can_run_for_president(55, True))"
   ]
  },
  {
   "cell_type": "code",
   "execution_count": 34,
   "id": "369d5ca7",
   "metadata": {},
   "outputs": [
    {
     "name": "stdout",
     "output_type": "stream",
     "text": [
      "Is 100 odd? False\n",
      "Is -1 odd? True\n"
     ]
    }
   ],
   "source": [
    "def is_odd(n):\n",
    "    return (n % 2) == 1\n",
    "\n",
    "print(\"Is 100 odd?\", is_odd(100))\n",
    "print(\"Is -1 odd?\", is_odd(-1))"
   ]
  },
  {
   "cell_type": "code",
   "execution_count": 35,
   "id": "ecf08645",
   "metadata": {},
   "outputs": [
    {
     "data": {
      "text/plain": [
       "True"
      ]
     },
     "execution_count": 35,
     "metadata": {},
     "output_type": "execute_result"
    }
   ],
   "source": [
    "True or True and False"
   ]
  },
  {
   "attachments": {},
   "cell_type": "markdown",
   "id": "1ad287f0",
   "metadata": {},
   "source": [
    "**Conditionals**\n",
    "\n",
    "Booleans are most useful when combined with conditional statements, using the keywords if, elif, and else.\n",
    "\n",
    "Conditional statements, often referred to as if-then statements, let you control what pieces of code are run based on the value of some Boolean condition. Here's an example:"
   ]
  },
  {
   "cell_type": "code",
   "execution_count": 36,
   "id": "51d4781e",
   "metadata": {},
   "outputs": [
    {
     "name": "stdout",
     "output_type": "stream",
     "text": [
      "0 is zero\n",
      "-15 is negative\n"
     ]
    }
   ],
   "source": [
    "def inspect(x):\n",
    "    if x == 0:\n",
    "        print(x, \"is zero\")\n",
    "    elif x > 0:\n",
    "        print(x, \"is positive\")\n",
    "    elif x < 0:\n",
    "        print(x, \"is negative\")\n",
    "    else:\n",
    "        print(x, \"is unlike anything I've ever seen...\")\n",
    "inspect(0)\n",
    "inspect(-15)\n"
   ]
  },
  {
   "cell_type": "code",
   "execution_count": 37,
   "id": "4cd6c912",
   "metadata": {},
   "outputs": [
    {
     "name": "stdout",
     "output_type": "stream",
     "text": [
      "Only printed when x is positive; x = 1\n",
      "Also only printed when x is positive; x = 1\n",
      "Always printed, regardless of x's value; x = 1\n",
      "Always printed, regardless of x's value; x = 0\n"
     ]
    }
   ],
   "source": [
    "def f(x):\n",
    "    if x > 0:\n",
    "        print(\"Only printed when x is positive; x =\", x)\n",
    "        print(\"Also only printed when x is positive; x =\", x)\n",
    "    print(\"Always printed, regardless of x's value; x =\", x)\n",
    "f(1)\n",
    "f(0)"
   ]
  },
  {
   "cell_type": "code",
   "execution_count": 38,
   "id": "5af77c09",
   "metadata": {
    "scrolled": true
   },
   "outputs": [
    {
     "name": "stdout",
     "output_type": "stream",
     "text": [
      "True\n",
      "False\n",
      "True\n",
      "False\n"
     ]
    }
   ],
   "source": [
    "print(bool(1)) # all numbers are treated as true, except 0\n",
    "print(bool(0))\n",
    "print(bool(\"asf\")) # all strings are treated as true, except the empty string \"\"\n",
    "print(bool(\"\"))"
   ]
  },
  {
   "attachments": {},
   "cell_type": "markdown",
   "id": "671bd952",
   "metadata": {},
   "source": [
    "**Lists**\n",
    "\n",
    "Lists in Python represent ordered sequences of values. Here is an example of how to create them:"
   ]
  },
  {
   "cell_type": "code",
   "execution_count": 39,
   "id": "23823289",
   "metadata": {},
   "outputs": [],
   "source": [
    "primes = [2, 3, 5, 7]"
   ]
  },
  {
   "cell_type": "code",
   "execution_count": 40,
   "id": "73fb4ff6",
   "metadata": {},
   "outputs": [],
   "source": [
    "planets = ['Mercury', 'Venus', 'Earth', 'Mars', 'Jupiter', 'Saturn', 'Uranus', 'Neptune']"
   ]
  },
  {
   "cell_type": "code",
   "execution_count": 41,
   "id": "cb748edc",
   "metadata": {},
   "outputs": [
    {
     "data": {
      "text/plain": [
       "'Mercury'"
      ]
     },
     "execution_count": 41,
     "metadata": {},
     "output_type": "execute_result"
    }
   ],
   "source": [
    "planets[0]"
   ]
  },
  {
   "cell_type": "code",
   "execution_count": 42,
   "id": "196a20b9",
   "metadata": {},
   "outputs": [
    {
     "data": {
      "text/plain": [
       "'Neptune'"
      ]
     },
     "execution_count": 42,
     "metadata": {},
     "output_type": "execute_result"
    }
   ],
   "source": [
    "planets[-1]"
   ]
  },
  {
   "cell_type": "code",
   "execution_count": 43,
   "id": "48cfe4e2",
   "metadata": {},
   "outputs": [
    {
     "data": {
      "text/plain": [
       "['Mercury', 'Venus', 'Earth']"
      ]
     },
     "execution_count": 43,
     "metadata": {},
     "output_type": "execute_result"
    }
   ],
   "source": [
    "planets[0:3]"
   ]
  },
  {
   "cell_type": "code",
   "execution_count": 44,
   "id": "30e10183",
   "metadata": {},
   "outputs": [
    {
     "data": {
      "text/plain": [
       "['Mars', 'Jupiter', 'Saturn', 'Uranus', 'Neptune']"
      ]
     },
     "execution_count": 44,
     "metadata": {},
     "output_type": "execute_result"
    }
   ],
   "source": [
    "planets[3:]"
   ]
  },
  {
   "cell_type": "code",
   "execution_count": 45,
   "id": "316e84c4",
   "metadata": {},
   "outputs": [
    {
     "data": {
      "text/plain": [
       "['Venus', 'Earth', 'Mars', 'Jupiter', 'Saturn', 'Uranus']"
      ]
     },
     "execution_count": 45,
     "metadata": {},
     "output_type": "execute_result"
    }
   ],
   "source": [
    "planets[1:-1]"
   ]
  },
  {
   "cell_type": "code",
   "execution_count": 46,
   "id": "f2f8de8e",
   "metadata": {},
   "outputs": [
    {
     "data": {
      "text/plain": [
       "['Mercury',\n",
       " 'Venus',\n",
       " 'Earth',\n",
       " 'Malacandra',\n",
       " 'Jupiter',\n",
       " 'Saturn',\n",
       " 'Uranus',\n",
       " 'Neptune']"
      ]
     },
     "execution_count": 46,
     "metadata": {},
     "output_type": "execute_result"
    }
   ],
   "source": [
    "planets[3] = 'Malacandra'\n",
    "planets"
   ]
  },
  {
   "cell_type": "code",
   "execution_count": 47,
   "id": "cb14cb91",
   "metadata": {},
   "outputs": [
    {
     "name": "stdout",
     "output_type": "stream",
     "text": [
      "['Mur', 'Vee', 'Ur', 'Malacandra', 'Jupiter', 'Saturn', 'Uranus', 'Neptune']\n"
     ]
    }
   ],
   "source": [
    "planets[:3] = ['Mur', 'Vee', 'Ur']\n",
    "print(planets)\n",
    "# That was silly. Let's give them back their old names\n",
    "planets[:4] = ['Mercury', 'Venus', 'Earth', 'Mars',]"
   ]
  },
  {
   "cell_type": "code",
   "execution_count": 48,
   "id": "2be0023c",
   "metadata": {},
   "outputs": [
    {
     "data": {
      "text/plain": [
       "8"
      ]
     },
     "execution_count": 48,
     "metadata": {},
     "output_type": "execute_result"
    }
   ],
   "source": [
    "len(planets)#len gives the length of a list:"
   ]
  },
  {
   "cell_type": "code",
   "execution_count": 49,
   "id": "ae573f90",
   "metadata": {},
   "outputs": [
    {
     "data": {
      "text/plain": [
       "['Earth', 'Jupiter', 'Mars', 'Mercury', 'Neptune', 'Saturn', 'Uranus', 'Venus']"
      ]
     },
     "execution_count": 49,
     "metadata": {},
     "output_type": "execute_result"
    }
   ],
   "source": [
    "# The planets sorted in alphabetical order\n",
    "sorted(planets)"
   ]
  },
  {
   "cell_type": "code",
   "execution_count": 50,
   "id": "ae28673e",
   "metadata": {},
   "outputs": [
    {
     "data": {
      "text/plain": [
       "17"
      ]
     },
     "execution_count": 50,
     "metadata": {},
     "output_type": "execute_result"
    }
   ],
   "source": [
    "primes = [2, 3, 5, 7]\n",
    "sum(primes)"
   ]
  },
  {
   "cell_type": "code",
   "execution_count": 51,
   "id": "25d021b2",
   "metadata": {},
   "outputs": [
    {
     "data": {
      "text/plain": [
       "7"
      ]
     },
     "execution_count": 51,
     "metadata": {},
     "output_type": "execute_result"
    }
   ],
   "source": [
    "max(primes)"
   ]
  },
  {
   "cell_type": "code",
   "execution_count": 52,
   "id": "ccf04bb4",
   "metadata": {},
   "outputs": [
    {
     "name": "stdout",
     "output_type": "stream",
     "text": [
      "0\n",
      "3.0\n"
     ]
    }
   ],
   "source": [
    "x = 12\n",
    "# x is a real number, so its imaginary part is 0.\n",
    "print(x.imag)\n",
    "# Here's how to make a complex number, in case you've ever been curious:\n",
    "c = 12 + 3j\n",
    "print(c.imag)"
   ]
  },
  {
   "cell_type": "code",
   "execution_count": 53,
   "id": "c04d4475",
   "metadata": {},
   "outputs": [
    {
     "data": {
      "text/plain": [
       "<function int.bit_length()>"
      ]
     },
     "execution_count": 53,
     "metadata": {},
     "output_type": "execute_result"
    }
   ],
   "source": [
    "x.bit_length"
   ]
  },
  {
   "cell_type": "code",
   "execution_count": 54,
   "id": "3972fce1",
   "metadata": {},
   "outputs": [],
   "source": [
    "#list.append modifies a list by adding an item to the end:\n",
    "\n",
    "# Pluto is a planet darn it!\n",
    "planets.append('Pluto')"
   ]
  },
  {
   "cell_type": "code",
   "execution_count": 55,
   "id": "1d0099f5",
   "metadata": {},
   "outputs": [
    {
     "name": "stdout",
     "output_type": "stream",
     "text": [
      "Help on built-in function append:\n",
      "\n",
      "append(object, /) method of builtins.list instance\n",
      "    Append object to the end of the list.\n",
      "\n"
     ]
    }
   ],
   "source": [
    "help(planets.append)"
   ]
  },
  {
   "cell_type": "code",
   "execution_count": 56,
   "id": "bf7e7b82",
   "metadata": {},
   "outputs": [
    {
     "data": {
      "text/plain": [
       "['Mercury',\n",
       " 'Venus',\n",
       " 'Earth',\n",
       " 'Mars',\n",
       " 'Jupiter',\n",
       " 'Saturn',\n",
       " 'Uranus',\n",
       " 'Neptune',\n",
       " 'Pluto']"
      ]
     },
     "execution_count": 56,
     "metadata": {},
     "output_type": "execute_result"
    }
   ],
   "source": [
    "planets"
   ]
  },
  {
   "cell_type": "code",
   "execution_count": 57,
   "id": "11f02ce7",
   "metadata": {},
   "outputs": [
    {
     "data": {
      "text/plain": [
       "['Mercury', 'Venus', 'Earth', 'Mars', 'Jupiter', 'Saturn', 'Uranus', 'Neptune']"
      ]
     },
     "execution_count": 57,
     "metadata": {},
     "output_type": "execute_result"
    }
   ],
   "source": [
    "#list.pop removes and returns the last element of a list:\n",
    "\n",
    "planets.pop()\n",
    "planets"
   ]
  },
  {
   "cell_type": "code",
   "execution_count": 58,
   "id": "b8e64802",
   "metadata": {},
   "outputs": [
    {
     "data": {
      "text/plain": [
       "2"
      ]
     },
     "execution_count": 58,
     "metadata": {},
     "output_type": "execute_result"
    }
   ],
   "source": [
    "planets.index('Earth')\n"
   ]
  },
  {
   "cell_type": "code",
   "execution_count": 59,
   "id": "77e1f980",
   "metadata": {},
   "outputs": [
    {
     "data": {
      "text/plain": [
       "True"
      ]
     },
     "execution_count": 59,
     "metadata": {},
     "output_type": "execute_result"
    }
   ],
   "source": [
    "\"Earth\" in planets"
   ]
  },
  {
   "cell_type": "code",
   "execution_count": 60,
   "id": "d525e29e",
   "metadata": {},
   "outputs": [],
   "source": [
    "t = (1, 2, 3)"
   ]
  },
  {
   "cell_type": "code",
   "execution_count": 61,
   "id": "12aa44c9",
   "metadata": {},
   "outputs": [
    {
     "data": {
      "text/plain": [
       "(1, 8)"
      ]
     },
     "execution_count": 61,
     "metadata": {},
     "output_type": "execute_result"
    }
   ],
   "source": [
    "x = 0.125\n",
    "x.as_integer_ratio()#ratio"
   ]
  },
  {
   "cell_type": "code",
   "execution_count": 62,
   "id": "8aa16fd9",
   "metadata": {},
   "outputs": [
    {
     "name": "stdout",
     "output_type": "stream",
     "text": [
      "0.125\n"
     ]
    }
   ],
   "source": [
    "numerator, denominator = x.as_integer_ratio()\n",
    "print(numerator / denominator)"
   ]
  },
  {
   "cell_type": "code",
   "execution_count": 63,
   "id": "25248b2f",
   "metadata": {},
   "outputs": [
    {
     "name": "stdout",
     "output_type": "stream",
     "text": [
      "Mercury Venus Earth Mars Jupiter Saturn Uranus Neptune "
     ]
    }
   ],
   "source": [
    "for planet in planets:\n",
    "    print(planet, end=' ')"
   ]
  },
  {
   "cell_type": "code",
   "execution_count": 64,
   "id": "cd791b68",
   "metadata": {},
   "outputs": [
    {
     "data": {
      "text/plain": [
       "2160"
      ]
     },
     "execution_count": 64,
     "metadata": {},
     "output_type": "execute_result"
    }
   ],
   "source": [
    "multiplicands = (2, 2, 2, 3, 3, 5,6)\n",
    "product = 1\n",
    "for mult in multiplicands:\n",
    "    product = product * mult\n",
    "product"
   ]
  },
  {
   "cell_type": "code",
   "execution_count": 65,
   "id": "424b72ca",
   "metadata": {},
   "outputs": [
    {
     "name": "stdout",
     "output_type": "stream",
     "text": [
      "0 1 2 3 4 5 6 7 8 9 "
     ]
    }
   ],
   "source": [
    "i = 0\n",
    "while i < 10:\n",
    "    print(i, end=' ')\n",
    "    i += 1 # increase the value of i by 1"
   ]
  },
  {
   "cell_type": "code",
   "execution_count": 66,
   "id": "9e968c45",
   "metadata": {},
   "outputs": [
    {
     "data": {
      "text/plain": [
       "[0, 1, 4, 9, 16, 25, 36, 49, 64, 81]"
      ]
     },
     "execution_count": 66,
     "metadata": {},
     "output_type": "execute_result"
    }
   ],
   "source": [
    "squares = [n**2 for n in range(10)]\n",
    "squares"
   ]
  },
  {
   "cell_type": "code",
   "execution_count": 67,
   "id": "1acaefac",
   "metadata": {},
   "outputs": [
    {
     "data": {
      "text/plain": [
       "[0, 1, 4, 9, 16, 25, 36, 49, 64, 81]"
      ]
     },
     "execution_count": 67,
     "metadata": {},
     "output_type": "execute_result"
    }
   ],
   "source": [
    "squares = []\n",
    "for n in range(10):\n",
    "    squares.append(n**2)\n",
    "squares"
   ]
  },
  {
   "cell_type": "code",
   "execution_count": 68,
   "id": "45344ac7",
   "metadata": {},
   "outputs": [
    {
     "data": {
      "text/plain": [
       "['Venus', 'Earth', 'Mars']"
      ]
     },
     "execution_count": 68,
     "metadata": {},
     "output_type": "execute_result"
    }
   ],
   "source": [
    "short_planets = [planet for planet in planets if len(planet) < 6]\n",
    "short_planets"
   ]
  },
  {
   "cell_type": "code",
   "execution_count": 69,
   "id": "130eed42",
   "metadata": {},
   "outputs": [
    {
     "data": {
      "text/plain": [
       "['VENUS!', 'EARTH!', 'MARS!']"
      ]
     },
     "execution_count": 69,
     "metadata": {},
     "output_type": "execute_result"
    }
   ],
   "source": [
    "loud_short_planets = [planet.upper() + '!' for planet in planets if len(planet) < 6]\n",
    "loud_short_planets"
   ]
  },
  {
   "cell_type": "code",
   "execution_count": 70,
   "id": "d7d35ee5",
   "metadata": {},
   "outputs": [],
   "source": [
    "def count_negatives(nums):\n",
    "    \"\"\"\n",
    "    Return the number of negative numbers in the given list.\n",
    "    \n",
    "    >>> count_negatives([5, -1, -2, 0, 3])\n",
    "    2\n",
    "    \"\"\"\n",
    "    n_negative = 0\n",
    "    for num in nums:\n",
    "        if num < 0:\n",
    "            n_negative = n_negative + 1\n",
    "    return n_negative"
   ]
  },
  {
   "cell_type": "code",
   "execution_count": 71,
   "id": "3643f958",
   "metadata": {},
   "outputs": [
    {
     "data": {
      "text/plain": [
       "True"
      ]
     },
     "execution_count": 71,
     "metadata": {},
     "output_type": "execute_result"
    }
   ],
   "source": [
    "x = 'Pluto is a planet'\n",
    "y = \"Pluto is a planet\"\n",
    "x == y"
   ]
  },
  {
   "attachments": {},
   "cell_type": "markdown",
   "id": "2a62079b",
   "metadata": {},
   "source": [
    "#What you type...\tWhat you get\texample\t                 print(example)\n",
    "#\\'\t                '\t           'What\\'s up?'\t         What's up?\n",
    "#\\\"\t                \"\t           \"That's \\\"cool\\\"\"\t     That's \"cool\"\n",
    "#\\\\\t                \\\t           \"Look, a mountain: /\\\\\"\t Look, a mountain: /\\\n",
    "#\\n\t                               \"1\\n 2 3\"\t                1 2 3"
   ]
  },
  {
   "cell_type": "code",
   "execution_count": 72,
   "id": "99c84b28",
   "metadata": {},
   "outputs": [
    {
     "name": "stdout",
     "output_type": "stream",
     "text": [
      "hello\n",
      "world\n"
     ]
    }
   ],
   "source": [
    "hello = \"hello\\nworld\"\n",
    "print(hello)"
   ]
  },
  {
   "cell_type": "code",
   "execution_count": 73,
   "id": "bda97ec0",
   "metadata": {},
   "outputs": [
    {
     "name": "stdout",
     "output_type": "stream",
     "text": [
      "hello\n",
      "world\n",
      "hellopluto"
     ]
    }
   ],
   "source": [
    "print(\"hello\")\n",
    "print(\"world\")\n",
    "print(\"hello\", end='')\n",
    "print(\"pluto\", end='')"
   ]
  },
  {
   "cell_type": "code",
   "execution_count": 74,
   "id": "bca05f5c",
   "metadata": {},
   "outputs": [
    {
     "data": {
      "text/plain": [
       "'P'"
      ]
     },
     "execution_count": 74,
     "metadata": {},
     "output_type": "execute_result"
    }
   ],
   "source": [
    "planet = 'Pluto'\n",
    "planet[0]"
   ]
  },
  {
   "cell_type": "code",
   "execution_count": 75,
   "id": "a04bc872",
   "metadata": {},
   "outputs": [
    {
     "data": {
      "text/plain": [
       "'uto'"
      ]
     },
     "execution_count": 75,
     "metadata": {},
     "output_type": "execute_result"
    }
   ],
   "source": [
    "planet[-3:]"
   ]
  },
  {
   "cell_type": "code",
   "execution_count": 76,
   "id": "c822fa0a",
   "metadata": {},
   "outputs": [
    {
     "data": {
      "text/plain": [
       "5"
      ]
     },
     "execution_count": 76,
     "metadata": {},
     "output_type": "execute_result"
    }
   ],
   "source": [
    "len(planet)"
   ]
  },
  {
   "cell_type": "code",
   "execution_count": 77,
   "id": "c044cee3",
   "metadata": {},
   "outputs": [
    {
     "data": {
      "text/plain": [
       "['P! ', 'l! ', 'u! ', 't! ', 'o! ']"
      ]
     },
     "execution_count": 77,
     "metadata": {},
     "output_type": "execute_result"
    }
   ],
   "source": [
    "[char+'! ' for char in planet]"
   ]
  },
  {
   "cell_type": "code",
   "execution_count": 2,
   "id": "eaae981e",
   "metadata": {},
   "outputs": [
    {
     "data": {
      "text/plain": [
       "'PLUTO IS A PLANET!'"
      ]
     },
     "execution_count": 2,
     "metadata": {},
     "output_type": "execute_result"
    }
   ],
   "source": [
    "claim = \"Pluto is a planet!\"\n",
    "claim.upper()"
   ]
  },
  {
   "cell_type": "code",
   "execution_count": 79,
   "id": "2b71d91c",
   "metadata": {},
   "outputs": [
    {
     "data": {
      "text/plain": [
       "'pluto is a planet!'"
      ]
     },
     "execution_count": 79,
     "metadata": {},
     "output_type": "execute_result"
    }
   ],
   "source": [
    "claim.lower()"
   ]
  },
  {
   "cell_type": "code",
   "execution_count": 80,
   "id": "2f57dde0",
   "metadata": {},
   "outputs": [
    {
     "data": {
      "text/plain": [
       "11"
      ]
     },
     "execution_count": 80,
     "metadata": {},
     "output_type": "execute_result"
    }
   ],
   "source": [
    "claim.index('plan')"
   ]
  },
  {
   "cell_type": "code",
   "execution_count": 5,
   "id": "8588a52c",
   "metadata": {},
   "outputs": [
    {
     "data": {
      "text/plain": [
       "['Pluto', 'is', 'a', 'planet!']"
      ]
     },
     "execution_count": 5,
     "metadata": {},
     "output_type": "execute_result"
    }
   ],
   "source": [
    "words = claim.split()\n",
    "words"
   ]
  },
  {
   "cell_type": "code",
   "execution_count": 1,
   "id": "ff94fa7a",
   "metadata": {},
   "outputs": [],
   "source": [
    "datestr = '1956-01-31'\n",
    "year, month, day = datestr.split('-')"
   ]
  },
  {
   "cell_type": "code",
   "execution_count": 83,
   "id": "1941a000",
   "metadata": {},
   "outputs": [
    {
     "data": {
      "text/plain": [
       "'01/31/1956'"
      ]
     },
     "execution_count": 83,
     "metadata": {},
     "output_type": "execute_result"
    }
   ],
   "source": [
    "'/'.join([month, day, year])"
   ]
  },
  {
   "cell_type": "code",
   "execution_count": 84,
   "id": "cb686c62",
   "metadata": {},
   "outputs": [
    {
     "data": {
      "text/plain": [
       "\"Pluto, you'll always be the 1th planet to me.\""
      ]
     },
     "execution_count": 84,
     "metadata": {},
     "output_type": "execute_result"
    }
   ],
   "source": [
    "planet + \", you'll always be the \" + str(1) + \"th planet to me.\""
   ]
  },
  {
   "cell_type": "code",
   "execution_count": 85,
   "id": "cdf784a5",
   "metadata": {},
   "outputs": [
    {
     "data": {
      "text/plain": [
       "\"Pluto, you'll always be the 8th planet to me.\""
      ]
     },
     "execution_count": 85,
     "metadata": {},
     "output_type": "execute_result"
    }
   ],
   "source": [
    "\"{}, you'll always be the {}th planet to me.\".format(planet, 8)"
   ]
  },
  {
   "cell_type": "code",
   "execution_count": 86,
   "id": "d2db3e43",
   "metadata": {},
   "outputs": [
    {
     "data": {
      "text/plain": [
       "\"Pluto weighs about 1.3e+22 kilograms (0.218% of Earth's mass). It is home to 52,910,390 Plutonians.\""
      ]
     },
     "execution_count": 86,
     "metadata": {},
     "output_type": "execute_result"
    }
   ],
   "source": [
    "pluto_mass = 1.303 * 10**22\n",
    "earth_mass = 5.9722 * 10**24\n",
    "population = 52910390\n",
    "#         2 decimal points   3 decimal points, format as percent     separate with commas\n",
    "\"{} weighs about {:.2} kilograms ({:.3%} of Earth's mass). It is home to {:,} Plutonians.\".format(\n",
    "    planet, pluto_mass, pluto_mass / earth_mass, population,\n",
    ")"
   ]
  },
  {
   "cell_type": "code",
   "execution_count": 87,
   "id": "796c99bf",
   "metadata": {},
   "outputs": [
    {
     "name": "stdout",
     "output_type": "stream",
     "text": [
      "Pluto's a planet.\n",
      "No, it's a dwarf planet.\n",
      "planet!\n",
      "dwarf planet!\n"
     ]
    }
   ],
   "source": [
    "s = \"\"\"Pluto's a {0}.\n",
    "No, it's a {1}.\n",
    "{0}!\n",
    "{1}!\"\"\".format('planet', 'dwarf planet')\n",
    "print(s)"
   ]
  },
  {
   "cell_type": "code",
   "execution_count": 88,
   "id": "fc553baf",
   "metadata": {},
   "outputs": [],
   "source": [
    "numbers = {'one':1, 'two':2, 'three':3}"
   ]
  },
  {
   "cell_type": "code",
   "execution_count": 89,
   "id": "4dad0193",
   "metadata": {},
   "outputs": [
    {
     "data": {
      "text/plain": [
       "1"
      ]
     },
     "execution_count": 89,
     "metadata": {},
     "output_type": "execute_result"
    }
   ],
   "source": [
    "numbers['one']"
   ]
  },
  {
   "cell_type": "code",
   "execution_count": 90,
   "id": "f5ea9ba5",
   "metadata": {},
   "outputs": [
    {
     "data": {
      "text/plain": [
       "{'one': 1, 'two': 2, 'three': 3, 'eleven': 11}"
      ]
     },
     "execution_count": 90,
     "metadata": {},
     "output_type": "execute_result"
    }
   ],
   "source": [
    "numbers['eleven'] = 11\n",
    "numbers"
   ]
  },
  {
   "cell_type": "code",
   "execution_count": 91,
   "id": "cfebdd82",
   "metadata": {},
   "outputs": [
    {
     "data": {
      "text/plain": [
       "{'Mercury': 'M',\n",
       " 'Venus': 'V',\n",
       " 'Earth': 'E',\n",
       " 'Mars': 'M',\n",
       " 'Jupiter': 'J',\n",
       " 'Saturn': 'S',\n",
       " 'Uranus': 'U',\n",
       " 'Neptune': 'N'}"
      ]
     },
     "execution_count": 91,
     "metadata": {},
     "output_type": "execute_result"
    }
   ],
   "source": [
    "planets = ['Mercury', 'Venus', 'Earth', 'Mars', 'Jupiter', 'Saturn', 'Uranus', 'Neptune']\n",
    "planet_to_initial = {planet: planet[0] for planet in planets}\n",
    "planet_to_initial"
   ]
  },
  {
   "cell_type": "code",
   "execution_count": 92,
   "id": "ac4c9c29",
   "metadata": {},
   "outputs": [
    {
     "name": "stdout",
     "output_type": "stream",
     "text": [
      "one = 1\n",
      "two = 2\n",
      "three = 3\n",
      "eleven = 11\n"
     ]
    }
   ],
   "source": [
    "for k in numbers:\n",
    "    print(\"{} = {}\".format(k, numbers[k]))"
   ]
  },
  {
   "cell_type": "code",
   "execution_count": 93,
   "id": "4f51aef9",
   "metadata": {},
   "outputs": [
    {
     "data": {
      "text/plain": [
       "'E J M M N S U V'"
      ]
     },
     "execution_count": 93,
     "metadata": {},
     "output_type": "execute_result"
    }
   ],
   "source": [
    "' '.join(sorted(planet_to_initial.values()))"
   ]
  },
  {
   "cell_type": "code",
   "execution_count": 94,
   "id": "761872e8",
   "metadata": {},
   "outputs": [
    {
     "name": "stdout",
     "output_type": "stream",
     "text": [
      "   Mercury begins with \"M\"\n",
      "     Venus begins with \"V\"\n",
      "     Earth begins with \"E\"\n",
      "      Mars begins with \"M\"\n",
      "   Jupiter begins with \"J\"\n",
      "    Saturn begins with \"S\"\n",
      "    Uranus begins with \"U\"\n",
      "   Neptune begins with \"N\"\n"
     ]
    }
   ],
   "source": [
    "for planet, initial in planet_to_initial.items():\n",
    "    print(\"{} begins with \\\"{}\\\"\".format(planet.rjust(10), initial))"
   ]
  },
  {
   "cell_type": "code",
   "execution_count": 95,
   "id": "0d230ea5",
   "metadata": {},
   "outputs": [
    {
     "name": "stdout",
     "output_type": "stream",
     "text": [
      "It's math! It has type <class 'module'>\n"
     ]
    }
   ],
   "source": [
    "import math\n",
    "\n",
    "print(\"It's math! It has type {}\".format(type(math)))"
   ]
  },
  {
   "cell_type": "code",
   "execution_count": 96,
   "id": "cb158b60",
   "metadata": {},
   "outputs": [
    {
     "name": "stdout",
     "output_type": "stream",
     "text": [
      "['__doc__', '__loader__', '__name__', '__package__', '__spec__', 'acos', 'acosh', 'asin', 'asinh', 'atan', 'atan2', 'atanh', 'cbrt', 'ceil', 'comb', 'copysign', 'cos', 'cosh', 'degrees', 'dist', 'e', 'erf', 'erfc', 'exp', 'exp2', 'expm1', 'fabs', 'factorial', 'floor', 'fmod', 'frexp', 'fsum', 'gamma', 'gcd', 'hypot', 'inf', 'isclose', 'isfinite', 'isinf', 'isnan', 'isqrt', 'lcm', 'ldexp', 'lgamma', 'log', 'log10', 'log1p', 'log2', 'modf', 'nan', 'nextafter', 'perm', 'pi', 'pow', 'prod', 'radians', 'remainder', 'sin', 'sinh', 'sqrt', 'tan', 'tanh', 'tau', 'trunc', 'ulp']\n"
     ]
    }
   ],
   "source": [
    "print(dir(math))"
   ]
  },
  {
   "cell_type": "code",
   "execution_count": 97,
   "id": "05f1a123",
   "metadata": {},
   "outputs": [
    {
     "data": {
      "text/plain": [
       "5.0"
      ]
     },
     "execution_count": 97,
     "metadata": {},
     "output_type": "execute_result"
    }
   ],
   "source": [
    "math.log(32, 2)"
   ]
  },
  {
   "cell_type": "code",
   "execution_count": 98,
   "id": "7c25faca",
   "metadata": {},
   "outputs": [
    {
     "data": {
      "text/plain": [
       "3.141592653589793"
      ]
     },
     "execution_count": 98,
     "metadata": {},
     "output_type": "execute_result"
    }
   ],
   "source": [
    "import math as mt\n",
    "mt.pi"
   ]
  },
  {
   "cell_type": "code",
   "execution_count": 99,
   "id": "13500582",
   "metadata": {},
   "outputs": [
    {
     "name": "stdout",
     "output_type": "stream",
     "text": [
      "3.141592653589793 5.0\n"
     ]
    }
   ],
   "source": [
    "from math import *\n",
    "print(pi, log(32, 2))"
   ]
  },
  {
   "cell_type": "code",
   "execution_count": 100,
   "id": "3e2c0e9c",
   "metadata": {},
   "outputs": [],
   "source": [
    "from math import log, pi\n",
    "from numpy import asarray"
   ]
  },
  {
   "cell_type": "code",
   "execution_count": 101,
   "id": "8e29f22b",
   "metadata": {},
   "outputs": [
    {
     "name": "stdout",
     "output_type": "stream",
     "text": [
      "numpy.random is a <class 'module'>\n",
      "it contains names such as... ['set_bit_generator', 'set_state', 'shuffle', 'standard_cauchy', 'standard_exponential', 'standard_gamma', 'standard_normal', 'standard_t', 'test', 'triangular', 'uniform', 'vonmises', 'wald', 'weibull', 'zipf']\n"
     ]
    }
   ],
   "source": [
    "import numpy\n",
    "print(\"numpy.random is a\", type(numpy.random))\n",
    "print(\"it contains names such as...\",\n",
    "      dir(numpy.random)[-15:]\n",
    "     )"
   ]
  },
  {
   "cell_type": "code",
   "execution_count": 102,
   "id": "be2056ec",
   "metadata": {},
   "outputs": [
    {
     "data": {
      "text/plain": [
       "array([3, 1, 4, 5, 3, 1, 5, 4, 1, 1])"
      ]
     },
     "execution_count": 102,
     "metadata": {},
     "output_type": "execute_result"
    }
   ],
   "source": [
    "rolls = numpy.random.randint(low=1, high=6, size=10)\n",
    "rolls"
   ]
  },
  {
   "cell_type": "code",
   "execution_count": 103,
   "id": "bd5d85e6",
   "metadata": {},
   "outputs": [
    {
     "name": "stdout",
     "output_type": "stream",
     "text": [
      "['T', '__abs__', '__add__', '__and__', '__array__', '__array_finalize__', '__array_function__', '__array_interface__', '__array_prepare__', '__array_priority__', '__array_struct__', '__array_ufunc__', '__array_wrap__', '__bool__', '__class__', '__class_getitem__', '__complex__', '__contains__', '__copy__', '__deepcopy__', '__delattr__', '__delitem__', '__dir__', '__divmod__', '__dlpack__', '__dlpack_device__', '__doc__', '__eq__', '__float__', '__floordiv__', '__format__', '__ge__', '__getattribute__', '__getitem__', '__getstate__', '__gt__', '__hash__', '__iadd__', '__iand__', '__ifloordiv__', '__ilshift__', '__imatmul__', '__imod__', '__imul__', '__index__', '__init__', '__init_subclass__', '__int__', '__invert__', '__ior__', '__ipow__', '__irshift__', '__isub__', '__iter__', '__itruediv__', '__ixor__', '__le__', '__len__', '__lshift__', '__lt__', '__matmul__', '__mod__', '__mul__', '__ne__', '__neg__', '__new__', '__or__', '__pos__', '__pow__', '__radd__', '__rand__', '__rdivmod__', '__reduce__', '__reduce_ex__', '__repr__', '__rfloordiv__', '__rlshift__', '__rmatmul__', '__rmod__', '__rmul__', '__ror__', '__rpow__', '__rrshift__', '__rshift__', '__rsub__', '__rtruediv__', '__rxor__', '__setattr__', '__setitem__', '__setstate__', '__sizeof__', '__str__', '__sub__', '__subclasshook__', '__truediv__', '__xor__', 'all', 'any', 'argmax', 'argmin', 'argpartition', 'argsort', 'astype', 'base', 'byteswap', 'choose', 'clip', 'compress', 'conj', 'conjugate', 'copy', 'ctypes', 'cumprod', 'cumsum', 'data', 'diagonal', 'dot', 'dtype', 'dump', 'dumps', 'fill', 'flags', 'flat', 'flatten', 'getfield', 'imag', 'item', 'itemset', 'itemsize', 'max', 'mean', 'min', 'nbytes', 'ndim', 'newbyteorder', 'nonzero', 'partition', 'prod', 'ptp', 'put', 'ravel', 'real', 'repeat', 'reshape', 'resize', 'round', 'searchsorted', 'setfield', 'setflags', 'shape', 'size', 'sort', 'squeeze', 'std', 'strides', 'sum', 'swapaxes', 'take', 'tobytes', 'tofile', 'tolist', 'tostring', 'trace', 'transpose', 'var', 'view']\n"
     ]
    }
   ],
   "source": [
    "print(dir(rolls))"
   ]
  },
  {
   "cell_type": "code",
   "execution_count": 104,
   "id": "1349a654",
   "metadata": {},
   "outputs": [
    {
     "data": {
      "text/plain": [
       "2.8"
      ]
     },
     "execution_count": 104,
     "metadata": {},
     "output_type": "execute_result"
    }
   ],
   "source": [
    "rolls.mean()"
   ]
  },
  {
   "cell_type": "code",
   "execution_count": 105,
   "id": "db7e962b",
   "metadata": {},
   "outputs": [
    {
     "data": {
      "text/plain": [
       "[3, 1, 4, 5, 3, 1, 5, 4, 1, 1]"
      ]
     },
     "execution_count": 105,
     "metadata": {},
     "output_type": "execute_result"
    }
   ],
   "source": [
    "rolls.tolist()"
   ]
  },
  {
   "cell_type": "code",
   "execution_count": 106,
   "id": "68eeb2a4",
   "metadata": {},
   "outputs": [
    {
     "data": {
      "text/plain": [
       "array([13, 11, 14, 15, 13, 11, 15, 14, 11, 11])"
      ]
     },
     "execution_count": 106,
     "metadata": {},
     "output_type": "execute_result"
    }
   ],
   "source": [
    "rolls + 10"
   ]
  },
  {
   "cell_type": "code",
   "execution_count": 107,
   "id": "4a55ce72",
   "metadata": {},
   "outputs": [
    {
     "data": {
      "text/plain": [
       "array([ True,  True, False, False,  True,  True, False, False,  True,\n",
       "        True])"
      ]
     },
     "execution_count": 107,
     "metadata": {},
     "output_type": "execute_result"
    }
   ],
   "source": [
    "rolls <= 3"
   ]
  },
  {
   "cell_type": "code",
   "execution_count": 108,
   "id": "aa88b52a",
   "metadata": {},
   "outputs": [
    {
     "name": "stdout",
     "output_type": "stream",
     "text": [
      "xlist = [[1, 2, 3], [2, 4, 6]]\n",
      "x =\n",
      "[[1 2 3]\n",
      " [2 4 6]]\n"
     ]
    }
   ],
   "source": [
    "xlist = [[1,2,3],[2,4,6],]\n",
    "# Create a 2-dimensional array\n",
    "x = numpy.asarray(xlist)\n",
    "print(\"xlist = {}\\nx =\\n{}\".format(xlist, x))"
   ]
  }
 ],
 "metadata": {
  "kernelspec": {
   "display_name": "Python 3 (ipykernel)",
   "language": "python",
   "name": "python3"
  },
  "language_info": {
   "codemirror_mode": {
    "name": "ipython",
    "version": 3
   },
   "file_extension": ".py",
   "mimetype": "text/x-python",
   "name": "python",
   "nbconvert_exporter": "python",
   "pygments_lexer": "ipython3",
   "version": "3.11.3"
  }
 },
 "nbformat": 4,
 "nbformat_minor": 5
}
