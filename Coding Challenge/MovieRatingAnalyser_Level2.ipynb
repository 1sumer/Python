{
 "cells": [
  {
   "cell_type": "code",
   "execution_count": 9,
   "metadata": {},
   "outputs": [
    {
     "name": "stdout",
     "output_type": "stream",
     "text": [
      "Welcome to the Movie Ratings Analyzer!\n",
      "\n",
      "Results:\n",
      "The average rating of all movies: 5.44\n",
      "\n",
      "Movie Recommendations:\n",
      "DDLJ - Consider Later.\n",
      "Katera - Consider Later.\n",
      "Salar - Consider Later.\n",
      "Calling Sahasra - Consider Later.\n",
      "Yajamana - Must Watch!\n",
      "\n",
      "Highest-rated movie: Yajamana\n"
     ]
    }
   ],
   "source": [
    "movie_ratings = {}\n",
    "def add_movie_rating(movie_name, rating):\n",
    "    movie_ratings[movie_name] = rating\n",
    "\n",
    "def get_average_rating(movie_ratings):\n",
    "    total_ratings = sum(movie_ratings.values())\n",
    "    num_movies = len(movie_ratings)\n",
    "    return total_ratings / num_movies\n",
    "\n",
    "def recommend_movie(movie_ratings):\n",
    "    for movie, rating in movie_ratings.items():\n",
    "        if rating >= 8.5:\n",
    "            print(f\"{movie} - Must Watch!\")\n",
    "        elif 7.0 <= rating <= 8.4:\n",
    "            print(f\"{movie} - Recommended.\")\n",
    "        else:\n",
    "            print(f\"{movie} - Consider Later.\")\n",
    "\n",
    "def find_highest_rated_movie(movie_ratings):\n",
    "    highest_rated_movie = max(movie_ratings, key=movie_ratings.get)\n",
    "    return highest_rated_movie\n",
    "\n",
    "def main():\n",
    "    print(\"Welcome to the Movie Ratings Analyzer!\")\n",
    "    #movie_ratings = {}\n",
    "\n",
    "    for i in range(5):\n",
    "        movie_name = input(f\"Movie {i+1} Name: \")\n",
    "        rating = float(input(\"Rating: \"))\n",
    "        add_movie_rating(movie_name, rating)\n",
    "\n",
    "main()\n",
    "    \n",
    "print(\"\\nResults:\")\n",
    "average_rating = get_average_rating(movie_ratings)\n",
    "print(f\"The average rating of all movies: {average_rating:.2f}\")\n",
    "\n",
    "print(\"\\nMovie Recommendations:\")\n",
    "recommend_movie(movie_ratings)\n",
    "\n",
    "highest_rated_movie = find_highest_rated_movie(movie_ratings)\n",
    "print(f\"\\nHighest-rated movie: {highest_rated_movie}\")"
   ]
  },
  {
   "cell_type": "code",
   "execution_count": null,
   "metadata": {},
   "outputs": [],
   "source": []
  },
  {
   "cell_type": "code",
   "execution_count": 10,
   "metadata": {},
   "outputs": [
    {
     "name": "stdout",
     "output_type": "stream",
     "text": [
      "50\n"
     ]
    }
   ],
   "source": [
    "x = 20\n",
    "y = 30\n",
    "while y!= 0:\n",
    "    temp = x&y \n",
    "    x = x^y \n",
    "    y = temp<<1 \n",
    "print(x)"
   ]
  }
 ],
 "metadata": {
  "kernelspec": {
   "display_name": "Python 3",
   "language": "python",
   "name": "python3"
  },
  "language_info": {
   "codemirror_mode": {
    "name": "ipython",
    "version": 3
   },
   "file_extension": ".py",
   "mimetype": "text/x-python",
   "name": "python",
   "nbconvert_exporter": "python",
   "pygments_lexer": "ipython3",
   "version": "3.11.3"
  }
 },
 "nbformat": 4,
 "nbformat_minor": 4
}
