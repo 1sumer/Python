{
 "cells": [
  {
   "cell_type": "code",
   "execution_count": 2,
   "metadata": {},
   "outputs": [
    {
     "name": "stdout",
     "output_type": "stream",
     "text": [
      "\u001b[33mSAMEER\n",
      "\u001b[31mSAMEER\n",
      "\u001b[34mSAMEER\n",
      "\u001b[32mSAMEER\n",
      "\u001b[36mSAMEER\n",
      "\u001b[35mSAMEER\n",
      "\u001b[37mSAMEER\n"
     ]
    }
   ],
   "source": [
    "#import library\n",
    "\n",
    "from colorama import Fore \n",
    "\n",
    "print(Fore.YELLOW + \"SAMEER\")\n",
    "print(Fore.RED + \"SAMEER\")\n",
    "print(Fore.BLUE + \"SAMEER\")\n",
    "print(Fore.GREEN + \"SAMEER\")\n",
    "print(Fore.CYAN + \"SAMEER\")\n",
    "print(Fore.MAGENTA + \"SAMEER\")\n",
    "print(Fore.WHITE + \"SAMEER\")"
   ]
  }
 ],
 "metadata": {
  "kernelspec": {
   "display_name": "Python 3",
   "language": "python",
   "name": "python3"
  },
  "language_info": {
   "codemirror_mode": {
    "name": "ipython",
    "version": 3
   },
   "file_extension": ".py",
   "mimetype": "text/x-python",
   "name": "python",
   "nbconvert_exporter": "python",
   "pygments_lexer": "ipython3",
   "version": "3.12.2"
  }
 },
 "nbformat": 4,
 "nbformat_minor": 2
}
