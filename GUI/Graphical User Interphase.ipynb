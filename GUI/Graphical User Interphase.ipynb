{
 "cells": [
  {
   "cell_type": "markdown",
   "metadata": {},
   "source": [
    "##### **Graphical User Interfaces (GUIs):**\n",
    "A Graphical User Interface (GUI) is a visual way for users to interact with a computer program or operating system. Unlike text-based interfaces, which require users to input commands through a keyboard, GUIs use graphical elements such as icons, buttons, menus, and windows to enable interaction. GUIs are designed to be intuitive and user-friendly, allowing individuals to perform tasks without needing extensive technical knowledge.\n"
   ]
  },
  {
   "cell_type": "markdown",
   "metadata": {},
   "source": [
    "##### **Key features of GUIs include:**\n",
    "- Visual Elements:\n",
    "- Point-and-Click Interaction:\n",
    "- Menus and Icons:\n",
    "- Ease of Learning:\n",
    "- Multi-Tasking and Multithreading:"
   ]
  },
  {
   "cell_type": "markdown",
   "metadata": {},
   "source": [
    "#### **What is Tkinter?**\n",
    "- Tkinter is the standard GUI (Graphical User Interface) toolkit that comes with Python.\n",
    "- It provides tools for creating desktop applications with graphical interfaces.\n",
    "- Tkinter is a thin object-oriented layer on top of the Tk GUI toolkit.\n"
   ]
  },
  {
   "cell_type": "markdown",
   "metadata": {},
   "source": [
    "#### **Why GUI:**\n",
    "1.\tUser-Friendly: GUIs are more intuitive and user-friendly compared to command-line interfaces. Visual elements make it easier for users to understand and interact with software.\n",
    "2.\tAccessibility: GUIs often provide a point-and-click interface, making software accessible to users who may not be familiar with complex commands or coding.\n",
    "3.\tMultitasking: GUIs allow users to perform multiple tasks simultaneously through the use of windows, buttons, and menus, enhancing multitasking capabilities.\n",
    "4.\tRich Interaction: GUIs offer rich interaction possibilities through graphical elements like buttons, sliders, and checkboxes, providing a more engaging user experience.\n",
    "5.\tWYSIWYG Editing: \"What You See Is What You Get\" (WYSIWYG) editors in GUIs enable users to edit documents or designs with a visual representation that closely matches the final output.\n"
   ]
  },
  {
   "cell_type": "markdown",
   "metadata": {},
   "source": [
    "#### **Merits:**\n",
    "1.\tIntuitiveness: GUIs are designed to be intuitive, reducing the learning curve for users. Most people find it easier to navigate through visual elements than memorize command syntax.\n",
    "2.\tEnhanced Productivity: GUIs often lead to increased productivity as users can perform tasks more quickly and efficiently with visual cues and interactive elements.\n",
    "3.\tAccessibility: GUIs make software accessible to a broader audience, including those who may not have a technical background or expertise.\n",
    "4.\tVisual Feedback: Users receive immediate visual feedback through GUIs, helping them understand the consequences of their actions and reducing errors."
   ]
  },
  {
   "cell_type": "markdown",
   "metadata": {},
   "source": [
    "#### **Demerits:**\n",
    "1.\tResource Intensive: GUIs may consume more system resources compared to command-line interfaces, potentially impacting performance on less powerful hardware.\n",
    "2.\tLimited Automation: GUIs are less amenable to automation compared to command-line interfaces, which can be a limitation in certain scenarios.\n",
    "3.\tComplexity: In some cases, overly complex GUIs can lead to confusion and frustration, especially if poorly designed or if there's an overwhelming number of options.\n",
    "4.\tDependency on Hardware/Graphics: GUIs rely on graphics capabilities, and if there are issues with hardware or graphics drivers, it can affect the user experience.\n"
   ]
  },
  {
   "cell_type": "markdown",
   "metadata": {},
   "source": [
    "#### **Key Components of Tkinter:**\n",
    "**1.\tWidgets:**\n",
    "- Tkinter provides a range of widgets that can be used to build a GUI. Examples include buttons, labels, entry widgets, etc.\n",
    "\n",
    "**2.\tGeometry Managers:**\n",
    "- Tkinter has three geometry managers: pack, grid, and place. They control the placement and organization of widgets within a window.\n",
    "\n",
    "**3.\tEvent Handling:**\n",
    "- Tkinter allows you to bind functions to events, such as button clicks. This enables the execution of specific actions when certain events occur.\n",
    "\n",
    "**4.\tMenus:**\n",
    "- Tkinter supports the creation of menus to provide a structured way to access different functionalities\n"
   ]
  },
  {
   "cell_type": "markdown",
   "metadata": {},
   "source": [
    "#### **Getting Started:**\n",
    "**1.\tImport Tkinter:**\n",
    "\n",
    "        import tkinter as tk\n",
    "\n",
    "**2.\tCreate a Main Window**\n",
    "\n",
    "        window = tk.Tk() \n",
    "\n",
    "**3.\tAdd Widgets:**\n",
    "\n",
    "        Use various widget classes like Label, Button, etc.\n",
    "\n",
    "**4.\tGeometry Management:**\n",
    "\n",
    "        Organize widgets using pack(), grid(), or place().\n",
    "\n",
    "**5.\tRun the Main Loop:**\n",
    "\n",
    "        window.mainloop()\n"
   ]
  },
  {
   "cell_type": "markdown",
   "metadata": {},
   "source": [
    "### **Tkinter Widgets**"
   ]
  },
  {
   "cell_type": "markdown",
   "metadata": {},
   "source": [
    "**1. Labels:**\n",
    "- Labels are used to display text or images.\n",
    "- Created using the Label class.\n",
    "- Can be positioned using various layout managers (pack, grid, place).\n"
   ]
  },
  {
   "cell_type": "code",
   "execution_count": 31,
   "metadata": {},
   "outputs": [],
   "source": [
    "from tkinter import Tk, Label\n",
    "from tkinter import *\n",
    "import tkinter as tk\n",
    "root = tk.Tk()\n",
    "root.title(\"GST Calculator\")\n",
    "\n",
    "# maximize the main window\n",
    "root.geometry('500x350')\n",
    "\n",
    "tk.Label(root, text=\"GST Calculator\", font='times', bg='SpringGreen').pack(side=tk.TOP, fill=X)\n",
    "\n",
    "root.mainloop()"
   ]
  },
  {
   "cell_type": "code",
   "execution_count": 32,
   "metadata": {},
   "outputs": [],
   "source": [
    "from tkinter import Tk, Label\n",
    "root = Tk()\n",
    "label = Label(root, text=\"Hello, Tkinter!\", font=('times', 14,'bold'),bg='springGreen')\n",
    "label.pack(side=TOP)\n",
    "root.mainloop()"
   ]
  },
  {
   "cell_type": "markdown",
   "metadata": {},
   "source": [
    "**2. Buttons:**\n",
    "- Buttons are used to trigger actions when clicked.\n",
    "- Created using the Button class.\n",
    "- Can have text or images.\n",
    "- Event handlers can be attached to buttons.\n"
   ]
  },
  {
   "cell_type": "code",
   "execution_count": 33,
   "metadata": {},
   "outputs": [],
   "source": [
    "from tkinter import Tk, Button\n",
    "def on_button_click():\n",
    "    print(\"Button clicked!\")\n",
    "root = Tk()\n",
    "button = Button(root, text=\"Click me\", command=on_button_click)\n",
    "button.pack()\n",
    "root.mainloop()"
   ]
  },
  {
   "cell_type": "markdown",
   "metadata": {},
   "source": [
    "**3. Entry Widgets:**\n",
    "- Entry widgets are used to accept single-line text input from the user.\n",
    "- Created using the Entry class.\n",
    "- Can be configured to show default text or a placeholder.\n",
    "- Retrieving the entered text is done using the get() method.\n"
   ]
  },
  {
   "cell_type": "code",
   "execution_count": 34,
   "metadata": {},
   "outputs": [],
   "source": [
    "from tkinter import Tk, Entry, Button\n",
    "def on_button_click():\n",
    "    user_input = entry.get()\n",
    "    print(f\"User entered: {user_input}\")\n",
    "root = Tk()\n",
    "entry = Entry(root, width=30)\n",
    "entry.pack()\n",
    "button = Button(root, text=\"Submit\", command=on_button_click)\n",
    "button.pack()\n",
    "root.mainloop()"
   ]
  },
  {
   "cell_type": "markdown",
   "metadata": {},
   "source": [
    "**4. Checkbuttons:**\n",
    "- Checkbuttons are used for binary choices (checked or unchecked).\n",
    "- Created using the Checkbutton class.\n",
    "- State can be associated with a variable."
   ]
  },
  {
   "cell_type": "code",
   "execution_count": 35,
   "metadata": {},
   "outputs": [],
   "source": [
    "from tkinter import Tk, IntVar, Checkbutton\n",
    "def on_check():\n",
    "    print(f\"Checkbutton state: {var.get()}\")\n",
    "root = Tk()\n",
    "var = IntVar()\n",
    "var.set(1)\n",
    "checkbutton = Checkbutton(root, text=\"Check me\", variable=var, command=on_check)\n",
    "checkbutton.pack()\n",
    "root.mainloop()"
   ]
  },
  {
   "cell_type": "code",
   "execution_count": 36,
   "metadata": {},
   "outputs": [],
   "source": [
    "from tkinter import Tk, StringVar, Checkbutton\n",
    "\n",
    "def on_check():\n",
    "    print(f\"Checkbutton state: {var.get()}\")\n",
    "\n",
    "root = Tk()\n",
    "var = StringVar()\n",
    "var.set(\"Checked\")  # Set the initial state to \"Checked\"\n",
    "\n",
    "checkbutton = Checkbutton(root, text=\"Check me\", variable=var, command=on_check, onvalue=\"Checked\", offvalue=\"Unchecked\")\n",
    "checkbutton.pack()\n",
    "\n",
    "root.mainloop()\n"
   ]
  },
  {
   "cell_type": "markdown",
   "metadata": {},
   "source": [
    "**5. Radiobuttons:**\n",
    "- Radiobuttons are used for mutually exclusive choices.\n",
    "- Created using the Radiobutton class.\n",
    "- Associated with a variable and a value."
   ]
  },
  {
   "cell_type": "code",
   "execution_count": 37,
   "metadata": {},
   "outputs": [],
   "source": [
    "from tkinter import Tk, IntVar, Radiobutton\n",
    "def on_radio_change():\n",
    "    print(f\"Selected option: {var.get()}\")\n",
    "root = Tk()\n",
    "var = IntVar()\n",
    "radio1 = Radiobutton(root, text=\"Option 1\", variable=var, value=1, command=on_radio_change)\n",
    "radio2 = Radiobutton(root, text=\"Option 2\", variable=var, value=2, command=on_radio_change)\n",
    "radio1.pack()\n",
    "radio2.pack()\n",
    "root.mainloop()"
   ]
  },
  {
   "cell_type": "markdown",
   "metadata": {},
   "source": [
    "#### **Tkinter Layout Management: pack, grid, and place**\n",
    "**1. pack Method:**\n",
    "- The pack geometry manager organizes widgets in blocks before placing them in the parent widget.\n",
    "- Widgets are packed either horizontally or vertically, and the available space is divided among them.\n",
    "\n",
    "Common options:\n",
    "- ‘side’: Specifies the side of the parent widget where the widget should be placed (TOP, BOTTOM, LEFT, RIGHT).\n",
    "- ‘Fill’: Determines how the widget should expand to fill the available space (X, Y, BOTH, NONE).\n",
    "- ‘expand’: A boolean indicating whether the widget should expand to fill any extra space.\n"
   ]
  },
  {
   "cell_type": "code",
   "execution_count": 38,
   "metadata": {},
   "outputs": [],
   "source": [
    "from tkinter import Tk, Label\n",
    "root = Tk()\n",
    "label1 = Label(root, text=\"Label 1\")\n",
    "label1.pack(side=\"top\", fill=\"both\", expand=True)\n",
    "label2 = Label(root, text=\"Label 2\")\n",
    "label2.pack(side=\"left\", fill=\"y\")\n",
    "root.mainloop()"
   ]
  },
  {
   "cell_type": "markdown",
   "metadata": {},
   "source": [
    "**2. grid Method:**\n",
    "- The grid geometry manager organizes widgets in a table-like structure of rows and columns.\n",
    "- Widgets are placed in specific rows and columns, and you can control the row and column weights.\n",
    "\n",
    "Common options:\n",
    "- ‘row, column’: Specify the row and column index where the widget should be placed."
   ]
  },
  {
   "cell_type": "code",
   "execution_count": 39,
   "metadata": {},
   "outputs": [],
   "source": [
    "from tkinter import Tk, Label\n",
    "root = Tk()\n",
    "label1 = Label(root, text=\"Label 1\")\n",
    "label1.grid(row=0, column=0)\n",
    "label2 = Label(root, text=\"Label 2\")\n",
    "label2.grid(row=1, column=1)\n",
    "root.mainloop()"
   ]
  },
  {
   "cell_type": "markdown",
   "metadata": {},
   "source": [
    "**3. place Method:**\n",
    "- The place geometry manager allows you to precisely control the placement of widgets by specifying exact coordinates.\n",
    "- Widgets are placed relative to the parent widget's top-left corner.\n",
    "\n",
    "Common options:\n",
    "- ‘x, y’: Specify the x and y coordinates of the widget.\n",
    "- ‘relx, rely’: Specify the relative x and y coordinates (relative to the size of the parent widget).\n",
    "- ‘anchor’: Determines which part of the widget is placed at the given coordinates.\n"
   ]
  },
  {
   "cell_type": "code",
   "execution_count": 40,
   "metadata": {},
   "outputs": [],
   "source": [
    "from tkinter import Tk, Label\n",
    "root = Tk()\n",
    "label1 = Label(root, text=\"Label 1\")\n",
    "label1.place(x=50, y=30)\n",
    "label2 = Label(root, text=\"Label 2\")\n",
    "label2.place(relx=0.5, rely=0.5, anchor=\"center\")\n",
    "root.mainloop()"
   ]
  },
  {
   "cell_type": "markdown",
   "metadata": {},
   "source": [
    "#### **Tkinter Program with a Button and a Label**\n",
    "- **Step 1: Import the Tkinter Module**\n",
    "\n",
    "  import tkinter as tk \n",
    "- **Step 2: Create the Main Application Window**\n",
    "\n",
    "  Create the main window \n",
    "\n",
    "  root = tk.Tk() root.title(\"Simple Tkinter Program\")\n",
    "\n",
    "- **Step 3: Create a Label Widget**\n",
    "\n",
    "  Create a label widget \n",
    "\n",
    "  label = tk.Label(root, text=\"Hello, Tkinter!\") \n",
    "\n",
    "- **Step 4: Create a Button Widget**\n",
    "\n",
    "  Create a button widget \n",
    "\n",
    "  button = tk.Button(root, text=\"Click Me!\", command=lambda: label.config(text=\"Button Clicked!\")) \n",
    "\n",
    "- **Step 5: Organize Widgets Using Layout Management**\n",
    "\n",
    "  Use grid to organize widgets \n",
    "\n",
    "  label.grid(row=0, column=0, pady=10) button.grid(row=1, column=0, pady=10) \n",
    "\n",
    "- **Step 6: Run the Tkinter Event Loop**\n",
    "\n",
    "  Start the Tkinter event loop\n",
    "   \n",
    "  root.mainloop()\n"
   ]
  },
  {
   "cell_type": "code",
   "execution_count": 42,
   "metadata": {},
   "outputs": [
    {
     "name": "stdout",
     "output_type": "stream",
     "text": [
      "Checkbutton state: 0\n",
      "Checkbutton state: 0\n",
      "Checkbutton state: 0\n",
      "User entered: sameer\n",
      "Selected option: 1\n",
      "Selected option: 2\n"
     ]
    }
   ],
   "source": [
    "from tkinter import Tk, Frame, Label, Entry, Button\n",
    "import tkinter as tk\n",
    "from tkinter import *\n",
    "\n",
    "root = Tk()\n",
    "\n",
    "label = Label(root, text=\"Hello, Tkinter!\", font=('times', 14,'bold'),bg='springGreen')\n",
    "label.pack(side=TOP)\n",
    "\n",
    "button = Button(root, text=\"Click me\", command=on_button_click)\n",
    "button.pack()\n",
    "\n",
    "var = IntVar()\n",
    "var.set(1)\n",
    "checkbutton = Checkbutton(root, text=\"Check me\", variable=var, command=on_check)\n",
    "checkbutton.pack()\n",
    "\n",
    "entry = Entry(root, width=30)\n",
    "entry.pack()\n",
    "button = Button(root, text=\"Submit\", command=on_button_click)\n",
    "button.pack()\n",
    "\n",
    "var = IntVar()\n",
    "radio1 = Radiobutton(root, text=\"Option 1\", variable=var, value=1, command=on_radio_change)\n",
    "radio2 = Radiobutton(root, text=\"Option 2\", variable=var, value=2, command=on_radio_change)\n",
    "radio1.pack()\n",
    "radio2.pack()\n",
    "\n",
    "root.mainloop()"
   ]
  },
  {
   "cell_type": "code",
   "execution_count": 44,
   "metadata": {},
   "outputs": [],
   "source": [
    "from tkinter import Tk, Frame, Label, Entry, Button\n",
    "import tkinter as tk\n",
    "from tkinter import *\n",
    "root = Tk()\n",
    "course_operations = [\"Machine Learning Engineer\", \"Python for Machine Learning\", \"Business Intelligence Master\", \"Full Stack Data Analyst\", \"Digital Marketing\", \"AWS\", \"Android Testing\", \"Django with Python\"]\n",
    "course_options_var = tk.StringVar(value=\"Machine Learning Engineer\")\n",
    "\n",
    "course_operations_menu = tk.OptionMenu(root, course_options_var, *course_operations)\n",
    "course_operations_menu.pack(side=TOP, padx=5, pady=5, fill=X)\n",
    "\n",
    "root.mainloop()"
   ]
  }
 ],
 "metadata": {
  "kernelspec": {
   "display_name": "Python 3",
   "language": "python",
   "name": "python3"
  },
  "language_info": {
   "codemirror_mode": {
    "name": "ipython",
    "version": 3
   },
   "file_extension": ".py",
   "mimetype": "text/x-python",
   "name": "python",
   "nbconvert_exporter": "python",
   "pygments_lexer": "ipython3",
   "version": "3.11.3"
  }
 },
 "nbformat": 4,
 "nbformat_minor": 2
}
