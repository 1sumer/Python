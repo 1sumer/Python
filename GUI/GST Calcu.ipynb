{
 "cells": [
  {
   "cell_type": "markdown",
   "metadata": {},
   "source": [
    "## **Creating GST Calculator**\n",
    "\n",
    "- tkinter: This library provides the tools for creating graphical user interfaces in Python.\n",
    "- *: Imports everything from the tkinter module. While it's generally not recommended due to potential naming conflicts, in small scripts like this, it's a quick way to get access to everything without needing to prefix it with tk..\n"
   ]
  },
  {
   "cell_type": "code",
   "execution_count": 1,
   "metadata": {},
   "outputs": [],
   "source": [
    "# import Library\n",
    "import tkinter as tk\n",
    "from tkinter import messagebox\n",
    "from tkinter import *"
   ]
  },
  {
   "cell_type": "markdown",
   "metadata": {},
   "source": [
    "- messagebox: It's a submodule of tkinter used for displaying alert or prompt messages."
   ]
  },
  {
   "cell_type": "markdown",
   "metadata": {},
   "source": [
    "#### **Tkinter Window Setup:**"
   ]
  },
  {
   "cell_type": "code",
   "execution_count": 2,
   "metadata": {},
   "outputs": [
    {
     "data": {
      "text/plain": [
       "<tkinter.Frame object .!frame>"
      ]
     },
     "execution_count": 2,
     "metadata": {},
     "output_type": "execute_result"
    }
   ],
   "source": [
    "root = tk.Tk()\n",
    "root.title(\"GST Calculator\")\n",
    "\n",
    "# maximize the main window\n",
    "root.geometry('500x350')\n",
    "\n",
    "headlabelfont = (\"Noto Sans CJK TC\", 15, 'bold')\n",
    "labelfont = ('Garamond', 14)\n",
    "entryfont = ('Garamond', 12)\n",
    "\n",
    "lf_bg = 'MediumSpringGreen'\n",
    "\n",
    "tk.Label(root, text=\"GST Calculator\", font=headlabelfont, bg='SpringGreen').pack(side=tk.TOP, fill=X)\n",
    "\n",
    "Frame(root, bg=lf_bg)"
   ]
  },
  {
   "cell_type": "markdown",
   "metadata": {},
   "source": [
    "#### **GUI Layout:**"
   ]
  },
  {
   "cell_type": "code",
   "execution_count": 3,
   "metadata": {},
   "outputs": [],
   "source": [
    "# course_duration_frame label and text area\n",
    "item1_frame = Frame(root, bg=lf_bg)\n",
    "item1_frame.pack(side=TOP, padx=5, pady=5, fill=X)\n",
    "\n",
    "item1_label = tk.Label(item1_frame, text=\"Item 1:\", width=20, font=labelfont, bg=lf_bg)\n",
    "item1_label.pack(side=LEFT)\n",
    "\n",
    "item1_entry = tk.Entry(item1_frame, width=50, font=entryfont)\n",
    "item1_entry.pack(side=LEFT, padx=5, pady=5, fill=X)"
   ]
  },
  {
   "cell_type": "code",
   "execution_count": 4,
   "metadata": {},
   "outputs": [],
   "source": [
    "item2_frame = Frame(root, bg=lf_bg)\n",
    "item2_frame.pack(side=TOP, padx=5, pady=5, fill=X)\n",
    "\n",
    "item2_label = tk.Label(item2_frame, text=\"Item 2:\", width=20, font=labelfont, bg=lf_bg)\n",
    "item2_label.pack(side=LEFT)\n",
    "\n",
    "item2_entry = tk.Entry(item2_frame, width=50, font=entryfont)\n",
    "item2_entry.pack(side=LEFT, padx=5, pady=5, fill=X)"
   ]
  },
  {
   "cell_type": "code",
   "execution_count": 5,
   "metadata": {},
   "outputs": [],
   "source": [
    "gst_frame = Frame(root, bg=lf_bg)\n",
    "gst_frame.pack(side=TOP, padx=5, pady=5, fill=X)\n",
    "\n",
    "gst_label = tk.Label(gst_frame, text=\"GST:\", width=20, font=labelfont, bg=lf_bg)\n",
    "gst_label.pack(side=LEFT)\n",
    "\n",
    "gst_entry = tk.Entry(gst_frame, width=50, font=entryfont)\n",
    "gst_entry.pack(side=LEFT, padx=5, pady=5, fill=X)"
   ]
  },
  {
   "cell_type": "markdown",
   "metadata": {},
   "source": [
    "#### **Main Function for Calculating GST:**"
   ]
  },
  {
   "cell_type": "markdown",
   "metadata": {},
   "source": [
    "In Python, \"try\" and \"catch\" are typically referred to as \"try\" and \"except\" statements\n",
    "\n",
    "They are used for error handling and exception handling \n",
    "\n",
    "try:\n",
    "    #code that may raise an exception \n",
    "except Exceptiontype:\n",
    "    #code to handle the exception\n",
    "\n",
    "The **\"Try\"** block is used to enclose the code that you want to test for exceptions or error\n",
    "\n",
    "if an exception occurs within this block the program doesn't immediately terminate.\n",
    "instead, it proceeds to the \"except\" block to handle the exception.\n",
    "\n",
    "The **\"Except\"** block is where you specify how to handle specific types of exceptions."
   ]
  },
  {
   "cell_type": "code",
   "execution_count": 6,
   "metadata": {},
   "outputs": [],
   "source": [
    "def calculate_gst():\n",
    "    try:\n",
    "        # Convert input values to numeric types\n",
    "        item1 = float(item1_entry.get())\n",
    "        item2 = float(item2_entry.get())\n",
    "        gst = float(gst_entry.get())\n",
    "\n",
    "        # Perform calculations\n",
    "        sub_total = item1 + item2\n",
    "        gst_amount = (sub_total * gst) / 100\n",
    "        grand_total = sub_total + gst_amount\n",
    "\n",
    "        gst_amount_label.config(text='GST Amount: {:.2f}'.format(gst_amount))\n",
    "        total_amount_label.config(text='Grand Total: {:.2f}'.format(grand_total))\n",
    "\n",
    "    except ValueError:\n",
    "        messagebox.showerror(\"Error\", \"Invalid input. Please enter valid numerical values.\")"
   ]
  },
  {
   "cell_type": "markdown",
   "metadata": {},
   "source": [
    "calculate_gst(): This function is called when the \"Calculate GST\" button is pressed. It retrieves values from the entry widgets, performs the necessary calculations, and updates the labels with the results. It also handles exceptions for invalid input.\n",
    "#### **Button Commands**"
   ]
  },
  {
   "cell_type": "code",
   "execution_count": 7,
   "metadata": {},
   "outputs": [],
   "source": [
    "button_frame = tk.Frame(root)\n",
    "button_frame.pack(side=tk.TOP, pady=10)\n",
    "\n",
    "calculate_gst_button = tk.Button(button_frame, text=\"Calculate GST\", command=calculate_gst, width=15, font=labelfont)\n",
    "calculate_gst_button.grid(row=0, column=0, padx=5, pady=5, sticky=E)"
   ]
  },
  {
   "cell_type": "markdown",
   "metadata": {},
   "source": [
    "#### **Clear Button Function:**"
   ]
  },
  {
   "cell_type": "code",
   "execution_count": 8,
   "metadata": {},
   "outputs": [],
   "source": [
    "def clear_field():\n",
    "    item1_entry.delete(0, tk.END)\n",
    "    item2_entry.delete(0, tk.END)\n",
    "    gst_entry.delete(0, tk.END)\n",
    "\n",
    "clear_button = tk.Button(button_frame, text=\"Clear\", command=clear_field, width=15, font=labelfont)\n",
    "clear_button.grid(row=0, column=1, padx=5, pady=5, sticky=E)"
   ]
  },
  {
   "cell_type": "markdown",
   "metadata": {},
   "source": [
    "#### **Labels for Displaying Results:**"
   ]
  },
  {
   "cell_type": "code",
   "execution_count": 9,
   "metadata": {},
   "outputs": [],
   "source": [
    "# value_frame label and text area\n",
    "value_frame = tk.Frame(root, bg=lf_bg)\n",
    "value_frame.pack(side=tk.TOP, padx=5, pady=5, fill=X)\n",
    "\n",
    "gst_amount_label = tk.Label(value_frame, text='GST Amount:', font=('Times', 14, 'bold'), bg=lf_bg)\n",
    "gst_amount_label.pack(pady=5)\n",
    "\n",
    "total_amount_label = tk.Label(value_frame, text='Grand Total:', font=('Times', 14, 'bold'), bg=lf_bg)\n",
    "total_amount_label.pack(pady=5)"
   ]
  },
  {
   "cell_type": "markdown",
   "metadata": {},
   "source": [
    "#### **Running the Application:**"
   ]
  },
  {
   "cell_type": "code",
   "execution_count": 10,
   "metadata": {},
   "outputs": [],
   "source": [
    "root.mainloop()"
   ]
  }
 ],
 "metadata": {
  "kernelspec": {
   "display_name": "Python 3",
   "language": "python",
   "name": "python3"
  },
  "language_info": {
   "codemirror_mode": {
    "name": "ipython",
    "version": 3
   },
   "file_extension": ".py",
   "mimetype": "text/x-python",
   "name": "python",
   "nbconvert_exporter": "python",
   "pygments_lexer": "ipython3",
   "version": "3.11.3"
  }
 },
 "nbformat": 4,
 "nbformat_minor": 2
}
