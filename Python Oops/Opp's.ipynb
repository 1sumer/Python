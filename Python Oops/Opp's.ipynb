{
 "cells": [
  {
   "cell_type": "markdown",
   "metadata": {},
   "source": [
    "THe variables encapsulated by an object are called properties or attributes. Every thing in Python is an object"
   ]
  },
  {
   "cell_type": "code",
   "execution_count": 2,
   "metadata": {},
   "outputs": [
    {
     "data": {
      "text/plain": [
       "30"
      ]
     },
     "execution_count": 2,
     "metadata": {},
     "output_type": "execute_result"
    }
   ],
   "source": [
    "f = lambda x:2*x \n",
    "f.x=30\n",
    "f.x"
   ]
  },
  {
   "cell_type": "markdown",
   "metadata": {},
   "source": [
    "- <code>__init__</code> function that are called upon instantiation"
   ]
  },
  {
   "cell_type": "code",
   "execution_count": 5,
   "metadata": {},
   "outputs": [
    {
     "data": {
      "text/plain": [
       "90"
      ]
     },
     "execution_count": 5,
     "metadata": {},
     "output_type": "execute_result"
    }
   ],
   "source": [
    "class Foo:\n",
    "    def __init__(self,x=30):\n",
    "        self.x = x\n",
    "\n",
    "f = Foo()\n",
    "f.x=90\n",
    "f.x"
   ]
  },
  {
   "cell_type": "markdown",
   "metadata": {},
   "source": [
    "Methods are functions that are attached to objects and have access to the internal object attributes. They are defined within the body of the class definition,"
   ]
  },
  {
   "cell_type": "markdown",
   "metadata": {},
   "source": [
    "**Private vs. Public Attributes**"
   ]
  },
  {
   "cell_type": "code",
   "execution_count": 3,
   "metadata": {},
   "outputs": [
    {
     "name": "stdout",
     "output_type": "stream",
     "text": [
      "40\n"
     ]
    }
   ],
   "source": [
    "class Foo:\n",
    "    def __init__(self,x=30):\n",
    "        self.x=x\n",
    "    def foo(self, y):\n",
    "        print(self.x+y)\n",
    "\n",
    "f=Foo()\n",
    "f.foo(10)"
   ]
  },
  {
   "cell_type": "markdown",
   "metadata": {},
   "source": [
    "**Functions and Methods**"
   ]
  },
  {
   "cell_type": "code",
   "execution_count": 6,
   "metadata": {},
   "outputs": [
    {
     "data": {
      "text/plain": [
       "40"
      ]
     },
     "execution_count": 6,
     "metadata": {},
     "output_type": "execute_result"
    }
   ],
   "source": [
    "class Foo:\n",
    "    def __init__(self, x=10):\n",
    "        self.x=x \n",
    "    def __add__(self, y):\n",
    "        return self.x + y.x\n",
    "\n",
    "a = Foo(x=30)\n",
    "b=Foo()\n",
    "a+b"
   ]
  },
  {
   "cell_type": "code",
   "execution_count": 1,
   "metadata": {},
   "outputs": [
    {
     "name": "stdout",
     "output_type": "stream",
     "text": [
      "30\n"
     ]
    }
   ],
   "source": [
    "class Addition:\n",
    "    def __init__(self):\n",
    "        self.x=10\n",
    "        self.y=20\n",
    "\n",
    "    def adding(self):\n",
    "        return self.x+self.y \n",
    "\n",
    "a = Addition()\n",
    "print(a.adding())"
   ]
  },
  {
   "cell_type": "code",
   "execution_count": 16,
   "metadata": {},
   "outputs": [
    {
     "name": "stdout",
     "output_type": "stream",
     "text": [
      "young\n"
     ]
    }
   ],
   "source": [
    "X = int(input('enter a nuber'))\n",
    "\n",
    "class categorise():\n",
    "    def __init__(self, x):\n",
    "        self.x=x\n",
    "\n",
    "    def category(self, x=X):\n",
    "        if self.x > 14:\n",
    "            return \"young\"\n",
    "        elif self.x > 24:   \n",
    "            return \"middle aged\"\n",
    "        elif self.x > 34:\n",
    "            return \"mature\"\n",
    "        else:\n",
    "            return \"elderly\"\n",
    "\n",
    "b = categorise(x)\n",
    "print(b.category())"
   ]
  },
  {
   "cell_type": "code",
   "execution_count": null,
   "metadata": {},
   "outputs": [],
   "source": []
  }
 ],
 "metadata": {
  "kernelspec": {
   "display_name": "Python 3",
   "language": "python",
   "name": "python3"
  },
  "language_info": {
   "codemirror_mode": {
    "name": "ipython",
    "version": 3
   },
   "file_extension": ".py",
   "mimetype": "text/x-python",
   "name": "python",
   "nbconvert_exporter": "python",
   "pygments_lexer": "ipython3",
   "version": "3.12.2"
  }
 },
 "nbformat": 4,
 "nbformat_minor": 2
}
