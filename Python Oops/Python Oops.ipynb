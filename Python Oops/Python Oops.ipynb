{
 "cells": [
  {
   "cell_type": "markdown",
   "metadata": {},
   "source": [
    "## **object-oriented Programming (OOPs)**"
   ]
  },
  {
   "cell_type": "markdown",
   "metadata": {},
   "source": [
    "OOPs Concepts in Python\n",
    "- Class\n",
    "- Objects\n",
    "- Polymorphism\n",
    "- Encapsulation\n",
    "- Inheritance\n",
    "- Data Abstraction"
   ]
  },
  {
   "cell_type": "markdown",
   "metadata": {},
   "source": [
    "### Python Class \n",
    "A class is a collection of objects. A class contains the blueprints or the prototype from which the objects are being created. It is a logical entity that contains some attributes and methods.\n",
    "\n",
    "Some points on Python class:  \n",
    "- Classes are created by keyword class.\n",
    "- Attributes are the variables that belong to a class.\n",
    "- Attributes are always public and can be accessed using the dot (.) operator. Eg.: Myclass.Myattribute\n",
    "\n",
    "Class Definition Syntax:"
   ]
  },
  {
   "cell_type": "code",
   "execution_count": null,
   "metadata": {},
   "outputs": [],
   "source": [
    "class ClassName:\n",
    "   # Statement-1\n",
    "   .\n",
    "   .\n",
    "   .\n",
    "   # Statement-N"
   ]
  },
  {
   "cell_type": "code",
   "execution_count": 1,
   "metadata": {},
   "outputs": [],
   "source": [
    "class claob:\n",
    "    pass"
   ]
  },
  {
   "cell_type": "markdown",
   "metadata": {},
   "source": [
    "### Python Objects\n",
    "The object is an entity that has a state and behavior associated with it. It may be any real-world object like a mouse, keyboard, chair, table, pen, etc. Integers, strings, floating-point numbers, even arrays, and dictionaries, are all objects."
   ]
  },
  {
   "cell_type": "markdown",
   "metadata": {},
   "source": [
    "To understand the state, behavior, and identity let us take the example of the class dog (explained above). \n",
    "- The identity can be considered as the name of the dog.\n",
    "- State or Attributes can be considered as the breed, age, or color of the dog.\n",
    "- The behavior can be considered as to whether the dog is eating or sleeping."
   ]
  },
  {
   "cell_type": "code",
   "execution_count": 2,
   "metadata": {},
   "outputs": [],
   "source": [
    "obj = claob()"
   ]
  },
  {
   "cell_type": "markdown",
   "metadata": {},
   "source": [
    "- When working with classes in Python, the term “self” refers to the instance of the class that is currently being used. \n",
    "- It is customary to use “self” as the first parameter in instance methods of a class. \n",
    "- Whenever you call a method of an object created from a class, the object is automatically passed as the first argument using the “self” parameter."
   ]
  },
  {
   "cell_type": "markdown",
   "metadata": {},
   "source": [
    "- The __init__ method is similar to constructors in C++ and Java. It is run as soon as an object of a class is instantiated. \n",
    "- The method is useful to do any initialization you want to do with your object."
   ]
  },
  {
   "cell_type": "markdown",
   "metadata": {},
   "source": [
    "## Creating a class and object with class and instance attributes"
   ]
  },
  {
   "cell_type": "code",
   "execution_count": 11,
   "metadata": {},
   "outputs": [
    {
     "name": "stdout",
     "output_type": "stream",
     "text": [
      "Toyota\n",
      "Civic\n",
      "Total number of cars: 2\n",
      "Toyota Camry\n"
     ]
    }
   ],
   "source": [
    "class Car:\n",
    "    # Class attribute\n",
    "    car_count = 0\n",
    "\n",
    "    def __init__(self, make, model):\n",
    "        # Instance attributes\n",
    "        self.make = make\n",
    "        self.model = model\n",
    "        # Increment the class attribute when a new instance is created\n",
    "        Car.car_count += 1\n",
    "\n",
    "    def display_info(self):\n",
    "        print(f\"{self.make} {self.model}\")\n",
    "\n",
    "# Creating objects (instances) of the Car class\n",
    "car1 = Car(\"Toyota\", \"Camry\")\n",
    "car2 = Car(\"Honda\", \"Civic\")\n",
    "\n",
    "# Accessing instance attributes\n",
    "print(car1.make)  \n",
    "print(car2.model) \n",
    "\n",
    "# Accessing class attribute\n",
    "print(\"Total number of cars:\", Car.car_count) \n",
    "\n",
    "# Calling a method of the class\n",
    "car1.display_info()  "
   ]
  },
  {
   "cell_type": "markdown",
   "metadata": {},
   "source": [
    "## Creating Classes and objects with methods\n",
    "\n",
    "The Calculator class is defined with two attributes:"
   ]
  },
  {
   "cell_type": "code",
   "execution_count": 12,
   "metadata": {},
   "outputs": [
    {
     "name": "stdout",
     "output_type": "stream",
     "text": [
      "Addition: 8\n",
      "Subtraction: 6\n",
      "Multiplication: 24\n",
      "Division: 5.0\n",
      "Result of division by zero: Cannot divide by zero\n"
     ]
    }
   ],
   "source": [
    "class Calculator:\n",
    "    def add(self, x, y):\n",
    "        return x + y\n",
    "\n",
    "    def subtract(self, x, y):\n",
    "        return x - y\n",
    "\n",
    "    def multiply(self, x, y):\n",
    "        return x * y\n",
    "\n",
    "    def divide(self, x, y):\n",
    "        if y != 0:\n",
    "            return x / y\n",
    "        else:\n",
    "            return \"Cannot divide by zero\"\n",
    "\n",
    "# Creating an object (instance) of the Calculator class\n",
    "calc = Calculator()\n",
    "\n",
    "# Using methods of the class\n",
    "result_add = calc.add(5, 3)\n",
    "result_subtract = calc.subtract(8, 2)\n",
    "result_multiply = calc.multiply(4, 6)\n",
    "result_divide = calc.divide(10, 2)\n",
    "\n",
    "# Displaying results\n",
    "print(\"Addition:\", result_add)  \n",
    "print(\"Subtraction:\", result_subtract)  \n",
    "print(\"Multiplication:\", result_multiply)  \n",
    "print(\"Division:\", result_divide)  \n",
    "\n",
    "# Attempting to divide by zero\n",
    "result_divide_by_zero = calc.divide(5, 0)\n",
    "print(\"Result of division by zero:\", result_divide_by_zero)  "
   ]
  },
  {
   "cell_type": "markdown",
   "metadata": {},
   "source": [
    "# Python Inheritance\n",
    "\n",
    "Inheritance is the capability of one class to derive or inherit the properties from another class. The class that derives properties is called the derived class or child class and the class from which the properties are being derived is called the base class or parent class."
   ]
  },
  {
   "cell_type": "markdown",
   "metadata": {},
   "source": [
    "Types of Inheritance\n",
    "- **Single Inheritance:** Single-level inheritance enables a derived class to inherit characteristics from a single-parent class.\n",
    "- **Multilevel Inheritance:** Multi-level inheritance enables a derived class to inherit properties from an immediate parent class which in turn inherits properties from his parent class. \n",
    "- **Hierarchical Inheritance:** Hierarchical-level inheritance enables more than one derived class to inherit properties from a parent class.\n",
    "- **Multiple Inheritance:** Multiple-level inheritance enables one derived class to inherit properties from more than one base class"
   ]
  },
  {
   "cell_type": "code",
   "execution_count": 10,
   "metadata": {},
   "outputs": [
    {
     "name": "stdout",
     "output_type": "stream",
     "text": [
      "Rahul\n",
      "886012\n",
      "My name is Rahul\n",
      "IdNumber: 886012\n",
      "Post: Intern\n"
     ]
    }
   ],
   "source": [
    "# parent class\n",
    "class Person(object):\n",
    "\n",
    "\t# __init__ is known as the constructor\n",
    "\tdef __init__(self, name, idnumber):\n",
    "\t\tself.name = name\n",
    "\t\tself.idnumber = idnumber\n",
    "\n",
    "\tdef display(self):\n",
    "\t\tprint(self.name)\n",
    "\t\tprint(self.idnumber)\n",
    "\t\t\n",
    "\tdef details(self):\n",
    "\t\tprint(\"My name is {}\".format(self.name))\n",
    "\t\tprint(\"IdNumber: {}\".format(self.idnumber))\n",
    "\t\n",
    "# child class\n",
    "class Employee(Person):\n",
    "\tdef __init__(self, name, idnumber, salary, post):\n",
    "\t\tself.salary = salary\n",
    "\t\tself.post = post\n",
    "\n",
    "\t\t# invoking the __init__ of the parent class\n",
    "\t\tPerson.__init__(self, name, idnumber)\n",
    "\t\t\n",
    "\tdef details(self):\n",
    "\t\tprint(\"My name is {}\".format(self.name))\n",
    "\t\tprint(\"IdNumber: {}\".format(self.idnumber))\n",
    "\t\tprint(\"Post: {}\".format(self.post))\n",
    "\n",
    "\n",
    "\n",
    "# creation of an object variable or an instance\n",
    "a = Employee('Rahul', 886012, 200000, \"Intern\")\n",
    "\n",
    "# calling a function of the class Person using\n",
    "# its instance\n",
    "a.display()\n",
    "a.details()\n"
   ]
  },
  {
   "cell_type": "code",
   "execution_count": 5,
   "metadata": {},
   "outputs": [
    {
     "data": {
      "text/plain": [
       "<bound method Person.printname of <__main__.student object at 0x0000019A2CC56690>>"
      ]
     },
     "execution_count": 5,
     "metadata": {},
     "output_type": "execute_result"
    }
   ],
   "source": [
    "class Person:\n",
    "    def __init__(self, fname, lname):\n",
    "        self.firstname = fname\n",
    "        self.lastname = lname\n",
    "\n",
    "    def printname(self):\n",
    "        print(self.firstname, self.lastname)\n",
    "\n",
    "class student(Person):\n",
    "    pass\n",
    "\n",
    "x = student(\"Sameer\", \"Pasha\")\n",
    "x.printname"
   ]
  },
  {
   "cell_type": "code",
   "execution_count": null,
   "metadata": {},
   "outputs": [],
   "source": [
    "class Vehicle:\n",
    "    def __init__(self, brand, model):\n",
    "        self.brand = brand\n",
    "        self.model = model\n",
    "\n",
    "    def display_info(self):\n",
    "        return f\"{self.brand} {self.model}\"\n",
    "\n",
    "class Car(Vehicle):\n",
    "    def __init__(self, brand, model, num_doors):\n",
    "        # Call the constructor of the base class (Vehicle)\n",
    "        super().__init__(brand, model)\n",
    "        self.num_doors = num_doors\n",
    "\n",
    "    def display_info(self):\n",
    "        # Override the display_info method of the base class\n",
    "        return f\"{self.brand} {self.model} with {self.num_doors} doors\"\n",
    "\n",
    "class Motorcycle(Vehicle):\n",
    "    def __init__(self, brand, model, num_wheels):\n",
    "        super().__init__(brand, model)\n",
    "        self.num_wheels = num_wheels\n",
    "\n",
    "    def display_info(self):\n",
    "        # Override the display_info method of the base class\n",
    "        return f\"{self.brand} {self.model} with {self.num_wheels} wheels\"\n",
    "\n",
    "# Creating instances of subclasses\n",
    "car_instance = Car(\"Toyota\", \"Camry\", 4)\n",
    "motorcycle_instance = Motorcycle(\"Harley-Davidson\", \"Sportster\", 2)\n",
    "\n",
    "# Calling the display_info method\n",
    "print(car_instance.display_info())  # Output: Toyota Camry with 4 doors\n",
    "print(motorcycle_instance.display_info())  # Output: Harley-Davidson Sportster with 2 wheels"
   ]
  },
  {
   "cell_type": "markdown",
   "metadata": {},
   "source": [
    "### Python Polymorphism\n",
    "- Polymorphism simply means having many forms. For example, we need to determine if the given species of birds fly or not, using polymorphism we can do this using a single function.\n",
    "- Polymorphism in Python refers to the ability of objects to take on multiple forms. In the context of object-oriented programming, polymorphism allows objects of different classes to be treated as objects of a common base class. This can be achieved through method overriding and the use of a common interface."
   ]
  },
  {
   "cell_type": "code",
   "execution_count": 13,
   "metadata": {},
   "outputs": [
    {
     "name": "stdout",
     "output_type": "stream",
     "text": [
      "Woof!\n",
      "Meow!\n",
      "Chirp!\n"
     ]
    }
   ],
   "source": [
    "class Animal:\n",
    "    def speak(self):\n",
    "        pass  # Abstract method, to be overridden by subclasses\n",
    "\n",
    "class Dog(Animal):\n",
    "    def speak(self):\n",
    "        return \"Woof!\"\n",
    "\n",
    "class Cat(Animal):\n",
    "    def speak(self):\n",
    "        return \"Meow!\"\n",
    "\n",
    "class Bird(Animal):\n",
    "    def speak(self):\n",
    "        return \"Chirp!\"\n",
    "\n",
    "# Function that takes an Animal object and calls its speak method\n",
    "def animal_sound(animal):\n",
    "    return animal.speak()\n",
    "\n",
    "# Creating instances of different subclasses\n",
    "dog_instance = Dog()\n",
    "cat_instance = Cat()\n",
    "bird_instance = Bird()\n",
    "\n",
    "# Calling the animal_sound function with different types of animals\n",
    "print(animal_sound(dog_instance))  \n",
    "print(animal_sound(cat_instance)) \n",
    "print(animal_sound(bird_instance))  "
   ]
  },
  {
   "cell_type": "markdown",
   "metadata": {},
   "source": [
    "### Python Encapsulation\n",
    "Encapsulation in Python is a fundamental concept in object-oriented programming that involves bundling the data (attributes) and methods that operate on the data into a single unit known as a class. It restricts access to some of the object's components, providing data protection and implementation hiding."
   ]
  },
  {
   "cell_type": "code",
   "execution_count": 14,
   "metadata": {},
   "outputs": [
    {
     "name": "stdout",
     "output_type": "stream",
     "text": [
      "Account holder: John Doe\n",
      "Current balance: $1000\n",
      "Deposit of $500 successful. New balance: $1500\n",
      "Withdrawal of $200 successful. New balance: $1300\n"
     ]
    }
   ],
   "source": [
    "class BankAccount:\n",
    "    def __init__(self, account_holder, balance=0):\n",
    "        self._account_holder = account_holder  # Protected attribute\n",
    "        self._balance = balance  # Protected attribute\n",
    "\n",
    "    def deposit(self, amount):\n",
    "        if amount > 0:\n",
    "            self._balance += amount\n",
    "            return f\"Deposit of ${amount} successful. New balance: ${self._balance}\"\n",
    "        else:\n",
    "            return \"Invalid deposit amount\"\n",
    "\n",
    "    def withdraw(self, amount):\n",
    "        if 0 < amount <= self._balance:\n",
    "            self._balance -= amount\n",
    "            return f\"Withdrawal of ${amount} successful. New balance: ${self._balance}\"\n",
    "        else:\n",
    "            return \"Invalid withdrawal amount\"\n",
    "\n",
    "    def get_balance(self):\n",
    "        return f\"Current balance: ${self._balance}\"\n",
    "\n",
    "    def get_account_holder(self):\n",
    "        return f\"Account holder: {self._account_holder}\"\n",
    "\n",
    "# Creating an instance of the BankAccount class\n",
    "account = BankAccount(\"John Doe\", 1000)\n",
    "\n",
    "# Accessing protected attributes and methods\n",
    "print(account.get_account_holder())  \n",
    "print(account.get_balance())  \n",
    "print(account.deposit(500))  \n",
    "print(account.withdraw(200))  "
   ]
  },
  {
   "cell_type": "markdown",
   "metadata": {},
   "source": [
    "### Magic methods in Python\n",
    "\n",
    "### Python’s Magic Methods Guide\n",
    "\n",
    "### Below are the lists of magic functions in Python and their uses.\n",
    "\n",
    "### Initialization and Construction\n",
    "\n",
    "- __new__: To get called in an object’s instantiation.\n",
    "\n",
    "- __init__: To get called by the __new__ method.\n",
    "\n",
    "- __del__: It is the destructor.\n",
    "\n",
    "### Numeric magic methods\n",
    "\n",
    "- __trunc__(self): Implements behavior for math.trunc()\n",
    "\n",
    "- __ceil__(self): Implements behavior for math.ceil()\n",
    "\n",
    "- __floor__(self): Implements behavior for math.floor()\n",
    "\n",
    "- __round__(self,n): Implements behavior for the built-in round()\n",
    "\n",
    "- __invert__(self): Implements behavior for inversion using the ~ operator.\n",
    "\n",
    "- __abs__(self): Implements behavior for the built-in abs()\n",
    "\n",
    "- __neg__(self): Implements behavior for negation\n",
    "\n",
    "- __pos__(self): Implements behavior for unary positive\n",
    "\n",
    "### Arithmetic operators\n",
    "\n",
    "- __add__(self, other): Implements behavior for math.trunc()\n",
    "\n",
    "- __sub__(self, other): Implements behavior for math.ceil()\n",
    "\n",
    "- __mul__(self, other): Implements behavior for math.floor()\n",
    "\n",
    "- __floordiv__(self, other): Implements behavior for the built-in round()\n",
    "\n",
    "- __div__(self, other): Implements behavior for inversion using the ~ operator.\n",
    "\n",
    "- __truediv__(self, other): Implements behavior for the built-in abs()\n",
    "\n",
    "- __mod__(self, other): Implements behavior for negation\n",
    "\n",
    "- __divmod__(self, other): Implements behavior for unary positive\n",
    "\n",
    "- __pow__: Implements behavior for exponents using the ** operator.\n",
    "\n",
    "- __lshift__(self, other): Implements left bitwise shift using the << operator.\n",
    "\n",
    "- __rshift__(self, other): Implements right bitwise shift using the >> operator.\n",
    "\n",
    "- __and__(self, other): Implements bitwise and using the & operator.\n",
    "\n",
    "- __or__(self, other): Implements bitwise or using the | operator.\n",
    "\n",
    "- __xor__(self, other): Implements bitwise xor using the ^ operator.\n",
    "\n",
    "### String Magic Methods\n",
    "\n",
    "- __str__(self): Defines behavior for when str() is called on an instance of your class.\n",
    "\n",
    "- __repr__(self): To get called by built-int repr() method to return a machine readable representation of a type.\n",
    "\n",
    "- __unicode__(self): This method to return an unicode string of a type.\n",
    "\n",
    "- __format__(self, formatstr): return a new style of string.\n",
    "\n",
    "- __hash__(self): It has to return an integer, and its result is used for quick key comparison in dictionaries.\n",
    "\n",
    "- __nonzero__(self): Defines behavior for when bool() is called on an instance of your class.\n",
    "\n",
    "- __dir__(self): This method to return a list of attributes of a class.\n",
    "\n",
    "- __sizeof__(self): It return the size of the object.\n",
    "\n",
    "### Comparison magic methods\n",
    "\n",
    "- __eq__(self, other): Defines behavior for the equality operator, ==.\n",
    "\n",
    "- __ne__(self, other): Defines behavior for the inequality operator, !=.\n",
    "\n",
    "- __lt__(self, other): Defines behavior for the less-than operator, <.\n",
    "\n",
    "- __gt__(self, other): Defines behavior for the greater-than operator, >.\n",
    "\n",
    "- __le__(self, other): Defines behavior for the less-than-or-equal-to operator, <=.\n",
    "\n",
    "- __ge__(self, other): Defines behavior for the greater-than-or-equal-to operator, >=.\n"
   ]
  }
 ],
 "metadata": {
  "kernelspec": {
   "display_name": "Python 3",
   "language": "python",
   "name": "python3"
  },
  "language_info": {
   "codemirror_mode": {
    "name": "ipython",
    "version": 3
   },
   "file_extension": ".py",
   "mimetype": "text/x-python",
   "name": "python",
   "nbconvert_exporter": "python",
   "pygments_lexer": "ipython3",
   "version": "3.11.3"
  }
 },
 "nbformat": 4,
 "nbformat_minor": 2
}
