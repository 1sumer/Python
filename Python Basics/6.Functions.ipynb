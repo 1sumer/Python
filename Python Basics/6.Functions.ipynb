{
 "cells": [
  {
   "cell_type": "markdown",
   "id": "b027be66",
   "metadata": {},
   "source": [
    "## **FUNCTIONS**\n",
    "A function is a small re-usable snippet of the code which is written to ouput the result of a specific task.\n",
    "When a given task has to be performed repeatedly for a given task, it will be good to create a function for the task with generally specified inputs and then the fucntion can be recalled to be used for other inputs as and when required further in the program. \n",
    "\n",
    "- Functions make our program look simple and organized.\n",
    "- Functions are blocks of reusable code, defined using the def keyword.\n",
    "\n",
    "**Parameters and Arguments:**\n",
    "\n",
    "- Parameters are variables in the function definition.\n",
    "- Arguments are the values passed to the function when calling it.\n",
    "- Arguments allows a variable number of positional arguments.\n",
    "\n",
    "\n",
    "#### **SYNTAX**\n",
    "\n",
    "<pre><code>def FunctionName(Arguments/Parameters):\n",
    "    Body of the function\n",
    "    return Expression/output parameter\n",
    "</code></pre>"
   ]
  },
  {
   "cell_type": "markdown",
   "id": "14651def",
   "metadata": {},
   "source": [
    "#### **Types of Functions**\n",
    "There are 2 types of functions in Python\n",
    "1. User-defined Functions:\n",
    "\n",
    "    So far, the functions we define like SquareIt, SquareList...which were not already available in Python are called User-defined function.\n",
    "    \n",
    "2. Built-in functions:\n",
    "\n",
    "    Functions that are already availabble in Python\n",
    "\n",
    "Let us look at few Built in Function applications:"
   ]
  },
  {
   "cell_type": "code",
   "execution_count": 2,
   "id": "52cd246f",
   "metadata": {},
   "outputs": [
    {
     "name": "stdout",
     "output_type": "stream",
     "text": [
      "3\n"
     ]
    }
   ],
   "source": [
    "#Defining a Function:\n",
    "def my_function(parameter1, parameter2):\n",
    "    # Function body\n",
    "    result = parameter1 + parameter2\n",
    "    return print(result)\n",
    "\n",
    "#Calling a Function:\n",
    "my_function(1, 2)"
   ]
  },
  {
   "cell_type": "code",
   "execution_count": 3,
   "id": "95383bea",
   "metadata": {},
   "outputs": [
    {
     "name": "stdout",
     "output_type": "stream",
     "text": [
      "112\n"
     ]
    }
   ],
   "source": [
    "my_function(44, 68)"
   ]
  },
  {
   "cell_type": "code",
   "execution_count": 4,
   "id": "eca4470a",
   "metadata": {},
   "outputs": [
    {
     "name": "stdout",
     "output_type": "stream",
     "text": [
      "102\n"
     ]
    }
   ],
   "source": [
    "my_function(44, 58)"
   ]
  },
  {
   "cell_type": "markdown",
   "id": "06acf31d",
   "metadata": {},
   "source": [
    "**Return**\n",
    "\n",
    "- Purpose: return is used to exit a function and pass a value back to the caller.\n",
    "- Usage: It is used to send a result from a function so that it can be used elsewhere in the program.\n",
    "- Effect: It can change the flow of the program by providing the output of a function, which can then be stored, used in expressions, or passed to other functions."
   ]
  },
  {
   "cell_type": "code",
   "execution_count": 5,
   "id": "70d4c7fc",
   "metadata": {},
   "outputs": [
    {
     "data": {
      "text/plain": [
       "3"
      ]
     },
     "execution_count": 5,
     "metadata": {},
     "output_type": "execute_result"
    }
   ],
   "source": [
    "def add_numbers(x=1, y=2):\n",
    "    result = x + y\n",
    "    return result\n",
    "\n",
    "add_numbers()"
   ]
  },
  {
   "cell_type": "code",
   "execution_count": 7,
   "id": "ab1cb0e9",
   "metadata": {},
   "outputs": [
    {
     "data": {
      "text/plain": [
       "1102"
      ]
     },
     "execution_count": 7,
     "metadata": {},
     "output_type": "execute_result"
    }
   ],
   "source": [
    "add_numbers(100,1002)"
   ]
  },
  {
   "cell_type": "markdown",
   "id": "b72ee190",
   "metadata": {},
   "source": [
    "**Print**\n",
    "\n",
    "- Purpose: print is used to output data to the console. It displays the value on the screen.\n",
    "- Usage: Typically used for debugging or providing user feedback.\n",
    "- Effect: It does not affect the flow of a program; it simply shows a value."
   ]
  },
  {
   "cell_type": "code",
   "execution_count": 8,
   "id": "79d89f7e",
   "metadata": {},
   "outputs": [
    {
     "name": "stdout",
     "output_type": "stream",
     "text": [
      "20\n"
     ]
    }
   ],
   "source": [
    "def add():\n",
    "    x = int(input(\"enter the number\"))\n",
    "    y = int(input(\"enter the second number\"))\n",
    "    z = x+y\n",
    "    print(z)\n",
    "add ()"
   ]
  },
  {
   "cell_type": "code",
   "execution_count": 12,
   "id": "302ab180",
   "metadata": {},
   "outputs": [
    {
     "name": "stdout",
     "output_type": "stream",
     "text": [
      "2\n",
      "4\n",
      "6\n",
      "8\n",
      "10\n"
     ]
    }
   ],
   "source": [
    "numbers = [1,2,3,4,5,6,7,8,9,10]\n",
    "for num in numbers:\n",
    "    if num % 2 == 0:\n",
    "        print(num)"
   ]
  },
  {
   "cell_type": "code",
   "execution_count": 14,
   "metadata": {},
   "outputs": [
    {
     "name": "stdout",
     "output_type": "stream",
     "text": [
      "2 is divisible by 2\n",
      "4 is divisible by 2\n",
      "6 is divisible by 2\n",
      "8 is divisible by 2\n",
      "10 is divisible by 2\n"
     ]
    }
   ],
   "source": [
    "def div(numbers):\n",
    "    for num in numbers:\n",
    "        if num % 2 == 0:\n",
    "            print(f\"{num} is divisible by 2\")\n",
    "            \n",
    "numbers = [1,2,3,4,5,6,7,8,9,10]\n",
    "div(numbers)"
   ]
  },
  {
   "cell_type": "code",
   "execution_count": 15,
   "metadata": {},
   "outputs": [
    {
     "name": "stdout",
     "output_type": "stream",
     "text": [
      "44 is divisible by 2\n",
      "46 is divisible by 2\n",
      "48 is divisible by 2\n",
      "52 is divisible by 2\n",
      "6 is divisible by 2\n",
      "512 is divisible by 2\n"
     ]
    }
   ],
   "source": [
    "div((44,46,47,48,52,6,512))"
   ]
  },
  {
   "cell_type": "code",
   "execution_count": 20,
   "metadata": {},
   "outputs": [
    {
     "data": {
      "text/plain": [
       "[2, 4, 6, 8, 10]"
      ]
     },
     "execution_count": 20,
     "metadata": {},
     "output_type": "execute_result"
    }
   ],
   "source": [
    "def divis(numbers):\n",
    "    return[num for num in numbers if num % 2 == 0]\n",
    "\n",
    "no = [1,2,3,4,5,6,7,8,9,10]\n",
    "divis(no)"
   ]
  },
  {
   "cell_type": "code",
   "execution_count": 21,
   "id": "93c08cd3",
   "metadata": {},
   "outputs": [
    {
     "name": "stdout",
     "output_type": "stream",
     "text": [
      "The addition is 22\n"
     ]
    }
   ],
   "source": [
    "x=int(input(\"enter the number\"))\n",
    "y=int(input(\"enter the second number\"))\n",
    "\n",
    "def add1(x,y):\n",
    "    z = x+y\n",
    "    print(\"The addition is\",z)\n",
    "    \n",
    "add1(x, y)        "
   ]
  },
  {
   "cell_type": "code",
   "execution_count": 23,
   "id": "a09f9b91",
   "metadata": {},
   "outputs": [
    {
     "name": "stdout",
     "output_type": "stream",
     "text": [
      "Hello  ('Rashmi', 'Soundrya', 'Pavan')\n"
     ]
    }
   ],
   "source": [
    "#let me greet you with a function\n",
    "def greet(p):\n",
    "    return print('Hello ', str(p))  \n",
    "a = 'Rashmi'\n",
    "b = 'Soundrya'\n",
    "c = 'Pavan'\n",
    "\n",
    "#let us recall the function. \n",
    "greet((a,b,c))"
   ]
  },
  {
   "cell_type": "code",
   "execution_count": 26,
   "id": "3c8f3c80",
   "metadata": {},
   "outputs": [
    {
     "data": {
      "text/plain": [
       "(625, 15625)"
      ]
     },
     "execution_count": 26,
     "metadata": {},
     "output_type": "execute_result"
    }
   ],
   "source": [
    "def sqcb(a):\n",
    "    '''\n",
    "    This function returns the square and cube of a given number\n",
    "    '''\n",
    "    return a**2, a**3\n",
    "\n",
    "sqcb(25)"
   ]
  },
  {
   "cell_type": "code",
   "execution_count": 27,
   "id": "19a857bf",
   "metadata": {},
   "outputs": [
    {
     "name": "stdout",
     "output_type": "stream",
     "text": [
      "Which number is the biggest modulo 5?\n",
      "14\n"
     ]
    }
   ],
   "source": [
    "def mod_5(x):\n",
    "    return x % 5\n",
    "\n",
    "print(\n",
    "    'Which number is the biggest modulo 5?',\n",
    "    max(100, 51, 14, key=mod_5),\n",
    "    sep='\\n',\n",
    ")"
   ]
  },
  {
   "cell_type": "code",
   "execution_count": 28,
   "id": "366041d0",
   "metadata": {},
   "outputs": [
    {
     "data": {
      "text/plain": [
       "12"
      ]
     },
     "execution_count": 28,
     "metadata": {},
     "output_type": "execute_result"
    }
   ],
   "source": [
    "min(12, 13, 14 , key=mod_5)"
   ]
  },
  {
   "cell_type": "code",
   "execution_count": 1,
   "metadata": {},
   "outputs": [
    {
     "name": "stdout",
     "output_type": "stream",
     "text": [
      "2\n"
     ]
    }
   ],
   "source": [
    "def most_frequent(List):\n",
    "    return max(set(List), key=List.count)\n",
    "\n",
    "List = [2, 1, 2, 2, 1, 3]\n",
    "print(most_frequent(List))"
   ]
  },
  {
   "cell_type": "code",
   "execution_count": null,
   "id": "edb5f135",
   "metadata": {},
   "outputs": [],
   "source": [
    "year = int(input(\"Enter year: \"))\n",
    "if (year%400==0 and year%100==0) or (year%4==0 and year%100!=0):\n",
    "    print(f\"{year} is leap year\")\n",
    "else:\n",
    "    print(f\"{year} not leap year\")"
   ]
  },
  {
   "cell_type": "code",
   "execution_count": 45,
   "id": "6597a160",
   "metadata": {},
   "outputs": [
    {
     "name": "stdout",
     "output_type": "stream",
     "text": [
      "2000 is leap year\n",
      "2001 not leap year\n",
      "2002 not leap year\n",
      "2003 not leap year\n",
      "2004 is leap year\n",
      "2005 not leap year\n",
      "2006 not leap year\n",
      "2007 not leap year\n",
      "2008 is leap year\n",
      "2009 not leap year\n",
      "2010 not leap year\n",
      "2011 not leap year\n",
      "2012 is leap year\n",
      "2013 not leap year\n",
      "2014 not leap year\n",
      "2015 not leap year\n",
      "2016 is leap year\n",
      "2017 not leap year\n",
      "2018 not leap year\n",
      "2019 not leap year\n",
      "2020 is leap year\n",
      "2021 not leap year\n",
      "2022 not leap year\n",
      "2023 not leap year\n",
      "2024 is leap year\n",
      "2025 not leap year\n",
      "2026 not leap year\n",
      "2027 not leap year\n",
      "2028 is leap year\n",
      "2029 not leap year\n",
      "2030 not leap year\n",
      "2031 not leap year\n",
      "2032 is leap year\n",
      "2033 not leap year\n",
      "2034 not leap year\n",
      "2035 not leap year\n",
      "2036 is leap year\n",
      "2037 not leap year\n",
      "2038 not leap year\n",
      "2039 not leap year\n"
     ]
    }
   ],
   "source": [
    "def leapyaer(year):\n",
    "    for i in range(2000,2040):\n",
    "        year=i\n",
    "        if (year%400==0 and year%100==0) or (year%4==0 and year%100!=0):\n",
    "            print(f\"{year} is leap year\")\n",
    "        else:\n",
    "            print(f\"{year} not leap year\")\n",
    "        \n",
    "leapyaer()"
   ]
  },
  {
   "cell_type": "markdown",
   "id": "f366189e",
   "metadata": {},
   "source": [
    "### **Local and Global Variables in Python**\n",
    "#### **Local Variables**\n",
    "- A local variable is declared inside a function and can only be accessed within that function.\n",
    "- It is limited to the block of code (function or method) where it is defined.\n",
    "- The variable exists only while the function is being executed. Once the function ends, the variable is destroyed."
   ]
  },
  {
   "cell_type": "code",
   "execution_count": null,
   "id": "ee0cd00f",
   "metadata": {},
   "outputs": [
    {
     "name": "stdout",
     "output_type": "stream",
     "text": [
      "Inside the function, x = 10\n"
     ]
    }
   ],
   "source": [
    "def my_function():\n",
    "    x = 10  # Local variable\n",
    "    print(\"Inside the function, x =\", x)\n",
    "\n",
    "my_function()\n",
    "# print(x)  # This will raise an error because 'x' is not defined outside the function."
   ]
  },
  {
   "cell_type": "markdown",
   "metadata": {},
   "source": [
    "#### **Global Variables**\n",
    "- A global variable is declared outside any function and can be accessed both inside and outside functions.\n",
    "- It is available throughout the entire program.\n",
    "- The variable exists as long as the program is running.\n",
    "- To modify a global variable inside a function, you need to use the `global` keyword. Without it, Python treats the variable as a local variable.\n",
    "- In nested functions, when you want to modify a variable from the enclosing (non-global) scope, you use the `nonlocal` keyword."
   ]
  },
  {
   "cell_type": "code",
   "execution_count": null,
   "id": "53a4bc4e",
   "metadata": {},
   "outputs": [
    {
     "name": "stdout",
     "output_type": "stream",
     "text": [
      "Inside the function, y = 20\n",
      "Outside the function, y = 20\n"
     ]
    }
   ],
   "source": [
    "y = 20  # Global variable\n",
    "\n",
    "def my_function():\n",
    "    print(\"Inside the function, y =\", y)  # Accessing the global variable\n",
    "\n",
    "my_function()\n",
    "print(\"Outside the function, y =\", y)"
   ]
  },
  {
   "cell_type": "code",
   "execution_count": null,
   "id": "d853b2ef",
   "metadata": {},
   "outputs": [
    {
     "name": "stdout",
     "output_type": "stream",
     "text": [
      "Inside the function, z = 40\n",
      "Outside the function, z = 40\n"
     ]
    }
   ],
   "source": [
    "# Modifying Global Variables Inside a Function\n",
    "z = 30  # Global variable\n",
    "\n",
    "def my_function():\n",
    "    global z  # Declare that 'z' is the global variable\n",
    "    z = z + 10  # Modify the global variable\n",
    "    print(\"Inside the function, z =\", z)\n",
    "\n",
    "my_function()\n",
    "print(\"Outside the function, z =\", z)\n"
   ]
  },
  {
   "cell_type": "code",
   "execution_count": null,
   "id": "0e85265e",
   "metadata": {},
   "outputs": [
    {
     "name": "stdout",
     "output_type": "stream",
     "text": [
      "Inside inner function, x = 6\n",
      "Inside outer function, x = 6\n"
     ]
    }
   ],
   "source": [
    "def outer_function():\n",
    "    x = 5  # Enclosing scope variable\n",
    "\n",
    "    def inner_function():\n",
    "        nonlocal x  # Modify variable from enclosing scope\n",
    "        x = x + 1\n",
    "        print(\"Inside inner function, x =\", x)\n",
    "\n",
    "    inner_function()\n",
    "    print(\"Inside outer function, x =\", x)\n",
    "\n",
    "outer_function()"
   ]
  },
  {
   "cell_type": "markdown",
   "id": "0beb85c4",
   "metadata": {},
   "source": [
    "### **Argument and Keyword Argument**\n",
    "#### **Function with Arbitrary Arguments (`*args`)**\n",
    "- If you want to pass a variable number of arguments to a function, you can use *args."
   ]
  },
  {
   "cell_type": "code",
   "execution_count": 40,
   "id": "602bcc5b",
   "metadata": {},
   "outputs": [
    {
     "data": {
      "text/plain": [
       "4"
      ]
     },
     "execution_count": 40,
     "metadata": {},
     "output_type": "execute_result"
    }
   ],
   "source": [
    "def sum_numbers(args):\n",
    "    return sum(args)\n",
    "\n",
    "sum_numbers((1,3))"
   ]
  },
  {
   "cell_type": "code",
   "execution_count": 37,
   "id": "127e8e11",
   "metadata": {},
   "outputs": [
    {
     "data": {
      "text/plain": [
       "21"
      ]
     },
     "execution_count": 37,
     "metadata": {},
     "output_type": "execute_result"
    }
   ],
   "source": [
    "def sum_numbers(*args):\n",
    "    return sum(args)\n",
    "\n",
    "sum_numbers(1, 2, 3, 4, 5 ,6)"
   ]
  },
  {
   "cell_type": "code",
   "execution_count": 42,
   "id": "140a345f",
   "metadata": {},
   "outputs": [
    {
     "name": "stdout",
     "output_type": "stream",
     "text": [
      "2 4 6 8 10 "
     ]
    }
   ],
   "source": [
    "def even(*num):\n",
    "    for i in num:\n",
    "        if i % 2 == 0:\n",
    "            print(i, end=\" \")\n",
    "            \n",
    "even(1, 2, 3, 4, 5, 6, 7, 8, 9, 10)"
   ]
  },
  {
   "cell_type": "code",
   "execution_count": 1,
   "id": "017f9c78",
   "metadata": {},
   "outputs": [
    {
     "data": {
      "text/plain": [
       "'earth/mars/venus'"
      ]
     },
     "execution_count": 1,
     "metadata": {},
     "output_type": "execute_result"
    }
   ],
   "source": [
    "def concat(*args, sep=\"/\"):\n",
    "    return sep.join(args)\n",
    "\n",
    "concat(\"earth\", \"mars\", \"venus\")"
   ]
  },
  {
   "cell_type": "markdown",
   "id": "1f922d61",
   "metadata": {},
   "source": [
    "#### **Function with Keyword Arguments (`**kwargs`)**\n",
    "- You can pass a variable number of keyword arguments using `**kwargs`."
   ]
  },
  {
   "cell_type": "code",
   "execution_count": 4,
   "id": "f109d7c2",
   "metadata": {},
   "outputs": [
    {
     "name": "stdout",
     "output_type": "stream",
     "text": [
      "name: Sumer\n",
      "age: 25\n",
      "location: Manchanabale\n",
      "phone: 1234567890\n"
     ]
    }
   ],
   "source": [
    "def display_info(**kwargs):\n",
    "    for key, value in kwargs.items():\n",
    "        print(f\"{key}: {value}\")\n",
    "\n",
    "display_info(name=\"Sumer\", age=25, location=\"Manchanabale\", phone=1234567890)"
   ]
  },
  {
   "cell_type": "code",
   "execution_count": 3,
   "id": "5afd7e5b",
   "metadata": {},
   "outputs": [
    {
     "name": "stdout",
     "output_type": "stream",
     "text": [
      "Square root of a is 4\n",
      "Square root of b is 9\n",
      "Square root of c is 16\n"
     ]
    }
   ],
   "source": [
    "def sqrt(**no):\n",
    "    for a,b in no.items():\n",
    "        print(f\"Square root of {a} is {b**2}\")\n",
    "sqrt(a=2,b=3,c=4)"
   ]
  },
  {
   "cell_type": "markdown",
   "id": "054134d8",
   "metadata": {},
   "source": [
    "### **Lambda Expressions (lambda):**\n",
    "Definition:\n",
    "\n",
    "- lambda allows the creation of anonymous functions (functions without a name).\n",
    "- Lambda: Concise, one-line functions, often used for short-term operations."
   ]
  },
  {
   "cell_type": "code",
   "execution_count": 6,
   "id": "b2403ff9",
   "metadata": {},
   "outputs": [
    {
     "data": {
      "text/plain": [
       "8"
      ]
     },
     "execution_count": 6,
     "metadata": {},
     "output_type": "execute_result"
    }
   ],
   "source": [
    "add = lambda x, y : x + y\n",
    "add(3, 5)"
   ]
  },
  {
   "cell_type": "code",
   "execution_count": 12,
   "id": "614518e0",
   "metadata": {},
   "outputs": [
    {
     "data": {
      "text/plain": [
       "['palindrom', 'palindrom', 'palindrom', 'not a palindrom']"
      ]
     },
     "execution_count": 12,
     "metadata": {},
     "output_type": "execute_result"
    }
   ],
   "source": [
    "palindrom = lambda x: ['palindrom' if y == y[::-1] else 'not a palindrom' for y in x]\n",
    "palindrom(['madam','radar', 'level', 'good'])"
   ]
  },
  {
   "cell_type": "code",
   "execution_count": 13,
   "metadata": {},
   "outputs": [
    {
     "data": {
      "text/plain": [
       "False"
      ]
     },
     "execution_count": 13,
     "metadata": {},
     "output_type": "execute_result"
    }
   ],
   "source": [
    "even = lambda x : x%2==0\n",
    "even(3)"
   ]
  },
  {
   "cell_type": "code",
   "execution_count": 14,
   "id": "47ac4667",
   "metadata": {},
   "outputs": [
    {
     "data": {
      "text/plain": [
       "[2, 4, 6, 8, 10]"
      ]
     },
     "execution_count": 14,
     "metadata": {},
     "output_type": "execute_result"
    }
   ],
   "source": [
    "even = lambda x : [i for i in x if i % 2 == 0]\n",
    "even([1,2,3,4,5,6,7,8,9,10])"
   ]
  },
  {
   "cell_type": "code",
   "execution_count": 15,
   "id": "c3844e75",
   "metadata": {},
   "outputs": [
    {
     "name": "stdout",
     "output_type": "stream",
     "text": [
      "343\n",
      "343\n"
     ]
    }
   ],
   "source": [
    "# Python code to illustrate the cube of a number\n",
    "# using lambda function\n",
    "def cube(x): return x**3\n",
    "\n",
    "cube_v2 = lambda x : x**3\n",
    "\n",
    "print(cube(7))\n",
    "print(cube_v2(7))"
   ]
  },
  {
   "cell_type": "code",
   "execution_count": 6,
   "id": "8375098a",
   "metadata": {},
   "outputs": [
    {
     "data": {
      "text/plain": [
       "43"
      ]
     },
     "execution_count": 6,
     "metadata": {},
     "output_type": "execute_result"
    }
   ],
   "source": [
    "def make_incrementor(n):\n",
    "    return lambda x: x + n\n",
    "f = make_incrementor(42)\n",
    "f(1)"
   ]
  },
  {
   "cell_type": "markdown",
   "id": "c905aae6",
   "metadata": {},
   "source": [
    "### **map() Function:**\n",
    "- The `map()` function applies a given function to all items in an input list (or any other iterable) and returns a map object (which can be converted into a list, tuple, etc.).\n",
    "\n",
    "```map(function, iterable)```"
   ]
  },
  {
   "cell_type": "code",
   "execution_count": 18,
   "id": "5c393e9a",
   "metadata": {},
   "outputs": [
    {
     "data": {
      "text/plain": [
       "[1, 4, 9, 16, 25, 36, 49, 64, 81, 100]"
      ]
     },
     "execution_count": 18,
     "metadata": {},
     "output_type": "execute_result"
    }
   ],
   "source": [
    "ist = [1,2,3,4,5,6,7,8,9,10]\n",
    "\n",
    "sqrt = list(map(lambda x:x**2, ist))\n",
    "sqrt"
   ]
  },
  {
   "cell_type": "code",
   "execution_count": 28,
   "id": "b8e39388",
   "metadata": {},
   "outputs": [
    {
     "data": {
      "text/plain": [
       "['', 2, '', 4, '', 6, '', 8, '', 10]"
      ]
     },
     "execution_count": 28,
     "metadata": {},
     "output_type": "execute_result"
    }
   ],
   "source": [
    "ist = [1,2,3,4,5,6,7,8,9,10]\n",
    "\n",
    "even = list(map(lambda x: x if x%2==0 else '', ist))\n",
    "even"
   ]
  },
  {
   "cell_type": "code",
   "execution_count": 20,
   "id": "6442d33a",
   "metadata": {},
   "outputs": [
    {
     "data": {
      "text/plain": [
       "22"
      ]
     },
     "execution_count": 20,
     "metadata": {},
     "output_type": "execute_result"
    }
   ],
   "source": [
    "# We will look at one more example\n",
    "def SquareIt(Num):\n",
    "    return Num*2\n",
    "\n",
    "#recalling function\n",
    "SquareIt(11)"
   ]
  },
  {
   "cell_type": "code",
   "execution_count": 21,
   "id": "54fa60a8",
   "metadata": {},
   "outputs": [
    {
     "name": "stdout",
     "output_type": "stream",
     "text": [
      "[2, 4, 6, 8, 10, 12]\n"
     ]
    }
   ],
   "source": [
    "list1 = [1,2,3,4,5,6]\n",
    "SquaredList = list(map(SquareIt, list1))\n",
    "print(SquaredList)"
   ]
  },
  {
   "cell_type": "code",
   "execution_count": 23,
   "id": "e4a44ee1",
   "metadata": {},
   "outputs": [
    {
     "name": "stdout",
     "output_type": "stream",
     "text": [
      "['', 2, '', 4, '', 6, '', 8, '', 10]\n"
     ]
    }
   ],
   "source": [
    "def even(x):\n",
    "    if x % 2 == 0:\n",
    "        return x\n",
    "    else:\n",
    "        return ''\n",
    "\n",
    "list2 = (1,2,3,4,5,6,7,8,9,10)\n",
    "list1 = list(map(even, list2))\n",
    "print(list1)"
   ]
  },
  {
   "cell_type": "code",
   "execution_count": 60,
   "id": "7d3f4675",
   "metadata": {},
   "outputs": [
    {
     "name": "stdout",
     "output_type": "stream",
     "text": [
      "6 12 "
     ]
    }
   ],
   "source": [
    "list2=[1,2,3,4,5]\n",
    "list1=map(lambda x: x*3,list2)\n",
    "for num in list1:\n",
    "    if num%2 == 0:\n",
    "        print(num,end=\" \")"
   ]
  },
  {
   "cell_type": "markdown",
   "id": "44af5809",
   "metadata": {},
   "source": [
    "### **filter() Function:**\n",
    "- The filter() function filters the elements in an iterable based on a given function that returns True or False. It returns a filter object (which can be converted into a list, tuple, etc.) containing elements that satisfy the condition.\n",
    "\n",
    "```filter(function, iterable)```"
   ]
  },
  {
   "cell_type": "code",
   "execution_count": 73,
   "id": "f8257012",
   "metadata": {},
   "outputs": [
    {
     "name": "stdout",
     "output_type": "stream",
     "text": [
      "[2, 4, 6, 8, 10]\n"
     ]
    }
   ],
   "source": [
    "list2=[1,2,3,4,5,6,7,8,9,10]\n",
    "list1 = list(filter(lambda x : x%2==0,list2))\n",
    "print(list1)"
   ]
  },
  {
   "cell_type": "code",
   "execution_count": 4,
   "id": "386a1950",
   "metadata": {},
   "outputs": [
    {
     "data": {
      "text/plain": [
       "[3, 6, 9]"
      ]
     },
     "execution_count": 4,
     "metadata": {},
     "output_type": "execute_result"
    }
   ],
   "source": [
    "#filter\n",
    "def DivisibleBy_3(a):\n",
    "    if (a % 3 == 0):\n",
    "        return a\n",
    "\n",
    "l = range(10)\n",
    "div_3 = list(filter(DivisibleBy_3, l))\n",
    "div_3"
   ]
  },
  {
   "cell_type": "code",
   "execution_count": 29,
   "id": "a37dcf83",
   "metadata": {},
   "outputs": [
    {
     "name": "stdout",
     "output_type": "stream",
     "text": [
      "[0, 2, 4, 6, 8, 10, 12, 14, 16, 18]\n"
     ]
    }
   ],
   "source": [
    "#Another example of lambda function\n",
    "lst = range(20)\n",
    "evenlst = list(filter(lambda x:x%2==0, lst))\n",
    "print(evenlst)\n"
   ]
  },
  {
   "cell_type": "markdown",
   "id": "b58327fc",
   "metadata": {},
   "source": [
    "### **Reduce() Function:**\n",
    "- The reduce() function (from the functools module) applies a function to the elements of a sequence, cumulatively reducing the sequence to a single value.\n",
    "\n",
    "```reduce(function, iterable)```\n",
    "\n",
    "- function: A function that takes two arguments and reduces them to one.\n",
    "- iterable: The collection you want to reduce."
   ]
  },
  {
   "cell_type": "code",
   "execution_count": 20,
   "id": "b53fb7d0",
   "metadata": {},
   "outputs": [],
   "source": [
    "#pip install functools"
   ]
  },
  {
   "cell_type": "code",
   "execution_count": 1,
   "id": "7d68c40f",
   "metadata": {},
   "outputs": [
    {
     "name": "stdout",
     "output_type": "stream",
     "text": [
      "Sum 36\n"
     ]
    }
   ],
   "source": [
    "from functools import reduce\n",
    "\n",
    "# Example 1: Summing up a list of numbers\n",
    "numbers = [1, 2, 3, 4, 5, 6, 7, 8]\n",
    "sum_result = reduce(lambda x, y: x + y, numbers)\n",
    "print(\"Sum\", sum_result)"
   ]
  },
  {
   "cell_type": "code",
   "execution_count": 31,
   "id": "259fe197",
   "metadata": {},
   "outputs": [
    {
     "name": "stdout",
     "output_type": "stream",
     "text": [
      "Concatenated String: Hello World!\n"
     ]
    }
   ],
   "source": [
    "# Example 2: Concatenating strings in a list\n",
    "words = [\"Hello\", \" \", \"World\", \"!\"]\n",
    "concatenated_string = reduce(lambda x, y: x + y, words)\n",
    "print(\"Concatenated String:\", concatenated_string)"
   ]
  },
  {
   "cell_type": "code",
   "execution_count": 32,
   "id": "15643754",
   "metadata": {},
   "outputs": [
    {
     "name": "stdout",
     "output_type": "stream",
     "text": [
      "Maximum Value: 89\n"
     ]
    }
   ],
   "source": [
    "# Example 3: Finding the maximum value in a list\n",
    "values = [45, 67, 12, 89, 34]\n",
    "max_value = reduce(lambda x, y: x if x > y else y, values)\n",
    "print(\"Maximum Value:\", max_value)"
   ]
  },
  {
   "cell_type": "code",
   "execution_count": 5,
   "id": "dbb2b88b",
   "metadata": {},
   "outputs": [
    {
     "data": {
      "text/plain": [
       "3628800"
      ]
     },
     "execution_count": 5,
     "metadata": {},
     "output_type": "execute_result"
    }
   ],
   "source": [
    "def multiply(a,b):\n",
    "    return a*b\n",
    "\n",
    "n = range(1,11)\n",
    "prod = reduce(multiply, n)\n",
    "prod"
   ]
  },
  {
   "cell_type": "markdown",
   "id": "b3f120da",
   "metadata": {},
   "source": [
    "### **Doc Strings**\n",
    "Let us understand something called 'Doc Strings':\n",
    "   Doc strings are just the text statements while define the objective/purpose of a function. \n",
    "Here is an example,"
   ]
  },
  {
   "cell_type": "code",
   "execution_count": 7,
   "id": "56cb1b53",
   "metadata": {},
   "outputs": [
    {
     "name": "stdout",
     "output_type": "stream",
     "text": [
      "Hello  Praveen\n"
     ]
    }
   ],
   "source": [
    "# Adding Doc strings to our function 'greet(p)'\n",
    "def greet(p):\n",
    "    \"\"\"\n",
    "    This function returns the greeting for a given name.\n",
    "    \"\"\"\n",
    "    return print('Hello ', str(p))\n",
    "greet('Praveen')"
   ]
  },
  {
   "cell_type": "code",
   "execution_count": 17,
   "id": "778903d4",
   "metadata": {},
   "outputs": [
    {
     "name": "stdout",
     "output_type": "stream",
     "text": [
      "\n",
      "This function returns the greeting for a given name.\n",
      "\n"
     ]
    }
   ],
   "source": [
    "#We can look at the objective of any function by using attribute '.__doc__'\n",
    "print(greet.__doc__)"
   ]
  },
  {
   "cell_type": "code",
   "execution_count": 9,
   "id": "d3524b1c",
   "metadata": {},
   "outputs": [
    {
     "name": "stdout",
     "output_type": "stream",
     "text": [
      "Return the sum of a 'start' value (default: 0) plus an iterable of numbers\n",
      "\n",
      "When the iterable is empty, return the start value.\n",
      "This function is intended specifically for use with numeric values and may\n",
      "reject non-numeric types.\n"
     ]
    }
   ],
   "source": [
    "print(sum.__doc__)"
   ]
  },
  {
   "cell_type": "code",
   "execution_count": 21,
   "id": "a743c236",
   "metadata": {},
   "outputs": [
    {
     "name": "stdout",
     "output_type": "stream",
     "text": [
      "Return an enumerate object.\n",
      "\n",
      "  iterable\n",
      "    an object supporting iteration\n",
      "\n",
      "The enumerate object yields pairs containing a count (from start, which\n",
      "defaults to zero) and a value yielded by the iterable argument.\n",
      "\n",
      "enumerate is useful for obtaining an indexed list:\n",
      "    (0, seq[0]), (1, seq[1]), (2, seq[2]), ...\n"
     ]
    }
   ],
   "source": [
    "print(enumerate.__doc__)"
   ]
  },
  {
   "cell_type": "code",
   "execution_count": 10,
   "id": "ac109e39",
   "metadata": {},
   "outputs": [
    {
     "name": "stdout",
     "output_type": "stream",
     "text": [
      "Return the number of items in a container.\n"
     ]
    }
   ],
   "source": [
    "print(len.__doc__)"
   ]
  },
  {
   "cell_type": "code",
   "execution_count": 13,
   "id": "187ea033",
   "metadata": {},
   "outputs": [
    {
     "data": {
      "text/plain": [
       "[1, 4, 9, 16]"
      ]
     },
     "execution_count": 13,
     "metadata": {},
     "output_type": "execute_result"
    }
   ],
   "source": [
    "#let us get the square of numbers in a list\n",
    "def SquareList(a):\n",
    "    \"\"\"\n",
    "    This functions returns square of numbers in a list\n",
    "    \"\"\"\n",
    "    b=[]\n",
    "    for i in a:\n",
    "        b.append(i**2)\n",
    "    return b \n",
    "#recall\n",
    "SquareList([1,2,3,4]) "
   ]
  },
  {
   "cell_type": "code",
   "execution_count": 15,
   "id": "a146d24d",
   "metadata": {},
   "outputs": [
    {
     "name": "stdout",
     "output_type": "stream",
     "text": [
      "1\n",
      "4\n",
      "9\n",
      "16\n"
     ]
    }
   ],
   "source": [
    "#let us get the square of numbers in a list\n",
    "def SquareList(a):\n",
    "    \"\"\"\n",
    "    This functions returns square of numbers in a list\n",
    "    \"\"\"\n",
    "    for i in a:\n",
    "        print(i**2)\n",
    " #recall\n",
    "SquareList([1,2,3,4])"
   ]
  },
  {
   "cell_type": "code",
   "execution_count": 30,
   "id": "72f96e14",
   "metadata": {},
   "outputs": [
    {
     "name": "stdout",
     "output_type": "stream",
     "text": [
      "25\n",
      "36\n",
      "49\n",
      "64\n",
      "81\n"
     ]
    }
   ],
   "source": [
    "SquareList([5,6,7,8,9])"
   ]
  },
  {
   "cell_type": "code",
   "execution_count": 16,
   "id": "ea44e897",
   "metadata": {},
   "outputs": [
    {
     "name": "stdout",
     "output_type": "stream",
     "text": [
      "\n",
      "This functions returns square of numbers in a list\n",
      "\n"
     ]
    }
   ],
   "source": [
    "print(SquareList.__doc__)"
   ]
  },
  {
   "cell_type": "markdown",
   "id": "10b8058a",
   "metadata": {},
   "source": [
    "### **Exercise Questions**"
   ]
  },
  {
   "cell_type": "code",
   "execution_count": 22,
   "id": "857af5c5",
   "metadata": {},
   "outputs": [
    {
     "name": "stdout",
     "output_type": "stream",
     "text": [
      "Rectangle Area: 40\n"
     ]
    }
   ],
   "source": [
    "#def Function Examples:\n",
    "#Example 1: Calculate Area of a Rectangle\n",
    "\n",
    "def calculate_rectangle_area(length, width):\n",
    "    area = length * width\n",
    "    return area\n",
    "\n",
    "# Example Usage\n",
    "rectangle_area = calculate_rectangle_area(5, 8)\n",
    "print(\"Rectangle Area:\", rectangle_area)"
   ]
  },
  {
   "cell_type": "code",
   "execution_count": 24,
   "id": "19b2370b",
   "metadata": {},
   "outputs": [
    {
     "name": "stdout",
     "output_type": "stream",
     "text": [
      "30 Celsius is 86.0 Fahrenheit\n"
     ]
    }
   ],
   "source": [
    "#Example 2: Convert Celsius to Fahrenheit\n",
    "\n",
    "def celsius_to_fahrenheit(celsius):\n",
    "    fahrenheit = (celsius * 9/5) + 32\n",
    "    return fahrenheit\n",
    "\n",
    "# Example Usage\n",
    "temperature_celsius = 30\n",
    "temperature_fahrenheit = celsius_to_fahrenheit(temperature_celsius)\n",
    "print(f\"{temperature_celsius} Celsius is {temperature_fahrenheit} Fahrenheit\")"
   ]
  },
  {
   "cell_type": "code",
   "execution_count": 25,
   "id": "e56c449a",
   "metadata": {},
   "outputs": [
    {
     "name": "stdout",
     "output_type": "stream",
     "text": [
      "13 is Prime: True\n"
     ]
    }
   ],
   "source": [
    "#Example 3: Check if a Number is Prime\n",
    "def is_prime(number):\n",
    "    if number < 2:\n",
    "        return False\n",
    "    for i in range(2, int(number**0.5) + 1):\n",
    "        if number % i == 0:\n",
    "            return False\n",
    "    return True\n",
    "\n",
    "# Example Usage\n",
    "check_number = 13\n",
    "print(f\"{check_number} is Prime: {is_prime(check_number)}\")\n"
   ]
  },
  {
   "cell_type": "code",
   "execution_count": 27,
   "id": "6eefb926",
   "metadata": {},
   "outputs": [
    {
     "name": "stdout",
     "output_type": "stream",
     "text": [
      "The square of 8 is 64\n"
     ]
    }
   ],
   "source": [
    "#2. lambda Expression Examples:\n",
    "#Example 1: Find the Square of a Number\n",
    "\n",
    "square = lambda x: x**2\n",
    "\n",
    "# Example Usage\n",
    "number = 8\n",
    "result = square(number)\n",
    "print(f\"The square of {number} is {result}\")\n"
   ]
  },
  {
   "cell_type": "code",
   "execution_count": 28,
   "id": "ee017128",
   "metadata": {},
   "outputs": [
    {
     "name": "stdout",
     "output_type": "stream",
     "text": [
      "Full Name: John Doe\n"
     ]
    }
   ],
   "source": [
    "#Example 2: Concatenate First and Last Name\n",
    "concatenate_names = lambda first, last: f\"{first} {last}\"\n",
    "\n",
    "# Example Usage\n",
    "first_name = \"John\"\n",
    "last_name = \"Doe\"\n",
    "full_name = concatenate_names(first_name, last_name)\n",
    "print(\"Full Name:\", full_name)"
   ]
  },
  {
   "cell_type": "code",
   "execution_count": 29,
   "id": "a925341e",
   "metadata": {},
   "outputs": [
    {
     "name": "stdout",
     "output_type": "stream",
     "text": [
      "10 is Even: True\n"
     ]
    }
   ],
   "source": [
    "#Example 3: Check if a Number is Even using lambda\n",
    "\n",
    "is_even = lambda x: x % 2 == 0\n",
    "\n",
    "# Example Usage\n",
    "check_number = 10\n",
    "print(f\"{check_number} is Even: {is_even(check_number)}\")"
   ]
  },
  {
   "cell_type": "code",
   "execution_count": 30,
   "id": "62f4d294",
   "metadata": {},
   "outputs": [
    {
     "name": "stdout",
     "output_type": "stream",
     "text": [
      "Original List: [1, 2, 3, 4, 5]\n",
      "Doubled List: [2, 4, 6, 8, 10]\n"
     ]
    }
   ],
   "source": [
    "#3. map() Function Examples:\n",
    "#Example 1: Double Each Element in a List\n",
    "numbers = [1, 2, 3, 4, 5]\n",
    "doubled_numbers = list(map(lambda x: x * 2, numbers))\n",
    "\n",
    "print(\"Original List:\", numbers)\n",
    "print(\"Doubled List:\", doubled_numbers)\n"
   ]
  },
  {
   "cell_type": "code",
   "execution_count": 35,
   "id": "94a3c0ff",
   "metadata": {},
   "outputs": [
    {
     "name": "stdout",
     "output_type": "stream",
     "text": [
      "Original List: [4, 9, 16, 25]\n",
      "Square Roots: [2.0, 3.0, 4.0, 5.0]\n"
     ]
    }
   ],
   "source": [
    "#Example 3: Calculate Square Roots of Numbers in a List\n",
    "import math\n",
    "\n",
    "numbers = [4, 9, 16, 25]\n",
    "square_roots = list(map(math.sqrt, numbers))\n",
    "\n",
    "print(\"Original List:\", numbers)\n",
    "print(\"Square Roots:\", square_roots)\n"
   ]
  },
  {
   "cell_type": "code",
   "execution_count": 36,
   "id": "770df970",
   "metadata": {},
   "outputs": [
    {
     "data": {
      "text/plain": [
       "8.0"
      ]
     },
     "execution_count": 36,
     "metadata": {},
     "output_type": "execute_result"
    }
   ],
   "source": [
    "math.pow(2, 3)"
   ]
  },
  {
   "cell_type": "code",
   "execution_count": 37,
   "id": "45eba8d7",
   "metadata": {},
   "outputs": [
    {
     "name": "stdout",
     "output_type": "stream",
     "text": [
      "Original List: [-2, -1, 0, 1, 2, 3, 4, 5]\n",
      "Positive Numbers: [1, 2, 3, 4, 5]\n"
     ]
    }
   ],
   "source": [
    "#filter() Function Examples:\n",
    "#Example 1: Filter Positive Numbers from a List\n",
    "numbers = [-2, -1, 0, 1, 2, 3, 4, 5]\n",
    "positive_numbers = list(filter(lambda x: x > 0, numbers))\n",
    "\n",
    "print(\"Original List:\", numbers)\n",
    "print(\"Positive Numbers:\", positive_numbers)"
   ]
  },
  {
   "cell_type": "code",
   "execution_count": 38,
   "id": "6d67e767",
   "metadata": {},
   "outputs": [
    {
     "name": "stdout",
     "output_type": "stream",
     "text": [
      "Original List of Words: ['Apple', 'Banana', 'Orange', 'Avocado', 'Grapes']\n",
      "Words Starting with 'A': ['Apple', 'Avocado']\n"
     ]
    }
   ],
   "source": [
    "#Example 2: Filter Words Starting with 'A' from a List of Strings\n",
    "words = [\"Apple\", \"Banana\", \"Orange\", \"Avocado\", \"Grapes\"]\n",
    "a_words = list(filter(lambda word: word.startswith('A'), words))\n",
    "\n",
    "print(\"Original List of Words:\", words)\n",
    "print(\"Words Starting with 'A':\", a_words)"
   ]
  },
  {
   "cell_type": "code",
   "execution_count": 8,
   "id": "aa8108ec",
   "metadata": {},
   "outputs": [],
   "source": [
    "letter_to_number = {\n",
    "'a': 1,\n",
    "'b': 2,\n",
    "'c': 3,\n",
    "'d': 4,\n",
    "'e': 5,\n",
    "'f': 6,\n",
    "'g': 7,\n",
    "'h': 8,\n",
    "'i': 9,\n",
    "'j': 10,\n",
    "'k': 11,\n",
    "'l': 12,\n",
    "'m': 13,\n",
    "'n': 14,\n",
    "'o': 15,\n",
    "'p': 16,\n",
    "'q': 17,\n",
    "'r': 18,\n",
    "'s': 19,\n",
    "'t': 20,\n",
    "'u': 21,\n",
    "'v': 22,\n",
    "'w': 23,\n",
    "'x': 24,\n",
    "'y': 25,\n",
    "'z': 26\n",
    "}\n",
    "\n",
    "\n",
    "encoded_messages = [\n",
    "    '18-5-3-1-4',\n",
    "    '2-5-20-12-5',\n",
    "    '15-14-5-7-5-1',\n",
    "    '23-8-1-20',\n",
    "    '1-3-20-9-15-14',\n",
    "    '18-5-1-12-12-25',\n",
    "    '20-8-5',\n",
    "    '13-5-19-19-1-7-5',\n",
    "    '3-8-1-12-12-5-14-7-5',\n",
    "    '2-8-1-22-1-14',        \n",
    "    '19-15-21-14-4-1-18-25-1', \n",
    "    '18-1-19-8-13-9',       \n",
    "]\n"
   ]
  },
  {
   "cell_type": "code",
   "execution_count": 17,
   "id": "5bade8e7",
   "metadata": {},
   "outputs": [],
   "source": [
    "def get_key(val):\n",
    "    for key, value in letter_to_number.items():\n",
    "        if val == value:\n",
    "            return key\n",
    "        \n",
    "    return \"key doesn't exist\""
   ]
  },
  {
   "cell_type": "code",
   "execution_count": 18,
   "id": "f73a4b8f",
   "metadata": {},
   "outputs": [
    {
     "name": "stdout",
     "output_type": "stream",
     "text": [
      "['recad', 'betle', 'onegea', 'what', 'action', 'really', 'the', 'message', 'challenge', 'bhavan', 'soundarya', 'rashmi']\n"
     ]
    }
   ],
   "source": [
    "final=[]\n",
    "for i in encoded_messages:\n",
    "    s=''\n",
    "    for j in i.split('-'):\n",
    "        s+= str(get_key(int(j)))\n",
    "    final.append(s)\n",
    "\n",
    "print(final)"
   ]
  },
  {
   "cell_type": "markdown",
   "id": "d16ea90f",
   "metadata": {},
   "source": [
    "### **Decoding**"
   ]
  },
  {
   "cell_type": "code",
   "execution_count": 1,
   "id": "c019bbc0",
   "metadata": {},
   "outputs": [],
   "source": [
    "letter_to_number = {\n",
    "    'a': 1, 'b': 2, 'c': 3, 'd': 4, 'e': 5, 'f': 6, 'g': 7, 'h': 8, 'i': 9, 'j': 10,\n",
    "    'k': 11, 'l': 12, 'm': 13, 'n': 14, 'o': 15, 'p': 16, 'q': 17, 'r': 18, 's': 19,\n",
    "    't': 20, 'u': 21, 'v': 22, 'w': 23, 'x': 24, 'y': 25, 'z': 26\n",
    "}\n",
    "\n",
    "texts = [\n",
    "    'recad',\n",
    "    'betle',\n",
    "    'onegea',\n",
    "    'what',\n",
    "    'action',\n",
    "    'really',\n",
    "    'the',\n",
    "    'message',\n",
    "    'challenge',\n",
    "    'Bhavan',\n",
    "    'Soundarya',\n",
    "    'Rashmi'\n",
    "]"
   ]
  },
  {
   "cell_type": "code",
   "execution_count": 2,
   "id": "738a751a",
   "metadata": {},
   "outputs": [],
   "source": [
    "def text_to_numerical(text):\n",
    "    numbers = []\n",
    "    for char in text:\n",
    "        lower_char = char.lower()  # Convert the character to lowercase\n",
    "        if lower_char in letter_to_number:  # Check if the character is in the dictionary\n",
    "            numbers.append(str(letter_to_number[lower_char]))  # Get the corresponding number and add to the list\n",
    "    return '-'.join(numbers)  # Join the numbers with hyphens"
   ]
  },
  {
   "cell_type": "code",
   "execution_count": 3,
   "id": "1ba7511f",
   "metadata": {},
   "outputs": [
    {
     "name": "stdout",
     "output_type": "stream",
     "text": [
      "18-5-3-1-4\n",
      "2-5-20-12-5\n",
      "15-14-5-7-5-1\n",
      "23-8-1-20\n",
      "1-3-20-9-15-14\n",
      "18-5-1-12-12-25\n",
      "20-8-5\n",
      "13-5-19-19-1-7-5\n",
      "3-8-1-12-12-5-14-7-5\n",
      "2-8-1-22-1-14\n",
      "19-15-21-14-4-1-18-25-1\n",
      "18-1-19-8-13-9\n"
     ]
    }
   ],
   "source": [
    "# Convert each text to its numerical representation\n",
    "encoded_messages = []\n",
    "for text in texts:\n",
    "    encoded_message = text_to_numerical(text)\n",
    "    encoded_messages.append(encoded_message)\n",
    "\n",
    "# Print the encoded messages\n",
    "for encoded in encoded_messages:\n",
    "    print(encoded)"
   ]
  },
  {
   "cell_type": "markdown",
   "id": "0743ca43",
   "metadata": {},
   "source": [
    "#### **Let us try to build a simple calculator using functions**"
   ]
  },
  {
   "cell_type": "code",
   "execution_count": 2,
   "id": "22a2367f",
   "metadata": {},
   "outputs": [
    {
     "name": "stdout",
     "output_type": "stream",
     "text": [
      "Simple Calculator\n",
      "1. Addition\n",
      "2. Subtraction\n",
      "3. Multiplication\n",
      "4. Division\n",
      "The result of addition is: 35.0\n"
     ]
    }
   ],
   "source": [
    "def calculator():\n",
    "    print(\"Simple Calculator\")\n",
    "    print(\"1. Addition\")\n",
    "    print(\"2. Subtraction\")\n",
    "    print(\"3. Multiplication\")\n",
    "    print(\"4. Division\")\n",
    "\n",
    "    choice = input(\"Enter your choice (1/2/3/4): \")\n",
    "\n",
    "    num1 = float(input(\"Enter the first number: \"))\n",
    "    num2 = float(input(\"Enter the second number: \"))\n",
    "\n",
    "    if choice == '1':\n",
    "        result = num1 + num2\n",
    "        print(f\"The result of addition is: {result}\")\n",
    "    elif choice == '2':\n",
    "        result = num1 - num2\n",
    "        print(f\"The result of subtraction is: {result}\")\n",
    "    elif choice == '3':\n",
    "        result = num1 * num2\n",
    "        print(f\"The result of multiplication is: {result}\")\n",
    "    elif choice == '4':\n",
    "        if num2 != 0:\n",
    "            result = num1 / num2\n",
    "            print(f\"The result of division is: {result}\")\n",
    "        else:\n",
    "            print(\"Error: Division by zero is not allowed.\")\n",
    "    else:\n",
    "        print(\"Invalid choice. Please enter a valid option (1/2/3/4).\")\n",
    "\n",
    "# Call the calculator function\n",
    "calculator()"
   ]
  },
  {
   "cell_type": "code",
   "execution_count": 1,
   "id": "04420b34",
   "metadata": {},
   "outputs": [
    {
     "name": "stdout",
     "output_type": "stream",
     "text": [
      "120\n"
     ]
    }
   ],
   "source": [
    "def factorial(n):\n",
    "\n",
    "    if n == 0:\n",
    "\n",
    "        return 1\n",
    "\n",
    "    else:\n",
    "\n",
    "        return n * factorial(n - 1)\n",
    "\n",
    "print(factorial(5))"
   ]
  }
 ],
 "metadata": {
  "kernelspec": {
   "display_name": "Python 3",
   "language": "python",
   "name": "python3"
  },
  "language_info": {
   "codemirror_mode": {
    "name": "ipython",
    "version": 3
   },
   "file_extension": ".py",
   "mimetype": "text/x-python",
   "name": "python",
   "nbconvert_exporter": "python",
   "pygments_lexer": "ipython3",
   "version": "3.13.0"
  }
 },
 "nbformat": 4,
 "nbformat_minor": 5
}
