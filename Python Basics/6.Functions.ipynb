{
 "cells": [
  {
   "cell_type": "markdown",
   "id": "b027be66",
   "metadata": {},
   "source": [
    "## **FUNCTIONS**\n",
    "A function is a small re-usable snippet of the code which is written to ouput the result of a specific task.\n",
    "When a given task has to be performed repeatedly for a given task, it will be good to create a function for the task with generally specified inputs and then the fucntion can be recalled to be used for other inputs as and when required further in the program. \n",
    "\n",
    "- Functions make our program look simple and organized.\n",
    "- Functions are blocks of reusable code, defined using the def keyword.\n",
    "\n",
    "**Parameters and Arguments:**\n",
    "\n",
    "- Parameters are variables in the function definition.\n",
    "- Arguments are the values passed to the function when calling it.\n",
    "- Arguments allows a variable number of positional arguments.\n",
    "\n",
    "\n",
    "#### **SYNTAX**\n",
    "\n",
    "<pre><code>def FunctionName(Arguments/Parameters):\n",
    "    Body of the function\n",
    "    return Expression/output parameter\n",
    "</code></pre>"
   ]
  },
  {
   "cell_type": "markdown",
   "id": "14651def",
   "metadata": {},
   "source": [
    "#### **Types of Functions**\n",
    "There are 2 types of functions in Python\n",
    "1. User-defined Functions:\n",
    "\n",
    "    So far, the functions we define like SquareIt, SquareList...which were not already available in Python are called User-defined function.\n",
    "    \n",
    "2. Built-in functions:\n",
    "\n",
    "    Functions that are already availabble in Python\n",
    "\n",
    "Let us look at few Built in Function applications:"
   ]
  },
  {
   "cell_type": "code",
   "execution_count": 21,
   "id": "52cd246f",
   "metadata": {},
   "outputs": [
    {
     "name": "stdout",
     "output_type": "stream",
     "text": [
      "3\n"
     ]
    }
   ],
   "source": [
    "#Defining a Function:\n",
    "def my_function(parameter1, parameter2):\n",
    "    # Function body\n",
    "    result = parameter1 + parameter2\n",
    "    return print(result)\n",
    "\n",
    "#Calling a Function:\n",
    "my_function(1, 2)"
   ]
  },
  {
   "cell_type": "code",
   "execution_count": 22,
   "id": "95383bea",
   "metadata": {},
   "outputs": [
    {
     "name": "stdout",
     "output_type": "stream",
     "text": [
      "112\n"
     ]
    }
   ],
   "source": [
    "my_function(44, 68)"
   ]
  },
  {
   "cell_type": "markdown",
   "id": "06acf31d",
   "metadata": {},
   "source": [
    "**Return**\n",
    "\n",
    "- Purpose: return is used to exit a function and pass a value back to the caller.\n",
    "- Usage: It is used to send a result from a function so that it can be used elsewhere in the program.\n",
    "- Effect: It can change the flow of the program by providing the output of a function, which can then be stored, used in expressions, or passed to other functions."
   ]
  },
  {
   "cell_type": "code",
   "execution_count": 24,
   "id": "70d4c7fc",
   "metadata": {},
   "outputs": [
    {
     "data": {
      "text/plain": [
       "3"
      ]
     },
     "execution_count": 24,
     "metadata": {},
     "output_type": "execute_result"
    }
   ],
   "source": [
    "def add_numbers(x=1, y=2):\n",
    "    result = x + y\n",
    "    return result\n",
    "\n",
    "add_numbers()"
   ]
  },
  {
   "cell_type": "code",
   "execution_count": 25,
   "id": "ab1cb0e9",
   "metadata": {},
   "outputs": [
    {
     "data": {
      "text/plain": [
       "100"
      ]
     },
     "execution_count": 25,
     "metadata": {},
     "output_type": "execute_result"
    }
   ],
   "source": [
    "add_numbers(75,25)"
   ]
  },
  {
   "cell_type": "markdown",
   "id": "b72ee190",
   "metadata": {},
   "source": [
    "**Print**\n",
    "\n",
    "- Purpose: print is used to output data to the console. It displays the value on the screen.\n",
    "- Usage: Typically used for debugging or providing user feedback.\n",
    "- Effect: It does not affect the flow of a program; it simply shows a value."
   ]
  },
  {
   "cell_type": "code",
   "execution_count": 28,
   "id": "79d89f7e",
   "metadata": {},
   "outputs": [
    {
     "name": "stdout",
     "output_type": "stream",
     "text": [
      "22\n"
     ]
    }
   ],
   "source": [
    "def add():\n",
    "    x = int(input(\"enter the number\"))\n",
    "    y = int(input(\"enter the second number\"))\n",
    "    z = x+y\n",
    "    print(z)\n",
    "add ()"
   ]
  },
  {
   "cell_type": "code",
   "execution_count": 4,
   "id": "302ab180",
   "metadata": {},
   "outputs": [
    {
     "name": "stdout",
     "output_type": "stream",
     "text": [
      "2\n",
      "4\n",
      "6\n",
      "8\n",
      "10\n"
     ]
    }
   ],
   "source": [
    "numbers = [1,2,3,4,5,6,7,8,9,10]\n",
    "for num in numbers:\n",
    "    if num % 2 == 0:\n",
    "        print(num)"
   ]
  },
  {
   "cell_type": "code",
   "execution_count": 10,
   "metadata": {},
   "outputs": [],
   "source": [
    "def div(numbers):\n",
    "    for num in numbers:\n",
    "        if num % 2 == 0:\n",
    "            print(f\"{num} is divisible by 2\")"
   ]
  },
  {
   "cell_type": "code",
   "execution_count": 11,
   "metadata": {},
   "outputs": [
    {
     "name": "stdout",
     "output_type": "stream",
     "text": [
      "2 is divisible by 2\n",
      "4 is divisible by 2\n",
      "6 is divisible by 2\n",
      "8 is divisible by 2\n",
      "10 is divisible by 2\n"
     ]
    }
   ],
   "source": [
    "a = [1,2,3,4,5,6,7,8,9,10]\n",
    "div(a)"
   ]
  },
  {
   "cell_type": "code",
   "execution_count": 12,
   "metadata": {},
   "outputs": [
    {
     "data": {
      "text/plain": [
       "[2, 4, 6, 8, 10]"
      ]
     },
     "execution_count": 12,
     "metadata": {},
     "output_type": "execute_result"
    }
   ],
   "source": [
    "def divis(numbers):\n",
    "    return[num for num in numbers if num % 2 == 0]\n",
    "\n",
    "no = [1,2,3,4,5,6,7,8,9,10]\n",
    "divis(no)"
   ]
  },
  {
   "cell_type": "code",
   "execution_count": 13,
   "id": "93c08cd3",
   "metadata": {},
   "outputs": [
    {
     "name": "stdout",
     "output_type": "stream",
     "text": [
      "The addition is 22\n"
     ]
    }
   ],
   "source": [
    "x=int(input(\"enter the number\"))\n",
    "y=int(input(\"enter the second number\"))\n",
    "def add1(x,y):\n",
    "    z = x+y\n",
    "    print(\"The addition is\",z)\n",
    "add1(x, y)        "
   ]
  },
  {
   "cell_type": "code",
   "execution_count": 14,
   "id": "a09f9b91",
   "metadata": {},
   "outputs": [
    {
     "name": "stdout",
     "output_type": "stream",
     "text": [
      "Hello  ('Rashmi', 'Soundrya', 'Pavan')\n"
     ]
    }
   ],
   "source": [
    "#let me greet you with a function\n",
    "def greet(p):\n",
    "    return print('Hello ', str(p))  \n",
    "a = 'Rashmi'\n",
    "b = 'Soundrya'\n",
    "c = 'Pavan'\n",
    "\n",
    "#let us recall the function. \n",
    "greet((a,b,c))"
   ]
  },
  {
   "cell_type": "code",
   "execution_count": 15,
   "id": "3c8f3c80",
   "metadata": {},
   "outputs": [
    {
     "data": {
      "text/plain": [
       "(625, 15625)"
      ]
     },
     "execution_count": 15,
     "metadata": {},
     "output_type": "execute_result"
    }
   ],
   "source": [
    "def sqcb(a):\n",
    "    '''\n",
    "    This function returns the square and cube of a given number\n",
    "    '''\n",
    "    return a**2, a**3\n",
    "\n",
    "sqcb(25)"
   ]
  },
  {
   "cell_type": "code",
   "execution_count": 16,
   "id": "19a857bf",
   "metadata": {},
   "outputs": [
    {
     "name": "stdout",
     "output_type": "stream",
     "text": [
      "Which number is the biggest modulo 5?\n",
      "14\n"
     ]
    }
   ],
   "source": [
    "def mod_5(x):\n",
    "    return x % 5\n",
    "\n",
    "print(\n",
    "    'Which number is the biggest modulo 5?',\n",
    "    max(100, 51, 14, key=mod_5),\n",
    "    sep='\\n',\n",
    ")"
   ]
  },
  {
   "cell_type": "code",
   "execution_count": 17,
   "id": "366041d0",
   "metadata": {},
   "outputs": [
    {
     "data": {
      "text/plain": [
       "12"
      ]
     },
     "execution_count": 17,
     "metadata": {},
     "output_type": "execute_result"
    }
   ],
   "source": [
    "min(12, 13, 14 , key=mod_5)"
   ]
  },
  {
   "cell_type": "markdown",
   "id": "054134d8",
   "metadata": {},
   "source": [
    "### **Lambda Expressions (lambda):**\n",
    "Definition:\n",
    "\n",
    "- lambda allows the creation of anonymous functions (functions without a name).\n",
    "- Lambda: Concise, one-line functions, often used for short-term operations."
   ]
  },
  {
   "cell_type": "code",
   "execution_count": 45,
   "id": "b2403ff9",
   "metadata": {},
   "outputs": [
    {
     "data": {
      "text/plain": [
       "8"
      ]
     },
     "execution_count": 45,
     "metadata": {},
     "output_type": "execute_result"
    }
   ],
   "source": [
    "add = lambda x, y : x + y\n",
    "result = add(3, 5)\n",
    "result"
   ]
  },
  {
   "cell_type": "code",
   "execution_count": 32,
   "metadata": {},
   "outputs": [
    {
     "data": {
      "text/plain": [
       "False"
      ]
     },
     "execution_count": 32,
     "metadata": {},
     "output_type": "execute_result"
    }
   ],
   "source": [
    "even = lambda x : x%2==0\n",
    "even(3)"
   ]
  },
  {
   "cell_type": "code",
   "execution_count": 27,
   "id": "47ac4667",
   "metadata": {},
   "outputs": [
    {
     "name": "stdout",
     "output_type": "stream",
     "text": [
      "[2, 4, 6, 8, 10]\n"
     ]
    }
   ],
   "source": [
    "enen = lambda x : [i for i in x if i % 2 == 0]\n",
    "print(enen([1,2,3,4,5,6,7,8,9,10]))"
   ]
  },
  {
   "cell_type": "code",
   "execution_count": 28,
   "id": "b8e39388",
   "metadata": {},
   "outputs": [
    {
     "data": {
      "text/plain": [
       "['', 2, '', 4, '', 6, '', 8, '', 10]"
      ]
     },
     "execution_count": 28,
     "metadata": {},
     "output_type": "execute_result"
    }
   ],
   "source": [
    "ist = [1,2,3,4,5,6,7,8,9,10]\n",
    "\n",
    "even = list(map(lambda x: x if x%2==0 else '', ist))\n",
    "even"
   ]
  },
  {
   "cell_type": "code",
   "execution_count": 51,
   "id": "c3844e75",
   "metadata": {},
   "outputs": [
    {
     "name": "stdout",
     "output_type": "stream",
     "text": [
      "343\n",
      "343\n"
     ]
    }
   ],
   "source": [
    "# Python code to illustrate the cube of a number\n",
    "# using lambda function\n",
    "def cube(x): return x**3\n",
    "\n",
    "cube_v2 = lambda x : x**3\n",
    "\n",
    "print(cube(7))\n",
    "print(cube_v2(7))"
   ]
  },
  {
   "cell_type": "markdown",
   "id": "c905aae6",
   "metadata": {},
   "source": [
    "### **map() Function:**\n",
    "Definition:\n",
    "map() applies a given function to all items in an input list (or any iterable)."
   ]
  },
  {
   "cell_type": "code",
   "execution_count": 30,
   "id": "6442d33a",
   "metadata": {},
   "outputs": [
    {
     "data": {
      "text/plain": [
       "121"
      ]
     },
     "execution_count": 30,
     "metadata": {},
     "output_type": "execute_result"
    }
   ],
   "source": [
    "# We will look at one more example\n",
    "def SquareIt(Num):\n",
    "    \"\"\"\n",
    "    This functions returns square of a given number\n",
    "    \"\"\"\n",
    "    return Num**2\n",
    "\n",
    "#recalling function\n",
    "SquareIt(11)"
   ]
  },
  {
   "cell_type": "code",
   "execution_count": 31,
   "id": "54fa60a8",
   "metadata": {},
   "outputs": [
    {
     "name": "stdout",
     "output_type": "stream",
     "text": [
      "[1, 4, 9, 16, 25, 36]\n"
     ]
    }
   ],
   "source": [
    "#map()\n",
    "list1 = [1,2,3,4,5,6]\n",
    "SquaredList = list(map(SquareIt, list1))\n",
    "print(SquaredList)"
   ]
  },
  {
   "cell_type": "code",
   "execution_count": 71,
   "id": "d2321469",
   "metadata": {},
   "outputs": [
    {
     "name": "stdout",
     "output_type": "stream",
     "text": [
      "['', 2, '', 4, '', 6, '', 8, '', 10]\n"
     ]
    }
   ],
   "source": [
    "list2=[1,2,3,4,5,6,7,8,9,10]\n",
    "list1=list(map(lambda x:x if x%2==0 else '',list2))\n",
    "print(list1)"
   ]
  },
  {
   "cell_type": "code",
   "execution_count": 75,
   "id": "e4a44ee1",
   "metadata": {},
   "outputs": [
    {
     "name": "stdout",
     "output_type": "stream",
     "text": [
      "['', 2, '', 4, '', 6, '', 8, '', 10]\n"
     ]
    }
   ],
   "source": [
    "def even(x):\n",
    "    if x % 2 == 0:\n",
    "        return x\n",
    "    else:\n",
    "        return ''\n",
    "\n",
    "list1 = list(map(even, list2))\n",
    "print(list1)"
   ]
  },
  {
   "cell_type": "code",
   "execution_count": 60,
   "id": "7d3f4675",
   "metadata": {},
   "outputs": [
    {
     "name": "stdout",
     "output_type": "stream",
     "text": [
      "6 12 "
     ]
    }
   ],
   "source": [
    "list2=[1,2,3,4,5]\n",
    "list1=map(lambda x: x*3,list2)\n",
    "for num in list1:\n",
    "    if num%2 == 0:\n",
    "        print(num,end=\" \")"
   ]
  },
  {
   "cell_type": "markdown",
   "id": "44af5809",
   "metadata": {},
   "source": [
    "### **filter() Function:**\n",
    "Definition:\n",
    "filter() constructs an iterator from elements of an iterable for which a function returns True."
   ]
  },
  {
   "cell_type": "code",
   "execution_count": 73,
   "id": "f8257012",
   "metadata": {},
   "outputs": [
    {
     "name": "stdout",
     "output_type": "stream",
     "text": [
      "[2, 4, 6, 8, 10]\n"
     ]
    }
   ],
   "source": [
    "list2=[1,2,3,4,5,6,7,8,9,10]\n",
    "list1=list(filter(lambda x : x%2==0,list2))\n",
    "print(list1)"
   ]
  },
  {
   "cell_type": "code",
   "execution_count": 9,
   "id": "386a1950",
   "metadata": {},
   "outputs": [
    {
     "data": {
      "text/plain": [
       "9"
      ]
     },
     "execution_count": 9,
     "metadata": {},
     "output_type": "execute_result"
    }
   ],
   "source": [
    "#filter\n",
    "def DivisibleBy_3(a):\n",
    "    if (a % 3 == 0):\n",
    "        return a\n"
   ]
  },
  {
   "cell_type": "code",
   "execution_count": 2,
   "id": "e312b3dc",
   "metadata": {},
   "outputs": [
    {
     "name": "stdout",
     "output_type": "stream",
     "text": [
      "[-9, -6, -3, 3, 6, 9]\n"
     ]
    }
   ],
   "source": [
    "list1 = range(-10,10)\n",
    "print(list(filter(DivisibleBy_3, list1)))"
   ]
  },
  {
   "cell_type": "code",
   "execution_count": 6,
   "id": "a37dcf83",
   "metadata": {},
   "outputs": [
    {
     "name": "stdout",
     "output_type": "stream",
     "text": [
      "[0, 2, 4, 6, 8, 10, 12, 14, 16, 18]\n"
     ]
    }
   ],
   "source": [
    "#Another example of lambda function\n",
    "lst = range(20)\n",
    "evenlst = list(filter(lambda x:(x%2==0), lst))\n",
    "print(evenlst)\n"
   ]
  },
  {
   "cell_type": "markdown",
   "id": "b58327fc",
   "metadata": {},
   "source": [
    "### **Reduce() Function:**"
   ]
  },
  {
   "cell_type": "code",
   "execution_count": 20,
   "id": "b53fb7d0",
   "metadata": {},
   "outputs": [],
   "source": [
    "# pip install functools"
   ]
  },
  {
   "cell_type": "code",
   "execution_count": 12,
   "id": "7d68c40f",
   "metadata": {},
   "outputs": [
    {
     "name": "stdout",
     "output_type": "stream",
     "text": [
      "Sum 15\n"
     ]
    }
   ],
   "source": [
    "from functools import reduce\n",
    "\n",
    "# Example 1: Summing up a list of numbers\n",
    "numbers = [1, 2, 3, 4, 5]\n",
    "sum_result = reduce(lambda x, y: x + y, numbers)\n",
    "print(\"Sum\", sum_result)"
   ]
  },
  {
   "cell_type": "code",
   "execution_count": 11,
   "id": "259fe197",
   "metadata": {},
   "outputs": [
    {
     "name": "stdout",
     "output_type": "stream",
     "text": [
      "Concatenated String: Hello World!\n"
     ]
    }
   ],
   "source": [
    "# Example 2: Concatenating strings in a list\n",
    "words = [\"Hello\", \" \", \"World\", \"!\"]\n",
    "concatenated_string = reduce(lambda x, y: x + y, words)\n",
    "print(\"Concatenated String:\", concatenated_string)"
   ]
  },
  {
   "cell_type": "code",
   "execution_count": 13,
   "id": "15643754",
   "metadata": {},
   "outputs": [
    {
     "name": "stdout",
     "output_type": "stream",
     "text": [
      "Maximum Value: 89\n"
     ]
    }
   ],
   "source": [
    "# Example 3: Finding the maximum value in a list\n",
    "values = [45, 67, 12, 89, 34]\n",
    "max_value = reduce(lambda x, y: x if x > y else y, values)\n",
    "print(\"Maximum Value:\", max_value)"
   ]
  },
  {
   "cell_type": "markdown",
   "id": "b3f120da",
   "metadata": {},
   "source": [
    "### **Doc Strings**\n",
    "Let us understand something called 'Doc Strings':\n",
    "   Doc strings are just the text statements while define the objective/purpose of a function. \n",
    "Here is an example,"
   ]
  },
  {
   "cell_type": "code",
   "execution_count": 14,
   "id": "56cb1b53",
   "metadata": {},
   "outputs": [
    {
     "name": "stdout",
     "output_type": "stream",
     "text": [
      "Hello  Praveen\n"
     ]
    }
   ],
   "source": [
    "# Adding Doc strings to our function 'greet(p)'\n",
    "def greet(p):\n",
    "    \"\"\"\n",
    "    This function returns the greeting for a given name.\n",
    "    \"\"\"\n",
    "    return print('Hello ', str(p))\n",
    "greet('Praveen')"
   ]
  },
  {
   "cell_type": "code",
   "execution_count": 15,
   "id": "778903d4",
   "metadata": {},
   "outputs": [
    {
     "name": "stdout",
     "output_type": "stream",
     "text": [
      "\n",
      "    This function returns the greeting for a given name.\n",
      "    \n"
     ]
    }
   ],
   "source": [
    "#We can look at the objective of any function by using attribute '.__doc__'\n",
    "print(greet.__doc__)"
   ]
  },
  {
   "cell_type": "code",
   "execution_count": 21,
   "id": "ac109e39",
   "metadata": {},
   "outputs": [
    {
     "name": "stdout",
     "output_type": "stream",
     "text": [
      "Return the number of items in a container.\n"
     ]
    }
   ],
   "source": [
    "print(len.__doc__)"
   ]
  },
  {
   "cell_type": "code",
   "execution_count": null,
   "id": "187ea033",
   "metadata": {},
   "outputs": [
    {
     "data": {
      "text/plain": [
       "[1, 4, 9, 16]"
      ]
     },
     "execution_count": 24,
     "metadata": {},
     "output_type": "execute_result"
    }
   ],
   "source": [
    "#let us get the square of numbers in a list\n",
    "def SquareList(a):\n",
    "    \"\"\"\n",
    "    This functions returns square of numbers in a list\n",
    "    \"\"\"\n",
    "    b=[]\n",
    "    for i in a:\n",
    "        b.append(i**2)\n",
    "    return b \n",
    "#recall\n",
    "SquareList([1,2,3,4]) "
   ]
  },
  {
   "cell_type": "code",
   "execution_count": 29,
   "id": "a146d24d",
   "metadata": {},
   "outputs": [
    {
     "name": "stdout",
     "output_type": "stream",
     "text": [
      "1\n",
      "4\n",
      "9\n",
      "16\n"
     ]
    }
   ],
   "source": [
    "#let us get the square of numbers in a list\n",
    "def SquareList(a):\n",
    "    \"\"\"\n",
    "    This functions returns square of numbers in a list\n",
    "    \"\"\"\n",
    "    for i in a:\n",
    "        print(i**2)\n",
    " #recall\n",
    "SquareList([1,2,3,4])"
   ]
  },
  {
   "cell_type": "code",
   "execution_count": 30,
   "id": "72f96e14",
   "metadata": {},
   "outputs": [
    {
     "name": "stdout",
     "output_type": "stream",
     "text": [
      "25\n",
      "36\n",
      "49\n",
      "64\n",
      "81\n"
     ]
    }
   ],
   "source": [
    "SquareList([5,6,7,8,9])"
   ]
  },
  {
   "cell_type": "code",
   "execution_count": 32,
   "id": "ea44e897",
   "metadata": {},
   "outputs": [
    {
     "name": "stdout",
     "output_type": "stream",
     "text": [
      "\n",
      "    This functions returns square of numbers in a list\n",
      "    \n"
     ]
    }
   ],
   "source": [
    "print(SquareList.__doc__)"
   ]
  },
  {
   "cell_type": "markdown",
   "id": "10b8058a",
   "metadata": {},
   "source": [
    "### **Exercise Questions**"
   ]
  },
  {
   "cell_type": "code",
   "execution_count": 33,
   "id": "857af5c5",
   "metadata": {},
   "outputs": [
    {
     "name": "stdout",
     "output_type": "stream",
     "text": [
      "Rectangle Area: 40\n"
     ]
    }
   ],
   "source": [
    "#def Function Examples:\n",
    "#Example 1: Calculate Area of a Rectangle\n",
    "\n",
    "def calculate_rectangle_area(length, width):\n",
    "    area = length * width\n",
    "    return area\n",
    "\n",
    "# Example Usage\n",
    "rectangle_area = calculate_rectangle_area(5, 8)\n",
    "print(\"Rectangle Area:\", rectangle_area)"
   ]
  },
  {
   "cell_type": "code",
   "execution_count": null,
   "id": "19b2370b",
   "metadata": {},
   "outputs": [
    {
     "name": "stdout",
     "output_type": "stream",
     "text": [
      "25 Celsius is 77.0 Fahrenheit\n"
     ]
    }
   ],
   "source": [
    "#Example 2: Convert Celsius to Fahrenheit\n",
    "\n",
    "def celsius_to_fahrenheit(celsius):\n",
    "    fahrenheit = (celsius * 9/5) + 32\n",
    "    return fahrenheit\n",
    "\n",
    "# Example Usage\n",
    "temperature_celsius = 25\n",
    "temperature_fahrenheit = celsius_to_fahrenheit(temperature_celsius)\n",
    "print(f\"{temperature_celsius} Celsius is {temperature_fahrenheit} Fahrenheit\")"
   ]
  },
  {
   "cell_type": "code",
   "execution_count": 34,
   "id": "e56c449a",
   "metadata": {},
   "outputs": [
    {
     "name": "stdout",
     "output_type": "stream",
     "text": [
      "13 is Prime: True\n"
     ]
    }
   ],
   "source": [
    "#Example 3: Check if a Number is Prime\n",
    "def is_prime(number):\n",
    "    if number < 2:\n",
    "        return False\n",
    "    for i in range(2, int(number**0.5) + 1):\n",
    "        if number % i == 0:\n",
    "            return False\n",
    "    return True\n",
    "\n",
    "# Example Usage\n",
    "check_number = 13\n",
    "print(f\"{check_number} is Prime: {is_prime(check_number)}\")\n"
   ]
  },
  {
   "cell_type": "code",
   "execution_count": 35,
   "id": "6eefb926",
   "metadata": {},
   "outputs": [
    {
     "name": "stdout",
     "output_type": "stream",
     "text": [
      "The square of 7 is 49\n"
     ]
    }
   ],
   "source": [
    "#2. lambda Expression Examples:\n",
    "#Example 1: Find the Square of a Number\n",
    "\n",
    "square = lambda x: x**2\n",
    "\n",
    "# Example Usage\n",
    "number = 7\n",
    "result = square(number)\n",
    "print(f\"The square of {number} is {result}\")\n"
   ]
  },
  {
   "cell_type": "code",
   "execution_count": null,
   "id": "ee017128",
   "metadata": {},
   "outputs": [],
   "source": [
    "#Example 2: Concatenate First and Last Name\n",
    "concatenate_names = lambda first, last: f\"{first} {last}\"\n",
    "\n",
    "# Example Usage\n",
    "first_name = \"John\"\n",
    "last_name = \"Doe\"\n",
    "full_name = concatenate_names(first_name, last_name)\n",
    "print(\"Full Name:\", full_name)"
   ]
  },
  {
   "cell_type": "code",
   "execution_count": null,
   "id": "a925341e",
   "metadata": {},
   "outputs": [],
   "source": [
    "#Example 3: Check if a Number is Even using lambda\n",
    "\n",
    "is_even = lambda x: x % 2 == 0\n",
    "\n",
    "# Example Usage\n",
    "check_number = 10\n",
    "print(f\"{check_number} is Even: {is_even(check_number)}\")"
   ]
  },
  {
   "cell_type": "code",
   "execution_count": 7,
   "id": "62f4d294",
   "metadata": {},
   "outputs": [
    {
     "name": "stdout",
     "output_type": "stream",
     "text": [
      "Original List: [1, 2, 3, 4, 5]\n",
      "Doubled List: [2, 4, 6, 8, 10]\n"
     ]
    }
   ],
   "source": [
    "#3. map() Function Examples:\n",
    "#Example 1: Double Each Element in a List\n",
    "numbers = [1, 2, 3, 4, 5]\n",
    "doubled_numbers = list(map(lambda x: x * 2, numbers))\n",
    "\n",
    "print(\"Original List:\", numbers)\n",
    "print(\"Doubled List:\", doubled_numbers)\n"
   ]
  },
  {
   "cell_type": "code",
   "execution_count": null,
   "id": "61dfeb2a",
   "metadata": {},
   "outputs": [],
   "source": [
    "# Example 2: Convert Temperatures from Celsius to Fahrenheit using map()\n",
    "celsius_temperatures = [0, 10, 20, 30, 40]\n",
    "fahrenheit_temperatures = list(map(lambda c: (c * 9/5) + 32, celsius_temperatures))\n",
    "\n",
    "print(\"Celsius Temperatures:\", celsius_temperatures)\n",
    "print(\"Fahrenheit Temperatures:\", fahrenheit_temperatures)"
   ]
  },
  {
   "cell_type": "code",
   "execution_count": null,
   "id": "94a3c0ff",
   "metadata": {},
   "outputs": [],
   "source": [
    "#Example 3: Calculate Square Roots of Numbers in a List\n",
    "import math\n",
    "\n",
    "numbers = [4, 9, 16, 25]\n",
    "square_roots = list(map(math.sqrt, numbers))\n",
    "\n",
    "print(\"Original List:\", numbers)\n",
    "print(\"Square Roots:\", square_roots)\n"
   ]
  },
  {
   "cell_type": "code",
   "execution_count": null,
   "id": "45eba8d7",
   "metadata": {},
   "outputs": [],
   "source": [
    "#filter() Function Examples:\n",
    "#Example 1: Filter Positive Numbers from a List\n",
    "numbers = [-2, -1, 0, 1, 2, 3, 4, 5]\n",
    "positive_numbers = list(filter(lambda x: x > 0, numbers))\n",
    "\n",
    "print(\"Original List:\", numbers)\n",
    "print(\"Positive Numbers:\", positive_numbers)"
   ]
  },
  {
   "cell_type": "code",
   "execution_count": 5,
   "id": "6d67e767",
   "metadata": {},
   "outputs": [
    {
     "name": "stdout",
     "output_type": "stream",
     "text": [
      "Original List of Words: ['Apple', 'Banana', 'Orange', 'Avocado', 'Grapes']\n",
      "Words Starting with 'A': ['Apple', 'Avocado']\n"
     ]
    }
   ],
   "source": [
    "#Example 2: Filter Words Starting with 'A' from a List of Strings\n",
    "words = [\"Apple\", \"Banana\", \"Orange\", \"Avocado\", \"Grapes\"]\n",
    "a_words = list(filter(lambda word: word.startswith('A'), words))\n",
    "\n",
    "print(\"Original List of Words:\", words)\n",
    "print(\"Words Starting with 'A':\", a_words)"
   ]
  },
  {
   "cell_type": "code",
   "execution_count": 8,
   "id": "aa8108ec",
   "metadata": {},
   "outputs": [],
   "source": [
    "letter_to_number = {\n",
    "'a': 1,\n",
    "'b': 2,\n",
    "'c': 3,\n",
    "'d': 4,\n",
    "'e': 5,\n",
    "'f': 6,\n",
    "'g': 7,\n",
    "'h': 8,\n",
    "'i': 9,\n",
    "'j': 10,\n",
    "'k': 11,\n",
    "'l': 12,\n",
    "'m': 13,\n",
    "'n': 14,\n",
    "'o': 15,\n",
    "'p': 16,\n",
    "'q': 17,\n",
    "'r': 18,\n",
    "'s': 19,\n",
    "'t': 20,\n",
    "'u': 21,\n",
    "'v': 22,\n",
    "'w': 23,\n",
    "'x': 24,\n",
    "'y': 25,\n",
    "'z': 26\n",
    "}\n",
    "\n",
    "\n",
    "encoded_messages = [\n",
    "    '18-5-3-1-4',\n",
    "    '2-5-20-12-5',\n",
    "    '15-14-5-7-5-1',\n",
    "    '23-8-1-20',\n",
    "    '1-3-20-9-15-14',\n",
    "    '18-5-1-12-12-25',\n",
    "    '20-8-5',\n",
    "    '13-5-19-19-1-7-5',\n",
    "    '3-8-1-12-12-5-14-7-5',\n",
    "    '2-8-1-22-1-14',        \n",
    "    '19-15-21-14-4-1-18-25-1', \n",
    "    '18-1-19-8-13-9',       \n",
    "]\n"
   ]
  },
  {
   "cell_type": "code",
   "execution_count": 17,
   "id": "5bade8e7",
   "metadata": {},
   "outputs": [],
   "source": [
    "def get_key(val):\n",
    "    for key, value in letter_to_number.items():\n",
    "        if val == value:\n",
    "            return key\n",
    "        \n",
    "    return \"key doesn't exist\""
   ]
  },
  {
   "cell_type": "code",
   "execution_count": 18,
   "id": "f73a4b8f",
   "metadata": {},
   "outputs": [
    {
     "name": "stdout",
     "output_type": "stream",
     "text": [
      "['recad', 'betle', 'onegea', 'what', 'action', 'really', 'the', 'message', 'challenge', 'bhavan', 'soundarya', 'rashmi']\n"
     ]
    }
   ],
   "source": [
    "final=[]\n",
    "for i in encoded_messages:\n",
    "    s=''\n",
    "    for j in i.split('-'):\n",
    "        s+= str(get_key(int(j)))\n",
    "    final.append(s)\n",
    "\n",
    "print(final)"
   ]
  },
  {
   "cell_type": "markdown",
   "id": "d16ea90f",
   "metadata": {},
   "source": [
    "### **Decoding**"
   ]
  },
  {
   "cell_type": "code",
   "execution_count": 1,
   "id": "c019bbc0",
   "metadata": {},
   "outputs": [],
   "source": [
    "letter_to_number = {\n",
    "    'a': 1, 'b': 2, 'c': 3, 'd': 4, 'e': 5, 'f': 6, 'g': 7, 'h': 8, 'i': 9, 'j': 10,\n",
    "    'k': 11, 'l': 12, 'm': 13, 'n': 14, 'o': 15, 'p': 16, 'q': 17, 'r': 18, 's': 19,\n",
    "    't': 20, 'u': 21, 'v': 22, 'w': 23, 'x': 24, 'y': 25, 'z': 26\n",
    "}\n",
    "\n",
    "texts = [\n",
    "    'recad',\n",
    "    'betle',\n",
    "    'onegea',\n",
    "    'what',\n",
    "    'action',\n",
    "    'really',\n",
    "    'the',\n",
    "    'message',\n",
    "    'challenge',\n",
    "    'Bhavan',\n",
    "    'Soundarya',\n",
    "    'Rashmi'\n",
    "]"
   ]
  },
  {
   "cell_type": "code",
   "execution_count": 2,
   "id": "738a751a",
   "metadata": {},
   "outputs": [],
   "source": [
    "def text_to_numerical(text):\n",
    "    numbers = []\n",
    "    for char in text:\n",
    "        lower_char = char.lower()  # Convert the character to lowercase\n",
    "        if lower_char in letter_to_number:  # Check if the character is in the dictionary\n",
    "            numbers.append(str(letter_to_number[lower_char]))  # Get the corresponding number and add to the list\n",
    "    return '-'.join(numbers)  # Join the numbers with hyphens"
   ]
  },
  {
   "cell_type": "code",
   "execution_count": 3,
   "id": "1ba7511f",
   "metadata": {},
   "outputs": [
    {
     "name": "stdout",
     "output_type": "stream",
     "text": [
      "18-5-3-1-4\n",
      "2-5-20-12-5\n",
      "15-14-5-7-5-1\n",
      "23-8-1-20\n",
      "1-3-20-9-15-14\n",
      "18-5-1-12-12-25\n",
      "20-8-5\n",
      "13-5-19-19-1-7-5\n",
      "3-8-1-12-12-5-14-7-5\n",
      "2-8-1-22-1-14\n",
      "19-15-21-14-4-1-18-25-1\n",
      "18-1-19-8-13-9\n"
     ]
    }
   ],
   "source": [
    "# Convert each text to its numerical representation\n",
    "encoded_messages = []\n",
    "for text in texts:\n",
    "    encoded_message = text_to_numerical(text)\n",
    "    encoded_messages.append(encoded_message)\n",
    "\n",
    "# Print the encoded messages\n",
    "for encoded in encoded_messages:\n",
    "    print(encoded)"
   ]
  },
  {
   "cell_type": "code",
   "execution_count": 1,
   "id": "7cf9657e",
   "metadata": {},
   "outputs": [
    {
     "name": "stdout",
     "output_type": "stream",
     "text": [
      "120\n"
     ]
    }
   ],
   "source": [
    "def factorial(n):\n",
    "    if n == 0:\n",
    "        return 1\n",
    "    else:\n",
    "        return n * factorial(n - 1)\n",
    "\n",
    "print(factorial(5))"
   ]
  },
  {
   "cell_type": "code",
   "execution_count": 6,
   "id": "50a24c7e",
   "metadata": {},
   "outputs": [
    {
     "name": "stdout",
     "output_type": "stream",
     "text": [
      "120\n"
     ]
    }
   ],
   "source": [
    "def factorial(n):\n",
    "    if n == 0:\n",
    "        return 1\n",
    "    else:\n",
    "        return n * factorial(n - 1)\n",
    "\n",
    "print(factorial(5))"
   ]
  },
  {
   "cell_type": "markdown",
   "id": "0743ca43",
   "metadata": {},
   "source": [
    "#### **Let us try to build a simple calculator using functions**"
   ]
  },
  {
   "cell_type": "code",
   "execution_count": 21,
   "id": "3e17e371",
   "metadata": {},
   "outputs": [
    {
     "name": "stdout",
     "output_type": "stream",
     "text": [
      "Simple Calculator\n",
      "1. Add\n",
      "2. Subtract\n",
      "3. Multiply\n",
      "4. Divide\n",
      "Result: 2.0\n"
     ]
    }
   ],
   "source": [
    "# Function to perform addition\n",
    "def add(x, y):\n",
    "    return x + y\n",
    "\n",
    "# Function to perform subtraction\n",
    "def subtract(x, y):\n",
    "    return x - y\n",
    "\n",
    "# Function to perform multiplication\n",
    "def multiply(x, y):\n",
    "    return x * y\n",
    "\n",
    "# Function to perform division\n",
    "def divide(x, y):\n",
    "    if y != 0:\n",
    "        return x / y\n",
    "    else:\n",
    "        return \"Error: Division by zero\"\n",
    "\n",
    "# Main program\n",
    "print(\"Simple Calculator\")\n",
    "print(\"1. Add\")\n",
    "print(\"2. Subtract\")\n",
    "print(\"3. Multiply\")\n",
    "print(\"4. Divide\")\n",
    "\n",
    "choice = input(\"Enter choice (1/2/3/4): \")\n",
    "\n",
    "num1 = float(input(\"Enter first number: \"))\n",
    "num2 = float(input(\"Enter second number: \"))\n",
    "\n",
    "if choice == '1':\n",
    "    print(\"Result:\", add(num1, num2))\n",
    "elif choice == '2':\n",
    "    print(\"Result:\", subtract(num1, num2))\n",
    "elif choice == '3':\n",
    "    print(\"Result:\", multiply(num1, num2))\n",
    "elif choice == '4':\n",
    "    print(\"Result:\", divide(num1, num2))\n",
    "else:\n",
    "    print(\"Invalid choice\")"
   ]
  },
  {
   "cell_type": "code",
   "execution_count": null,
   "id": "22a2367f",
   "metadata": {},
   "outputs": [],
   "source": [
    "def calculator():\n",
    "    print(\"Simple Calculator\")\n",
    "    print(\"1. Addition\")\n",
    "    print(\"2. Subtraction\")\n",
    "    print(\"3. Multiplication\")\n",
    "    print(\"4. Division\")\n",
    "\n",
    "    choice = input(\"Enter your choice (1/2/3/4): \")\n",
    "\n",
    "    num1 = float(input(\"Enter the first number: \"))\n",
    "    num2 = float(input(\"Enter the second number: \"))\n",
    "\n",
    "    if choice == '1':\n",
    "        result = num1 + num2\n",
    "        print(f\"The result of addition is: {result}\")\n",
    "    elif choice == '2':\n",
    "        result = num1 - num2\n",
    "        print(f\"The result of subtraction is: {result}\")\n",
    "    elif choice == '3':\n",
    "        result = num1 * num2\n",
    "        print(f\"The result of multiplication is: {result}\")\n",
    "    elif choice == '4':\n",
    "        if num2 != 0:\n",
    "            result = num1 / num2\n",
    "            print(f\"The result of division is: {result}\")\n",
    "        else:\n",
    "            print(\"Error: Division by zero is not allowed.\")\n",
    "    else:\n",
    "        print(\"Invalid choice. Please enter a valid option (1/2/3/4).\")\n",
    "\n",
    "# Call the calculator function\n",
    "calculator()"
   ]
  },
  {
   "cell_type": "markdown",
   "id": "d37b1287",
   "metadata": {},
   "source": [
    "### **Codeing Challenge**"
   ]
  },
  {
   "cell_type": "code",
   "execution_count": 28,
   "id": "74ed1bb4",
   "metadata": {},
   "outputs": [],
   "source": [
    "# Dummy student names\n",
    "students = ['Alice', 'Bob', 'Charlie', 'David', 'Eva']\n",
    "\n",
    "# Specified subject names\n",
    "subjects = ['Math', 'Science', 'English', 'History']\n",
    "\n",
    "# Dummy grades for each student (Math, Science, English, History)\n",
    "grades = {\n",
    "    'Alice': [90, 85, 92, 88],\n",
    "    'Bob': [78, 95, 80, 70],\n",
    "    'Charlie': [82, 60, 75, 88],\n",
    "    'David': [65, 70, 68, 75],\n",
    "    'Eva': [88, 92, 45, 90]\n",
    "}"
   ]
  },
  {
   "cell_type": "code",
   "execution_count": 24,
   "id": "d6f3cdd0",
   "metadata": {},
   "outputs": [
    {
     "name": "stdout",
     "output_type": "stream",
     "text": [
      "Average grade for Alice: 88.75\n",
      "Average grade for Bob: 80.75\n",
      "Average grade for Charlie: 76.25\n",
      "Average grade for David: 69.5\n",
      "Average grade for Eva: 78.75\n"
     ]
    }
   ],
   "source": [
    "def average_grade(grades_list):\n",
    "    return sum(grades_list) / len(grades_list)\n",
    "\n",
    "for name in students:\n",
    "    print(f\"Average grade for {name}:\", average_grade(grades[name]))"
   ]
  },
  {
   "cell_type": "code",
   "execution_count": 29,
   "id": "920fbe32",
   "metadata": {},
   "outputs": [
    {
     "name": "stdout",
     "output_type": "stream",
     "text": [
      "Subject with highest grade for Alice: English\n",
      "Subject with highest grade for Bob: Science\n",
      "Subject with highest grade for Charlie: History\n",
      "Subject with highest grade for David: History\n",
      "Subject with highest grade for Eva: Science\n"
     ]
    }
   ],
   "source": [
    "def highest_grade_subject(grades_list):\n",
    "    max_grade = max(grades_list)\n",
    "    max_index = grades_list.index(max_grade)\n",
    "    return subjects[max_index]\n",
    "\n",
    "for name in students:\n",
    "    print(f\"Subject with highest grade for {name}:\", highest_grade_subject(grades[name]))"
   ]
  },
  {
   "cell_type": "code",
   "execution_count": 31,
   "id": "fc0c7d0d",
   "metadata": {},
   "outputs": [
    {
     "name": "stdout",
     "output_type": "stream",
     "text": [
      "Passing students: ['Alice', 'Bob', 'Charlie', 'David']\n"
     ]
    }
   ],
   "source": [
    "def passing_students(grades_dict):\n",
    "    pass_students = []\n",
    "    for student, grades_list in grades_dict.items():\n",
    "        if all(grade >= 50 for grade in grades_list):\n",
    "            pass_students.append(student)\n",
    "    return pass_students\n",
    "\n",
    "print(\"Passing students:\", passing_students(grades))"
   ]
  },
  {
   "cell_type": "code",
   "execution_count": 33,
   "id": "45f6399e",
   "metadata": {},
   "outputs": [
    {
     "name": "stdout",
     "output_type": "stream",
     "text": [
      "Subject-wise performance: {'Math': 80.6, 'Science': 80.4, 'English': 72.0, 'History': 82.2}\n"
     ]
    }
   ],
   "source": [
    "def subject_wise_performance(grades_dict):\n",
    "    performance = {}  # Initialize an empty dictionary to store average grades for each subject.\n",
    "\n",
    "    for subject in subjects:  # Iterate through each subject.\n",
    "        \n",
    "        subject_grades = []  # Initialize an empty list to store grades for the current subject.\n",
    "        for student in grades_dict:  # Iterate through each student in the grades dictionary.\n",
    "            grade_index = subjects.index(subject)  # Find the index of the subject in the subjects list.\n",
    "            subject_grades.append(grades_dict[student][grade_index])  # Append the student's grade for the current subject to the list.\n",
    "        \n",
    "        performance[subject] = average_grade(subject_grades)  # Calculate and store the average grade for the current subject.\n",
    "    \n",
    "    return performance  # Return the dictionary with average grades for each subject.\n",
    "\n",
    "print(\"Subject-wise performance:\", subject_wise_performance(grades))"
   ]
  },
  {
   "cell_type": "code",
   "execution_count": 36,
   "id": "ec45882d",
   "metadata": {},
   "outputs": [
    {
     "name": "stdout",
     "output_type": "stream",
     "text": [
      "Students failed in Math: []\n",
      "Students failed in Science: []\n",
      "Students failed in English: ['Eva']\n",
      "Students failed in History: []\n"
     ]
    }
   ],
   "source": [
    "def students_failed_subject(grades_dict, subject):\n",
    "    failed_students = []\n",
    "    for student, grades_list in grades_dict.items():\n",
    "        if grades_list[subjects.index(subject)] < 50:\n",
    "            failed_students.append(student)\n",
    "    return failed_students\n",
    "\n",
    "for subject in subjects:\n",
    "    print(f\"Students failed in {subject}:\", students_failed_subject(grades, subject))\n"
   ]
  },
  {
   "cell_type": "code",
   "execution_count": 35,
   "id": "d18e7c6f",
   "metadata": {},
   "outputs": [
    {
     "name": "stdout",
     "output_type": "stream",
     "text": [
      "Overall best performing student: Alice\n"
     ]
    }
   ],
   "source": [
    "def overall_performance(grades_dict):\n",
    "    best_student = max(grades_dict, key=lambda student: average_grade(grades_dict[student]))\n",
    "    return best_student\n",
    "\n",
    "print(\"Overall best performing student:\", overall_performance(grades))"
   ]
  },
  {
   "cell_type": "markdown",
   "id": "208e5e4e",
   "metadata": {},
   "source": [
    "## **Question:**\n",
    "\n",
    "Write a Python function Role that, given an actor's name, determines and prints the roles (Hero, Heroine, Villain) played by that actor in various movies from a predefined dictionary, considering the priority of roles as Hero > Heroine > Villain.\n",
    "\n",
    "**Hints**\n",
    "\n",
    "- Start by defining the Role function with one parameter, Name_of_actor.\n",
    "- Create a dictionary called movies with movie names as keys and lists of actors as values.\n",
    "- Initialize three empty lists: Hero, Heroine, and Villain to store the roles played by the actor.\n",
    "- Use a loop to iterate through the movies dictionary.\n",
    "- Within the loop, check if the Name_of_actor exists in the list of actors for each movie.\n",
    "- If the actor is found, determine their role in that movie (Hero, Heroine, or Villain) based on their index in the actors list.\n",
    "- Append the movie name to the corresponding role list.\n",
    "- After iterating through all movies, check if the actor played any roles and print out the roles along with the movie names.\n",
    "- Test the function with different actor names to ensure it works correctly."
   ]
  },
  {
   "cell_type": "code",
   "execution_count": null,
   "id": "a164602b",
   "metadata": {},
   "outputs": [
    {
     "name": "stdout",
     "output_type": "stream",
     "text": [
      "Movies of Sanjay Dutt: KGF2, Khalnayak, MunnaBhaiMBBS\n"
     ]
    }
   ],
   "source": [
    "def find_movies(actor_name):\n",
    "    movies = {\n",
    "        'Darr': ['sunny', 'juhi', 'sharukh'],\n",
    "        'Bahubali': ['prabhas', 'Anushka', 'Rana'],\n",
    "        'Baazigar': ['Ajay', 'Kajol', 'sharukh'],\n",
    "        'KGF2': ['Yash', 'srinidhi', 'Sanjay Dutt'],\n",
    "        'Khalnayak': ['Jackie', 'Madhuri', 'Sanjay Dutt'],\n",
    "        'DDLJ': ['Sharukh', 'kajol', 'amrish puri'],\n",
    "        'MunnaBhaiMBBS': ['Sanjay Dutt', 'Gracy Singh', 'Boman Irani']\n",
    "    }\n",
    "\n",
    "    movies_of_actor = []\n",
    "    \n",
    "    for movie, actors in movies.items():\n",
    "        if actor_name in actors:\n",
    "            movies_of_actor.append(movie)\n",
    "\n",
    "    if movies_of_actor:\n",
    "        print(f\"Movies of {actor_name}: {', '.join(movies_of_actor)}\")\n",
    "    else:\n",
    "        print(f\"{actor_name} has not acted in any of the listed movies.\")\n",
    "\n",
    "# Example usage:\n",
    "find_movies('Sanjay Dutt')"
   ]
  },
  {
   "cell_type": "code",
   "execution_count": null,
   "id": "5a94221f",
   "metadata": {},
   "outputs": [],
   "source": [
    "def Role(Name_of_actor):\n",
    "    movies = {\n",
    "        'Darr': ['sunny', 'juhi', 'sharukh'],\n",
    "        'Bahubali': ['prabhas', 'Anushka', 'Rana'],\n",
    "        'Baazigar': ['Ajay', 'Kajol', 'sharukh'],\n",
    "        'KGF2': ['Yash', 'srinidhi', 'Sanjay Dutt'],\n",
    "        'Khalnayak': ['Jackie', 'Madhuri', 'Sanjay Dutt'],\n",
    "        'DDLJ': ['Sharukh', 'kajol', 'amrish puri'],\n",
    "        'MunnaBhaiMBBS': ['Sanjay Dutt', 'Gracy Singh', 'Boman Irani']\n",
    "    }\n",
    "\n",
    "    Hero = []\n",
    "    Heroine = []\n",
    "    Villain = []\n",
    "\n",
    "    for movie, actors in movies.items():\n",
    "        if Name_of_actor in actors:\n",
    "            if actors.index(Name_of_actor) == 0:\n",
    "                Hero.append(movie)\n",
    "            elif actors.index(Name_of_actor) == len(actors) - 1:\n",
    "                Villain.append(movie)\n",
    "            else:\n",
    "                Heroine.append(movie)\n",
    "\n",
    "    if Hero:\n",
    "        print(Name_of_actor + \" acted as Hero in \" + \", \".join(Hero))\n",
    "    if Heroine:\n",
    "        print(Name_of_actor + \" acted as Heroine in \" + \", \".join(Heroine))\n",
    "    if Villain:\n",
    "        print(Name_of_actor + \" acted as Villain in \" + \", \".join(Villain))\n"
   ]
  },
  {
   "cell_type": "code",
   "execution_count": null,
   "id": "bfc6393c",
   "metadata": {},
   "outputs": [
    {
     "name": "stdout",
     "output_type": "stream",
     "text": [
      "Sanjay Dutt acted as Hero in MunnaBhaiMBBS\n",
      "Sanjay Dutt acted as Villain in KGF2, Khalnayak\n"
     ]
    }
   ],
   "source": [
    "Role('Sanjay Dutt')"
   ]
  }
 ],
 "metadata": {
  "kernelspec": {
   "display_name": "Python 3",
   "language": "python",
   "name": "python3"
  },
  "language_info": {
   "codemirror_mode": {
    "name": "ipython",
    "version": 3
   },
   "file_extension": ".py",
   "mimetype": "text/x-python",
   "name": "python",
   "nbconvert_exporter": "python",
   "pygments_lexer": "ipython3",
   "version": "3.12.2"
  }
 },
 "nbformat": 4,
 "nbformat_minor": 5
}
