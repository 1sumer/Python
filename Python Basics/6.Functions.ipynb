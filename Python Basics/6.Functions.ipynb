{
 "cells": [
  {
   "cell_type": "markdown",
   "id": "b027be66",
   "metadata": {},
   "source": [
    "### FUNCTIONS\n",
    "A function is a small re-usable snippet of the code which is written to ouput the result of a specific task.\n",
    "When a given task has to be performed repeatedly for a given task, it will be good to create a function for the task with generally specified inputs and then the fucntion can be recalled to be used for other inputs as and when required further in the program. \n",
    "\n",
    "Functions make our program look simple and organized.\n",
    "Functions are blocks of reusable code, defined using the def keyword.\n",
    "\n",
    "Parameters and Arguments:\n",
    "\n",
    "Parameters are variables in the function definition.\n",
    "Arguments are the values passed to the function when calling it.\n",
    "\n",
    "Arguments allows a variable number of positional arguments.\n",
    "\n",
    "Return Statement:\n",
    "\n",
    "Functions can return values using the return statement.\n",
    "If no return statement is present, the function returns None by default.\n",
    "\n",
    "#### SYNTAX\n",
    "\n",
    "<pre><code>def FunctionName(Arguments/Parameters):\n",
    "    Body of the function\n",
    "    return Expression/output parameter\n",
    "</code></pre>"
   ]
  },
  {
   "cell_type": "markdown",
   "id": "b6b6800a",
   "metadata": {},
   "source": [
    "Key Points:\n",
    "\n",
    "Lambda vs. def:\n",
    "\n",
    "- def is used for creating named functions with a block of code.\n",
    "- lambda is used for creating anonymous functions for simple operations.\n",
    "\n",
    "map() and filter():\n",
    "\n",
    "- Efficiently apply operations to all elements or filter elements based on a condition in an iterable.\n",
    "\n",
    "Use Cases:\n",
    "\n",
    "- Functions (def): General-purpose functions with a name and reusable code.\n",
    "- Lambda: Concise, one-line functions, often used for short-term operations.\n",
    "- map() and filter(): Convenient for transforming or filtering data in iterables."
   ]
  },
  {
   "cell_type": "code",
   "execution_count": 1,
   "id": "52cd246f",
   "metadata": {},
   "outputs": [],
   "source": [
    "#Defining a Function:\n",
    "def my_function(parameter1, parameter2):\n",
    "    # Function body\n",
    "    result = parameter1 + parameter2\n",
    "    return result\n",
    "\n",
    "#Calling a Function:\n",
    "result = my_function(1, 2)"
   ]
  },
  {
   "cell_type": "code",
   "execution_count": 2,
   "id": "70d4c7fc",
   "metadata": {},
   "outputs": [],
   "source": [
    "def add_numbers(x, y):\n",
    "    result = x + y\n",
    "    return result"
   ]
  },
  {
   "cell_type": "code",
   "execution_count": 3,
   "id": "79d89f7e",
   "metadata": {},
   "outputs": [
    {
     "name": "stdout",
     "output_type": "stream",
     "text": [
      "20\n"
     ]
    }
   ],
   "source": [
    "def add():\n",
    "    x= int(input(\"enter the number\"))\n",
    "    y= int(input(\"enter the second number\"))\n",
    "    z=x+y\n",
    "    print(z)\n",
    "add ()"
   ]
  },
  {
   "cell_type": "code",
   "execution_count": 2,
   "metadata": {},
   "outputs": [],
   "source": [
    "def div(numbers):\n",
    "    for num in numbers:\n",
    "        if num % 2 ==0:\n",
    "            return(num)"
   ]
  },
  {
   "cell_type": "code",
   "execution_count": 3,
   "metadata": {},
   "outputs": [
    {
     "data": {
      "text/plain": [
       "2"
      ]
     },
     "execution_count": 3,
     "metadata": {},
     "output_type": "execute_result"
    }
   ],
   "source": [
    "a = [1,2,3,4,5,6,7,8,9,10]\n",
    "div(a)"
   ]
  },
  {
   "cell_type": "code",
   "execution_count": null,
   "metadata": {},
   "outputs": [
    {
     "data": {
      "text/plain": [
       "[2, 4, 6, 8, 10]"
      ]
     },
     "execution_count": 5,
     "metadata": {},
     "output_type": "execute_result"
    }
   ],
   "source": [
    "def divis(numbers):\n",
    "    return[num for num in numbers if num % 2 == 0]\n",
    "\n",
    "no = [1,2,3,4,5,6,7,8,9,10]\n",
    "divis(no)"
   ]
  },
  {
   "cell_type": "code",
   "execution_count": null,
   "id": "93c08cd3",
   "metadata": {},
   "outputs": [
    {
     "name": "stdout",
     "output_type": "stream",
     "text": [
      "The addition is 40\n"
     ]
    }
   ],
   "source": [
    "x=int(input(\"enter the number\"))\n",
    "y=int(input(\"enter the second number\"))\n",
    "def add1(x,y):\n",
    "    z = x+y\n",
    "    print(\"The addition is\",z)\n",
    "add1(x, y)        "
   ]
  },
  {
   "cell_type": "code",
   "execution_count": null,
   "id": "a09f9b91",
   "metadata": {},
   "outputs": [
    {
     "data": {
      "text/plain": [
       "('Hello ', \"('vijay', 'kumar')\")"
      ]
     },
     "execution_count": 9,
     "metadata": {},
     "output_type": "execute_result"
    }
   ],
   "source": [
    "#let me greet you with a function\n",
    "\n",
    "def greet(p):\n",
    "    return print('Hello ', str(p))  \n",
    "a = 'vijay'\n",
    "b = 'kumar'\n",
    "\n",
    "#let us recall the function. \n",
    "greet((a,b))"
   ]
  },
  {
   "cell_type": "code",
   "execution_count": 1,
   "id": "fc66f71f",
   "metadata": {},
   "outputs": [
    {
     "name": "stdout",
     "output_type": "stream",
     "text": [
      "343\n",
      "343\n"
     ]
    }
   ],
   "source": [
    "# Python code to illustrate the cube of a number\n",
    "# using lambda function\n",
    "def cube(x): return x*x*x\n",
    "\n",
    "cube_v2 = lambda x : x*x*x\n",
    "\n",
    "print(cube(7))\n",
    "print(cube_v2(7))"
   ]
  },
  {
   "cell_type": "code",
   "execution_count": 1,
   "id": "19a857bf",
   "metadata": {},
   "outputs": [
    {
     "name": "stdout",
     "output_type": "stream",
     "text": [
      "Which number is biggest?\n",
      "100\n",
      "Which number is the biggest modulo 5?\n",
      "14\n"
     ]
    }
   ],
   "source": [
    "def mod_5(x):\n",
    "    \"\"\"Return the remainder of x after dividing by 5\"\"\"\n",
    "    return x % 5\n",
    "\n",
    "print(\n",
    "    'Which number is biggest?',\n",
    "    max(100, 51, 14),\n",
    "    'Which number is the biggest modulo 5?',\n",
    "    max(100, 51, 14, key=mod_5),\n",
    "    sep='\\n',\n",
    ")"
   ]
  },
  {
   "cell_type": "markdown",
   "id": "054134d8",
   "metadata": {},
   "source": [
    "### **Lambda Expressions (lambda):**\n",
    "Definition:\n",
    "lambda allows the creation of anonymous functions (functions without a name)."
   ]
  },
  {
   "cell_type": "code",
   "execution_count": null,
   "id": "b2403ff9",
   "metadata": {},
   "outputs": [
    {
     "data": {
      "text/plain": [
       "8"
      ]
     },
     "execution_count": 4,
     "metadata": {},
     "output_type": "execute_result"
    }
   ],
   "source": [
    "add = lambda x, y: x + y\n",
    "result = add(3, 5)\n",
    "result"
   ]
  },
  {
   "cell_type": "code",
   "execution_count": null,
   "metadata": {},
   "outputs": [
    {
     "data": {
      "text/plain": [
       "True"
      ]
     },
     "execution_count": 10,
     "metadata": {},
     "output_type": "execute_result"
    }
   ],
   "source": [
    "enen = lambda x:x%2==0\n",
    "enen(2)"
   ]
  },
  {
   "cell_type": "markdown",
   "id": "c905aae6",
   "metadata": {},
   "source": [
    "### **map() Function:**\n",
    "Definition:\n",
    "map() applies a given function to all items in an input list (or any iterable)."
   ]
  },
  {
   "cell_type": "code",
   "execution_count": null,
   "id": "7d3f4675",
   "metadata": {},
   "outputs": [
    {
     "name": "stdout",
     "output_type": "stream",
     "text": [
      "6 12 "
     ]
    }
   ],
   "source": [
    "list2=[1,2,3,4,5]\n",
    "list1=map(lambda x: x*3,list2)\n",
    "for num in list1:\n",
    "    if num%2 ==0:\n",
    "        print(num,end=\" \")"
   ]
  },
  {
   "cell_type": "markdown",
   "id": "44af5809",
   "metadata": {},
   "source": [
    "### **filter() Function:**\n",
    "Definition:\n",
    "filter() constructs an iterator from elements of an iterable for which a function returns True."
   ]
  },
  {
   "cell_type": "code",
   "execution_count": 6,
   "id": "a37dcf83",
   "metadata": {},
   "outputs": [
    {
     "name": "stdout",
     "output_type": "stream",
     "text": [
      "[0, 2, 4, 6, 8, 10, 12, 14, 16, 18]\n"
     ]
    }
   ],
   "source": [
    "#Another example of lambda function\n",
    "lst = range(20)\n",
    "evenlst = list(filter(lambda x:(x%2==0), lst))\n",
    "print(evenlst)\n"
   ]
  },
  {
   "cell_type": "code",
   "execution_count": null,
   "id": "3c8f3c80",
   "metadata": {},
   "outputs": [
    {
     "name": "stdout",
     "output_type": "stream",
     "text": [
      "(25, 125)\n"
     ]
    }
   ],
   "source": [
    "def sqcb(a):\n",
    "    '''\n",
    "    This function returns the square and cube of a given number\n",
    "    '''\n",
    "    return a**2, a**3\n",
    "a = 5\n",
    "\n",
    "print(sqcb(a))"
   ]
  },
  {
   "cell_type": "markdown",
   "id": "b3f120da",
   "metadata": {},
   "source": [
    "### **Doc Strings**\n",
    "Let us understand something called 'Doc Strings':\n",
    "   Doc strings are just the text statements while define the objective/purpose of a function. \n",
    "Here is an example,"
   ]
  },
  {
   "cell_type": "code",
   "execution_count": 8,
   "id": "56cb1b53",
   "metadata": {},
   "outputs": [
    {
     "name": "stdout",
     "output_type": "stream",
     "text": [
      "Hello  Praveen\n"
     ]
    }
   ],
   "source": [
    "# Adding Doc strings to our function 'greet(p)'\n",
    "def greet(p):\n",
    "    \"\"\"\n",
    "    This function returns the greeting for a given name.\n",
    "    \"\"\"\n",
    "    return print('Hello ', str(p))\n",
    "greet('Praveen')"
   ]
  },
  {
   "cell_type": "code",
   "execution_count": 9,
   "id": "778903d4",
   "metadata": {},
   "outputs": [
    {
     "name": "stdout",
     "output_type": "stream",
     "text": [
      "\n",
      "    This function returns the greeting for a given name.\n",
      "    \n"
     ]
    }
   ],
   "source": [
    "#We can look at the objective of any function by using attribute '.__doc__'\n",
    "print(greet.__doc__)"
   ]
  },
  {
   "cell_type": "code",
   "execution_count": null,
   "id": "aa503b09",
   "metadata": {},
   "outputs": [
    {
     "name": "stdout",
     "output_type": "stream",
     "text": [
      "20\n"
     ]
    }
   ],
   "source": [
    "add()"
   ]
  },
  {
   "cell_type": "code",
   "execution_count": null,
   "id": "f3f60720",
   "metadata": {},
   "outputs": [
    {
     "data": {
      "text/plain": [
       "121"
      ]
     },
     "execution_count": 1,
     "metadata": {},
     "output_type": "execute_result"
    }
   ],
   "source": [
    "# We will look at one more example\n",
    "def SquareIt(Num):\n",
    "    \"\"\"\n",
    "    This functions returns square of a given number\n",
    "    \"\"\"\n",
    "    return Num**2\n",
    "\n",
    "#recalling function\n",
    "SquareIt(11)"
   ]
  },
  {
   "cell_type": "code",
   "execution_count": null,
   "id": "ac109e39",
   "metadata": {},
   "outputs": [
    {
     "name": "stdout",
     "output_type": "stream",
     "text": [
      "\n",
      "    This functions returns square of a given number\n",
      "    \n"
     ]
    }
   ],
   "source": [
    "print(SquareIt.__doc__)"
   ]
  },
  {
   "cell_type": "code",
   "execution_count": null,
   "id": "187ea033",
   "metadata": {},
   "outputs": [
    {
     "data": {
      "text/plain": [
       "[1, 4, 9, 16]"
      ]
     },
     "execution_count": 24,
     "metadata": {},
     "output_type": "execute_result"
    }
   ],
   "source": [
    "#let us get the square of numbers in a list\n",
    "def SquareList(a):\n",
    "    \"\"\"\n",
    "    This functions returns square of numbers in a list\n",
    "    \"\"\"\n",
    "    b=[]\n",
    "    for i in a:\n",
    "        b.append(i**2)\n",
    "    return b \n",
    "#recall\n",
    "SquareList([1,2,3,4]) "
   ]
  },
  {
   "cell_type": "markdown",
   "id": "ef9f487a",
   "metadata": {},
   "source": [
    "#### Types of Functions\n",
    "There are 2 types of functions in Python\n",
    "1. User-defined Functions:\n",
    "\n",
    "    So far, the functions we define like SquareIt, SquareList...which were not already available in Python are called User-defined function.\n",
    "    \n",
    "2. Built-in functions:\n",
    "\n",
    "    Functions that are already availabble in Python\n",
    "\n",
    "Let us look at few Built in Function applications:"
   ]
  },
  {
   "cell_type": "code",
   "execution_count": null,
   "id": "106e3be4",
   "metadata": {},
   "outputs": [
    {
     "name": "stdout",
     "output_type": "stream",
     "text": [
      "[-9, -6, -3, 3, 6, 9]\n"
     ]
    }
   ],
   "source": [
    "#filter\n",
    "def DivisibleBy_3(a):\n",
    "    \"\"\"\n",
    "    This function return a number only if it is divisible by 3\n",
    "    \"\"\"\n",
    "    if (a % 3 == 0):\n",
    "        return a\n",
    "\n",
    "lst = range(-10,10)\n",
    "print(list(filter(DivisibleBy_3, lst)))\n"
   ]
  },
  {
   "cell_type": "code",
   "execution_count": null,
   "id": "64401490",
   "metadata": {},
   "outputs": [
    {
     "data": {
      "text/plain": [
       "18"
      ]
     },
     "execution_count": 26,
     "metadata": {},
     "output_type": "execute_result"
    }
   ],
   "source": [
    "DivisibleBy_3(18)"
   ]
  },
  {
   "cell_type": "code",
   "execution_count": null,
   "id": "5848f602",
   "metadata": {},
   "outputs": [
    {
     "name": "stdout",
     "output_type": "stream",
     "text": [
      "[1, 4, 9, 16, 25, 36]\n"
     ]
    }
   ],
   "source": [
    "#map()\n",
    "list1 = [ 1,2,3,4,5,6]\n",
    "SquaredList = list(map(SquareIt,list1))\n",
    "print(SquaredList)"
   ]
  },
  {
   "cell_type": "markdown",
   "id": "4f49cf6b",
   "metadata": {},
   "source": [
    "Exercise: Check for built in function called 'reduce()'"
   ]
  },
  {
   "cell_type": "markdown",
   "id": "4c5f27c7",
   "metadata": {},
   "source": [
    "Few more properties of Functions:"
   ]
  },
  {
   "cell_type": "code",
   "execution_count": null,
   "id": "b53fb7d0",
   "metadata": {},
   "outputs": [
    {
     "name": "stdout",
     "output_type": "stream",
     "text": [
      "Collecting functoolsNote: you may need to restart the kernel to use updated packages.\n"
     ]
    },
    {
     "name": "stderr",
     "output_type": "stream",
     "text": [
      "  error: subprocess-exited-with-error\n",
      "  \n",
      "  × python setup.py bdist_wheel did not run successfully.\n",
      "  │ exit code: 1\n",
      "  ╰─> [9 lines of output]\n",
      "      running bdist_wheel\n",
      "      running build\n",
      "      running build_py\n",
      "      creating build\n",
      "      creating build\\lib.win-amd64-cpython-311\n",
      "      copying functools.py -> build\\lib.win-amd64-cpython-311\n",
      "      running build_ext\n",
      "      building '_functools' extension\n",
      "      error: Microsoft Visual C++ 14.0 or greater is required. Get it with \"Microsoft C++ Build Tools\": https://visualstudio.microsoft.com/visual-cpp-build-tools/\n",
      "      [end of output]\n",
      "  \n",
      "  note: This error originates from a subprocess, and is likely not a problem with pip.\n",
      "  ERROR: Failed building wheel for functools\n",
      "ERROR: Could not build wheels for functools, which is required to install pyproject.toml-based projects\n",
      "\n",
      "[notice] A new release of pip is available: 23.3 -> 23.3.1\n",
      "[notice] To update, run: python.exe -m pip install --upgrade pip\n"
     ]
    },
    {
     "name": "stdout",
     "output_type": "stream",
     "text": [
      "\n",
      "  Using cached functools-0.5.tar.gz (4.9 kB)\n",
      "  Preparing metadata (setup.py): started\n",
      "  Preparing metadata (setup.py): finished with status 'done'\n",
      "Building wheels for collected packages: functools\n",
      "  Building wheel for functools (setup.py): started\n",
      "  Building wheel for functools (setup.py): finished with status 'error'\n",
      "  Running setup.py clean for functools\n",
      "Failed to build functools\n"
     ]
    }
   ],
   "source": [
    "# pip install functools"
   ]
  },
  {
   "cell_type": "code",
   "execution_count": null,
   "id": "7d68c40f",
   "metadata": {},
   "outputs": [
    {
     "name": "stdout",
     "output_type": "stream",
     "text": [
      "Sum of Numbers: 15\n",
      "Concatenated String: Hello World!\n",
      "Maximum Value: 89\n"
     ]
    }
   ],
   "source": [
    "from functools import reduce\n",
    "\n",
    "# Example 1: Summing up a list of numbers\n",
    "numbers = [1, 2, 3, 4, 5]\n",
    "sum_result = reduce(lambda x, y: x + y, numbers)\n",
    "print(\"Sum of Numbers:\", sum_result)\n",
    "\n",
    "# Example 2: Concatenating strings in a list\n",
    "words = [\"Hello\", \" \", \"World\", \"!\"]\n",
    "concatenated_string = reduce(lambda x, y: x + y, words)\n",
    "print(\"Concatenated String:\", concatenated_string)\n",
    "\n",
    "# Example 3: Finding the maximum value in a list\n",
    "values = [45, 67, 12, 89, 34]\n",
    "max_value = reduce(lambda x, y: x if x > y else y, values)\n",
    "print(\"Maximum Value:\", max_value)"
   ]
  },
  {
   "cell_type": "code",
   "execution_count": 1,
   "metadata": {},
   "outputs": [
    {
     "data": {
      "text/plain": [
       "121"
      ]
     },
     "execution_count": 1,
     "metadata": {},
     "output_type": "execute_result"
    }
   ],
   "source": [
    "# We will look at one more example\n",
    "def SquareIt(Num):\n",
    "    \"\"\"\n",
    "    This functions returns square of a given number\n",
    "    \"\"\"\n",
    "    return Num**2\n",
    "\n",
    "#recalling function\n",
    "SquareIt(11)"
   ]
  },
  {
   "cell_type": "code",
   "execution_count": 2,
   "id": "c8014265",
   "metadata": {
    "scrolled": true
   },
   "outputs": [
    {
     "data": {
      "text/plain": [
       "16"
      ]
     },
     "execution_count": 2,
     "metadata": {},
     "output_type": "execute_result"
    }
   ],
   "source": [
    "#You can pass functions around as parameters\n",
    "def DoSomething(f, x): \n",
    "    \"\"\"\n",
    "    This function returns the output of a function on given variable\n",
    "    \"\"\"\n",
    "    return f(x)\n",
    "\n",
    "b= DoSomething(SquareIt, 4)\n",
    "#print(DoSomething(SquareIt, 3))\n",
    "b"
   ]
  },
  {
   "cell_type": "code",
   "execution_count": 8,
   "metadata": {},
   "outputs": [
    {
     "name": "stdout",
     "output_type": "stream",
     "text": [
      "\n",
      "    This function returns the output of a function on given variable\n",
      "    \n"
     ]
    }
   ],
   "source": [
    "print(DoSomething.__doc__)"
   ]
  },
  {
   "cell_type": "code",
   "execution_count": null,
   "id": "3507c815",
   "metadata": {},
   "outputs": [
    {
     "name": "stdout",
     "output_type": "stream",
     "text": [
      "64\n"
     ]
    }
   ],
   "source": [
    "#Lambda functions let you inline simple functions\n",
    "print(DoSomething(lambda x: x * x * x, 4))\n",
    "#DoSomething(lambda x: x * x * x, 853)"
   ]
  },
  {
   "cell_type": "markdown",
   "id": "0743ca43",
   "metadata": {},
   "source": [
    "Let us try to build a simple calculator using functions"
   ]
  },
  {
   "cell_type": "code",
   "execution_count": null,
   "id": "5f544fa1",
   "metadata": {},
   "outputs": [
    {
     "name": "stdout",
     "output_type": "stream",
     "text": [
      "Return the sum of a 'start' value (default: 0) plus an iterable of numbers\n",
      "\n",
      "When the iterable is empty, return the start value.\n",
      "This function is intended specifically for use with numeric values and may\n",
      "reject non-numeric types.\n"
     ]
    }
   ],
   "source": [
    "print(sum.__doc__)"
   ]
  },
  {
   "cell_type": "code",
   "execution_count": null,
   "id": "857af5c5",
   "metadata": {},
   "outputs": [],
   "source": [
    "#def Function Examples:\n",
    "#Example 1: Calculate Area of a Rectangle\n",
    "\n",
    "def calculate_rectangle_area(length, width):\n",
    "    area = length * width\n",
    "    return area\n",
    "\n",
    "# Example Usage\n",
    "rectangle_area = calculate_rectangle_area(5, 8)\n",
    "print(\"Rectangle Area:\", rectangle_area)"
   ]
  },
  {
   "cell_type": "code",
   "execution_count": null,
   "id": "19b2370b",
   "metadata": {},
   "outputs": [
    {
     "name": "stdout",
     "output_type": "stream",
     "text": [
      "25 Celsius is 77.0 Fahrenheit\n"
     ]
    }
   ],
   "source": [
    "#Example 2: Convert Celsius to Fahrenheit\n",
    "\n",
    "def celsius_to_fahrenheit(celsius):\n",
    "    fahrenheit = (celsius * 9/5) + 32\n",
    "    return fahrenheit\n",
    "\n",
    "# Example Usage\n",
    "temperature_celsius = 25\n",
    "temperature_fahrenheit = celsius_to_fahrenheit(temperature_celsius)\n",
    "print(f\"{temperature_celsius} Celsius is {temperature_fahrenheit} Fahrenheit\")"
   ]
  },
  {
   "cell_type": "code",
   "execution_count": null,
   "id": "e56c449a",
   "metadata": {},
   "outputs": [],
   "source": [
    "#Example 3: Check if a Number is Prime\n",
    "def is_prime(number):\n",
    "    if number < 2:\n",
    "        return False\n",
    "    for i in range(2, int(number**0.5) + 1):\n",
    "        if number % i == 0:\n",
    "            return False\n",
    "    return True\n",
    "\n",
    "# Example Usage\n",
    "check_number = 13\n",
    "print(f\"{check_number} is Prime: {is_prime(check_number)}\")\n"
   ]
  },
  {
   "cell_type": "code",
   "execution_count": null,
   "id": "6eefb926",
   "metadata": {},
   "outputs": [
    {
     "name": "stdout",
     "output_type": "stream",
     "text": [
      "The square of 7 is 49\n"
     ]
    }
   ],
   "source": [
    "#2. lambda Expression Examples:\n",
    "#Example 1: Find the Square of a Number\n",
    "\n",
    "square = lambda x: x**2\n",
    "\n",
    "# Example Usage\n",
    "number = 7\n",
    "result = square(number)\n",
    "print(f\"The square of {number} is {result}\")\n"
   ]
  },
  {
   "cell_type": "code",
   "execution_count": null,
   "id": "ee017128",
   "metadata": {},
   "outputs": [],
   "source": [
    "#Example 2: Concatenate First and Last Name\n",
    "concatenate_names = lambda first, last: f\"{first} {last}\"\n",
    "\n",
    "# Example Usage\n",
    "first_name = \"John\"\n",
    "last_name = \"Doe\"\n",
    "full_name = concatenate_names(first_name, last_name)\n",
    "print(\"Full Name:\", full_name)"
   ]
  },
  {
   "cell_type": "code",
   "execution_count": null,
   "id": "a925341e",
   "metadata": {},
   "outputs": [],
   "source": [
    "#Example 3: Check if a Number is Even using lambda\n",
    "\n",
    "is_even = lambda x: x % 2 == 0\n",
    "\n",
    "# Example Usage\n",
    "check_number = 10\n",
    "print(f\"{check_number} is Even: {is_even(check_number)}\")"
   ]
  },
  {
   "cell_type": "code",
   "execution_count": 7,
   "id": "62f4d294",
   "metadata": {},
   "outputs": [
    {
     "name": "stdout",
     "output_type": "stream",
     "text": [
      "Original List: [1, 2, 3, 4, 5]\n",
      "Doubled List: [2, 4, 6, 8, 10]\n"
     ]
    }
   ],
   "source": [
    "#3. map() Function Examples:\n",
    "#Example 1: Double Each Element in a List\n",
    "numbers = [1, 2, 3, 4, 5]\n",
    "doubled_numbers = list(map(lambda x: x * 2, numbers))\n",
    "\n",
    "print(\"Original List:\", numbers)\n",
    "print(\"Doubled List:\", doubled_numbers)\n"
   ]
  },
  {
   "cell_type": "code",
   "execution_count": null,
   "id": "61dfeb2a",
   "metadata": {},
   "outputs": [],
   "source": [
    "# Example 2: Convert Temperatures from Celsius to Fahrenheit using map()\n",
    "celsius_temperatures = [0, 10, 20, 30, 40]\n",
    "fahrenheit_temperatures = list(map(lambda c: (c * 9/5) + 32, celsius_temperatures))\n",
    "\n",
    "print(\"Celsius Temperatures:\", celsius_temperatures)\n",
    "print(\"Fahrenheit Temperatures:\", fahrenheit_temperatures)"
   ]
  },
  {
   "cell_type": "code",
   "execution_count": null,
   "id": "94a3c0ff",
   "metadata": {},
   "outputs": [],
   "source": [
    "#Example 3: Calculate Square Roots of Numbers in a List\n",
    "import math\n",
    "\n",
    "numbers = [4, 9, 16, 25]\n",
    "square_roots = list(map(math.sqrt, numbers))\n",
    "\n",
    "print(\"Original List:\", numbers)\n",
    "print(\"Square Roots:\", square_roots)\n"
   ]
  },
  {
   "cell_type": "code",
   "execution_count": null,
   "id": "45eba8d7",
   "metadata": {},
   "outputs": [],
   "source": [
    "#filter() Function Examples:\n",
    "#Example 1: Filter Positive Numbers from a List\n",
    "numbers = [-2, -1, 0, 1, 2, 3, 4, 5]\n",
    "positive_numbers = list(filter(lambda x: x > 0, numbers))\n",
    "\n",
    "print(\"Original List:\", numbers)\n",
    "print(\"Positive Numbers:\", positive_numbers)"
   ]
  },
  {
   "cell_type": "code",
   "execution_count": 5,
   "id": "6d67e767",
   "metadata": {},
   "outputs": [
    {
     "name": "stdout",
     "output_type": "stream",
     "text": [
      "Original List of Words: ['Apple', 'Banana', 'Orange', 'Avocado', 'Grapes']\n",
      "Words Starting with 'A': ['Apple', 'Avocado']\n"
     ]
    }
   ],
   "source": [
    "#Example 2: Filter Words Starting with 'A' from a List of Strings\n",
    "words = [\"Apple\", \"Banana\", \"Orange\", \"Avocado\", \"Grapes\"]\n",
    "a_words = list(filter(lambda word: word.startswith('A'), words))\n",
    "\n",
    "print(\"Original List of Words:\", words)\n",
    "print(\"Words Starting with 'A':\", a_words)"
   ]
  },
  {
   "cell_type": "code",
   "execution_count": null,
   "id": "3e17e371",
   "metadata": {},
   "outputs": [],
   "source": [
    "# Function to perform addition\n",
    "def add(x, y):\n",
    "    return x + y\n",
    "\n",
    "# Function to perform subtraction\n",
    "def subtract(x, y):\n",
    "    return x - y\n",
    "\n",
    "# Function to perform multiplication\n",
    "def multiply(x, y):\n",
    "    return x * y\n",
    "\n",
    "# Function to perform division\n",
    "def divide(x, y):\n",
    "    if y != 0:\n",
    "        return x / y\n",
    "    else:\n",
    "        return \"Error: Division by zero\"\n",
    "\n",
    "# Main program\n",
    "print(\"Simple Calculator\")\n",
    "print(\"1. Add\")\n",
    "print(\"2. Subtract\")\n",
    "print(\"3. Multiply\")\n",
    "print(\"4. Divide\")\n",
    "\n",
    "choice = input(\"Enter choice (1/2/3/4): \")\n",
    "\n",
    "num1 = float(input(\"Enter first number: \"))\n",
    "num2 = float(input(\"Enter second number: \"))\n",
    "\n",
    "if choice == '1':\n",
    "    print(\"Result:\", add(num1, num2))\n",
    "elif choice == '2':\n",
    "    print(\"Result:\", subtract(num1, num2))\n",
    "elif choice == '3':\n",
    "    print(\"Result:\", multiply(num1, num2))\n",
    "elif choice == '4':\n",
    "    print(\"Result:\", divide(num1, num2))\n",
    "else:\n",
    "    print(\"Invalid choice\")"
   ]
  },
  {
   "cell_type": "code",
   "execution_count": null,
   "id": "22a2367f",
   "metadata": {},
   "outputs": [],
   "source": [
    "def calculator():\n",
    "    print(\"Simple Calculator\")\n",
    "    print(\"1. Addition\")\n",
    "    print(\"2. Subtraction\")\n",
    "    print(\"3. Multiplication\")\n",
    "    print(\"4. Division\")\n",
    "\n",
    "    choice = input(\"Enter your choice (1/2/3/4): \")\n",
    "\n",
    "    num1 = float(input(\"Enter the first number: \"))\n",
    "    num2 = float(input(\"Enter the second number: \"))\n",
    "\n",
    "    if choice == '1':\n",
    "        result = num1 + num2\n",
    "        print(f\"The result of addition is: {result}\")\n",
    "    elif choice == '2':\n",
    "        result = num1 - num2\n",
    "        print(f\"The result of subtraction is: {result}\")\n",
    "    elif choice == '3':\n",
    "        result = num1 * num2\n",
    "        print(f\"The result of multiplication is: {result}\")\n",
    "    elif choice == '4':\n",
    "        if num2 != 0:\n",
    "            result = num1 / num2\n",
    "            print(f\"The result of division is: {result}\")\n",
    "        else:\n",
    "            print(\"Error: Division by zero is not allowed.\")\n",
    "    else:\n",
    "        print(\"Invalid choice. Please enter a valid option (1/2/3/4).\")\n",
    "\n",
    "# Call the calculator function\n",
    "calculator()\n"
   ]
  },
  {
   "cell_type": "code",
   "execution_count": 3,
   "metadata": {},
   "outputs": [],
   "source": [
    "letter_to_number = {\n",
    "'a': 1,\n",
    "'b': 2,\n",
    "'c': 3,\n",
    "'d': 4,\n",
    "'e': 5,\n",
    "'f': 6,\n",
    "'g': 7,\n",
    "'h': 8,\n",
    "'i': 9,\n",
    "'j': 10,\n",
    "'k': 11,\n",
    "'l': 12,\n",
    "'m': 13,\n",
    "'n': 14,\n",
    "'o': 15,\n",
    "'p': 16,\n",
    "'q': 17,\n",
    "'r': 18,\n",
    "'s': 19,\n",
    "'t': 20,\n",
    "'u': 21,\n",
    "'v': 22,\n",
    "'w': 23,\n",
    "'x': 24,\n",
    "'y': 25,\n",
    "'z': 26\n",
    "}\n",
    "\n",
    "\n",
    "encoded_messages = [\n",
    "'18-5-3-1-4'\n",
    ",\n",
    "'2-5-20-12-5'\n",
    ",\n",
    "'15-14-5-7-5-1'\n",
    ",\n",
    "'23-8-1-20'\n",
    ",\n",
    "'1-3-20-9-15-14'\n",
    ",\n",
    "'18-5-1-12-12-25'\n",
    ",\n",
    "'20-8-5'\n",
    ",\n",
    "'13-5-19-19-1-7-5'\n",
    ",\n",
    "'3-8-1-12-12-5-14-7-5'\n",
    ",\n",
    "]"
   ]
  },
  {
   "cell_type": "code",
   "execution_count": 4,
   "metadata": {},
   "outputs": [
    {
     "name": "stdout",
     "output_type": "stream",
     "text": [
      "[' recad', ' betle', ' onegea', ' what', ' action', ' really', ' the', ' message', ' challenge']\n"
     ]
    }
   ],
   "source": [
    "def get_key(val):\n",
    "    for key, value in letter_to_number.items():\n",
    "        if val == value:\n",
    "            return key\n",
    "        \n",
    "    return \"key doesn't exist\"\n",
    "\n",
    "final=[]\n",
    "for i in encoded_messages:\n",
    "    b = i.split('-')\n",
    "    s=' '\n",
    "    for j in b:\n",
    "        s+= str(get_key(int(j)))\n",
    "    final.append(s)\n",
    "    #print(s)\n",
    "print(final)"
   ]
  },
  {
   "cell_type": "code",
   "execution_count": null,
   "id": "d37b1287",
   "metadata": {},
   "outputs": [],
   "source": []
  },
  {
   "cell_type": "code",
   "execution_count": 10,
   "id": "5684df25",
   "metadata": {},
   "outputs": [
    {
     "name": "stdout",
     "output_type": "stream",
     "text": [
      "Average grade for Eva: 78.75\n",
      "Subject with highest grade for David: History\n",
      "Passing students: ['Alice', 'Bob', 'Charlie', 'David']\n",
      "Subject-wise performance: {'Math': 80.6, 'Science': 80.4, 'English': 72.0, 'History': 82.2}\n",
      "Students failed in Science: ['Eva']\n",
      "Overall best performing student: Alice\n"
     ]
    }
   ],
   "source": [
    "# Dummy student names\n",
    "students = ['Alice', 'Bob', 'Charlie', 'David', 'Eva']\n",
    "\n",
    "# Dummy grades for each student (Math, Science, English, History)\n",
    "grades = {\n",
    "    'Alice': [90, 85, 92, 88],\n",
    "    'Bob': [78, 95, 80, 70],\n",
    "    'Charlie': [82, 60, 75, 88],\n",
    "    'David': [65, 70, 68, 75],\n",
    "    'Eva': [88, 92, 45, 90]\n",
    "}\n",
    "\n",
    "def average_grade(grades_list):\n",
    "    return sum(grades_list) / len(grades_list)\n",
    "\n",
    "def highest_grade_subject(grades_list):\n",
    "    subjects = ['Math', 'Science', 'English', 'History']\n",
    "    max_grade = max(grades_list)\n",
    "    max_index = grades_list.index(max_grade)\n",
    "    return subjects[max_index]\n",
    "\n",
    "def passing_students(grades_dict):\n",
    "    pass_students = []\n",
    "    for student, grades_list in grades_dict.items():\n",
    "        if all(grade >= 50 for grade in grades_list):\n",
    "            pass_students.append(student)\n",
    "    return pass_students\n",
    "\n",
    "def subject_wise_performance(grades_dict):\n",
    "    subjects = ['Math', 'Science', 'English', 'History']\n",
    "    performance = {}\n",
    "    for subject in subjects:\n",
    "        subject_grades = [grades_dict[student][subjects.index(subject)] for student in students]\n",
    "        performance[subject] = average_grade(subject_grades)\n",
    "    return performance\n",
    "\n",
    "def students_failed_subject(grades_dict, subject):\n",
    "    failed_students = []\n",
    "    subjects = ['Math', 'Science', 'English', 'History']\n",
    "    for student, grades_list in grades_dict.items():\n",
    "        if grades_list[subjects.index(subject)] < 50:\n",
    "            failed_students.append(student)\n",
    "    return failed_students\n",
    "\n",
    "def overall_performance(grades_dict):\n",
    "    best_student = max(grades_dict, key=lambda student: average_grade(grades_dict[student]))\n",
    "    return best_student\n",
    "\n",
    "# Example usage:\n",
    "print(\"Average grade for Eva:\", average_grade(grades['Eva']))\n",
    "print(\"Subject with highest grade for David:\", highest_grade_subject(grades['David']))\n",
    "print(\"Passing students:\", passing_students(grades))\n",
    "print(\"Subject-wise performance:\", subject_wise_performance(grades))\n",
    "print(\"Students failed in Science:\", students_failed_subject(grades, 'English'))\n",
    "print(\"Overall best performing student:\", overall_performance(grades))"
   ]
  },
  {
   "cell_type": "code",
   "execution_count": 11,
   "id": "45b71652",
   "metadata": {},
   "outputs": [
    {
     "name": "stdout",
     "output_type": "stream",
     "text": [
      "Alice's highest grade subject: English\n",
      "Bob's highest grade subject: Science\n",
      "Charlie's highest grade subject: History\n",
      "David's highest grade subject: History\n",
      "Eva's highest grade subject: Science\n"
     ]
    }
   ],
   "source": [
    "# Find the highest grade subject for each student\n",
    "# Find the highest grade subject for each student\n",
    "for student in students:\n",
    "    student_grades = grades[student]\n",
    "    subject = highest_grade_subject(student_grades)\n",
    "    print(f\"{student}'s highest grade subject: {subject}\")"
   ]
  },
  {
   "cell_type": "code",
   "execution_count": 6,
   "id": "d3790e64",
   "metadata": {},
   "outputs": [
    {
     "name": "stdout",
     "output_type": "stream",
     "text": [
      "Average Grade: 88.75\n",
      "Highest Grade Subject: English\n",
      "Passing Students: ['Alice', 'Bob', 'Charlie', 'David']\n",
      "Subject Wise Performance: {'Math': 80.6, 'Science': 80.4, 'English': 72.0, 'History': 82.2}\n",
      "Students Failed in English: ['Eva']\n",
      "Overall Performance: Alice\n"
     ]
    }
   ],
   "source": [
    "def average_grade(grades_list):\n",
    "    return sum(grades_list) / len(grades_list)\n",
    "\n",
    "def highest_grade_subject(grades_list):\n",
    "    max_grade = max(grades_list)\n",
    "    subject_index = grades_list.index(max_grade)\n",
    "    subjects = ['Math', 'Science', 'English', 'History']\n",
    "    return subjects[subject_index]\n",
    "\n",
    "def passing_students(grades_dict):\n",
    "    passed_students = []\n",
    "    for student, grades_list in grades_dict.items():\n",
    "        if all(grade >= 50 for grade in grades_list):\n",
    "            passed_students.append(student)\n",
    "    return passed_students\n",
    "\n",
    "def subject_wise_performance(grades_dict):\n",
    "    performance = {}\n",
    "    subjects = ['Math', 'Science', 'English', 'History']\n",
    "    for subject in subjects:\n",
    "        subject_grades = [grades_dict[student][subjects.index(subject)] for student in students]\n",
    "        performance[subject] = average_grade(subject_grades)\n",
    "    return performance\n",
    "\n",
    "def students_failed_subject(grades_dict, subject_name):\n",
    "    failed_students = []\n",
    "    subject_index = ['Math', 'Science', 'English', 'History'].index(subject_name)\n",
    "    for student, grades_list in grades_dict.items():\n",
    "        if grades_list[subject_index] < 50:\n",
    "            failed_students.append(student)\n",
    "    return failed_students\n",
    "\n",
    "def overall_performance(grades_dict):\n",
    "    average_grades = {student: average_grade(grades_list) for student, grades_list in grades_dict.items()}\n",
    "    best_student = max(average_grades, key=average_grades.get)\n",
    "    return best_student\n",
    "\n",
    "# Example usage:\n",
    "print(\"Average Grade:\", average_grade(grades['Alice']))\n",
    "print(\"Highest Grade Subject:\", highest_grade_subject(grades['Alice']))\n",
    "print(\"Passing Students:\", passing_students(grades))\n",
    "print(\"Subject Wise Performance:\", subject_wise_performance(grades))\n",
    "print(\"Students Failed in English:\", students_failed_subject(grades, 'English'))\n",
    "print(\"Overall Performance:\", overall_performance(grades))"
   ]
  },
  {
   "cell_type": "markdown",
   "id": "8d433570",
   "metadata": {},
   "source": [
    "The above code defines a function Role that takes an actor name as input and checks their role in a set of movies stored in a dictionary called movies. It then prints the movies the actor has acted as hero, heroine, and villain in.\n",
    "\n",
    "The function first initializes empty lists to store the movies in which the actor acted as hero, heroine, and villain. It then iterates over the movies in the movies dictionary using a for loop and checks if the input actor name is present in the list of actors for each movie.\n",
    "\n",
    "If the actor is present in the list of actors, it checks their position in the list using the index method. If the actor is the first element of the list, they are considered to have acted as the hero in that movie and the movie is added to the heroMovies list. If they are the last element, they are considered to have acted as the villain, and the movie is added to the villainMovies list. If they are neither the first nor the last element, they are considered to have acted as the heroine, and the movie is added to the heroineMovies list.\n",
    "\n",
    "Finally, the function checks if each of the three lists is non-empty and prints the movies in which the actor acted as hero, heroine, and villain, respectively.\n",
    "\n",
    "Overall, the Role function provides a simple way to determine the roles of an actor in a set of movies. However, it is limited to the movies listed in the movies dictionary and does not provide any additional information about the movies or actors."
   ]
  },
  {
   "cell_type": "code",
   "execution_count": null,
   "id": "a164602b",
   "metadata": {},
   "outputs": [
    {
     "name": "stdout",
     "output_type": "stream",
     "text": [
      "Movies of Sanjay Dutt: KGF2, Khalnayak, MunnaBhaiMBBS\n"
     ]
    }
   ],
   "source": [
    "def find_movies(actor_name):\n",
    "    movies = {\n",
    "        'Darr': ['sunny', 'juhi', 'sharukh'],\n",
    "        'Bahubali': ['prabhas', 'Anushka', 'Rana'],\n",
    "        'Baazigar': ['Ajay', 'Kajol', 'sharukh'],\n",
    "        'KGF2': ['Yash', 'srinidhi', 'Sanjay Dutt'],\n",
    "        'Khalnayak': ['Jackie', 'Madhuri', 'Sanjay Dutt'],\n",
    "        'DDLJ': ['Sharukh', 'kajol', 'amrish puri'],\n",
    "        'MunnaBhaiMBBS': ['Sanjay Dutt', 'Gracy Singh', 'Boman Irani']\n",
    "    }\n",
    "\n",
    "    movies_of_actor = []\n",
    "    \n",
    "    for movie, actors in movies.items():\n",
    "        if actor_name in actors:\n",
    "            movies_of_actor.append(movie)\n",
    "\n",
    "    if movies_of_actor:\n",
    "        print(f\"Movies of {actor_name}: {', '.join(movies_of_actor)}\")\n",
    "    else:\n",
    "        print(f\"{actor_name} has not acted in any of the listed movies.\")\n",
    "\n",
    "# Example usage:\n",
    "find_movies('Sanjay Dutt')"
   ]
  },
  {
   "cell_type": "code",
   "execution_count": null,
   "id": "5a94221f",
   "metadata": {},
   "outputs": [],
   "source": [
    "def Role(Name_of_actor):\n",
    "    movies = {\n",
    "        'Darr': ['sunny', 'juhi', 'sharukh'],\n",
    "        'Bahubali': ['prabhas', 'Anushka', 'Rana'],\n",
    "        'Baazigar': ['Ajay', 'Kajol', 'sharukh'],\n",
    "        'KGF2': ['Yash', 'srinidhi', 'Sanjay Dutt'],\n",
    "        'Khalnayak': ['Jackie', 'Madhuri', 'Sanjay Dutt'],\n",
    "        'DDLJ': ['Sharukh', 'kajol', 'amrish puri'],\n",
    "        'MunnaBhaiMBBS': ['Sanjay Dutt', 'Gracy Singh', 'Boman Irani']\n",
    "    }\n",
    "\n",
    "    Hero = []\n",
    "    Heroine = []\n",
    "    Villain = []\n",
    "\n",
    "    for movie, actors in movies.items():\n",
    "        if Name_of_actor in actors:\n",
    "            if actors.index(Name_of_actor) == 0:\n",
    "                Hero.append(movie)\n",
    "            elif actors.index(Name_of_actor) == len(actors) - 1:\n",
    "                Villain.append(movie)\n",
    "            else:\n",
    "                Heroine.append(movie)\n",
    "\n",
    "    if Hero:\n",
    "        print(Name_of_actor + \" acted as Hero in \" + \", \".join(Hero))\n",
    "    if Heroine:\n",
    "        print(Name_of_actor + \" acted as Heroine in \" + \", \".join(Heroine))\n",
    "    if Villain:\n",
    "        print(Name_of_actor + \" acted as Villain in \" + \", \".join(Villain))\n"
   ]
  },
  {
   "cell_type": "code",
   "execution_count": null,
   "id": "bfc6393c",
   "metadata": {},
   "outputs": [
    {
     "name": "stdout",
     "output_type": "stream",
     "text": [
      "Sanjay Dutt acted as Hero in MunnaBhaiMBBS\n",
      "Sanjay Dutt acted as Villain in KGF2, Khalnayak\n"
     ]
    }
   ],
   "source": [
    "Role('Sanjay Dutt')"
   ]
  }
 ],
 "metadata": {
  "kernelspec": {
   "display_name": "Python 3 (ipykernel)",
   "language": "python",
   "name": "python3"
  },
  "language_info": {
   "codemirror_mode": {
    "name": "ipython",
    "version": 3
   },
   "file_extension": ".py",
   "mimetype": "text/x-python",
   "name": "python",
   "nbconvert_exporter": "python",
   "pygments_lexer": "ipython3",
   "version": "3.11.3"
  }
 },
 "nbformat": 4,
 "nbformat_minor": 5
}
