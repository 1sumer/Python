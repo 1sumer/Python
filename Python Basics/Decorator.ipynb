{
 "cells": [
  {
   "cell_type": "markdown",
   "metadata": {},
   "source": [
    "## **Decorator**\n",
    "\n",
    "Decorators are a powerful and flexible feature in Python that allows you to modify or enhance the behavior of functions or methods without changing their actual code. A decorator is essentially a higher-order function, meaning it takes another function as an argument and extends its behavior.\n",
    "\n",
    "### **How Decorators work**\n",
    "\n",
    "Adecorator is a function that takes another function as an argument & extends its behavior without explicitly modififying it. The syntax of using decorators is the <code>@decorator_name</code> syntax placed above the function definition."
   ]
  },
  {
   "cell_type": "markdown",
   "metadata": {},
   "source": [
    "#### **1. Basic Concept of Decorators**\n",
    "\n",
    "A decorator is a function that wraps another function to add additional functionality. This is useful for logging, access control, caching, or any functionality that needs to be reused across multiple functions.\n",
    "\n",
    "#### **2. How Decorators Work**\n",
    "\n",
    "- Decorator Function (my_decorator): It takes a function func as an argument and returns another function, typically called wrapper, which will contain the additional behavior.\n",
    "- Wrapper Function: Inside the decorator, the wrapper function is defined. It calls the original function (func), while allowing you to add any logic before and after the call.\n",
    "- Applying the Decorator: Using the `@my_decorator` syntax is the same as doing `say_hello = my_decorator(say_hello)`.\n",
    "\n",
    "#### **3. Using `*args` and `**kwargs**`**\n",
    "To make the decorator work with functions that have any number of arguments, you can use `*args` and `**kwargs` to pass arbitrary positional and keyword arguments."
   ]
  },
  {
   "cell_type": "code",
   "execution_count": 35,
   "metadata": {},
   "outputs": [
    {
     "name": "stdout",
     "output_type": "stream",
     "text": [
      "Something is happening before the function is called.\n",
      "Hello!\n",
      "Something is happening after the function is called.\n"
     ]
    }
   ],
   "source": [
    "# Define a simple decorator\n",
    "def my_decorator(func):\n",
    "    def wrapper():\n",
    "        print(\"Something is happening before the function is called.\")\n",
    "        func()\n",
    "        print(\"Something is happening after the function is called.\")\n",
    "    return wrapper\n",
    "\n",
    "# Apply the decorator to a function\n",
    "@my_decorator\n",
    "def say_hello():\n",
    "    print(\"Hello!\")\n",
    "\n",
    "# Call the decorated function\n",
    "say_hello()"
   ]
  },
  {
   "cell_type": "markdown",
   "metadata": {},
   "source": [
    "##### **Method Decorators**\n",
    "Method decorators are similar to function decorators but they work with instance methods. Here's an example that logs method calls:"
   ]
  },
  {
   "cell_type": "code",
   "execution_count": 36,
   "metadata": {},
   "outputs": [
    {
     "name": "stdout",
     "output_type": "stream",
     "text": [
      "Before method execution.\n",
      "Hello from the class method!\n",
      "After method execution.\n"
     ]
    }
   ],
   "source": [
    "# Define a method decorator\n",
    "def my_method_decorator(func):\n",
    "    def wrapper(self):\n",
    "        print(\"Before method execution.\")\n",
    "        func(self)\n",
    "        print(\"After method execution.\")\n",
    "    return wrapper\n",
    "\n",
    "# Create a class and apply the decorator to a method\n",
    "class MyClass:\n",
    "    @my_method_decorator\n",
    "    def say_hello(self):\n",
    "        print(\"Hello from the class method!\")\n",
    "\n",
    "# Create an instance of the class and call the decorated method\n",
    "obj = MyClass()\n",
    "obj.say_hello()"
   ]
  },
  {
   "cell_type": "markdown",
   "metadata": {},
   "source": [
    "### **Decorator with Arguments**\n",
    "\n",
    "#### **1. `*args`: Non-Keyword (Positional) Arguments**\n",
    "- *args allows you to pass a variable number of positional arguments to a function.\n",
    "- Inside the function, *args will be treated as a tuple containing all the positional arguments."
   ]
  },
  {
   "cell_type": "code",
   "execution_count": 37,
   "metadata": {},
   "outputs": [
    {
     "name": "stdout",
     "output_type": "stream",
     "text": [
      "1\n",
      "2\n",
      "3\n",
      "4\n",
      "5\n"
     ]
    }
   ],
   "source": [
    "def my_function(*args):\n",
    "    for arg in args:\n",
    "        print(arg)\n",
    "\n",
    "my_function(1, 2, 3, 4, 5)"
   ]
  },
  {
   "cell_type": "code",
   "execution_count": 38,
   "metadata": {},
   "outputs": [
    {
     "name": "stdout",
     "output_type": "stream",
     "text": [
      "Hello, Alice!\n",
      "Hello, Bob!\n",
      "Hello, Charlie!\n"
     ]
    }
   ],
   "source": [
    "def greet(*names):\n",
    "    for name in names:\n",
    "        print(f\"Hello, {name}!\")\n",
    "\n",
    "greet(\"Alice\", \"Bob\", \"Charlie\")"
   ]
  },
  {
   "cell_type": "markdown",
   "metadata": {},
   "source": [
    "#### **2. `**kwargs`: Keyword Arguments**\n",
    "- `**kwargs` allows you to pass a variable number of keyword arguments to a function (i.e., arguments passed as key=value pairs).\n",
    "- Inside the function, `**kwargs` will be treated as a dictionary containing all the keyword arguments."
   ]
  },
  {
   "cell_type": "code",
   "execution_count": 39,
   "metadata": {},
   "outputs": [
    {
     "name": "stdout",
     "output_type": "stream",
     "text": [
      "name = sameer\n"
     ]
    }
   ],
   "source": [
    "def my_function(**kwargs):\n",
    "    for key, value in kwargs.items():\n",
    "        print(f\"{key} = {value}\")\n",
    "my_function(name='sameer')"
   ]
  },
  {
   "cell_type": "code",
   "execution_count": 40,
   "metadata": {},
   "outputs": [
    {
     "name": "stdout",
     "output_type": "stream",
     "text": [
      "name: Alice\n",
      "age: 30\n",
      "city: New York\n"
     ]
    }
   ],
   "source": [
    "def introduce(**info):\n",
    "    for key, value in info.items():\n",
    "        print(f\"{key}: {value}\")\n",
    "\n",
    "introduce(name=\"Alice\", age=30, city=\"New York\")"
   ]
  },
  {
   "cell_type": "code",
   "execution_count": 2,
   "metadata": {},
   "outputs": [
    {
     "name": "stdout",
     "output_type": "stream",
     "text": [
      "Something is happening before the function is called.\n",
      "Hello, ('Sameer', 'Pasha')!\n",
      "Something is happening after the function is called.\n"
     ]
    }
   ],
   "source": [
    "def greet(func):\n",
    "    def wrapper(*arge, **kwargs):\n",
    "        print(\"Something is happening before the function is called.\")\n",
    "        result = func(*arge, **kwargs)\n",
    "        print(\"Something is happening after the function is called.\")\n",
    "        return result\n",
    "    return wrapper\n",
    "\n",
    "@greet\n",
    "def say_hello(*name):\n",
    "    print(f\"Hello, {name}!\")\n",
    "\n",
    "say_hello('Sameer','Pasha')"
   ]
  },
  {
   "cell_type": "markdown",
   "metadata": {},
   "source": [
    "#### **Decorator with Return Values**"
   ]
  },
  {
   "cell_type": "code",
   "execution_count": 42,
   "metadata": {},
   "outputs": [
    {
     "name": "stdout",
     "output_type": "stream",
     "text": [
      "Something is happening before the function is called.\n",
      "Hello, (7, 8)!\n",
      "Something is happening after the function is called.\n"
     ]
    }
   ],
   "source": [
    "def Addition(s):\n",
    "    def sum(*arge, **kwargs):\n",
    "        print(\"Adding Two Number.\")\n",
    "        return s(*arge, **kwargs)\n",
    "    return sum\n",
    "\n",
    "@Addition\n",
    "def add(num):\n",
    "    return a + b\n",
    "\n",
    "say_hello(7,8)"
   ]
  },
  {
   "cell_type": "markdown",
   "metadata": {},
   "source": [
    "#### **Using Multiple Decorators**"
   ]
  },
  {
   "cell_type": "code",
   "execution_count": 43,
   "metadata": {},
   "outputs": [
    {
     "name": "stdout",
     "output_type": "stream",
     "text": [
      "Adding Two Number.\n",
      "3\n",
      "Subtracting Two Number.\n"
     ]
    },
    {
     "data": {
      "text/plain": [
       "2"
      ]
     },
     "execution_count": 43,
     "metadata": {},
     "output_type": "execute_result"
    }
   ],
   "source": [
    "def my_decorator1(func):\n",
    "    def wrapper(*arge, **kwargs):\n",
    "        print(\"Adding Two Number.\")\n",
    "        return func(*arge, **kwargs)\n",
    "    return wrapper\n",
    "\n",
    "def my_decorator2(func):\n",
    "    def wrapper(*arge, **kwargs):\n",
    "        print(\"Subtracting Two Number.\")\n",
    "        return func(*arge, **kwargs)\n",
    "    return wrapper\n",
    "\n",
    "@my_decorator1\n",
    "def add(a, b):\n",
    "    result = a + b\n",
    "    print(result)\n",
    "\n",
    "@my_decorator2\n",
    "def sub(a, b):\n",
    "    return a - b\n",
    "\n",
    "add(1, 2)\n",
    "sub(3, 1)"
   ]
  },
  {
   "cell_type": "markdown",
   "metadata": {},
   "source": [
    "#### **Class-Based Decorators**\n",
    "\n",
    "##### **Class Decorators**\n",
    "- Decorators can also be implemented as class by defining the `__call__` method, which makes the class instances callable.\n",
    "- Class decorators modify or extend classes. Here's an example that adds a new method to a class:"
   ]
  },
  {
   "cell_type": "code",
   "execution_count": 44,
   "metadata": {},
   "outputs": [
    {
     "name": "stdout",
     "output_type": "stream",
     "text": [
      "Before the function is called.\n",
      "Hello, Python!\n",
      "After the function is called.\n"
     ]
    }
   ],
   "source": [
    "class MyDecorator:\n",
    "    def __init__(self, function):\n",
    "        self.function = function\n",
    "\n",
    "    def __call__(self, *args, **kwargs):\n",
    "        print(\"Before the function is called.\")\n",
    "        self.function(*args, **kwargs)\n",
    "        print(\"After the function is called.\")\n",
    "\n",
    "@MyDecorator\n",
    "def say_hello(name):\n",
    "    print(f\"Hello, {name}!\")\n",
    "\n",
    "say_hello(\"Python\")\n"
   ]
  },
  {
   "cell_type": "markdown",
   "metadata": {},
   "source": [
    "##### **Preserving Function Metadata with functools.wraps**\n",
    "- Using functools.wraps helps to preserve the original function's metadata."
   ]
  },
  {
   "cell_type": "code",
   "execution_count": 45,
   "metadata": {},
   "outputs": [
    {
     "name": "stdout",
     "output_type": "stream",
     "text": [
      "my_function\n",
      "Original function\n"
     ]
    }
   ],
   "source": [
    "from functools import wraps\n",
    "\n",
    "def my_decorator(func):\n",
    "    @wraps(func)\n",
    "    def wrapper(*args, **kwargs):\n",
    "        \"\"\"Wrapper function\"\"\"\n",
    "        print(\"Calling decorated function\")\n",
    "        return func(*args, **kwargs)\n",
    "    return wrapper\n",
    "\n",
    "@my_decorator\n",
    "def my_function():\n",
    "    \"\"\"Original function\"\"\"\n",
    "    print(\"Hello from my_function\")\n",
    "\n",
    "print(my_function.__name__) \n",
    "print(my_function.__doc__)   "
   ]
  },
  {
   "cell_type": "markdown",
   "metadata": {},
   "source": [
    "#### **Practical Use Cases for Decorators**"
   ]
  },
  {
   "cell_type": "code",
   "execution_count": 4,
   "metadata": {},
   "outputs": [
    {
     "name": "stdout",
     "output_type": "stream",
     "text": [
      "Executing say_hello\n",
      "Hello!\n",
      "Finished say_hello\n"
     ]
    }
   ],
   "source": [
    "#Logging Decorator:\n",
    "from functools import wraps\n",
    "\n",
    "def log_execution(func):\n",
    "    @wraps(func)\n",
    "    def wrapper(*args, **kwargs):\n",
    "        print(f\"Executing {func.__name__}\")\n",
    "        result = func(*args, **kwargs)\n",
    "        print(f\"Finished {func.__name__}\")\n",
    "        return result\n",
    "    return wrapper\n",
    "\n",
    "@log_execution\n",
    "def say_hello():\n",
    "    print(\"Hello!\")\n",
    "\n",
    "say_hello()"
   ]
  },
  {
   "cell_type": "code",
   "execution_count": 5,
   "metadata": {},
   "outputs": [
    {
     "name": "stdout",
     "output_type": "stream",
     "text": [
      "9227465\n"
     ]
    }
   ],
   "source": [
    "#Memoization Decorator:\n",
    "def memoize(func):\n",
    "    cache = {}\n",
    "    @wraps(func)\n",
    "    def wrapper(*args):\n",
    "        if args not in cache:\n",
    "            cache[args] = func(*args)\n",
    "        return cache[args]\n",
    "    return wrapper\n",
    "\n",
    "@memoize\n",
    "def fibonacci(n):\n",
    "    if n in (0, 1):\n",
    "        return n\n",
    "    return fibonacci(n - 1) + fibonacci(n - 2)\n",
    "\n",
    "print(fibonacci(35))"
   ]
  },
  {
   "cell_type": "code",
   "execution_count": 6,
   "metadata": {},
   "outputs": [
    {
     "name": "stdout",
     "output_type": "stream",
     "text": [
      "Function complete\n",
      "slow_function executed in 2.0011398792266846 seconds\n"
     ]
    }
   ],
   "source": [
    "#Instrumentation Decorator:\n",
    "import time\n",
    "\n",
    "def time_execution(func):\n",
    "    @wraps(func)\n",
    "    def wrapper(*args, **kwargs):\n",
    "        start_time = time.time()\n",
    "        result = func(*args, **kwargs)\n",
    "        end_time = time.time()\n",
    "        print(f\"{func.__name__} executed in {end_time - start_time} seconds\")\n",
    "        return result\n",
    "    return wrapper\n",
    "\n",
    "@time_execution\n",
    "def slow_function():\n",
    "    time.sleep(2)\n",
    "    print(\"Function complete\")\n",
    "\n",
    "slow_function()"
   ]
  }
 ],
 "metadata": {
  "kernelspec": {
   "display_name": "Python 3",
   "language": "python",
   "name": "python3"
  },
  "language_info": {
   "codemirror_mode": {
    "name": "ipython",
    "version": 3
   },
   "file_extension": ".py",
   "mimetype": "text/x-python",
   "name": "python",
   "nbconvert_exporter": "python",
   "pygments_lexer": "ipython3",
   "version": "3.12.2"
  }
 },
 "nbformat": 4,
 "nbformat_minor": 2
}
