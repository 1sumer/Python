{
 "cells": [
  {
   "cell_type": "markdown",
   "id": "fab08727",
   "metadata": {
    "id": "fab08727"
   },
   "source": [
    "## **INTRODUCTION TO PYTHON**"
   ]
  },
  {
   "cell_type": "markdown",
   "id": "2aa847d8",
   "metadata": {
    "id": "2aa847d8"
   },
   "source": [
    "### Keywords\n",
    "\n",
    "A keyword is a reserved word that has a predefined meaning and cannot be used for anything other than its intended purpose. Keywords are fundamental parts of the programming language's syntax and are integral to how the language functions"
   ]
  },
  {
   "cell_type": "code",
   "execution_count": 1,
   "id": "0c5cade1",
   "metadata": {
    "id": "0c5cade1",
    "outputId": "cff324a8-219d-44f3-f840-1fb8f9ab0de8",
    "scrolled": true
   },
   "outputs": [
    {
     "name": "stdout",
     "output_type": "stream",
     "text": [
      "['False', 'None', 'True', 'and', 'as', 'assert', 'async', 'await', 'break', 'class', 'continue', 'def', 'del', 'elif', 'else', 'except', 'finally', 'for', 'from', 'global', 'if', 'import', 'in', 'is', 'lambda', 'nonlocal', 'not', 'or', 'pass', 'raise', 'return', 'try', 'while', 'with', 'yield']\n"
     ]
    }
   ],
   "source": [
    "import keyword\n",
    "print(keyword.kwlist)"
   ]
  },
  {
   "cell_type": "markdown",
   "id": "a69552f5",
   "metadata": {},
   "source": [
    "- False: Represents the boolean value for false.\n",
    "- None: Represents the null value.\n",
    "- True: Represents the boolean value for true.\n",
    "- and: A logical operator that returns True if both operands are true.\n",
    "- as: Used to create an alias.\n",
    "- assert: Used for debugging purposes; tests if a condition is true.\n",
    "- async: Declares an asynchronous function.\n",
    "- await: Used to wait for the result of an asynchronous function.\n",
    "- break: Exits the current loop prematurely.\n",
    "- class: Used to define a class.\n",
    "- continue: Skips the rest of the code inside a loop for the current iteration only.\n",
    "- def: Used to define a function.\n",
    "- del: Deletes objects.\n",
    "- elif: Else if condition.\n",
    "- else: Used in conditional statements to execute a block of code if the condition is false.\n",
    "- except: Catches exceptions in try-except blocks.\n",
    "- finally: Used in try-except blocks to execute code regardless of whether an exception occurred or not.\n",
    "- for: Used to create a for loop.\n",
    "- from: Used for importing specific parts of a module.\n",
    "- global: Declares a global variable.\n",
    "- if: Used to make a conditional statement.\n",
    "- import: Used to include a module.\n",
    "- in: Checks if a value is present in a sequence.\n",
    "- is: Tests for object identity.\n",
    "- lambda: Creates an anonymous function.\n",
    "- nonlocal: Declares a non-local variable.\n",
    "- not: A logical operator that inverts the value of a boolean.\n",
    "- or: A logical operator that returns True if at least one of the operands is true.\n",
    "- pass: A null statement; does nothing.\n",
    "- raise: Raises an exception.\n",
    "- return: Exits a function and returns a value.\n",
    "- try: Specifies exception handlers.\n",
    "- while: Creates a while loop.\n",
    "- with: Simplifies exception handling by encapsulating common preparation and cleanup tasks.\n",
    "- yield: Pauses the function saving all its states and later continues from there on successive calls. Used with generators."
   ]
  },
  {
   "cell_type": "code",
   "execution_count": 2,
   "id": "715a8c46",
   "metadata": {},
   "outputs": [
    {
     "data": {
      "text/plain": [
       "35"
      ]
     },
     "execution_count": 2,
     "metadata": {},
     "output_type": "execute_result"
    }
   ],
   "source": [
    "len(keyword.kwlist)"
   ]
  },
  {
   "cell_type": "markdown",
   "id": "a3bd32fc",
   "metadata": {
    "id": "a3bd32fc"
   },
   "source": [
    "### Identifiers\n",
    "\n",
    "An identifier is a name used in programming to identify variables, functions, classes, modules, or other entities in a program. Identifiers are created by the programmer to refer to these elements within the code.\n",
    "\n",
    "### Rules for writing Identifiers\n",
    "1. Identifiers must begin with a letter (a-z, A-Z) or an underscore (_).\n",
    "2. The rest of the identifier can contain letters, numbers, and underscores.\n",
    "3. Identifier shouldn’t start with number\n",
    "4. Shouldn’t start with Special Character (@, #, %, *, ~ ,&)\n",
    "5. Identifiers are case-sensitive, meaning myVar and myvar would be treated as different identifiers.\n",
    "6. Certain words, known as reserved words or keywords (e.g., if, else, while, class), cannot be used as identifiers.\n",
    "7. should not give the space in between the identifier\n"
   ]
  },
  {
   "cell_type": "code",
   "execution_count": 3,
   "id": "56b00959",
   "metadata": {},
   "outputs": [],
   "source": [
    "a_1=2"
   ]
  },
  {
   "cell_type": "code",
   "execution_count": 4,
   "id": "f9587cf4",
   "metadata": {
    "id": "f9587cf4",
    "outputId": "85e58897-84d0-4957-e0b2-2be946eda417"
   },
   "outputs": [],
   "source": [
    "#a = 1\n",
    "#a = 5\n",
    "_a2 = 10\n",
    "final = 7\n",
    "#True = 4\n",
    "\n",
    "#Invalid identifier\n",
    "#2a = 5 # identifier can not start with a number/digit\n",
    "true = 5 # identifier can not start with a number/digit\n"
   ]
  },
  {
   "cell_type": "code",
   "execution_count": 5,
   "id": "9121f188",
   "metadata": {},
   "outputs": [
    {
     "ename": "SyntaxError",
     "evalue": "invalid decimal literal (1330852181.py, line 8)",
     "output_type": "error",
     "traceback": [
      "\u001b[1;36m  Cell \u001b[1;32mIn[5], line 8\u001b[1;36m\u001b[0m\n\u001b[1;33m    123value = 123\u001b[0m\n\u001b[1;37m      ^\u001b[0m\n\u001b[1;31mSyntaxError\u001b[0m\u001b[1;31m:\u001b[0m invalid decimal literal\n"
     ]
    }
   ],
   "source": [
    "# Valid identifiers\n",
    "name = \"John\"\n",
    "age = 30\n",
    "_count = 100\n",
    "calculate_total = lambda x: x*1.1\n",
    "\n",
    "# Invalid identifiers\n",
    "123value = 123\n",
    "2nd_variable = \"second\"\n",
    " value = 25"
   ]
  },
  {
   "cell_type": "code",
   "execution_count": 6,
   "id": "a0212297",
   "metadata": {},
   "outputs": [
    {
     "ename": "SyntaxError",
     "evalue": "invalid decimal literal (172070472.py, line 10)",
     "output_type": "error",
     "traceback": [
      "\u001b[1;36m  Cell \u001b[1;32mIn[6], line 10\u001b[1;36m\u001b[0m\n\u001b[1;33m    def 123_function():\u001b[0m\n\u001b[1;37m           ^\u001b[0m\n\u001b[1;31mSyntaxError\u001b[0m\u001b[1;31m:\u001b[0m invalid decimal literal\n"
     ]
    }
   ],
   "source": [
    "# Function\n",
    "# Valid identifiers\n",
    "def print_message():\n",
    "    print(\"Hello, World!\")\n",
    "\n",
    "def add_numbers(x,y):\n",
    "    return x + y\n",
    "\n",
    "# Invalid identifiers\n",
    "def 123_function():\n",
    "    pass\n",
    "\n",
    "def 123 function():\n",
    "    pass"
   ]
  },
  {
   "cell_type": "code",
   "execution_count": 7,
   "id": "f3a246d4",
   "metadata": {},
   "outputs": [
    {
     "ename": "SyntaxError",
     "evalue": "invalid decimal literal (122334419.py, line 9)",
     "output_type": "error",
     "traceback": [
      "\u001b[1;36m  Cell \u001b[1;32mIn[7], line 9\u001b[1;36m\u001b[0m\n\u001b[1;33m    class 123Class:\u001b[0m\n\u001b[1;37m            ^\u001b[0m\n\u001b[1;31mSyntaxError\u001b[0m\u001b[1;31m:\u001b[0m invalid decimal literal\n"
     ]
    }
   ],
   "source": [
    "# Class\n",
    "# Valid identifiers\n",
    "class Car:\n",
    "    def __init__(self, make, model):\n",
    "        self.make = make  \n",
    "        self.model = model \n",
    "\n",
    "# Invalid identifiers\n",
    "class 123Class:\n",
    "    pass \n",
    "\n",
    "class class with space:\n",
    "    pass\n"
   ]
  },
  {
   "cell_type": "code",
   "execution_count": 8,
   "id": "3599d4ff",
   "metadata": {},
   "outputs": [],
   "source": [
    "# my_model.py\n",
    "def greet(name):\n",
    "    print(f\"Hello,{name}\")"
   ]
  },
  {
   "cell_type": "code",
   "execution_count": 9,
   "id": "496259ce",
   "metadata": {},
   "outputs": [
    {
     "ename": "SyntaxError",
     "evalue": "invalid decimal literal (2129934701.py, line 2)",
     "output_type": "error",
     "traceback": [
      "\u001b[1;36m  Cell \u001b[1;32mIn[9], line 2\u001b[1;36m\u001b[0m\n\u001b[1;33m    import 123_model\u001b[0m\n\u001b[1;37m              ^\u001b[0m\n\u001b[1;31mSyntaxError\u001b[0m\u001b[1;31m:\u001b[0m invalid decimal literal\n"
     ]
    }
   ],
   "source": [
    "# Invalid Module\n",
    "import 123_model\n",
    "\n",
    "import module with_space"
   ]
  },
  {
   "cell_type": "code",
   "execution_count": 2,
   "id": "8cb9636a",
   "metadata": {},
   "outputs": [
    {
     "name": "stdout",
     "output_type": "stream",
     "text": [
      "ID of x:  140735296719576\n"
     ]
    }
   ],
   "source": [
    "x = 10\n",
    "print(\"ID of x: \",id(x))"
   ]
  },
  {
   "cell_type": "code",
   "execution_count": 6,
   "id": "1c892f04",
   "metadata": {},
   "outputs": [
    {
     "name": "stdout",
     "output_type": "stream",
     "text": [
      "1982325250864\n"
     ]
    },
    {
     "data": {
      "text/plain": [
       "1982325250864"
      ]
     },
     "execution_count": 6,
     "metadata": {},
     "output_type": "execute_result"
    }
   ],
   "source": [
    "y = \"Swarrop\"\n",
    "id(y)\n",
    "x = y\n",
    "print(id(y))\n",
    "id(x)"
   ]
  },
  {
   "cell_type": "markdown",
   "id": "dd080ba9",
   "metadata": {
    "id": "dd080ba9"
   },
   "source": [
    "### Variables\n",
    "\n",
    "A variable is a storage location identified by a name that holds data which can be used and manipulated throughout a program. Variables act as containers for storing values, such as numbers, strings, or more complex data structures.\n",
    "\n",
    "**Naming Rules:**\n",
    "\n",
    "- Variable names should start with a letter (A-Z or a-z) or an underscore (_).\n",
    "- The rest of the name can include letters, digits (0-9), and underscores.\n",
    "- Variable names are usually case-sensitive, meaning Variable, variable, and VARIABLE would be considered different variables.\n",
    "\n",
    "**Types of Values:**\n",
    "\n",
    "- Variables can hold different types of data, including:\n",
    "- Integers: Whole numbers, e.g., 42\n",
    "- Floats: Decimal numbers, e.g., 3.14\n",
    "- Strings: Text, e.g., \"Hello\"\n",
    "- Booleans: True or false values, e.g., True\n",
    "- Lists: Ordered collections of items, e.g., [1, 2, 3]\n",
    "- Dictionaries: Key-value pairs, e.g., {\"name\": \"Alice\", \"age\": 25}"
   ]
  },
  {
   "cell_type": "code",
   "execution_count": 11,
   "id": "14a7d964",
   "metadata": {},
   "outputs": [],
   "source": [
    "# Variable Assignment\n",
    "x = 3.14\n",
    "name = \"John\"\n",
    "pi = 10\n",
    "is_student = True"
   ]
  },
  {
   "cell_type": "code",
   "execution_count": 8,
   "id": "7fd5eed5",
   "metadata": {},
   "outputs": [],
   "source": [
    "x = 10 # integer\n",
    "y = \"John\" # String\n",
    "z = 3.14 # float"
   ]
  },
  {
   "cell_type": "code",
   "execution_count": 9,
   "id": "ebbd90d1",
   "metadata": {},
   "outputs": [
    {
     "name": "stdout",
     "output_type": "stream",
     "text": [
      "<class 'int'>\n",
      "<class 'str'>\n",
      "<class 'float'>\n"
     ]
    }
   ],
   "source": [
    "# Check the type of a variable\n",
    "print(type(x))\n",
    "print(type(y))\n",
    "print(type(z))"
   ]
  },
  {
   "cell_type": "code",
   "execution_count": 14,
   "id": "f32d8a9f",
   "metadata": {},
   "outputs": [
    {
     "name": "stdout",
     "output_type": "stream",
     "text": [
      "5\n",
      "new value\n"
     ]
    }
   ],
   "source": [
    "x = 5\n",
    "print(x)\n",
    "\n",
    "y = \"new value\"\n",
    "print(y)"
   ]
  },
  {
   "cell_type": "code",
   "execution_count": 10,
   "id": "07795520",
   "metadata": {},
   "outputs": [
    {
     "name": "stdout",
     "output_type": "stream",
     "text": [
      "ID of : 140735296719576\n",
      "ID of : 1982325736752\n",
      "Storage size of :  28 bytes\n",
      "Storage size of :  54 bytes\n"
     ]
    }
   ],
   "source": [
    "import sys\n",
    "\n",
    "P = 10\n",
    "Q = \"Hello, World!\"\n",
    "S = [1,2,3,4,5]\n",
    "\n",
    "print(\"ID of :\", id(P)) # ID of the object\n",
    "print(\"ID of :\", id(Q)) # ID of the object\n",
    "print(\"Storage size of : \", sys.getsizeof(P), \"bytes\") # Size of the object\n",
    "print(\"Storage size of : \", sys.getsizeof(Q), \"bytes\") # Size of the object"
   ]
  },
  {
   "cell_type": "code",
   "execution_count": 11,
   "id": "4405f930",
   "metadata": {
    "id": "4405f930"
   },
   "outputs": [
    {
     "data": {
      "text/plain": [
       "True"
      ]
     },
     "execution_count": 11,
     "metadata": {},
     "output_type": "execute_result"
    }
   ],
   "source": [
    "#Value 5 and 6 are assigned to variables a and b respectively(= is an assignment operator)\n",
    "a = 5\n",
    "b = 5\n",
    "c =  (sys.getsizeof(b))\n",
    "a==b #(== has a different meaning, we will understand later)\n",
    "a is b"
   ]
  },
  {
   "cell_type": "code",
   "execution_count": 14,
   "id": "c784f469",
   "metadata": {
    "id": "c784f469",
    "outputId": "b35512ef-2d65-45d0-c592-e3d7c82bec9f"
   },
   "outputs": [
    {
     "name": "stdout",
     "output_type": "stream",
     "text": [
      "Ashu thosh\n"
     ]
    },
    {
     "data": {
      "text/plain": [
       "6"
      ]
     },
     "execution_count": 14,
     "metadata": {},
     "output_type": "execute_result"
    }
   ],
   "source": [
    "shashi = 3+3\n",
    "shashi1 = \"Ashu\"+ \" \"+ \"thosh\"\n",
    "print(shashi1)\n",
    "shashi"
   ]
  },
  {
   "cell_type": "code",
   "execution_count": 15,
   "id": "1313d881",
   "metadata": {
    "id": "1313d881",
    "outputId": "75c26561-9078-4c20-e6eb-6061a76ff4dd"
   },
   "outputs": [
    {
     "name": "stdout",
     "output_type": "stream",
     "text": [
      "5\n",
      "certisured\n",
      "10\n"
     ]
    },
    {
     "data": {
      "text/plain": [
       "(5, 'certisured', 10)"
      ]
     },
     "execution_count": 15,
     "metadata": {},
     "output_type": "execute_result"
    }
   ],
   "source": [
    "a,b,c = 5, 'certisured', 10\n",
    "#a=5\n",
    "#b = 'certisured'\n",
    "#c=10\n",
    "print(a)\n",
    "print(b)\n",
    "print(c)\n",
    "a, b, c"
   ]
  },
  {
   "cell_type": "code",
   "execution_count": 16,
   "id": "6e21f885",
   "metadata": {
    "id": "6e21f885",
    "outputId": "69a78260-579a-42f2-8c27-3082274dc5d4"
   },
   "outputs": [
    {
     "name": "stdout",
     "output_type": "stream",
     "text": [
      "5\n",
      "5\n"
     ]
    }
   ],
   "source": [
    "a=b=c=d=5\n",
    "print(a)\n",
    "print(b)"
   ]
  },
  {
   "cell_type": "markdown",
   "id": "656fc6cb",
   "metadata": {
    "id": "656fc6cb"
   },
   "source": [
    "### Input and Output\n",
    "\n",
    "**Input**\n",
    "- The input() function is commonly used to obtain user input from the console.\n",
    "- It takes a string argument (prompt) that is displayed to the user, waits for the user to enter some text, and then returns that text as a string.\n",
    "\n",
    "**Output**\n",
    "- The print() function is used to display output on the console.\n",
    "- It can take multiple arguments, and it prints them separated by spaces by default."
   ]
  },
  {
   "cell_type": "code",
   "execution_count": 42,
   "id": "e7a8c1b0",
   "metadata": {},
   "outputs": [
    {
     "name": "stdout",
     "output_type": "stream",
     "text": [
      "10\n"
     ]
    }
   ],
   "source": [
    "s = input(\"enter a number\" ) # input taked defult string\n",
    "print(s)"
   ]
  },
  {
   "cell_type": "code",
   "execution_count": 19,
   "id": "51331f23",
   "metadata": {
    "id": "51331f23",
    "outputId": "75bd4ff6-52b5-40aa-9ada-204c652d8ffb"
   },
   "outputs": [
    {
     "name": "stdout",
     "output_type": "stream",
     "text": [
      "10\n",
      "20\n",
      "30\n"
     ]
    }
   ],
   "source": [
    "a = int(input('Enter a number: '))\n",
    "b = int(input('Enter a number1: '))\n",
    "print(a)\n",
    "print(b)\n",
    "c = a + b\n",
    "print(c)"
   ]
  },
  {
   "cell_type": "code",
   "execution_count": 20,
   "id": "8edf24ad",
   "metadata": {},
   "outputs": [
    {
     "name": "stdout",
     "output_type": "stream",
     "text": [
      "30.2\n"
     ]
    }
   ],
   "source": [
    "a = float(input('Enter a number: '))\n",
    "b = float(input('Enter a number1: '))\n",
    "c = a + b\n",
    "print(c)"
   ]
  },
  {
   "cell_type": "code",
   "execution_count": 24,
   "id": "9bdd08e8",
   "metadata": {
    "id": "9bdd08e8",
    "outputId": "4d184b99-80a7-484e-beff-60f6db5353df"
   },
   "outputs": [
    {
     "name": "stdout",
     "output_type": "stream",
     "text": [
      "Prem kumar is a good guy\n",
      "8\n"
     ]
    }
   ],
   "source": [
    "a = 7\n",
    "b = 8\n",
    "print(\"Prem kumar is a good guy\")\n",
    "print(b)"
   ]
  },
  {
   "cell_type": "code",
   "execution_count": 25,
   "id": "1fdd7711",
   "metadata": {},
   "outputs": [
    {
     "name": "stdout",
     "output_type": "stream",
     "text": [
      "7\n"
     ]
    }
   ],
   "source": [
    "a, b =  b, a\n",
    "print(b)"
   ]
  },
  {
   "cell_type": "markdown",
   "id": "0eff6499",
   "metadata": {},
   "source": [
    "The print() function allows you to format output using the format() method or f-strings (formatted string literals) in Python 3.6 and later."
   ]
  },
  {
   "cell_type": "code",
   "execution_count": 27,
   "id": "22ea2fdc",
   "metadata": {
    "id": "22ea2fdc",
    "outputId": "56b8bc42-e953-4d7f-d15c-9a19e8555c59"
   },
   "outputs": [
    {
     "name": "stdout",
     "output_type": "stream",
     "text": [
      "a is 5 10 b is 6 c is 7\n",
      "a is 10 b is 6 c is 7\n",
      "a is 6, b is 5\n",
      "string formating:\n",
      "\n",
      "\n",
      "\n",
      "\n",
      "a is 10 b is 6 c is 7\n",
      "10\n"
     ]
    }
   ],
   "source": [
    "a= 10\n",
    "b=6\n",
    "c=7\n",
    "print ('a is 5', a,'b is',b, 'c is', c)\n",
    "print('a is {} b is {} c is {}'.format(a,b,c))\n",
    "print('a is {a}, b is {b}'.format(a=6, b=5))\n",
    "print(\"string formating:\\n\\n\")\n",
    "print(\"\\n\")\n",
    "print(f'a is {a} b is {b} c is {c}')\n",
    "print(a)"
   ]
  },
  {
   "cell_type": "code",
   "execution_count": 28,
   "id": "51cfe8f3",
   "metadata": {},
   "outputs": [
    {
     "name": "stdout",
     "output_type": "stream",
     "text": [
      "My Name is swaroop\n",
      "My Name is swaroop\n"
     ]
    }
   ],
   "source": [
    "name = input('Enter Your Name: ')\n",
    "\n",
    "print(f\"My Name is {name}\")\n",
    "print('My Name is {}'.format(name))"
   ]
  },
  {
   "cell_type": "code",
   "execution_count": 31,
   "id": "1977e5ee",
   "metadata": {},
   "outputs": [
    {
     "name": "stdout",
     "output_type": "stream",
     "text": [
      "sum of 104\n"
     ]
    }
   ],
   "source": [
    "a = int(input(\"enter a number: \"))\n",
    "b = int(input(\"enter a number: \"))\n",
    "sum = a + b\n",
    "print(f\"sum of {sum}\")"
   ]
  },
  {
   "cell_type": "code",
   "execution_count": null,
   "id": "ed1a07b8",
   "metadata": {
    "id": "ed1a07b8",
    "outputId": "39e36427-c8a6-44cf-d486-8d478862fc4e"
   },
   "outputs": [],
   "source": [
    "a = 5\n",
    "b = 5.0\n",
    "print('Memory location of a:',id(a))\n",
    "print('Memory location of b:',id(b))"
   ]
  },
  {
   "cell_type": "code",
   "execution_count": 36,
   "id": "757e720e",
   "metadata": {},
   "outputs": [
    {
     "name": "stdout",
     "output_type": "stream",
     "text": [
      "python intro\n",
      "1982333162544\n",
      "53\n"
     ]
    }
   ],
   "source": [
    "a = \"python\"\n",
    "d = \" \"\n",
    "b =  \"intro\"\n",
    "c = a + d + b\n",
    "print(c)\n",
    "print(id(c))\n",
    "print(sys.getsizeof(c))"
   ]
  },
  {
   "cell_type": "markdown",
   "id": "7dc21326",
   "metadata": {
    "id": "7dc21326"
   },
   "source": [
    "### Operators\n",
    "\n",
    "Operators are just special symbols like +, -, /, *, %....which are ussed to form mathematical or logical expresssions"
   ]
  },
  {
   "cell_type": "code",
   "execution_count": null,
   "id": "37382a77",
   "metadata": {
    "id": "37382a77",
    "outputId": "ae9b213d-c063-421e-bdd0-47c91ad921df"
   },
   "outputs": [],
   "source": [
    "a = 5\n",
    "b = 6\n",
    "c = a+b # a and b are operands and + is operator and is performing addition\n",
    "c"
   ]
  },
  {
   "cell_type": "markdown",
   "id": "dfe3093b",
   "metadata": {
    "id": "dfe3093b"
   },
   "source": [
    "#### 1. Arithmetic operators\n",
    "- '+' (Addition)\n",
    "- – (Subtraction)\n",
    "- '*' (Multiplication)\n",
    "- / (Division)\n",
    "- ** (Exponentiation)\n",
    "- // (Floor division) largest whole number\n",
    "- % (Modulus)\n",
    "\n",
    "![image.png](https://techvidvan.com/tutorials/wp-content/uploads/sites/2/2019/12/python-arithmetic-operators-1.jpg)"
   ]
  },
  {
   "cell_type": "code",
   "execution_count": 44,
   "id": "428f967b",
   "metadata": {},
   "outputs": [
    {
     "name": "stdout",
     "output_type": "stream",
     "text": [
      "11\n"
     ]
    }
   ],
   "source": [
    "num1=7\n",
    "num2=4\n",
    "num3 = num1+num2\n",
    "print(num3)"
   ]
  },
  {
   "cell_type": "code",
   "execution_count": 45,
   "id": "d56e6ee8",
   "metadata": {},
   "outputs": [
    {
     "data": {
      "text/plain": [
       "30"
      ]
     },
     "execution_count": 45,
     "metadata": {},
     "output_type": "execute_result"
    }
   ],
   "source": [
    "a = 10\n",
    "b = 20\n",
    "a+b"
   ]
  },
  {
   "cell_type": "code",
   "execution_count": 46,
   "id": "f29cb4df",
   "metadata": {},
   "outputs": [
    {
     "data": {
      "text/plain": [
       "-10"
      ]
     },
     "execution_count": 46,
     "metadata": {},
     "output_type": "execute_result"
    }
   ],
   "source": [
    "a = 10\n",
    "b = 20\n",
    "c = a-b\n",
    "c"
   ]
  },
  {
   "cell_type": "code",
   "execution_count": 47,
   "id": "aba1acde",
   "metadata": {},
   "outputs": [
    {
     "data": {
      "text/plain": [
       "200"
      ]
     },
     "execution_count": 47,
     "metadata": {},
     "output_type": "execute_result"
    }
   ],
   "source": [
    "a = 10\n",
    "b = 20\n",
    "a*b"
   ]
  },
  {
   "cell_type": "code",
   "execution_count": 13,
   "id": "68b57795",
   "metadata": {},
   "outputs": [
    {
     "data": {
      "text/plain": [
       "0.5"
      ]
     },
     "execution_count": 13,
     "metadata": {},
     "output_type": "execute_result"
    }
   ],
   "source": [
    "a = 10\n",
    "b = 20\n",
    "a/b"
   ]
  },
  {
   "cell_type": "code",
   "execution_count": 48,
   "id": "c4104324",
   "metadata": {},
   "outputs": [
    {
     "data": {
      "text/plain": [
       "5"
      ]
     },
     "execution_count": 48,
     "metadata": {},
     "output_type": "execute_result"
    }
   ],
   "source": [
    "a = 25\n",
    "b = 20\n",
    "a%b # remainder"
   ]
  },
  {
   "cell_type": "code",
   "execution_count": 16,
   "id": "350106c7",
   "metadata": {},
   "outputs": [
    {
     "data": {
      "text/plain": [
       "3"
      ]
     },
     "execution_count": 16,
     "metadata": {},
     "output_type": "execute_result"
    }
   ],
   "source": [
    "a = 16\n",
    "b = 5\n",
    "a//b #divisible by num"
   ]
  },
  {
   "cell_type": "code",
   "execution_count": 49,
   "id": "5fec2754",
   "metadata": {},
   "outputs": [
    {
     "data": {
      "text/plain": [
       "6"
      ]
     },
     "execution_count": 49,
     "metadata": {},
     "output_type": "execute_result"
    }
   ],
   "source": [
    "19//3"
   ]
  },
  {
   "cell_type": "code",
   "execution_count": 50,
   "id": "f1913003",
   "metadata": {},
   "outputs": [
    {
     "data": {
      "text/plain": [
       "125"
      ]
     },
     "execution_count": 50,
     "metadata": {},
     "output_type": "execute_result"
    }
   ],
   "source": [
    "a = 5\n",
    "b = 3\n",
    "a**b"
   ]
  },
  {
   "cell_type": "code",
   "execution_count": 51,
   "id": "f02994e7",
   "metadata": {},
   "outputs": [
    {
     "data": {
      "text/plain": [
       "8"
      ]
     },
     "execution_count": 51,
     "metadata": {},
     "output_type": "execute_result"
    }
   ],
   "source": [
    "2**3"
   ]
  },
  {
   "cell_type": "code",
   "execution_count": null,
   "id": "62d6b98f",
   "metadata": {},
   "outputs": [],
   "source": [
    "num1=7\n",
    "num2=4\n",
    "num1-num2"
   ]
  },
  {
   "cell_type": "code",
   "execution_count": 52,
   "id": "3a63badd",
   "metadata": {},
   "outputs": [
    {
     "data": {
      "text/plain": [
       "28"
      ]
     },
     "execution_count": 52,
     "metadata": {},
     "output_type": "execute_result"
    }
   ],
   "source": [
    "7*4"
   ]
  },
  {
   "cell_type": "code",
   "execution_count": 53,
   "id": "24d92819",
   "metadata": {},
   "outputs": [
    {
     "data": {
      "text/plain": [
       "1.75"
      ]
     },
     "execution_count": 53,
     "metadata": {},
     "output_type": "execute_result"
    }
   ],
   "source": [
    "7/4"
   ]
  },
  {
   "cell_type": "code",
   "execution_count": null,
   "id": "ec8e0c39",
   "metadata": {},
   "outputs": [],
   "source": [
    "7**2"
   ]
  },
  {
   "cell_type": "code",
   "execution_count": 54,
   "id": "955787f1",
   "metadata": {},
   "outputs": [
    {
     "data": {
      "text/plain": [
       "1"
      ]
     },
     "execution_count": 54,
     "metadata": {},
     "output_type": "execute_result"
    }
   ],
   "source": [
    "7//4"
   ]
  },
  {
   "cell_type": "code",
   "execution_count": 55,
   "id": "6ec01039",
   "metadata": {},
   "outputs": [
    {
     "data": {
      "text/plain": [
       "3"
      ]
     },
     "execution_count": 55,
     "metadata": {},
     "output_type": "execute_result"
    }
   ],
   "source": [
    "7%4"
   ]
  },
  {
   "cell_type": "markdown",
   "id": "6194a432",
   "metadata": {
    "id": "6194a432"
   },
   "source": [
    "#### 2. Comparison operators\n",
    "- '>' (Greater than)\n",
    "- < (Less than)\n",
    "- == (Equal to)\n",
    "- != (Not equal to)\n",
    "- '>=' (Greater than or equal to)\n",
    "- <= (Less than or equal to)\n",
    "\n",
    "![image.png](https://techvidvan.com/tutorials/wp-content/uploads/sites/2/2019/12/python-relational-operators-1.jpg)\n"
   ]
  },
  {
   "cell_type": "code",
   "execution_count": 20,
   "id": "c4db88c4",
   "metadata": {},
   "outputs": [
    {
     "data": {
      "text/plain": [
       "True"
      ]
     },
     "execution_count": 20,
     "metadata": {},
     "output_type": "execute_result"
    }
   ],
   "source": [
    "num1=7\n",
    "num2=4\n",
    "num1>num2"
   ]
  },
  {
   "cell_type": "code",
   "execution_count": 56,
   "id": "6774d205",
   "metadata": {},
   "outputs": [
    {
     "data": {
      "text/plain": [
       "True"
      ]
     },
     "execution_count": 56,
     "metadata": {},
     "output_type": "execute_result"
    }
   ],
   "source": [
    "7>4"
   ]
  },
  {
   "cell_type": "code",
   "execution_count": 57,
   "id": "2c6fcae5",
   "metadata": {},
   "outputs": [
    {
     "data": {
      "text/plain": [
       "False"
      ]
     },
     "execution_count": 57,
     "metadata": {},
     "output_type": "execute_result"
    }
   ],
   "source": [
    "num1=7\n",
    "num2=4\n",
    "num1<num2"
   ]
  },
  {
   "cell_type": "code",
   "execution_count": 23,
   "id": "46b800e2",
   "metadata": {},
   "outputs": [
    {
     "data": {
      "text/plain": [
       "False"
      ]
     },
     "execution_count": 23,
     "metadata": {},
     "output_type": "execute_result"
    }
   ],
   "source": [
    "num1=7\n",
    "num2=4\n",
    "\n",
    "num1==num2"
   ]
  },
  {
   "cell_type": "code",
   "execution_count": 58,
   "id": "fc8d7f12",
   "metadata": {},
   "outputs": [
    {
     "data": {
      "text/plain": [
       "True"
      ]
     },
     "execution_count": 58,
     "metadata": {},
     "output_type": "execute_result"
    }
   ],
   "source": [
    "4==4"
   ]
  },
  {
   "cell_type": "code",
   "execution_count": 59,
   "id": "3ff8d986",
   "metadata": {},
   "outputs": [
    {
     "data": {
      "text/plain": [
       "False"
      ]
     },
     "execution_count": 59,
     "metadata": {},
     "output_type": "execute_result"
    }
   ],
   "source": [
    "7==4"
   ]
  },
  {
   "cell_type": "code",
   "execution_count": 60,
   "id": "bae31a8f",
   "metadata": {},
   "outputs": [
    {
     "data": {
      "text/plain": [
       "True"
      ]
     },
     "execution_count": 60,
     "metadata": {},
     "output_type": "execute_result"
    }
   ],
   "source": [
    "num1=7\n",
    "num2=4\n",
    "num1!=num2"
   ]
  },
  {
   "cell_type": "code",
   "execution_count": 61,
   "id": "34dc8df8",
   "metadata": {},
   "outputs": [
    {
     "data": {
      "text/plain": [
       "True"
      ]
     },
     "execution_count": 61,
     "metadata": {},
     "output_type": "execute_result"
    }
   ],
   "source": [
    "7!=4"
   ]
  },
  {
   "cell_type": "code",
   "execution_count": 62,
   "id": "a25dc11f",
   "metadata": {},
   "outputs": [
    {
     "data": {
      "text/plain": [
       "True"
      ]
     },
     "execution_count": 62,
     "metadata": {},
     "output_type": "execute_result"
    }
   ],
   "source": [
    "num1=4\n",
    "num2=4\n",
    "num1>=num2"
   ]
  },
  {
   "cell_type": "code",
   "execution_count": 29,
   "id": "87017d9d",
   "metadata": {},
   "outputs": [
    {
     "data": {
      "text/plain": [
       "False"
      ]
     },
     "execution_count": 29,
     "metadata": {},
     "output_type": "execute_result"
    }
   ],
   "source": [
    "num1=7\n",
    "num2=4\n",
    "num1<=num2"
   ]
  },
  {
   "cell_type": "markdown",
   "id": "1ea91dfc",
   "metadata": {
    "id": "afcc4779"
   },
   "source": [
    "#### 3. Logical operators\n",
    "- and (Logical and)\n",
    "- or (Logical or)\n",
    "- not (Logical not)"
   ]
  },
  {
   "cell_type": "code",
   "execution_count": 63,
   "id": "67509e75",
   "metadata": {},
   "outputs": [
    {
     "data": {
      "text/plain": [
       "False"
      ]
     },
     "execution_count": 63,
     "metadata": {},
     "output_type": "execute_result"
    }
   ],
   "source": [
    "True and False"
   ]
  },
  {
   "cell_type": "code",
   "execution_count": 38,
   "id": "bb138a67",
   "metadata": {},
   "outputs": [
    {
     "data": {
      "text/plain": [
       "True"
      ]
     },
     "execution_count": 38,
     "metadata": {},
     "output_type": "execute_result"
    }
   ],
   "source": [
    "True and True"
   ]
  },
  {
   "cell_type": "code",
   "execution_count": 31,
   "id": "b7c711e0",
   "metadata": {},
   "outputs": [
    {
     "data": {
      "text/plain": [
       "True"
      ]
     },
     "execution_count": 31,
     "metadata": {},
     "output_type": "execute_result"
    }
   ],
   "source": [
    "True or False"
   ]
  },
  {
   "cell_type": "code",
   "execution_count": 64,
   "id": "8d6f12e4",
   "metadata": {},
   "outputs": [
    {
     "data": {
      "text/plain": [
       "False"
      ]
     },
     "execution_count": 64,
     "metadata": {},
     "output_type": "execute_result"
    }
   ],
   "source": [
    "a = 7 \n",
    "b = 5\n",
    "a>b and a<=b"
   ]
  },
  {
   "cell_type": "code",
   "execution_count": 65,
   "id": "9fd176df",
   "metadata": {},
   "outputs": [
    {
     "data": {
      "text/plain": [
       "True"
      ]
     },
     "execution_count": 65,
     "metadata": {},
     "output_type": "execute_result"
    }
   ],
   "source": [
    "a = 7 \n",
    "b = 5\n",
    "a>b or b>a"
   ]
  },
  {
   "cell_type": "code",
   "execution_count": 34,
   "id": "fb803128",
   "metadata": {},
   "outputs": [
    {
     "data": {
      "text/plain": [
       "False"
      ]
     },
     "execution_count": 34,
     "metadata": {},
     "output_type": "execute_result"
    }
   ],
   "source": [
    "not True"
   ]
  },
  {
   "cell_type": "code",
   "execution_count": 35,
   "id": "ba6305f9",
   "metadata": {},
   "outputs": [
    {
     "data": {
      "text/plain": [
       "True"
      ]
     },
     "execution_count": 35,
     "metadata": {},
     "output_type": "execute_result"
    }
   ],
   "source": [
    "a = []\n",
    "not a"
   ]
  },
  {
   "cell_type": "code",
   "execution_count": 36,
   "id": "20d2ea4a",
   "metadata": {},
   "outputs": [
    {
     "data": {
      "text/plain": [
       "False"
      ]
     },
     "execution_count": 36,
     "metadata": {},
     "output_type": "execute_result"
    }
   ],
   "source": [
    "a = [1,2,3,4]\n",
    "not a"
   ]
  },
  {
   "cell_type": "markdown",
   "id": "3bdbc0c8",
   "metadata": {
    "id": "3bdbc0c8"
   },
   "source": [
    "#### 4.Bitwise Operators\n",
    "- & (Bitwise and)\n",
    "- | (Bitwise or)\n",
    "- ^ (Bitwise xor)\n",
    "- ~ (Bitwise 1’s complement)\n",
    "- << (Bitwise left-shift)\n",
    "- '>>' (Bitwise right-shift)\n",
    "\n",
    "![image.png](https://techvidvan.com/tutorials/wp-content/uploads/sites/2/2019/12/Python-Bitwise-Operators.jpg)"
   ]
  },
  {
   "cell_type": "code",
   "execution_count": 66,
   "id": "d8b4fff7",
   "metadata": {},
   "outputs": [
    {
     "data": {
      "text/plain": [
       "8"
      ]
     },
     "execution_count": 66,
     "metadata": {},
     "output_type": "execute_result"
    }
   ],
   "source": [
    "45&10"
   ]
  },
  {
   "cell_type": "code",
   "execution_count": 67,
   "id": "37957ac0",
   "metadata": {},
   "outputs": [
    {
     "data": {
      "text/plain": [
       "47"
      ]
     },
     "execution_count": 67,
     "metadata": {},
     "output_type": "execute_result"
    }
   ],
   "source": [
    "45 | 10"
   ]
  },
  {
   "cell_type": "code",
   "execution_count": 68,
   "id": "292866b1",
   "metadata": {},
   "outputs": [
    {
     "data": {
      "text/plain": [
       "5"
      ]
     },
     "execution_count": 68,
     "metadata": {},
     "output_type": "execute_result"
    }
   ],
   "source": [
    "10^15"
   ]
  },
  {
   "cell_type": "code",
   "execution_count": 69,
   "id": "5678cbcd",
   "metadata": {},
   "outputs": [
    {
     "data": {
      "text/plain": [
       "-11"
      ]
     },
     "execution_count": 69,
     "metadata": {},
     "output_type": "execute_result"
    }
   ],
   "source": [
    "~10"
   ]
  },
  {
   "cell_type": "code",
   "execution_count": 43,
   "id": "7c0c5a0e",
   "metadata": {},
   "outputs": [
    {
     "data": {
      "text/plain": [
       "2"
      ]
     },
     "execution_count": 43,
     "metadata": {},
     "output_type": "execute_result"
    }
   ],
   "source": [
    "~-3\n"
   ]
  },
  {
   "cell_type": "code",
   "execution_count": 8,
   "id": "ce4e0936",
   "metadata": {},
   "outputs": [
    {
     "data": {
      "text/plain": [
       "20"
      ]
     },
     "execution_count": 8,
     "metadata": {},
     "output_type": "execute_result"
    }
   ],
   "source": [
    "10<<1"
   ]
  },
  {
   "cell_type": "code",
   "execution_count": 9,
   "id": "7c5ca274",
   "metadata": {},
   "outputs": [
    {
     "data": {
      "text/plain": [
       "40"
      ]
     },
     "execution_count": 9,
     "metadata": {},
     "output_type": "execute_result"
    }
   ],
   "source": [
    "10<<2"
   ]
  },
  {
   "cell_type": "code",
   "execution_count": 70,
   "id": "860f90bf",
   "metadata": {},
   "outputs": [
    {
     "data": {
      "text/plain": [
       "7"
      ]
     },
     "execution_count": 70,
     "metadata": {},
     "output_type": "execute_result"
    }
   ],
   "source": [
    "15>>1"
   ]
  },
  {
   "cell_type": "code",
   "execution_count": 72,
   "id": "a0f2a8d8",
   "metadata": {},
   "outputs": [
    {
     "data": {
      "text/plain": [
       "7"
      ]
     },
     "execution_count": 72,
     "metadata": {},
     "output_type": "execute_result"
    }
   ],
   "source": [
    "15>>1"
   ]
  },
  {
   "cell_type": "code",
   "execution_count": null,
   "id": "010f1b90",
   "metadata": {},
   "outputs": [],
   "source": [
    "4>>2"
   ]
  },
  {
   "cell_type": "markdown",
   "id": "9166831e",
   "metadata": {},
   "source": [
    "#### 5. Assingment Operator\n",
    "- = (Assign)\n",
    "- += (Add and assign)\n",
    "- -= (Subtract and assign)\n",
    "- *= (Multiply and assign)\n",
    "- /= (Divide and assign)\n",
    "- %= (Modulus and assign)\n",
    "- **= (Exponentiation and assign)\n",
    "- //= (Floor-divide and assign)\n",
    "\n",
    "![image.png](https://techvidvan.com/tutorials/wp-content/uploads/sites/2/2019/12/Python-Assignment-Operators.jpg)"
   ]
  },
  {
   "cell_type": "code",
   "execution_count": null,
   "id": "98321312",
   "metadata": {},
   "outputs": [],
   "source": [
    "num1=7\n",
    "print(num1)"
   ]
  },
  {
   "cell_type": "code",
   "execution_count": 51,
   "id": "f941bc46",
   "metadata": {},
   "outputs": [
    {
     "name": "stdout",
     "output_type": "stream",
     "text": [
      "11\n"
     ]
    }
   ],
   "source": [
    "num1=7\n",
    "num2=4\n",
    "num1+=num2\n",
    "print(num1)"
   ]
  },
  {
   "cell_type": "code",
   "execution_count": 52,
   "id": "67b039bc",
   "metadata": {},
   "outputs": [
    {
     "name": "stdout",
     "output_type": "stream",
     "text": [
      "-3\n"
     ]
    }
   ],
   "source": [
    "num1=7\n",
    "num2=4\n",
    "num2-=num1\n",
    "print(num2)"
   ]
  },
  {
   "cell_type": "code",
   "execution_count": 53,
   "id": "3f0defb3",
   "metadata": {},
   "outputs": [
    {
     "name": "stdout",
     "output_type": "stream",
     "text": [
      "28\n"
     ]
    }
   ],
   "source": [
    "num1=7\n",
    "num2=4\n",
    "num1*=num2\n",
    "print(num1)"
   ]
  },
  {
   "cell_type": "code",
   "execution_count": 55,
   "id": "4d1a8ea5",
   "metadata": {},
   "outputs": [
    {
     "name": "stdout",
     "output_type": "stream",
     "text": [
      "1.75\n",
      "4\n"
     ]
    }
   ],
   "source": [
    "num1=7\n",
    "num2=4\n",
    "num1/=num2\n",
    "print(num1)\n",
    "print(num2)"
   ]
  },
  {
   "cell_type": "code",
   "execution_count": 56,
   "id": "321443be",
   "metadata": {},
   "outputs": [
    {
     "name": "stdout",
     "output_type": "stream",
     "text": [
      "3\n"
     ]
    }
   ],
   "source": [
    "num1=7\n",
    "num2=4\n",
    "num1%=num2\n",
    "print(num1)"
   ]
  },
  {
   "cell_type": "code",
   "execution_count": 58,
   "id": "250706a3",
   "metadata": {},
   "outputs": [
    {
     "name": "stdout",
     "output_type": "stream",
     "text": [
      "2401\n"
     ]
    }
   ],
   "source": [
    "num1=7\n",
    "num2=4\n",
    "num1**=num2\n",
    "print(num1)"
   ]
  },
  {
   "cell_type": "code",
   "execution_count": 59,
   "id": "f7a1b7a3",
   "metadata": {},
   "outputs": [
    {
     "name": "stdout",
     "output_type": "stream",
     "text": [
      "1\n"
     ]
    }
   ],
   "source": [
    "num1=7\n",
    "num2=4\n",
    "num1//=num2\n",
    "print(num1)"
   ]
  },
  {
   "cell_type": "markdown",
   "id": "b6c84561",
   "metadata": {
    "id": "b6c84561"
   },
   "source": [
    "#### 6. Membership Operators\n",
    "Membership operators check whether a value is in another. Python has 2 membership operators:\n",
    "\n",
    "- in\n",
    "- not in"
   ]
  },
  {
   "cell_type": "code",
   "execution_count": 12,
   "id": "0a154fbe",
   "metadata": {},
   "outputs": [
    {
     "data": {
      "text/plain": [
       "True"
      ]
     },
     "execution_count": 12,
     "metadata": {},
     "output_type": "execute_result"
    }
   ],
   "source": [
    "4 not in [1, 2, 3]"
   ]
  },
  {
   "cell_type": "code",
   "execution_count": 13,
   "id": "da06c1e5",
   "metadata": {},
   "outputs": [
    {
     "data": {
      "text/plain": [
       "False"
      ]
     },
     "execution_count": 13,
     "metadata": {},
     "output_type": "execute_result"
    }
   ],
   "source": [
    "\"help\" in \"stupidity\""
   ]
  },
  {
   "cell_type": "code",
   "execution_count": 14,
   "id": "6521b554",
   "metadata": {},
   "outputs": [
    {
     "data": {
      "text/plain": [
       "True"
      ]
     },
     "execution_count": 14,
     "metadata": {},
     "output_type": "execute_result"
    }
   ],
   "source": [
    "2 in (1, 2, 3)"
   ]
  },
  {
   "cell_type": "code",
   "execution_count": 15,
   "id": "006aefd6",
   "metadata": {},
   "outputs": [
    {
     "data": {
      "text/plain": [
       "True"
      ]
     },
     "execution_count": 15,
     "metadata": {},
     "output_type": "execute_result"
    }
   ],
   "source": [
    "\"help\" not in \"stupidity\""
   ]
  },
  {
   "cell_type": "markdown",
   "id": "ff2ae18a",
   "metadata": {},
   "source": [
    "### 7. Identity operators \n",
    "\n",
    "check whether two values are identical. Python has 2 identity operators as well:\n",
    "- is\n",
    "- is not"
   ]
  },
  {
   "cell_type": "code",
   "execution_count": 1,
   "id": "71d69dbf",
   "metadata": {},
   "outputs": [
    {
     "name": "stderr",
     "output_type": "stream",
     "text": [
      "<>:1: SyntaxWarning: \"is\" with 'int' literal. Did you mean \"==\"?\n",
      "<>:1: SyntaxWarning: \"is\" with 'int' literal. Did you mean \"==\"?\n",
      "C:\\Users\\Admin\\AppData\\Local\\Temp\\ipykernel_1472\\700261715.py:1: SyntaxWarning: \"is\" with 'int' literal. Did you mean \"==\"?\n",
      "  2 is 2.0\n"
     ]
    },
    {
     "data": {
      "text/plain": [
       "False"
      ]
     },
     "execution_count": 1,
     "metadata": {},
     "output_type": "execute_result"
    }
   ],
   "source": [
    "2 is 2.0"
   ]
  },
  {
   "cell_type": "code",
   "execution_count": 2,
   "id": "2ab0f553",
   "metadata": {},
   "outputs": [
    {
     "name": "stderr",
     "output_type": "stream",
     "text": [
      "<>:1: SyntaxWarning: \"is\" with 'int' literal. Did you mean \"==\"?\n",
      "<>:1: SyntaxWarning: \"is\" with 'int' literal. Did you mean \"==\"?\n",
      "C:\\Users\\Admin\\AppData\\Local\\Temp\\ipykernel_1472\\564785565.py:1: SyntaxWarning: \"is\" with 'int' literal. Did you mean \"==\"?\n",
      "  2 is 2\n"
     ]
    },
    {
     "data": {
      "text/plain": [
       "True"
      ]
     },
     "execution_count": 2,
     "metadata": {},
     "output_type": "execute_result"
    }
   ],
   "source": [
    "2 is 2"
   ]
  },
  {
   "cell_type": "code",
   "execution_count": 14,
   "id": "d0129088",
   "metadata": {},
   "outputs": [
    {
     "name": "stdout",
     "output_type": "stream",
     "text": [
      "True\n",
      "False\n",
      "True\n",
      "1937161806272\n",
      "1937161805824\n"
     ]
    }
   ],
   "source": [
    "x=[\"apple\",\"banana\"]\n",
    "y=[\"apple\",\"banana\"]\n",
    "print(x==y)\n",
    "print(x is y)\n",
    "print(x is not y)\n",
    "print(id(x))\n",
    "print(id(y))"
   ]
  },
  {
   "cell_type": "code",
   "execution_count": 15,
   "id": "5af3d2c2",
   "metadata": {},
   "outputs": [
    {
     "name": "stdout",
     "output_type": "stream",
     "text": [
      "True\n",
      "1937161621504\n",
      "1937161621504\n",
      "1937161921280\n"
     ]
    }
   ],
   "source": [
    "x=[\"apple\",\"banana\"]\n",
    "y=[\"apple\",\"banana\"]\n",
    "z=x\n",
    "print(x is z)\n",
    "print(id(x))\n",
    "print(id(z))\n",
    "print(id(y))"
   ]
  },
  {
   "cell_type": "code",
   "execution_count": 3,
   "id": "7a0a3d43",
   "metadata": {},
   "outputs": [
    {
     "data": {
      "text/plain": [
       "True"
      ]
     },
     "execution_count": 3,
     "metadata": {},
     "output_type": "execute_result"
    }
   ],
   "source": [
    "a=8\n",
    "b=a\n",
    "a is b"
   ]
  },
  {
   "cell_type": "code",
   "execution_count": 17,
   "id": "49e8706f",
   "metadata": {},
   "outputs": [
    {
     "name": "stderr",
     "output_type": "stream",
     "text": [
      "<>:1: SyntaxWarning: \"is not\" with 'int' literal. Did you mean \"!=\"?\n",
      "<>:1: SyntaxWarning: \"is not\" with 'int' literal. Did you mean \"!=\"?\n",
      "C:\\Users\\Admin\\AppData\\Local\\Temp\\ipykernel_7120\\1166683470.py:1: SyntaxWarning: \"is not\" with 'int' literal. Did you mean \"!=\"?\n",
      "  0 is not False\n"
     ]
    },
    {
     "data": {
      "text/plain": [
       "True"
      ]
     },
     "execution_count": 17,
     "metadata": {},
     "output_type": "execute_result"
    }
   ],
   "source": [
    "0 is not False"
   ]
  }
 ],
 "metadata": {
  "colab": {
   "provenance": []
  },
  "kernelspec": {
   "display_name": "Python 3",
   "language": "python",
   "name": "python3"
  },
  "language_info": {
   "codemirror_mode": {
    "name": "ipython",
    "version": 3
   },
   "file_extension": ".py",
   "mimetype": "text/x-python",
   "name": "python",
   "nbconvert_exporter": "python",
   "pygments_lexer": "ipython3",
   "version": "3.12.2"
  }
 },
 "nbformat": 4,
 "nbformat_minor": 5
}
