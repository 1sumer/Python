{
 "cells": [
  {
   "cell_type": "markdown",
   "id": "fab08727",
   "metadata": {
    "id": "fab08727"
   },
   "source": [
    "## **INTRODUCTION TO PYTHON**"
   ]
  },
  {
   "cell_type": "markdown",
   "id": "2aa847d8",
   "metadata": {
    "id": "2aa847d8"
   },
   "source": [
    "### Keywords\n",
    "\n",
    "There are few words reserved in python which can not be used explicitly by a user. There are a total of 36 keywords reserved in python as such."
   ]
  },
  {
   "cell_type": "code",
   "execution_count": null,
   "id": "0c5cade1",
   "metadata": {
    "id": "0c5cade1",
    "outputId": "cff324a8-219d-44f3-f840-1fb8f9ab0de8",
    "scrolled": true
   },
   "outputs": [],
   "source": [
    "import keyword\n",
    "print(keyword.kwlist)"
   ]
  },
  {
   "cell_type": "code",
   "execution_count": null,
   "id": "715a8c46",
   "metadata": {},
   "outputs": [],
   "source": [
    "len(keyword.kwlist)"
   ]
  },
  {
   "cell_type": "markdown",
   "id": "a3bd32fc",
   "metadata": {
    "id": "a3bd32fc"
   },
   "source": [
    "### Identifiers\n",
    "\n",
    "Identifiers refer to the name given to class, object, functions variables..etc. It helps differentiating one entity from the other.\n",
    "\n",
    "\n",
    "### Rules for writing Identifiers\n",
    "1. Identifiers must begin with a letter (a-z, A-Z) or an underscore (_).\n",
    "2. The rest of the identifier can contain letters, numbers, and underscores.\n",
    "3. Identifier shouldn’t start with number\n",
    "4. Shouldn’t start with Special Character (@, #, %, *, ~ ,&)\n",
    "5. Identifiers are case-sensitive, meaning myVar and myvar would be treated as different identifiers.\n",
    "6. Certain words, known as reserved words or keywords (e.g., if, else, while, class), cannot be used as identifiers.\n"
   ]
  },
  {
   "cell_type": "code",
   "execution_count": null,
   "id": "56b00959",
   "metadata": {},
   "outputs": [],
   "source": [
    "a_1=2"
   ]
  },
  {
   "cell_type": "code",
   "execution_count": null,
   "id": "f9587cf4",
   "metadata": {
    "id": "f9587cf4",
    "outputId": "85e58897-84d0-4957-e0b2-2be946eda417"
   },
   "outputs": [],
   "source": [
    "#a = 1\n",
    "#a = 5\n",
    "_a2 = 10\n",
    "final = 7\n",
    "#True = 4\n",
    "\n",
    "#Invalid identifier\n",
    "#2a = 5 # identifier can not start with a number/digit\n",
    "true = 5 # identifier can not start with a number/digit\n"
   ]
  },
  {
   "cell_type": "code",
   "execution_count": null,
   "id": "9121f188",
   "metadata": {},
   "outputs": [],
   "source": [
    "# Valid identifiers\n",
    "name = \"John\"\n",
    "age = 30\n",
    "_count = 100\n",
    "calculate_total = lambda x: x*1.1\n",
    "\n",
    "# Invalid identifiers\n",
    "123value = 123\n",
    "2nd_variable = \"second\"\n",
    " value = 25"
   ]
  },
  {
   "cell_type": "code",
   "execution_count": null,
   "id": "a0212297",
   "metadata": {},
   "outputs": [],
   "source": [
    "# Valid identifiers\n",
    "def print_message():\n",
    "    print(\"Hello, World!\")\n",
    "\n",
    "def add_numbers(x,y):\n",
    "    return x + y\n",
    "\n",
    "# Invalid identifiers\n",
    "def 123_function():\n",
    "    pass\n",
    "\n",
    "def 123 function():\n",
    "    pass"
   ]
  },
  {
   "cell_type": "code",
   "execution_count": null,
   "id": "f3a246d4",
   "metadata": {},
   "outputs": [],
   "source": [
    "# Valid identifiers\n",
    "class Car:\n",
    "    def __init__(self, make, model):\n",
    "        self.make = make  \n",
    "        self.model = model \n",
    "\n",
    "# Invalid identifiers\n",
    "class 123Class:\n",
    "    pass \n",
    "\n",
    "class class with space:\n",
    "    pass\n"
   ]
  },
  {
   "cell_type": "code",
   "execution_count": null,
   "id": "3599d4ff",
   "metadata": {},
   "outputs": [],
   "source": [
    "# my_model.py\n",
    "def greet(name):\n",
    "    print(f\"Hello,{name}\")"
   ]
  },
  {
   "cell_type": "code",
   "execution_count": null,
   "id": "ff99ce71",
   "metadata": {},
   "outputs": [],
   "source": [
    "# Import the Module\n",
    "import Python_K_I_V_O\n",
    "\n",
    "# Using the Module's function\n",
    "Python_K_I_V_O.greet(\"Alice\")"
   ]
  },
  {
   "cell_type": "code",
   "execution_count": null,
   "id": "496259ce",
   "metadata": {},
   "outputs": [],
   "source": [
    "# Invalid Module\n",
    "import 123_model\n",
    "\n",
    "import module with_space"
   ]
  },
  {
   "cell_type": "code",
   "execution_count": null,
   "id": "8cb9636a",
   "metadata": {},
   "outputs": [],
   "source": [
    "x = 10\n",
    "print(\"ID of x: \",id(x))"
   ]
  },
  {
   "cell_type": "markdown",
   "id": "dd080ba9",
   "metadata": {
    "id": "dd080ba9"
   },
   "source": [
    "### Variables\n",
    "A variable is a memory location allocated to store data. Both variable and identifier are names allotted by user to some entity in program. But identifier is just to identify different entities in program while execution whereas variable is a memory space allotted.\n",
    "\n",
    "- All variables are a kind of identifiers but the vice versa can not be said\n",
    "- Rules for identifiers apply to the variables as well."
   ]
  },
  {
   "cell_type": "code",
   "execution_count": null,
   "id": "14a7d964",
   "metadata": {},
   "outputs": [],
   "source": [
    "# Variable Assignment\n",
    "x = 10\n",
    "name = \"John\"\n",
    "pi = 3.14\n",
    "is_student =True"
   ]
  },
  {
   "cell_type": "code",
   "execution_count": null,
   "id": "7fd5eed5",
   "metadata": {},
   "outputs": [],
   "source": [
    "x = 10 # integer\n",
    "y = \"John\" # String\n",
    "z = 3.14 # float"
   ]
  },
  {
   "cell_type": "code",
   "execution_count": null,
   "id": "ebbd90d1",
   "metadata": {},
   "outputs": [],
   "source": [
    "# Check the type of a variable\n",
    "print(type(x))\n",
    "print(type(y))\n",
    "print(type(z))"
   ]
  },
  {
   "cell_type": "code",
   "execution_count": null,
   "id": "f32d8a9f",
   "metadata": {},
   "outputs": [],
   "source": [
    "x = 5\n",
    "print(x)\n",
    "\n",
    "y = \"new value\"\n",
    "print(y)"
   ]
  },
  {
   "cell_type": "code",
   "execution_count": null,
   "id": "07795520",
   "metadata": {},
   "outputs": [],
   "source": [
    "import sys\n",
    "\n",
    "P = 10\n",
    "Q = \"Hello, World!\"\n",
    "S = [1,2,3,4,5]\n",
    "\n",
    "print(\"ID of x:\", id(x))\n",
    "print(\"Storage size of x: \", sys.getsizeof(x), \"bytes\")"
   ]
  },
  {
   "cell_type": "code",
   "execution_count": null,
   "id": "4405f930",
   "metadata": {
    "id": "4405f930"
   },
   "outputs": [],
   "source": [
    "#Value 5 and 6 are assigned to variables a and b respectively(= is an assignment operator)\n",
    "a = 5\n",
    "b = 'Certisured'\n",
    "c =  (sys.getsizeof(b))\n",
    "# a==b #(== has a different meaning, we will understand later)\n",
    "c"
   ]
  },
  {
   "cell_type": "code",
   "execution_count": null,
   "id": "c784f469",
   "metadata": {
    "id": "c784f469",
    "outputId": "b35512ef-2d65-45d0-c592-e3d7c82bec9f"
   },
   "outputs": [],
   "source": [
    "shashi = 3+3\n",
    "shashi1 = \"sa\"+\"meer\"\n",
    "shashi1"
   ]
  },
  {
   "cell_type": "code",
   "execution_count": null,
   "id": "1313d881",
   "metadata": {
    "id": "1313d881",
    "outputId": "75c26561-9078-4c20-e6eb-6061a76ff4dd"
   },
   "outputs": [],
   "source": [
    "a,b,c = 5, 'certisured', 10\n",
    "#a=5\n",
    "#b = 'certisured'\n",
    "#c=10\n",
    "print('a is ',a)\n",
    "print(b)\n",
    "print(c)"
   ]
  },
  {
   "cell_type": "code",
   "execution_count": null,
   "id": "6e21f885",
   "metadata": {
    "id": "6e21f885",
    "outputId": "69a78260-579a-42f2-8c27-3082274dc5d4"
   },
   "outputs": [],
   "source": [
    "a=b=c=d=5\n",
    "print(a)\n",
    "print(b)"
   ]
  },
  {
   "cell_type": "markdown",
   "id": "656fc6cb",
   "metadata": {
    "id": "656fc6cb"
   },
   "source": [
    "### Input and Output\n",
    "\n",
    "**Input**\n",
    "- The input() function is commonly used to obtain user input from the console.\n",
    "- It takes a string argument (prompt) that is displayed to the user, waits for the user to enter some text, and then returns that text as a string.\n",
    "\n",
    "**Output**\n",
    "- The print() function is used to display output on the console.\n",
    "- It can take multiple arguments, and it prints them separated by spaces by default.\n",
    "\n",
    "**File Input and Output:**\n",
    "\n",
    "- Python provides functions to read from and write to files. The open() function is used to open a file, and methods like read(), readline(), write(), and close() are used for reading from or writing to the file."
   ]
  },
  {
   "cell_type": "code",
   "execution_count": null,
   "id": "e7a8c1b0",
   "metadata": {},
   "outputs": [],
   "source": [
    "s = input(\"enter a number\" )\n",
    "s"
   ]
  },
  {
   "cell_type": "code",
   "execution_count": null,
   "id": "51331f23",
   "metadata": {
    "id": "51331f23",
    "outputId": "75bd4ff6-52b5-40aa-9ada-204c652d8ffb"
   },
   "outputs": [],
   "source": [
    "a = int(input('Enter a number: '))\n",
    "b = int(input('Enter a number: '))\n",
    "c = a + b\n",
    "print(c)\n",
    "#def add(a,b):\n",
    "#   return (a+b)"
   ]
  },
  {
   "cell_type": "code",
   "execution_count": null,
   "id": "8edf24ad",
   "metadata": {},
   "outputs": [],
   "source": [
    "a = float(input('Enter a number: '))\n",
    "b = float(input('Enter a number: '))\n",
    "c = a + b\n",
    "print(c)\n",
    "#def add(a,b):\n",
    "#   return (a+b)"
   ]
  },
  {
   "cell_type": "code",
   "execution_count": null,
   "id": "9bdd08e8",
   "metadata": {
    "id": "9bdd08e8",
    "outputId": "4d184b99-80a7-484e-beff-60f6db5353df"
   },
   "outputs": [],
   "source": [
    "a =5\n",
    "b=6\n",
    "print(\"Prem kumar is a good guy\")\n",
    "print(b)"
   ]
  },
  {
   "cell_type": "markdown",
   "id": "2ebfca80",
   "metadata": {},
   "source": [
    "File Input And Output"
   ]
  },
  {
   "cell_type": "code",
   "execution_count": null,
   "id": "ee49ff68",
   "metadata": {},
   "outputs": [],
   "source": [
    "with open(r'D:\\Python\\11.File_Handling\\file.txt', 'r') as file:\n",
    "    content = file.read()\n",
    "    print(content)"
   ]
  },
  {
   "cell_type": "code",
   "execution_count": null,
   "id": "919ad6c2",
   "metadata": {},
   "outputs": [],
   "source": [
    "with open(r'D:\\Python\\11.File_Handling\\file.txt', 'w') as file:\n",
    "    file.write('example.')"
   ]
  },
  {
   "cell_type": "markdown",
   "id": "0eff6499",
   "metadata": {},
   "source": [
    "The print() function allows you to format output using the format() method or f-strings (formatted string literals) in Python 3.6 and later."
   ]
  },
  {
   "cell_type": "code",
   "execution_count": null,
   "id": "22ea2fdc",
   "metadata": {
    "id": "22ea2fdc",
    "outputId": "56b8bc42-e953-4d7f-d15c-9a19e8555c59"
   },
   "outputs": [],
   "source": [
    "a=5\n",
    "b=6\n",
    "c=7\n",
    "print ('a is ', a,'b is',b, 'c is', c)\n",
    "print('a is {} b is {} c is {}'.format(a,b,c))\n",
    "print('a is {a}, b is {b}'.format(a=6, b=5))\n",
    "print(\"string formating:\\n\")\n",
    "print(a)"
   ]
  },
  {
   "cell_type": "code",
   "execution_count": null,
   "id": "ed1a07b8",
   "metadata": {
    "id": "ed1a07b8",
    "outputId": "39e36427-c8a6-44cf-d486-8d478862fc4e"
   },
   "outputs": [],
   "source": [
    "a = 5\n",
    "b = 5.0\n",
    "print('Memory location of a:',id(a))\n",
    "print('Memory location of b:',id(b))"
   ]
  },
  {
   "cell_type": "code",
   "execution_count": null,
   "id": "757e720e",
   "metadata": {},
   "outputs": [],
   "source": [
    "a = \"python\"\n",
    "b =  \"intro\"\n",
    "c = a + b\n",
    "id(c)"
   ]
  },
  {
   "cell_type": "code",
   "execution_count": null,
   "metadata": {},
   "outputs": [],
   "source": [
    "import sys\n",
    "\n",
    "d = sys.getsizeof(b)\n",
    "d"
   ]
  },
  {
   "cell_type": "markdown",
   "id": "7dc21326",
   "metadata": {
    "id": "7dc21326"
   },
   "source": [
    "### Operators\n",
    "\n",
    "Operators are just special symbols like +, -, /, *, %....which are ussed to form mathematical or logical expresssions"
   ]
  },
  {
   "cell_type": "code",
   "execution_count": null,
   "id": "37382a77",
   "metadata": {
    "id": "37382a77",
    "outputId": "ae9b213d-c063-421e-bdd0-47c91ad921df"
   },
   "outputs": [],
   "source": [
    "a = 5\n",
    "b = 6\n",
    "c = a+b # a and b are operands and + is operator and is performing addition\n",
    "c"
   ]
  },
  {
   "cell_type": "markdown",
   "id": "dfe3093b",
   "metadata": {
    "id": "dfe3093b"
   },
   "source": [
    "#### 1. Arithmetic operators\n",
    "- '+' (Addition)\n",
    "- – (Subtraction)\n",
    "- '*' (Multiplication)\n",
    "- / (Division)\n",
    "- ** (Exponentiation)\n",
    "- // (Floor division) largest whole number\n",
    "- % (Modulus)\n",
    "\n",
    "![image.png](https://techvidvan.com/tutorials/wp-content/uploads/sites/2/2019/12/python-arithmetic-operators-1.jpg)"
   ]
  },
  {
   "cell_type": "code",
   "execution_count": null,
   "id": "cb3f03f6",
   "metadata": {
    "id": "cb3f03f6"
   },
   "outputs": [],
   "source": [
    "#Let us practice arithmatic operators\n",
    "a=3\n",
    "b=6\n",
    "print('a is {} b is {}'.format(a,b))\n",
    "print('a is {a} b is {b}'.format(a=4,b=7))"
   ]
  },
  {
   "cell_type": "code",
   "execution_count": null,
   "id": "428f967b",
   "metadata": {},
   "outputs": [],
   "source": [
    "num1=7\n",
    "num2=4\n",
    "num1+num2"
   ]
  },
  {
   "cell_type": "code",
   "execution_count": null,
   "id": "d56e6ee8",
   "metadata": {},
   "outputs": [],
   "source": [
    "a = 10\n",
    "b = 20\n",
    "a+b"
   ]
  },
  {
   "cell_type": "code",
   "execution_count": null,
   "id": "f29cb4df",
   "metadata": {},
   "outputs": [],
   "source": [
    "a = 10\n",
    "b = 20\n",
    "a-b"
   ]
  },
  {
   "cell_type": "code",
   "execution_count": null,
   "id": "aba1acde",
   "metadata": {},
   "outputs": [],
   "source": [
    "a = 10\n",
    "b = 20\n",
    "a*b"
   ]
  },
  {
   "cell_type": "code",
   "execution_count": null,
   "id": "68b57795",
   "metadata": {},
   "outputs": [],
   "source": [
    "a = 10\n",
    "b = 20\n",
    "a/b"
   ]
  },
  {
   "cell_type": "code",
   "execution_count": null,
   "id": "c4104324",
   "metadata": {},
   "outputs": [],
   "source": [
    "a = 25\n",
    "b = 20\n",
    "a%b"
   ]
  },
  {
   "cell_type": "code",
   "execution_count": null,
   "id": "350106c7",
   "metadata": {},
   "outputs": [],
   "source": [
    "a = 16\n",
    "b = 5\n",
    "a//b"
   ]
  },
  {
   "cell_type": "code",
   "execution_count": null,
   "id": "f1913003",
   "metadata": {},
   "outputs": [],
   "source": [
    "a = 5\n",
    "b = 3\n",
    "a**b"
   ]
  },
  {
   "cell_type": "code",
   "execution_count": null,
   "id": "62d6b98f",
   "metadata": {},
   "outputs": [],
   "source": [
    "num1=7\n",
    "num2=4\n",
    "num1-num2"
   ]
  },
  {
   "cell_type": "code",
   "execution_count": null,
   "id": "3a63badd",
   "metadata": {},
   "outputs": [],
   "source": [
    "7*4"
   ]
  },
  {
   "cell_type": "code",
   "execution_count": null,
   "id": "24d92819",
   "metadata": {},
   "outputs": [],
   "source": [
    "7/4"
   ]
  },
  {
   "cell_type": "code",
   "execution_count": null,
   "id": "ec8e0c39",
   "metadata": {},
   "outputs": [],
   "source": [
    "7**2"
   ]
  },
  {
   "cell_type": "code",
   "execution_count": null,
   "id": "955787f1",
   "metadata": {},
   "outputs": [],
   "source": [
    "7//4"
   ]
  },
  {
   "cell_type": "code",
   "execution_count": null,
   "id": "6ec01039",
   "metadata": {},
   "outputs": [],
   "source": [
    "7%4"
   ]
  },
  {
   "cell_type": "markdown",
   "id": "6194a432",
   "metadata": {
    "id": "6194a432"
   },
   "source": [
    "#### 2. Comparison operators\n",
    "- '>' (Greater than)\n",
    "- < (Less than)\n",
    "- == (Equal to)\n",
    "- != (Not equal to)\n",
    "- '>=' (Greater than or equal to)\n",
    "- <= (Less than or equal to)\n",
    "\n",
    "![image.png](https://techvidvan.com/tutorials/wp-content/uploads/sites/2/2019/12/python-relational-operators-1.jpg)\n"
   ]
  },
  {
   "cell_type": "code",
   "execution_count": null,
   "id": "c4db88c4",
   "metadata": {},
   "outputs": [],
   "source": [
    "num1=7\n",
    "num2=4\n",
    "num1>num2"
   ]
  },
  {
   "cell_type": "code",
   "execution_count": null,
   "id": "6774d205",
   "metadata": {},
   "outputs": [],
   "source": [
    "7>4.1"
   ]
  },
  {
   "cell_type": "code",
   "execution_count": null,
   "id": "2c6fcae5",
   "metadata": {},
   "outputs": [],
   "source": [
    "num1=7\n",
    "num2=4\n",
    "num1<num2"
   ]
  },
  {
   "cell_type": "code",
   "execution_count": null,
   "id": "46b800e2",
   "metadata": {},
   "outputs": [],
   "source": [
    "num1=7\n",
    "num2=4\n",
    "\n",
    "num1==num2"
   ]
  },
  {
   "cell_type": "code",
   "execution_count": null,
   "id": "fc8d7f12",
   "metadata": {},
   "outputs": [],
   "source": [
    "4==4"
   ]
  },
  {
   "cell_type": "code",
   "execution_count": null,
   "id": "3ff8d986",
   "metadata": {},
   "outputs": [],
   "source": [
    "7==4"
   ]
  },
  {
   "cell_type": "code",
   "execution_count": null,
   "id": "bae31a8f",
   "metadata": {},
   "outputs": [],
   "source": [
    "num1=7\n",
    "num2=4\n",
    "num1!=num2"
   ]
  },
  {
   "cell_type": "code",
   "execution_count": null,
   "id": "34dc8df8",
   "metadata": {},
   "outputs": [],
   "source": [
    "7!=4"
   ]
  },
  {
   "cell_type": "code",
   "execution_count": null,
   "id": "a25dc11f",
   "metadata": {},
   "outputs": [],
   "source": [
    "num1=4\n",
    "num2=4\n",
    "num1>=num2"
   ]
  },
  {
   "cell_type": "code",
   "execution_count": null,
   "id": "87017d9d",
   "metadata": {},
   "outputs": [],
   "source": [
    "num1=7\n",
    "num2=4\n",
    "num1<=num2"
   ]
  },
  {
   "cell_type": "code",
   "execution_count": null,
   "id": "07ab712d",
   "metadata": {
    "id": "07ab712d"
   },
   "outputs": [],
   "source": [
    "#Let us practice compparison operators"
   ]
  },
  {
   "cell_type": "markdown",
   "id": "1ea91dfc",
   "metadata": {
    "id": "afcc4779"
   },
   "source": [
    "#### 3. Logical operators\n",
    "- and (Logical and)\n",
    "- or (Logical or)\n",
    "- not (Logical not)"
   ]
  },
  {
   "cell_type": "code",
   "execution_count": null,
   "id": "67509e75",
   "metadata": {},
   "outputs": [],
   "source": [
    "True and False"
   ]
  },
  {
   "cell_type": "code",
   "execution_count": null,
   "id": "1bcaf4a9",
   "metadata": {},
   "outputs": [],
   "source": [
    "3 and 4"
   ]
  },
  {
   "cell_type": "code",
   "execution_count": null,
   "id": "b7c711e0",
   "metadata": {},
   "outputs": [],
   "source": [
    "True or False"
   ]
  },
  {
   "cell_type": "code",
   "execution_count": null,
   "id": "8d6f12e4",
   "metadata": {},
   "outputs": [],
   "source": [
    "a = 7 \n",
    "b = 5\n",
    "a>b and a<=b"
   ]
  },
  {
   "cell_type": "code",
   "execution_count": null,
   "id": "9fd176df",
   "metadata": {},
   "outputs": [],
   "source": [
    "a = 7 \n",
    "b = 5\n",
    "not(a<b or b>a)"
   ]
  },
  {
   "cell_type": "code",
   "execution_count": null,
   "id": "fb803128",
   "metadata": {},
   "outputs": [],
   "source": [
    "not True"
   ]
  },
  {
   "cell_type": "code",
   "execution_count": null,
   "id": "ba6305f9",
   "metadata": {},
   "outputs": [],
   "source": [
    "a = []\n",
    "not a"
   ]
  },
  {
   "cell_type": "code",
   "execution_count": null,
   "id": "20d2ea4a",
   "metadata": {},
   "outputs": [],
   "source": [
    "a = [1,2,3,4]\n",
    "not a"
   ]
  },
  {
   "cell_type": "markdown",
   "id": "3bdbc0c8",
   "metadata": {
    "id": "3bdbc0c8"
   },
   "source": [
    "#### 4.Bitwise Operators\n",
    "- & (Bitwise and)\n",
    "- | (Bitwise or)\n",
    "- ^ (Bitwise xor)\n",
    "- ~ (Bitwise 1’s complement)\n",
    "- << (Bitwise left-shift)\n",
    "- '>>' (Bitwise right-shift)\n",
    "\n",
    "![image.png](https://techvidvan.com/tutorials/wp-content/uploads/sites/2/2019/12/Python-Bitwise-Operators.jpg)"
   ]
  },
  {
   "cell_type": "code",
   "execution_count": null,
   "id": "d8b4fff7",
   "metadata": {},
   "outputs": [],
   "source": [
    "10&5"
   ]
  },
  {
   "cell_type": "code",
   "execution_count": null,
   "id": "37957ac0",
   "metadata": {},
   "outputs": [],
   "source": [
    "3 | 4"
   ]
  },
  {
   "cell_type": "code",
   "execution_count": null,
   "id": "292866b1",
   "metadata": {},
   "outputs": [],
   "source": [
    "3^4"
   ]
  },
  {
   "cell_type": "code",
   "execution_count": null,
   "id": "5678cbcd",
   "metadata": {},
   "outputs": [],
   "source": [
    "~9"
   ]
  },
  {
   "cell_type": "code",
   "execution_count": null,
   "id": "7c0c5a0e",
   "metadata": {},
   "outputs": [],
   "source": [
    "~-3\n"
   ]
  },
  {
   "cell_type": "code",
   "execution_count": null,
   "id": "ce4e0936",
   "metadata": {},
   "outputs": [],
   "source": [
    "4<<2"
   ]
  },
  {
   "cell_type": "code",
   "execution_count": null,
   "id": "7c5ca274",
   "metadata": {},
   "outputs": [],
   "source": [
    "10<<1"
   ]
  },
  {
   "cell_type": "code",
   "execution_count": null,
   "id": "a0f2a8d8",
   "metadata": {},
   "outputs": [],
   "source": [
    "10>>1"
   ]
  },
  {
   "cell_type": "code",
   "execution_count": null,
   "id": "010f1b90",
   "metadata": {},
   "outputs": [],
   "source": [
    "4>>2"
   ]
  },
  {
   "cell_type": "markdown",
   "id": "9166831e",
   "metadata": {},
   "source": [
    "#### 5. Assingment Operator\n",
    "- = (Assign)\n",
    "- += (Add and assign)\n",
    "- -= (Subtract and assign)\n",
    "- *= (Multiply and assign)\n",
    "- /= (Divide and assign)\n",
    "- %= (Modulus and assign)\n",
    "- **= (Exponentiation and assign)\n",
    "- //= (Floor-divide and assign)\n",
    "\n",
    "![image.png](https://techvidvan.com/tutorials/wp-content/uploads/sites/2/2019/12/Python-Assignment-Operators.jpg)"
   ]
  },
  {
   "cell_type": "code",
   "execution_count": null,
   "id": "98321312",
   "metadata": {},
   "outputs": [],
   "source": [
    "num1=7\n",
    "print(num1)"
   ]
  },
  {
   "cell_type": "code",
   "execution_count": null,
   "id": "f941bc46",
   "metadata": {},
   "outputs": [],
   "source": [
    "num1=7\n",
    "num2=4\n",
    "num1+=num2\n",
    "print(num1)"
   ]
  },
  {
   "cell_type": "code",
   "execution_count": null,
   "id": "67b039bc",
   "metadata": {},
   "outputs": [],
   "source": [
    "num1=7\n",
    "num2=4\n",
    "num1-=num2\n",
    "print(num1)"
   ]
  },
  {
   "cell_type": "code",
   "execution_count": null,
   "id": "3f0defb3",
   "metadata": {},
   "outputs": [],
   "source": [
    "num1=7\n",
    "num2=4\n",
    "num1*=num2\n",
    "print(num1)"
   ]
  },
  {
   "cell_type": "code",
   "execution_count": null,
   "id": "4d1a8ea5",
   "metadata": {},
   "outputs": [],
   "source": [
    "num1=7\n",
    "num2=4\n",
    "num1/=num2\n",
    "print(num1)"
   ]
  },
  {
   "cell_type": "code",
   "execution_count": null,
   "id": "321443be",
   "metadata": {},
   "outputs": [],
   "source": [
    "num1=7\n",
    "num2=4\n",
    "num1%=num2\n",
    "print(num1)"
   ]
  },
  {
   "cell_type": "code",
   "execution_count": null,
   "id": "250706a3",
   "metadata": {},
   "outputs": [],
   "source": [
    "num1=7\n",
    "num2=4\n",
    "num1**=num2\n",
    "print(num1)"
   ]
  },
  {
   "cell_type": "code",
   "execution_count": null,
   "id": "f7a1b7a3",
   "metadata": {},
   "outputs": [],
   "source": [
    "num1=7\n",
    "num2=4\n",
    "num1//=num2\n",
    "print(num1)"
   ]
  },
  {
   "cell_type": "markdown",
   "id": "b6c84561",
   "metadata": {
    "id": "b6c84561"
   },
   "source": [
    "#### 6. Membership Operators\n",
    "Membership operators check whether a value is in another. Python has 2 membership operators:\n",
    "\n",
    "- in\n",
    "- not in"
   ]
  },
  {
   "cell_type": "code",
   "execution_count": null,
   "id": "0a154fbe",
   "metadata": {},
   "outputs": [],
   "source": [
    "4 not in [1, 2, 3]"
   ]
  },
  {
   "cell_type": "code",
   "execution_count": null,
   "id": "da06c1e5",
   "metadata": {},
   "outputs": [],
   "source": [
    "\"help\" in \"stupidity\""
   ]
  },
  {
   "cell_type": "code",
   "execution_count": null,
   "id": "6521b554",
   "metadata": {},
   "outputs": [],
   "source": [
    "2 in (1, 2, 3)"
   ]
  },
  {
   "cell_type": "code",
   "execution_count": null,
   "id": "006aefd6",
   "metadata": {},
   "outputs": [],
   "source": [
    "\"help\" not in \"stupidity\""
   ]
  },
  {
   "cell_type": "markdown",
   "id": "ff2ae18a",
   "metadata": {},
   "source": [
    "Identity operators check whether two values are identical. Python has 2 identity operators as well:\n",
    "- is\n",
    "- is not"
   ]
  },
  {
   "cell_type": "code",
   "execution_count": null,
   "id": "71d69dbf",
   "metadata": {},
   "outputs": [],
   "source": [
    "2 is 2.0"
   ]
  },
  {
   "cell_type": "code",
   "execution_count": null,
   "id": "d0129088",
   "metadata": {},
   "outputs": [],
   "source": [
    "x=[\"apple\",\"banana\"]\n",
    "y=[\"apple\",\"banana\"]\n",
    "print(x==y)\n",
    "print(x is y)\n",
    "print(x is not y)\n",
    "print(id(x))\n",
    "print(id(y))"
   ]
  },
  {
   "cell_type": "code",
   "execution_count": null,
   "id": "5af3d2c2",
   "metadata": {},
   "outputs": [],
   "source": [
    "x=[\"apple\",\"banana\"]\n",
    "y=[\"apple\",\"banana\"]\n",
    "z=x\n",
    "print(x is z)\n",
    "print(id(x))\n",
    "print(id(z))\n",
    "print(id(y))"
   ]
  },
  {
   "cell_type": "code",
   "execution_count": null,
   "id": "7a0a3d43",
   "metadata": {},
   "outputs": [],
   "source": [
    "a=8\n",
    "b=a\n",
    "a is b"
   ]
  },
  {
   "cell_type": "code",
   "execution_count": null,
   "id": "49e8706f",
   "metadata": {},
   "outputs": [],
   "source": [
    "0 is not False"
   ]
  }
 ],
 "metadata": {
  "colab": {
   "provenance": []
  },
  "kernelspec": {
   "display_name": "base",
   "language": "python",
   "name": "python3"
  },
  "language_info": {
   "codemirror_mode": {
    "name": "ipython",
    "version": 3
   },
   "file_extension": ".py",
   "mimetype": "text/x-python",
   "name": "python",
   "nbconvert_exporter": "python",
   "pygments_lexer": "ipython3",
   "version": "3.11.3"
  },
  "vscode": {
   "interpreter": {
    "hash": "37d99e6d4983f94fd607d31c1d056b3b7a9bea88684ae051e8fd79233b8b8e0c"
   }
  }
 },
 "nbformat": 4,
 "nbformat_minor": 5
}
