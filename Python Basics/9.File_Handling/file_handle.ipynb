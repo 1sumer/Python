{
 "cells": [
  {
   "cell_type": "markdown",
   "metadata": {},
   "source": [
    "## File Handling"
   ]
  },
  {
   "cell_type": "markdown",
   "metadata": {},
   "source": [
    "**Types Of Files In Python:**\n",
    "\n",
    "There are two types of files in python, there are:\n",
    "\n",
    "-----> Text files\n",
    "\n",
    "-----> Binary files"
   ]
  },
  {
   "cell_type": "markdown",
   "metadata": {},
   "source": [
    "**Opening a File:**\n",
    "We should use open() function to open a file. This function accepts 'filename' and 'open mode' in which to open the file.\n",
    "\n",
    "file handler = open('file name', 'open mode')"
   ]
  },
  {
   "cell_type": "markdown",
   "metadata": {},
   "source": [
    " -----> w\tTo wirte data into file. If any data is already present in the file,it would be deleted and the present data will be stored.\n",
    "\n",
    " -----> r   To read data from the file. The file pointer is positioned at the beginning of the file.\n",
    "\n",
    " -----> a   To append data to the file. Appending means adding at the end of existing data.The filepointer is placed at the end of the file.if the  file does not exist, it will create a new file for writing data.\n",
    "\n",
    " -----> a+  To append and read data of a file.The file pointer will be at the end of the file if the file exists. If the file does not exist, it creates a new file for reading and writing."
   ]
  },
  {
   "cell_type": "markdown",
   "metadata": {},
   "source": [
    "**Opening a file open():**\n",
    "----------------------\n",
    "When the open() function is used to open a file, it returns a pointer to the beginning of the file. This is called 'file handler' or 'file object'.\n",
    "\n",
    "- Here 'f' represents the file handler or file object. It refers to the file with the name 'myfile.txt' that is opendedin 'w' mode. This means, we can write data into the file but we can not read data from this file. If this file exists already,then its contents are deleted and the present data is stored into the file."
   ]
  },
  {
   "cell_type": "markdown",
   "metadata": {},
   "source": [
    "**Closing a file close():**\n",
    "-----------------------\n",
    "A file which is opened should be closed using the close() method. Once a file is opened but not closed, then the data of the file may be corrupted or deleted in some cases. Also, if the file is not closed, the memory utilized by the file is not freed, leading to problems like insufficient memory. This happens when we are working with serval files simultaneously. Hence it is mandatory to close the file.\n",
    "\n",
    "f.close()"
   ]
  },
  {
   "cell_type": "code",
   "execution_count": 4,
   "metadata": {},
   "outputs": [],
   "source": [
    "f=open(r'D:\\Python\\11.File_Handling\\myfile.txt','w')\n",
    "str=input('Enter text: ')\n",
    "f.write(str)\n",
    "\n",
    "f.close()"
   ]
  },
  {
   "cell_type": "code",
   "execution_count": 5,
   "metadata": {},
   "outputs": [],
   "source": [
    "f=open(r'D:\\Python\\11.File_Handling\\myfile.txt','a')\n",
    "str=input(\"Enter text: \")\n",
    "# Enter text: Python is easy to learn compare to JAVA.\n",
    "f.write(str)\n",
    "\n",
    "f.close()"
   ]
  },
  {
   "cell_type": "code",
   "execution_count": 6,
   "metadata": {},
   "outputs": [
    {
     "name": "stdout",
     "output_type": "stream",
     "text": [
      "hi venuhi sheryas\n"
     ]
    }
   ],
   "source": [
    "fvar = open(r'D:\\Python\\11.File_Handling\\myfile.txt','r')\n",
    "res=fvar.read()\n",
    "fvar.close()\n",
    "print(res)"
   ]
  },
  {
   "cell_type": "markdown",
   "metadata": {},
   "source": [
    "    - There is another method by the name readlines() that reads all the lines into a list.This can be used as:"
   ]
  },
  {
   "cell_type": "code",
   "execution_count": 6,
   "metadata": {},
   "outputs": [
    {
     "name": "stdout",
     "output_type": "stream",
     "text": [
      "['Sameer PashaPython is easy to learn compare to JAVA.']\n"
     ]
    }
   ],
   "source": [
    "f=open(r'D:\\Python\\File_Handling\\myfile.txt','r')\n",
    "str=f.readlines()\n",
    "print(str)\n",
    "f.close()"
   ]
  },
  {
   "cell_type": "markdown",
   "metadata": {},
   "source": [
    "    - This method displays all the strings as elements in a list. The \"\\n\" character is visible at the end of each string.\n",
    "\t\n",
    "\t- If we want to suppress the \"\\n\" characters, then we can use read() method with splitlines() method as:"
   ]
  },
  {
   "cell_type": "code",
   "execution_count": 13,
   "metadata": {},
   "outputs": [
    {
     "name": "stdout",
     "output_type": "stream",
     "text": [
      "['Sameer PashaPython is easy to learn compare to JAVA.']\n"
     ]
    }
   ],
   "source": [
    "f=open(r'D:\\Python\\File_Handling\\myfile.txt','r')\n",
    "str=f.read().splitlines()\n",
    "print(str)\n",
    "f.close()"
   ]
  },
  {
   "cell_type": "code",
   "execution_count": 3,
   "metadata": {},
   "outputs": [
    {
     "name": "stdout",
     "output_type": "stream",
     "text": [
      "['HelloHiHow', 'ru']\n"
     ]
    }
   ],
   "source": [
    "# Python code to illustrate split() function\n",
    "with open(r\"D:\\Python\\11.File_Handling\\test.txt\", \"r\") as file:\n",
    "\tdata = file.readlines()\n",
    "\tfor line in data:\n",
    "\t\tword = line.split()\n",
    "\t\tprint (word)\n"
   ]
  },
  {
   "cell_type": "markdown",
   "metadata": {},
   "source": [
    "Using writelines() Function\n",
    "\n",
    "Write a python program to write multiple lines of text into a file:"
   ]
  },
  {
   "cell_type": "code",
   "execution_count": 15,
   "metadata": {},
   "outputs": [],
   "source": [
    "def writelines():\n",
    "    file_path = r'D:\\Python\\File_Handling\\test.txt'\n",
    "    \n",
    "    with open(file_path, 'w') as f:\n",
    "        while True:\n",
    "            line = input('Enter a line: ')\n",
    "            f.write(line + '\\n')  # Add a newline character after each line\n",
    "            more_lines = input('Are there more lines? Enter Y for yes and N for No: ')\n",
    "            if more_lines.upper() != 'Y':\n",
    "                break\n",
    "        f.close()\n",
    "# Example usage\n",
    "writelines()\n"
   ]
  },
  {
   "cell_type": "code",
   "execution_count": 25,
   "metadata": {},
   "outputs": [
    {
     "name": "stdout",
     "output_type": "stream",
     "text": [
      "File content:\n",
      "HelloHiHow ru\n"
     ]
    }
   ],
   "source": [
    "def read():\n",
    "    file_path = r'D:\\Python\\File_Handling\\test.txt'\n",
    "    \n",
    "    try:\n",
    "        with open(file_path, 'r') as f:\n",
    "            lines = f.readlines()\n",
    "            if not lines:\n",
    "                print(\"The file is empty.\")\n",
    "            else:\n",
    "                print(\"File content:\")\n",
    "                for line in lines:\n",
    "                    print(line.strip())  # strip() removes leading and trailing whitespaces\n",
    "    except FileNotFoundError:\n",
    "        print(f\"File not found at path: {file_path}\")\n",
    "    except Exception as e:\n",
    "        print(f\"An error occurred: {e}\")\n",
    "\n",
    "# Example usage\n",
    "read()\n"
   ]
  },
  {
   "cell_type": "code",
   "execution_count": 18,
   "metadata": {},
   "outputs": [],
   "source": [
    "with open('file.txt', 'a') as file:\n",
    "   l1 = \"Welcome to TutorialsPoint\\n\"\n",
    "   l2 = \"Write multiple lines \\n\"\n",
    "   l3 = \"Done successfully\\n\"\n",
    "   l4 = \"Thank You!\"\n",
    "   file.writelines([l1, l2, l3, l4])\n",
    "   file.close()"
   ]
  },
  {
   "cell_type": "code",
   "execution_count": 19,
   "metadata": {},
   "outputs": [],
   "source": [
    "fvar = open(r'D:\\Python\\File_Handling\\test.txt','w')\n",
    "list1=[\"Hello\",\"Hi\",\"How ru\"]\n",
    "fvar.writelines(list1)\n",
    "fvar.close()"
   ]
  },
  {
   "cell_type": "markdown",
   "metadata": {},
   "source": [
    "Appending data to the file and then to display the data.For this purpose, we should open the file in 'append and read' mode as:\n",
    "\n",
    "In case, we want to move the file pointer to another position, we can use the seek() method.This method takes two arguments.\n",
    "\n",
    "Here, 'offset' represents how many bytes to move. 'fromwhere' represents from which position to move.\n",
    "\n",
    "f.seek(offset, fromwhere)"
   ]
  },
  {
   "cell_type": "code",
   "execution_count": 20,
   "metadata": {},
   "outputs": [
    {
     "name": "stdout",
     "output_type": "stream",
     "text": [
      "Sameer PashaPython is easy to learn compare to JAVA.sameer\n",
      "\n"
     ]
    }
   ],
   "source": [
    "f=open(r'D:\\Python\\File_Handling\\myfile.txt','a+')\n",
    "str=input()\n",
    "f.write(str+\"\\n\")\n",
    "f.seek(0,0)\n",
    "str=f.read()\n",
    "print(str)\n",
    "f.close()"
   ]
  },
  {
   "cell_type": "markdown",
   "metadata": {},
   "source": [
    "The format of using 'with' is:"
   ]
  },
  {
   "cell_type": "code",
   "execution_count": 21,
   "metadata": {},
   "outputs": [],
   "source": [
    "with open(r'sample.txt', 'w') as f:\n",
    "\tf.write('I am a learner\\n')\n",
    "\tf.write('Python is easy to learn\\n')"
   ]
  },
  {
   "cell_type": "code",
   "execution_count": 23,
   "metadata": {},
   "outputs": [
    {
     "name": "stdout",
     "output_type": "stream",
     "text": [
      "I am a learner\n",
      "\n",
      "Python is easy to learn\n",
      "\n"
     ]
    }
   ],
   "source": [
    "with open(r'D:\\Python\\File_Handling\\sample.txt','r') as f:\n",
    "\tfor line in f:\n",
    "\t\tprint(line)"
   ]
  },
  {
   "cell_type": "markdown",
   "metadata": {},
   "source": [
    "Python program to copy the contents of one file to another file:"
   ]
  },
  {
   "cell_type": "code",
   "execution_count": 24,
   "metadata": {},
   "outputs": [],
   "source": [
    "with open('D:\\Python\\File_Handling\\myfile.txt') as f:\n",
    "\twith open('out.txt', 'w') as f1:\n",
    "\t\tfor line in f:\n",
    "\t\t\tf1.write(line)"
   ]
  }
 ],
 "metadata": {
  "kernelspec": {
   "display_name": "Python 3",
   "language": "python",
   "name": "python3"
  },
  "language_info": {
   "codemirror_mode": {
    "name": "ipython",
    "version": 3
   },
   "file_extension": ".py",
   "mimetype": "text/x-python",
   "name": "python",
   "nbconvert_exporter": "python",
   "pygments_lexer": "ipython3",
   "version": "3.12.2"
  }
 },
 "nbformat": 4,
 "nbformat_minor": 2
}
