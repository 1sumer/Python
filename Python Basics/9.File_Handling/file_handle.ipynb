{
 "cells": [
  {
   "cell_type": "markdown",
   "metadata": {},
   "source": [
    "## **File Handling**"
   ]
  },
  {
   "cell_type": "markdown",
   "metadata": {},
   "source": [
    "**Types Of Files In Python:**\n",
    "\n",
    "There are two types of files in python, there are:\n",
    "\n",
    "-----> Text files\n",
    "\n",
    "-----> Binary files"
   ]
  },
  {
   "cell_type": "markdown",
   "metadata": {},
   "source": [
    "**Opening a File:**\n",
    "We should use open() function to open a file. This function accepts 'filename' and 'open mode' in which to open the file.\n",
    "\n",
    "file handler = open('file name', 'open mode')"
   ]
  },
  {
   "cell_type": "markdown",
   "metadata": {},
   "source": [
    " -----> w\tTo wirte data into file. If any data is already present in the file,it would be deleted and the present data will be stored.\n",
    "\n",
    " -----> r   To read data from the file. The file pointer is positioned at the beginning of the file.\n",
    "\n",
    " -----> a   To append data to the file. Appending means adding at the end of existing data.The filepointer is placed at the end of the file.if the  file does not exist, it will create a new file for writing data.\n",
    "\n",
    " -----> a+  To append and read data of a file.The file pointer will be at the end of the file if the file exists. If the file does not exist, it creates a new file for reading and writing."
   ]
  },
  {
   "cell_type": "markdown",
   "metadata": {},
   "source": [
    "**Opening a file open():**\n",
    "\n",
    "When the open() function is used to open a file, it returns a pointer to the beginning of the file. This is called 'file handler' or 'file object'.\n",
    "\n",
    "- Here 'f' represents the file handler or file object. It refers to the file with the name 'myfile.txt' that is opendedin 'w' mode. This means, we can write data into the file but we can not read data from this file. If this file exists already,then its contents are deleted and the present data is stored into the file."
   ]
  },
  {
   "cell_type": "markdown",
   "metadata": {},
   "source": [
    "**Closing a file close():**\n",
    "\n",
    "A file which is opened should be closed using the close() method. Once a file is opened but not closed, then the data of the file may be corrupted or deleted in some cases. Also, if the file is not closed, the memory utilized by the file is not freed, leading to problems like insufficient memory. This happens when we are working with serval files simultaneously. Hence it is mandatory to close the file.\n",
    "\n",
    "f.close()"
   ]
  },
  {
   "cell_type": "markdown",
   "metadata": {},
   "source": [
    "### **Creating File**"
   ]
  },
  {
   "cell_type": "code",
   "execution_count": 17,
   "metadata": {},
   "outputs": [],
   "source": [
    "def create_file(file_path, content):\n",
    "    with open(file_path, 'w') as file:\n",
    "        file.write(content)\n",
    "\n",
    "create_file(\"test.txt\", \"This is text file\")"
   ]
  },
  {
   "cell_type": "markdown",
   "metadata": {},
   "source": [
    "### **Open Modes**"
   ]
  },
  {
   "cell_type": "code",
   "execution_count": 23,
   "metadata": {},
   "outputs": [
    {
     "name": "stdout",
     "output_type": "stream",
     "text": [
      "This is a test file.\n",
      "This is another line.\n",
      "This is a test file.\n",
      "This is a new line\n"
     ]
    }
   ],
   "source": [
    "with open(\"test.txt\", 'r') as f:\n",
    "    content = f.read()\n",
    "    print(content)"
   ]
  },
  {
   "cell_type": "code",
   "execution_count": 24,
   "metadata": {},
   "outputs": [],
   "source": [
    "with open(\"D:\\\\Python\\\\Python Basics\\\\9.File_Handling\\\\test.txt\", 'w') as f:\n",
    "    f.write(\"This is a test file.\")"
   ]
  },
  {
   "cell_type": "code",
   "execution_count": 20,
   "metadata": {},
   "outputs": [],
   "source": [
    "with open(r\"D:\\Python\\Python Basics\\9.File_Handling\\test.txt\", 'a') as f:\n",
    "    # Append the text to the end of the file\n",
    "    f.write(\"\\nThis is another line.\")\n",
    "    f.write(\"\\nThis is a test file.\")"
   ]
  },
  {
   "cell_type": "code",
   "execution_count": 22,
   "metadata": {},
   "outputs": [
    {
     "name": "stdout",
     "output_type": "stream",
     "text": [
      "his is a test file.\n",
      "This is another line.\n",
      "This is a test file.\n",
      "This is a new line\n"
     ]
    }
   ],
   "source": [
    "with open(r\"D:\\Python\\Python Basics\\9.File_Handling\\test.txt\", 'a+') as f:\n",
    "    f.write(\"\\nThis is a new line\")\n",
    "    f.seek(1)\n",
    "    print(f.read())\n",
    "\n",
    "f.close() "
   ]
  },
  {
   "cell_type": "markdown",
   "metadata": {},
   "source": [
    "### **Writing list of string**"
   ]
  },
  {
   "cell_type": "code",
   "execution_count": 2,
   "metadata": {},
   "outputs": [],
   "source": [
    "mixed_strings = [\n",
    "    \"test@example.com\",\n",
    "    \"123-456-7890\",\n",
    "    \"Start this string\",\n",
    "    \"This string ends with End\",\n",
    "    \"123456\",\n",
    "    \"Contains whitespace \",\n",
    "    \"pretest and posttest\",\n",
    "    \"@#!$%\",\n",
    "    \"5This does not start with a digit\",\n",
    "    \"NoWhitespaceHere\"\n",
    "]\n",
    "\n",
    "# Function to create and write to the text file\n",
    "\n",
    "def create_file(file_path, content):\n",
    "    with open(file_path, 'w') as file:\n",
    "        for line in content:\n",
    "            file.write(line + '\\n')\n",
    "\n",
    "file_path = 'mixed_strings.txt'\n",
    "create_file(file_path, mixed_strings)"
   ]
  },
  {
   "cell_type": "markdown",
   "metadata": {},
   "source": [
    "### **Reading the File**"
   ]
  },
  {
   "cell_type": "code",
   "execution_count": 72,
   "metadata": {},
   "outputs": [],
   "source": [
    "def create_file(file_path, content):\n",
    "    with open(file_path, 'w') as file:\n",
    "        file.write(content)\n",
    "\n",
    "create_file(\"myfile.txt\", \"Current content of the file: \\nI am a learner \\nPython is easy to learn \\nUpdated content of the file: \\nThis is the new content. \\neasy to learn\")"
   ]
  },
  {
   "cell_type": "code",
   "execution_count": 73,
   "metadata": {},
   "outputs": [
    {
     "name": "stdout",
     "output_type": "stream",
     "text": [
      "Current content of the file: \n",
      "I am a learner \n",
      "Python is easy to learn \n",
      "Updated content of the file: \n",
      "This is the new content. \n",
      "easy to learn\n"
     ]
    }
   ],
   "source": [
    "with open(\"myfile.txt\", 'r') as file:\n",
    "    print(file.read())"
   ]
  },
  {
   "cell_type": "code",
   "execution_count": 74,
   "metadata": {},
   "outputs": [
    {
     "name": "stdout",
     "output_type": "stream",
     "text": [
      "Current content of the file: \n",
      "I am a learner \n",
      "Python is easy to learn \n",
      "Updated content of the file: \n",
      "This is the new content. \n",
      "easy to learn\n"
     ]
    }
   ],
   "source": [
    "file = open('myfile.txt','r')\n",
    "res=file.read()\n",
    "print(res)\n",
    "file.close()"
   ]
  },
  {
   "cell_type": "code",
   "execution_count": 75,
   "metadata": {},
   "outputs": [
    {
     "name": "stdout",
     "output_type": "stream",
     "text": [
      "Current co\n"
     ]
    }
   ],
   "source": [
    "file = open(\"myfile.txt\", \"r\")\n",
    "content = file.read(10)  # Reads the first 10 characters\n",
    "print(content)\n",
    "file.close()"
   ]
  },
  {
   "cell_type": "markdown",
   "metadata": {},
   "source": [
    "**Reading Lines**"
   ]
  },
  {
   "cell_type": "markdown",
   "metadata": {},
   "source": [
    "- There is another method by the name readlines() that reads all the lines into a list.This can be used as:"
   ]
  },
  {
   "cell_type": "code",
   "execution_count": 76,
   "metadata": {},
   "outputs": [
    {
     "name": "stdout",
     "output_type": "stream",
     "text": [
      "['Current content of the file: \\n', 'I am a learner \\n', 'Python is easy to learn \\n', 'Updated content of the file: \\n', 'This is the new content. \\n', 'easy to learn']\n"
     ]
    }
   ],
   "source": [
    "f=open('myfile.txt','r')\n",
    "str=f.readlines()\n",
    "print(str)\n",
    "f.close()"
   ]
  },
  {
   "cell_type": "code",
   "execution_count": 77,
   "metadata": {},
   "outputs": [
    {
     "name": "stdout",
     "output_type": "stream",
     "text": [
      "Current content of the file:\n",
      "I am a learner\n",
      "Python is easy to learn\n",
      "Updated content of the file:\n",
      "This is the new content.\n",
      "easy to learn\n"
     ]
    }
   ],
   "source": [
    "file = open(\"myfile.txt\", \"r\")\n",
    "lines = file.readlines()\n",
    "for line in lines:\n",
    "    print(line.strip())  # strip() removes the newline character\n",
    "file.close()"
   ]
  },
  {
   "cell_type": "markdown",
   "metadata": {},
   "source": [
    "**Spliting Line**\n",
    "- This method displays all the strings as elements in a list. The \"\\n\" character is visible at the end of each string.\n",
    "\t\n",
    "- If we want to suppress the \"\\n\" characters, then we can use read() method with splitlines() method as:"
   ]
  },
  {
   "cell_type": "code",
   "execution_count": 78,
   "metadata": {},
   "outputs": [
    {
     "name": "stdout",
     "output_type": "stream",
     "text": [
      "['Current content of the file: ', 'I am a learner ', 'Python is easy to learn ', 'Updated content of the file: ', 'This is the new content. ', 'easy to learn']\n"
     ]
    }
   ],
   "source": [
    "f=open(r'D:\\Python\\Python Basics\\9.File_Handling\\myfile.txt','r')\n",
    "str=f.read().splitlines()\n",
    "print(str)\n",
    "f.close()"
   ]
  },
  {
   "cell_type": "code",
   "execution_count": 79,
   "metadata": {},
   "outputs": [
    {
     "name": "stdout",
     "output_type": "stream",
     "text": [
      "['Current', 'content', 'of', 'the', 'file:']\n",
      "['I', 'am', 'a', 'learner']\n",
      "['Python', 'is', 'easy', 'to', 'learn']\n",
      "['Updated', 'content', 'of', 'the', 'file:']\n",
      "['This', 'is', 'the', 'new', 'content.']\n",
      "['easy', 'to', 'learn']\n"
     ]
    }
   ],
   "source": [
    "# Python code to illustrate split() function\n",
    "with open(r\"D:\\Python\\Python Basics\\9.File_Handling\\myfile.txt\", \"r\") as file:\n",
    "\tdata = file.readlines()\n",
    "\tfor line in data:\n",
    "\t\tword = line.split()\n",
    "\t\tprint (word)\n"
   ]
  },
  {
   "cell_type": "markdown",
   "metadata": {},
   "source": [
    "### **Writing The File**"
   ]
  },
  {
   "cell_type": "code",
   "execution_count": 89,
   "metadata": {},
   "outputs": [],
   "source": [
    "f=open(r'D:\\Python\\Python Basics\\9.File_Handling\\myfile.txt','w')\n",
    "str='Current content of the file: I am a learner, Python is easy to learn'\n",
    "f.write(str)\n",
    "\n",
    "f.close()"
   ]
  },
  {
   "cell_type": "code",
   "execution_count": 90,
   "metadata": {},
   "outputs": [
    {
     "data": {
      "text/plain": [
       "'Current content of the file: I am a learner, Python is easy to learn'"
      ]
     },
     "execution_count": 90,
     "metadata": {},
     "output_type": "execute_result"
    }
   ],
   "source": [
    "f=open(r'D:\\Python\\Python Basics\\9.File_Handling\\myfile.txt','r')\n",
    "f.read()"
   ]
  },
  {
   "cell_type": "markdown",
   "metadata": {},
   "source": [
    "**Using writelines() Function**\n",
    "\n",
    "Write a python program to write multiple lines of text into a file:"
   ]
  },
  {
   "cell_type": "code",
   "execution_count": 92,
   "metadata": {},
   "outputs": [],
   "source": [
    "with open(r'D:\\Python\\Python Basics\\9.File_Handling\\file.txt', 'a') as file:\n",
    "   l1 = \"Welcome to TutorialsPoint\\n\"\n",
    "   l2 = \"Write multiple lines \\n\"\n",
    "   l3 = \"Done successfully\\n\"\n",
    "   l4 = \"Thank You!\"\n",
    "   file.writelines([l1, l2, l3, l4])\n",
    "   file.close()"
   ]
  },
  {
   "cell_type": "code",
   "execution_count": 93,
   "metadata": {},
   "outputs": [
    {
     "name": "stdout",
     "output_type": "stream",
     "text": [
      "['Welcome to TutorialsPoint', 'Write multiple lines ', 'Done successfully', 'Thank You!']\n"
     ]
    }
   ],
   "source": [
    "with open(r'D:\\Python\\Python Basics\\9.File_Handling\\file.txt') as f:\n",
    "    data = f.read().strip().split('\\n')\n",
    "    print(data)"
   ]
  },
  {
   "cell_type": "code",
   "execution_count": 94,
   "metadata": {},
   "outputs": [],
   "source": [
    "fvar = open(r'D:\\Python\\Python Basics\\9.File_Handling\\file.txt','w')\n",
    "list1=[\"Hello \",\"Hi \",\"How ru\"]\n",
    "fvar.writelines(list1)\n",
    "fvar.close()"
   ]
  },
  {
   "cell_type": "code",
   "execution_count": 95,
   "metadata": {},
   "outputs": [
    {
     "name": "stdout",
     "output_type": "stream",
     "text": [
      "['Hello Hi How ru']\n"
     ]
    }
   ],
   "source": [
    "with open(r'D:\\Python\\Python Basics\\9.File_Handling\\file.txt') as f:\n",
    "    data = f.read().strip().split('\\n')\n",
    "    print(data)"
   ]
  },
  {
   "cell_type": "markdown",
   "metadata": {},
   "source": [
    "### **Appending Text into File**"
   ]
  },
  {
   "cell_type": "code",
   "execution_count": 98,
   "metadata": {},
   "outputs": [],
   "source": [
    "f = open(r'D:\\Python\\Python Basics\\9.File_Handling\\myfile.txt', 'a')\n",
    "\n",
    "str_to_write = '\\nGood Night'\n",
    "f.write(str_to_write)\n",
    "\n",
    "f.close()"
   ]
  },
  {
   "cell_type": "markdown",
   "metadata": {},
   "source": [
    "### **Append and Read**\n",
    "\n",
    "Appending data to the file and then to display the data.For this purpose, we should open the file in 'append and read' mode as:\n",
    "\n",
    "In case, we want to move the file pointer to another position, we can use the seek() method.This method takes two arguments.\n",
    "- Here, 'offset' represents how many bytes to move. 'fromwhere' represents from which position to move.\n",
    "\n",
    "f.seek(offset, fromwhere)"
   ]
  },
  {
   "cell_type": "code",
   "execution_count": 101,
   "metadata": {},
   "outputs": [
    {
     "name": "stdout",
     "output_type": "stream",
     "text": [
      "sameer\n",
      "Sameer.\n",
      "\n"
     ]
    }
   ],
   "source": [
    "f=open(r'D:\\Python\\Python Basics\\9.File_Handling\\myfile.txt','a+')\n",
    "str=input(\"Enter Text\")\n",
    "\n",
    "f.write(str+\"\\n\")\n",
    "\n",
    "f.seek(0)\n",
    "\n",
    "str=f.read()\n",
    "print(str)\n",
    "\n",
    "f.close()"
   ]
  },
  {
   "cell_type": "markdown",
   "metadata": {},
   "source": [
    "### **Python program to copy the contents of one file to another file:**"
   ]
  },
  {
   "cell_type": "code",
   "execution_count": 104,
   "metadata": {},
   "outputs": [],
   "source": [
    "import warnings\n",
    "warnings.filterwarnings('ignore')\n",
    "\n",
    "with open('D:\\Python\\Python Basics\\9.File_Handling\\myfile.txt') as f:\n",
    "\twith open('output.txt', 'w') as f1:\n",
    "\t\tfor line in f:\n",
    "\t\t\tf1.write(line)"
   ]
  },
  {
   "cell_type": "markdown",
   "metadata": {},
   "source": [
    "### **Deleting a File**"
   ]
  },
  {
   "cell_type": "code",
   "execution_count": 105,
   "metadata": {},
   "outputs": [],
   "source": [
    "import os\n",
    "os.remove(\"output.txt\")"
   ]
  },
  {
   "cell_type": "code",
   "execution_count": 106,
   "metadata": {},
   "outputs": [
    {
     "name": "stdout",
     "output_type": "stream",
     "text": [
      "The file does not exist\n"
     ]
    }
   ],
   "source": [
    "import os\n",
    "if os.path.exists(\"output.txt\"):\n",
    "    print(\"file\")\n",
    "else:\n",
    "  print(\"The file does not exist\")"
   ]
  },
  {
   "cell_type": "code",
   "execution_count": 107,
   "metadata": {},
   "outputs": [
    {
     "name": "stdout",
     "output_type": "stream",
     "text": [
      "The file does not exist\n"
     ]
    }
   ],
   "source": [
    "import os\n",
    "if os.path.exists(\"output.txt\"):\n",
    "  os.remove(\"output.txt\")\n",
    "else:\n",
    "  print(\"The file does not exist\")"
   ]
  },
  {
   "cell_type": "markdown",
   "metadata": {},
   "source": [
    "### **Working with CSV Files**\n",
    "Reading from a CSV file"
   ]
  },
  {
   "cell_type": "code",
   "execution_count": 68,
   "metadata": {},
   "outputs": [
    {
     "name": "stdout",
     "output_type": "stream",
     "text": [
      "['Name', 'Age', 'City']\n",
      "['Alice', '30', 'New York']\n",
      "['Bob', '35', 'London']\n"
     ]
    }
   ],
   "source": [
    "import csv\n",
    "\n",
    "with open(\"data.csv\", \"r\") as file:\n",
    "    reader = csv.reader(file)\n",
    "    for row in reader:\n",
    "        print(row)\n"
   ]
  },
  {
   "cell_type": "markdown",
   "metadata": {},
   "source": [
    "Writing to a CSV file"
   ]
  },
  {
   "cell_type": "code",
   "execution_count": 67,
   "metadata": {},
   "outputs": [],
   "source": [
    "with open(\"data.csv\", \"w\", newline='') as file:\n",
    "    writer = csv.writer(file)\n",
    "    writer.writerow([\"Name\", \"Age\", \"City\"])\n",
    "    writer.writerow([\"Alice\", \"30\", \"New York\"])\n",
    "    writer.writerow([\"Bob\", \"35\", \"London\"])"
   ]
  },
  {
   "cell_type": "markdown",
   "metadata": {},
   "source": [
    "Reading a CSV file as a dictionary"
   ]
  },
  {
   "cell_type": "code",
   "execution_count": 69,
   "metadata": {},
   "outputs": [
    {
     "name": "stdout",
     "output_type": "stream",
     "text": [
      "Alice 30 New York\n",
      "Bob 35 London\n"
     ]
    }
   ],
   "source": [
    "with open(\"data.csv\", \"r\") as file:\n",
    "    reader = csv.DictReader(file)\n",
    "    for row in reader:\n",
    "        print(row[\"Name\"], row[\"Age\"], row[\"City\"])"
   ]
  },
  {
   "cell_type": "markdown",
   "metadata": {},
   "source": [
    "### **Working with JSON Files**\n",
    "Reading from a JSON file"
   ]
  },
  {
   "cell_type": "code",
   "execution_count": 60,
   "metadata": {},
   "outputs": [
    {
     "name": "stdout",
     "output_type": "stream",
     "text": [
      "[{'name': 'Alice', 'age': 30, 'city': 'New York'}, {'name': 'Bob', 'age': 25, 'city': 'Los Angeles'}, {'name': 'Charlie', 'age': 35, 'city': 'Chicago'}, {'name': 'David', 'age': 28, 'city': 'San Francisco'}]\n"
     ]
    }
   ],
   "source": [
    "import json\n",
    "\n",
    "with open(\"data.json\", \"r\") as file:\n",
    "    data = json.load(file)\n",
    "    print(data)"
   ]
  },
  {
   "cell_type": "code",
   "execution_count": 59,
   "metadata": {},
   "outputs": [],
   "source": [
    "data = [\n",
    "    {\"name\": \"Alice\", \"age\": 30, \"city\": \"New York\"},\n",
    "    {\"name\": \"Bob\", \"age\": 25, \"city\": \"Los Angeles\"},\n",
    "    {\"name\": \"Charlie\", \"age\": 35, \"city\": \"Chicago\"},\n",
    "    {\"name\": \"David\", \"age\": 28, \"city\": \"San Francisco\"}\n",
    "]\n",
    "\n",
    "with open(\"data.json\", \"w\") as file:\n",
    "    json.dump(data, file, indent=4)\n",
    "    "
   ]
  },
  {
   "cell_type": "markdown",
   "metadata": {},
   "source": [
    "### **File Handling With Exception**"
   ]
  },
  {
   "cell_type": "code",
   "execution_count": 42,
   "metadata": {},
   "outputs": [
    {
     "name": "stdout",
     "output_type": "stream",
     "text": [
      "File content:\n",
      "Hello How Are You\n"
     ]
    }
   ],
   "source": [
    "def read():\n",
    "    file_path = r'D:\\Python\\Python Basics\\9.File_Handling\\myfile.txt'\n",
    "    \n",
    "    try:\n",
    "        with open(file_path, 'r') as f:\n",
    "            lines = f.readlines()\n",
    "            if not lines:\n",
    "                print(\"The file is empty.\")\n",
    "            else:\n",
    "                print(\"File content:\")\n",
    "                for line in lines:\n",
    "                    print(line.strip())  # strip() removes leading and trailing whitespaces\n",
    "    except FileNotFoundError:\n",
    "        print(f\"File not found at path: {file_path}\")\n",
    "    except Exception as e:\n",
    "        print(f\"An error occurred: {e}\")\n",
    "\n",
    "# Example usage\n",
    "read()\n"
   ]
  }
 ],
 "metadata": {
  "kernelspec": {
   "display_name": "Python 3",
   "language": "python",
   "name": "python3"
  },
  "language_info": {
   "codemirror_mode": {
    "name": "ipython",
    "version": 3
   },
   "file_extension": ".py",
   "mimetype": "text/x-python",
   "name": "python",
   "nbconvert_exporter": "python",
   "pygments_lexer": "ipython3",
   "version": "3.12.2"
  }
 },
 "nbformat": 4,
 "nbformat_minor": 2
}
