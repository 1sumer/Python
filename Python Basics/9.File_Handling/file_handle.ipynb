{
 "cells": [
  {
   "cell_type": "markdown",
   "metadata": {},
   "source": [
    "## File Handling"
   ]
  },
  {
   "cell_type": "markdown",
   "metadata": {},
   "source": [
    "**Types Of Files In Python:**\n",
    "\n",
    "There are two types of files in python, there are:\n",
    "\n",
    "-----> Text files\n",
    "\n",
    "-----> Binary files"
   ]
  },
  {
   "cell_type": "markdown",
   "metadata": {},
   "source": [
    "**Opening a File:**\n",
    "We should use open() function to open a file. This function accepts 'filename' and 'open mode' in which to open the file.\n",
    "\n",
    "file handler = open('file name', 'open mode')"
   ]
  },
  {
   "cell_type": "markdown",
   "metadata": {},
   "source": [
    " -----> w\tTo wirte data into file. If any data is already present in the file,it would be deleted and the present data will be stored.\n",
    "\n",
    " -----> r   To read data from the file. The file pointer is positioned at the beginning of the file.\n",
    "\n",
    " -----> a   To append data to the file. Appending means adding at the end of existing data.The filepointer is placed at the end of the file.if the  file does not exist, it will create a new file for writing data.\n",
    "\n",
    " -----> a+  To append and read data of a file.The file pointer will be at the end of the file if the file exists. If the file does not exist, it creates a new file for reading and writing."
   ]
  },
  {
   "cell_type": "markdown",
   "metadata": {},
   "source": [
    "**Opening a file open():**\n",
    "----------------------\n",
    "When the open() function is used to open a file, it returns a pointer to the beginning of the file. This is called 'file handler' or 'file object'.\n",
    "\n",
    "- Here 'f' represents the file handler or file object. It refers to the file with the name 'myfile.txt' that is opendedin 'w' mode. This means, we can write data into the file but we can not read data from this file. If this file exists already,then its contents are deleted and the present data is stored into the file."
   ]
  },
  {
   "cell_type": "markdown",
   "metadata": {},
   "source": [
    "**Closing a file close():**\n",
    "-----------------------\n",
    "A file which is opened should be closed using the close() method. Once a file is opened but not closed, then the data of the file may be corrupted or deleted in some cases. Also, if the file is not closed, the memory utilized by the file is not freed, leading to problems like insufficient memory. This happens when we are working with serval files simultaneously. Hence it is mandatory to close the file.\n",
    "\n",
    "f.close()"
   ]
  },
  {
   "cell_type": "markdown",
   "metadata": {},
   "source": [
    "**Reading the File**"
   ]
  },
  {
   "cell_type": "code",
   "execution_count": 33,
   "metadata": {},
   "outputs": [
    {
     "name": "stdout",
     "output_type": "stream",
     "text": [
      "Hi Good Morning\n",
      "Good Night\n"
     ]
    }
   ],
   "source": [
    "fvar = open(r'D:\\Python\\Python Basics\\9.File_Handling\\myfile.txt','r')\n",
    "res=fvar.read()\n",
    "print(res)\n",
    "fvar.close()"
   ]
  },
  {
   "cell_type": "code",
   "execution_count": 35,
   "metadata": {},
   "outputs": [
    {
     "name": "stdout",
     "output_type": "stream",
     "text": [
      "Hi Good Morning\n",
      "Good Night\n"
     ]
    }
   ],
   "source": [
    "with open(r\"D:\\Python\\Python Basics\\9.File_Handling\\myfile.txt\", 'r') as file:\n",
    "    print(file.read())"
   ]
  },
  {
   "cell_type": "markdown",
   "metadata": {},
   "source": [
    "**Writing The File**"
   ]
  },
  {
   "cell_type": "code",
   "execution_count": 28,
   "metadata": {},
   "outputs": [],
   "source": [
    "f=open(r'D:\\Python\\Python Basics\\9.File_Handling\\myfile.txt','w')\n",
    "\n",
    "str='Hi Good Morning'\n",
    "f.write(str)\n",
    "\n",
    "f.close()"
   ]
  },
  {
   "cell_type": "code",
   "execution_count": 29,
   "metadata": {},
   "outputs": [
    {
     "data": {
      "text/plain": [
       "'Hi Good Morning'"
      ]
     },
     "execution_count": 29,
     "metadata": {},
     "output_type": "execute_result"
    }
   ],
   "source": [
    "f=open(r'D:\\Python\\Python Basics\\9.File_Handling\\myfile.txt','r')\n",
    "\n",
    "f.read()"
   ]
  },
  {
   "cell_type": "markdown",
   "metadata": {},
   "source": [
    "**Appending Text into File**"
   ]
  },
  {
   "cell_type": "code",
   "execution_count": 31,
   "metadata": {},
   "outputs": [],
   "source": [
    "f = open(r'D:\\Python\\Python Basics\\9.File_Handling\\myfile.txt', 'a')\n",
    "\n",
    "str_to_write = '\\nGood Night'\n",
    "f.write(str_to_write)\n",
    "\n",
    "f.close()"
   ]
  },
  {
   "cell_type": "code",
   "execution_count": 32,
   "metadata": {},
   "outputs": [
    {
     "name": "stdout",
     "output_type": "stream",
     "text": [
      "Hi Good Morning\n",
      "Good Night\n"
     ]
    }
   ],
   "source": [
    "f=open(r'D:\\Python\\Python Basics\\9.File_Handling\\myfile.txt','r')\n",
    "\n",
    "print(f.read())"
   ]
  },
  {
   "cell_type": "markdown",
   "metadata": {},
   "source": [
    "**Reading Lines**"
   ]
  },
  {
   "cell_type": "markdown",
   "metadata": {},
   "source": [
    "- There is another method by the name readlines() that reads all the lines into a list.This can be used as:"
   ]
  },
  {
   "cell_type": "code",
   "execution_count": 37,
   "metadata": {},
   "outputs": [
    {
     "name": "stdout",
     "output_type": "stream",
     "text": [
      "['Hi Good Morning\\n', 'Good Night']\n"
     ]
    }
   ],
   "source": [
    "f=open(r'D:\\Python\\Python Basics\\9.File_Handling\\myfile.txt','r')\n",
    "str=f.readlines()\n",
    "print(str)\n",
    "f.close()"
   ]
  },
  {
   "cell_type": "markdown",
   "metadata": {},
   "source": [
    "**Spliting Line**"
   ]
  },
  {
   "cell_type": "markdown",
   "metadata": {},
   "source": [
    "- This method displays all the strings as elements in a list. The \"\\n\" character is visible at the end of each string.\n",
    "\t\n",
    "- If we want to suppress the \"\\n\" characters, then we can use read() method with splitlines() method as:"
   ]
  },
  {
   "cell_type": "code",
   "execution_count": 38,
   "metadata": {},
   "outputs": [
    {
     "name": "stdout",
     "output_type": "stream",
     "text": [
      "['Hi Good Morning', 'Good Night']\n"
     ]
    }
   ],
   "source": [
    "f=open(r'D:\\Python\\Python Basics\\9.File_Handling\\myfile.txt','r')\n",
    "str=f.read().splitlines()\n",
    "print(str)\n",
    "f.close()"
   ]
  },
  {
   "cell_type": "code",
   "execution_count": 39,
   "metadata": {},
   "outputs": [
    {
     "name": "stdout",
     "output_type": "stream",
     "text": [
      "['Hi', 'Good', 'Morning']\n",
      "['Good', 'Night']\n"
     ]
    }
   ],
   "source": [
    "# Python code to illustrate split() function\n",
    "with open(r\"D:\\Python\\Python Basics\\9.File_Handling\\myfile.txt\", \"r\") as file:\n",
    "\tdata = file.readlines()\n",
    "\tfor line in data:\n",
    "\t\tword = line.split()\n",
    "\t\tprint (word)\n"
   ]
  },
  {
   "cell_type": "markdown",
   "metadata": {},
   "source": [
    "Using writelines() Function\n",
    "\n",
    "Write a python program to write multiple lines of text into a file:"
   ]
  },
  {
   "cell_type": "code",
   "execution_count": 40,
   "metadata": {},
   "outputs": [],
   "source": [
    "def writelines():\n",
    "    file_path = r'D:\\Python\\Python Basics\\9.File_Handling\\myfile.txt'\n",
    "    \n",
    "    with open(file_path, 'w') as f:\n",
    "        while True:\n",
    "            line = input('Enter a line: ')\n",
    "            f.write(line + '\\n')  # Add a newline character after each line\n",
    "            more_lines = input('Are there more lines? Enter Y for yes and N for No: ')\n",
    "            if more_lines.upper() != 'Y':\n",
    "                break\n",
    "        f.close()\n",
    "# Example usage\n",
    "writelines()\n"
   ]
  },
  {
   "cell_type": "markdown",
   "metadata": {},
   "source": [
    "**File Handling With Exception**"
   ]
  },
  {
   "cell_type": "code",
   "execution_count": 42,
   "metadata": {},
   "outputs": [
    {
     "name": "stdout",
     "output_type": "stream",
     "text": [
      "File content:\n",
      "Hello How Are You\n"
     ]
    }
   ],
   "source": [
    "def read():\n",
    "    file_path = r'D:\\Python\\Python Basics\\9.File_Handling\\myfile.txt'\n",
    "    \n",
    "    try:\n",
    "        with open(file_path, 'r') as f:\n",
    "            lines = f.readlines()\n",
    "            if not lines:\n",
    "                print(\"The file is empty.\")\n",
    "            else:\n",
    "                print(\"File content:\")\n",
    "                for line in lines:\n",
    "                    print(line.strip())  # strip() removes leading and trailing whitespaces\n",
    "    except FileNotFoundError:\n",
    "        print(f\"File not found at path: {file_path}\")\n",
    "    except Exception as e:\n",
    "        print(f\"An error occurred: {e}\")\n",
    "\n",
    "# Example usage\n",
    "read()\n"
   ]
  },
  {
   "cell_type": "code",
   "execution_count": 45,
   "metadata": {},
   "outputs": [],
   "source": [
    "with open(r'D:\\Python\\Python Basics\\9.File_Handling\\file.txt', 'a') as file:\n",
    "   l1 = \"Welcome to TutorialsPoint\\n\"\n",
    "   l2 = \"Write multiple lines \\n\"\n",
    "   l3 = \"Done successfully\\n\"\n",
    "   l4 = \"Thank You!\"\n",
    "   file.writelines([l1, l2, l3, l4])\n",
    "   file.close()"
   ]
  },
  {
   "cell_type": "code",
   "execution_count": 47,
   "metadata": {},
   "outputs": [
    {
     "name": "stdout",
     "output_type": "stream",
     "text": [
      "['example.Welcome to TutorialsPoint', 'Write multiple lines ', 'Done successfully', 'Thank You!']\n"
     ]
    }
   ],
   "source": [
    "with open(r'D:\\Python\\Python Basics\\9.File_Handling\\file.txt') as f:\n",
    "    data = f.read().strip().split('\\n')\n",
    "    print(data)"
   ]
  },
  {
   "cell_type": "code",
   "execution_count": 55,
   "metadata": {},
   "outputs": [],
   "source": [
    "fvar = open(r'D:\\Python\\Python Basics\\9.File_Handling\\file.txt','w')\n",
    "list1=[\"Hello \",\"Hi \",\"How ru\"]\n",
    "fvar.writelines(list1)\n",
    "fvar.close()"
   ]
  },
  {
   "cell_type": "code",
   "execution_count": 56,
   "metadata": {},
   "outputs": [
    {
     "name": "stdout",
     "output_type": "stream",
     "text": [
      "['Hello Hi How ru']\n"
     ]
    }
   ],
   "source": [
    "with open(r'D:\\Python\\Python Basics\\9.File_Handling\\file.txt') as f:\n",
    "    data = f.read().strip().split('\\n')\n",
    "    print(data)"
   ]
  },
  {
   "cell_type": "markdown",
   "metadata": {},
   "source": [
    "**Append and Read**\n",
    "\n",
    "Appending data to the file and then to display the data.For this purpose, we should open the file in 'append and read' mode as:\n",
    "\n",
    "In case, we want to move the file pointer to another position, we can use the seek() method.This method takes two arguments.\n",
    "- Here, 'offset' represents how many bytes to move. 'fromwhere' represents from which position to move.\n",
    "\n",
    "f.seek(offset, fromwhere)"
   ]
  },
  {
   "cell_type": "code",
   "execution_count": 67,
   "metadata": {},
   "outputs": [
    {
     "name": "stdout",
     "output_type": "stream",
     "text": [
      "llo How Are You\n",
      "D:\\Python\\Python Basics\\9.File_Handling\\myfile.txt\n",
      "D:\\Python\\Python Basics\\9.File_Handling\\myfile.txt1\n",
      "D:\\Python\\Python Basics\\9.File_Handling\\myfile.txt\n",
      "D:\\Python\\Python Basics\\9.File_Handling\\myfile.txt2\n",
      "D:\\Python\\Python Basics\\9.File_Handling\\myfile.txt3\n",
      "\n"
     ]
    }
   ],
   "source": [
    "f=open(r'D:\\Python\\Python Basics\\9.File_Handling\\myfile.txt','a+')\n",
    "str=input(\"Enter Text\")\n",
    "\n",
    "f.write(str+\"\\n\")\n",
    "\n",
    "f.seek(2,0)\n",
    "\n",
    "str=f.read()\n",
    "print(str)\n",
    "\n",
    "f.close()"
   ]
  },
  {
   "cell_type": "markdown",
   "metadata": {},
   "source": [
    "The format of using 'with' is:"
   ]
  },
  {
   "cell_type": "code",
   "execution_count": 60,
   "metadata": {},
   "outputs": [],
   "source": [
    "with open(r'sample.txt', 'w') as f:\n",
    "\tf.write('I am a learner\\n')\n",
    "\tf.write('Python is easy to learn\\n')"
   ]
  },
  {
   "cell_type": "code",
   "execution_count": 62,
   "metadata": {},
   "outputs": [
    {
     "name": "stdout",
     "output_type": "stream",
     "text": [
      "I am a learner\n",
      "\n",
      "Python is easy to learn\n",
      "\n"
     ]
    }
   ],
   "source": [
    "with open(r'sample.txt','r') as f:\n",
    "\tfor line in f:\n",
    "\t\tprint(line)"
   ]
  },
  {
   "cell_type": "markdown",
   "metadata": {},
   "source": [
    "**Python program to copy the contents of one file to another file:**"
   ]
  },
  {
   "cell_type": "code",
   "execution_count": 64,
   "metadata": {},
   "outputs": [
    {
     "name": "stderr",
     "output_type": "stream",
     "text": [
      "<>:1: SyntaxWarning: invalid escape sequence '\\P'\n",
      "<>:1: SyntaxWarning: invalid escape sequence '\\P'\n",
      "C:\\Users\\Admin\\AppData\\Local\\Temp\\ipykernel_4028\\3497365908.py:1: SyntaxWarning: invalid escape sequence '\\P'\n",
      "  with open('D:\\Python\\Python Basics\\9.File_Handling\\myfile.txt') as f:\n"
     ]
    }
   ],
   "source": [
    "with open('D:\\Python\\Python Basics\\9.File_Handling\\myfile.txt') as f:\n",
    "\twith open('out.txt', 'w') as f1:\n",
    "\t\tfor line in f:\n",
    "\t\t\tf1.write(line)"
   ]
  }
 ],
 "metadata": {
  "kernelspec": {
   "display_name": "Python 3",
   "language": "python",
   "name": "python3"
  },
  "language_info": {
   "codemirror_mode": {
    "name": "ipython",
    "version": 3
   },
   "file_extension": ".py",
   "mimetype": "text/x-python",
   "name": "python",
   "nbconvert_exporter": "python",
   "pygments_lexer": "ipython3",
   "version": "3.12.2"
  }
 },
 "nbformat": 4,
 "nbformat_minor": 2
}
