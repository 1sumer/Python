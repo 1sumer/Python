{
 "cells": [
  {
   "cell_type": "markdown",
   "metadata": {},
   "source": [
    "## **File Handling**"
   ]
  },
  {
   "cell_type": "markdown",
   "metadata": {},
   "source": [
    "#### **What is File Handling?**\n",
    "File handling in Python allows you to perform operations on files, such as reading, writing, appending, and deleting. It enables data persistence, as data stored in files can be accessed and modified later.\n",
    "\n",
    "#### **Types of Files:**\n",
    "- Text Files: Human-readable files like .txt, .csv.\n",
    "- Binary Files: Non-human-readable files like .jpg, .exe.\n",
    "\n",
    "#### **Why File Handling is Important:**\n",
    "- **Data Storage Beyond Program Execution:** Programs often need to store data beyond their runtime. Without file handling, any data generated during a program’s execution would be lost when the program terminates. File handling allows data to persist and be reused when needed.\n",
    "- **Handling Large Data Sets:** Many real-world applications deal with large volumes of data that cannot be fully processed in memory (RAM). File handling enables storing such data on disk, where it can be accessed and processed incrementally.\n",
    "- **Record Keeping and Logging:** Many applications require continuous logging or recording of events, errors, or user activities. Files are the standard way to store this information for later analysis, monitoring, and debugging.\n",
    "- **Flexibility in Data Formats:** File handling allows developers to choose the most suitable format for storing data (e.g., text, binary, CSV, JSON, XML). This flexibility supports a wide range of use cases, from simple text storage to complex data structures.\n",
    "- Process data from external sources like configuration files."
   ]
  },
  {
   "cell_type": "markdown",
   "metadata": {},
   "source": [
    "### **Opening and Closing Files**\n",
    "\n",
    "#### **Syntax**\n",
    "```\n",
    "file = open('filename', mode)\n",
    "file.close()\n",
    "```"
   ]
  },
  {
   "cell_type": "markdown",
   "metadata": {},
   "source": [
    "\n"
   ]
  },
  {
   "cell_type": "markdown",
   "metadata": {},
   "source": [
    "**Opening a file `open()`:**\n",
    "\n",
    "When the open() function is used to open a file, it returns a pointer to the beginning of the file. This is called 'file handler' or 'file object'.\n",
    "\n",
    "- Here 'f' represents the file handler or file object. It refers to the file with the name 'myfile.txt' that is opendedin 'w' mode. This means, we can write data into the file but we can not read data from this file. If this file exists already,then its contents are deleted and the present data is stored into the file."
   ]
  },
  {
   "cell_type": "markdown",
   "metadata": {},
   "source": [
    "**Closing a file `close()`:**\n",
    "\n",
    "A file which is opened should be closed using the close() method. Once a file is opened but not closed, then the data of the file may be corrupted or deleted in some cases. Also, if the file is not closed, the memory utilized by the file is not freed, leading to problems like insufficient memory. This happens when we are working with serval files simultaneously. Hence it is mandatory to close the file.\n",
    "\n",
    "f.close()"
   ]
  },
  {
   "cell_type": "markdown",
   "metadata": {},
   "source": [
    "### **Creating File**"
   ]
  },
  {
   "cell_type": "code",
   "execution_count": 1,
   "metadata": {},
   "outputs": [],
   "source": [
    "def create_file(file_path, content):\n",
    "    with open(file_path, 'w') as file:\n",
    "        file.write(content)\n",
    "\n",
    "create_file(\"test.txt\", \"This is text file\")"
   ]
  },
  {
   "cell_type": "markdown",
   "metadata": {},
   "source": [
    "### **Using with Statement**"
   ]
  },
  {
   "cell_type": "code",
   "execution_count": 3,
   "metadata": {},
   "outputs": [
    {
     "name": "stdout",
     "output_type": "stream",
     "text": [
      "This is text file\n"
     ]
    }
   ],
   "source": [
    "with open(\"test.txt\", 'r') as f:\n",
    "    content = f.read()\n",
    "    print(content)"
   ]
  },
  {
   "cell_type": "code",
   "execution_count": 5,
   "metadata": {},
   "outputs": [],
   "source": [
    "with open(r\"D:\\Python\\Python Basics\\9.File_Handling\\test.txt\", 'w') as f:\n",
    "    f.write(\"This is a test file.\")\n",
    "    f.close()"
   ]
  },
  {
   "cell_type": "code",
   "execution_count": 6,
   "metadata": {},
   "outputs": [
    {
     "name": "stdout",
     "output_type": "stream",
     "text": [
      "Content before writing: This is a test file.\n",
      "Content after writing: is is new content.\n"
     ]
    }
   ],
   "source": [
    "# r+ example: Reading and writing to an existing file\n",
    "with open('test.txt', 'r+') as file:\n",
    "    content = file.read()  # Reading the file content\n",
    "    print('Content before writing:', content)\n",
    "    \n",
    "    file.seek(0)  # Set file pointer to the beginning\n",
    "    file.write('This is new content')  # Overwriting existing content\n",
    "    file.seek(2)  # Reset pointer to the beginning again\n",
    "    updated_content = file.read()  # Read the updated content\n",
    "    print('Content after writing:', updated_content)\n"
   ]
  },
  {
   "cell_type": "code",
   "execution_count": 8,
   "metadata": {},
   "outputs": [
    {
     "name": "stdout",
     "output_type": "stream",
     "text": [
      "Content after writing: This is a new line of text\n"
     ]
    }
   ],
   "source": [
    "# w+ example: Writing and then reading the file\n",
    "with open('test.txt', 'w+') as file:\n",
    "    file.write('This is a new line of text')  # Writing new content\n",
    "    file.seek(0)  # Set file pointer to the beginning\n",
    "    content = file.read()  # Reading the content back\n",
    "    print('Content after writing:', content)\n",
    "    file.close()\n"
   ]
  },
  {
   "cell_type": "code",
   "execution_count": 9,
   "metadata": {},
   "outputs": [],
   "source": [
    "with open(r\"D:\\Python\\Python Basics\\9.File_Handling\\test.txt\", 'a') as f:\n",
    "    # Append the text to the end of the file\n",
    "    f.write(\"\\nThis is another line.\")\n",
    "    f.write(\"\\nThis is a test file.\")\n",
    "    f.close()"
   ]
  },
  {
   "cell_type": "code",
   "execution_count": 10,
   "metadata": {},
   "outputs": [
    {
     "name": "stdout",
     "output_type": "stream",
     "text": [
      "This is a new line of text\n",
      "This is another line.\n",
      "This is a test file.\n",
      "This is a new line\n"
     ]
    }
   ],
   "source": [
    "with open(r\"D:\\Python\\Python Basics\\9.File_Handling\\test.txt\", 'a+') as f:\n",
    "    f.write(\"\\nThis is a new line\")\n",
    "    f.seek(0)\n",
    "    print(f.read())\n",
    "    f.close() "
   ]
  },
  {
   "cell_type": "markdown",
   "metadata": {},
   "source": [
    "### **Creating File of list of string**"
   ]
  },
  {
   "cell_type": "code",
   "execution_count": 11,
   "metadata": {},
   "outputs": [],
   "source": [
    "mixed_strings = [\n",
    "    \"test@example.com\",\n",
    "    \"123-456-7890\",\n",
    "    \"Start this string\",\n",
    "    \"This string ends with End\",\n",
    "    \"123456\",\n",
    "    \"Contains whitespace \",\n",
    "    \"pretest and posttest\",\n",
    "    \"@#!$%\",\n",
    "    \"5This does not start with a digit\",\n",
    "    \"NoWhitespaceHere\"\n",
    "]\n",
    "\n",
    "# Function to create and write to the text file\n",
    "def create_file(file_path, content):\n",
    "    with open(file_path, 'w') as file:\n",
    "        for line in content:\n",
    "            file.write(line + '\\n')\n",
    "\n",
    "file_path = 'myfile.txt'\n",
    "create_file(file_path, mixed_strings)"
   ]
  },
  {
   "cell_type": "markdown",
   "metadata": {},
   "source": [
    "### **Reading the File**"
   ]
  },
  {
   "cell_type": "code",
   "execution_count": 12,
   "metadata": {},
   "outputs": [
    {
     "name": "stdout",
     "output_type": "stream",
     "text": [
      "test@example.com\n",
      "123-456-7890\n",
      "Start this string\n",
      "This string ends with End\n",
      "123456\n",
      "Contains whitespace \n",
      "pretest and posttest\n",
      "@#!$%\n",
      "5This does not start with a digit\n",
      "NoWhitespaceHere\n",
      "\n"
     ]
    }
   ],
   "source": [
    "with open(\"myfile.txt\", 'r') as file:\n",
    "    print(file.read())\n",
    "    file.close()"
   ]
  },
  {
   "cell_type": "code",
   "execution_count": 14,
   "metadata": {},
   "outputs": [
    {
     "name": "stdout",
     "output_type": "stream",
     "text": [
      "['test@example.com\\n', '123-456-7890\\n', 'Start this string\\n', 'This string ends with End\\n', '123456\\n', 'Contains whitespace \\n', 'pretest and posttest\\n', '@#!$%\\n', '5This does not start with a digit\\n', 'NoWhitespaceHere\\n']\n"
     ]
    }
   ],
   "source": [
    "file = open(\"myfile.txt\", \"r\")\n",
    "content = file.readlines()  # Reads the first 10 characters\n",
    "print(content)\n",
    "file.close()"
   ]
  },
  {
   "cell_type": "markdown",
   "metadata": {},
   "source": [
    "**Reading Lines**"
   ]
  },
  {
   "cell_type": "markdown",
   "metadata": {},
   "source": [
    "- There is another method by the name readlines() that reads all the lines into a list.This can be used as:"
   ]
  },
  {
   "cell_type": "code",
   "execution_count": 82,
   "metadata": {},
   "outputs": [
    {
     "name": "stdout",
     "output_type": "stream",
     "text": [
      "['test@example.com\\n', '123-456-7890\\n', 'Start this string\\n', 'This string ends with End\\n', '123456\\n', 'Contains whitespace \\n', 'pretest and posttest\\n', '@#!$%\\n', '5This does not start with a digit\\n', 'NoWhitespaceHere\\n']\n"
     ]
    }
   ],
   "source": [
    "f = open('myfile.txt','r')\n",
    "str = f.readlines()\n",
    "print(str)\n",
    "f.close()"
   ]
  },
  {
   "cell_type": "code",
   "execution_count": 15,
   "metadata": {},
   "outputs": [
    {
     "name": "stdout",
     "output_type": "stream",
     "text": [
      "test@example.com\n",
      "123-456-7890\n",
      "Start this string\n",
      "This string ends with End\n",
      "123456\n",
      "Contains whitespace\n",
      "pretest and posttest\n",
      "@#!$%\n",
      "5This does not start with a digit\n",
      "NoWhitespaceHere\n"
     ]
    }
   ],
   "source": [
    "file = open(\"myfile.txt\", \"r\")\n",
    "lines = file.readlines()\n",
    "for line in lines:\n",
    "    print(line.strip())  # strip() removes the newline character\n",
    "file.close()"
   ]
  },
  {
   "cell_type": "markdown",
   "metadata": {},
   "source": [
    "**Spliting Line**\n",
    "- This method displays all the strings as elements in a list. The \"\\n\" character is visible at the end of each string.\n",
    "\t\n",
    "- If we want to suppress the \"\\n\" characters, then we can use read() method with splitlines() method as:"
   ]
  },
  {
   "cell_type": "code",
   "execution_count": 16,
   "metadata": {},
   "outputs": [
    {
     "name": "stdout",
     "output_type": "stream",
     "text": [
      "['test@example.com', '123-456-7890', 'Start this string', 'This string ends with End', '123456', 'Contains whitespace ', 'pretest and posttest', '@#!$%', '5This does not start with a digit', 'NoWhitespaceHere']\n"
     ]
    }
   ],
   "source": [
    "f=open('myfile.txt','r')\n",
    "str=f.read().splitlines()\n",
    "print(str)\n",
    "f.close()"
   ]
  },
  {
   "cell_type": "code",
   "execution_count": 85,
   "metadata": {},
   "outputs": [
    {
     "name": "stdout",
     "output_type": "stream",
     "text": [
      "['test@example.com']\n",
      "['123-456-7890']\n",
      "['Start', 'this', 'string']\n",
      "['This', 'string', 'ends', 'with', 'End']\n",
      "['123456']\n",
      "['Contains', 'whitespace']\n",
      "['pretest', 'and', 'posttest']\n",
      "['@#!$%']\n",
      "['5This', 'does', 'not', 'start', 'with', 'a', 'digit']\n",
      "['NoWhitespaceHere']\n"
     ]
    }
   ],
   "source": [
    "# Python code to illustrate split() function\n",
    "with open(\"myfile.txt\", \"r\") as file:\n",
    "\tdata = file.readlines()\n",
    "\tfor line in data:\n",
    "\t\tword = line.split()\n",
    "\t\tprint(word)\n"
   ]
  },
  {
   "cell_type": "markdown",
   "metadata": {},
   "source": [
    "### **Writing The File**"
   ]
  },
  {
   "cell_type": "code",
   "execution_count": 1,
   "metadata": {},
   "outputs": [],
   "source": [
    "f = open('myfile.txt','w')\n",
    "str = 'Current content of the file: I am a learner, Python is easy to learn'\n",
    "f.write(str)\n",
    "f.close()"
   ]
  },
  {
   "cell_type": "code",
   "execution_count": 2,
   "metadata": {},
   "outputs": [
    {
     "data": {
      "text/plain": [
       "'Current content of the file: I am a learner, Python is easy to learn'"
      ]
     },
     "execution_count": 2,
     "metadata": {},
     "output_type": "execute_result"
    }
   ],
   "source": [
    "f = open('myfile.txt','r')\n",
    "f.read()"
   ]
  },
  {
   "cell_type": "code",
   "execution_count": null,
   "metadata": {},
   "outputs": [
    {
     "name": "stdout",
     "output_type": "stream",
     "text": [
      "Content after writing: This is a new line of text\n"
     ]
    }
   ],
   "source": [
    "# w+ example: Writing and then reading the file\n",
    "with open('test.txt', 'w+') as file:\n",
    "    file.write('This is a new line of text')  # Writing new content\n",
    "    file.seek(0)  # Set file pointer to the beginning\n",
    "    content = file.read()  # Reading the content back\n",
    "    print('Content after writing:', content)\n",
    "    file.close()\n"
   ]
  },
  {
   "cell_type": "markdown",
   "metadata": {},
   "source": [
    "**Using writelines() Function**\n",
    "\n",
    "Write a python program to write multiple lines of text into a file:"
   ]
  },
  {
   "cell_type": "code",
   "execution_count": 7,
   "metadata": {},
   "outputs": [],
   "source": [
    "with open('myfile.txt', 'w') as file:\n",
    "   l1 = \"Welcome to TutorialsPoint\\n\"\n",
    "   l2 = \"Write multiple lines\\n\"\n",
    "   l3 = \"Done successfully\\n\"\n",
    "   l4 = \"Thank You!\"\n",
    "   file.writelines([l1, l2, l3, l4])\n",
    "   file.close()"
   ]
  },
  {
   "cell_type": "code",
   "execution_count": 8,
   "metadata": {},
   "outputs": [
    {
     "name": "stdout",
     "output_type": "stream",
     "text": [
      "Welcome to TutorialsPoint\n",
      "Write multiple lines\n",
      "Done successfully\n",
      "Thank You!\n"
     ]
    }
   ],
   "source": [
    "with open('myfile.txt', 'r') as file:\n",
    "    print(file.read())"
   ]
  },
  {
   "cell_type": "code",
   "execution_count": 27,
   "metadata": {},
   "outputs": [
    {
     "name": "stdout",
     "output_type": "stream",
     "text": [
      "['Welcome to TutorialsPoint\\n', 'Write multiple lines\\n', 'Done successfully\\n', 'Thank You!']\n"
     ]
    }
   ],
   "source": [
    "with open('myfile.txt', 'r') as file:\n",
    "    print(file.readlines())"
   ]
  },
  {
   "cell_type": "code",
   "execution_count": 9,
   "metadata": {},
   "outputs": [
    {
     "name": "stdout",
     "output_type": "stream",
     "text": [
      "['Welcome to TutorialsPoint', 'Write multiple lines', 'Done successfully', 'Thank You!']\n"
     ]
    }
   ],
   "source": [
    "with open('myfile.txt', 'r') as f:\n",
    "    data = f.read().strip().split('\\n')\n",
    "    print(data)\n",
    "    f.close()"
   ]
  },
  {
   "cell_type": "code",
   "execution_count": 10,
   "metadata": {},
   "outputs": [],
   "source": [
    "fvar = open('myfile.txt','w')\n",
    "list1=[\"Hello\\n\",\"Hi\\n\",\"How ru\"]\n",
    "fvar.writelines(list1)\n",
    "fvar.close()"
   ]
  },
  {
   "cell_type": "code",
   "execution_count": 11,
   "metadata": {},
   "outputs": [
    {
     "name": "stdout",
     "output_type": "stream",
     "text": [
      "['Hello', 'Hi', 'How ru']\n"
     ]
    }
   ],
   "source": [
    "with open('myfile.txt','r') as f:\n",
    "    data = f.read().split('\\n')\n",
    "    print(data)"
   ]
  },
  {
   "cell_type": "markdown",
   "metadata": {},
   "source": [
    "### **Appending Text into File**"
   ]
  },
  {
   "cell_type": "code",
   "execution_count": 12,
   "metadata": {},
   "outputs": [],
   "source": [
    "f = open('myfile.txt', 'a')\n",
    "\n",
    "str_to_write = '\\nGood Night'\n",
    "f.write(str_to_write)\n",
    "\n",
    "f.close()"
   ]
  },
  {
   "cell_type": "code",
   "execution_count": 17,
   "metadata": {},
   "outputs": [
    {
     "data": {
      "text/plain": [
       "['Hello', 'Hi', 'How ru', 'Good Night']"
      ]
     },
     "execution_count": 17,
     "metadata": {},
     "output_type": "execute_result"
    }
   ],
   "source": [
    "f = open('myfile.txt', 'r')\n",
    "f.read().strip().split('\\n')"
   ]
  },
  {
   "cell_type": "markdown",
   "metadata": {},
   "source": [
    "### **Append and Read**\n",
    "\n",
    "Appending data to the file and then to display the data.For this purpose, we should open the file in 'append and read' mode as:\n",
    "\n",
    "In case, we want to move the file pointer to another position, we can use the seek() method.This method takes two arguments.\n",
    "- Here, 'offset' represents how many bytes to move. 'fromwhere' represents from which position to move.\n",
    "\n",
    "f.seek(offset, fromwhere)"
   ]
  },
  {
   "cell_type": "code",
   "execution_count": 20,
   "metadata": {},
   "outputs": [
    {
     "name": "stdout",
     "output_type": "stream",
     "text": [
      "Hello\n",
      "Hi\n",
      "How ru\n",
      "Good NightSthaya\n",
      "\n",
      "Python\n",
      "Fila Handling\n"
     ]
    }
   ],
   "source": [
    "f =open('myfile.txt','a+')\n",
    "\n",
    "str = input(\"Enter Text\")\n",
    "\n",
    "f.write(str+\"\\n\")\n",
    "\n",
    "f.seek(0)\n",
    "\n",
    "str = f.read().strip()\n",
    "print(str)\n",
    "\n",
    "f.close()"
   ]
  },
  {
   "cell_type": "markdown",
   "metadata": {},
   "source": [
    "### **Python program to copy the contents of one file to another file:**"
   ]
  },
  {
   "cell_type": "code",
   "execution_count": 21,
   "metadata": {},
   "outputs": [],
   "source": [
    "import warnings\n",
    "warnings.filterwarnings('ignore')\n",
    "\n",
    "with open('myfile.txt' ,'r') as f:\n",
    "\twith open('output.txt', 'w') as f1:\n",
    "\t\tfor line in f:\n",
    "\t\t\tf1.write(line)"
   ]
  },
  {
   "cell_type": "code",
   "execution_count": 22,
   "metadata": {},
   "outputs": [
    {
     "name": "stdout",
     "output_type": "stream",
     "text": [
      "Hello\n",
      "Hi\n",
      "How ru\n",
      "Good NightSthaya\n",
      "\n",
      "Python\n",
      "Fila Handling\n",
      "\n"
     ]
    }
   ],
   "source": [
    "f = open('output.txt', 'r')\n",
    "print(f.read())\n",
    "f.close()"
   ]
  },
  {
   "cell_type": "markdown",
   "metadata": {},
   "source": [
    "### **Deleting a File**"
   ]
  },
  {
   "cell_type": "code",
   "execution_count": 1,
   "metadata": {},
   "outputs": [],
   "source": [
    "import os\n",
    "os.remove(\"output.txt\")"
   ]
  },
  {
   "cell_type": "code",
   "execution_count": 4,
   "metadata": {},
   "outputs": [
    {
     "name": "stdout",
     "output_type": "stream",
     "text": [
      "file\n"
     ]
    }
   ],
   "source": [
    "if os.path.exists(\"myfile.txt\"):\n",
    "    print(\"file\")\n",
    "else:\n",
    "  print(\"The file does not exist\")"
   ]
  },
  {
   "cell_type": "code",
   "execution_count": 5,
   "metadata": {},
   "outputs": [
    {
     "name": "stdout",
     "output_type": "stream",
     "text": [
      "The file does not exist\n"
     ]
    }
   ],
   "source": [
    "if os.path.exists(\"output.txt\"):\n",
    "  os.remove(\"output.txt\")\n",
    "else:\n",
    "  print(\"The file does not exist\")"
   ]
  },
  {
   "cell_type": "markdown",
   "metadata": {},
   "source": [
    "### **Working with CSV Files**"
   ]
  },
  {
   "cell_type": "markdown",
   "metadata": {},
   "source": [
    "Reading a CSV file as a dictionary"
   ]
  },
  {
   "cell_type": "code",
   "execution_count": 6,
   "metadata": {},
   "outputs": [
    {
     "name": "stdout",
     "output_type": "stream",
     "text": [
      "File 'data.csv' created successfully.\n"
     ]
    }
   ],
   "source": [
    "def create_file(file_path, content):\n",
    "    with open(file_path, 'w') as file:\n",
    "        file.write(content)\n",
    "    print(f\"File '{file_path}' created successfully.\")\n",
    "\n",
    "create_file('data.csv' , 'Name,Age,city\\nJohn,25,New York\\nJane,30,Blore')"
   ]
  },
  {
   "cell_type": "code",
   "execution_count": 10,
   "metadata": {},
   "outputs": [
    {
     "name": "stdout",
     "output_type": "stream",
     "text": [
      "['Name', 'Age', 'city']\n",
      "['John', '25', 'New York']\n",
      "['Jane', '30', 'Blore']\n"
     ]
    }
   ],
   "source": [
    "import csv\n",
    "\n",
    "with open(\"data.csv\", \"r\") as file:\n",
    "    reader = csv.reader(file)\n",
    "    for row in reader:\n",
    "        print(row)\n"
   ]
  },
  {
   "cell_type": "markdown",
   "metadata": {},
   "source": [
    "Writing to a CSV file"
   ]
  },
  {
   "cell_type": "code",
   "execution_count": 11,
   "metadata": {},
   "outputs": [],
   "source": [
    "with open(\"data.csv\", \"w\", newline='') as file:\n",
    "    writer = csv.writer(file)\n",
    "    writer.writerow([\"Name\", \"Age\", \"City\"])\n",
    "    writer.writerow([\"Alice\", \"30\", \"New York\"])\n",
    "    writer.writerow([\"Bob\", \"35\", \"London\"])"
   ]
  },
  {
   "cell_type": "code",
   "execution_count": 12,
   "metadata": {},
   "outputs": [],
   "source": [
    "import csv\n",
    "\n",
    "with open(\"data.csv\", \"w\", newline='') as file:\n",
    "    writer = csv.writer(file)\n",
    "    writer.writerow([\"Name\", \"Age\", \"City\"])\n",
    "    writer.writerows([\n",
    "        [\"Alice\", \"30\", \"New York\"],\n",
    "        [\"Bob\", \"35\", \"London\"],\n",
    "        [\"Charlie\", \"25\", \"San Francisco\"]\n",
    "    ])"
   ]
  },
  {
   "cell_type": "code",
   "execution_count": 13,
   "metadata": {},
   "outputs": [],
   "source": [
    "with open(\"data.csv\", \"a\", newline='') as file:\n",
    "    writer = csv.writer(file)\n",
    "    writer.writerow([\"Xyz\", \"36\", \"Baglore\"])"
   ]
  },
  {
   "cell_type": "code",
   "execution_count": 14,
   "metadata": {},
   "outputs": [
    {
     "name": "stdout",
     "output_type": "stream",
     "text": [
      "[['Name', 'Age', 'City'], ['Alice', '30', 'New York'], ['Bob', '35', 'London'], ['Charlie', '25', 'San Francisco'], ['Xyz', '36', 'Baglore']]\n"
     ]
    }
   ],
   "source": [
    "with open(\"data.csv\", \"r\", newline='') as file:\n",
    "    reader = csv.reader(file)\n",
    "    data = list(reader)  # Reads all rows at once\n",
    "    print(data)"
   ]
  },
  {
   "cell_type": "code",
   "execution_count": 16,
   "metadata": {},
   "outputs": [
    {
     "name": "stdout",
     "output_type": "stream",
     "text": [
      "Alice 30\n",
      "Bob 35\n",
      "Charlie 25\n",
      "Xyz 36\n"
     ]
    }
   ],
   "source": [
    "with open(\"data.csv\", \"r\") as file:\n",
    "    reader = csv.DictReader(file)\n",
    "    for row in reader:\n",
    "        print(row[\"Name\"], row[\"Age\"])"
   ]
  },
  {
   "cell_type": "code",
   "execution_count": 17,
   "metadata": {},
   "outputs": [
    {
     "name": "stdout",
     "output_type": "stream",
     "text": [
      "Alice 30 New York\n",
      "Bob 35 London\n",
      "Charlie 25 San Francisco\n",
      "Xyz 36 Baglore\n"
     ]
    }
   ],
   "source": [
    "with open(\"data.csv\", \"r\") as file:\n",
    "    reader = csv.DictReader(file)\n",
    "    for row in reader:\n",
    "        print(row[\"Name\"], row[\"Age\"], row[\"City\"])"
   ]
  },
  {
   "cell_type": "code",
   "execution_count": 20,
   "metadata": {},
   "outputs": [
    {
     "name": "stdout",
     "output_type": "stream",
     "text": [
      "['New York', 'London', 'San Francisco', 'Baglore']\n"
     ]
    }
   ],
   "source": [
    "with open(\"data.csv\", \"r\", newline='') as file:\n",
    "    reader = csv.reader(file)\n",
    "    header = next(reader)  # Skip the header row if there is one\n",
    "    age_column = [row[2] for row in reader]  # Assuming \"Age\" is the second column\n",
    "    print(age_column)"
   ]
  },
  {
   "cell_type": "markdown",
   "metadata": {},
   "source": [
    "### **Working with JSON Files**\n",
    "Reading from a JSON file"
   ]
  },
  {
   "cell_type": "code",
   "execution_count": 21,
   "metadata": {},
   "outputs": [
    {
     "name": "stdout",
     "output_type": "stream",
     "text": [
      "File 'data.json' created successfully.\n"
     ]
    }
   ],
   "source": [
    "def create_file(file_path, content):\n",
    "    with open(file_path, 'w') as file:\n",
    "        file.write(content)\n",
    "    print(f\"File '{file_path}' created successfully.\")\n",
    "\n",
    "create_file('data.json', '{\"name\":\"John\", \"age\":30, \"city\":\"New York\"}')"
   ]
  },
  {
   "cell_type": "code",
   "execution_count": 22,
   "metadata": {},
   "outputs": [
    {
     "name": "stdout",
     "output_type": "stream",
     "text": [
      "{'name': 'John', 'age': 30, 'city': 'New York'}\n"
     ]
    }
   ],
   "source": [
    "import json\n",
    "\n",
    "with open(\"data.json\", \"r\") as file:\n",
    "    data = json.load(file)\n",
    "    print(data)"
   ]
  },
  {
   "cell_type": "code",
   "execution_count": 23,
   "metadata": {},
   "outputs": [],
   "source": [
    "data = [\n",
    "    {\"name\": \"Alice\", \"age\": 30, \"city\": \"New York\"},\n",
    "    {\"name\": \"Bob\", \"age\": 25, \"city\": \"Los Angeles\"},\n",
    "    {\"name\": \"Charlie\", \"age\": 35, \"city\": \"Chicago\"},\n",
    "    {\"name\": {\"First_name\":\"777\", \"Last_name\":\"Charli\"}, \"age\": 28, \"city\": \"San Francisco\"}\n",
    "]\n",
    "\n",
    "with open(\"data.json\", \"w\") as file:\n",
    "    json.dump(data, file)\n",
    "    "
   ]
  },
  {
   "cell_type": "code",
   "execution_count": 4,
   "metadata": {},
   "outputs": [
    {
     "name": "stdout",
     "output_type": "stream",
     "text": [
      "[{\"name\": \"Alice\", \"age\": 30, \"city\": \"New York\"}, {\"name\": \"Bob\", \"age\": 25, \"city\": \"Los Angeles\"}, {\"name\": \"Charlie\", \"age\": 35, \"city\": \"Chicago\"}, {\"name\": {\"First_name\": \"777\", \"Last_name\": \"Charli\"}, \"age\": 28, \"city\": \"San Francisco\"}]\n"
     ]
    }
   ],
   "source": [
    "with open(\"data.json\", \"r\") as f:\n",
    "    data = f.read()\n",
    "    print(data)"
   ]
  },
  {
   "cell_type": "code",
   "execution_count": 5,
   "metadata": {},
   "outputs": [
    {
     "name": "stdout",
     "output_type": "stream",
     "text": [
      "[{'name': 'Alice', 'age': 30, 'city': 'New York'}, {'name': 'Bob', 'age': 25, 'city': 'Los Angeles'}, {'name': 'Charlie', 'age': 35, 'city': 'Chicago'}, {'name': {'First_name': '777', 'Last_name': 'Charli'}, 'age': 28, 'city': 'San Francisco'}]\n"
     ]
    }
   ],
   "source": [
    "with open(\"data.json\", \"r\") as f:\n",
    "    data = json.load(f)\n",
    "    print(data)"
   ]
  },
  {
   "cell_type": "code",
   "execution_count": 25,
   "metadata": {},
   "outputs": [
    {
     "name": "stdout",
     "output_type": "stream",
     "text": [
      "Alice\n",
      "Bob\n",
      "Charlie\n",
      "{'First_name': '777', 'Last_name': 'Charli'}\n"
     ]
    }
   ],
   "source": [
    "# Load data from the JSON file\n",
    "with open(\"data.json\", \"r\") as file:\n",
    "    data = json.load(file)\n",
    "\n",
    "# Access and print the 'city' for each person\n",
    "for person in data:\n",
    "    print(person[\"name\"])"
   ]
  },
  {
   "cell_type": "code",
   "execution_count": 26,
   "metadata": {},
   "outputs": [
    {
     "name": "stdout",
     "output_type": "stream",
     "text": [
      "777\n"
     ]
    }
   ],
   "source": [
    "# Load data from the JSON file\n",
    "with open(\"data.json\", \"r\") as file:\n",
    "    data = json.load(file)\n",
    "\n",
    "# Access the 'city' of the first person\n",
    "city_of_first_person = data[3][\"name\"]['First_name']\n",
    "print(city_of_first_person)"
   ]
  },
  {
   "cell_type": "code",
   "execution_count": 27,
   "metadata": {},
   "outputs": [],
   "source": [
    "new_entry = [{\"name\": \"Python\", \"age\": 31, \"city\": \"Bangalore\"}]\n",
    "data.append(new_entry)\n",
    "\n",
    "with open(\"data.json\", \"w\") as file:\n",
    "    json.dump(data, file)"
   ]
  },
  {
   "cell_type": "code",
   "execution_count": 32,
   "metadata": {},
   "outputs": [
    {
     "name": "stdout",
     "output_type": "stream",
     "text": [
      "{'name': 'Alice', 'age': 30, 'city': 'New York'}\n",
      "{'name': 'Bob', 'age': 25, 'city': 'Los Angeles'}\n",
      "{'name': 'Charlie', 'age': 35, 'city': 'Chicago'}\n",
      "{'name': {'First_name': '777', 'Last_name': 'Charli'}, 'age': 28, 'city': 'San Francisco'}\n",
      "[{'name': 'Python', 'age': 31, 'city': 'Bangalore'}]\n"
     ]
    }
   ],
   "source": [
    "with open(\"data.json\", \"r\") as file:\n",
    "    data = json.load(file)  # Parse the JSON array\n",
    "    for item in data:\n",
    "        print(item)  # Print each item in the array"
   ]
  },
  {
   "cell_type": "markdown",
   "metadata": {},
   "source": [
    "### **File Handling With Exception**"
   ]
  },
  {
   "cell_type": "code",
   "execution_count": 33,
   "metadata": {},
   "outputs": [
    {
     "name": "stdout",
     "output_type": "stream",
     "text": [
      "File not found at path: D:\\Python\\Python Basics\\9.File_Handling\\myfile1.txt\n"
     ]
    }
   ],
   "source": [
    "def read():\n",
    "    file_path = r'D:\\Python\\Python Basics\\9.File_Handling\\myfile1.txt'\n",
    "    \n",
    "    try:\n",
    "        with open(file_path, 'r') as f:\n",
    "            lines = f.readlines()\n",
    "            if not lines:\n",
    "                print(\"The file is empty.\")\n",
    "            else:\n",
    "                print(\"File content:\")\n",
    "                for line in lines:\n",
    "                    print(line.strip())  # strip() removes leading and trailing whitespaces\n",
    "    except FileNotFoundError:\n",
    "        print(f\"File not found at path: {file_path}\")\n",
    "    except Exception as e:\n",
    "        print(f\"An error occurred: {e}\")\n",
    "\n",
    "# Example usage\n",
    "read()\n"
   ]
  }
 ],
 "metadata": {
  "kernelspec": {
   "display_name": "Python 3",
   "language": "python",
   "name": "python3"
  },
  "language_info": {
   "codemirror_mode": {
    "name": "ipython",
    "version": 3
   },
   "file_extension": ".py",
   "mimetype": "text/x-python",
   "name": "python",
   "nbconvert_exporter": "python",
   "pygments_lexer": "ipython3",
   "version": "3.13.0"
  }
 },
 "nbformat": 4,
 "nbformat_minor": 2
}
