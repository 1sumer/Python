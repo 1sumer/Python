{
 "cells": [
  {
   "cell_type": "markdown",
   "metadata": {},
   "source": [
    "### Regular expression"
   ]
  },
  {
   "cell_type": "markdown",
   "metadata": {},
   "source": [
    "A RegEx is a powerful tool for matching text, based on a pre-defined pattern. It can detect the presence or absence of a text by matching it with a particular pattern, and also can split a pattern into one or more sub-patterns. The Python standard library provides a re module for regular expressions"
   ]
  },
  {
   "cell_type": "code",
   "execution_count": 1,
   "metadata": {},
   "outputs": [
    {
     "name": "stdout",
     "output_type": "stream",
     "text": [
      "<re.Match object; span=(36, 42), match='portal'>\n",
      "portal\n",
      "Start Index: 36\n",
      "End Index: 42\n"
     ]
    }
   ],
   "source": [
    "import re \n",
    "\n",
    "match = re.search(r'portal', 'GeeksforGeeks: A computer science \\ portal for geeks') \n",
    "print(match) \n",
    "print(match.group()) \n",
    "\n",
    "print('Start Index:', match.start()) \n",
    "print('End Index:', match.end()) "
   ]
  },
  {
   "cell_type": "markdown",
   "metadata": {},
   "source": [
    "### Why RegEx?\n",
    "- Data Mining: Regular expression is the best tool for data mining. It efficiently identifies a text in a heap of text by checking with a pre-defined pattern.\n",
    "- Data Validation: Regular expression can perfectly validate data. It can include a wide array of validation processes by defining different sets of patterns."
   ]
  },
  {
   "cell_type": "markdown",
   "metadata": {},
   "source": [
    "### Basic RegEx\n",
    "- Character Classes\n",
    "- Rangers\n",
    "- Negation\n",
    "- Shortcuts\n",
    "- Beginning and End of String\n",
    "- Any Character"
   ]
  },
  {
   "cell_type": "code",
   "execution_count": 2,
   "metadata": {},
   "outputs": [
    {
     "name": "stdout",
     "output_type": "stream",
     "text": [
      "['Geeks', 'Geeks', 'geeks']\n"
     ]
    }
   ],
   "source": [
    "import re \n",
    "\n",
    "print(re.findall(r'[Gg]eeks', 'GeeksforGeeks: \\ A computer science portal for geeks'))"
   ]
  },
  {
   "cell_type": "code",
   "execution_count": 6,
   "metadata": {},
   "outputs": [
    {
     "name": "stdout",
     "output_type": "stream",
     "text": [
      "Range <re.Match object; span=(0, 1), match='G'>\n"
     ]
    }
   ],
   "source": [
    "import re \n",
    " \n",
    "print('Range',re.search(r'[a-zA-Z]', 'Geeks'))"
   ]
  },
  {
   "cell_type": "markdown",
   "metadata": {},
   "source": [
    "- \\A Matches if the string begins with the given character\n",
    "- \\b Matches if the word begins or ends with the given character.\n",
    "- \\B It is the opposite of the \\b i.e. the string should not start or end with the given regex.\n",
    "- \\d Matches any decimal digit, this is equivalent to the set class [0-9]\n",
    "- \\D Matches any non-digit character, this is equivalent to the set class [^0-9]\n",
    "- \\s Matches any whitespace character.\n",
    "- \\S Matches any non-whitespace character.\n",
    "- \\w Matches any alphanumeric character.\n",
    "- \\W Matches any non-alphanumeric character.\n",
    "- \\Z Matches if the string ends with the given regex"
   ]
  },
  {
   "cell_type": "code",
   "execution_count": 12,
   "metadata": {},
   "outputs": [
    {
     "name": "stdout",
     "output_type": "stream",
     "text": [
      "Geeks: <re.Match object; span=(0, 5), match='Geeks'>\n",
      "GeeksforGeeks: <re.Match object; span=(8, 13), match='Geeks'>\n"
     ]
    }
   ],
   "source": [
    "import re \n",
    "\n",
    "print('Geeks:', re.search(r'\\bGeeks\\b', 'Geeks')) \n",
    "print('GeeksforGeeks:', re.search(r'\\BGeeks\\b', 'GeeksforGeeks')) "
   ]
  },
  {
   "cell_type": "code",
   "execution_count": 16,
   "metadata": {},
   "outputs": [
    {
     "name": "stdout",
     "output_type": "stream",
     "text": [
      "Beg. of String: None\n",
      "Beg. of String: <re.Match object; span=(0, 4), match='Geek'>\n",
      "End of String: <re.Match object; span=(31, 36), match='Geeks'>\n"
     ]
    }
   ],
   "source": [
    "import re \n",
    "\n",
    "# Beginning of String \n",
    "match = re.search(r'^month', 'Campus Geek of the month') \n",
    "print('Beg. of String:', match) \n",
    "\n",
    "match = re.search(r'^Geek', 'Geek of the month') \n",
    "print('Beg. of String:', match) \n",
    "\n",
    "# End of String \n",
    "match = re.search(r'Geeks$', 'Compute science portal-GeeksforGeeks') \n",
    "print('End of String:', match) \n"
   ]
  },
  {
   "cell_type": "code",
   "execution_count": 17,
   "metadata": {},
   "outputs": [
    {
     "name": "stdout",
     "output_type": "stream",
     "text": [
      "Any Character <re.Match object; span=(0, 6), match='python'>\n"
     ]
    }
   ],
   "source": [
    "import re \n",
    "\n",
    "print('Any Character', re.search(r'p.th.n', 'python 3'))"
   ]
  },
  {
   "cell_type": "code",
   "execution_count": 19,
   "metadata": {},
   "outputs": [
    {
     "name": "stdout",
     "output_type": "stream",
     "text": [
      "Three Digit: <re.Match object; span=(0, 3), match='189'>\n",
      "Four Digit: <re.Match object; span=(0, 4), match='2145'>\n"
     ]
    }
   ],
   "source": [
    "import re \n",
    "\n",
    "print('Three Digit:', re.search(r'[\\d]{3,4}', '189')) \n",
    "print('Four Digit:', re.search(r'[\\d]{3,4}', '2145')) \n"
   ]
  },
  {
   "cell_type": "code",
   "execution_count": 45,
   "metadata": {},
   "outputs": [
    {
     "name": "stdout",
     "output_type": "stream",
     "text": [
      "Date{mm-dd-yyyy}: <re.Match object; span=(0, 10), match='18-08-2020'>\n",
      "<re.Match object; span=(0, 10), match='26-08-2020'>\n",
      "26\n",
      "('26', '08', '2020')\n"
     ]
    }
   ],
   "source": [
    "import re \n",
    "\n",
    "print('Date{mm-dd-yyyy}:', re.search(r'[\\d]{2}-[\\d]{2}-[\\d]{4}','18-08-2020')) \n",
    "\n",
    "grp = re.search(r'([\\d]{2})-([\\d]{2})-([\\d]{4})', '26-08-2020') \n",
    "print(grp) \n",
    "print(grp.group(1))\n",
    "print(grp.groups())\n"
   ]
  },
  {
   "cell_type": "code",
   "execution_count": 47,
   "metadata": {},
   "outputs": [
    {
     "name": "stdout",
     "output_type": "stream",
     "text": [
      "08\n",
      "{'dd': '26', 'mm': '08', 'yyyy': '2020'}\n"
     ]
    }
   ],
   "source": [
    "match = re.search(r'(?P<dd>[\\d]{2})-(?P<mm>[\\d]{2})-(?P<yyyy>[\\d]{4})', '26-08-2020') \n",
    "print(match.group('mm')) \n",
    "print(match.groupdict()) "
   ]
  },
  {
   "cell_type": "code",
   "execution_count": 26,
   "metadata": {},
   "outputs": [
    {
     "name": "stdout",
     "output_type": "stream",
     "text": [
      "<re.Match object; span=(13, 16), match='118'>\n"
     ]
    }
   ],
   "source": [
    "import re \n",
    "\n",
    "print(re.search(r'[\\d]{3,}','5th Floor, A-118,\\ Sector-136, Noida, Uttar Pradesh - 201305'))"
   ]
  },
  {
   "cell_type": "code",
   "execution_count": 37,
   "metadata": {},
   "outputs": [
    {
     "name": "stdout",
     "output_type": "stream",
     "text": [
      "<re.Match object; span=(54, 57), match='201'>\n"
     ]
    }
   ],
   "source": [
    "import re \n",
    "\n",
    "print(re.search(r'[\\d]+[\\d]+1', '5th Floor, A-118,\\ Sector-136, Noida, Uttar Pradesh - 201305'))"
   ]
  },
  {
   "cell_type": "markdown",
   "metadata": {},
   "source": [
    "### Substitution"
   ]
  },
  {
   "cell_type": "code",
   "execution_count": 48,
   "metadata": {},
   "outputs": [
    {
     "name": "stdout",
     "output_type": "stream",
     "text": [
      "1111222233334444\n"
     ]
    }
   ],
   "source": [
    "import re \n",
    "\n",
    "print(re.sub(r'([\\d]{4})-([\\d]{4})-([\\d]{4})-([\\d]{4})',r'\\1\\2\\3\\4', '1111-2222-3333-4444')) "
   ]
  }
 ],
 "metadata": {
  "kernelspec": {
   "display_name": "Python 3",
   "language": "python",
   "name": "python3"
  },
  "language_info": {
   "codemirror_mode": {
    "name": "ipython",
    "version": 3
   },
   "file_extension": ".py",
   "mimetype": "text/x-python",
   "name": "python",
   "nbconvert_exporter": "python",
   "pygments_lexer": "ipython3",
   "version": "3.11.3"
  }
 },
 "nbformat": 4,
 "nbformat_minor": 2
}
