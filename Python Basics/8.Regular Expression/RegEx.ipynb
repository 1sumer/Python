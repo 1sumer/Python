{
 "cells": [
  {
   "cell_type": "markdown",
   "metadata": {},
   "source": [
    "### **Regular expression**"
   ]
  },
  {
   "cell_type": "markdown",
   "metadata": {},
   "source": [
    "A RegEx is a powerful tool for matching text, based on a pre-defined pattern. It can detect the presence or absence of a text by matching it with a particular pattern, and also can split a pattern into one or more sub-patterns. The Python standard library provides a re module for regular expressions"
   ]
  },
  {
   "cell_type": "code",
   "execution_count": 2,
   "metadata": {},
   "outputs": [],
   "source": [
    "import re \n",
    "\n",
    "import warnings\n",
    "warnings.filterwarnings(\"ignore\")"
   ]
  },
  {
   "cell_type": "markdown",
   "metadata": {},
   "source": [
    "### **Match Object**\n",
    "a match object is returned by various functions like re.match(), re.search(), and re.findall() when a pattern is found in a string. The match object contains information about the match, such as the matching substring, the start and end positions of the match, and any captured groups\n",
    "\n",
    "The Match object has properties and methods used to retrieve information about the search, and the result:\n",
    "- span() returns a tuple containing the start-, and end positions of the match.\n",
    "- string returns the string passed into the function\n",
    "- group() returns the part of the string where there was a match"
   ]
  },
  {
   "cell_type": "code",
   "execution_count": 19,
   "metadata": {},
   "outputs": [
    {
     "name": "stdout",
     "output_type": "stream",
     "text": [
      "<re.Match object; span=(36, 42), match='portal'>\n",
      "portal\n",
      "Start Index: 36\n",
      "End Index: 42\n"
     ]
    }
   ],
   "source": [
    "match = re.search(r'portal', 'GeeksforGeeks: A computer science \\ portal for geeks') \n",
    "print(match) \n",
    "print(match.group()) \n",
    "\n",
    "print('Start Index:', match.start()) \n",
    "print('End Index:', match.end()) "
   ]
  },
  {
   "cell_type": "code",
   "execution_count": 3,
   "metadata": {},
   "outputs": [
    {
     "name": "stdout",
     "output_type": "stream",
     "text": [
      "<re.Match object; span=(47, 52), match='geeks'>\n",
      "geeks\n"
     ]
    }
   ],
   "source": [
    "match = re.search(r'geeks', 'GeeksforGeeks: A computer science \\ portal for geeks') \n",
    "print(match) \n",
    "print(match.group())"
   ]
  },
  {
   "cell_type": "markdown",
   "metadata": {},
   "source": [
    "### **Why RegEx?**\n",
    "- Data Mining: Regular expression is the best tool for data mining. It efficiently identifies a text in a heap of text by checking with a pre-defined pattern.\n",
    "- Data Validation: Regular expression can perfectly validate data. It can include a wide array of validation processes by defining different sets of patterns."
   ]
  },
  {
   "cell_type": "markdown",
   "metadata": {},
   "source": [
    "### **Basic RegEx**\n",
    "- Literal Characters\n",
    "- Metacharacters\n",
    "- Character Classes\n",
    "- Quantifiers\n",
    "- Anchors\n",
    "- Escape Sequences"
   ]
  },
  {
   "cell_type": "code",
   "execution_count": 4,
   "metadata": {},
   "outputs": [
    {
     "name": "stdout",
     "output_type": "stream",
     "text": [
      "['Geeks', 'Geeks', 'geeks']\n"
     ]
    }
   ],
   "source": [
    "print(re.findall(r'[Gg]eeks', 'GeeksforGeeks: \\ A computer science portal for geeks'))"
   ]
  },
  {
   "cell_type": "markdown",
   "metadata": {},
   "source": [
    "#### **Escape Sequences:**\n",
    " \n",
    "Regular expressions support various escape sequences that represent special characters or character classes. Some commonly used escape sequences are\n",
    "\n",
    "- \\A Matches if the string begins with the given character\n",
    "- \\b Matches if the word begins or ends with the given character.\n",
    "- \\B It is the opposite of the \\b i.e. the string should not start or end with the given regex.\n",
    "- \\d Matches any decimal digit, this is equivalent to the set class [0-9]\n",
    "- \\D Matches any non-digit character, this is equivalent to the set class [^0-9]\n",
    "- \\s Matches any whitespace character.\n",
    "- \\S Matches any non-whitespace character.\n",
    "- \\w Matches any alphanumeric character.\n",
    "- \\W Matches any non-alphanumeric character.\n",
    "- \\Z Matches if the string ends with the given regex\n",
    "- \\n: Matches a newline character."
   ]
  },
  {
   "cell_type": "markdown",
   "metadata": {},
   "source": [
    "- **re.findall()** - it is commonly used to extract multiple occurrences of a pattern from a string\n",
    "\n",
    "<code>Syntax: findall(pattern, string, flags=0[optional])</code>\n"
   ]
  },
  {
   "cell_type": "code",
   "execution_count": 6,
   "metadata": {},
   "outputs": [
    {
     "name": "stdout",
     "output_type": "stream",
     "text": [
      "<re.Match object; span=(0, 5), match='Hello'>\n",
      "True\n"
     ]
    }
   ],
   "source": [
    "text = \"Hello, world!\"\n",
    "pattern = r'\\AHello'\n",
    "\n",
    "match = re.match(pattern, text)\n",
    "print(match)\n",
    "print(bool(match))"
   ]
  },
  {
   "cell_type": "code",
   "execution_count": 7,
   "metadata": {},
   "outputs": [
    {
     "name": "stdout",
     "output_type": "stream",
     "text": [
      "['Hello', 'Hello']\n"
     ]
    }
   ],
   "source": [
    "text = \"Hello, world! Hello again.\"\n",
    "pattern = r'\\bHello\\b'\n",
    "\n",
    "matches = re.findall(pattern, text)\n",
    "print(matches)"
   ]
  },
  {
   "cell_type": "code",
   "execution_count": 23,
   "metadata": {},
   "outputs": [
    {
     "name": "stdout",
     "output_type": "stream",
     "text": [
      "['Hell']\n"
     ]
    }
   ],
   "source": [
    "text = \"Hello, world!Shell\"\n",
    "pattern = r'hell\\B'\n",
    "\n",
    "matches = re.findall(pattern, text, re.IGNORECASE)\n",
    "print(matches)"
   ]
  },
  {
   "cell_type": "code",
   "execution_count": 24,
   "metadata": {},
   "outputs": [
    {
     "name": "stdout",
     "output_type": "stream",
     "text": [
      "['hell']\n"
     ]
    }
   ],
   "source": [
    "text = \"Hello, world!Shell\"\n",
    "pattern = r'\\Bhell'\n",
    "\n",
    "matches = re.findall(pattern, text, re.IGNORECASE)\n",
    "print(matches)"
   ]
  },
  {
   "cell_type": "code",
   "execution_count": 36,
   "metadata": {},
   "outputs": [
    {
     "name": "stdout",
     "output_type": "stream",
     "text": [
      "['1', '2', '3']\n"
     ]
    }
   ],
   "source": [
    "text = \"There are 123 apples.\"\n",
    "pattern = r'\\d'\n",
    "\n",
    "matches = re.findall(pattern, text)\n",
    "print(matches)"
   ]
  },
  {
   "cell_type": "code",
   "execution_count": 37,
   "metadata": {},
   "outputs": [
    {
     "name": "stdout",
     "output_type": "stream",
     "text": [
      "['T', 'h', 'e', 'r', 'e', ' ', 'a', 'r', 'e', ' ', ' ', 'a', 'p', 'p', 'l', 'e', 's', '.']\n"
     ]
    }
   ],
   "source": [
    "text = \"There are 123 apples.\"\n",
    "pattern = r'\\D'\n",
    "\n",
    "matches = re.findall(pattern, text)\n",
    "print(matches)"
   ]
  },
  {
   "cell_type": "code",
   "execution_count": 13,
   "metadata": {},
   "outputs": [
    {
     "name": "stdout",
     "output_type": "stream",
     "text": [
      "True\n"
     ]
    }
   ],
   "source": [
    "text = \"Hello, world!\"\n",
    "pattern = r'\\s'\n",
    "\n",
    "matches = re.findall(pattern, text)\n",
    "print(bool(matches))"
   ]
  },
  {
   "cell_type": "code",
   "execution_count": 14,
   "metadata": {},
   "outputs": [
    {
     "name": "stdout",
     "output_type": "stream",
     "text": [
      "['H', 'e', 'l', 'l', 'o', ',', 'w', 'o', 'r', 'l', 'd', '!']\n"
     ]
    }
   ],
   "source": [
    "text = \"Hello, world!\"\n",
    "pattern = r'\\S'\n",
    "\n",
    "matches = re.findall(pattern, text)\n",
    "print(matches)"
   ]
  },
  {
   "cell_type": "code",
   "execution_count": 21,
   "metadata": {},
   "outputs": [
    {
     "name": "stdout",
     "output_type": "stream",
     "text": [
      "H\n",
      "e\n",
      "l\n",
      "l\n",
      "o\n",
      "w\n",
      "o\n",
      "r\n",
      "l\n",
      "d\n",
      "1\n",
      "2\n",
      "3\n"
     ]
    }
   ],
   "source": [
    "text = \"Hello, world! 123\"\n",
    "pattern = r'\\w'\n",
    "\n",
    "matches = re.findall(pattern, text)\n",
    "for i in matches:\n",
    "    print(','.join(i))"
   ]
  },
  {
   "cell_type": "code",
   "execution_count": 17,
   "metadata": {},
   "outputs": [
    {
     "name": "stdout",
     "output_type": "stream",
     "text": [
      "['#', ',', ' ', '!']\n"
     ]
    }
   ],
   "source": [
    "text = \"#Hello, world!\"\n",
    "pattern = r'\\W'\n",
    "\n",
    "matches = re.findall(pattern, text)\n",
    "print(matches)"
   ]
  },
  {
   "cell_type": "code",
   "execution_count": 28,
   "metadata": {},
   "outputs": [
    {
     "name": "stdout",
     "output_type": "stream",
     "text": [
      "efficiently: ['efficiently']\n"
     ]
    }
   ],
   "source": [
    "print('efficiently:', re.findall(r'\\befficiently\\b', 'Regular expression is the best tool for data mining. It efficiently identifies a text in a heap of text by checking with a pre-defined pattern')) "
   ]
  },
  {
   "cell_type": "markdown",
   "metadata": {},
   "source": [
    "**search() Function**\n",
    "\n",
    "- function is used to search for a pattern anywhere within a string. It looks for the first occurrence of the pattern and returns a match object if found."
   ]
  },
  {
   "cell_type": "code",
   "execution_count": 29,
   "metadata": {},
   "outputs": [
    {
     "name": "stdout",
     "output_type": "stream",
     "text": [
      "GeeksforGeeks: <re.Match object; span=(8, 13), match='Geeks'>\n"
     ]
    }
   ],
   "source": [
    "print('GeeksforGeeks:', re.search(r'\\BGeeks\\b', 'GeeksforGeeks')) "
   ]
  },
  {
   "cell_type": "code",
   "execution_count": 27,
   "metadata": {},
   "outputs": [
    {
     "name": "stdout",
     "output_type": "stream",
     "text": [
      "jack@somehost.com\n"
     ]
    }
   ],
   "source": [
    "s = \"jack email is jack@somehost.com\"\n",
    "match = re.search(r'[\\w.-]+@[\\w.-]+', s)\n",
    "# the above regular expression will match a email address\n",
    "if match:\n",
    " print(match.group())\n",
    "else:\n",
    " print(\"match not found\")"
   ]
  },
  {
   "cell_type": "code",
   "execution_count": 28,
   "metadata": {},
   "outputs": [
    {
     "name": "stdout",
     "output_type": "stream",
     "text": [
      "jack@somehost.com\n",
      "jack\n",
      "somehost.com\n"
     ]
    }
   ],
   "source": [
    "s = \"jack email is jack@somehost.com\"\n",
    "match = re.search('([\\w.-]+)@([\\w.-]+)', s)\n",
    "if match:\n",
    " print(match.group()) ## tim@somehost.com (the whole match)\n",
    " print(match.group(1)) ## tim (the username, group 1)\n",
    " print(match.group(2)) ## somehost (the host, group 2)"
   ]
  },
  {
   "cell_type": "markdown",
   "metadata": {},
   "source": [
    "### **Metacharacters:** \n",
    "Regular expressions also include metacharacters that have special meanings and functions. Some common metacharacters are:\n",
    "\n",
    "- . (dot): Matches any character except newline.\n",
    "- ^ (caret): Matches the start of a line.\n",
    "- $ (dollar): Matches the end of a line.\n",
    "- ' * ' (asterisk): Matches zero or more occurrences of the preceding character or group.\n",
    "- ' + ' (plus): Matches one or more occurrences of the preceding character or group.\n",
    "- ? (question mark): Matches zero or one occurrence of the preceding character or group.\n",
    "- \\ (backslash): Escapes a metacharacter, treating it as a literal character."
   ]
  },
  {
   "cell_type": "code",
   "execution_count": 11,
   "metadata": {},
   "outputs": [
    {
     "name": "stdout",
     "output_type": "stream",
     "text": [
      "hello\n",
      "Any Character <re.Match object; span=(8, 15), match='science'>\n"
     ]
    }
   ],
   "source": [
    "# Matches any character except newline\n",
    "text = \"hello world\"\n",
    "pattern = r\"h.llo\"\n",
    "match = re.search(pattern, text)\n",
    "print(match.group())\n",
    "\n",
    "print('Any Character', re.search(r's.i.nc.', 'Compute science portal-GeeksforGeeks'))"
   ]
  },
  {
   "cell_type": "code",
   "execution_count": 8,
   "metadata": {},
   "outputs": [
    {
     "name": "stdout",
     "output_type": "stream",
     "text": [
      "hello\n",
      "Beg. of String: None\n",
      "Beg. of String: <re.Match object; span=(0, 4), match='Geek'>\n"
     ]
    }
   ],
   "source": [
    "# Matches the start of a line\n",
    "text = \"hello world\"\n",
    "pattern = r\"^hello\"\n",
    "match = re.search(pattern, text)\n",
    "print(match.group())\n",
    "\n",
    "# Beginning of String \n",
    "match = re.search(r'^month', 'Campus Geek of the month') \n",
    "print('Beg. of String:', match)\n",
    "\n",
    "match = re.search(r'^Geek', 'Geek of the month') \n",
    "print('Beg. of String:', match)"
   ]
  },
  {
   "cell_type": "code",
   "execution_count": 10,
   "metadata": {},
   "outputs": [
    {
     "name": "stdout",
     "output_type": "stream",
     "text": [
      "world\n",
      "End of String: <re.Match object; span=(31, 36), match='Geeks'>\n"
     ]
    }
   ],
   "source": [
    "#Matches the end of a line\n",
    "text = \"hello world\"\n",
    "pattern = r\"world$\"\n",
    "match = re.search(pattern, text)\n",
    "print(match.group())\n",
    "\n",
    "# End of String \n",
    "match = re.search(r'Geeks$', 'Compute science portal-GeeksforGeeks') \n",
    "print('End of String:', match) "
   ]
  },
  {
   "cell_type": "code",
   "execution_count": 12,
   "metadata": {},
   "outputs": [
    {
     "name": "stdout",
     "output_type": "stream",
     "text": [
      "heeeello\n"
     ]
    }
   ],
   "source": [
    "# Matches zero or more occurrences of the preceding character or group\n",
    "text = \"heeeello\"\n",
    "pattern = r\"he*llo\"\n",
    "match = re.search(pattern, text)\n",
    "print(match.group())"
   ]
  },
  {
   "cell_type": "code",
   "execution_count": 13,
   "metadata": {},
   "outputs": [
    {
     "name": "stdout",
     "output_type": "stream",
     "text": [
      "heeeello\n"
     ]
    }
   ],
   "source": [
    "# Matches one or more occurrences of the preceding character or group\n",
    "\n",
    "text = \"heeeello\"\n",
    "pattern = r\"he+llo\"\n",
    "match = re.search(pattern, text)\n",
    "print(match.group())"
   ]
  },
  {
   "cell_type": "code",
   "execution_count": 14,
   "metadata": {},
   "outputs": [
    {
     "name": "stdout",
     "output_type": "stream",
     "text": [
      "hello\n"
     ]
    }
   ],
   "source": [
    "# Matches zero or one occurrence of the preceding character or group\n",
    "text = \"hello\"\n",
    "pattern = r\"he?llo\"\n",
    "match = re.search(pattern, text)\n",
    "print(match.group())  # Output: hello\n"
   ]
  },
  {
   "cell_type": "code",
   "execution_count": 15,
   "metadata": {},
   "outputs": [
    {
     "name": "stdout",
     "output_type": "stream",
     "text": [
      "$5\n"
     ]
    }
   ],
   "source": [
    "# Escapes a metacharacter, treating it as a literal character\n",
    "\n",
    "text = \"Do you have $5?\"\n",
    "pattern = r\"\\$5\"\n",
    "match = re.search(pattern, text)\n",
    "print(match.group())"
   ]
  },
  {
   "cell_type": "markdown",
   "metadata": {},
   "source": [
    "### **Character Classes:** \n",
    "\n",
    "Character classes allow you to define a set of characters that can match at a certain position in a string. Some common character classes include:\n",
    "- [abc]: Matches any character a, b, or c.\n",
    "- [a-z]: Matches any lowercase letter.\n",
    "- [A-Z]: Matches any uppercase letter.\n",
    "- [0-9]: Matches any digit.\n",
    "- [^abc]: Matches any character except a, b, or c\n"
   ]
  },
  {
   "cell_type": "code",
   "execution_count": 16,
   "metadata": {},
   "outputs": [
    {
     "name": "stdout",
     "output_type": "stream",
     "text": [
      "['a', 'b', 'a', 'a', 'a', 'c']\n"
     ]
    }
   ],
   "source": [
    "\n",
    "text = \"apple banana cherry\"\n",
    "pattern = r\"[abc]\"\n",
    "matches = re.findall(pattern, text)\n",
    "print(matches)"
   ]
  },
  {
   "cell_type": "code",
   "execution_count": 17,
   "metadata": {},
   "outputs": [
    {
     "name": "stdout",
     "output_type": "stream",
     "text": [
      "['e', 'l', 'l', 'o', 'o', 'r', 'l', 'd']\n"
     ]
    }
   ],
   "source": [
    "text = \"Hello World\"\n",
    "pattern = r\"[a-z]\"\n",
    "matches = re.findall(pattern, text)\n",
    "print(matches)"
   ]
  },
  {
   "cell_type": "code",
   "execution_count": 18,
   "metadata": {},
   "outputs": [
    {
     "name": "stdout",
     "output_type": "stream",
     "text": [
      "['H', 'W']\n"
     ]
    }
   ],
   "source": [
    "text = \"Hello World\"\n",
    "pattern = r\"[A-Z]\"\n",
    "matches = re.findall(pattern, text)\n",
    "print(matches)"
   ]
  },
  {
   "cell_type": "code",
   "execution_count": 20,
   "metadata": {},
   "outputs": [
    {
     "name": "stdout",
     "output_type": "stream",
     "text": [
      "['1', '2', '3', '4', '5']\n"
     ]
    }
   ],
   "source": [
    "text = \"Order number: 12345\"\n",
    "pattern = r\"[0-9]\"\n",
    "matches = re.findall(pattern, text)\n",
    "print(matches)"
   ]
  },
  {
   "cell_type": "code",
   "execution_count": 26,
   "metadata": {},
   "outputs": [
    {
     "data": {
      "text/plain": [
       "['123']"
      ]
     },
     "execution_count": 26,
     "metadata": {},
     "output_type": "execute_result"
    }
   ],
   "source": [
    "re.findall(r'[0-9]+', 'abc123xyz')"
   ]
  },
  {
   "cell_type": "code",
   "execution_count": 21,
   "metadata": {},
   "outputs": [
    {
     "name": "stdout",
     "output_type": "stream",
     "text": [
      "['p', 'p', 'l', 'e', ' ', 'n', 'n', ' ', 'h', 'e', 'r', 'r', 'y']\n"
     ]
    }
   ],
   "source": [
    "# Matches any character except a, b, or c\n",
    "text = \"apple banana cherry\"\n",
    "pattern = r\"[^abc]\"\n",
    "matches = re.findall(pattern, text)\n",
    "print(matches)"
   ]
  },
  {
   "cell_type": "markdown",
   "metadata": {},
   "source": [
    "### **Quantifiers:**\n",
    "Quantifiers specify how many times a character or group can occur. Some commonly used quantifiers are:\n",
    "- {n}: Matches exactly n occurrences of the preceding character or group.\n",
    "- {n,}: Matches n or more occurrences of the preceding character or group.\n",
    "- {n,m}: Matches between n and m occurrences of the preceding character or group.\n",
    "- ?: Equivalent to {0,1}, matches zero or one occurrence.\n"
   ]
  },
  {
   "cell_type": "code",
   "execution_count": 22,
   "metadata": {},
   "outputs": [
    {
     "name": "stdout",
     "output_type": "stream",
     "text": [
      "ooo\n"
     ]
    }
   ],
   "source": [
    "text = \"hellooo\"\n",
    "pattern = r\"o{3}\"\n",
    "match = re.search(pattern, text)\n",
    "print(match.group())"
   ]
  },
  {
   "cell_type": "code",
   "execution_count": 23,
   "metadata": {},
   "outputs": [
    {
     "name": "stdout",
     "output_type": "stream",
     "text": [
      "oooooo\n"
     ]
    }
   ],
   "source": [
    "text = \"helloooooo\"\n",
    "pattern = r\"o{3,}\"\n",
    "match = re.search(pattern, text)\n",
    "print(match.group())"
   ]
  },
  {
   "cell_type": "code",
   "execution_count": 24,
   "metadata": {},
   "outputs": [
    {
     "name": "stdout",
     "output_type": "stream",
     "text": [
      "ooooo\n"
     ]
    }
   ],
   "source": [
    "text = \"helloooooo\"\n",
    "pattern = r\"o{3,5}\"\n",
    "match = re.search(pattern, text)\n",
    "print(match.group())"
   ]
  },
  {
   "cell_type": "code",
   "execution_count": 25,
   "metadata": {},
   "outputs": [
    {
     "name": "stdout",
     "output_type": "stream",
     "text": [
      "['color', 'colour']\n"
     ]
    }
   ],
   "source": [
    "text = \"color or colour\"\n",
    "pattern = r\"colou?r\"\n",
    "matches = re.findall(pattern, text)\n",
    "print(matches)"
   ]
  },
  {
   "cell_type": "code",
   "execution_count": 27,
   "metadata": {},
   "outputs": [
    {
     "name": "stdout",
     "output_type": "stream",
     "text": [
      "08\n",
      "{'dd': '26', 'mm': '08', 'yyyy': '2020'}\n"
     ]
    }
   ],
   "source": [
    "match = re.search(r'(?P<dd>[\\d]{2})-(?P<mm>[\\d]{2})-(?P<yyyy>[\\d]{4})', '26-08-2020') \n",
    "print(match.group('mm')) \n",
    "print(match.groupdict()) "
   ]
  },
  {
   "cell_type": "code",
   "execution_count": 51,
   "metadata": {},
   "outputs": [
    {
     "name": "stdout",
     "output_type": "stream",
     "text": [
      "26-08-2020\n"
     ]
    }
   ],
   "source": [
    "match = re.search(r'\\b\\d{2}-\\d{2}-\\d{4}\\b', '26-08-2020') \n",
    "if match:\n",
    "    print(match.group())"
   ]
  },
  {
   "cell_type": "code",
   "execution_count": 49,
   "metadata": {},
   "outputs": [
    {
     "name": "stdout",
     "output_type": "stream",
     "text": [
      "['201305']\n"
     ]
    }
   ],
   "source": [
    "print(re.findall(r'[\\d]{6}','5th Floor, A-118,\\ Sector-136, Noida, Uttar Pradesh - 201305'))"
   ]
  },
  {
   "cell_type": "code",
   "execution_count": 30,
   "metadata": {},
   "outputs": [
    {
     "name": "stdout",
     "output_type": "stream",
     "text": [
      "1111222233334444\n"
     ]
    }
   ],
   "source": [
    "print(re.sub(r'([\\d]{4})-([\\d]{4})-([\\d]{4})-([\\d]{4})',r'\\1\\2\\3\\4', '1111-2222-3333-4444')) "
   ]
  },
  {
   "cell_type": "markdown",
   "metadata": {},
   "source": [
    "### **Anchors:** \n",
    "\n",
    "Anchors are used to specify the position of a match within a string. The most commonly used anchors are:\n",
    "- ^ (caret): Matches the start of a line or string.\n",
    "- $ (dollar): Matches the end of a line or string.\n",
    "- \\b: Matches a word boundary."
   ]
  },
  {
   "cell_type": "code",
   "execution_count": 31,
   "metadata": {},
   "outputs": [
    {
     "name": "stdout",
     "output_type": "stream",
     "text": [
      "['2023']\n"
     ]
    }
   ],
   "source": [
    "pattern = r\"\\d+\"\n",
    "string = \"The year is 2023\"\n",
    "match = re.findall(pattern, string) \n",
    "print(match)"
   ]
  },
  {
   "cell_type": "markdown",
   "metadata": {},
   "source": [
    "- **re.complie**- Function is used to compile a regular expression pattern into a pattern object. This pattern object can then be used for matching operations.\n"
   ]
  },
  {
   "cell_type": "code",
   "execution_count": 29,
   "metadata": {},
   "outputs": [
    {
     "name": "stdout",
     "output_type": "stream",
     "text": [
      "['e', 'b', 'e', 'e', 'a', 'd']\n"
     ]
    }
   ],
   "source": [
    "p = re.compile('[a-e]')\n",
    "# findall() searches for the Regular Expression\n",
    "# and return a list upon finding\n",
    "print(p.findall(\"Aye, brown fox jumps over the lazy dog\"))"
   ]
  },
  {
   "cell_type": "code",
   "execution_count": 30,
   "metadata": {},
   "outputs": [
    {
     "name": "stdout",
     "output_type": "stream",
     "text": [
      "['1', '1', '4', '1', '8', '8', '6']\n"
     ]
    }
   ],
   "source": [
    "p = re.compile('\\d')\n",
    "print(p.findall(\"I went to him at 11 A.M. on 4th July 1886\"))"
   ]
  },
  {
   "cell_type": "code",
   "execution_count": 31,
   "metadata": {},
   "outputs": [
    {
     "name": "stdout",
     "output_type": "stream",
     "text": [
      "['I', 'went', 'to', 'him', 'at', '11', 'A', 'M', 'he', 'said', 'in', 'some_language']\n"
     ]
    }
   ],
   "source": [
    "p = re.compile('\\w+')\n",
    "print(p.findall(\"I went to him at 11 A.M., he \\said *** in some_language.\"))\n"
   ]
  },
  {
   "cell_type": "code",
   "execution_count": 32,
   "metadata": {},
   "outputs": [
    {
     "name": "stdout",
     "output_type": "stream",
     "text": [
      "['support@example.com']\n"
     ]
    }
   ],
   "source": [
    "# Define the regex pattern for matching an email address\n",
    "email_pattern = r'[a-zA-Z0-9._%+-]+@[a-zA-Z0-9.-]+\\.[a-zA-Z]{2,}'\n",
    "\n",
    "# Example usage\n",
    "test_string = \"Please contact us at support@example.com for further assistance.\"\n",
    "matches = re.findall(email_pattern, test_string)\n",
    "\n",
    "print(matches)"
   ]
  },
  {
   "cell_type": "markdown",
   "metadata": {},
   "source": [
    "### **The split() Function**\n",
    "\n",
    "rather than \"spilt.\" In Python, the split() function is a built-in method that allows you to split a string into a list of substrings based on a specified delimiter. It is not specific to regular expressions."
   ]
  },
  {
   "cell_type": "code",
   "execution_count": 32,
   "metadata": {},
   "outputs": [
    {
     "name": "stdout",
     "output_type": "stream",
     "text": [
      "['The', 'rain', 'in', 'Hyderabad']\n"
     ]
    }
   ],
   "source": [
    "txt = \"The rain in Hyderabad\"\n",
    "x = re.split(\"\\s\", txt)\n",
    "print(x)"
   ]
  },
  {
   "cell_type": "code",
   "execution_count": 33,
   "metadata": {},
   "outputs": [
    {
     "name": "stdout",
     "output_type": "stream",
     "text": [
      "['Twelve:', ' Eighty nine:', '.']\n"
     ]
    }
   ],
   "source": [
    "string = 'Twelve:12 Eighty nine:89.'\n",
    "pattern = '\\d+'\n",
    "result = re.split(pattern, string) \n",
    "print(result)"
   ]
  },
  {
   "cell_type": "code",
   "execution_count": 34,
   "metadata": {},
   "outputs": [
    {
     "name": "stdout",
     "output_type": "stream",
     "text": [
      "Regular expressions can include literal characters\n"
     ]
    }
   ],
   "source": [
    "z = 'Regular expressions can include literal characters'\n",
    "x = re.split(\"\\s\", z)\n",
    "print(z)\n"
   ]
  },
  {
   "cell_type": "markdown",
   "metadata": {},
   "source": [
    "#### **re.sub()**\n",
    "it is used to search for a pattern in a string and replace it with a specified replacement string. It performs\n"
   ]
  },
  {
   "cell_type": "code",
   "execution_count": 46,
   "metadata": {},
   "outputs": [
    {
     "name": "stdout",
     "output_type": "stream",
     "text": [
      "The9King9in9the9North9claims9he9is9worthy\n"
     ]
    }
   ],
   "source": [
    "txt = \"The King in the North claims he is worthy\"\n",
    "x = re.sub(\"\\s\", \"9\", txt)\n",
    "print(x)"
   ]
  },
  {
   "cell_type": "code",
   "execution_count": 47,
   "metadata": {},
   "outputs": [
    {
     "name": "stdout",
     "output_type": "stream",
     "text": [
      "The9King9in the North claims he is worthy\n"
     ]
    }
   ],
   "source": [
    "# Replace the first 2 occurrences:\n",
    "txt = \"The King in the North claims he is worthy\"\n",
    "x = re.sub(\"\\s\", \"9\", txt, 2)\n",
    "print(x) "
   ]
  },
  {
   "cell_type": "code",
   "execution_count": 48,
   "metadata": {},
   "outputs": [
    {
     "name": "stdout",
     "output_type": "stream",
     "text": [
      "Phone Num :  2004-959-559 \n",
      "Phone Num :  2004959559\n"
     ]
    }
   ],
   "source": [
    "phone = \"2004-959-559 # This is Phone Number\"\n",
    "# Delete Python-style comments\n",
    "num = re.sub(r'#.*$', \"\", phone)\n",
    "print (\"Phone Num : \", num)\n",
    "# Remove anything other than digits\n",
    "num = re.sub(r'\\D', \"\", phone) \n",
    "print (\"Phone Num : \", num)"
   ]
  },
  {
   "cell_type": "markdown",
   "metadata": {},
   "source": [
    "#### **re.subn()**\n",
    "subn() is similar to sub() in all ways, except in its way of providing output. It returns a tuple with a count of the total of replacement and the new string rather than just the string.\n"
   ]
  },
  {
   "cell_type": "code",
   "execution_count": 44,
   "metadata": {},
   "outputs": [
    {
     "name": "stdout",
     "output_type": "stream",
     "text": [
      "('S~*ject has Uber booked already', 1)\n",
      "('S~*ject has ~*er booked already', 2)\n"
     ]
    }
   ],
   "source": [
    "print(re.subn('ub', '~*', 'Subject has Uber booked already'))\n",
    "t = re.subn('ub', '~*', 'Subject has Uber booked already',flags=re.IGNORECASE)\n",
    "print(t)"
   ]
  },
  {
   "cell_type": "code",
   "execution_count": 45,
   "metadata": {},
   "outputs": [
    {
     "name": "stdout",
     "output_type": "stream",
     "text": [
      "('abc12\\\\de23f456', 5)\n"
     ]
    }
   ],
   "source": [
    "# multiline string\n",
    "string = 'abc 12\\ de 23 \\n f45 6'\n",
    "# matches all whitespace characters\n",
    "pattern = '\\s+'\n",
    "# empty string\n",
    "replace = ''\n",
    "new_string = re.subn(pattern, replace, string) \n",
    "print(new_string)"
   ]
  },
  {
   "cell_type": "markdown",
   "metadata": {},
   "source": [
    "#### **re.escape()**\n",
    "Returns string with all non-alphanumerics backslashed, this is useful if you want to match an arbitrary literal string that may have regular expression metacharacters in it"
   ]
  },
  {
   "cell_type": "code",
   "execution_count": 42,
   "metadata": {},
   "outputs": [
    {
     "name": "stdout",
     "output_type": "stream",
     "text": [
      "This\\ is\\ Awesome\\ even\\ 1\\ AM\n"
     ]
    }
   ],
   "source": [
    "print(re.escape(\"This is Awesome even 1 AM\"))"
   ]
  },
  {
   "cell_type": "code",
   "execution_count": 43,
   "metadata": {},
   "outputs": [
    {
     "name": "stdout",
     "output_type": "stream",
     "text": [
      "I\\ Asked\\ what\\ is\\ this\\ \\[a\\-9\\],\\ he\\ said\\ \\\t\\ \\^WoW\n"
     ]
    }
   ],
   "source": [
    "print(re.escape(\"I Asked what is this [a-9], he said \\t ^WoW\"))"
   ]
  },
  {
   "cell_type": "markdown",
   "metadata": {},
   "source": [
    "#### **Extracting headlies from text**"
   ]
  },
  {
   "cell_type": "code",
   "execution_count": 35,
   "metadata": {},
   "outputs": [
    {
     "data": {
      "text/plain": [
       "['Note 1 - Overview', 'Note 2 - Summary of Significant Accounting Policies']"
      ]
     },
     "execution_count": 35,
     "metadata": {},
     "output_type": "execute_result"
    }
   ],
   "source": [
    "text = '''\n",
    "Note 1 - Overview\n",
    "Tesla, Inc. (“Tesla”, the “Company”, “we”, “us” or “our”) was incorporated in the State \n",
    "products. Our Chief Executive Officer, as the chief operating decision maker (“CODM”), o\n",
    "Beginning in the first quarter of 2021, there has been a trend in many parts of the worl\n",
    "against COVID-19, as well as an easing of restrictions on social, business, travel and g\n",
    "rates and regulations continue to fluctuate in various regions and there are ongoing glo\n",
    "and increases in costs for logistics and supply chains, such as increased port congestio\n",
    "supply. We have also previously been affected by temporary manufacturing closures, emplo\n",
    "administrative activities supporting our product deliveries and deployments.\n",
    "Note 2 - Summary of Significant Accounting Policies\n",
    "Unaudited Interim Financial Statements\n",
    "The consolidated balance sheet as of September 30, 2021, the consolidated statements of \n",
    "comprehensive income, the consolidated statements of redeemable noncontrolling interests\n",
    "30, 2021 and 2020 and the consolidated statements of cash flows for the nine months ende\n",
    "disclosed in the accompanying notes, are unaudited. The consolidated balance sheet as of\n",
    "consolidated financial statements as of that date. The interim consolidated financial st\n",
    "conjunction with the annual consolidated financial statements and the accompanying notes\n",
    "ended December 31, 2020.\n",
    "'''\n",
    "\n",
    "pattern = \"Note \\d - [^\\n]+\"\n",
    "re.findall(pattern,text)"
   ]
  },
  {
   "cell_type": "markdown",
   "metadata": {},
   "source": [
    "#### **remove capital and small letters**"
   ]
  },
  {
   "cell_type": "code",
   "execution_count": 36,
   "metadata": {},
   "outputs": [
    {
     "data": {
      "text/plain": [
       "['FY2021 Q1', 'fy2020 Q4']"
      ]
     },
     "execution_count": 36,
     "metadata": {},
     "output_type": "execute_result"
    }
   ],
   "source": [
    "text = '''The gross cost of operating lease vehicles in FY2021 Q1 was $4.85 billion.\n",
    "In previous quarter i.e. fy2020 Q4 it was $3 billion. FY2022 Q5. \n",
    "'''\n",
    "pattern = \"FY\\d{4} Q[1-4]\"\n",
    "re.findall(pattern,text,flags=re.IGNORECASE)"
   ]
  },
  {
   "cell_type": "markdown",
   "metadata": {},
   "source": [
    "#### **Extract phone number**"
   ]
  },
  {
   "cell_type": "code",
   "execution_count": 39,
   "metadata": {},
   "outputs": [
    {
     "data": {
      "text/plain": [
       "['1235678912']"
      ]
     },
     "execution_count": 39,
     "metadata": {},
     "output_type": "execute_result"
    }
   ],
   "source": [
    "chat1 = 'codebasics: you ask lot of questions 😠 1235678912,abcP@xyz.com'\n",
    "chat2 = 'codebasics: here it is: (123)-567-8912, abc_29@xyz.in'\n",
    "chat3 = 'codebasics: yes, phone: 1235678912 email: abc@xyz.com'\n",
    "\n",
    "pattern = '\\d{10}'\n",
    "matches = re.findall(pattern,chat1)\n",
    "matches\n"
   ]
  },
  {
   "cell_type": "markdown",
   "metadata": {},
   "source": [
    "### **Create a Text File**"
   ]
  },
  {
   "cell_type": "code",
   "execution_count": 50,
   "metadata": {},
   "outputs": [],
   "source": [
    "# Create a text file with 10 lines of text\n",
    "lines = [\n",
    "    \"The quick brown fox jumps over the lazy dog.\",\n",
    "    \"Python is an amazing programming language.\",\n",
    "    \"Regular expressions are powerful tools.\",\n",
    "    \"I love coding in Python.\",\n",
    "    \"Data science is a growing field.\",\n",
    "    \"Machine learning and AI are the future.\",\n",
    "    \"Exploratory data analysis is crucial.\",\n",
    "    \"Visualization makes data easier to understand.\",\n",
    "    \"Python has a rich set of libraries.\",\n",
    "    \"Automation can save a lot of time.\"\n",
    "]\n",
    "\n",
    "# Writing the lines to the file\n",
    "with open('sample_text.txt', \"w\") as file:\n",
    "    for line in lines:\n",
    "        file.write(line + \"\\n\")\n"
   ]
  },
  {
   "cell_type": "code",
   "execution_count": 51,
   "metadata": {},
   "outputs": [
    {
     "name": "stdout",
     "output_type": "stream",
     "text": [
      "Found matches: ['Python', 'Python', 'Python']\n"
     ]
    }
   ],
   "source": [
    "# Read the file\n",
    "with open(\"sample_text.txt\", \"r\") as file:\n",
    "    content = file.read()\n",
    "\n",
    "# Define a regular expression pattern (e.g., finding lines with the word \"Python\")\n",
    "pattern = r\"\\bPython\\b\"\n",
    "\n",
    "# Find all occurrences in the text\n",
    "matches = re.findall(pattern, content)\n",
    "\n",
    "# Print the results\n",
    "print(\"Found matches:\", matches)"
   ]
  },
  {
   "cell_type": "markdown",
   "metadata": {},
   "source": [
    "#### **Email Extraction**"
   ]
  },
  {
   "cell_type": "code",
   "execution_count": 40,
   "metadata": {},
   "outputs": [],
   "source": [
    "mixed_strings = [\n",
    "    \"test@example.com\",\n",
    "    \"123-456-7890\",\n",
    "    \"Start this string\",\n",
    "    \"This string ends with End\",\n",
    "    \"123456\",\n",
    "    \"Contains whitespace \",\n",
    "    \"pretest and posttest\",\n",
    "    \"@#!$%\",\n",
    "    \"5This does not start with a digit\",\n",
    "    \"NoWhitespaceHere\"\n",
    "]"
   ]
  },
  {
   "cell_type": "code",
   "execution_count": 41,
   "metadata": {},
   "outputs": [
    {
     "name": "stdout",
     "output_type": "stream",
     "text": [
      "Email addresses: ['test@example.com']\n"
     ]
    }
   ],
   "source": [
    "# Find all email addresses:\n",
    "email_pattern = r'[a-zA-Z0-9._%+-]+@[a-zA-Z0-9.-]+\\.[a-zA-Z]{2,}'\n",
    "\n",
    "emails = []\n",
    "for s in mixed_strings:\n",
    "    if re.search(email_pattern, s):\n",
    "        emails.append(s)\n",
    "\n",
    "print(\"Email addresses:\", emails)"
   ]
  },
  {
   "cell_type": "code",
   "execution_count": 45,
   "metadata": {},
   "outputs": [
    {
     "name": "stdout",
     "output_type": "stream",
     "text": [
      "Phone numbers: ['123-456-7890']\n"
     ]
    }
   ],
   "source": [
    "# Find all email addresses:\n",
    "phone_pattern = r'\\d{3}-\\d{3}-\\d{4}'\n",
    "\n",
    "phones = []\n",
    "for s in mixed_strings:\n",
    "    if re.search(phone_pattern, s):\n",
    "        phones.append(s)\n",
    "\n",
    "print(\"Phone numbers:\", phones)"
   ]
  },
  {
   "cell_type": "code",
   "execution_count": 47,
   "metadata": {},
   "outputs": [
    {
     "name": "stdout",
     "output_type": "stream",
     "text": [
      "Strings ending with 'End': ['This string ends with End']\n"
     ]
    }
   ],
   "source": [
    "# Extract all strings that end with a specific pattern (e.g., \"End\")\n",
    "end_pattern = r'End\\Z'\n",
    "\n",
    "ends_with_pattern = []\n",
    "for s in mixed_strings:\n",
    "    if re.search(end_pattern, s):\n",
    "        ends_with_pattern.append(s)\n",
    "\n",
    "print(\"Strings ending with 'End':\", ends_with_pattern)"
   ]
  },
  {
   "cell_type": "code",
   "execution_count": 48,
   "metadata": {},
   "outputs": [
    {
     "name": "stdout",
     "output_type": "stream",
     "text": [
      "Strings with only digits: ['123456']\n"
     ]
    }
   ],
   "source": [
    "# Find all strings that contain only digits\n",
    "digits_pattern = r'^\\d+$'\n",
    "\n",
    "only_digits = []\n",
    "for s in mixed_strings:\n",
    "    if re.search(digits_pattern, s):\n",
    "        only_digits.append(s)\n",
    "\n",
    "print(\"Strings with only digits:\", only_digits)"
   ]
  },
  {
   "cell_type": "code",
   "execution_count": 49,
   "metadata": {},
   "outputs": [
    {
     "name": "stdout",
     "output_type": "stream",
     "text": [
      "Strings containing whitespace: ['Start this string', 'This string ends with End', 'Contains whitespace ', 'pretest and posttest', '5This does not start with a digit']\n"
     ]
    }
   ],
   "source": [
    "# Identify strings that contain whitespace characters\n",
    "whitespace_pattern = r'\\s'\n",
    "\n",
    "contains_whitespace = []\n",
    "for s in mixed_strings:\n",
    "    if re.search(whitespace_pattern, s):\n",
    "        contains_whitespace.append(s)\n",
    "\n",
    "print(\"Strings containing whitespace:\", contains_whitespace)"
   ]
  },
  {
   "cell_type": "code",
   "execution_count": 50,
   "metadata": {},
   "outputs": [
    {
     "name": "stdout",
     "output_type": "stream",
     "text": [
      "Strings with non-alphanumeric characters: ['@#!$%']\n"
     ]
    }
   ],
   "source": [
    "# Identify strings that do not have any alphanumeric characters\n",
    "non_alphanumeric_pattern = r'^\\W+$'\n",
    "\n",
    "non_alphanumeric = []\n",
    "for s in mixed_strings:\n",
    "    if re.search(non_alphanumeric_pattern, s):\n",
    "        non_alphanumeric.append(s)\n",
    "\n",
    "print(\"Strings with non-alphanumeric characters:\", non_alphanumeric)\n"
   ]
  },
  {
   "cell_type": "code",
   "execution_count": 51,
   "metadata": {},
   "outputs": [
    {
     "name": "stdout",
     "output_type": "stream",
     "text": [
      "Strings that do not start with a digit: ['test@example.com', 'Start this string', 'This string ends with End', 'Contains whitespace ', 'pretest and posttest', '@#!$%', 'NoWhitespaceHere']\n"
     ]
    }
   ],
   "source": [
    "# Find strings that do not start with a digit\n",
    "not_start_digit_pattern = r'^\\D'\n",
    "\n",
    "not_start_digit = []\n",
    "for s in mixed_strings:\n",
    "    if re.search(not_start_digit_pattern, s):\n",
    "        not_start_digit.append(s)\n",
    "\n",
    "print(\"Strings that do not start with a digit:\", not_start_digit)"
   ]
  }
 ],
 "metadata": {
  "kernelspec": {
   "display_name": "Python 3",
   "language": "python",
   "name": "python3"
  },
  "language_info": {
   "codemirror_mode": {
    "name": "ipython",
    "version": 3
   },
   "file_extension": ".py",
   "mimetype": "text/x-python",
   "name": "python",
   "nbconvert_exporter": "python",
   "pygments_lexer": "ipython3",
   "version": "3.12.2"
  }
 },
 "nbformat": 4,
 "nbformat_minor": 2
}
