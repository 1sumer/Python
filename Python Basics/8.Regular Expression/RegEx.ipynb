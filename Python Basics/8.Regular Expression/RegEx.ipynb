{
 "cells": [
  {
   "cell_type": "markdown",
   "metadata": {},
   "source": [
    "### Regular expression"
   ]
  },
  {
   "cell_type": "markdown",
   "metadata": {},
   "source": [
    "A RegEx is a powerful tool for matching text, based on a pre-defined pattern. It can detect the presence or absence of a text by matching it with a particular pattern, and also can split a pattern into one or more sub-patterns. The Python standard library provides a re module for regular expressions"
   ]
  },
  {
   "cell_type": "code",
   "execution_count": 18,
   "metadata": {},
   "outputs": [],
   "source": [
    "import re \n",
    "\n",
    "import warnings\n",
    "warnings.filterwarnings(\"ignore\")"
   ]
  },
  {
   "cell_type": "code",
   "execution_count": 19,
   "metadata": {},
   "outputs": [
    {
     "name": "stdout",
     "output_type": "stream",
     "text": [
      "<re.Match object; span=(36, 42), match='portal'>\n",
      "portal\n",
      "Start Index: 36\n",
      "End Index: 42\n"
     ]
    }
   ],
   "source": [
    "match = re.search(r'portal', 'GeeksforGeeks: A computer science \\ portal for geeks') \n",
    "print(match) \n",
    "print(match.group()) \n",
    "\n",
    "print('Start Index:', match.start()) \n",
    "print('End Index:', match.end()) "
   ]
  },
  {
   "cell_type": "markdown",
   "metadata": {},
   "source": [
    "### Why RegEx?\n",
    "- Data Mining: Regular expression is the best tool for data mining. It efficiently identifies a text in a heap of text by checking with a pre-defined pattern.\n",
    "- Data Validation: Regular expression can perfectly validate data. It can include a wide array of validation processes by defining different sets of patterns."
   ]
  },
  {
   "cell_type": "markdown",
   "metadata": {},
   "source": [
    "### Basic RegEx\n",
    "- Character Classes\n",
    "- Rangers\n",
    "- Negation\n",
    "- Shortcuts\n",
    "- Beginning and End of String\n",
    "- Any Character"
   ]
  },
  {
   "cell_type": "code",
   "execution_count": 20,
   "metadata": {},
   "outputs": [
    {
     "name": "stdout",
     "output_type": "stream",
     "text": [
      "['Geeks', 'Geeks', 'geeks']\n"
     ]
    }
   ],
   "source": [
    "print(re.findall(r'[Gg]eeks', 'GeeksforGeeks: \\ A computer science portal for geeks'))"
   ]
  },
  {
   "cell_type": "code",
   "execution_count": 21,
   "metadata": {},
   "outputs": [
    {
     "name": "stdout",
     "output_type": "stream",
     "text": [
      "Range <re.Match object; span=(0, 1), match='G'>\n"
     ]
    }
   ],
   "source": [
    "print('Range',re.search(r'[a-zA-Z]', 'Geeks'))"
   ]
  },
  {
   "cell_type": "markdown",
   "metadata": {},
   "source": [
    "- \\A Matches if the string begins with the given character\n",
    "- \\b Matches if the word begins or ends with the given character.\n",
    "- \\B It is the opposite of the \\b i.e. the string should not start or end with the given regex.\n",
    "- \\d Matches any decimal digit, this is equivalent to the set class [0-9]\n",
    "- \\D Matches any non-digit character, this is equivalent to the set class [^0-9]\n",
    "- \\s Matches any whitespace character.\n",
    "- \\S Matches any non-whitespace character.\n",
    "- \\w Matches any alphanumeric character.\n",
    "- \\W Matches any non-alphanumeric character.\n",
    "- \\Z Matches if the string ends with the given regex"
   ]
  },
  {
   "cell_type": "code",
   "execution_count": 33,
   "metadata": {},
   "outputs": [
    {
     "name": "stdout",
     "output_type": "stream",
     "text": [
      "True\n"
     ]
    }
   ],
   "source": [
    "text = \"Hello, world!\"\n",
    "pattern = r'\\AHello'\n",
    "\n",
    "match = re.match(pattern, text)\n",
    "print(bool(match))"
   ]
  },
  {
   "cell_type": "code",
   "execution_count": 34,
   "metadata": {},
   "outputs": [
    {
     "name": "stdout",
     "output_type": "stream",
     "text": [
      "['Hello', 'Hello']\n"
     ]
    }
   ],
   "source": [
    "text = \"Hello, world! Hello again.\"\n",
    "pattern = r'\\bHello\\b'\n",
    "\n",
    "matches = re.findall(pattern, text)\n",
    "print(matches)"
   ]
  },
  {
   "cell_type": "code",
   "execution_count": 35,
   "metadata": {},
   "outputs": [
    {
     "name": "stdout",
     "output_type": "stream",
     "text": [
      "[]\n"
     ]
    }
   ],
   "source": [
    "text = \"Hello, world!Shell\"\n",
    "pattern = r'\\Bhell\\B'\n",
    "\n",
    "matches = re.findall(pattern, text, re.IGNORECASE)\n",
    "print(matches)"
   ]
  },
  {
   "cell_type": "code",
   "execution_count": 36,
   "metadata": {},
   "outputs": [
    {
     "name": "stdout",
     "output_type": "stream",
     "text": [
      "['1', '2', '3']\n"
     ]
    }
   ],
   "source": [
    "text = \"There are 123 apples.\"\n",
    "pattern = r'\\d'\n",
    "\n",
    "matches = re.findall(pattern, text)\n",
    "print(matches)"
   ]
  },
  {
   "cell_type": "code",
   "execution_count": 37,
   "metadata": {},
   "outputs": [
    {
     "name": "stdout",
     "output_type": "stream",
     "text": [
      "['T', 'h', 'e', 'r', 'e', ' ', 'a', 'r', 'e', ' ', ' ', 'a', 'p', 'p', 'l', 'e', 's', '.']\n"
     ]
    }
   ],
   "source": [
    "text = \"There are 123 apples.\"\n",
    "pattern = r'\\D'\n",
    "\n",
    "matches = re.findall(pattern, text)\n",
    "print(matches)"
   ]
  },
  {
   "cell_type": "code",
   "execution_count": 38,
   "metadata": {},
   "outputs": [
    {
     "name": "stdout",
     "output_type": "stream",
     "text": [
      "[' ']\n"
     ]
    }
   ],
   "source": [
    "text = \"Hello, world!\"\n",
    "pattern = r'\\s'\n",
    "\n",
    "matches = re.findall(pattern, text)\n",
    "print(matches)"
   ]
  },
  {
   "cell_type": "code",
   "execution_count": 39,
   "metadata": {},
   "outputs": [
    {
     "name": "stdout",
     "output_type": "stream",
     "text": [
      "['H', 'e', 'l', 'l', 'o', ',', 'w', 'o', 'r', 'l', 'd', '!']\n"
     ]
    }
   ],
   "source": [
    "text = \"Hello, world!\"\n",
    "pattern = r'\\S'\n",
    "\n",
    "matches = re.findall(pattern, text)\n",
    "print(matches)"
   ]
  },
  {
   "cell_type": "code",
   "execution_count": 40,
   "metadata": {},
   "outputs": [
    {
     "name": "stdout",
     "output_type": "stream",
     "text": [
      "['H', 'e', 'l', 'l', 'o', 'w', 'o', 'r', 'l', 'd']\n"
     ]
    }
   ],
   "source": [
    "text = \"Hello, world!\"\n",
    "pattern = r'\\w'\n",
    "\n",
    "matches = re.findall(pattern, text)\n",
    "print(matches)"
   ]
  },
  {
   "cell_type": "code",
   "execution_count": 41,
   "metadata": {},
   "outputs": [
    {
     "name": "stdout",
     "output_type": "stream",
     "text": [
      "[',', ' ', '!']\n"
     ]
    }
   ],
   "source": [
    "text = \"Hello, world!\"\n",
    "pattern = r'\\W'\n",
    "\n",
    "matches = re.findall(pattern, text)\n",
    "print(matches)"
   ]
  },
  {
   "cell_type": "code",
   "execution_count": 22,
   "metadata": {},
   "outputs": [
    {
     "name": "stdout",
     "output_type": "stream",
     "text": [
      "Geeks: <re.Match object; span=(0, 5), match='Geeks'>\n",
      "GeeksforGeeks: <re.Match object; span=(8, 13), match='Geeks'>\n"
     ]
    }
   ],
   "source": [
    "print('Geeks:', re.search(r'\\bGeeks\\b', 'Geeks')) \n",
    "print('GeeksforGeeks:', re.search(r'\\BGeeks\\b', 'GeeksforGeeks')) "
   ]
  },
  {
   "cell_type": "code",
   "execution_count": 23,
   "metadata": {},
   "outputs": [
    {
     "name": "stdout",
     "output_type": "stream",
     "text": [
      "Beg. of String: None\n",
      "Beg. of String: <re.Match object; span=(0, 4), match='Geek'>\n",
      "End of String: <re.Match object; span=(31, 36), match='Geeks'>\n"
     ]
    }
   ],
   "source": [
    "# Beginning of String \n",
    "match = re.search(r'^month', 'Campus Geek of the month') \n",
    "print('Beg. of String:', match) \n",
    "\n",
    "match = re.search(r'^Geek', 'Geek of the month') \n",
    "print('Beg. of String:', match) \n",
    "\n",
    "# End of String \n",
    "match = re.search(r'Geeks$', 'Compute science portal-GeeksforGeeks') \n",
    "print('End of String:', match) \n"
   ]
  },
  {
   "cell_type": "code",
   "execution_count": 24,
   "metadata": {},
   "outputs": [
    {
     "name": "stdout",
     "output_type": "stream",
     "text": [
      "Any Character <re.Match object; span=(0, 6), match='python'>\n"
     ]
    }
   ],
   "source": [
    "print('Any Character', re.search(r'p.th.n', 'python 3'))"
   ]
  },
  {
   "cell_type": "code",
   "execution_count": 27,
   "metadata": {},
   "outputs": [
    {
     "name": "stdout",
     "output_type": "stream",
     "text": [
      "08\n",
      "{'dd': '26', 'mm': '08', 'yyyy': '2020'}\n"
     ]
    }
   ],
   "source": [
    "match = re.search(r'(?P<dd>[\\d]{2})-(?P<mm>[\\d]{2})-(?P<yyyy>[\\d]{4})', '26-08-2020') \n",
    "print(match.group('mm')) \n",
    "print(match.groupdict()) "
   ]
  },
  {
   "cell_type": "code",
   "execution_count": 28,
   "metadata": {},
   "outputs": [
    {
     "name": "stdout",
     "output_type": "stream",
     "text": [
      "<re.Match object; span=(13, 16), match='118'>\n"
     ]
    }
   ],
   "source": [
    "print(re.search(r'[\\d]{3,}','5th Floor, A-118,\\ Sector-136, Noida, Uttar Pradesh - 201305'))"
   ]
  },
  {
   "cell_type": "markdown",
   "metadata": {},
   "source": [
    "### Substitution"
   ]
  },
  {
   "cell_type": "code",
   "execution_count": 30,
   "metadata": {},
   "outputs": [
    {
     "name": "stdout",
     "output_type": "stream",
     "text": [
      "1111222233334444\n"
     ]
    }
   ],
   "source": [
    "print(re.sub(r'([\\d]{4})-([\\d]{4})-([\\d]{4})-([\\d]{4})',r'\\1\\2\\3\\4', '1111-2222-3333-4444')) "
   ]
  },
  {
   "cell_type": "code",
   "execution_count": 31,
   "metadata": {},
   "outputs": [
    {
     "name": "stdout",
     "output_type": "stream",
     "text": [
      "['2023']\n"
     ]
    }
   ],
   "source": [
    "pattern = r\"\\d+\"\n",
    "string = \"The year is 2023\"\n",
    "match = re.findall(pattern, string) \n",
    "print(match)"
   ]
  },
  {
   "cell_type": "code",
   "execution_count": 32,
   "metadata": {},
   "outputs": [
    {
     "name": "stdout",
     "output_type": "stream",
     "text": [
      "['support@example.com']\n"
     ]
    }
   ],
   "source": [
    "# Define the regex pattern for matching an email address\n",
    "email_pattern = r'[a-zA-Z0-9._%+-]+@[a-zA-Z0-9.-]+\\.[a-zA-Z]{2,}'\n",
    "\n",
    "# Example usage\n",
    "test_string = \"Please contact us at support@example.com for further assistance.\"\n",
    "matches = re.findall(email_pattern, test_string)\n",
    "\n",
    "print(matches)"
   ]
  },
  {
   "cell_type": "code",
   "execution_count": 43,
   "metadata": {},
   "outputs": [],
   "source": [
    "mixed_strings = [\n",
    "    \"test@example.com\",\n",
    "    \"123-456-7890\",\n",
    "    \"Start this string\",\n",
    "    \"This string ends with End\",\n",
    "    \"123456\",\n",
    "    \"Contains whitespace \",\n",
    "    \"pretest and posttest\",\n",
    "    \"@#!$%\",\n",
    "    \"5This does not start with a digit\",\n",
    "    \"NoWhitespaceHere\"\n",
    "]"
   ]
  },
  {
   "cell_type": "code",
   "execution_count": 44,
   "metadata": {},
   "outputs": [
    {
     "name": "stdout",
     "output_type": "stream",
     "text": [
      "Email addresses: ['test@example.com']\n"
     ]
    }
   ],
   "source": [
    "# Find all email addresses:\n",
    "email_pattern = r'[a-zA-Z0-9._%+-]+@[a-zA-Z0-9.-]+\\.[a-zA-Z]{2,}'\n",
    "\n",
    "emails = []\n",
    "for s in mixed_strings:\n",
    "    if re.search(email_pattern, s):\n",
    "        emails.append(s)\n",
    "\n",
    "print(\"Email addresses:\", emails)"
   ]
  },
  {
   "cell_type": "code",
   "execution_count": 45,
   "metadata": {},
   "outputs": [
    {
     "name": "stdout",
     "output_type": "stream",
     "text": [
      "Phone numbers: ['123-456-7890']\n"
     ]
    }
   ],
   "source": [
    "# Find all email addresses:\n",
    "phone_pattern = r'\\d{3}-\\d{3}-\\d{4}'\n",
    "\n",
    "phones = []\n",
    "for s in mixed_strings:\n",
    "    if re.search(phone_pattern, s):\n",
    "        phones.append(s)\n",
    "\n",
    "print(\"Phone numbers:\", phones)"
   ]
  },
  {
   "cell_type": "code",
   "execution_count": 47,
   "metadata": {},
   "outputs": [
    {
     "name": "stdout",
     "output_type": "stream",
     "text": [
      "Strings ending with 'End': ['This string ends with End']\n"
     ]
    }
   ],
   "source": [
    "# Extract all strings that end with a specific pattern (e.g., \"End\")\n",
    "end_pattern = r'End\\Z'\n",
    "\n",
    "ends_with_pattern = []\n",
    "for s in mixed_strings:\n",
    "    if re.search(end_pattern, s):\n",
    "        ends_with_pattern.append(s)\n",
    "\n",
    "print(\"Strings ending with 'End':\", ends_with_pattern)"
   ]
  },
  {
   "cell_type": "code",
   "execution_count": 48,
   "metadata": {},
   "outputs": [
    {
     "name": "stdout",
     "output_type": "stream",
     "text": [
      "Strings with only digits: ['123456']\n"
     ]
    }
   ],
   "source": [
    "# Find all strings that contain only digits\n",
    "digits_pattern = r'^\\d+$'\n",
    "\n",
    "only_digits = []\n",
    "for s in mixed_strings:\n",
    "    if re.search(digits_pattern, s):\n",
    "        only_digits.append(s)\n",
    "\n",
    "print(\"Strings with only digits:\", only_digits)"
   ]
  },
  {
   "cell_type": "code",
   "execution_count": 49,
   "metadata": {},
   "outputs": [
    {
     "name": "stdout",
     "output_type": "stream",
     "text": [
      "Strings containing whitespace: ['Start this string', 'This string ends with End', 'Contains whitespace ', 'pretest and posttest', '5This does not start with a digit']\n"
     ]
    }
   ],
   "source": [
    "# Identify strings that contain whitespace characters\n",
    "whitespace_pattern = r'\\s'\n",
    "\n",
    "contains_whitespace = []\n",
    "for s in mixed_strings:\n",
    "    if re.search(whitespace_pattern, s):\n",
    "        contains_whitespace.append(s)\n",
    "\n",
    "print(\"Strings containing whitespace:\", contains_whitespace)"
   ]
  },
  {
   "cell_type": "code",
   "execution_count": 50,
   "metadata": {},
   "outputs": [
    {
     "name": "stdout",
     "output_type": "stream",
     "text": [
      "Strings with non-alphanumeric characters: ['@#!$%']\n"
     ]
    }
   ],
   "source": [
    "# Identify strings that do not have any alphanumeric characters\n",
    "non_alphanumeric_pattern = r'^\\W+$'\n",
    "\n",
    "non_alphanumeric = []\n",
    "for s in mixed_strings:\n",
    "    if re.search(non_alphanumeric_pattern, s):\n",
    "        non_alphanumeric.append(s)\n",
    "\n",
    "print(\"Strings with non-alphanumeric characters:\", non_alphanumeric)\n"
   ]
  },
  {
   "cell_type": "code",
   "execution_count": 51,
   "metadata": {},
   "outputs": [
    {
     "name": "stdout",
     "output_type": "stream",
     "text": [
      "Strings that do not start with a digit: ['test@example.com', 'Start this string', 'This string ends with End', 'Contains whitespace ', 'pretest and posttest', '@#!$%', 'NoWhitespaceHere']\n"
     ]
    }
   ],
   "source": [
    "# Find strings that do not start with a digit\n",
    "not_start_digit_pattern = r'^\\D'\n",
    "\n",
    "not_start_digit = []\n",
    "for s in mixed_strings:\n",
    "    if re.search(not_start_digit_pattern, s):\n",
    "        not_start_digit.append(s)\n",
    "\n",
    "print(\"Strings that do not start with a digit:\", not_start_digit)"
   ]
  },
  {
   "cell_type": "code",
   "execution_count": null,
   "metadata": {},
   "outputs": [],
   "source": []
  }
 ],
 "metadata": {
  "kernelspec": {
   "display_name": "Python 3",
   "language": "python",
   "name": "python3"
  },
  "language_info": {
   "codemirror_mode": {
    "name": "ipython",
    "version": 3
   },
   "file_extension": ".py",
   "mimetype": "text/x-python",
   "name": "python",
   "nbconvert_exporter": "python",
   "pygments_lexer": "ipython3",
   "version": "3.12.2"
  }
 },
 "nbformat": 4,
 "nbformat_minor": 2
}
