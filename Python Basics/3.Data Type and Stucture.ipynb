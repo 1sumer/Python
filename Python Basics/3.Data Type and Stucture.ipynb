{
 "cells": [
  {
   "cell_type": "markdown",
   "metadata": {},
   "source": [
    "## **Python Data Types**\n",
    "\n",
    "a data type is a classification that specifies the type of value a variable holds. Python has various built-in data types that are used to define the operations possible on those variables and the storage method for each of them"
   ]
  },
  {
   "cell_type": "markdown",
   "metadata": {},
   "source": [
    "## **Primitive Data Type**\n",
    "### **1. Integer**\n",
    "Most common data type used to store numbers without decimal or fractional component."
   ]
  },
  {
   "cell_type": "code",
   "execution_count": 53,
   "metadata": {},
   "outputs": [
    {
     "name": "stdout",
     "output_type": "stream",
     "text": [
      "<class 'int'>\n"
     ]
    },
    {
     "data": {
      "text/plain": [
       "-5"
      ]
     },
     "execution_count": 53,
     "metadata": {},
     "output_type": "execute_result"
    }
   ],
   "source": [
    "a = 5\n",
    "b = -5\n",
    "print(type(b))\n",
    "b"
   ]
  },
  {
   "cell_type": "code",
   "execution_count": 54,
   "metadata": {},
   "outputs": [
    {
     "data": {
      "text/plain": [
       "int"
      ]
     },
     "execution_count": 54,
     "metadata": {},
     "output_type": "execute_result"
    }
   ],
   "source": [
    "t = 45\n",
    "n = -75\n",
    "type(n)"
   ]
  },
  {
   "cell_type": "markdown",
   "metadata": {},
   "source": [
    "### **2. Float**\n",
    "Numeric data type used to store number of fractional component or decimal"
   ]
  },
  {
   "cell_type": "code",
   "execution_count": 55,
   "metadata": {},
   "outputs": [
    {
     "data": {
      "text/plain": [
       "float"
      ]
     },
     "execution_count": 55,
     "metadata": {},
     "output_type": "execute_result"
    }
   ],
   "source": [
    "a = 5.623\n",
    "type(a)"
   ]
  },
  {
   "cell_type": "code",
   "execution_count": 56,
   "metadata": {},
   "outputs": [
    {
     "name": "stdout",
     "output_type": "stream",
     "text": [
      "<class 'float'>\n"
     ]
    },
    {
     "data": {
      "text/plain": [
       "-5.25"
      ]
     },
     "execution_count": 56,
     "metadata": {},
     "output_type": "execute_result"
    }
   ],
   "source": [
    "b=-5.25\n",
    "print(type(b))\n",
    "b"
   ]
  },
  {
   "cell_type": "markdown",
   "metadata": {},
   "source": [
    "### **3. String**\n",
    "\n",
    "- Immutable: Once a string is created, its value cannot be changed. Any operation that modifies a string will return a new string.\n",
    "- Indexed: Strings are sequences, so you can access individual characters using indexing. Python uses zero-based indexing.\n",
    "- Slicable: You can extract substrings using slicing. The syntax is s[start:end], where the slice includes characters from start to end-1.\n",
    "- Concatenation: Strings can be concatenated using the + operator.\n",
    "- Repetition: Strings can be repeated using the * operator\n",
    "- Multiline: Strings can span multiple lines using triple quotes (''' or \"\"\").\n",
    "- Escape Sequences: Special characters can be included in strings using escape sequences.\n",
    "Commonly used data type to store text. Anything written inside qoutation ('') or (\"\")"
   ]
  },
  {
   "cell_type": "code",
   "execution_count": 57,
   "metadata": {},
   "outputs": [
    {
     "data": {
      "text/plain": [
       "'This is also a\\nmulti-line string.'"
      ]
     },
     "execution_count": 57,
     "metadata": {},
     "output_type": "execute_result"
    }
   ],
   "source": [
    "# Single quotes\n",
    "single_quote_str = 'Hello, World!'\n",
    "\n",
    "# Double quotes\n",
    "double_quote_str = \"Hello, World!\"\n",
    "\n",
    "# Triple quotes (for multi-line strings)\n",
    "triple_single_quote_str = '''This is a\n",
    "multi-line string.'''\n",
    "\n",
    "triple_double_quote_str = \"\"\"This is also a\n",
    "multi-line string.\"\"\"\n",
    "\n",
    "triple_double_quote_str"
   ]
  },
  {
   "cell_type": "code",
   "execution_count": 58,
   "metadata": {},
   "outputs": [
    {
     "name": "stdout",
     "output_type": "stream",
     "text": [
      "P n\n"
     ]
    },
    {
     "data": {
      "text/plain": [
       "'yth'"
      ]
     },
     "execution_count": 58,
     "metadata": {},
     "output_type": "execute_result"
    }
   ],
   "source": [
    "s = \"Python\"\n",
    "first_char = s[0]  \n",
    "last_char = s[-1] \n",
    "\n",
    "print(first_char, last_char)\n",
    "\n",
    "s = \"Python\"\n",
    "substring = s[1:4]  \n",
    "substring"
   ]
  },
  {
   "cell_type": "code",
   "execution_count": 59,
   "metadata": {},
   "outputs": [
    {
     "data": {
      "text/plain": [
       "13"
      ]
     },
     "execution_count": 59,
     "metadata": {},
     "output_type": "execute_result"
    }
   ],
   "source": [
    "s = \"Hello, World!\"\n",
    "length = len(s)  \n",
    "length"
   ]
  },
  {
   "cell_type": "code",
   "execution_count": 60,
   "metadata": {},
   "outputs": [
    {
     "data": {
      "text/plain": [
       "'Hello, World!'"
      ]
     },
     "execution_count": 60,
     "metadata": {},
     "output_type": "execute_result"
    }
   ],
   "source": [
    "# String Concatenation\n",
    "s1 = \"Hello\"\n",
    "s2 = \"World\"\n",
    "s3 = s1 + \", \" + s2 + \"!\" \n",
    "s3"
   ]
  },
  {
   "cell_type": "code",
   "execution_count": 61,
   "metadata": {},
   "outputs": [
    {
     "data": {
      "text/plain": [
       "'HelloHelloHello'"
      ]
     },
     "execution_count": 61,
     "metadata": {},
     "output_type": "execute_result"
    }
   ],
   "source": [
    "# Repeatation\n",
    "s = \"Hello\"\n",
    "s_repeated = s * 3   \n",
    "s_repeated"
   ]
  },
  {
   "cell_type": "code",
   "execution_count": 62,
   "metadata": {},
   "outputs": [
    {
     "name": "stdout",
     "output_type": "stream",
     "text": [
      "HELLO, WORLD!\n",
      "hello, world!\n",
      "Hello, World!\n",
      "Hello, world!\n"
     ]
    }
   ],
   "source": [
    "# Case Conversion\n",
    "s = \"Hello, World!\"\n",
    "s_upper = s.upper()   \n",
    "s_lower = s.lower()   \n",
    "s_title = s.title()   \n",
    "s_capitalize = s.capitalize()  \n",
    "\n",
    "print(s_upper)\n",
    "print(s_lower)\n",
    "print(s_title)\n",
    "print(s_capitalize)"
   ]
  },
  {
   "cell_type": "code",
   "execution_count": 63,
   "metadata": {},
   "outputs": [
    {
     "data": {
      "text/plain": [
       "'Hello, Python!'"
      ]
     },
     "execution_count": 63,
     "metadata": {},
     "output_type": "execute_result"
    }
   ],
   "source": [
    "# Replacing Substrings\n",
    "s = \"Hello, World!\"\n",
    "s_replace = s.replace(\"World\", \"Python\")   #\n",
    "s_replace"
   ]
  },
  {
   "cell_type": "code",
   "execution_count": 64,
   "metadata": {},
   "outputs": [
    {
     "name": "stdout",
     "output_type": "stream",
     "text": [
      "7\n",
      "7\n"
     ]
    }
   ],
   "source": [
    "# Finding Substrings\n",
    "s = \"Hello, World!\"\n",
    "index = s.find(\"World\")   \n",
    "rindex = s.rfind(\"World\") # (searches from the right)\n",
    "print(index)\n",
    "print(rindex) "
   ]
  },
  {
   "cell_type": "code",
   "execution_count": 65,
   "metadata": {},
   "outputs": [
    {
     "ename": "NameError",
     "evalue": "name 's_split' is not defined",
     "output_type": "error",
     "traceback": [
      "\u001b[1;31m---------------------------------------------------------------------------\u001b[0m",
      "\u001b[1;31mNameError\u001b[0m                                 Traceback (most recent call last)",
      "Cell \u001b[1;32mIn[65], line 1\u001b[0m\n\u001b[1;32m----> 1\u001b[0m s_join \u001b[38;5;241m=\u001b[39m \u001b[38;5;124m\"\u001b[39m\u001b[38;5;124m-\u001b[39m\u001b[38;5;124m\"\u001b[39m\u001b[38;5;241m.\u001b[39mjoin(\u001b[43ms_split\u001b[49m)   \u001b[38;5;66;03m# 'Hello-World'\u001b[39;00m\n\u001b[0;32m      2\u001b[0m s_join\n",
      "\u001b[1;31mNameError\u001b[0m: name 's_split' is not defined"
     ]
    }
   ],
   "source": [
    "s_join = \"-\".join(s_split)   # 'Hello-World'\n",
    "s_join"
   ]
  },
  {
   "cell_type": "code",
   "execution_count": 13,
   "metadata": {},
   "outputs": [
    {
     "data": {
      "text/plain": [
       "['Hello,', 'World!', 'Python']"
      ]
     },
     "execution_count": 13,
     "metadata": {},
     "output_type": "execute_result"
    }
   ],
   "source": [
    "s = \"Hello, World! Python\"\n",
    "s_split = s.split(\" \")   # ['Hello', ' World!']\n",
    "s_split"
   ]
  },
  {
   "cell_type": "code",
   "execution_count": null,
   "metadata": {},
   "outputs": [
    {
     "name": "stdout",
     "output_type": "stream",
     "text": [
      "<class 'str'>\n",
      "<class 'str'>\n"
     ]
    }
   ],
   "source": [
    "a = \"ML\"\n",
    "b = '10'\n",
    "print(type(a))\n",
    "print(type(b))\n"
   ]
  },
  {
   "cell_type": "code",
   "execution_count": null,
   "metadata": {},
   "outputs": [
    {
     "name": "stdout",
     "output_type": "stream",
     "text": [
      "Hello World\n"
     ]
    }
   ],
   "source": [
    "# Concatenate\n",
    "str1 = 'Hello'\n",
    "str2 = ' World'\n",
    "\n",
    "result = str1+str2\n",
    "print(result)"
   ]
  },
  {
   "cell_type": "code",
   "execution_count": 4,
   "metadata": {},
   "outputs": [
    {
     "name": "stdout",
     "output_type": "stream",
     "text": [
      "True False True False False\n"
     ]
    }
   ],
   "source": [
    "# Checking String Properties\n",
    "s = \"Hello\"\n",
    "is_alpha = s.isalpha()   \n",
    "is_digit = s.isdigit()   \n",
    "is_alnum = s.isalnum()   \n",
    "is_upper = s.isupper()   \n",
    "is_lower = s.islower() \n",
    "print(is_alpha, is_digit, is_alnum, is_upper, is_lower)"
   ]
  },
  {
   "cell_type": "markdown",
   "metadata": {},
   "source": [
    "#### 4. Boolean\n",
    "Represents the values TRUE or FALSE"
   ]
  },
  {
   "cell_type": "code",
   "execution_count": 15,
   "metadata": {},
   "outputs": [
    {
     "name": "stdout",
     "output_type": "stream",
     "text": [
      "The data type of a:  <class 'bool'>\n",
      "The value of a:  True\n",
      "True\n"
     ]
    }
   ],
   "source": [
    "a = True\n",
    "print('The data type of a: ',type(a))\n",
    "print('The value of a: ',bool(a))\n",
    "print(a)"
   ]
  },
  {
   "cell_type": "code",
   "execution_count": 16,
   "metadata": {},
   "outputs": [
    {
     "name": "stdout",
     "output_type": "stream",
     "text": [
      "True\n",
      "False\n"
     ]
    }
   ],
   "source": [
    "is_true = True\n",
    "is_false = False\n",
    "\n",
    "print(is_true)  \n",
    "print(is_false) "
   ]
  },
  {
   "cell_type": "code",
   "execution_count": null,
   "metadata": {},
   "outputs": [
    {
     "name": "stdout",
     "output_type": "stream",
     "text": [
      "False\n",
      "True\n"
     ]
    }
   ],
   "source": [
    "x = 5\n",
    "y = 10\n",
    "\n",
    "# Comparison operators return Boolean values\n",
    "is_equal = x == y\n",
    "is_not_equal = x != y\n",
    "\n",
    "print(is_equal)     \n",
    "print(is_not_equal)  "
   ]
  },
  {
   "cell_type": "code",
   "execution_count": null,
   "metadata": {},
   "outputs": [
    {
     "name": "stdout",
     "output_type": "stream",
     "text": [
      "False True False\n"
     ]
    }
   ],
   "source": [
    "a = True\n",
    "b = False\n",
    "\n",
    "# Logical AND\n",
    "result_and = a and b\n",
    "\n",
    "# Logical OR\n",
    "result_or = a or b\n",
    "\n",
    "# Logical NOT\n",
    "result_not = not a\n",
    "print(result_not, result_or, result_and)"
   ]
  },
  {
   "cell_type": "code",
   "execution_count": 17,
   "metadata": {},
   "outputs": [
    {
     "name": "stdout",
     "output_type": "stream",
     "text": [
      "The number is not greater than 50.\n"
     ]
    }
   ],
   "source": [
    "number = 42\n",
    "\n",
    "if number > 50:\n",
    "    print(\"The number is greater than 50.\")\n",
    "else:\n",
    "    print(\"The number is not greater than 50.\")"
   ]
  },
  {
   "cell_type": "code",
   "execution_count": null,
   "metadata": {},
   "outputs": [
    {
     "data": {
      "text/plain": [
       "NoneType"
      ]
     },
     "metadata": {},
     "output_type": "display_data"
    }
   ],
   "source": [
    "no_value = None\n",
    "type(no_value)"
   ]
  },
  {
   "cell_type": "markdown",
   "metadata": {},
   "source": [
    "### **Primitive Data Type conversion**\n",
    "Data type conversion, also known as type casting."
   ]
  },
  {
   "cell_type": "code",
   "execution_count": 18,
   "metadata": {},
   "outputs": [
    {
     "name": "stdout",
     "output_type": "stream",
     "text": [
      "5.0\n"
     ]
    },
    {
     "data": {
      "text/plain": [
       "float"
      ]
     },
     "execution_count": 18,
     "metadata": {},
     "output_type": "execute_result"
    }
   ],
   "source": [
    "a = 5\n",
    "#Integer to float\n",
    "b = float(a)\n",
    "print(b)\n",
    "type(b)"
   ]
  },
  {
   "cell_type": "code",
   "execution_count": 19,
   "metadata": {},
   "outputs": [
    {
     "name": "stdout",
     "output_type": "stream",
     "text": [
      "a is 5 and data type of a is <class 'int'>\n"
     ]
    }
   ],
   "source": [
    "a = 5.0\n",
    "#float to Integer\n",
    "b=int(a)\n",
    "print('a is {} and data type of a is {}'.format(b, type(b)))"
   ]
  },
  {
   "cell_type": "code",
   "execution_count": 21,
   "metadata": {},
   "outputs": [
    {
     "data": {
      "text/plain": [
       "15"
      ]
     },
     "execution_count": 21,
     "metadata": {},
     "output_type": "execute_result"
    }
   ],
   "source": [
    "x = '15'\n",
    "y = int(x)\n",
    "y"
   ]
  },
  {
   "cell_type": "code",
   "execution_count": 22,
   "metadata": {},
   "outputs": [
    {
     "name": "stdout",
     "output_type": "stream",
     "text": [
      "<class 'str'>\n",
      "d is 10 and e is 10.0\n",
      "<class 'int'> <class 'float'>\n"
     ]
    }
   ],
   "source": [
    "#String to Integer or float\n",
    "c = '10' #value should be numarical in the string\n",
    "print(type(c))\n",
    "d,e = int(c), float(c)\n",
    "print('d is {} and e is {}'.format(d,e))\n",
    "print(type(d), type(e))"
   ]
  },
  {
   "cell_type": "code",
   "execution_count": 23,
   "metadata": {},
   "outputs": [
    {
     "ename": "ValueError",
     "evalue": "invalid literal for int() with base 10: 'sameer'",
     "output_type": "error",
     "traceback": [
      "\u001b[1;31m---------------------------------------------------------------------------\u001b[0m",
      "\u001b[1;31mValueError\u001b[0m                                Traceback (most recent call last)",
      "Cell \u001b[1;32mIn[23], line 3\u001b[0m\n\u001b[0;32m      1\u001b[0m \u001b[38;5;66;03m#invalid conversion \u001b[39;00m\n\u001b[0;32m      2\u001b[0m sa \u001b[38;5;241m=\u001b[39m \u001b[38;5;124m'\u001b[39m\u001b[38;5;124msameer\u001b[39m\u001b[38;5;124m'\u001b[39m\n\u001b[1;32m----> 3\u001b[0m sam \u001b[38;5;241m=\u001b[39m \u001b[38;5;28;43mint\u001b[39;49m\u001b[43m(\u001b[49m\u001b[43msa\u001b[49m\u001b[43m)\u001b[49m,\u001b[38;5;28mfloat\u001b[39m(sa)\n\u001b[0;32m      4\u001b[0m \u001b[38;5;28mprint\u001b[39m(sam) \u001b[38;5;66;03m#ValueError: invalid literal for int() with base 10: 'sameer'\u001b[39;00m\n",
      "\u001b[1;31mValueError\u001b[0m: invalid literal for int() with base 10: 'sameer'"
     ]
    }
   ],
   "source": [
    "#invalid conversion \n",
    "sa = 'sameer'\n",
    "sam = int(sa),float(sa)\n",
    "print(sam) #ValueError: invalid literal for int() with base 10: 'sameer'"
   ]
  },
  {
   "cell_type": "code",
   "execution_count": 25,
   "metadata": {},
   "outputs": [
    {
     "name": "stdout",
     "output_type": "stream",
     "text": [
      "the sum is  20\n",
      "type of c  <class 'int'> 20.0\n"
     ]
    }
   ],
   "source": [
    "a = int(input('Tell a number '))\n",
    "b = int(input('tell second number '))\n",
    "c = a+b\n",
    "print('the sum is ',c)\n",
    "print(\"type of c \", type(c), float(c))"
   ]
  },
  {
   "cell_type": "code",
   "execution_count": 26,
   "metadata": {},
   "outputs": [
    {
     "name": "stdout",
     "output_type": "stream",
     "text": [
      "2.5\n",
      "<class 'str'>\n"
     ]
    }
   ],
   "source": [
    "# float to string\n",
    "a = 2.5\n",
    "b = str(a)\n",
    "print(b)\n",
    "print(type(b))"
   ]
  },
  {
   "cell_type": "code",
   "execution_count": 27,
   "metadata": {},
   "outputs": [
    {
     "name": "stdout",
     "output_type": "stream",
     "text": [
      "5\n",
      "<class 'str'>\n"
     ]
    }
   ],
   "source": [
    "#int to str\n",
    "a = 5\n",
    "b = str(a)\n",
    "print(b)\n",
    "print(type(b))"
   ]
  },
  {
   "cell_type": "code",
   "execution_count": null,
   "metadata": {},
   "outputs": [
    {
     "data": {
      "text/plain": [
       "2"
      ]
     },
     "metadata": {},
     "output_type": "display_data"
    }
   ],
   "source": [
    "e = 2.1\n",
    "int(e)"
   ]
  },
  {
   "cell_type": "markdown",
   "metadata": {},
   "source": [
    "## **Non-primitive Data Type**"
   ]
  },
  {
   "cell_type": "markdown",
   "metadata": {},
   "source": [
    "### **1. Lists**\n",
    "Python lists are similar to array in 'C'. However a list can contain data of different types.\n",
    "- Elements are enclosed within square brackets.\n",
    "- Elements are separated by comma(,).\n",
    "- Lists are mutable and ordered(indexed)."
   ]
  },
  {
   "cell_type": "code",
   "execution_count": 32,
   "metadata": {},
   "outputs": [],
   "source": [
    "# Creating a list\n",
    "fruits = [\"apple\", \"banana\", \"orange\", \"grape\"]"
   ]
  },
  {
   "cell_type": "code",
   "execution_count": 34,
   "metadata": {},
   "outputs": [
    {
     "name": "stdout",
     "output_type": "stream",
     "text": [
      "banana\n"
     ]
    }
   ],
   "source": [
    "# Accessing elements\n",
    "print(fruits[1])"
   ]
  },
  {
   "cell_type": "code",
   "execution_count": 35,
   "metadata": {},
   "outputs": [
    {
     "name": "stdout",
     "output_type": "stream",
     "text": [
      "['apple', 'kiwi', 'orange', 'grape']\n"
     ]
    }
   ],
   "source": [
    "# Modifying elements\n",
    "fruits[1] = \"kiwi\"\n",
    "print(fruits)"
   ]
  },
  {
   "cell_type": "code",
   "execution_count": 36,
   "metadata": {},
   "outputs": [
    {
     "name": "stdout",
     "output_type": "stream",
     "text": [
      "['apple', 'kiwi', 'orange', 'grape', 'melon']\n"
     ]
    }
   ],
   "source": [
    "# Adding elements\n",
    "fruits.append(\"melon\")\n",
    "print(fruits)"
   ]
  },
  {
   "cell_type": "code",
   "execution_count": 37,
   "metadata": {},
   "outputs": [
    {
     "name": "stdout",
     "output_type": "stream",
     "text": [
      "['apple', 'kiwi', 'orange', 'grape', 'melon', ['pinapple', 'Banana']]\n"
     ]
    }
   ],
   "source": [
    "fruits.append([\"pinapple\", \"Banana\"])\n",
    "print(fruits)"
   ]
  },
  {
   "cell_type": "code",
   "execution_count": 38,
   "metadata": {},
   "outputs": [
    {
     "data": {
      "text/plain": [
       "'pinapple'"
      ]
     },
     "execution_count": 38,
     "metadata": {},
     "output_type": "execute_result"
    }
   ],
   "source": [
    "fruits[5][0]"
   ]
  },
  {
   "cell_type": "code",
   "execution_count": 40,
   "metadata": {},
   "outputs": [
    {
     "name": "stdout",
     "output_type": "stream",
     "text": [
      "['apple', 'kiwi', 'orange', 'grape', 'melon', ['pinapple', 'Banana'], 'pinapple', 'Banana', 'pinapple', 'Banana']\n"
     ]
    }
   ],
   "source": [
    "fruits.extend([\"pinapple\", \"Banana\"])\n",
    "print(fruits)"
   ]
  },
  {
   "cell_type": "code",
   "execution_count": 41,
   "metadata": {},
   "outputs": [
    {
     "data": {
      "text/plain": [
       "'Banana'"
      ]
     },
     "execution_count": 41,
     "metadata": {},
     "output_type": "execute_result"
    }
   ],
   "source": [
    "fruits[5][1]"
   ]
  },
  {
   "cell_type": "code",
   "execution_count": 42,
   "metadata": {},
   "outputs": [
    {
     "name": "stdout",
     "output_type": "stream",
     "text": [
      "['apple', 'kiwi', 'pear', 'orange', 'grape', 'melon', ['pinapple', 'Banana'], 'pinapple', 'Banana', 'pinapple', 'Banana']\n"
     ]
    }
   ],
   "source": [
    "# Insert\n",
    "# Inserts an element at a specific index.\n",
    "fruits.insert(2, \"pear\")\n",
    "print(fruits)"
   ]
  },
  {
   "cell_type": "code",
   "execution_count": 43,
   "metadata": {},
   "outputs": [
    {
     "name": "stdout",
     "output_type": "stream",
     "text": [
      "pinapple\n",
      "['apple', 'kiwi', 'pear', 'orange', 'grape', 'melon', ['pinapple', 'Banana'], 'Banana', 'pinapple', 'Banana']\n"
     ]
    }
   ],
   "source": [
    "# Pop\n",
    "# Removes and returns the element at the specified index. If no index is provided, it removes and returns the last element.\n",
    "popped_fruit = fruits.pop(7)\n",
    "print(popped_fruit)\n",
    "print(fruits)"
   ]
  },
  {
   "cell_type": "code",
   "execution_count": 44,
   "metadata": {},
   "outputs": [
    {
     "name": "stdout",
     "output_type": "stream",
     "text": [
      "['apple', 'kiwi', 'pear', 'grape', 'melon', ['pinapple', 'Banana'], 'Banana', 'pinapple', 'Banana']\n"
     ]
    }
   ],
   "source": [
    "# Removing elements\n",
    "# Removes the first occurrence of the specified element.\n",
    "fruits.remove(\"orange\")\n",
    "print(fruits)"
   ]
  },
  {
   "cell_type": "code",
   "execution_count": 45,
   "metadata": {},
   "outputs": [
    {
     "name": "stdout",
     "output_type": "stream",
     "text": [
      "9\n"
     ]
    }
   ],
   "source": [
    "# List length\n",
    "# finding length of the list\n",
    "print(len(fruits))"
   ]
  },
  {
   "cell_type": "code",
   "execution_count": 46,
   "metadata": {},
   "outputs": [
    {
     "name": "stdout",
     "output_type": "stream",
     "text": [
      "4\n"
     ]
    }
   ],
   "source": [
    "# Index\n",
    "# Returns the index of the first occurrence of the specified element.\n",
    "index_of_apple = fruits.index('melon')\n",
    "print(index_of_apple)"
   ]
  },
  {
   "cell_type": "code",
   "execution_count": 47,
   "metadata": {},
   "outputs": [
    {
     "data": {
      "text/plain": [
       "['apple',\n",
       " 'kiwi',\n",
       " 'pear',\n",
       " 'grape',\n",
       " 'melon',\n",
       " ['pinapple', 'Banana'],\n",
       " 'Banana',\n",
       " 'pinapple',\n",
       " 'Banana',\n",
       " 'apple']"
      ]
     },
     "execution_count": 47,
     "metadata": {},
     "output_type": "execute_result"
    }
   ],
   "source": [
    "fruits.append('apple')\n",
    "fruits"
   ]
  },
  {
   "cell_type": "code",
   "execution_count": 51,
   "metadata": {},
   "outputs": [
    {
     "name": "stdout",
     "output_type": "stream",
     "text": [
      "['apple', 'grape', 'kiwi', 'melon', 'pear', ['pinapple', 'Banana'], 'pinapple', 56, 'Banana', 'apple']\n"
     ]
    }
   ],
   "source": [
    "fruits.insert(7, 56)\n",
    "print(fruits)"
   ]
  },
  {
   "cell_type": "code",
   "execution_count": 54,
   "metadata": {},
   "outputs": [
    {
     "name": "stdout",
     "output_type": "stream",
     "text": [
      "['apple', 'grape', 'kiwi', 'melon', 'pear', ['pinapple', 'Banana'], 'Banana', 'apple']\n"
     ]
    }
   ],
   "source": [
    "fruits.remove(56)\n",
    "print(fruits)"
   ]
  },
  {
   "cell_type": "code",
   "execution_count": 59,
   "metadata": {},
   "outputs": [
    {
     "name": "stdout",
     "output_type": "stream",
     "text": [
      "['apple', 'grape', 'kiwi', 'melon', 'pear', 'Banana', 'apple']\n"
     ]
    }
   ],
   "source": [
    "fruits.pop(5)\n",
    "print(fruits)"
   ]
  },
  {
   "cell_type": "code",
   "execution_count": 53,
   "metadata": {},
   "outputs": [
    {
     "name": "stdout",
     "output_type": "stream",
     "text": [
      "2\n"
     ]
    }
   ],
   "source": [
    "# Count\n",
    "# Returns the number of occurrences of the specified element.\n",
    "num_apples = fruits.count(\"apple\")\n",
    "print(num_apples)"
   ]
  },
  {
   "cell_type": "code",
   "execution_count": 61,
   "metadata": {},
   "outputs": [
    {
     "name": "stdout",
     "output_type": "stream",
     "text": [
      "['Banana', 'apple', 'apple', 'grape', 'kiwi', 'melon', 'pear']\n"
     ]
    }
   ],
   "source": [
    "# Sort\n",
    "# Sorts the elements of the list in ascending order.\n",
    "# sorting the list in default ascending order\n",
    "fruits.sort()\n",
    "print(fruits)"
   ]
  },
  {
   "cell_type": "code",
   "execution_count": 64,
   "metadata": {},
   "outputs": [
    {
     "name": "stdout",
     "output_type": "stream",
     "text": [
      "[4, 8, 9, 10, 12, 15, 24, 25.5, 35]\n"
     ]
    }
   ],
   "source": [
    "a = [12,10,4,8,9,15,24,35,25.5]\n",
    "a.sort()\n",
    "print(a)"
   ]
  },
  {
   "cell_type": "code",
   "execution_count": 65,
   "metadata": {},
   "outputs": [
    {
     "data": {
      "text/plain": [
       "[35, 25.5, 24, 15, 12, 10, 9, 8, 4]"
      ]
     },
     "execution_count": 65,
     "metadata": {},
     "output_type": "execute_result"
    }
   ],
   "source": [
    "a.sort(reverse=True)\n",
    "a"
   ]
  },
  {
   "cell_type": "code",
   "execution_count": 66,
   "metadata": {},
   "outputs": [
    {
     "name": "stdout",
     "output_type": "stream",
     "text": [
      "['pear', 'melon', 'kiwi', 'grape', 'apple', 'apple', 'Banana']\n"
     ]
    }
   ],
   "source": [
    "fruits.sort(reverse=True)\n",
    "print(fruits)"
   ]
  },
  {
   "cell_type": "code",
   "execution_count": 68,
   "metadata": {},
   "outputs": [
    {
     "name": "stdout",
     "output_type": "stream",
     "text": [
      "['Banana', 'apple', 'apple', 'grape', 'kiwi', 'melon', 'pear']\n"
     ]
    }
   ],
   "source": [
    "# Reverse\n",
    "# Reverses the order of the elements in the list.\n",
    "fruits.reverse()\n",
    "print(fruits)"
   ]
  },
  {
   "cell_type": "code",
   "execution_count": 69,
   "metadata": {},
   "outputs": [
    {
     "name": "stdout",
     "output_type": "stream",
     "text": [
      "Final List: ['Banana', 'apple', 'apple', 'grape', 'kiwi', 'melon', 'pear']\n"
     ]
    }
   ],
   "source": [
    "# Display the final list\n",
    "print(\"Final List:\", fruits)"
   ]
  },
  {
   "cell_type": "code",
   "execution_count": 70,
   "metadata": {},
   "outputs": [
    {
     "name": "stdout",
     "output_type": "stream",
     "text": [
      "['Banana', 'apple', 'apple', 'grape', 'kiwi', 'melon', 'pear']\n"
     ]
    }
   ],
   "source": [
    "f = fruits.copy()\n",
    "print(f)"
   ]
  },
  {
   "cell_type": "code",
   "execution_count": 82,
   "metadata": {},
   "outputs": [
    {
     "name": "stdout",
     "output_type": "stream",
     "text": [
      "<class 'list'> \n",
      "\n"
     ]
    }
   ],
   "source": [
    "# List of integers\n",
    "list1 = [1, 2, 3, 4, -4, 0, 2.45, None]\n",
    "print(type(list1), \"\\n\")"
   ]
  },
  {
   "cell_type": "code",
   "execution_count": 72,
   "metadata": {},
   "outputs": [],
   "source": [
    "# List of floats\n",
    "list2 = [1.01, 2.8, 3.4, 7.8]"
   ]
  },
  {
   "cell_type": "code",
   "execution_count": 73,
   "metadata": {},
   "outputs": [],
   "source": [
    "# List of strings\n",
    "list3 = ['a', 'b', 'c', 'd']"
   ]
  },
  {
   "cell_type": "code",
   "execution_count": 81,
   "metadata": {},
   "outputs": [
    {
     "data": {
      "text/plain": [
       "str"
      ]
     },
     "execution_count": 81,
     "metadata": {},
     "output_type": "execute_result"
    }
   ],
   "source": [
    "# List of different data types\n",
    "list4 = [1, 1.01, 'a']\n",
    "type(list4[2])"
   ]
  },
  {
   "cell_type": "code",
   "execution_count": null,
   "metadata": {},
   "outputs": [
    {
     "name": "stdout",
     "output_type": "stream",
     "text": [
      "7\n"
     ]
    }
   ],
   "source": [
    "# To check how many elements in a given list\n",
    "print(len(list1))"
   ]
  },
  {
   "cell_type": "markdown",
   "metadata": {},
   "source": [
    "##### Accessing elements and Slicing"
   ]
  },
  {
   "cell_type": "code",
   "execution_count": 84,
   "metadata": {},
   "outputs": [],
   "source": [
    "list5 = ['a','b','c','d','e','f','g','h','i']"
   ]
  },
  {
   "cell_type": "code",
   "execution_count": 85,
   "metadata": {},
   "outputs": [
    {
     "data": {
      "text/plain": [
       "0"
      ]
     },
     "execution_count": 85,
     "metadata": {},
     "output_type": "execute_result"
    }
   ],
   "source": [
    "list5.index('a')"
   ]
  },
  {
   "cell_type": "code",
   "execution_count": 86,
   "metadata": {},
   "outputs": [
    {
     "data": {
      "text/plain": [
       "['c', 'f']"
      ]
     },
     "execution_count": 86,
     "metadata": {},
     "output_type": "execute_result"
    }
   ],
   "source": [
    "# we can access any element in a given list based on Indices\n",
    "list5[2:7:3]\n"
   ]
  },
  {
   "cell_type": "code",
   "execution_count": 87,
   "metadata": {},
   "outputs": [
    {
     "data": {
      "text/plain": [
       "['b', 'c', 'd']"
      ]
     },
     "execution_count": 87,
     "metadata": {},
     "output_type": "execute_result"
    }
   ],
   "source": [
    "# we can access any element in a given list based on Index range: list[Start:End]\n",
    "list5[1:4]"
   ]
  },
  {
   "cell_type": "code",
   "execution_count": null,
   "metadata": {},
   "outputs": [
    {
     "data": {
      "text/plain": [
       "['c', 'd', 'e']"
      ]
     },
     "metadata": {},
     "output_type": "display_data"
    }
   ],
   "source": [
    "list5[2:5:1]"
   ]
  },
  {
   "cell_type": "code",
   "execution_count": null,
   "metadata": {},
   "outputs": [
    {
     "data": {
      "text/plain": [
       "'h'"
      ]
     },
     "metadata": {},
     "output_type": "display_data"
    }
   ],
   "source": [
    "#Reverse index accessing/slicing\n",
    "list5[-2]\n"
   ]
  },
  {
   "cell_type": "code",
   "execution_count": 88,
   "metadata": {},
   "outputs": [
    {
     "data": {
      "text/plain": [
       "['f', 'g', 'h']"
      ]
     },
     "execution_count": 88,
     "metadata": {},
     "output_type": "execute_result"
    }
   ],
   "source": [
    "list5[-4:-1]"
   ]
  },
  {
   "cell_type": "code",
   "execution_count": 89,
   "metadata": {},
   "outputs": [
    {
     "data": {
      "text/plain": [
       "['g', 'h', 'i']"
      ]
     },
     "execution_count": 89,
     "metadata": {},
     "output_type": "execute_result"
    }
   ],
   "source": [
    "list5[-3:]"
   ]
  },
  {
   "cell_type": "code",
   "execution_count": null,
   "metadata": {},
   "outputs": [
    {
     "name": "stdout",
     "output_type": "stream",
     "text": [
      "[]\n"
     ]
    }
   ],
   "source": [
    "list5.clear()\n",
    "print(list5)"
   ]
  },
  {
   "cell_type": "code",
   "execution_count": 6,
   "metadata": {},
   "outputs": [],
   "source": [
    "sam = [5,9,4,7,5,9,5,7,2,3,'no',5.12]"
   ]
  },
  {
   "cell_type": "code",
   "execution_count": 9,
   "metadata": {},
   "outputs": [
    {
     "name": "stdout",
     "output_type": "stream",
     "text": [
      "[5.12, 'no', 3, 2, 7, 5, 9, 5, 7, 4, 9, 5]\n"
     ]
    }
   ],
   "source": [
    "sam.reverse()\n",
    "print(sam)"
   ]
  },
  {
   "cell_type": "code",
   "execution_count": 92,
   "metadata": {},
   "outputs": [
    {
     "name": "stdout",
     "output_type": "stream",
     "text": [
      "[5, 9, 4, 7, 5, 9, 5, 7, 2, 3, 5.12]\n"
     ]
    }
   ],
   "source": [
    "sam.pop(10)\n",
    "print(sam)"
   ]
  },
  {
   "cell_type": "code",
   "execution_count": 93,
   "metadata": {},
   "outputs": [
    {
     "name": "stdout",
     "output_type": "stream",
     "text": [
      "[2, 3, 4, 5, 5, 5, 5.12, 7, 7, 9, 9]\n"
     ]
    }
   ],
   "source": [
    "sam.sort()\n",
    "print(sam)"
   ]
  },
  {
   "cell_type": "code",
   "execution_count": 94,
   "metadata": {},
   "outputs": [
    {
     "name": "stdout",
     "output_type": "stream",
     "text": [
      "[9, 9, 7, 7, 5.12, 5, 5, 5, 4, 3, 2]\n"
     ]
    }
   ],
   "source": [
    "sam.sort(reverse=True)\n",
    "print(sam)"
   ]
  },
  {
   "cell_type": "code",
   "execution_count": 95,
   "metadata": {},
   "outputs": [
    {
     "data": {
      "text/plain": [
       "[10, 9, 7, 7, 5.12, 5, 5, 5, 4, 3, 2]"
      ]
     },
     "execution_count": 95,
     "metadata": {},
     "output_type": "execute_result"
    }
   ],
   "source": [
    "sam[0] = 10\n",
    "sam"
   ]
  },
  {
   "cell_type": "code",
   "execution_count": 96,
   "metadata": {},
   "outputs": [
    {
     "name": "stdout",
     "output_type": "stream",
     "text": [
      "62.12\n",
      "5.647272727272727\n",
      "10\n",
      "2\n",
      "5.647272727272727\n",
      "5\n",
      "2.4167295707591734\n",
      "5\n"
     ]
    }
   ],
   "source": [
    "print(sum(sam))\n",
    "print(sum(sam)/len(sam))\n",
    "print(max(sam))\n",
    "print(min(sam))\n",
    "\n",
    "from statistics import mean, median, stdev, mode\n",
    "print(mean(sam))\n",
    "print(median(sam))\n",
    "print(stdev(sam))\n",
    "print(mode(sam))"
   ]
  },
  {
   "cell_type": "markdown",
   "metadata": {},
   "source": [
    "Exercise : Check and work on operations like Count, sort and insert"
   ]
  },
  {
   "cell_type": "code",
   "execution_count": 10,
   "metadata": {},
   "outputs": [
    {
     "name": "stdout",
     "output_type": "stream",
     "text": [
      "[1, 2, 3, 5, 6, 7]\n",
      "[[1, 2, 3], [5, 6, 7]]\n"
     ]
    }
   ],
   "source": [
    "#List of Lists\n",
    "x = [1,2,3]\n",
    "y = [5,6,7]\n",
    "l = x + y\n",
    "z = [x,y]\n",
    "print(l) #concatenation\n",
    "print(z)\n"
   ]
  },
  {
   "cell_type": "code",
   "execution_count": 11,
   "metadata": {},
   "outputs": [
    {
     "data": {
      "text/plain": [
       "2"
      ]
     },
     "execution_count": 11,
     "metadata": {},
     "output_type": "execute_result"
    }
   ],
   "source": [
    "z[0][1]"
   ]
  },
  {
   "cell_type": "code",
   "execution_count": 12,
   "metadata": {},
   "outputs": [
    {
     "name": "stdout",
     "output_type": "stream",
     "text": [
      "7\n"
     ]
    }
   ],
   "source": [
    "print(z[1][2])"
   ]
  },
  {
   "cell_type": "code",
   "execution_count": 3,
   "metadata": {},
   "outputs": [
    {
     "name": "stdout",
     "output_type": "stream",
     "text": [
      "List after swapping first and last elements: [5, 2, 3, 4, 1]\n"
     ]
    }
   ],
   "source": [
    "# Initialize a list\n",
    "my_list = [1, 2, 3, 4, 5]\n",
    "\n",
    "# Interchange first and last elements\n",
    "my_list[0], my_list[-1] = my_list[-1], my_list[0]\n",
    "\n",
    "# Print the modified list\n",
    "print(\"List after swapping first and last elements:\", my_list)"
   ]
  },
  {
   "cell_type": "code",
   "execution_count": 52,
   "metadata": {},
   "outputs": [
    {
     "name": "stdout",
     "output_type": "stream",
     "text": [
      "1\n",
      "[2, 3]\n",
      "3\n"
     ]
    }
   ],
   "source": [
    "list = (1, 2, 3)\n",
    "\n",
    "a,*b = list\n",
    "\n",
    "print(a)\n",
    "print(b)\n",
    "print(c)"
   ]
  },
  {
   "cell_type": "code",
   "execution_count": 5,
   "metadata": {},
   "outputs": [
    {
     "data": {
      "text/plain": [
       "[[1, 2, 3], [4, 5, 6]]"
      ]
     },
     "execution_count": 5,
     "metadata": {},
     "output_type": "execute_result"
    }
   ],
   "source": [
    "a = [1, 2, 3]\n",
    "b = [4, 5, 6]\n",
    "c = [a,b]\n",
    "c"
   ]
  },
  {
   "cell_type": "code",
   "execution_count": 4,
   "metadata": {},
   "outputs": [
    {
     "name": "stdout",
     "output_type": "stream",
     "text": [
      "[1, 2, 3, 4, 5, 6]\n"
     ]
    }
   ],
   "source": [
    "a = [1, 2, 3]\n",
    "b = [4, 5, 6]\n",
    "\n",
    "# Use the unpacking operator to merge the lists\n",
    "c = [*a, *b]\n",
    "\n",
    "print(c)"
   ]
  },
  {
   "cell_type": "markdown",
   "metadata": {},
   "source": [
    "### **2. Tuples**\n",
    "A data structure which is a collection of data which is ordered and unchngeable. Tuples are simply immutable lists.\n",
    "- Elements are enclosed within paranthesis.\n",
    "- Elements are separated by comma(,).\n",
    "- Tuples are immutable and ordered(indexed)."
   ]
  },
  {
   "cell_type": "code",
   "execution_count": 38,
   "metadata": {},
   "outputs": [
    {
     "name": "stdout",
     "output_type": "stream",
     "text": [
      "(3, 7, 4)\n"
     ]
    }
   ],
   "source": [
    "# Creating a tuple\n",
    "coordinates = (3, 7, 4)\n",
    "print(coordinates)"
   ]
  },
  {
   "cell_type": "code",
   "execution_count": 31,
   "metadata": {},
   "outputs": [
    {
     "name": "stdout",
     "output_type": "stream",
     "text": [
      "3 7\n"
     ]
    }
   ],
   "source": [
    "# Accessing elements\n",
    "x = coordinates[0]\n",
    "y = coordinates[1]\n",
    "print(x , y)"
   ]
  },
  {
   "cell_type": "code",
   "execution_count": 4,
   "metadata": {},
   "outputs": [
    {
     "data": {
      "text/plain": [
       "2"
      ]
     },
     "execution_count": 4,
     "metadata": {},
     "output_type": "execute_result"
    }
   ],
   "source": [
    "coordinates.index(4)"
   ]
  },
  {
   "cell_type": "code",
   "execution_count": 5,
   "metadata": {},
   "outputs": [
    {
     "data": {
      "text/plain": [
       "1"
      ]
     },
     "execution_count": 5,
     "metadata": {},
     "output_type": "execute_result"
    }
   ],
   "source": [
    "coordinates.count(3)"
   ]
  },
  {
   "cell_type": "code",
   "execution_count": 6,
   "metadata": {},
   "outputs": [
    {
     "ename": "AttributeError",
     "evalue": "'tuple' object has no attribute 'append'",
     "output_type": "error",
     "traceback": [
      "\u001b[1;31m---------------------------------------------------------------------------\u001b[0m",
      "\u001b[1;31mAttributeError\u001b[0m                            Traceback (most recent call last)",
      "Cell \u001b[1;32mIn[6], line 1\u001b[0m\n\u001b[1;32m----> 1\u001b[0m \u001b[43mcoordinates\u001b[49m\u001b[38;5;241;43m.\u001b[39;49m\u001b[43mappend\u001b[49m(\u001b[38;5;241m1\u001b[39m)\n",
      "\u001b[1;31mAttributeError\u001b[0m: 'tuple' object has no attribute 'append'"
     ]
    }
   ],
   "source": [
    "coordinates.append(1)"
   ]
  },
  {
   "cell_type": "code",
   "execution_count": 33,
   "metadata": {},
   "outputs": [
    {
     "name": "stdout",
     "output_type": "stream",
     "text": [
      "3\n"
     ]
    }
   ],
   "source": [
    "# Tuple unpacking\n",
    "a, b, c = (3, 7, 4)\n",
    "print(a)"
   ]
  },
  {
   "cell_type": "code",
   "execution_count": 8,
   "metadata": {},
   "outputs": [
    {
     "data": {
      "text/plain": [
       "(3, 7, 4)"
      ]
     },
     "execution_count": 8,
     "metadata": {},
     "output_type": "execute_result"
    }
   ],
   "source": [
    "coordinates"
   ]
  },
  {
   "cell_type": "code",
   "execution_count": 9,
   "metadata": {},
   "outputs": [
    {
     "ename": "TypeError",
     "evalue": "'tuple' object does not support item assignment",
     "output_type": "error",
     "traceback": [
      "\u001b[1;31m---------------------------------------------------------------------------\u001b[0m",
      "\u001b[1;31mTypeError\u001b[0m                                 Traceback (most recent call last)",
      "Cell \u001b[1;32mIn[9], line 3\u001b[0m\n\u001b[0;32m      1\u001b[0m \u001b[38;5;66;03m# Immutability\u001b[39;00m\n\u001b[0;32m      2\u001b[0m \u001b[38;5;66;03m# Uncommenting the line below will result in an error since tuples are immutable.\u001b[39;00m\n\u001b[1;32m----> 3\u001b[0m \u001b[43mcoordinates\u001b[49m\u001b[43m[\u001b[49m\u001b[38;5;241;43m0\u001b[39;49m\u001b[43m]\u001b[49m \u001b[38;5;241m=\u001b[39m \u001b[38;5;241m5\u001b[39m\n",
      "\u001b[1;31mTypeError\u001b[0m: 'tuple' object does not support item assignment"
     ]
    }
   ],
   "source": [
    "# Immutability\n",
    "# Uncommenting the line below will result in an error since tuples are immutable.\n",
    "coordinates[0] = 5"
   ]
  },
  {
   "cell_type": "code",
   "execution_count": 39,
   "metadata": {},
   "outputs": [
    {
     "data": {
      "text/plain": [
       "(3, 7, 4, 5, 4)"
      ]
     },
     "execution_count": 39,
     "metadata": {},
     "output_type": "execute_result"
    }
   ],
   "source": [
    "# Creating a new tuple with additional element\n",
    "new_coordinates = coordinates + (5, 4)\n",
    "new_coordinates"
   ]
  },
  {
   "cell_type": "code",
   "execution_count": 40,
   "metadata": {},
   "outputs": [
    {
     "name": "stdout",
     "output_type": "stream",
     "text": [
      "Original Coordinates: (3, 7, 4)\n",
      "New Coordinates: (3, 7, 4, 5, 4)\n"
     ]
    }
   ],
   "source": [
    "# Displaying the final results\n",
    "print(\"Original Coordinates:\", coordinates)\n",
    "print(\"New Coordinates:\", new_coordinates)"
   ]
  },
  {
   "cell_type": "code",
   "execution_count": 41,
   "metadata": {},
   "outputs": [
    {
     "name": "stdout",
     "output_type": "stream",
     "text": [
      "(1, 2, 3, 4, 5, 6)\n"
     ]
    },
    {
     "data": {
      "text/plain": [
       "tuple"
      ]
     },
     "execution_count": 41,
     "metadata": {},
     "output_type": "execute_result"
    }
   ],
   "source": [
    "T1 = (1,2,3)\n",
    "T2 = (4,5,6)\n",
    "T3 = T1 + T2\n",
    "print(T3)\n",
    "type(T3)"
   ]
  },
  {
   "cell_type": "code",
   "execution_count": 43,
   "metadata": {},
   "outputs": [
    {
     "data": {
      "text/plain": [
       "(1, 3, 5)"
      ]
     },
     "execution_count": 43,
     "metadata": {},
     "output_type": "execute_result"
    }
   ],
   "source": [
    "#Accessing\n",
    "T3[0:7:2]"
   ]
  },
  {
   "cell_type": "code",
   "execution_count": 17,
   "metadata": {},
   "outputs": [
    {
     "data": {
      "text/plain": [
       "(1, 2)"
      ]
     },
     "execution_count": 17,
     "metadata": {},
     "output_type": "execute_result"
    }
   ],
   "source": [
    "T3[:2]"
   ]
  },
  {
   "cell_type": "code",
   "execution_count": 18,
   "metadata": {},
   "outputs": [
    {
     "data": {
      "text/plain": [
       "(2, 3, 4, 5, 6)"
      ]
     },
     "execution_count": 18,
     "metadata": {},
     "output_type": "execute_result"
    }
   ],
   "source": [
    "T3[1:]"
   ]
  },
  {
   "cell_type": "code",
   "execution_count": 19,
   "metadata": {},
   "outputs": [
    {
     "data": {
      "text/plain": [
       "(2, 3, 4, 5)"
      ]
     },
     "execution_count": 19,
     "metadata": {},
     "output_type": "execute_result"
    }
   ],
   "source": [
    "T3[-5:-1]"
   ]
  },
  {
   "cell_type": "code",
   "execution_count": 44,
   "metadata": {},
   "outputs": [
    {
     "data": {
      "text/plain": [
       "(1, 2, 3, [5, 6, 5])"
      ]
     },
     "execution_count": 44,
     "metadata": {},
     "output_type": "execute_result"
    }
   ],
   "source": [
    "#Tuples can contain list as an element and the list inside a tuple is mutable\n",
    "T4 = (1,2,3,[5,6])\n",
    "T4[3].append(5)\n",
    "T4"
   ]
  },
  {
   "cell_type": "code",
   "execution_count": 46,
   "metadata": {},
   "outputs": [
    {
     "data": {
      "text/plain": [
       "(1, 2, 3, 4, 5, 6)"
      ]
     },
     "execution_count": 46,
     "metadata": {},
     "output_type": "execute_result"
    }
   ],
   "source": [
    "l1=[1,2,3]\n",
    "l2 = [4,5,6]\n",
    "z=(*l1,*l2)\n",
    "z"
   ]
  },
  {
   "cell_type": "code",
   "execution_count": 25,
   "metadata": {},
   "outputs": [
    {
     "data": {
      "text/plain": [
       "int"
      ]
     },
     "execution_count": 25,
     "metadata": {},
     "output_type": "execute_result"
    }
   ],
   "source": [
    "a =(\"q\",1,\"c\",5,6,9,10,25,368,52, [4, 1.2, 3])\n",
    "type(a[10][0])"
   ]
  },
  {
   "cell_type": "code",
   "execution_count": null,
   "metadata": {},
   "outputs": [
    {
     "data": {
      "text/plain": [
       "(9, 10, 25, 368)"
      ]
     },
     "metadata": {},
     "output_type": "display_data"
    }
   ],
   "source": [
    "a[5:9]"
   ]
  },
  {
   "cell_type": "code",
   "execution_count": 37,
   "metadata": {},
   "outputs": [],
   "source": [
    "sa = (1,2,3,4,5)"
   ]
  },
  {
   "cell_type": "code",
   "execution_count": 38,
   "metadata": {},
   "outputs": [
    {
     "name": "stdout",
     "output_type": "stream",
     "text": [
      "15\n",
      "3.0\n",
      "5\n",
      "1\n",
      "3\n",
      "3\n",
      "1\n",
      "2.5\n",
      "1.5811388300841898\n",
      "1\n"
     ]
    }
   ],
   "source": [
    "print(sum(sa))\n",
    "print(sum(sa)/len(sa))\n",
    "print(max(sa))\n",
    "print(min(sa))\n",
    "\n",
    "from statistics import mean, median, variance, stdev, mode\n",
    "\n",
    "print(mean(sa))\n",
    "print(median(sa))\n",
    "print(mode(sa))\n",
    "print(variance(sa))\n",
    "print(stdev(sa))\n",
    "print(mode(sa))"
   ]
  },
  {
   "cell_type": "markdown",
   "metadata": {},
   "source": [
    "### **3. Dictionary**\n",
    "Dictionary is used to store the data in a 'KEY:VALUE' pair format. Like a map or hash table in other languages.\n",
    "- Dictionary is mutable but unordered\n",
    "- All the elements are enclosed within flower brackets{}.\n",
    "- Each element is separated by comma\n",
    "- Each element is nothing but a 'KEY:VALUE' pair.\n",
    "- KEY must be a single element and unique\n",
    "- VALUE can be of any type like int, str, float, list, tuple.\n",
    "\n",
    "#### Syntax Example:\n",
    "Dictionary = {Key1:Value1, Key2:Value2, Key3:Value3}"
   ]
  },
  {
   "cell_type": "code",
   "execution_count": 67,
   "metadata": {},
   "outputs": [
    {
     "data": {
      "text/plain": [
       "{'name': ['John', 'Bhavan'], 'age': [20, 23], 'grade': ['A', 'B']}"
      ]
     },
     "execution_count": 67,
     "metadata": {},
     "output_type": "execute_result"
    }
   ],
   "source": [
    "# Creating a dictionary\n",
    "student_info = {'name': ['John', 'Bhavan'], 'age': [20, 23], 'grade': ['A','B']}\n",
    "student_info"
   ]
  },
  {
   "cell_type": "code",
   "execution_count": 68,
   "metadata": {},
   "outputs": [
    {
     "name": "stdout",
     "output_type": "stream",
     "text": [
      "{'name': ['John', 'Bhavan'], 'age': [20, 23], 'grade': ['A', 'B']}\n"
     ]
    }
   ],
   "source": [
    "# Copying the dict\n",
    "new_dict = student_info.copy()\n",
    "print(new_dict)"
   ]
  },
  {
   "cell_type": "code",
   "execution_count": 69,
   "metadata": {},
   "outputs": [
    {
     "data": {
      "text/plain": [
       "[20, 23]"
      ]
     },
     "execution_count": 69,
     "metadata": {},
     "output_type": "execute_result"
    }
   ],
   "source": [
    "new_dict['age']"
   ]
  },
  {
   "cell_type": "code",
   "execution_count": 70,
   "metadata": {},
   "outputs": [
    {
     "data": {
      "text/plain": [
       "20"
      ]
     },
     "execution_count": 70,
     "metadata": {},
     "output_type": "execute_result"
    }
   ],
   "source": [
    "student_info['age'][0]"
   ]
  },
  {
   "cell_type": "code",
   "execution_count": 71,
   "metadata": {},
   "outputs": [
    {
     "name": "stdout",
     "output_type": "stream",
     "text": [
      "Name: ['John', 'Bhavan'], Age: [20, 23]\n"
     ]
    }
   ],
   "source": [
    "# Accessing values using keys.\n",
    "name = student_info['name']\n",
    "age = student_info['age']\n",
    "print(f\"Name: {name}, Age: {age}\")"
   ]
  },
  {
   "cell_type": "code",
   "execution_count": 73,
   "metadata": {},
   "outputs": [
    {
     "data": {
      "text/plain": [
       "[20, 23]"
      ]
     },
     "execution_count": 73,
     "metadata": {},
     "output_type": "execute_result"
    }
   ],
   "source": [
    "# get method\n",
    "new_dict.get('age')"
   ]
  },
  {
   "cell_type": "code",
   "execution_count": 48,
   "metadata": {},
   "outputs": [
    {
     "data": {
      "text/plain": [
       "{'name': ['John', 'Bhavan'], 'age': [20, 23], 'grade': ['A', 'B']}"
      ]
     },
     "execution_count": 48,
     "metadata": {},
     "output_type": "execute_result"
    }
   ],
   "source": [
    "new_dict"
   ]
  },
  {
   "cell_type": "code",
   "execution_count": 74,
   "metadata": {},
   "outputs": [
    {
     "name": "stdout",
     "output_type": "stream",
     "text": [
      "dict_items([('name', ['John', 'Bhavan']), ('age', [20, 23]), ('grade', ['A', 'B'])])\n"
     ]
    }
   ],
   "source": [
    "# items method\n",
    "items = new_dict.items()\n",
    "print(items)"
   ]
  },
  {
   "cell_type": "code",
   "execution_count": 76,
   "metadata": {},
   "outputs": [
    {
     "name": "stdout",
     "output_type": "stream",
     "text": [
      "name ['John', 'Bhavan']\n",
      "John\n",
      "Bhavan\n",
      "age [20, 23]\n",
      "20\n",
      "23\n",
      "grade ['A', 'B']\n",
      "A\n",
      "B\n"
     ]
    }
   ],
   "source": [
    "for i,j in new_dict.items():\n",
    "    print(i,j)\n",
    "    for k in j:\n",
    "        print(k)"
   ]
  },
  {
   "cell_type": "code",
   "execution_count": 51,
   "metadata": {},
   "outputs": [
    {
     "name": "stdout",
     "output_type": "stream",
     "text": [
      "dict_keys(['name', 'age', 'grade'])\n"
     ]
    }
   ],
   "source": [
    "# keys method\n",
    "keys = new_dict.keys()\n",
    "print(keys)"
   ]
  },
  {
   "cell_type": "code",
   "execution_count": 77,
   "metadata": {},
   "outputs": [
    {
     "name": "stdout",
     "output_type": "stream",
     "text": [
      "dict_values([['John', 'Bhavan'], [20, 23], ['A', 'B']])\n"
     ]
    }
   ],
   "source": [
    "# values method\n",
    "values = new_dict.values()\n",
    "print(values)"
   ]
  },
  {
   "cell_type": "code",
   "execution_count": 53,
   "metadata": {},
   "outputs": [
    {
     "data": {
      "text/plain": [
       "{'name': ['John', 'Bhavan'], 'age': [20, 23], 'grade': ['A', 'B']}"
      ]
     },
     "execution_count": 53,
     "metadata": {},
     "output_type": "execute_result"
    }
   ],
   "source": [
    "student_info"
   ]
  },
  {
   "cell_type": "code",
   "execution_count": 78,
   "metadata": {},
   "outputs": [
    {
     "name": "stdout",
     "output_type": "stream",
     "text": [
      "{'name': ['John', 'Bhavan'], 'age': [21, 23], 'grade': ['A', 'B']}\n"
     ]
    }
   ],
   "source": [
    "# Modifying the value associated with a key.\n",
    "student_info['age'][0] = 21\n",
    "print(student_info)"
   ]
  },
  {
   "cell_type": "code",
   "execution_count": 79,
   "metadata": {},
   "outputs": [
    {
     "name": "stdout",
     "output_type": "stream",
     "text": [
      "{'name': ['John', 'Bhavan'], 'age': [21, 23], 'grade': ['A', 'B'], 'city': ['Blore', 'Mumbai']}\n"
     ]
    }
   ],
   "source": [
    "# Using update method to modify a value\n",
    "student_info.update({'city': ['Blore', 'Mumbai']})\n",
    "print(student_info)"
   ]
  },
  {
   "cell_type": "code",
   "execution_count": 80,
   "metadata": {},
   "outputs": [
    {
     "data": {
      "text/plain": [
       "dict_keys(['name', 'age', 'grade', 'city'])"
      ]
     },
     "execution_count": 80,
     "metadata": {},
     "output_type": "execute_result"
    }
   ],
   "source": [
    "student_info.keys()"
   ]
  },
  {
   "cell_type": "code",
   "execution_count": 81,
   "metadata": {},
   "outputs": [
    {
     "name": "stdout",
     "output_type": "stream",
     "text": [
      "India\n",
      "{'name': ['John', 'Bhavan'], 'age': [21, 23], 'grade': ['A', 'B'], 'city': ['Blore', 'Mumbai'], 'country': 'India'}\n"
     ]
    }
   ],
   "source": [
    "# Using setdefault method\n",
    "country = student_info.setdefault('country', 'India')\n",
    "print(country)\n",
    "print(student_info)"
   ]
  },
  {
   "cell_type": "code",
   "execution_count": 82,
   "metadata": {},
   "outputs": [
    {
     "name": "stdout",
     "output_type": "stream",
     "text": [
      "{'name': ['John', 'Bhavan'], 'age': [21, 23], 'grade': ['A', 'B'], 'city': ['Blore', 'Mumbai']}\n"
     ]
    }
   ],
   "source": [
    "# Removing key-value pairs.\n",
    "del student_info['country']\n",
    "print(student_info)"
   ]
  },
  {
   "cell_type": "code",
   "execution_count": 83,
   "metadata": {},
   "outputs": [
    {
     "name": "stdout",
     "output_type": "stream",
     "text": [
      "['A', 'B']\n",
      "{'name': ['John', 'Bhavan'], 'age': [21, 23], 'city': ['Blore', 'Mumbai']}\n"
     ]
    }
   ],
   "source": [
    "# Using pop method to remove a key-value pair\n",
    "popi = student_info.pop('grade')\n",
    "print(popi)\n",
    "print(student_info)"
   ]
  },
  {
   "cell_type": "code",
   "execution_count": 61,
   "metadata": {},
   "outputs": [
    {
     "name": "stdout",
     "output_type": "stream",
     "text": [
      "3\n"
     ]
    }
   ],
   "source": [
    "# Determining the number of key-value pairs in a dictionary.\n",
    "length = len(student_info)\n",
    "print(length)"
   ]
  },
  {
   "cell_type": "code",
   "execution_count": 84,
   "metadata": {},
   "outputs": [
    {
     "name": "stdout",
     "output_type": "stream",
     "text": [
      "{'India': 'Virat Kohli', 'Pakistan': 'Babar Azam', 'Australia': 'Tim Paine', 'South Africa': 'Du Plesis'}\n"
     ]
    }
   ],
   "source": [
    "captains = {}\n",
    "captains[\"India\"] = \"Virat Kohli\"\n",
    "captains[\"Pakistan\"] = \"Babar Azam\"\n",
    "captains[\"Australia\"] = \"Tim Paine\"\n",
    "captains[\"South Africa\"] = \"Du Plesis\"\n",
    "\n",
    "print(captains)"
   ]
  },
  {
   "cell_type": "code",
   "execution_count": 2,
   "metadata": {},
   "outputs": [
    {
     "data": {
      "text/plain": [
       "'Virat Kohli'"
      ]
     },
     "execution_count": 2,
     "metadata": {},
     "output_type": "execute_result"
    }
   ],
   "source": [
    "captains[\"India\"]"
   ]
  },
  {
   "cell_type": "code",
   "execution_count": 3,
   "metadata": {},
   "outputs": [
    {
     "data": {
      "text/plain": [
       "'Virat Kohli'"
      ]
     },
     "execution_count": 3,
     "metadata": {},
     "output_type": "execute_result"
    }
   ],
   "source": [
    "captains.get(\"India\")"
   ]
  },
  {
   "cell_type": "code",
   "execution_count": 4,
   "metadata": {},
   "outputs": [
    {
     "name": "stdout",
     "output_type": "stream",
     "text": [
      "Virat Kohli\n"
     ]
    }
   ],
   "source": [
    "print(captains.pop(\"India\"))"
   ]
  },
  {
   "cell_type": "code",
   "execution_count": 5,
   "metadata": {},
   "outputs": [
    {
     "data": {
      "text/plain": [
       "{'Pakistan': 'Babar Azam',\n",
       " 'Australia': 'Tim Paine',\n",
       " 'South Africa': 'Du Plesis'}"
      ]
     },
     "execution_count": 5,
     "metadata": {},
     "output_type": "execute_result"
    }
   ],
   "source": [
    "captains"
   ]
  },
  {
   "cell_type": "code",
   "execution_count": 6,
   "metadata": {},
   "outputs": [
    {
     "data": {
      "text/plain": [
       "{'Pakistan': 'Babar Azam',\n",
       " 'Australia': 'Tim Paine',\n",
       " 'South Africa': 'Du Plesis',\n",
       " 'India': 'Rohith Sharma'}"
      ]
     },
     "execution_count": 6,
     "metadata": {},
     "output_type": "execute_result"
    }
   ],
   "source": [
    "#Let's change the captain of India(locally:)\n",
    "captains[\"India\"] = 'Rohith Sharma'\n",
    "captains"
   ]
  },
  {
   "cell_type": "code",
   "execution_count": 85,
   "metadata": {},
   "outputs": [
    {
     "data": {
      "text/plain": [
       "{'India': 'Virat Kohli',\n",
       " 'Pakistan': 'Babar Azam',\n",
       " 'Australia': 'Tim Paine',\n",
       " 'South Africa': 'Du Plesis',\n",
       " 'England': 'Ben Stokes'}"
      ]
     },
     "execution_count": 85,
     "metadata": {},
     "output_type": "execute_result"
    }
   ],
   "source": [
    "#add new key:value pair\n",
    "captains['England'] = 'Ben Stokes'\n",
    "captains"
   ]
  },
  {
   "cell_type": "code",
   "execution_count": 87,
   "metadata": {},
   "outputs": [
    {
     "data": {
      "text/plain": [
       "{'India': 'Virat Kohli',\n",
       " 'Pakistan': 'Babar Azam',\n",
       " 'Australia': 'Tim Paine',\n",
       " 'South Africa': 'Du Plesis',\n",
       " 'England': {'T20': 'Ben Stokes', 'ODI': 'Eoin Morgan', 'Test': 'Joe Root'}}"
      ]
     },
     "execution_count": 87,
     "metadata": {},
     "output_type": "execute_result"
    }
   ],
   "source": [
    "# Nested Dictionary\n",
    "captains['England'] = {'T20':'Ben Stokes','ODI':'Eoin Morgan', 'Test':'Joe Root'}\n",
    "captains"
   ]
  },
  {
   "cell_type": "code",
   "execution_count": 88,
   "metadata": {},
   "outputs": [
    {
     "data": {
      "text/plain": [
       "'Eoin Morgan'"
      ]
     },
     "execution_count": 88,
     "metadata": {},
     "output_type": "execute_result"
    }
   ],
   "source": [
    "captains['England']['ODI']"
   ]
  },
  {
   "cell_type": "code",
   "execution_count": 10,
   "metadata": {},
   "outputs": [
    {
     "data": {
      "text/plain": [
       "'Ben Stokes'"
      ]
     },
     "execution_count": 10,
     "metadata": {},
     "output_type": "execute_result"
    }
   ],
   "source": [
    "captains['England']['T20']"
   ]
  },
  {
   "cell_type": "code",
   "execution_count": 89,
   "metadata": {},
   "outputs": [],
   "source": [
    "captains.update({'India': [('T20', 'Surya Kumar Yadav'), ('ODI', 'Rohit Sharma'), ('Test', 'Rohit Sharma')]})"
   ]
  },
  {
   "cell_type": "code",
   "execution_count": 90,
   "metadata": {},
   "outputs": [
    {
     "data": {
      "text/plain": [
       "{'India': [('T20', 'Surya Kumar Yadav'),\n",
       "  ('ODI', 'Rohit Sharma'),\n",
       "  ('Test', 'Rohit Sharma')],\n",
       " 'Pakistan': 'Babar Azam',\n",
       " 'Australia': 'Tim Paine',\n",
       " 'South Africa': 'Du Plesis',\n",
       " 'England': {'T20': 'Ben Stokes', 'ODI': 'Eoin Morgan', 'Test': 'Joe Root'}}"
      ]
     },
     "execution_count": 90,
     "metadata": {},
     "output_type": "execute_result"
    }
   ],
   "source": [
    "captains"
   ]
  },
  {
   "cell_type": "code",
   "execution_count": 91,
   "metadata": {},
   "outputs": [
    {
     "data": {
      "text/plain": [
       "'Rohit Sharma'"
      ]
     },
     "execution_count": 91,
     "metadata": {},
     "output_type": "execute_result"
    }
   ],
   "source": [
    "captains['India'][1][1]"
   ]
  },
  {
   "cell_type": "code",
   "execution_count": 92,
   "metadata": {},
   "outputs": [
    {
     "name": "stdout",
     "output_type": "stream",
     "text": [
      "{'India': [('T20', 'Surya Kumar Yadav'), ('ODI', 'Rohit Sharma'), ('Test', 'Rohit Sharma')], 'Pakistan': 'Babar Azam', 'Australia': 'Tim Paine', 'South Africa': 'Du Plesis', 'England': {'T20': 'Ben Stokes', 'ODI': 'Eoin Morgan', 'Test': 'Joe Root'}}\n"
     ]
    }
   ],
   "source": [
    "print(captains)"
   ]
  },
  {
   "cell_type": "code",
   "execution_count": 93,
   "metadata": {},
   "outputs": [
    {
     "data": {
      "text/plain": [
       "'Surya Kumar Yadav'"
      ]
     },
     "execution_count": 93,
     "metadata": {},
     "output_type": "execute_result"
    }
   ],
   "source": [
    "captains['India'][0][1]"
   ]
  },
  {
   "cell_type": "code",
   "execution_count": 94,
   "metadata": {},
   "outputs": [
    {
     "name": "stdout",
     "output_type": "stream",
     "text": [
      "dict_items([('India', [('T20', 'Surya Kumar Yadav'), ('ODI', 'Rohit Sharma'), ('Test', 'Rohit Sharma')]), ('Pakistan', 'Babar Azam'), ('Australia', 'Tim Paine'), ('South Africa', 'Du Plesis'), ('England', {'T20': 'Ben Stokes', 'ODI': 'Eoin Morgan', 'Test': 'Joe Root'})])\n"
     ]
    }
   ],
   "source": [
    "listoftuples = captains.items() #returns a list of tuples containing key-value. Hence, a dictionary can be created using a list of tuples.\n",
    "print(listoftuples)"
   ]
  },
  {
   "cell_type": "code",
   "execution_count": 98,
   "metadata": {},
   "outputs": [
    {
     "name": "stdout",
     "output_type": "stream",
     "text": [
      "970\n",
      "550\n",
      "20\n",
      "[20, 30, 40, 50, 60, 70, 150, 550]\n",
      "[550, 150, 70, 60, 50, 40, 30, 20]\n"
     ]
    }
   ],
   "source": [
    "alphnumaric = {\"Milon\":550, \"Banana\": 50, \"Olive\": 20, \"Tomato\": 150, \"Potato\": 30, \"Onion\": 40, \"Garlic\": 70, \"Ginger\": 60}\n",
    "\n",
    "print(sum(alphnumaric.values()))\n",
    "print(max(alphnumaric.values()))\n",
    "print(min(alphnumaric.values()))\n",
    "print(sorted(alphnumaric.values()))\n",
    "print(sorted(alphnumaric.values(), reverse=True))"
   ]
  },
  {
   "cell_type": "markdown",
   "metadata": {},
   "source": [
    "### **4. Sets**\n",
    "\n",
    "Collection of unordered items/elements.\n",
    "- Elements/items are enclosed within flower brackets{}\n",
    "- Sets are mutable\n",
    "- Each element/item must be unique\n",
    "- Sets remove duplicate values and returns sorted values\n",
    "- unorder"
   ]
  },
  {
   "cell_type": "code",
   "execution_count": 99,
   "metadata": {},
   "outputs": [
    {
     "data": {
      "text/plain": [
       "{1, 2, 3, 4, 5, 7}"
      ]
     },
     "execution_count": 99,
     "metadata": {},
     "output_type": "execute_result"
    }
   ],
   "source": [
    "# Creating a set\n",
    "unique_numbers = {1, 2, 3, 4, 5, 1, 2 ,7}\n",
    "unique_numbers"
   ]
  },
  {
   "cell_type": "code",
   "execution_count": 100,
   "metadata": {},
   "outputs": [
    {
     "name": "stdout",
     "output_type": "stream",
     "text": [
      "{1, 2, 3, 4, 5, 6, 7}\n"
     ]
    }
   ],
   "source": [
    "# Adding elements to a set\n",
    "unique_numbers.add(6)\n",
    "print(unique_numbers)"
   ]
  },
  {
   "cell_type": "code",
   "execution_count": 102,
   "metadata": {},
   "outputs": [
    {
     "name": "stdout",
     "output_type": "stream",
     "text": [
      "{1, 2, 3, 4, 5, 6}\n"
     ]
    }
   ],
   "source": [
    "# Removing elements from a set\n",
    "unique_numbers.remove(7)\n",
    "print(unique_numbers)"
   ]
  },
  {
   "cell_type": "code",
   "execution_count": 103,
   "metadata": {},
   "outputs": [
    {
     "name": "stdout",
     "output_type": "stream",
     "text": [
      "6\n"
     ]
    }
   ],
   "source": [
    "# Determining the number of elements in a set\n",
    "length = len(unique_numbers)\n",
    "print(length)"
   ]
  },
  {
   "cell_type": "code",
   "execution_count": 27,
   "metadata": {},
   "outputs": [
    {
     "name": "stdout",
     "output_type": "stream",
     "text": [
      "Union: {1, 2, 3, 4, 5}\n",
      "Intersection: {3}\n",
      "Difference: {4, 5}\n"
     ]
    }
   ],
   "source": [
    "# Set operations\n",
    "set1 = {1, 2, 3}\n",
    "set2 = {3, 4, 5}\n",
    "\n",
    "# Set operations like union, intersection, and difference\n",
    "union_set = set1.union(set2)\n",
    "intersection_set = set1.intersection(set2)\n",
    "difference_set = set2.difference(set1)\n",
    "print(\"Union:\", union_set)\n",
    "print(\"Intersection:\", intersection_set)\n",
    "print(\"Difference:\", difference_set)"
   ]
  },
  {
   "cell_type": "code",
   "execution_count": 106,
   "metadata": {},
   "outputs": [
    {
     "data": {
      "text/plain": [
       "{'Python', 'fun', 'is', 'powerful,', 'versatile,'}"
      ]
     },
     "execution_count": 106,
     "metadata": {},
     "output_type": "execute_result"
    }
   ],
   "source": [
    "# Example: Finding unique words in a text\n",
    "text = \"Python is powerful, Python is versatile, Python is fun\"\n",
    "unique_words = set(text.split(' ')) #[Python, is, powerful,, versatile,, fun]\n",
    "unique_words"
   ]
  },
  {
   "cell_type": "code",
   "execution_count": 107,
   "metadata": {},
   "outputs": [
    {
     "data": {
      "text/plain": [
       "{3, 4, 5, 6}"
      ]
     },
     "execution_count": 107,
     "metadata": {},
     "output_type": "execute_result"
    }
   ],
   "source": [
    "set1 = {4,3,5,5,6}\n",
    "set1 "
   ]
  },
  {
   "cell_type": "code",
   "execution_count": 108,
   "metadata": {},
   "outputs": [
    {
     "data": {
      "text/plain": [
       "{1, 2, 3, 4, 6, 8}"
      ]
     },
     "execution_count": 108,
     "metadata": {},
     "output_type": "execute_result"
    }
   ],
   "source": [
    "a = [1,1,2,6,2,3,8,4]\n",
    "b = set(a)\n",
    "b"
   ]
  },
  {
   "cell_type": "code",
   "execution_count": 109,
   "metadata": {},
   "outputs": [
    {
     "data": {
      "text/plain": [
       "{1, 2, 5, 6, 8}"
      ]
     },
     "execution_count": 109,
     "metadata": {},
     "output_type": "execute_result"
    }
   ],
   "source": [
    "a = (1,2,2,6,5,8,5,5)\n",
    "d = set(a)\n",
    "d"
   ]
  },
  {
   "cell_type": "code",
   "execution_count": 110,
   "metadata": {},
   "outputs": [
    {
     "name": "stdout",
     "output_type": "stream",
     "text": [
      "22\n",
      "4.4\n",
      "8\n",
      "1\n",
      "4.4\n",
      "5\n",
      "8.3\n",
      "2.8809720581775866\n",
      "1\n"
     ]
    }
   ],
   "source": [
    "print(sum(d))\n",
    "print(sum(d)/len(d))\n",
    "print(max(d))\n",
    "print(min(d))\n",
    "\n",
    "from statistics import mean, median, variance, stdev, mode\n",
    "print(mean(d))\n",
    "print(median(d))\n",
    "print(variance(d))\n",
    "print(stdev(d))\n",
    "print(mode(d))"
   ]
  },
  {
   "cell_type": "markdown",
   "metadata": {},
   "source": [
    "## **Non-Primitive Data type conversion**"
   ]
  },
  {
   "cell_type": "markdown",
   "metadata": {},
   "source": [
    "A nested Data structure is a collection of data structure in one another like a list of lists, a list of tuples, a tuple of tuples..."
   ]
  },
  {
   "cell_type": "code",
   "execution_count": 43,
   "metadata": {},
   "outputs": [
    {
     "name": "stdout",
     "output_type": "stream",
     "text": [
      "(1, 2, 3, 4, 5)\n"
     ]
    },
    {
     "data": {
      "text/plain": [
       "tuple"
      ]
     },
     "execution_count": 43,
     "metadata": {},
     "output_type": "execute_result"
    }
   ],
   "source": [
    "# List to Tuple (and Vice Versa):\n",
    "# From List to Tuple:\n",
    "my_list = [1, 2, 3, 4, 5] \n",
    "my_tuple = tuple(my_list)\n",
    "print(my_tuple)\n",
    "type(my_tuple)"
   ]
  },
  {
   "cell_type": "code",
   "execution_count": 45,
   "metadata": {},
   "outputs": [
    {
     "name": "stdout",
     "output_type": "stream",
     "text": [
      "{1, 2, 3, 4, 5}\n"
     ]
    },
    {
     "data": {
      "text/plain": [
       "set"
      ]
     },
     "execution_count": 45,
     "metadata": {},
     "output_type": "execute_result"
    }
   ],
   "source": [
    "# From List to Set:\n",
    "my_list = [1, 2, 2, 3, 4, 4, 5]\n",
    "my_set = set(my_list)\n",
    "print(my_set)\n",
    "type(my_set)"
   ]
  },
  {
   "cell_type": "code",
   "execution_count": 47,
   "metadata": {},
   "outputs": [
    {
     "name": "stdout",
     "output_type": "stream",
     "text": [
      "{'apple': 5, 'banana': 2, 'orange': 3}\n"
     ]
    }
   ],
   "source": [
    "# List of Tuples to Dictionary:\n",
    "my_list_of_tuples = [[\"apple\", 5], [\"banana\", 2], [\"orange\", 3]]\n",
    "my_dict = dict(my_list_of_tuples)\n",
    "print(my_dict)"
   ]
  },
  {
   "cell_type": "code",
   "execution_count": 48,
   "metadata": {},
   "outputs": [
    {
     "name": "stdout",
     "output_type": "stream",
     "text": [
      "[1, 2, 3, 4, 5]\n"
     ]
    },
    {
     "data": {
      "text/plain": [
       "list"
      ]
     },
     "execution_count": 48,
     "metadata": {},
     "output_type": "execute_result"
    }
   ],
   "source": [
    "# From Tuple to List:\n",
    "my_tuple = (1, 2, 3, 4, 5)\n",
    "my_list = list(my_tuple)\n",
    "print(my_list)\n",
    "type(my_list)"
   ]
  },
  {
   "cell_type": "code",
   "execution_count": 49,
   "metadata": {},
   "outputs": [
    {
     "name": "stdout",
     "output_type": "stream",
     "text": [
      "{1, 2, 3, 4, 5}\n"
     ]
    }
   ],
   "source": [
    "# tuple to Set (and Vice Versa):\n",
    "# From tuple to Set:\n",
    "my_list = (1, 2, 2, 3, 4, 4, 5)\n",
    "my_set = set(my_list)\n",
    "print(my_set)"
   ]
  },
  {
   "cell_type": "code",
   "execution_count": 52,
   "metadata": {},
   "outputs": [
    {
     "name": "stdout",
     "output_type": "stream",
     "text": [
      "{'apple': 5, 'banana': 2, 'orange': 3}\n"
     ]
    },
    {
     "data": {
      "text/plain": [
       "dict_keys(['apple', 'banana', 'orange'])"
      ]
     },
     "execution_count": 52,
     "metadata": {},
     "output_type": "execute_result"
    }
   ],
   "source": [
    "# Tuple to Dictionary:\n",
    "my_tuple = ((\"apple\", 5), (\"banana\", 2), (\"orange\", 3))\n",
    "my_dict = dict(my_tuple)\n",
    "print(my_dict)\n",
    "my_dict.keys()"
   ]
  },
  {
   "cell_type": "code",
   "execution_count": 53,
   "metadata": {},
   "outputs": [
    {
     "name": "stdout",
     "output_type": "stream",
     "text": [
      "[('apple', 5), ('banana', 2), ('orange', 3)]\n"
     ]
    }
   ],
   "source": [
    "# Dictionary to List of Tuples\n",
    "my_dict = {\"apple\": 5, \"banana\": 2, \"orange\": 3}\n",
    "my_list_of_tuples = list(my_dict.items())\n",
    "print(my_list_of_tuples)"
   ]
  },
  {
   "cell_type": "code",
   "execution_count": 54,
   "metadata": {},
   "outputs": [
    {
     "name": "stdout",
     "output_type": "stream",
     "text": [
      "(('apple', 5), ('banana', 2), ('orange', 3))\n"
     ]
    }
   ],
   "source": [
    "my_dict = {\"apple\": 5, \"banana\": 2, \"orange\": 3}\n",
    "tuple_of_tuples = tuple(my_dict.items())\n",
    "print(my_list_of_tuples)"
   ]
  },
  {
   "cell_type": "code",
   "execution_count": 55,
   "metadata": {},
   "outputs": [
    {
     "name": "stdout",
     "output_type": "stream",
     "text": [
      "[1, 2, 3, 4, 5]\n"
     ]
    }
   ],
   "source": [
    "# Set to List (and Vice Versa)\n",
    "# From Set to List:\n",
    "my_set = {1, 2, 3, 4, 5}\n",
    "my_list = list(my_set)\n",
    "print(my_list)"
   ]
  },
  {
   "cell_type": "code",
   "execution_count": 56,
   "metadata": {},
   "outputs": [
    {
     "name": "stdout",
     "output_type": "stream",
     "text": [
      "(1, 2, 3, 4, 5)\n"
     ]
    }
   ],
   "source": [
    "# From Set to Tuple:\n",
    "my_set = {1, 2, 3, 4, 5}\n",
    "my_list = tuple(my_set)\n",
    "print(my_list)"
   ]
  },
  {
   "cell_type": "code",
   "execution_count": 57,
   "metadata": {},
   "outputs": [
    {
     "data": {
      "text/plain": [
       "(12, 2, 5, 6, 9, 7, 8, 6)"
      ]
     },
     "execution_count": 57,
     "metadata": {},
     "output_type": "execute_result"
    }
   ],
   "source": [
    "a  = [12,2,5,6,9,7,8,6]\n",
    "b = tuple(a)\n",
    "b"
   ]
  },
  {
   "cell_type": "code",
   "execution_count": 58,
   "metadata": {},
   "outputs": [
    {
     "data": {
      "text/plain": [
       "[2, 5, 6, 9, 7, 8, 6]"
      ]
     },
     "execution_count": 58,
     "metadata": {},
     "output_type": "execute_result"
    }
   ],
   "source": [
    "a = (2,5,6,9,7,8,6)\n",
    "c = list(a)\n",
    "c"
   ]
  },
  {
   "cell_type": "code",
   "execution_count": null,
   "metadata": {},
   "outputs": [
    {
     "data": {
      "text/plain": [
       "[1, 5, 3, (5, 6, 7)]"
      ]
     },
     "metadata": {},
     "output_type": "display_data"
    }
   ],
   "source": [
    "# A list of tuples, A tuple as an element can be replaced/added/removed from the list but element tuple itself is still immutable\n",
    "a1 = [1,2,3,(5,6,7)]\n",
    "a1[1]\n",
    "a1[1] = 5\n",
    "a1"
   ]
  },
  {
   "cell_type": "code",
   "execution_count": null,
   "metadata": {},
   "outputs": [
    {
     "data": {
      "text/plain": [
       "(1, 2, 3, [9, 6, 7])"
      ]
     },
     "metadata": {},
     "output_type": "display_data"
    }
   ],
   "source": [
    "#A tuple of lists, A list as an element inside a tuple can not be replaced/added/removed but elements inside element list are mutable\n",
    "a1 = (1,2,3,[5,6,7])\n",
    "a1[-1][0]\n",
    "a1[-1][0] = 9\n",
    "a1"
   ]
  },
  {
   "cell_type": "markdown",
   "metadata": {},
   "source": [
    "Exercise: \n",
    "- Try converting a Dictionary alone to a list and tuple\n",
    "- Try conversion between data structures"
   ]
  }
 ],
 "metadata": {
  "kernelspec": {
   "display_name": "Python 3",
   "language": "python",
   "name": "python3"
  },
  "language_info": {
   "codemirror_mode": {
    "name": "ipython",
    "version": 3
   },
   "file_extension": ".py",
   "mimetype": "text/x-python",
   "name": "python",
   "nbconvert_exporter": "python",
   "pygments_lexer": "ipython3",
   "version": "3.13.1"
  }
 },
 "nbformat": 4,
 "nbformat_minor": 2
}
