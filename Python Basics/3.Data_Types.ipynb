{
 "cells": [
  {
   "attachments": {
    "image.png": {
     "image/png": "[encoded data removed]"
    }
   },
   "cell_type": "markdown",
   "id": "9424a6e5",
   "metadata": {},
   "source": [
    "## **Python Data Types**\n",
    "\n",
    "a data type is a classification that specifies the type of value a variable holds. Python has various built-in data types that are used to define the operations possible on those variables and the storage method for each of them\n",
    "\n",
    "![image.png](attachment:image.png)"
   ]
  },
  {
   "cell_type": "markdown",
   "id": "633e2a99",
   "metadata": {},
   "source": [
    "## **Primitive Data Type**\n",
    "### **1. Integer**\n",
    "Most common data type used to store numbers without decimal or fractional component."
   ]
  },
  {
   "cell_type": "code",
   "execution_count": 35,
   "id": "3b77fef4",
   "metadata": {},
   "outputs": [
    {
     "name": "stdout",
     "output_type": "stream",
     "text": [
      "<class 'int'>\n"
     ]
    },
    {
     "data": {
      "text/plain": [
       "-5"
      ]
     },
     "execution_count": 35,
     "metadata": {},
     "output_type": "execute_result"
    }
   ],
   "source": [
    "a = 5\n",
    "b = -5\n",
    "print(type(b))\n",
    "b"
   ]
  },
  {
   "cell_type": "code",
   "execution_count": 36,
   "id": "708db75b",
   "metadata": {},
   "outputs": [
    {
     "data": {
      "text/plain": [
       "int"
      ]
     },
     "execution_count": 36,
     "metadata": {},
     "output_type": "execute_result"
    }
   ],
   "source": [
    "t = 45\n",
    "n = -75\n",
    "type(n)"
   ]
  },
  {
   "cell_type": "markdown",
   "id": "34bf001b",
   "metadata": {},
   "source": [
    "### **2. Float**\n",
    "Numeric data type used to store number of fractional component or decimal"
   ]
  },
  {
   "cell_type": "code",
   "execution_count": 37,
   "id": "f975e9ba",
   "metadata": {},
   "outputs": [
    {
     "data": {
      "text/plain": [
       "float"
      ]
     },
     "execution_count": 37,
     "metadata": {},
     "output_type": "execute_result"
    }
   ],
   "source": [
    "a = 5.623\n",
    "type(a)"
   ]
  },
  {
   "cell_type": "code",
   "execution_count": 38,
   "id": "05f209b7",
   "metadata": {},
   "outputs": [
    {
     "name": "stdout",
     "output_type": "stream",
     "text": [
      "<class 'float'>\n"
     ]
    },
    {
     "data": {
      "text/plain": [
       "-5.25"
      ]
     },
     "execution_count": 38,
     "metadata": {},
     "output_type": "execute_result"
    }
   ],
   "source": [
    "b=-5.25\n",
    "print(type(b))\n",
    "b"
   ]
  },
  {
   "cell_type": "markdown",
   "id": "7133d6fa",
   "metadata": {},
   "source": [
    "### **3. String**\n",
    "\n",
    "- Immutable: Once a string is created, its value cannot be changed. Any operation that modifies a string will return a new string.\n",
    "- Indexed: Strings are sequences, so you can access individual characters using indexing. Python uses zero-based indexing.\n",
    "- Slicable: You can extract substrings using slicing. The syntax is s[start:end], where the slice includes characters from start to end-1.\n",
    "- Concatenation: Strings can be concatenated using the + operator.\n",
    "- Repetition: Strings can be repeated using the * operator\n",
    "- Multiline: Strings can span multiple lines using triple quotes (''' or \"\"\").\n",
    "- Escape Sequences: Special characters can be included in strings using escape sequences.\n",
    "Commonly used data type to store text. Anything written inside qoutation ('') or (\"\")"
   ]
  },
  {
   "cell_type": "code",
   "execution_count": 39,
   "id": "c438d0a2",
   "metadata": {},
   "outputs": [
    {
     "data": {
      "text/plain": [
       "'This is also a\\nmulti-line string.'"
      ]
     },
     "execution_count": 39,
     "metadata": {},
     "output_type": "execute_result"
    }
   ],
   "source": [
    "# Single quotes\n",
    "single_quote_str = 'Hello, World!'\n",
    "\n",
    "# Double quotes\n",
    "double_quote_str = \"Hello, World!\"\n",
    "\n",
    "# Triple quotes (for multi-line strings)\n",
    "triple_single_quote_str = '''This is a\n",
    "multi-line string.'''\n",
    "\n",
    "triple_double_quote_str = \"\"\"This is also a\n",
    "multi-line string.\"\"\"\n",
    "\n",
    "triple_double_quote_str"
   ]
  },
  {
   "cell_type": "code",
   "execution_count": 40,
   "id": "c6fdcf20",
   "metadata": {},
   "outputs": [
    {
     "name": "stdout",
     "output_type": "stream",
     "text": [
      "P n\n"
     ]
    },
    {
     "data": {
      "text/plain": [
       "'yth'"
      ]
     },
     "execution_count": 40,
     "metadata": {},
     "output_type": "execute_result"
    }
   ],
   "source": [
    "s = \"Python\"\n",
    "first_char = s[0]  \n",
    "last_char = s[-1] \n",
    "\n",
    "print(first_char, last_char)\n",
    "\n",
    "s = \"Python\"\n",
    "substring = s[1:4]  \n",
    "substring"
   ]
  },
  {
   "cell_type": "code",
   "execution_count": 41,
   "id": "4b87b214",
   "metadata": {},
   "outputs": [
    {
     "data": {
      "text/plain": [
       "13"
      ]
     },
     "execution_count": 41,
     "metadata": {},
     "output_type": "execute_result"
    }
   ],
   "source": [
    "s = \"Hello, World!\"\n",
    "length = len(s)  \n",
    "length"
   ]
  },
  {
   "cell_type": "code",
   "execution_count": 42,
   "id": "e55db7d2",
   "metadata": {},
   "outputs": [
    {
     "data": {
      "text/plain": [
       "'Hello, World!'"
      ]
     },
     "execution_count": 42,
     "metadata": {},
     "output_type": "execute_result"
    }
   ],
   "source": [
    "# String Concatenation\n",
    "s1 = \"Hello\"\n",
    "s2 = \"World\"\n",
    "s3 = s1 + \", \" + s2 + \"!\" \n",
    "s3"
   ]
  },
  {
   "cell_type": "code",
   "execution_count": 43,
   "id": "34f4cd10",
   "metadata": {},
   "outputs": [
    {
     "data": {
      "text/plain": [
       "'HelloHelloHello'"
      ]
     },
     "execution_count": 43,
     "metadata": {},
     "output_type": "execute_result"
    }
   ],
   "source": [
    "# Repeatation\n",
    "s = \"Hello\"\n",
    "s_repeated = s * 3   \n",
    "s_repeated"
   ]
  },
  {
   "cell_type": "code",
   "execution_count": 44,
   "id": "1758e54f",
   "metadata": {},
   "outputs": [
    {
     "name": "stdout",
     "output_type": "stream",
     "text": [
      "HELLO, WORLD!\n",
      "hello, world!\n",
      "Hello, World!\n",
      "Hello, world!\n"
     ]
    }
   ],
   "source": [
    "# Case Conversion\n",
    "s = \"Hello, World!\"\n",
    "s_upper = s.upper()   \n",
    "s_lower = s.lower()   \n",
    "s_title = s.title()   \n",
    "s_capitalize = s.capitalize()  \n",
    "\n",
    "print(s_upper)\n",
    "print(s_lower)\n",
    "print(s_title)\n",
    "print(s_capitalize)"
   ]
  },
  {
   "cell_type": "code",
   "execution_count": 45,
   "id": "90587759",
   "metadata": {},
   "outputs": [
    {
     "name": "stdout",
     "output_type": "stream",
     "text": [
      "7\n",
      "7\n"
     ]
    }
   ],
   "source": [
    "# Finding Substrings\n",
    "s = \"Hello, World!\"\n",
    "index = s.find(\"World\")   \n",
    "rindex = s.rfind(\"World\") # (searches from the right)\n",
    "print(index) # 7\n",
    "print(rindex) # 7"
   ]
  },
  {
   "cell_type": "code",
   "execution_count": 46,
   "id": "6638d1ac",
   "metadata": {},
   "outputs": [
    {
     "data": {
      "text/plain": [
       "'Hello, Python!'"
      ]
     },
     "execution_count": 46,
     "metadata": {},
     "output_type": "execute_result"
    }
   ],
   "source": [
    "# Replacing Substrings\n",
    "s = \"Hello, World!\"\n",
    "s_replace = s.replace(\"World\", \"Python\")   #\n",
    "s_replace"
   ]
  },
  {
   "cell_type": "code",
   "execution_count": 47,
   "id": "7c5650ba",
   "metadata": {},
   "outputs": [
    {
     "name": "stdout",
     "output_type": "stream",
     "text": [
      "<class 'str'>\n",
      "<class 'str'>\n"
     ]
    }
   ],
   "source": [
    "a = \"ML\"\n",
    "b = '10'\n",
    "print(type(a))\n",
    "print(type(b))\n"
   ]
  },
  {
   "cell_type": "code",
   "execution_count": 48,
   "id": "c0ba38e8",
   "metadata": {},
   "outputs": [
    {
     "name": "stdout",
     "output_type": "stream",
     "text": [
      "Hello World\n"
     ]
    }
   ],
   "source": [
    "# Concatenate\n",
    "str1 = 'Hello'\n",
    "str2 = ' World'\n",
    "\n",
    "result = str1+str2\n",
    "print(result)"
   ]
  },
  {
   "cell_type": "code",
   "execution_count": 49,
   "id": "6c9e3aea",
   "metadata": {},
   "outputs": [
    {
     "name": "stdout",
     "output_type": "stream",
     "text": [
      "True False True False False\n"
     ]
    }
   ],
   "source": [
    "# Checking String Properties\n",
    "s = \"Hello\"\n",
    "is_alpha = s.isalpha()   \n",
    "is_digit = s.isdigit()   \n",
    "is_alnum = s.isalnum()   \n",
    "is_upper = s.isupper()   \n",
    "is_lower = s.islower() \n",
    "print(is_alpha, is_digit, is_alnum, is_upper, is_lower)"
   ]
  },
  {
   "cell_type": "code",
   "execution_count": 50,
   "id": "54127b3e",
   "metadata": {},
   "outputs": [
    {
     "data": {
      "text/plain": [
       "'Hello-World!'"
      ]
     },
     "execution_count": 50,
     "metadata": {},
     "output_type": "execute_result"
    }
   ],
   "source": [
    "s = \"Hello, World!\"\n",
    "s_split = s.split(\", \")   # ['Hello', ' World!']\n",
    "s_join = \"-\".join(s_split)   # 'Hello-World'\n",
    "s_join"
   ]
  },
  {
   "cell_type": "code",
   "execution_count": 51,
   "id": "50c668fe",
   "metadata": {},
   "outputs": [
    {
     "data": {
      "text/plain": [
       "'Hello, World!'"
      ]
     },
     "execution_count": 51,
     "metadata": {},
     "output_type": "execute_result"
    }
   ],
   "source": [
    "name = \"World\"\n",
    "s1 = \"Hello, %s!\" % name   # 'Hello, World!'\n",
    "s2 = \"Hello, {}!\".format(name)   # 'Hello, World!'\n",
    "s3 = f\"Hello, {name}!\"   # 'Hello, World!'\n",
    "s1"
   ]
  },
  {
   "cell_type": "markdown",
   "id": "66673d91",
   "metadata": {},
   "source": [
    "#### 4. Boolean\n",
    "Represents the values TRUE or FALSE"
   ]
  },
  {
   "cell_type": "code",
   "execution_count": 52,
   "id": "70d2bdd0",
   "metadata": {},
   "outputs": [
    {
     "name": "stdout",
     "output_type": "stream",
     "text": [
      "The data type of a:  <class 'bool'>\n",
      "The value of a:  True\n"
     ]
    }
   ],
   "source": [
    "a = True\n",
    "print('The data type of a: ',type(a))\n",
    "print('The value of a: ',bool(a))"
   ]
  },
  {
   "cell_type": "code",
   "execution_count": 53,
   "id": "894bc086",
   "metadata": {},
   "outputs": [
    {
     "name": "stdout",
     "output_type": "stream",
     "text": [
      "True\n",
      "False\n"
     ]
    }
   ],
   "source": [
    "is_true = True\n",
    "is_false = False\n",
    "\n",
    "print(is_true)  \n",
    "print(is_false) "
   ]
  },
  {
   "cell_type": "code",
   "execution_count": 54,
   "id": "2a89bfb0",
   "metadata": {},
   "outputs": [
    {
     "name": "stdout",
     "output_type": "stream",
     "text": [
      "False\n",
      "True\n"
     ]
    }
   ],
   "source": [
    "x = 5\n",
    "y = 10\n",
    "\n",
    "# Comparison operators return Boolean values\n",
    "is_equal = x == y\n",
    "is_not_equal = x != y\n",
    "\n",
    "print(is_equal)     \n",
    "print(is_not_equal)  "
   ]
  },
  {
   "cell_type": "code",
   "execution_count": 55,
   "id": "cd996cb5",
   "metadata": {},
   "outputs": [
    {
     "name": "stdout",
     "output_type": "stream",
     "text": [
      "False True False\n"
     ]
    }
   ],
   "source": [
    "a = True\n",
    "b = False\n",
    "\n",
    "# Logical AND\n",
    "result_and = a and b\n",
    "\n",
    "# Logical OR\n",
    "result_or = a or b\n",
    "\n",
    "# Logical NOT\n",
    "result_not = not a\n",
    "print(result_not, result_or, result_and)"
   ]
  },
  {
   "cell_type": "code",
   "execution_count": 56,
   "id": "e1efcf1d",
   "metadata": {},
   "outputs": [
    {
     "name": "stdout",
     "output_type": "stream",
     "text": [
      "The number is not greater than 50.\n"
     ]
    }
   ],
   "source": [
    "number = 42\n",
    "\n",
    "if number > 50:\n",
    "    print(\"The number is greater than 50.\")\n",
    "else:\n",
    "    print(\"The number is not greater than 50.\")"
   ]
  },
  {
   "cell_type": "code",
   "execution_count": 57,
   "id": "26091049",
   "metadata": {},
   "outputs": [
    {
     "data": {
      "text/plain": [
       "NoneType"
      ]
     },
     "execution_count": 57,
     "metadata": {},
     "output_type": "execute_result"
    }
   ],
   "source": [
    "no_value = None\n",
    "type(no_value)"
   ]
  },
  {
   "cell_type": "markdown",
   "id": "35e3faeb",
   "metadata": {},
   "source": [
    "### **Primitive Data Type conversion**\n",
    "Data type conversion, also known as type casting."
   ]
  },
  {
   "cell_type": "code",
   "execution_count": 58,
   "id": "6571695b",
   "metadata": {},
   "outputs": [
    {
     "name": "stdout",
     "output_type": "stream",
     "text": [
      "5.0\n"
     ]
    }
   ],
   "source": [
    "a = 5\n",
    "#Integer to float\n",
    "b = float(a)\n",
    "print(b)"
   ]
  },
  {
   "cell_type": "code",
   "execution_count": 59,
   "id": "7a06bb83",
   "metadata": {},
   "outputs": [
    {
     "name": "stdout",
     "output_type": "stream",
     "text": [
      "a is 5 and data type of a is <class 'int'>\n"
     ]
    }
   ],
   "source": [
    "a = 5.0\n",
    "#float to Integer\n",
    "b=int(a)\n",
    "print('a is {} and data type of a is {}'.format(b, type(b)))"
   ]
  },
  {
   "cell_type": "code",
   "execution_count": 60,
   "id": "1fba6253",
   "metadata": {},
   "outputs": [
    {
     "name": "stdout",
     "output_type": "stream",
     "text": [
      "<class 'str'>\n",
      "d is 10 and e is 10.0\n",
      "<class 'int'> <class 'float'>\n"
     ]
    }
   ],
   "source": [
    "#String to Integer or float\n",
    "c = '10' #value should be numarical in the string\n",
    "print(type(c))\n",
    "d,e = int(c), float(c)\n",
    "print('d is {} and e is {}'.format(d,e))\n",
    "print(type(d), type(e))"
   ]
  },
  {
   "cell_type": "code",
   "execution_count": 61,
   "id": "089ccd99",
   "metadata": {},
   "outputs": [
    {
     "ename": "ValueError",
     "evalue": "invalid literal for int() with base 10: 'sameer'",
     "output_type": "error",
     "traceback": [
      "\u001b[1;31m---------------------------------------------------------------------------\u001b[0m",
      "\u001b[1;31mValueError\u001b[0m                                Traceback (most recent call last)",
      "Cell \u001b[1;32mIn[61], line 3\u001b[0m\n\u001b[0;32m      1\u001b[0m \u001b[38;5;66;03m#invalid conversion \u001b[39;00m\n\u001b[0;32m      2\u001b[0m sa \u001b[38;5;241m=\u001b[39m \u001b[38;5;124m'\u001b[39m\u001b[38;5;124msameer\u001b[39m\u001b[38;5;124m'\u001b[39m\n\u001b[1;32m----> 3\u001b[0m sam \u001b[38;5;241m=\u001b[39m \u001b[38;5;28;43mint\u001b[39;49m\u001b[43m(\u001b[49m\u001b[43msa\u001b[49m\u001b[43m)\u001b[49m,\u001b[38;5;28mfloat\u001b[39m(sa)\n\u001b[0;32m      4\u001b[0m \u001b[38;5;28mprint\u001b[39m(sam) \u001b[38;5;66;03m#ValueError: invalid literal for int() with base 10: 'sameer'\u001b[39;00m\n",
      "\u001b[1;31mValueError\u001b[0m: invalid literal for int() with base 10: 'sameer'"
     ]
    }
   ],
   "source": [
    "#invalid conversion \n",
    "sa = 'sameer'\n",
    "sam = int(sa),float(sa)\n",
    "print(sam) #ValueError: invalid literal for int() with base 10: 'sameer'"
   ]
  },
  {
   "cell_type": "code",
   "execution_count": 62,
   "id": "2a7bddaa",
   "metadata": {},
   "outputs": [
    {
     "name": "stdout",
     "output_type": "stream",
     "text": [
      "the sum is  10\n",
      "type of c  <class 'int'> 10.0\n"
     ]
    }
   ],
   "source": [
    "a = int(input('Tell a number '))\n",
    "b = int(input('tell second number '))\n",
    "c = a+b\n",
    "print('the sum is ',c)\n",
    "print(\"type of c \", type(c), float(c))"
   ]
  },
  {
   "cell_type": "code",
   "execution_count": 63,
   "id": "f8912413",
   "metadata": {},
   "outputs": [
    {
     "name": "stdout",
     "output_type": "stream",
     "text": [
      "2.5\n",
      "<class 'str'>\n"
     ]
    }
   ],
   "source": [
    "# float to string\n",
    "a = 2.5\n",
    "b = str(a)\n",
    "print(b)\n",
    "print(type(b))"
   ]
  },
  {
   "cell_type": "code",
   "execution_count": 64,
   "id": "85436e51",
   "metadata": {},
   "outputs": [
    {
     "name": "stdout",
     "output_type": "stream",
     "text": [
      "5\n",
      "<class 'str'>\n"
     ]
    }
   ],
   "source": [
    "#int to str\n",
    "a = 5\n",
    "b = str(a)\n",
    "print(b)\n",
    "print(type(b))"
   ]
  },
  {
   "cell_type": "code",
   "execution_count": 65,
   "id": "3f3b0545",
   "metadata": {},
   "outputs": [
    {
     "data": {
      "text/plain": [
       "2"
      ]
     },
     "execution_count": 65,
     "metadata": {},
     "output_type": "execute_result"
    }
   ],
   "source": [
    "e = 2.1\n",
    "int(e)"
   ]
  },
  {
   "cell_type": "markdown",
   "id": "febe7a85",
   "metadata": {},
   "source": [
    "## **Non-primitive Data Type**"
   ]
  },
  {
   "cell_type": "markdown",
   "id": "f623dc3c",
   "metadata": {},
   "source": [
    "### **1. Lists**\n",
    "Python lists are similar to array in 'C'. However a list can contain data of different types.\n",
    "- Elements are enclosed within square brackets.\n",
    "- Elements are separated by comma(,).\n",
    "- Lists are mutable and ordered(indexed)."
   ]
  },
  {
   "cell_type": "code",
   "execution_count": 86,
   "id": "079d1919",
   "metadata": {},
   "outputs": [],
   "source": [
    "# Creating a list\n",
    "fruits = [\"apple\", \"banana\", \"orange\", \"grape\"]"
   ]
  },
  {
   "cell_type": "code",
   "execution_count": 87,
   "id": "8122a574",
   "metadata": {},
   "outputs": [
    {
     "name": "stdout",
     "output_type": "stream",
     "text": [
      "banana\n"
     ]
    }
   ],
   "source": [
    "# Accessing elements\n",
    "print(fruits[1])"
   ]
  },
  {
   "cell_type": "code",
   "execution_count": 88,
   "id": "09850cf7",
   "metadata": {},
   "outputs": [
    {
     "name": "stdout",
     "output_type": "stream",
     "text": [
      "['apple', 'kiwi', 'orange', 'grape']\n"
     ]
    }
   ],
   "source": [
    "# Modifying elements\n",
    "fruits[1] = \"kiwi\"\n",
    "print(fruits)"
   ]
  },
  {
   "cell_type": "code",
   "execution_count": 89,
   "id": "35de3b74",
   "metadata": {},
   "outputs": [
    {
     "name": "stdout",
     "output_type": "stream",
     "text": [
      "['apple', 'kiwi', 'orange', 'grape', 'melon']\n"
     ]
    }
   ],
   "source": [
    "# Adding elements\n",
    "fruits.append(\"melon\")\n",
    "print(fruits)"
   ]
  },
  {
   "cell_type": "code",
   "execution_count": 90,
   "id": "4dfce196",
   "metadata": {},
   "outputs": [
    {
     "name": "stdout",
     "output_type": "stream",
     "text": [
      "['apple', 'kiwi', 'orange', 'grape', 'melon', ['pinapple', 'Banana']]\n"
     ]
    }
   ],
   "source": [
    "fruits.append([\"pinapple\", \"Banana\"])\n",
    "print(fruits)"
   ]
  },
  {
   "cell_type": "code",
   "execution_count": 91,
   "id": "c1255395",
   "metadata": {},
   "outputs": [
    {
     "data": {
      "text/plain": [
       "'pinapple'"
      ]
     },
     "execution_count": 91,
     "metadata": {},
     "output_type": "execute_result"
    }
   ],
   "source": [
    "fruits[5][0]"
   ]
  },
  {
   "cell_type": "code",
   "execution_count": 92,
   "id": "007c5b28",
   "metadata": {},
   "outputs": [
    {
     "name": "stdout",
     "output_type": "stream",
     "text": [
      "['apple', 'kiwi', 'orange', 'grape', 'melon', ['pinapple', 'Banana'], 'pinapple', 'Banana']\n"
     ]
    }
   ],
   "source": [
    "fruits.extend([\"pinapple\", \"Banana\"])\n",
    "print(fruits)"
   ]
  },
  {
   "cell_type": "code",
   "execution_count": 93,
   "id": "258e0228",
   "metadata": {},
   "outputs": [
    {
     "data": {
      "text/plain": [
       "'pinapple'"
      ]
     },
     "execution_count": 93,
     "metadata": {},
     "output_type": "execute_result"
    }
   ],
   "source": [
    "fruits[6]"
   ]
  },
  {
   "cell_type": "code",
   "execution_count": 94,
   "id": "ad7c3f81",
   "metadata": {},
   "outputs": [
    {
     "name": "stdout",
     "output_type": "stream",
     "text": [
      "['apple', 'pear', 'kiwi', 'orange', 'grape', 'melon', ['pinapple', 'Banana'], 'pinapple', 'Banana']\n"
     ]
    }
   ],
   "source": [
    "# Insert\n",
    "# Inserts an element at a specific index.\n",
    "fruits.insert(1, \"pear\")\n",
    "print(fruits)"
   ]
  },
  {
   "cell_type": "code",
   "execution_count": 96,
   "id": "ac347d09",
   "metadata": {},
   "outputs": [
    {
     "name": "stdout",
     "output_type": "stream",
     "text": [
      "Banana\n",
      "['apple', 'pear', 'kiwi', 'orange', 'grape', 'melon', ['pinapple', 'Banana']]\n"
     ]
    }
   ],
   "source": [
    "# Pop\n",
    "# Removes and returns the element at the specified index. If no index is provided, it removes and returns the last element.\n",
    "popped_fruit = fruits.pop(7)\n",
    "print(popped_fruit)\n",
    "print(fruits)"
   ]
  },
  {
   "cell_type": "code",
   "execution_count": 97,
   "id": "220cebee",
   "metadata": {},
   "outputs": [
    {
     "name": "stdout",
     "output_type": "stream",
     "text": [
      "['apple', 'pear', 'kiwi', 'grape', 'melon', ['pinapple', 'Banana']]\n"
     ]
    }
   ],
   "source": [
    "# Removing elements\n",
    "# Removes the first occurrence of the specified element.\n",
    "fruits.remove(\"orange\")\n",
    "print(fruits)"
   ]
  },
  {
   "cell_type": "code",
   "execution_count": 98,
   "id": "fc1011d4",
   "metadata": {},
   "outputs": [
    {
     "name": "stdout",
     "output_type": "stream",
     "text": [
      "6\n"
     ]
    }
   ],
   "source": [
    "# List length\n",
    "# finding length of the list\n",
    "print(len(fruits))"
   ]
  },
  {
   "cell_type": "code",
   "execution_count": 99,
   "id": "77b301ef",
   "metadata": {},
   "outputs": [
    {
     "name": "stdout",
     "output_type": "stream",
     "text": [
      "5\n"
     ]
    }
   ],
   "source": [
    "# Index\n",
    "# Returns the index of the first occurrence of the specified element.\n",
    "index_of_apple = fruits.index(['pinapple', 'Banana'])\n",
    "print(index_of_apple)"
   ]
  },
  {
   "cell_type": "code",
   "execution_count": 100,
   "id": "ba97a840",
   "metadata": {},
   "outputs": [
    {
     "data": {
      "text/plain": [
       "['apple', 'pear', 'kiwi', 'grape', 'melon', ['pinapple', 'Banana'], 'apple']"
      ]
     },
     "execution_count": 100,
     "metadata": {},
     "output_type": "execute_result"
    }
   ],
   "source": [
    "fruits.append('apple')\n",
    "fruits"
   ]
  },
  {
   "cell_type": "code",
   "execution_count": 101,
   "id": "50c5ed3c",
   "metadata": {},
   "outputs": [
    {
     "name": "stdout",
     "output_type": "stream",
     "text": [
      "['apple', 'pear', 'kiwi', 'grape', 'melon', ['pinapple', 'Banana'], 'apple']\n"
     ]
    }
   ],
   "source": [
    "print(fruits)"
   ]
  },
  {
   "cell_type": "code",
   "execution_count": 102,
   "id": "51c8b803",
   "metadata": {},
   "outputs": [
    {
     "name": "stdout",
     "output_type": "stream",
     "text": [
      "['apple', 'pear', 'kiwi', 'grape', 'melon', 'apple']\n"
     ]
    }
   ],
   "source": [
    "fruits.pop(5)\n",
    "print(fruits)"
   ]
  },
  {
   "cell_type": "code",
   "execution_count": 103,
   "id": "88fb1cd4",
   "metadata": {},
   "outputs": [
    {
     "name": "stdout",
     "output_type": "stream",
     "text": [
      "2\n"
     ]
    }
   ],
   "source": [
    "# Count\n",
    "# Returns the number of occurrences of the specified element.\n",
    "num_apples = fruits.count(\"apple\")\n",
    "print(num_apples)"
   ]
  },
  {
   "cell_type": "code",
   "execution_count": 104,
   "id": "25496a55",
   "metadata": {},
   "outputs": [
    {
     "name": "stdout",
     "output_type": "stream",
     "text": [
      "['apple', 'apple', 'grape', 'kiwi', 'melon', 'pear']\n"
     ]
    }
   ],
   "source": [
    "# Sort\n",
    "# Sorts the elements of the list in ascending order.\n",
    "# sorting the list in default ascending order\n",
    "fruits.sort()\n",
    "print(fruits)"
   ]
  },
  {
   "cell_type": "code",
   "execution_count": 105,
   "id": "274639e6",
   "metadata": {},
   "outputs": [
    {
     "name": "stdout",
     "output_type": "stream",
     "text": [
      "['pear', 'melon', 'kiwi', 'grape', 'apple', 'apple']\n"
     ]
    }
   ],
   "source": [
    "fruits.sort(reverse=True)\n",
    "print(fruits)"
   ]
  },
  {
   "cell_type": "code",
   "execution_count": 106,
   "id": "1a8b483b",
   "metadata": {},
   "outputs": [
    {
     "name": "stdout",
     "output_type": "stream",
     "text": [
      "['apple', 'apple', 'grape', 'kiwi', 'melon', 'pear']\n"
     ]
    }
   ],
   "source": [
    "# Reverse\n",
    "# Reverses the order of the elements in the list.\n",
    "fruits.reverse()\n",
    "print(fruits)"
   ]
  },
  {
   "cell_type": "code",
   "execution_count": 107,
   "id": "27b950d1",
   "metadata": {},
   "outputs": [
    {
     "name": "stdout",
     "output_type": "stream",
     "text": [
      "Final List: ['apple', 'apple', 'grape', 'kiwi', 'melon', 'pear']\n"
     ]
    }
   ],
   "source": [
    "# Display the final list\n",
    "print(\"Final List:\", fruits)"
   ]
  },
  {
   "cell_type": "code",
   "execution_count": 108,
   "id": "02540d0d",
   "metadata": {},
   "outputs": [
    {
     "name": "stdout",
     "output_type": "stream",
     "text": [
      "['apple', 'apple', 'grape', 'kiwi', 'melon', 'pear']\n"
     ]
    }
   ],
   "source": [
    "f = fruits.copy()\n",
    "print(f)"
   ]
  },
  {
   "cell_type": "code",
   "execution_count": 109,
   "id": "4f7ea21c",
   "metadata": {},
   "outputs": [
    {
     "name": "stdout",
     "output_type": "stream",
     "text": [
      "<class 'list'> \n",
      "\n"
     ]
    }
   ],
   "source": [
    "# List of integers\n",
    "list1 = [1, 2, 3, 4, -4, 0, 2.45]\n",
    "print(type(list1), \"\\n\")"
   ]
  },
  {
   "cell_type": "code",
   "execution_count": 110,
   "id": "3e3a8c69",
   "metadata": {},
   "outputs": [],
   "source": [
    "# List of floats\n",
    "list2 = [1.01, 2.8, 3.4, 7.8]"
   ]
  },
  {
   "cell_type": "code",
   "execution_count": 111,
   "id": "bdddca2c",
   "metadata": {},
   "outputs": [],
   "source": [
    "# List of strings\n",
    "list3 = ['a', 'b', 'c', 'd']"
   ]
  },
  {
   "cell_type": "code",
   "execution_count": 112,
   "id": "48787aad",
   "metadata": {},
   "outputs": [],
   "source": [
    "# List of different data types\n",
    "list4 = [1, 1.01, 'a']"
   ]
  },
  {
   "cell_type": "code",
   "execution_count": 113,
   "id": "e7bd065d",
   "metadata": {},
   "outputs": [
    {
     "name": "stdout",
     "output_type": "stream",
     "text": [
      "7\n"
     ]
    }
   ],
   "source": [
    "# To check how many elements in a given list\n",
    "print(len(list1))"
   ]
  },
  {
   "cell_type": "code",
   "execution_count": 114,
   "id": "cf7440ac",
   "metadata": {},
   "outputs": [
    {
     "name": "stdout",
     "output_type": "stream",
     "text": [
      "<class 'list'>\n",
      "1\n",
      "<class 'int'>\n",
      "<class 'float'>\n",
      "<class 'str'>\n",
      "<class 'int'>\n"
     ]
    }
   ],
   "source": [
    "print(type(list2))\n",
    "print(list1[0])\n",
    "print(type(list1[0]))\n",
    "print(type(list2[0]))\n",
    "print(type(list3[0]))\n",
    "print(type(list4[0]))"
   ]
  },
  {
   "cell_type": "markdown",
   "id": "4b670be4",
   "metadata": {},
   "source": [
    "##### Accessing elements and Slicing"
   ]
  },
  {
   "cell_type": "code",
   "execution_count": 115,
   "id": "4ee3b5a6",
   "metadata": {},
   "outputs": [
    {
     "data": {
      "text/plain": [
       "['c', 'e', 'g']"
      ]
     },
     "execution_count": 115,
     "metadata": {},
     "output_type": "execute_result"
    }
   ],
   "source": [
    "list5 = ['a','b','c','d','e','f','g','h','i']\n",
    "\n",
    "# we can access any element in a given list based on Indices\n",
    "list5[2:7:2]\n",
    "#list5[5]"
   ]
  },
  {
   "cell_type": "code",
   "execution_count": 116,
   "id": "e929950a",
   "metadata": {},
   "outputs": [
    {
     "data": {
      "text/plain": [
       "['b', 'c', 'd']"
      ]
     },
     "execution_count": 116,
     "metadata": {},
     "output_type": "execute_result"
    }
   ],
   "source": [
    "# we can access any element in a given list based on Index range: list[Start:End]\n",
    "list5[1:4]"
   ]
  },
  {
   "cell_type": "code",
   "execution_count": 117,
   "id": "e0338e11",
   "metadata": {
    "scrolled": true
   },
   "outputs": [
    {
     "data": {
      "text/plain": [
       "['c', 'd', 'e']"
      ]
     },
     "execution_count": 117,
     "metadata": {},
     "output_type": "execute_result"
    }
   ],
   "source": [
    "list5[2:5:1]"
   ]
  },
  {
   "cell_type": "code",
   "execution_count": 118,
   "id": "788a7305",
   "metadata": {
    "scrolled": true
   },
   "outputs": [
    {
     "data": {
      "text/plain": [
       "'h'"
      ]
     },
     "execution_count": 118,
     "metadata": {},
     "output_type": "execute_result"
    }
   ],
   "source": [
    "#Reverse index accessing/slicing\n",
    "list5[-2]\n"
   ]
  },
  {
   "cell_type": "code",
   "execution_count": 119,
   "id": "de95b792",
   "metadata": {
    "scrolled": true
   },
   "outputs": [
    {
     "data": {
      "text/plain": [
       "['h']"
      ]
     },
     "execution_count": 119,
     "metadata": {},
     "output_type": "execute_result"
    }
   ],
   "source": [
    "list5[-2:-1]"
   ]
  },
  {
   "cell_type": "code",
   "execution_count": null,
   "id": "38387de2",
   "metadata": {
    "scrolled": true
   },
   "outputs": [
    {
     "data": {
      "text/plain": [
       "['g', 'h', 'i']"
      ]
     },
     "execution_count": 60,
     "metadata": {},
     "output_type": "execute_result"
    }
   ],
   "source": [
    "list5[-3:]"
   ]
  },
  {
   "cell_type": "code",
   "execution_count": 120,
   "id": "87793a5d",
   "metadata": {},
   "outputs": [
    {
     "name": "stdout",
     "output_type": "stream",
     "text": [
      "[]\n"
     ]
    }
   ],
   "source": [
    "list5.clear()\n",
    "print(list5)"
   ]
  },
  {
   "cell_type": "code",
   "execution_count": 4,
   "id": "008a454e",
   "metadata": {},
   "outputs": [],
   "source": [
    "sam = [5,9,4,7,5,9,5,7,2,3,'no',5.12]"
   ]
  },
  {
   "cell_type": "code",
   "execution_count": 5,
   "id": "9265922a",
   "metadata": {},
   "outputs": [
    {
     "name": "stdout",
     "output_type": "stream",
     "text": [
      "[5, 9, 4, 7, 5, 9, 5, 7, 2, 3, 5.12]\n"
     ]
    }
   ],
   "source": [
    "sam.pop(10)\n",
    "print(sam)"
   ]
  },
  {
   "cell_type": "code",
   "execution_count": 6,
   "id": "b66bffde",
   "metadata": {},
   "outputs": [
    {
     "name": "stdout",
     "output_type": "stream",
     "text": [
      "[2, 3, 4, 5, 5, 5, 5.12, 7, 7, 9, 9]\n"
     ]
    }
   ],
   "source": [
    "sam.sort()\n",
    "print(sam)"
   ]
  },
  {
   "cell_type": "code",
   "execution_count": 7,
   "id": "37e46d39",
   "metadata": {},
   "outputs": [
    {
     "name": "stdout",
     "output_type": "stream",
     "text": [
      "[9, 9, 7, 7, 5.12, 5, 5, 5, 4, 3, 2]\n"
     ]
    }
   ],
   "source": [
    "sam.sort(reverse=True)\n",
    "print(sam)"
   ]
  },
  {
   "cell_type": "code",
   "execution_count": 8,
   "id": "46e4db47",
   "metadata": {},
   "outputs": [
    {
     "data": {
      "text/plain": [
       "[10, 9, 7, 7, 5.12, 5, 5, 5, 4, 3, 2]"
      ]
     },
     "execution_count": 8,
     "metadata": {},
     "output_type": "execute_result"
    }
   ],
   "source": [
    "sam[0] = 10\n",
    "sam"
   ]
  },
  {
   "cell_type": "code",
   "execution_count": 9,
   "id": "cafc69bc",
   "metadata": {},
   "outputs": [
    {
     "name": "stdout",
     "output_type": "stream",
     "text": [
      "[10, 7, 7, 5.12, 5, 5, 5, 4, 3, 2]\n"
     ]
    }
   ],
   "source": [
    "del sam[1]\n",
    "print(sam)"
   ]
  },
  {
   "cell_type": "code",
   "execution_count": 24,
   "id": "46e80f19",
   "metadata": {},
   "outputs": [
    {
     "name": "stdout",
     "output_type": "stream",
     "text": [
      "61.12\n",
      "11\n",
      "9\n",
      "2\n",
      "[2, 3, 4, 5, 5, 5, 5.12, 7, 7, 9, 9]\n",
      "5.556363636363637\n",
      "5\n",
      "5\n",
      "2.24965451893073\n"
     ]
    }
   ],
   "source": [
    "No = [5,9,4,7,5,9,5,7,2,3,5.12]\n",
    "\n",
    "from statistics import mean, median, mode, stdev\n",
    "\n",
    "print(sum(No))\n",
    "print(len(No))\n",
    "print(max(No))\n",
    "print(min(No))\n",
    "print(sorted(No))\n",
    "print(mean(No))\n",
    "print(median(No))\n",
    "print(mode(No))\n",
    "print(stdev(No))\n"
   ]
  },
  {
   "cell_type": "markdown",
   "id": "d09c453e",
   "metadata": {},
   "source": [
    "Exercise : Check and work on operations like Count, sort and insert"
   ]
  },
  {
   "cell_type": "code",
   "execution_count": 126,
   "id": "c7b3d5e3",
   "metadata": {},
   "outputs": [
    {
     "name": "stdout",
     "output_type": "stream",
     "text": [
      "[1, 2, 3, 5, 6, 7]\n",
      "[[1, 2, 3], [5, 6, 7]]\n"
     ]
    }
   ],
   "source": [
    "#List of Lists\n",
    "x = [1,2,3]\n",
    "y = [5,6,7]\n",
    "l = x + y\n",
    "z = [x,y]\n",
    "print(l) #concatenation\n",
    "print(z)\n"
   ]
  },
  {
   "cell_type": "code",
   "execution_count": 127,
   "id": "500ec07f",
   "metadata": {},
   "outputs": [
    {
     "data": {
      "text/plain": [
       "1"
      ]
     },
     "execution_count": 127,
     "metadata": {},
     "output_type": "execute_result"
    }
   ],
   "source": [
    "z[0][0]"
   ]
  },
  {
   "cell_type": "code",
   "execution_count": 128,
   "metadata": {},
   "outputs": [
    {
     "name": "stdout",
     "output_type": "stream",
     "text": [
      "2\n"
     ]
    }
   ],
   "source": [
    "print(z[0][1])"
   ]
  },
  {
   "cell_type": "markdown",
   "id": "53b40541",
   "metadata": {},
   "source": [
    "### **2. Tuples**\n",
    "A data structure which is a collection of data which is ordered and unchngeable. Tuples are simply immutable lists.\n",
    "- Elements are enclosed within paranthesis.\n",
    "- Elements are separated by comma(,).\n",
    "- Tuples are immutable and ordered(indexed)."
   ]
  },
  {
   "cell_type": "code",
   "execution_count": 162,
   "id": "5de1995e",
   "metadata": {},
   "outputs": [
    {
     "name": "stdout",
     "output_type": "stream",
     "text": [
      "(3, 7, 4)\n"
     ]
    }
   ],
   "source": [
    "# Creating a tuple\n",
    "coordinates = (3, 7, 4)\n",
    "print(coordinates)"
   ]
  },
  {
   "cell_type": "code",
   "execution_count": 163,
   "id": "55247c1b",
   "metadata": {},
   "outputs": [
    {
     "data": {
      "text/plain": [
       "(3, 7)"
      ]
     },
     "execution_count": 163,
     "metadata": {},
     "output_type": "execute_result"
    }
   ],
   "source": [
    "# Accessing elements\n",
    "x = coordinates[0]\n",
    "y = coordinates[1]\n",
    "x , y"
   ]
  },
  {
   "cell_type": "code",
   "execution_count": 164,
   "id": "20a1141c",
   "metadata": {},
   "outputs": [
    {
     "data": {
      "text/plain": [
       "2"
      ]
     },
     "execution_count": 164,
     "metadata": {},
     "output_type": "execute_result"
    }
   ],
   "source": [
    "coordinates.index(4)"
   ]
  },
  {
   "cell_type": "code",
   "execution_count": 165,
   "id": "32611008",
   "metadata": {},
   "outputs": [
    {
     "data": {
      "text/plain": [
       "1"
      ]
     },
     "execution_count": 165,
     "metadata": {},
     "output_type": "execute_result"
    }
   ],
   "source": [
    "coordinates.count(3)"
   ]
  },
  {
   "cell_type": "code",
   "execution_count": 166,
   "id": "624fc29d",
   "metadata": {},
   "outputs": [
    {
     "ename": "AttributeError",
     "evalue": "'tuple' object has no attribute 'append'",
     "output_type": "error",
     "traceback": [
      "\u001b[1;31m---------------------------------------------------------------------------\u001b[0m",
      "\u001b[1;31mAttributeError\u001b[0m                            Traceback (most recent call last)",
      "Cell \u001b[1;32mIn[166], line 1\u001b[0m\n\u001b[1;32m----> 1\u001b[0m \u001b[43mcoordinates\u001b[49m\u001b[38;5;241;43m.\u001b[39;49m\u001b[43mappend\u001b[49m(\u001b[38;5;241m1\u001b[39m)\n",
      "\u001b[1;31mAttributeError\u001b[0m: 'tuple' object has no attribute 'append'"
     ]
    }
   ],
   "source": [
    "coordinates.append(1)"
   ]
  },
  {
   "cell_type": "code",
   "execution_count": 167,
   "id": "22bae590",
   "metadata": {},
   "outputs": [
    {
     "name": "stdout",
     "output_type": "stream",
     "text": [
      "3 7 4\n"
     ]
    }
   ],
   "source": [
    "# Tuple unpacking\n",
    "a, b, c = coordinates\n",
    "print(a, b, c)"
   ]
  },
  {
   "cell_type": "code",
   "execution_count": 168,
   "id": "be1a9f84",
   "metadata": {},
   "outputs": [
    {
     "ename": "TypeError",
     "evalue": "'tuple' object does not support item assignment",
     "output_type": "error",
     "traceback": [
      "\u001b[1;31m---------------------------------------------------------------------------\u001b[0m",
      "\u001b[1;31mTypeError\u001b[0m                                 Traceback (most recent call last)",
      "Cell \u001b[1;32mIn[168], line 3\u001b[0m\n\u001b[0;32m      1\u001b[0m \u001b[38;5;66;03m# Immutability\u001b[39;00m\n\u001b[0;32m      2\u001b[0m \u001b[38;5;66;03m# Uncommenting the line below will result in an error since tuples are immutable.\u001b[39;00m\n\u001b[1;32m----> 3\u001b[0m \u001b[43mcoordinates\u001b[49m\u001b[43m[\u001b[49m\u001b[38;5;241;43m0\u001b[39;49m\u001b[43m]\u001b[49m \u001b[38;5;241m=\u001b[39m \u001b[38;5;241m5\u001b[39m\n",
      "\u001b[1;31mTypeError\u001b[0m: 'tuple' object does not support item assignment"
     ]
    }
   ],
   "source": [
    "# Immutability\n",
    "# Uncommenting the line below will result in an error since tuples are immutable.\n",
    "coordinates[0] = 5"
   ]
  },
  {
   "cell_type": "code",
   "execution_count": 169,
   "id": "cafa353a",
   "metadata": {},
   "outputs": [
    {
     "data": {
      "text/plain": [
       "(3, 7, 4, 5, 4)"
      ]
     },
     "execution_count": 169,
     "metadata": {},
     "output_type": "execute_result"
    }
   ],
   "source": [
    "# Creating a new tuple with additional element\n",
    "new_coordinates = coordinates + (5, 4)\n",
    "new_coordinates"
   ]
  },
  {
   "cell_type": "code",
   "execution_count": 170,
   "id": "446ec265",
   "metadata": {},
   "outputs": [
    {
     "name": "stdout",
     "output_type": "stream",
     "text": [
      "Original Coordinates: (3, 7, 4)\n",
      "New Coordinates: (3, 7, 4, 5, 4)\n"
     ]
    }
   ],
   "source": [
    "# Displaying the final results\n",
    "print(\"Original Coordinates:\", coordinates)\n",
    "print(\"New Coordinates:\", new_coordinates)"
   ]
  },
  {
   "cell_type": "code",
   "execution_count": 1,
   "id": "03466c19",
   "metadata": {},
   "outputs": [
    {
     "name": "stdout",
     "output_type": "stream",
     "text": [
      "(1, 2, 3, 4, 5, 6)\n"
     ]
    },
    {
     "data": {
      "text/plain": [
       "tuple"
      ]
     },
     "execution_count": 1,
     "metadata": {},
     "output_type": "execute_result"
    }
   ],
   "source": [
    "T1 = (1,2,3)\n",
    "T2 = (4,5,6)\n",
    "T3 = T1 + T2\n",
    "print(T3)\n",
    "type(T3)"
   ]
  },
  {
   "cell_type": "code",
   "execution_count": 26,
   "id": "d1138350",
   "metadata": {},
   "outputs": [
    {
     "name": "stdout",
     "output_type": "stream",
     "text": [
      "21\n",
      "6\n",
      "6\n",
      "1\n",
      "[1, 2, 3, 4, 5, 6]\n",
      "3.5\n",
      "3.5\n",
      "1\n",
      "1.8708286933869707\n"
     ]
    }
   ],
   "source": [
    "print(sum(T3))\n",
    "print(len(T3))\n",
    "print(max(T3))\n",
    "print(min(T3))\n",
    "print(sorted(T3))\n",
    "print(mean(T3))\n",
    "print(median(T3))\n",
    "print(mode(T3))\n",
    "print(stdev(T3))\n"
   ]
  },
  {
   "cell_type": "code",
   "execution_count": 178,
   "id": "dcf60e9a",
   "metadata": {},
   "outputs": [
    {
     "data": {
      "text/plain": [
       "2"
      ]
     },
     "execution_count": 178,
     "metadata": {},
     "output_type": "execute_result"
    }
   ],
   "source": [
    "#Accessing\n",
    "T3[1]"
   ]
  },
  {
   "cell_type": "code",
   "execution_count": null,
   "id": "37ba17d9",
   "metadata": {},
   "outputs": [
    {
     "data": {
      "text/plain": [
       "(1, 2)"
      ]
     },
     "execution_count": 32,
     "metadata": {},
     "output_type": "execute_result"
    }
   ],
   "source": [
    "T3[:2]"
   ]
  },
  {
   "cell_type": "code",
   "execution_count": null,
   "id": "a04fccb3",
   "metadata": {},
   "outputs": [
    {
     "data": {
      "text/plain": [
       "(2, 3, 4, 5, 6)"
      ]
     },
     "execution_count": 33,
     "metadata": {},
     "output_type": "execute_result"
    }
   ],
   "source": [
    "T3[1:]"
   ]
  },
  {
   "cell_type": "code",
   "execution_count": null,
   "id": "56bf7567",
   "metadata": {},
   "outputs": [
    {
     "data": {
      "text/plain": [
       "6"
      ]
     },
     "execution_count": 34,
     "metadata": {},
     "output_type": "execute_result"
    }
   ],
   "source": [
    "T3[-1]"
   ]
  },
  {
   "cell_type": "code",
   "execution_count": null,
   "id": "a4688b6d",
   "metadata": {},
   "outputs": [],
   "source": [
    "#Operations\n",
    "\n",
    "#immutable\n",
    "#T3[1]=6# Has no attribute called extend!\n",
    "\n",
    "#Concatenation\n",
    "#T3 = T1+T2\n",
    "#T3 #check T1 and T2 individually"
   ]
  },
  {
   "cell_type": "code",
   "execution_count": null,
   "id": "627af069",
   "metadata": {},
   "outputs": [
    {
     "data": {
      "text/plain": [
       "(1, 2, 3, [5, 6, 5])"
      ]
     },
     "execution_count": 37,
     "metadata": {},
     "output_type": "execute_result"
    }
   ],
   "source": [
    "#Tuples can contain list as an element and the list inside a tuple is mutable\n",
    "T4 = (1,2,3,[5,6])\n",
    "T4[3].append(5)\n",
    "T4"
   ]
  },
  {
   "cell_type": "code",
   "execution_count": null,
   "id": "545605e3",
   "metadata": {},
   "outputs": [
    {
     "data": {
      "text/plain": [
       "([1, 2, 3], [4, 5, 6])"
      ]
     },
     "execution_count": 29,
     "metadata": {},
     "output_type": "execute_result"
    }
   ],
   "source": [
    "l1=[1,2,3]\n",
    "l2 = [4,5,6]\n",
    "z=(l1,l2)\n",
    "z"
   ]
  },
  {
   "cell_type": "code",
   "execution_count": null,
   "id": "ff5c976b",
   "metadata": {},
   "outputs": [
    {
     "data": {
      "text/plain": [
       "tuple"
      ]
     },
     "execution_count": 38,
     "metadata": {},
     "output_type": "execute_result"
    }
   ],
   "source": [
    "a =(\"q\",1,\"c\",5,6,9,10,25,368,52, [4, 1.2, 3])\n",
    "type(a)"
   ]
  },
  {
   "cell_type": "code",
   "execution_count": null,
   "id": "6ffee235",
   "metadata": {},
   "outputs": [
    {
     "data": {
      "text/plain": [
       "(9, 10, 25, 368)"
      ]
     },
     "execution_count": 76,
     "metadata": {},
     "output_type": "execute_result"
    }
   ],
   "source": [
    "a[5:9]"
   ]
  },
  {
   "cell_type": "code",
   "execution_count": null,
   "id": "64ed4722",
   "metadata": {},
   "outputs": [
    {
     "ename": "NameError",
     "evalue": "name 'a' is not defined",
     "output_type": "error",
     "traceback": [
      "\u001b[1;31m---------------------------------------------------------------------------\u001b[0m",
      "\u001b[1;31mNameError\u001b[0m                                 Traceback (most recent call last)",
      "Cell \u001b[1;32mIn[34], line 1\u001b[0m\n\u001b[1;32m----> 1\u001b[0m \u001b[38;5;28msum\u001b[39m(\u001b[43ma\u001b[49m)\n",
      "\u001b[1;31mNameError\u001b[0m: name 'a' is not defined"
     ]
    }
   ],
   "source": [
    "sum(a)"
   ]
  },
  {
   "cell_type": "markdown",
   "id": "e594b265",
   "metadata": {},
   "source": [
    "### **3. Dictionary**\n",
    "Dictionary is used to store the data in a 'KEY:VALUE' pair format. Like a map or hash table in other languages.\n",
    "- Dictionary is mutable but unordered\n",
    "- All the elements are enclosed within flower brackets{}.\n",
    "- Each element is separated by comma\n",
    "- Each element is nothing but a 'KEY:VALUE' pair.\n",
    "- KEY must be a single element and unique\n",
    "- VALUE can be of any type like int, str, float, list, tuple.\n",
    "\n",
    "#### Syntax Example:\n",
    "Dictionary = {Key1:Value1, Key2:Value2, Key3:Value3}"
   ]
  },
  {
   "cell_type": "code",
   "execution_count": 140,
   "id": "cf28df5a",
   "metadata": {},
   "outputs": [
    {
     "data": {
      "text/plain": [
       "{'name': ['John', 'Bhavan'], 'age': [20, 23], 'grade': ['A', 'B']}"
      ]
     },
     "execution_count": 140,
     "metadata": {},
     "output_type": "execute_result"
    }
   ],
   "source": [
    "# Creating a dictionary\n",
    "student_info = {'name': ['John', 'Bhavan'], 'age': [20, 23], 'grade': ['A','B']}\n",
    "student_info"
   ]
  },
  {
   "cell_type": "code",
   "execution_count": 141,
   "id": "36c3bdc0",
   "metadata": {},
   "outputs": [
    {
     "name": "stdout",
     "output_type": "stream",
     "text": [
      "{'name': ['John', 'Bhavan'], 'age': [20, 23], 'grade': ['A', 'B']}\n"
     ]
    }
   ],
   "source": [
    "# Copying the dict\n",
    "new_dict = student_info.copy()\n",
    "print(new_dict)"
   ]
  },
  {
   "cell_type": "code",
   "execution_count": 142,
   "id": "59d95cf4",
   "metadata": {},
   "outputs": [
    {
     "name": "stdout",
     "output_type": "stream",
     "text": [
      "Name: ['John', 'Bhavan'], Age: [20, 23]\n"
     ]
    }
   ],
   "source": [
    "# Accessing values using keys.\n",
    "name = student_info['name']\n",
    "age = student_info['age']\n",
    "print(f\"Name: {name}, Age: {age}\")"
   ]
  },
  {
   "cell_type": "code",
   "execution_count": 143,
   "id": "08f4bde1",
   "metadata": {},
   "outputs": [
    {
     "name": "stdout",
     "output_type": "stream",
     "text": [
      "[20, 23]\n"
     ]
    }
   ],
   "source": [
    "# get method\n",
    "age = new_dict.get('age')\n",
    "print(age)"
   ]
  },
  {
   "cell_type": "code",
   "execution_count": 144,
   "id": "e42726dd",
   "metadata": {},
   "outputs": [
    {
     "name": "stdout",
     "output_type": "stream",
     "text": [
      "dict_items([('name', ['John', 'Bhavan']), ('age', [20, 23]), ('grade', ['A', 'B'])])\n"
     ]
    }
   ],
   "source": [
    "# items method\n",
    "items = new_dict.items()\n",
    "print(items)"
   ]
  },
  {
   "cell_type": "code",
   "execution_count": 145,
   "id": "3f1a9c82",
   "metadata": {},
   "outputs": [
    {
     "name": "stdout",
     "output_type": "stream",
     "text": [
      "name\n",
      "['John', 'Bhavan']\n",
      "age\n",
      "[20, 23]\n",
      "grade\n",
      "['A', 'B']\n"
     ]
    }
   ],
   "source": [
    "for i in new_dict.items():\n",
    "    for j in i:\n",
    "        print(j)"
   ]
  },
  {
   "cell_type": "code",
   "execution_count": 146,
   "id": "cb20fa36",
   "metadata": {},
   "outputs": [
    {
     "name": "stdout",
     "output_type": "stream",
     "text": [
      "dict_keys(['name', 'age', 'grade'])\n"
     ]
    }
   ],
   "source": [
    "# keys method\n",
    "keys = new_dict.keys()\n",
    "print(keys)"
   ]
  },
  {
   "cell_type": "code",
   "execution_count": 147,
   "id": "a05b85b2",
   "metadata": {},
   "outputs": [
    {
     "name": "stdout",
     "output_type": "stream",
     "text": [
      "dict_values([['John', 'Bhavan'], [20, 23], ['A', 'B']])\n"
     ]
    }
   ],
   "source": [
    "# values method\n",
    "values = new_dict.values()\n",
    "print(values)"
   ]
  },
  {
   "cell_type": "code",
   "execution_count": 148,
   "id": "007c55b8",
   "metadata": {},
   "outputs": [
    {
     "name": "stdout",
     "output_type": "stream",
     "text": [
      "{'name': ['John', 'Bhavan'], 'age': [20, 23], 'grade': ['B', 'B']}\n"
     ]
    }
   ],
   "source": [
    "# Modifying the value associated with a key.\n",
    "student_info['grade'][0] = 'B'\n",
    "print(student_info)"
   ]
  },
  {
   "cell_type": "code",
   "execution_count": 149,
   "id": "3794bd4b",
   "metadata": {},
   "outputs": [
    {
     "name": "stdout",
     "output_type": "stream",
     "text": [
      "{'name': ['John', 'Bhavan'], 'age': [20, 23], 'grade': ['B', 'B'], 'city': ['Blore', 'Mumbai']}\n"
     ]
    }
   ],
   "source": [
    "# Using update method to modify a value\n",
    "student_info.update({'city': ['Blore', 'Mumbai']})\n",
    "print(student_info)"
   ]
  },
  {
   "cell_type": "code",
   "execution_count": 150,
   "id": "0233af1f",
   "metadata": {},
   "outputs": [
    {
     "data": {
      "text/plain": [
       "dict_keys(['name', 'age', 'grade', 'city'])"
      ]
     },
     "execution_count": 150,
     "metadata": {},
     "output_type": "execute_result"
    }
   ],
   "source": [
    "student_info.keys()"
   ]
  },
  {
   "cell_type": "code",
   "execution_count": 151,
   "id": "dbe135b9",
   "metadata": {},
   "outputs": [
    {
     "name": "stdout",
     "output_type": "stream",
     "text": [
      "India\n",
      "{'name': ['John', 'Bhavan'], 'age': [20, 23], 'grade': ['B', 'B'], 'city': ['Blore', 'Mumbai'], 'country': 'India'}\n"
     ]
    }
   ],
   "source": [
    "# Using setdefault method\n",
    "country = student_info.setdefault('country', 'India')\n",
    "print(country)\n",
    "print(student_info)"
   ]
  },
  {
   "cell_type": "code",
   "execution_count": 152,
   "id": "16c70842",
   "metadata": {},
   "outputs": [
    {
     "name": "stdout",
     "output_type": "stream",
     "text": [
      "{'name': ['John', 'Bhavan'], 'age': [20, 23], 'grade': ['B', 'B'], 'city': ['Blore', 'Mumbai']}\n"
     ]
    }
   ],
   "source": [
    "# Removing key-value pairs.\n",
    "del student_info['country']\n",
    "print(student_info)"
   ]
  },
  {
   "cell_type": "code",
   "execution_count": 153,
   "id": "5a129f31",
   "metadata": {},
   "outputs": [
    {
     "name": "stdout",
     "output_type": "stream",
     "text": [
      "['B', 'B']\n",
      "{'name': ['John', 'Bhavan'], 'age': [20, 23], 'city': ['Blore', 'Mumbai']}\n"
     ]
    }
   ],
   "source": [
    "# Using pop method to remove a key-value pair\n",
    "popi = student_info.pop('grade')\n",
    "print(popi)\n",
    "print(student_info)"
   ]
  },
  {
   "cell_type": "code",
   "execution_count": 154,
   "id": "88583ae4",
   "metadata": {},
   "outputs": [
    {
     "name": "stdout",
     "output_type": "stream",
     "text": [
      "3\n"
     ]
    }
   ],
   "source": [
    "# Determining the number of key-value pairs in a dictionary.\n",
    "length = len(student_info)\n",
    "print(length)"
   ]
  },
  {
   "cell_type": "code",
   "execution_count": 29,
   "id": "7f2d3919",
   "metadata": {},
   "outputs": [
    {
     "name": "stdout",
     "output_type": "stream",
     "text": [
      "351\n",
      "13.5\n"
     ]
    }
   ],
   "source": [
    "dic = {'A':1,'B':2,'C':3,'D':4,'E':5,'F':6,'G':7,'H':8,'I':9,'J':10,'K':11,'L':12,'M':13,'N':14,'O':15,'P':16,'Q':17,'R':18,'S':19,'T':20,'U':21,'V':22,'W':23,'X':24,'Y':25,'Z':26}\n",
    "print(sum(dic.values()))\n",
    "print(mean(dic.values()))"
   ]
  },
  {
   "cell_type": "code",
   "execution_count": null,
   "id": "31dbd95d",
   "metadata": {},
   "outputs": [
    {
     "name": "stdout",
     "output_type": "stream",
     "text": [
      "{'India': 'Virat Kohli', 'Pakistan': 'Babar Azam', 'Australia': 'Tim Paine', 'South Africa': 'Du Plesis'}\n"
     ]
    }
   ],
   "source": [
    "captains = {}\n",
    "captains[\"India\"] = \"Virat Kohli\"\n",
    "captains[\"Pakistan\"] = \"Babar Azam\"\n",
    "captains[\"Australia\"] = \"Tim Paine\"\n",
    "captains[\"South Africa\"] = \"Du Plesis\"\n",
    "\n",
    "print(captains)"
   ]
  },
  {
   "cell_type": "code",
   "execution_count": null,
   "id": "ce9ab343",
   "metadata": {},
   "outputs": [
    {
     "data": {
      "text/plain": [
       "'Virat Kohli'"
      ]
     },
     "execution_count": 2,
     "metadata": {},
     "output_type": "execute_result"
    }
   ],
   "source": [
    "captains[\"India\"]"
   ]
  },
  {
   "cell_type": "code",
   "execution_count": null,
   "id": "6b95b9a8",
   "metadata": {},
   "outputs": [
    {
     "data": {
      "text/plain": [
       "'Virat Kohli'"
      ]
     },
     "execution_count": 3,
     "metadata": {},
     "output_type": "execute_result"
    }
   ],
   "source": [
    "captains.get(\"India\")"
   ]
  },
  {
   "cell_type": "code",
   "execution_count": null,
   "id": "eaba4fd8",
   "metadata": {},
   "outputs": [
    {
     "name": "stdout",
     "output_type": "stream",
     "text": [
      "Virat Kohli\n"
     ]
    }
   ],
   "source": [
    "print(captains.pop(\"India\"))"
   ]
  },
  {
   "cell_type": "code",
   "execution_count": null,
   "id": "7c889b27",
   "metadata": {},
   "outputs": [
    {
     "data": {
      "text/plain": [
       "{'Pakistan': 'Babar Azam',\n",
       " 'Australia': 'Tim Paine',\n",
       " 'South Africa': 'Du Plesis'}"
      ]
     },
     "execution_count": 5,
     "metadata": {},
     "output_type": "execute_result"
    }
   ],
   "source": [
    "captains"
   ]
  },
  {
   "cell_type": "code",
   "execution_count": null,
   "id": "ed2c8258",
   "metadata": {},
   "outputs": [
    {
     "data": {
      "text/plain": [
       "{'Pakistan': 'Babar Azam',\n",
       " 'Australia': 'Tim Paine',\n",
       " 'South Africa': 'Du Plesis',\n",
       " 'India': 'Rohith Sharma'}"
      ]
     },
     "execution_count": 6,
     "metadata": {},
     "output_type": "execute_result"
    }
   ],
   "source": [
    "#Let's change the captain of India(locally:)\n",
    "captains[\"India\"] = 'Rohith Sharma'\n",
    "captains"
   ]
  },
  {
   "cell_type": "code",
   "execution_count": null,
   "id": "b7cb46de",
   "metadata": {},
   "outputs": [
    {
     "data": {
      "text/plain": [
       "{'Pakistan': 'Babar Azam',\n",
       " 'Australia': 'Tim Paine',\n",
       " 'South Africa': 'Du Plesis',\n",
       " 'India': 'Rohith Sharma',\n",
       " 'England': 'Ben Stokes'}"
      ]
     },
     "execution_count": 7,
     "metadata": {},
     "output_type": "execute_result"
    }
   ],
   "source": [
    "#add new key:value pair\n",
    "captains['England'] = 'Ben Stokes'\n",
    "captains"
   ]
  },
  {
   "cell_type": "code",
   "execution_count": null,
   "id": "c7ce9c15",
   "metadata": {},
   "outputs": [
    {
     "data": {
      "text/plain": [
       "{'Pakistan': 'Babar Azam',\n",
       " 'Australia': 'Tim Paine',\n",
       " 'South Africa': 'Du Plesis',\n",
       " 'India': 'Rohith Sharma',\n",
       " 'England': {'T20': 'Ben Stokes', 'ODI': 'Eoin Morgan', 'Test': 'Joe Root'}}"
      ]
     },
     "execution_count": 8,
     "metadata": {},
     "output_type": "execute_result"
    }
   ],
   "source": [
    "# Nested Dictionary\n",
    "captains['England'] ={'T20':'Ben Stokes','ODI':'Eoin Morgan', 'Test':'Joe Root'}\n",
    "captains"
   ]
  },
  {
   "cell_type": "code",
   "execution_count": null,
   "id": "77cfad8a",
   "metadata": {},
   "outputs": [],
   "source": [
    "captains.update({'India': [('T20', 'Surya Kumar Yadav'), ('ODI', 'Rohith Sharma'), ('Test', 'Rohith Sharma')]})"
   ]
  },
  {
   "cell_type": "code",
   "execution_count": null,
   "id": "50798901",
   "metadata": {},
   "outputs": [
    {
     "name": "stdout",
     "output_type": "stream",
     "text": [
      "{'Pakistan': 'Babar Azam', 'Australia': 'Tim Paine', 'South Africa': 'Du Plesis', 'India': [('T20', 'Surya Kumar Yadav'), ('ODI', 'Rohith Sharma'), ('Test', 'Rohith Sharma')], 'England': {'T20': 'Ben Stokes', 'ODI': 'Eoin Morgan', 'Test': 'Joe Root'}}\n"
     ]
    }
   ],
   "source": [
    "print(captains)"
   ]
  },
  {
   "cell_type": "code",
   "execution_count": null,
   "id": "927c6504",
   "metadata": {},
   "outputs": [
    {
     "data": {
      "text/plain": [
       "'Rohith Sharma'"
      ]
     },
     "execution_count": 11,
     "metadata": {},
     "output_type": "execute_result"
    }
   ],
   "source": [
    "captains['India'][1][1]"
   ]
  },
  {
   "cell_type": "code",
   "execution_count": null,
   "id": "c8cc4174",
   "metadata": {},
   "outputs": [
    {
     "name": "stdout",
     "output_type": "stream",
     "text": [
      "dict_items([('Pakistan', 'Babar Azam'), ('Australia', 'Tim Paine'), ('South Africa', 'Du Plesis'), ('England', {'T20': 'Ben Stokes', 'ODI': 'Eoin Morgan', 'Test': 'Joe Root'}), ('India', [('T20', 'Surya Kumar Yadav'), ('ODI', 'Rohith Sharma'), ('Test', 'Rohith Sharma')])])\n"
     ]
    }
   ],
   "source": [
    "listoftuples = captains.items() #returns a list of tuples containing key-value. Hence, a dictionary can be created using a list of tuples.\n",
    "print(listoftuples)"
   ]
  },
  {
   "cell_type": "code",
   "execution_count": null,
   "id": "2697fb14",
   "metadata": {},
   "outputs": [
    {
     "name": "stdout",
     "output_type": "stream",
     "text": [
      "4\n"
     ]
    }
   ],
   "source": [
    "my_dict = {\"apple\": 2, \"banana\": 4, \"cherry\": 6}\n",
    "print(my_dict.get(\"banana\", 0))"
   ]
  },
  {
   "cell_type": "code",
   "execution_count": null,
   "id": "a38a1f7d",
   "metadata": {},
   "outputs": [
    {
     "name": "stdout",
     "output_type": "stream",
     "text": [
      "12\n"
     ]
    }
   ],
   "source": [
    "my_dict = {\"apple\": 2, \"banana\": 4, \"cherry\": 6}\n",
    "print(sum(my_dict.values()))"
   ]
  },
  {
   "cell_type": "markdown",
   "id": "e088f20b",
   "metadata": {},
   "source": [
    "### **4. Sets**\n",
    "\n",
    "Collection of unordered items/elements.\n",
    "- Elements/items are enclosed within flower brackets{}\n",
    "- Sets are mutable\n",
    "- Each element/item must be unique\n",
    "- Sets remove duplicate values and returns sorted values\n",
    "- unorder"
   ]
  },
  {
   "cell_type": "code",
   "execution_count": 30,
   "id": "2bfc65b6",
   "metadata": {},
   "outputs": [
    {
     "data": {
      "text/plain": [
       "{1, 2, 3, 4, 5, 7}"
      ]
     },
     "execution_count": 30,
     "metadata": {},
     "output_type": "execute_result"
    }
   ],
   "source": [
    "# Creating a set\n",
    "unique_numbers = {1, 2, 3, 4, 5, 1, 2 ,7}\n",
    "unique_numbers"
   ]
  },
  {
   "cell_type": "code",
   "execution_count": 31,
   "id": "9a813e20",
   "metadata": {},
   "outputs": [
    {
     "name": "stdout",
     "output_type": "stream",
     "text": [
      "{1, 2, 3, 4, 5, 7, 8}\n"
     ]
    }
   ],
   "source": [
    "# Adding elements to a set\n",
    "unique_numbers.add(8)\n",
    "print(unique_numbers)"
   ]
  },
  {
   "cell_type": "code",
   "execution_count": 32,
   "id": "c17f74ed",
   "metadata": {},
   "outputs": [
    {
     "name": "stdout",
     "output_type": "stream",
     "text": [
      "{1, 2, 3, 4, 5, 7}\n"
     ]
    }
   ],
   "source": [
    "# Removing elements from a set\n",
    "unique_numbers.remove(8)\n",
    "print(unique_numbers)"
   ]
  },
  {
   "cell_type": "code",
   "execution_count": 33,
   "id": "c0dcdd6a",
   "metadata": {},
   "outputs": [
    {
     "name": "stdout",
     "output_type": "stream",
     "text": [
      "6\n"
     ]
    }
   ],
   "source": [
    "# Determining the number of elements in a set\n",
    "length = len(unique_numbers)\n",
    "print(length)"
   ]
  },
  {
   "cell_type": "code",
   "execution_count": 34,
   "id": "19c4cb38",
   "metadata": {},
   "outputs": [
    {
     "name": "stdout",
     "output_type": "stream",
     "text": [
      "22\n",
      "7\n",
      "1\n",
      "6\n",
      "[1, 2, 3, 4, 5, 7]\n",
      "[7, 5, 4, 3, 2, 1]\n"
     ]
    }
   ],
   "source": [
    "print(sum(unique_numbers))\n",
    "print(max(unique_numbers))\n",
    "print(min(unique_numbers))\n",
    "print(len(unique_numbers))\n",
    "print(sorted(unique_numbers))\n",
    "print(sorted(unique_numbers, reverse=True))"
   ]
  },
  {
   "cell_type": "code",
   "execution_count": null,
   "id": "81dc5102",
   "metadata": {},
   "outputs": [
    {
     "name": "stdout",
     "output_type": "stream",
     "text": [
      "Union: {1, 2, 3, 4, 5}\n",
      "Intersection: {3}\n",
      "Difference: {1, 2}\n"
     ]
    }
   ],
   "source": [
    "# Set operations\n",
    "set1 = {1, 2, 3}\n",
    "set2 = {3, 4, 5}\n",
    "\n",
    "# Set operations like union, intersection, and difference\n",
    "union_set = set1.union(set2)\n",
    "intersection_set = set1.intersection(set2)\n",
    "difference_set = set1.difference(set2)\n",
    "print(\"Union:\", union_set)\n",
    "print(\"Intersection:\", intersection_set)\n",
    "print(\"Difference:\", difference_set)"
   ]
  },
  {
   "cell_type": "code",
   "execution_count": null,
   "id": "048b2469",
   "metadata": {},
   "outputs": [
    {
     "data": {
      "text/plain": [
       "{'Python', 'fun', 'is', 'powerful,', 'versatile,'}"
      ]
     },
     "execution_count": 22,
     "metadata": {},
     "output_type": "execute_result"
    }
   ],
   "source": [
    "# Example: Finding unique words in a text\n",
    "text = \"Python is powerful, Python is versatile, Python is fun\"\n",
    "unique_words = set(text.split(' '))\n",
    "unique_words"
   ]
  },
  {
   "cell_type": "code",
   "execution_count": null,
   "id": "eca3188f",
   "metadata": {},
   "outputs": [
    {
     "data": {
      "text/plain": [
       "{3, 4, 5, 6}"
      ]
     },
     "execution_count": 23,
     "metadata": {},
     "output_type": "execute_result"
    }
   ],
   "source": [
    "set1 = {4,3,5,5,6}\n",
    "set1 "
   ]
  },
  {
   "cell_type": "code",
   "execution_count": null,
   "id": "24af1094",
   "metadata": {},
   "outputs": [
    {
     "data": {
      "text/plain": [
       "{1, 2, 3, 4, 6, 8}"
      ]
     },
     "execution_count": 38,
     "metadata": {},
     "output_type": "execute_result"
    }
   ],
   "source": [
    "a = [1,1,2,6,2,3,8,4]\n",
    "b = set(a)\n",
    "b"
   ]
  },
  {
   "cell_type": "code",
   "execution_count": null,
   "id": "4de0afab",
   "metadata": {},
   "outputs": [
    {
     "data": {
      "text/plain": [
       "{1, 2, 5, 6, 8}"
      ]
     },
     "execution_count": 39,
     "metadata": {},
     "output_type": "execute_result"
    }
   ],
   "source": [
    "a = (1,2,2,6,5,8,5,5)\n",
    "d = set(a)\n",
    "d"
   ]
  },
  {
   "cell_type": "markdown",
   "id": "44a9e7b8",
   "metadata": {},
   "source": [
    "## **Non-Primitive Data type conversion**"
   ]
  },
  {
   "cell_type": "markdown",
   "id": "77b1b308",
   "metadata": {},
   "source": [
    "A nested Data structure is a collection of data structure in one another like a list of lists, a list of tuples, a tuple of tuples..."
   ]
  },
  {
   "cell_type": "code",
   "execution_count": null,
   "id": "298185b9",
   "metadata": {},
   "outputs": [
    {
     "name": "stdout",
     "output_type": "stream",
     "text": [
      "(1, 2, 3, 4, 5)\n"
     ]
    },
    {
     "data": {
      "text/plain": [
       "tuple"
      ]
     },
     "execution_count": 25,
     "metadata": {},
     "output_type": "execute_result"
    }
   ],
   "source": [
    "# List to Tuple (and Vice Versa):\n",
    "# From List to Tuple:\n",
    "my_list = [1, 2, 3, 4, 5] \n",
    "my_tuple = tuple(my_list)\n",
    "print(my_tuple)\n",
    "type(my_tuple)"
   ]
  },
  {
   "cell_type": "code",
   "execution_count": null,
   "id": "e1b0600a",
   "metadata": {},
   "outputs": [
    {
     "name": "stdout",
     "output_type": "stream",
     "text": [
      "{1, 2, 3, 4, 5}\n"
     ]
    }
   ],
   "source": [
    "# From List to Set:\n",
    "my_list = [1, 2, 2, 3, 4, 4, 5]\n",
    "my_set = set(my_list)\n",
    "print(my_set)"
   ]
  },
  {
   "cell_type": "code",
   "execution_count": null,
   "id": "97c542ef",
   "metadata": {},
   "outputs": [
    {
     "name": "stdout",
     "output_type": "stream",
     "text": [
      "[1, 2, 3, 4, 5]\n"
     ]
    }
   ],
   "source": [
    "# Set to List (and Vice Versa)\n",
    "# From Set to List:\n",
    "my_set = {1, 2, 3, 4, 5}\n",
    "my_list = list(my_set)\n",
    "print(my_list)"
   ]
  },
  {
   "cell_type": "code",
   "execution_count": null,
   "id": "79405f59",
   "metadata": {},
   "outputs": [
    {
     "name": "stdout",
     "output_type": "stream",
     "text": [
      "[1, 2, 3, 4, 5]\n"
     ]
    },
    {
     "data": {
      "text/plain": [
       "list"
      ]
     },
     "execution_count": 26,
     "metadata": {},
     "output_type": "execute_result"
    }
   ],
   "source": [
    "# From Tuple to List:\n",
    "my_tuple = (1, 2, 3, 4, 5)\n",
    "my_list = list(my_tuple)\n",
    "print(my_list)\n",
    "type(my_list)"
   ]
  },
  {
   "cell_type": "code",
   "execution_count": null,
   "id": "2473897c",
   "metadata": {},
   "outputs": [
    {
     "name": "stdout",
     "output_type": "stream",
     "text": [
      "{1, 2, 3, 4, 5}\n"
     ]
    }
   ],
   "source": [
    "# tuple to Set (and Vice Versa):\n",
    "# From tuple to Set:\n",
    "my_list = (1, 2, 2, 3, 4, 4, 5)\n",
    "my_set = set(my_list)\n",
    "print(my_set)"
   ]
  },
  {
   "cell_type": "code",
   "execution_count": null,
   "id": "1da41295",
   "metadata": {},
   "outputs": [
    {
     "name": "stdout",
     "output_type": "stream",
     "text": [
      "(1, 2, 3, 4, 5)\n"
     ]
    }
   ],
   "source": [
    "# From Set to Tuple:\n",
    "my_set = {1, 2, 3, 4, 5}\n",
    "my_list = tuple(my_set)\n",
    "print(my_list)"
   ]
  },
  {
   "cell_type": "code",
   "execution_count": null,
   "id": "192fcd96",
   "metadata": {},
   "outputs": [
    {
     "name": "stdout",
     "output_type": "stream",
     "text": [
      "{'apple': 5, 'banana': 2, 'orange': 3}\n"
     ]
    }
   ],
   "source": [
    "# Tuple to Dictionary:\n",
    "my_tuple = ((\"apple\", 5), (\"banana\", 2), (\"orange\", 3))\n",
    "my_dict = dict(my_tuple)\n",
    "print(my_dict)"
   ]
  },
  {
   "cell_type": "code",
   "execution_count": null,
   "id": "e8391f44",
   "metadata": {},
   "outputs": [
    {
     "name": "stdout",
     "output_type": "stream",
     "text": [
      "{'apple': 5, 'banana': 2, 'orange': 3}\n"
     ]
    }
   ],
   "source": [
    "# List of Tuples to Dictionary:\n",
    "my_list_of_tuples = [(\"apple\", 5), (\"banana\", 2), (\"orange\", 3)]\n",
    "my_dict = dict(my_list_of_tuples)\n",
    "print(my_dict)"
   ]
  },
  {
   "cell_type": "code",
   "execution_count": null,
   "id": "5f749143",
   "metadata": {},
   "outputs": [
    {
     "name": "stdout",
     "output_type": "stream",
     "text": [
      "[('apple', 5), ('banana', 2), ('orange', 3)]\n"
     ]
    }
   ],
   "source": [
    "# Dictionary to List of Tuples\n",
    "my_dict = {\"apple\": 5, \"banana\": 2, \"orange\": 3}\n",
    "my_list_of_tuples = list(my_dict.items())\n",
    "print(my_list_of_tuples)"
   ]
  },
  {
   "cell_type": "code",
   "execution_count": null,
   "id": "8a2b4ef9",
   "metadata": {},
   "outputs": [
    {
     "data": {
      "text/plain": [
       "{1: 2, 2: 6}"
      ]
     },
     "execution_count": 44,
     "metadata": {},
     "output_type": "execute_result"
    }
   ],
   "source": [
    "v = [[1,2],[2,6]]\n",
    "z = dict(v)\n",
    "z"
   ]
  },
  {
   "cell_type": "code",
   "execution_count": null,
   "id": "35308f3f",
   "metadata": {},
   "outputs": [
    {
     "data": {
      "text/plain": [
       "(12, 2, 5, 6, 9, 7, 8, 6)"
      ]
     },
     "execution_count": 46,
     "metadata": {},
     "output_type": "execute_result"
    }
   ],
   "source": [
    "a  = [12,2,5,6,9,7,8,6]\n",
    "b = tuple(a)\n",
    "b"
   ]
  },
  {
   "cell_type": "code",
   "execution_count": null,
   "id": "10b0d334",
   "metadata": {},
   "outputs": [
    {
     "data": {
      "text/plain": [
       "[2, 5, 6, 9, 7, 8, 6]"
      ]
     },
     "execution_count": 47,
     "metadata": {},
     "output_type": "execute_result"
    }
   ],
   "source": [
    "a = (2,5,6,9,7,8,6)\n",
    "c = list(a)\n",
    "c"
   ]
  },
  {
   "cell_type": "code",
   "execution_count": null,
   "id": "f9df797e",
   "metadata": {},
   "outputs": [
    {
     "data": {
      "text/plain": [
       "tuple"
      ]
     },
     "execution_count": 49,
     "metadata": {},
     "output_type": "execute_result"
    }
   ],
   "source": [
    "a = [1,2,3,4]\n",
    "\n",
    "# List to Tuple\n",
    "b=tuple(a)\n",
    "type(b)"
   ]
  },
  {
   "cell_type": "code",
   "execution_count": null,
   "id": "07116d4c",
   "metadata": {},
   "outputs": [
    {
     "data": {
      "text/plain": [
       "list"
      ]
     },
     "execution_count": 50,
     "metadata": {},
     "output_type": "execute_result"
    }
   ],
   "source": [
    "#tuple to list\n",
    "c = list(b)\n",
    "type(c)"
   ]
  },
  {
   "cell_type": "markdown",
   "id": "33b813c1",
   "metadata": {},
   "source": [
    "Exercise: \n",
    "- Try converting a Dictionary alone to a list and tuple\n",
    "- Try conversion between data structures"
   ]
  },
  {
   "cell_type": "markdown",
   "id": "2a37acab",
   "metadata": {},
   "source": [
    "## **List Comprehension**\n",
    "<code>new_list = [expression for item in iterable if condition]</code>"
   ]
  },
  {
   "cell_type": "code",
   "execution_count": null,
   "id": "bdc15919",
   "metadata": {},
   "outputs": [
    {
     "name": "stdout",
     "output_type": "stream",
     "text": [
      "[1, 4, 9, 16, 25, 36, 49, 64, 81, 100]\n"
     ]
    }
   ],
   "source": [
    "squared = [x**2 for x in range(1,11)]\n",
    "print(squared)  "
   ]
  },
  {
   "cell_type": "code",
   "execution_count": null,
   "id": "49a94062",
   "metadata": {},
   "outputs": [
    {
     "name": "stdout",
     "output_type": "stream",
     "text": [
      "[2, 4]\n"
     ]
    }
   ],
   "source": [
    "numbers = [1, 2, 3, 4, 5]\n",
    "evens = [x for x in numbers if x % 2 == 0]\n",
    "print(evens)"
   ]
  },
  {
   "cell_type": "code",
   "execution_count": null,
   "id": "9cbd2c6b",
   "metadata": {},
   "outputs": [
    {
     "name": "stdout",
     "output_type": "stream",
     "text": [
      "[(1, 4), (1, 5), (1, 6), (2, 4), (2, 5), (2, 6), (3, 4), (3, 5), (3, 6)]\n"
     ]
    }
   ],
   "source": [
    "list1 = [1, 2, 3]\n",
    "list2 = [4, 5, 6]\n",
    "combined = [(x, y) for x in list1 for y in list2]\n",
    "print(combined)"
   ]
  },
  {
   "cell_type": "code",
   "execution_count": null,
   "id": "caceac96",
   "metadata": {},
   "outputs": [
    {
     "name": "stdout",
     "output_type": "stream",
     "text": [
      "[1, 2, 3, 4, 5, 6, 7, 8, 9]\n"
     ]
    }
   ],
   "source": [
    "matrix = [[1, 2, 3], [4, 5, 6], [7, 8, 9]]\n",
    "flattened = [x for row in matrix for x in row]\n",
    "print(flattened) "
   ]
  },
  {
   "cell_type": "code",
   "execution_count": null,
   "id": "29ca56a8",
   "metadata": {},
   "outputs": [
    {
     "name": "stdout",
     "output_type": "stream",
     "text": [
      "['Odd', 'Even', 'Odd', 'Even', 'Odd', 'Even', 'Odd', 'Even', 'Odd', 'Even']\n"
     ]
    }
   ],
   "source": [
    "categorized = [\"Even\" if x % 2 == 0 else \"Odd\" for x in range(1,11)]\n",
    "print(categorized)"
   ]
  },
  {
   "cell_type": "code",
   "execution_count": null,
   "id": "8f069982",
   "metadata": {},
   "outputs": [
    {
     "name": "stdout",
     "output_type": "stream",
     "text": [
      "['Odd', 'Even', 'Odd', 'Even', 'Odd', 'Even', 'Odd', 'Even', 'Odd', 'Even']\n"
     ]
    }
   ],
   "source": [
    "categorized = [\"Even\" if x % 2 == 0 else \"Odd\" if x % 2 != 0 else \"Other\" for x in range(1,11)]\n",
    "print(categorized)"
   ]
  }
 ],
 "metadata": {
  "kernelspec": {
   "display_name": "base",
   "language": "python",
   "name": "python3"
  },
  "language_info": {
   "codemirror_mode": {
    "name": "ipython",
    "version": 3
   },
   "file_extension": ".py",
   "mimetype": "text/x-python",
   "name": "python",
   "nbconvert_exporter": "python",
   "pygments_lexer": "ipython3",
   "version": "3.12.2"
  },
  "vscode": {
   "interpreter": {
    "hash": "37d99e6d4983f94fd607d31c1d056b3b7a9bea88684ae051e8fd79233b8b8e0c"
   }
  }
 },
 "nbformat": 4,
 "nbformat_minor": 5
}
