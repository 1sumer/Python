{
 "cells": [
  {
   "cell_type": "markdown",
   "metadata": {},
   "source": [
    "## **Genetrators**\n",
    "\n",
    "Generators are a simple and powerfull tool for creating iterators. They are written like reguler functions but use a yield statement whenever they want to return data. Each time Yield is called, the generator function's state is saved, and it can be resumed later"
   ]
  },
  {
   "cell_type": "code",
   "execution_count": 1,
   "metadata": {},
   "outputs": [
    {
     "name": "stdout",
     "output_type": "stream",
     "text": [
      "1\n",
      "2\n",
      "3\n",
      "4\n"
     ]
    }
   ],
   "source": [
    "def my_geneerator(start, end):\n",
    "    current = start\n",
    "    while current < end:\n",
    "        yield current\n",
    "        current += 1\n",
    "\n",
    "gen = my_geneerator(1, 5)\n",
    "\n",
    "for number in gen:\n",
    "    print(number)"
   ]
  },
  {
   "cell_type": "markdown",
   "metadata": {},
   "source": [
    "**Using Generator expression**\n",
    "\n",
    "Generator expression provide a concise way to create generator. They are similar to list comprehension but use parentheses instead of square brackets."
   ]
  },
  {
   "cell_type": "code",
   "execution_count": 4,
   "metadata": {},
   "outputs": [
    {
     "name": "stdout",
     "output_type": "stream",
     "text": [
      "[0, 1, 4, 9, 16]\n"
     ]
    }
   ],
   "source": [
    "my_list = [x * x for x in range(5)]\n",
    "print(my_list)"
   ]
  },
  {
   "cell_type": "code",
   "execution_count": 5,
   "metadata": {},
   "outputs": [
    {
     "name": "stdout",
     "output_type": "stream",
     "text": [
      "0\n",
      "1\n",
      "4\n",
      "9\n",
      "16\n"
     ]
    }
   ],
   "source": [
    "my_list = (x * x for x in range(5))\n",
    "\n",
    "for number in my_list:\n",
    "    print(number)"
   ]
  },
  {
   "cell_type": "markdown",
   "metadata": {},
   "source": [
    "**Advantages**\n",
    "\n",
    "- Memort Efficience : Generator produce items one at a time and only when required, which is more memory efficient compared to lists that load all values into memory. \n",
    "- Lazy Evaluation : Generator evaluated lazily(on-the-fly), Which makes them ideal for working with large datasets or streams of data\n",
    "\n",
    "**Using Generator for File Reading**"
   ]
  },
  {
   "cell_type": "code",
   "execution_count": 7,
   "metadata": {},
   "outputs": [
    {
     "name": "stdout",
     "output_type": "stream",
     "text": [
      "Hello How Are You\n",
      "D:\\Python\\Python Basics\\9.File_Handling\\myfile.txt\n",
      "D:\\Python\\Python Basics\\9.File_Handling\\myfile.txt1\n",
      "D:\\Python\\Python Basics\\9.File_Handling\\myfile.txt\n",
      "D:\\Python\\Python Basics\\9.File_Handling\\myfile.txt2\n",
      "D:\\Python\\Python Basics\\9.File_Handling\\myfile.txt3\n"
     ]
    }
   ],
   "source": [
    "def read_large_file(file_path):\n",
    "    with open(file_path, 'r') as file:\n",
    "        for line in file:\n",
    "            yield line.strip()\n",
    "\n",
    "for line in read_large_file(r'D:\\Python\\Python Basics\\9.File_Handling\\myfile.txt'):\n",
    "    print(line)"
   ]
  }
 ],
 "metadata": {
  "kernelspec": {
   "display_name": "Python 3",
   "language": "python",
   "name": "python3"
  },
  "language_info": {
   "codemirror_mode": {
    "name": "ipython",
    "version": 3
   },
   "file_extension": ".py",
   "mimetype": "text/x-python",
   "name": "python",
   "nbconvert_exporter": "python",
   "pygments_lexer": "ipython3",
   "version": "3.12.2"
  }
 },
 "nbformat": 4,
 "nbformat_minor": 2
}
