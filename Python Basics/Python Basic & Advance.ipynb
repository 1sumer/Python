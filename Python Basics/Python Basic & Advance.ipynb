{
 "cells": [
  {
   "cell_type": "code",
   "execution_count": 1,
   "metadata": {},
   "outputs": [
    {
     "name": "stdout",
     "output_type": "stream",
     "text": [
      "True\n",
      "False\n"
     ]
    }
   ],
   "source": [
    "# 1.Implement a Python script that checks if two strings are anagrams of each other (i.e., contain the same characters with the same frequency).\n",
    "def are_anagrams(str1, str2):\n",
    "    return sorted(str1) == sorted(str2)\n",
    "\n",
    "# Example usage:\n",
    "print(are_anagrams(\"listen\", \"silent\"))  \n",
    "print(are_anagrams(\"hello\", \"world\"))    "
   ]
  },
  {
   "cell_type": "code",
   "execution_count": 2,
   "metadata": {},
   "outputs": [
    {
     "name": "stdout",
     "output_type": "stream",
     "text": [
      "Invalid operation\n"
     ]
    }
   ],
   "source": [
    "def calculator():\n",
    "    x = float(input(\"Enter first number: \"))\n",
    "    y = float(input(\"Enter second number: \"))\n",
    "    operation = input(\"Enter operation (+, -, *, /): \")\n",
    "\n",
    "    if operation == '+':\n",
    "        result = x + y\n",
    "    elif operation == '-':\n",
    "        result = x - y\n",
    "    elif operation == '*':\n",
    "        result = x * y\n",
    "    elif operation == '/':\n",
    "        if y != 0:\n",
    "            result = x / y\n",
    "        else:\n",
    "            return \"Error: Division by zero\"\n",
    "    else:\n",
    "        return \"Invalid operation\"\n",
    "\n",
    "    return f\"The result is: {result}\"\n",
    "\n",
    "print(calculator())\n"
   ]
  },
  {
   "cell_type": "code",
   "execution_count": 3,
   "metadata": {},
   "outputs": [
    {
     "name": "stdout",
     "output_type": "stream",
     "text": [
      "[225, 144]\n"
     ]
    }
   ],
   "source": [
    "# Write a Python function that takes a list of integers and returns a new list with each element squared, but only if it is greater than 10.\n",
    "def square_greater_than_10(lst):\n",
    "    return [x ** 2 for x in lst if x > 10]\n",
    "\n",
    "# Example usage:\n",
    "print(square_greater_than_10([5, 15, 3, 12])) "
   ]
  },
  {
   "cell_type": "code",
   "execution_count": 4,
   "metadata": {},
   "outputs": [
    {
     "name": "stdout",
     "output_type": "stream",
     "text": [
      "True\n",
      "False\n"
     ]
    }
   ],
   "source": [
    "# Implement a program that checks if a given number is a power of two using bitwise operators.\n",
    "def is_power_of_two(n):\n",
    "    return n > 0 and (n & (n - 1)) == 0\n",
    "\n",
    "# Example usage:\n",
    "print(is_power_of_two(16)) \n",
    "print(is_power_of_two(18))  "
   ]
  },
  {
   "cell_type": "code",
   "execution_count": 5,
   "metadata": {},
   "outputs": [
    {
     "name": "stdout",
     "output_type": "stream",
     "text": [
      "{'a': 10, 'b': 50, 'c': 40}\n"
     ]
    }
   ],
   "source": [
    "# Write a Python function that merges two dictionaries by adding values for common keys. If the key is present in both dictionaries, add their values together.\n",
    "def merge_dicts(dict1, dict2):\n",
    "    merged = dict1.copy()\n",
    "    for key, value in dict2.items():\n",
    "        if key in merged:\n",
    "            merged[key] += value\n",
    "        else:\n",
    "            merged[key] = value\n",
    "    return merged\n",
    "\n",
    "# Example usage:\n",
    "dict1 = {'a': 10, 'b': 20}\n",
    "dict2 = {'b': 30, 'c': 40}\n",
    "print(merge_dicts(dict1, dict2))  # {'a': 10, 'b': 50, 'c': 40}"
   ]
  },
  {
   "cell_type": "code",
   "execution_count": 6,
   "metadata": {},
   "outputs": [
    {
     "name": "stdout",
     "output_type": "stream",
     "text": [
      "(1, 2, 3)\n"
     ]
    }
   ],
   "source": [
    "# Write a Python program that takes three integers as input and prints them in non-decreasing order without using built-in sorting methods.\n",
    "def sort_three_numbers(a, b, c):\n",
    "    if a > b:\n",
    "        a, b = b, a\n",
    "    if b > c:\n",
    "        b, c = c, b\n",
    "    if a > b:\n",
    "        a, b = b, a\n",
    "    return a, b, c\n",
    "\n",
    "# Example usage:\n",
    "print(sort_three_numbers(3, 1, 2))"
   ]
  },
  {
   "cell_type": "code",
   "execution_count": 7,
   "metadata": {},
   "outputs": [
    {
     "name": "stdout",
     "output_type": "stream",
     "text": [
      "0 1 1 2 3 5 8 13 21 34 "
     ]
    }
   ],
   "source": [
    "# Write a Python function that takes a positive integer n and prints the Fibonacci sequence up to the nth term using a for loop.\n",
    "def fibonacci(n):\n",
    "    a, b = 0, 1\n",
    "    for _ in range(n):\n",
    "        print(a, end=' ')\n",
    "        a, b = b, a + b\n",
    "\n",
    "# Example usage:\n",
    "fibonacci(10)\n"
   ]
  },
  {
   "cell_type": "code",
   "execution_count": 8,
   "metadata": {},
   "outputs": [
    {
     "name": "stdout",
     "output_type": "stream",
     "text": [
      "Error: Division by zero\n"
     ]
    }
   ],
   "source": [
    "# Write a Python function that performs division of two numbers. If the denominator is zero, catch the exception and print an error message.\n",
    "def safe_division(x, y):\n",
    "    try:\n",
    "        return x / y\n",
    "    except ZeroDivisionError:\n",
    "        return \"Error: Division by zero\"\n",
    "\n",
    "# Example usage:\n",
    "print(safe_division(10, 0))"
   ]
  },
  {
   "cell_type": "code",
   "execution_count": 9,
   "metadata": {},
   "outputs": [
    {
     "name": "stdout",
     "output_type": "stream",
     "text": [
      "['12-05-1995', '30-08-1999']\n"
     ]
    }
   ],
   "source": [
    "# Write a Python program that extracts all dates in the format \"DD-MM-YYYY\" from a given text string using regular expressions.\n",
    "import re\n",
    "\n",
    "def extract_dates(text):\n",
    "    pattern = r'\\b\\d{2}-\\d{2}-\\d{4}\\b'\n",
    "    return re.findall(pattern, text)\n",
    "\n",
    "# Example usage:\n",
    "text = \"John was born on 12-05-1995 and Mary on 30-08-1999.\"\n",
    "print(extract_dates(text))"
   ]
  },
  {
   "cell_type": "code",
   "execution_count": 10,
   "metadata": {},
   "outputs": [
    {
     "name": "stdout",
     "output_type": "stream",
     "text": [
      "60000\n",
      "2\n"
     ]
    }
   ],
   "source": [
    "# Write a Python class Employee with attributes name, salary, and department. Implement a method to calculate the yearly salary and a class method to count the total number of employees created.\n",
    "class Employee:\n",
    "    count = 0\n",
    "\n",
    "    def __init__(self, name, salary, department):\n",
    "        self.name = name\n",
    "        self.salary = salary\n",
    "        self.department = department\n",
    "        Employee.count += 1\n",
    "\n",
    "    def yearly_salary(self):\n",
    "        return self.salary * 12\n",
    "\n",
    "    @classmethod\n",
    "    def total_employees(cls):\n",
    "        return cls.count\n",
    "\n",
    "# Example usage:\n",
    "emp1 = Employee('Alice', 5000, 'HR')\n",
    "emp2 = Employee('Bob', 6000, 'IT')\n",
    "\n",
    "print(emp1.yearly_salary())\n",
    "print(Employee.total_employees())  "
   ]
  },
  {
   "cell_type": "code",
   "execution_count": 11,
   "metadata": {},
   "outputs": [],
   "source": [
    "# Writing to a file\n",
    "with open('example.txt', 'w') as file:\n",
    "    file.write(\"Hello, World!\\n\")\n",
    "    file.write(\"This is a new text file.\\n\")\n",
    "\n",
    "# Reading from the file\n",
    "with open('example.txt', 'r') as file:\n",
    "    print(\"File content after writing:\")\n",
    "    print(file.read())\n"
   ]
  },
  {
   "cell_type": "code",
   "execution_count": null,
   "metadata": {},
   "outputs": [],
   "source": []
  }
 ],
 "metadata": {
  "kernelspec": {
   "display_name": "Python 3",
   "language": "python",
   "name": "python3"
  },
  "language_info": {
   "codemirror_mode": {
    "name": "ipython",
    "version": 3
   },
   "file_extension": ".py",
   "mimetype": "text/x-python",
   "name": "python",
   "nbconvert_exporter": "python",
   "pygments_lexer": "ipython3",
   "version": "3.12.2"
  }
 },
 "nbformat": 4,
 "nbformat_minor": 2
}
