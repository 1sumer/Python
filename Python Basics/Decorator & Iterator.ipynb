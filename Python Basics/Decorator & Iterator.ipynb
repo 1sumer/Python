{
 "cells": [
  {
   "cell_type": "markdown",
   "metadata": {},
   "source": [
    "## **Decorator**"
   ]
  },
  {
   "cell_type": "markdown",
   "metadata": {},
   "source": [
    "Decorators in Python are a powerful and flexible way to modify the behavior of functions or methods. They are a type of higher order function, meaning they take one function as an argument & return another function as a result.Decorators are often used to add functionality to existing functions or methods in a clean, readable, and reusable way."
   ]
  },
  {
   "cell_type": "markdown",
   "metadata": {},
   "source": [
    "#### **How Decorators work**\n",
    "\n",
    "Adecorator is a function that takes another function as an argument & extends its behavior without explicitly modififying it. The syntax of using decorators is the <code>@decorator_name</code> syntax placed above the function definition."
   ]
  },
  {
   "cell_type": "markdown",
   "metadata": {},
   "source": [
    "#### **Creating & Using Decorators**\n",
    "##### **Function Decorators**\n",
    "\n",
    "Function decorators modify or extend the behavior of functions. Here's a simple example of a function decorator that logs the execution time of the decorated function."
   ]
  },
  {
   "cell_type": "code",
   "execution_count": 6,
   "metadata": {},
   "outputs": [
    {
     "name": "stdout",
     "output_type": "stream",
     "text": [
      "Something is happening before the function is called.\n",
      "Hello!\n",
      "Something is happening after the function is called.\n"
     ]
    }
   ],
   "source": [
    "def my_decorator(func):\n",
    "    def wrapper():\n",
    "        print(\"Something is happening before the function is called.\")\n",
    "        func()\n",
    "        print(\"Something is happening after the function is called.\")\n",
    "    return wrapper\n",
    "\n",
    "@my_decorator\n",
    "def say_hello():\n",
    "    print(\"Hello!\")\n",
    "\n",
    "say_hello()"
   ]
  },
  {
   "cell_type": "markdown",
   "metadata": {},
   "source": [
    "##### **Method Decorators**\n",
    "Method decorators are similar to function decorators but they work with instance methods. Here's an example that logs method calls:"
   ]
  },
  {
   "cell_type": "code",
   "execution_count": 22,
   "metadata": {},
   "outputs": [
    {
     "name": "stdout",
     "output_type": "stream",
     "text": [
      "Calling method display_value of <__main__.MyClass object at 0x0000021E15F68470>\n",
      "Value: 42\n"
     ]
    }
   ],
   "source": [
    "def method_logger(func):\n",
    "    def wrapper(self, *args, **kwargs):\n",
    "        print(f\"Calling method {func.__name__} of {self}\")\n",
    "        return func(self, *args, **kwargs)\n",
    "    return wrapper\n",
    "\n",
    "class MyClass:\n",
    "    def __init__(self, value):\n",
    "        self.value = value\n",
    "\n",
    "    @method_logger\n",
    "    def display_value(self):\n",
    "        print(f\"Value: {self.value}\")\n",
    "\n",
    "obj = MyClass(42)\n",
    "obj.display_value()"
   ]
  },
  {
   "cell_type": "markdown",
   "metadata": {},
   "source": [
    "#### **Decorator with Arguments**\n",
    "\n",
    "Sometime, you may need to pass arguments to the decorated function. You can do this by defining *args & **kwargs in the function"
   ]
  },
  {
   "cell_type": "code",
   "execution_count": 8,
   "metadata": {},
   "outputs": [
    {
     "name": "stdout",
     "output_type": "stream",
     "text": [
      "Something is happening before the function is called.\n",
      "Hello, Sameer!\n",
      "Something is happening after the function is called.\n"
     ]
    }
   ],
   "source": [
    "def my_decorator(func):\n",
    "    def wrapper(*arge, **kwargs):\n",
    "        print(\"Something is happening before the function is called.\")\n",
    "        result = func(*arge, **kwargs)\n",
    "        print(\"Something is happening after the function is called.\")\n",
    "        return result\n",
    "    return wrapper\n",
    "\n",
    "@my_decorator\n",
    "def say_hello(name):\n",
    "    print(f\"Hello, {name}!\")\n",
    "\n",
    "say_hello('Sameer')"
   ]
  },
  {
   "cell_type": "markdown",
   "metadata": {},
   "source": [
    "#### **Decorator with Return Values**"
   ]
  },
  {
   "cell_type": "code",
   "execution_count": 11,
   "metadata": {},
   "outputs": [
    {
     "name": "stdout",
     "output_type": "stream",
     "text": [
      "Adding Two Number.\n",
      "Sum of the Values 15.\n"
     ]
    },
    {
     "data": {
      "text/plain": [
       "15"
      ]
     },
     "execution_count": 11,
     "metadata": {},
     "output_type": "execute_result"
    }
   ],
   "source": [
    "def my_decorator(func):\n",
    "    def wrapper(*arge, **kwargs):\n",
    "        print(\"Adding Two Number.\")\n",
    "        result = func(*arge, **kwargs)\n",
    "        print(f\"Sum of the Values {result}.\")\n",
    "        return result\n",
    "    return wrapper\n",
    "\n",
    "@my_decorator\n",
    "def say_hello(a,b):\n",
    "    return a + b\n",
    "\n",
    "say_hello(7,8)"
   ]
  },
  {
   "cell_type": "code",
   "execution_count": 10,
   "metadata": {},
   "outputs": [
    {
     "name": "stdout",
     "output_type": "stream",
     "text": [
      "Adding Two Number.\n"
     ]
    },
    {
     "data": {
      "text/plain": [
       "15"
      ]
     },
     "execution_count": 10,
     "metadata": {},
     "output_type": "execute_result"
    }
   ],
   "source": [
    "def my_decorator(func):\n",
    "    def wrapper(*arge, **kwargs):\n",
    "        print(\"Adding Two Number.\")\n",
    "        return func(*arge, **kwargs)\n",
    "    return wrapper\n",
    "\n",
    "@my_decorator\n",
    "def say_hello(a,b):\n",
    "    return a + b\n",
    "\n",
    "say_hello(7,8)"
   ]
  },
  {
   "cell_type": "markdown",
   "metadata": {},
   "source": [
    "#### **Using Multiple Decorators**"
   ]
  },
  {
   "cell_type": "code",
   "execution_count": 16,
   "metadata": {},
   "outputs": [
    {
     "name": "stdout",
     "output_type": "stream",
     "text": [
      "Adding Two Number.\n",
      "3\n",
      "Subtracting Two Number.\n"
     ]
    },
    {
     "data": {
      "text/plain": [
       "2"
      ]
     },
     "execution_count": 16,
     "metadata": {},
     "output_type": "execute_result"
    }
   ],
   "source": [
    "def my_decorator1(func):\n",
    "    def wrapper(*arge, **kwargs):\n",
    "        print(\"Adding Two Number.\")\n",
    "        return func(*arge, **kwargs)\n",
    "    return wrapper\n",
    "\n",
    "def my_decorator2(func):\n",
    "    def wrapper(*arge, **kwargs):\n",
    "        print(\"Subtracting Two Number.\")\n",
    "        return func(*arge, **kwargs)\n",
    "    return wrapper\n",
    "\n",
    "@my_decorator1\n",
    "def add(a, b):\n",
    "    result = a + b\n",
    "    print(result)\n",
    "\n",
    "@my_decorator2\n",
    "def sub(a, b):\n",
    "    return a - b\n",
    "\n",
    "add(1, 2)\n",
    "sub(3, 1)"
   ]
  },
  {
   "cell_type": "markdown",
   "metadata": {},
   "source": [
    "#### **Class-Based Decorators**\n",
    "\n",
    "##### **Class Decorators**\n",
    "- Decorators can also be implemented as class by defining the __call__ method, which makes the class instances callable.\n",
    "- Class decorators modify or extend classes. Here's an example that adds a new method to a class:"
   ]
  },
  {
   "cell_type": "code",
   "execution_count": 17,
   "metadata": {},
   "outputs": [
    {
     "name": "stdout",
     "output_type": "stream",
     "text": [
      "Before the function is called.\n",
      "Hello, Python!\n",
      "After the function is called.\n"
     ]
    }
   ],
   "source": [
    "class MyDecorator:\n",
    "    def __init__(self, function):\n",
    "        self.function = function\n",
    "\n",
    "    def __call__(self, *args, **kwargs):\n",
    "        print(\"Before the function is called.\")\n",
    "        self.function(*args, **kwargs)\n",
    "        print(\"After the function is called.\")\n",
    "\n",
    "@MyDecorator\n",
    "def say_hello(name):\n",
    "    print(f\"Hello, {name}!\")\n",
    "\n",
    "say_hello(\"Python\")\n"
   ]
  },
  {
   "cell_type": "markdown",
   "metadata": {},
   "source": [
    "##### **Preserving Function Metadata with functools.wraps**\n",
    "- Using functools.wraps helps to preserve the original function's metadata."
   ]
  },
  {
   "cell_type": "code",
   "execution_count": 23,
   "metadata": {},
   "outputs": [
    {
     "name": "stdout",
     "output_type": "stream",
     "text": [
      "my_function\n",
      "Original function\n"
     ]
    }
   ],
   "source": [
    "from functools import wraps\n",
    "\n",
    "def my_decorator(func):\n",
    "    @wraps(func)\n",
    "    def wrapper(*args, **kwargs):\n",
    "        \"\"\"Wrapper function\"\"\"\n",
    "        print(\"Calling decorated function\")\n",
    "        return func(*args, **kwargs)\n",
    "    return wrapper\n",
    "\n",
    "@my_decorator\n",
    "def my_function():\n",
    "    \"\"\"Original function\"\"\"\n",
    "    print(\"Hello from my_function\")\n",
    "\n",
    "print(my_function.__name__) \n",
    "print(my_function.__doc__)   "
   ]
  },
  {
   "cell_type": "markdown",
   "metadata": {},
   "source": [
    "#### **Practical Use Cases for Decorators**"
   ]
  },
  {
   "cell_type": "code",
   "execution_count": null,
   "metadata": {},
   "outputs": [],
   "source": [
    "#Logging Decorator:\n",
    "from functools import wraps\n",
    "\n",
    "def log_execution(func):\n",
    "    @wraps(func)\n",
    "    def wrapper(*args, **kwargs):\n",
    "        print(f\"Executing {func.__name__}\")\n",
    "        result = func(*args, **kwargs)\n",
    "        print(f\"Finished {func.__name__}\")\n",
    "        return result\n",
    "    return wrapper\n",
    "\n",
    "@log_execution\n",
    "def say_hello():\n",
    "    print(\"Hello!\")\n",
    "\n",
    "say_hello()"
   ]
  },
  {
   "cell_type": "code",
   "execution_count": 19,
   "metadata": {},
   "outputs": [
    {
     "name": "stdout",
     "output_type": "stream",
     "text": [
      "9227465\n"
     ]
    }
   ],
   "source": [
    "#Memoization Decorator:\n",
    "def memoize(func):\n",
    "    cache = {}\n",
    "    @wraps(func)\n",
    "    def wrapper(*args):\n",
    "        if args not in cache:\n",
    "            cache[args] = func(*args)\n",
    "        return cache[args]\n",
    "    return wrapper\n",
    "\n",
    "@memoize\n",
    "def fibonacci(n):\n",
    "    if n in (0, 1):\n",
    "        return n\n",
    "    return fibonacci(n - 1) + fibonacci(n - 2)\n",
    "\n",
    "print(fibonacci(35))"
   ]
  },
  {
   "cell_type": "code",
   "execution_count": 21,
   "metadata": {},
   "outputs": [
    {
     "name": "stdout",
     "output_type": "stream",
     "text": [
      "Function complete\n",
      "slow_function executed in 2.0008656978607178 seconds\n"
     ]
    }
   ],
   "source": [
    "#Instrumentation Decorator:\n",
    "import time\n",
    "\n",
    "def time_execution(func):\n",
    "    @wraps(func)\n",
    "    def wrapper(*args, **kwargs):\n",
    "        start_time = time.time()\n",
    "        result = func(*args, **kwargs)\n",
    "        end_time = time.time()\n",
    "        print(f\"{func.__name__} executed in {end_time - start_time} seconds\")\n",
    "        return result\n",
    "    return wrapper\n",
    "\n",
    "@time_execution\n",
    "def slow_function():\n",
    "    time.sleep(2)\n",
    "    print(\"Function complete\")\n",
    "\n",
    "slow_function()"
   ]
  },
  {
   "cell_type": "markdown",
   "metadata": {},
   "source": [
    "### **Iterators**\n",
    "\n",
    "An iterator is an object that contains a countable number of values & can be iterated upon, meaning you can traverse throught all the values. In Python, an iterator must implement two special method, __iter__() and __next__().\n",
    "\n",
    "**Creating an Itrator**\n",
    "\n",
    "1. Define a class with __iter__() and __next__() method:"
   ]
  },
  {
   "cell_type": "code",
   "execution_count": 1,
   "metadata": {},
   "outputs": [
    {
     "name": "stdout",
     "output_type": "stream",
     "text": [
      "1\n",
      "2\n",
      "3\n",
      "4\n",
      "5\n",
      "6\n",
      "7\n",
      "8\n",
      "9\n",
      "10\n"
     ]
    }
   ],
   "source": [
    "class MyIterator:\n",
    "    def __init__(self, start, end):\n",
    "        self.current = start\n",
    "        self.end = end\n",
    "\n",
    "    def __iter__(self):\n",
    "        return self\n",
    "    \n",
    "    def __next__(self):\n",
    "        if self.current <= self.end:\n",
    "            self.current += 1\n",
    "            result = self.current - 1\n",
    "            return result\n",
    "        else:\n",
    "            raise StopIteration\n",
    "\n",
    "my_iterator = MyIterator(1, 10)\n",
    "\n",
    "for number in my_iterator:\n",
    "    print(number)"
   ]
  },
  {
   "cell_type": "markdown",
   "metadata": {},
   "source": [
    "2. Using the built-in iter() and next() functions:"
   ]
  },
  {
   "cell_type": "code",
   "execution_count": 3,
   "metadata": {},
   "outputs": [
    {
     "name": "stdout",
     "output_type": "stream",
     "text": [
      "1\n",
      "2\n"
     ]
    }
   ],
   "source": [
    "my_list = [1,2,3,4,5,6]\n",
    "my_iterator = iter(my_list)\n",
    "\n",
    "print(next(my_iterator))\n",
    "print(next(my_iterator))"
   ]
  },
  {
   "cell_type": "markdown",
   "metadata": {},
   "source": []
  }
 ],
 "metadata": {
  "kernelspec": {
   "display_name": "Python 3",
   "language": "python",
   "name": "python3"
  },
  "language_info": {
   "codemirror_mode": {
    "name": "ipython",
    "version": 3
   },
   "file_extension": ".py",
   "mimetype": "text/x-python",
   "name": "python",
   "nbconvert_exporter": "python",
   "pygments_lexer": "ipython3",
   "version": "3.12.2"
  }
 },
 "nbformat": 4,
 "nbformat_minor": 2
}
